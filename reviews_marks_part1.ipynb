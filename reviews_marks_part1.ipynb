{
 "cells": [
  {
   "cell_type": "markdown",
   "metadata": {
    "id": "EixpmwQ5C5LL"
   },
   "source": [
    "# Обработка отзывов о мобильных телефонах"
   ]
  },
  {
   "cell_type": "markdown",
   "metadata": {
    "id": "Aor7-W-9C5LQ"
   },
   "source": [
    "Дано: датасет с русскоязычными отзывами о мобильных телефонах с выставленным рейтингом от 1 до 5.\n",
    "Задача – обучить любую модель регрессии (или классификации, если решите таким путём пойти) из пакетов scikit, XGBoost, LightGBM, CatBoost.\n",
    "Необходимая метрика:\n",
    "1.\tСо звёздочкой (дополнительный балл) – MAE <= 0.5\n",
    "2.\tМинимальное допустимое значение – МАЕ <= 1.0\n"
   ]
  },
  {
   "cell_type": "markdown",
   "metadata": {
    "id": "vNRlBYD7C5LR"
   },
   "source": [
    "# Предварительная обработка текстов"
   ]
  },
  {
   "cell_type": "markdown",
   "metadata": {},
   "source": [
    "## Установка библиотек"
   ]
  },
  {
   "cell_type": "code",
   "execution_count": 1,
   "metadata": {},
   "outputs": [
    {
     "name": "stdout",
     "output_type": "stream",
     "text": [
      "Requirement already satisfied: transformers in c:\\users\\term\\anaconda3\\envs\\nlpenv\\lib\\site-packages (4.44.0)\n",
      "Requirement already satisfied: filelock in c:\\users\\term\\anaconda3\\envs\\nlpenv\\lib\\site-packages (from transformers) (3.13.1)\n",
      "Requirement already satisfied: huggingface-hub<1.0,>=0.23.2 in c:\\users\\term\\anaconda3\\envs\\nlpenv\\lib\\site-packages (from transformers) (0.24.5)\n",
      "Requirement already satisfied: numpy>=1.17 in c:\\users\\term\\anaconda3\\envs\\nlpenv\\lib\\site-packages (from transformers) (1.23.5)\n",
      "Requirement already satisfied: packaging>=20.0 in c:\\users\\term\\anaconda3\\envs\\nlpenv\\lib\\site-packages (from transformers) (24.1)\n",
      "Requirement already satisfied: pyyaml>=5.1 in c:\\users\\term\\anaconda3\\envs\\nlpenv\\lib\\site-packages (from transformers) (6.0.1)\n",
      "Requirement already satisfied: regex!=2019.12.17 in c:\\users\\term\\anaconda3\\envs\\nlpenv\\lib\\site-packages (from transformers) (2023.10.3)\n",
      "Requirement already satisfied: requests in c:\\users\\term\\anaconda3\\envs\\nlpenv\\lib\\site-packages (from transformers) (2.32.3)\n",
      "Requirement already satisfied: safetensors>=0.4.1 in c:\\users\\term\\anaconda3\\envs\\nlpenv\\lib\\site-packages (from transformers) (0.4.4)\n",
      "Requirement already satisfied: tokenizers<0.20,>=0.19 in c:\\users\\term\\anaconda3\\envs\\nlpenv\\lib\\site-packages (from transformers) (0.19.1)\n",
      "Requirement already satisfied: tqdm>=4.27 in c:\\users\\term\\anaconda3\\envs\\nlpenv\\lib\\site-packages (from transformers) (4.66.4)\n",
      "Requirement already satisfied: fsspec>=2023.5.0 in c:\\users\\term\\anaconda3\\envs\\nlpenv\\lib\\site-packages (from huggingface-hub<1.0,>=0.23.2->transformers) (2024.6.1)\n",
      "Requirement already satisfied: typing-extensions>=3.7.4.3 in c:\\users\\term\\anaconda3\\envs\\nlpenv\\lib\\site-packages (from huggingface-hub<1.0,>=0.23.2->transformers) (4.12.2)\n",
      "Requirement already satisfied: colorama in c:\\users\\term\\anaconda3\\envs\\nlpenv\\lib\\site-packages (from tqdm>=4.27->transformers) (0.4.6)\n",
      "Requirement already satisfied: charset-normalizer<4,>=2 in c:\\users\\term\\anaconda3\\envs\\nlpenv\\lib\\site-packages (from requests->transformers) (3.3.2)\n",
      "Requirement already satisfied: idna<4,>=2.5 in c:\\users\\term\\anaconda3\\envs\\nlpenv\\lib\\site-packages (from requests->transformers) (3.7)\n",
      "Requirement already satisfied: urllib3<3,>=1.21.1 in c:\\users\\term\\anaconda3\\envs\\nlpenv\\lib\\site-packages (from requests->transformers) (2.2.2)\n",
      "Requirement already satisfied: certifi>=2017.4.17 in c:\\users\\term\\anaconda3\\envs\\nlpenv\\lib\\site-packages (from requests->transformers) (2024.7.4)\n"
     ]
    }
   ],
   "source": [
    "#!pip install --upgrade pandas\n",
    "#!pip install nltk\n",
    "!pip install transformers"
   ]
  },
  {
   "cell_type": "code",
   "execution_count": 2,
   "metadata": {},
   "outputs": [
    {
     "name": "stderr",
     "output_type": "stream",
     "text": [
      "[nltk_data] Downloading package punkt to\n",
      "[nltk_data]     C:\\Users\\term\\AppData\\Roaming\\nltk_data...\n",
      "[nltk_data]   Package punkt is already up-to-date!\n",
      "[nltk_data] Downloading package stopwords to\n",
      "[nltk_data]     C:\\Users\\term\\AppData\\Roaming\\nltk_data...\n",
      "[nltk_data]   Package stopwords is already up-to-date!\n"
     ]
    }
   ],
   "source": [
    "import pandas as pd\n",
    "import numpy as np\n",
    "from sklearn.metrics import *\n",
    "from sklearn.model_selection import train_test_split\n",
    "from sklearn.dummy import DummyClassifier\n",
    "from sklearn.linear_model import LinearRegression, LogisticRegression\n",
    "from catboost import CatBoostRegressor, CatBoostClassifier, Pool\n",
    "from catboost import EFstrType\n",
    "from sklearn.pipeline import Pipeline\n",
    "import optuna\n",
    "from sklearn.ensemble import RandomForestRegressor\n",
    "from sklearn.compose import make_column_transformer\n",
    "from sklearn.metrics import mean_squared_error, mean_absolute_error, r2_score, root_mean_squared_error\n",
    "from math import sqrt\n",
    "from sklearn.model_selection import cross_val_predict, cross_val_score, train_test_split\n",
    "from sklearn.pipeline import make_pipeline\n",
    "from sklearn.preprocessing import OneHotEncoder\n",
    "import warnings\n",
    "import matplotlib.pyplot as plt\n",
    "from sklearn.feature_extraction.text import CountVectorizer\n",
    "from nltk import ngrams\n",
    "from sklearn.feature_extraction.text import TfidfVectorizer\n",
    "from sklearn.decomposition import PCA\n",
    "import nltk\n",
    "import pickle\n",
    "nltk.download('punkt')\n",
    "from nltk import tokenize\n",
    "from nltk.tokenize import word_tokenize\n",
    "nltk.download('stopwords')\n",
    "from nltk.corpus import stopwords\n",
    "from pymystem3 import Mystem\n",
    "mystem_analyzer = Mystem()\n",
    "import re\n",
    "from string import punctuation\n",
    "from collections import Counter\n",
    "from tqdm import tqdm\n",
    "from pymorphy3 import MorphAnalyzer\n",
    "from transformers import AutoModelForSeq2SeqLM, T5TokenizerFast"
   ]
  },
  {
   "cell_type": "markdown",
   "metadata": {},
   "source": [
    "## Константы"
   ]
  },
  {
   "cell_type": "code",
   "execution_count": 3,
   "metadata": {},
   "outputs": [],
   "source": [
    "LOCAL_PATH = 'D:/_DS/Edu/NLP_1_flow/Homework_1/'\n",
    "RANDOM_STATE = RS = 654321\n",
    "TEST_SIZE = .25\n",
    "# выделение в тексте\n",
    "BOLD = \"\\033[1m\"\n",
    "ITALIC = \"\\033[3m\"\n",
    "END = \"\\033[0m\"\n",
    "CR = '\\n'"
   ]
  },
  {
   "cell_type": "markdown",
   "metadata": {},
   "source": [
    "## Вспомогательные функции"
   ]
  },
  {
   "cell_type": "code",
   "execution_count": 4,
   "metadata": {},
   "outputs": [],
   "source": [
    "# Функция, выводящая основную информацию о датафрейме\n",
    "def about_df(data, size=5):\n",
    "    print (BOLD + 'Изучим исходные данные' + END)\n",
    "    print(data.info())\n",
    "    print(BOLD + CR + f'Вывод первых {size} строк датафрейма:' + END)\n",
    "    display(data.head(size))\n",
    "    print(BOLD + CR + 'Вывод основной информации о датафрейме:' + END)\n",
    "    print(CR + 'Количество строк: ', data.shape[0])\n",
    "    print('Количество столбцов: ', data.shape[1])\n",
    "    categ_col = data.columns[data.dtypes == 'object']\n",
    "    num_col = data.columns[data.dtypes != 'object']\n",
    "    print('Количество категориальных признаков: ', len(categ_col))\n",
    "    print('Количество числовых признаков: ', len(num_col))\n",
    "    missed_cells = data.isna().sum().sum()/(data.shape[0]*(data.shape[1]-1))\n",
    "    missed_rows = sum(data.isna().sum(axis = 1)>0)/data.shape[0]\n",
    "    print (BOLD + CR + 'Проверка пропусков'+ END)\n",
    "    print ('Количество пропусков: {:.0f}'.format(data.isnull().sum().sum()))\n",
    "    print ('Доля пропусков: {:.1%}'.format(missed_cells)+ END)\n",
    "    print ('Доля строк содержащих пропуски: {:.1%}'.format(missed_rows))\n",
    "    print(BOLD +  CR + 'Описание количественных данных:'+ END)\n",
    "    display(pd.concat([pd.DataFrame(np.array([data[num_col].isna().sum(), data[num_col].isna().mean()*100]).T,\n",
    "                                columns=['кол-во пропусков', 'доля пропусков, %'], index=data[num_col].columns), data.describe().T], axis=1))\n",
    "    print(BOLD + CR + 'Описание категориальных данных:'+ '\\033[0m')\n",
    "    display(pd.concat([pd.DataFrame(np.array([data[categ_col].isna().sum(), data[categ_col].isna().mean()*100]).T,\n",
    "                                columns=['кол-во пропусков', 'доля пропусков, %'], index=data[categ_col].columns), data.describe(include='object').T], axis=1))\n",
    "    ## Проверим дубликаты\n",
    "    print (BOLD +  CR + 'Проверка на дубликаты'+ END)\n",
    "    print('Количество полных дубликатов: ', data.duplicated().sum())\n",
    "        "
   ]
  },
  {
   "cell_type": "markdown",
   "metadata": {},
   "source": [
    "## Чтение данных"
   ]
  },
  {
   "cell_type": "markdown",
   "metadata": {},
   "source": [
    "Наши данные выгружены в текстовом виде. Посмотрим на них:"
   ]
  },
  {
   "cell_type": "code",
   "execution_count": 5,
   "metadata": {},
   "outputs": [],
   "source": [
    "with open(LOCAL_PATH + 'data.csv', 'r', encoding='utf-8')as f:\n",
    "    comments_text = f.read()"
   ]
  },
  {
   "cell_type": "code",
   "execution_count": 6,
   "metadata": {},
   "outputs": [
    {
     "data": {
      "text/plain": [
       "'Review,Rating\\n3D Touch просто восхитительная вещь! Заряд держит целый день. В розовом цвете смотрится очень необычно. Touch ID очень быстрый и удобный. Всем советую этот телефон!,5\\n\"Отключается при температуре близкой к нулю, непонятно ведет себя батарея\",4\\n\"В Apple окончательно решили не заморачиваться, делая незначительные изменения в телефоне, выдают эти изменения за инновации. На этот раз скопировали не только функционал, но и дизайн. Цена и была неадекватно завышена, а после скачка курса так и говорить об этом не приходится. Многие скажут, что и HD разрешения будет достаточно для такой диагонали, может так оно и есть, но аппарат позиционируется, как топовое решение, а в итоге получаем банальную экономию производителя, ведь что произойдёт с временем работы, если увеличить до FHD?! 1 гб оперативки тоже прошлый век! И не надо рассказывать сказки про великолепную оптимизацию iOS, чудес на свете не бывает, этого мало. Те кто скажет, что их не волнуют технические характеристики смартфона, главное чтоб он хорошо работал, телефон за 5000 будет так же хорошо работать, а отдавая (выбрасывая) 55000 нужно думать головой и понимать, что этих денег данный телефон просто непросто не может стоить! Про удобство использования стоит отметить, что больший по размерам Note 4 гораздо лучше лежит в руке и пользоваться им сподручнее.\",3\\n\"Постарался наиболее ёмко и коротко описать все основные плюсы и минусы. Большим мне аппарат не показался, размеры - что надо. Внешний вид, как для меня, так 5-'"
      ]
     },
     "execution_count": 6,
     "metadata": {},
     "output_type": "execute_result"
    }
   ],
   "source": [
    "comments_text[:1500]"
   ]
  },
  {
   "cell_type": "markdown",
   "metadata": {},
   "source": [
    "Так, разделитель - запятая, 2 колонки, отзыв и рейтинг."
   ]
  },
  {
   "cell_type": "code",
   "execution_count": 7,
   "metadata": {
    "executionInfo": {
     "elapsed": 824,
     "status": "ok",
     "timestamp": 1628179264940,
     "user": {
      "displayName": "Артур Сапрыкин",
      "photoUrl": "",
      "userId": "16185371824692237125"
     },
     "user_tz": -180
    },
    "id": "lHlASKj6C5LT"
   },
   "outputs": [],
   "source": [
    "data = pd.read_csv(LOCAL_PATH + 'data.csv', sep=',')"
   ]
  },
  {
   "cell_type": "code",
   "execution_count": 8,
   "metadata": {},
   "outputs": [
    {
     "data": {
      "text/html": [
       "<div>\n",
       "<style scoped>\n",
       "    .dataframe tbody tr th:only-of-type {\n",
       "        vertical-align: middle;\n",
       "    }\n",
       "\n",
       "    .dataframe tbody tr th {\n",
       "        vertical-align: top;\n",
       "    }\n",
       "\n",
       "    .dataframe thead th {\n",
       "        text-align: right;\n",
       "    }\n",
       "</style>\n",
       "<table border=\"1\" class=\"dataframe\">\n",
       "  <thead>\n",
       "    <tr style=\"text-align: right;\">\n",
       "      <th></th>\n",
       "      <th>Review</th>\n",
       "      <th>Rating</th>\n",
       "    </tr>\n",
       "  </thead>\n",
       "  <tbody>\n",
       "    <tr>\n",
       "      <th>0</th>\n",
       "      <td>3D Touch просто восхитительная вещь! Заряд дер...</td>\n",
       "      <td>5</td>\n",
       "    </tr>\n",
       "    <tr>\n",
       "      <th>1</th>\n",
       "      <td>Отключается при температуре близкой к нулю, не...</td>\n",
       "      <td>4</td>\n",
       "    </tr>\n",
       "    <tr>\n",
       "      <th>2</th>\n",
       "      <td>В Apple окончательно решили не заморачиваться,...</td>\n",
       "      <td>3</td>\n",
       "    </tr>\n",
       "    <tr>\n",
       "      <th>3</th>\n",
       "      <td>Постарался наиболее ёмко и коротко описать все...</td>\n",
       "      <td>4</td>\n",
       "    </tr>\n",
       "    <tr>\n",
       "      <th>4</th>\n",
       "      <td>Достойный телефон. Пользоваться одно удовольст...</td>\n",
       "      <td>5</td>\n",
       "    </tr>\n",
       "  </tbody>\n",
       "</table>\n",
       "</div>"
      ],
      "text/plain": [
       "                                              Review  Rating\n",
       "0  3D Touch просто восхитительная вещь! Заряд дер...       5\n",
       "1  Отключается при температуре близкой к нулю, не...       4\n",
       "2  В Apple окончательно решили не заморачиваться,...       3\n",
       "3  Постарался наиболее ёмко и коротко описать все...       4\n",
       "4  Достойный телефон. Пользоваться одно удовольст...       5"
      ]
     },
     "execution_count": 8,
     "metadata": {},
     "output_type": "execute_result"
    }
   ],
   "source": [
    "data.head()"
   ]
  },
  {
   "cell_type": "code",
   "execution_count": 9,
   "metadata": {
    "colab": {
     "base_uri": "https://localhost:8080/",
     "height": 204
    },
    "executionInfo": {
     "elapsed": 20,
     "status": "ok",
     "timestamp": 1628179264940,
     "user": {
      "displayName": "Артур Сапрыкин",
      "photoUrl": "",
      "userId": "16185371824692237125"
     },
     "user_tz": -180
    },
    "id": "NvOciPynC5LU",
    "outputId": "da881d87-4cf7-4359-e70a-aa9e2a64b62f",
    "scrolled": true
   },
   "outputs": [
    {
     "data": {
      "text/html": [
       "<div>\n",
       "<style scoped>\n",
       "    .dataframe tbody tr th:only-of-type {\n",
       "        vertical-align: middle;\n",
       "    }\n",
       "\n",
       "    .dataframe tbody tr th {\n",
       "        vertical-align: top;\n",
       "    }\n",
       "\n",
       "    .dataframe thead th {\n",
       "        text-align: right;\n",
       "    }\n",
       "</style>\n",
       "<table border=\"1\" class=\"dataframe\">\n",
       "  <thead>\n",
       "    <tr style=\"text-align: right;\">\n",
       "      <th></th>\n",
       "      <th>Review</th>\n",
       "      <th>Rating</th>\n",
       "    </tr>\n",
       "  </thead>\n",
       "  <tbody>\n",
       "    <tr>\n",
       "      <th>458428</th>\n",
       "      <td>удобный, всё работает отлично, звонит, играет,...</td>\n",
       "      <td>5</td>\n",
       "    </tr>\n",
       "    <tr>\n",
       "      <th>458429</th>\n",
       "      <td>прошло больше года, притензий нет, при моей на...</td>\n",
       "      <td>5</td>\n",
       "    </tr>\n",
       "    <tr>\n",
       "      <th>458430</th>\n",
       "      <td>мой первый аппарат на андроиде. На данный моме...</td>\n",
       "      <td>5</td>\n",
       "    </tr>\n",
       "    <tr>\n",
       "      <th>458431</th>\n",
       "      <td>Разбил iphone и не было желания покупать новый...</td>\n",
       "      <td>5</td>\n",
       "    </tr>\n",
       "    <tr>\n",
       "      <th>458432</th>\n",
       "      <td>Очень доволен покупкой и всем советую...</td>\n",
       "      <td>5</td>\n",
       "    </tr>\n",
       "  </tbody>\n",
       "</table>\n",
       "</div>"
      ],
      "text/plain": [
       "                                                   Review  Rating\n",
       "458428  удобный, всё работает отлично, звонит, играет,...       5\n",
       "458429  прошло больше года, притензий нет, при моей на...       5\n",
       "458430  мой первый аппарат на андроиде. На данный моме...       5\n",
       "458431  Разбил iphone и не было желания покупать новый...       5\n",
       "458432           Очень доволен покупкой и всем советую...       5"
      ]
     },
     "execution_count": 9,
     "metadata": {},
     "output_type": "execute_result"
    }
   ],
   "source": [
    "data.tail()"
   ]
  },
  {
   "cell_type": "code",
   "execution_count": 10,
   "metadata": {},
   "outputs": [
    {
     "name": "stdout",
     "output_type": "stream",
     "text": [
      "\u001b[1mИзучим исходные данные\u001b[0m\n",
      "<class 'pandas.core.frame.DataFrame'>\n",
      "RangeIndex: 458433 entries, 0 to 458432\n",
      "Data columns (total 2 columns):\n",
      " #   Column  Non-Null Count   Dtype \n",
      "---  ------  --------------   ----- \n",
      " 0   Review  457837 non-null  object\n",
      " 1   Rating  458433 non-null  int64 \n",
      "dtypes: int64(1), object(1)\n",
      "memory usage: 7.0+ MB\n",
      "None\n",
      "\u001b[1m\n",
      "Вывод первых 5 строк датафрейма:\u001b[0m\n"
     ]
    },
    {
     "data": {
      "text/html": [
       "<div>\n",
       "<style scoped>\n",
       "    .dataframe tbody tr th:only-of-type {\n",
       "        vertical-align: middle;\n",
       "    }\n",
       "\n",
       "    .dataframe tbody tr th {\n",
       "        vertical-align: top;\n",
       "    }\n",
       "\n",
       "    .dataframe thead th {\n",
       "        text-align: right;\n",
       "    }\n",
       "</style>\n",
       "<table border=\"1\" class=\"dataframe\">\n",
       "  <thead>\n",
       "    <tr style=\"text-align: right;\">\n",
       "      <th></th>\n",
       "      <th>Review</th>\n",
       "      <th>Rating</th>\n",
       "    </tr>\n",
       "  </thead>\n",
       "  <tbody>\n",
       "    <tr>\n",
       "      <th>0</th>\n",
       "      <td>3D Touch просто восхитительная вещь! Заряд дер...</td>\n",
       "      <td>5</td>\n",
       "    </tr>\n",
       "    <tr>\n",
       "      <th>1</th>\n",
       "      <td>Отключается при температуре близкой к нулю, не...</td>\n",
       "      <td>4</td>\n",
       "    </tr>\n",
       "    <tr>\n",
       "      <th>2</th>\n",
       "      <td>В Apple окончательно решили не заморачиваться,...</td>\n",
       "      <td>3</td>\n",
       "    </tr>\n",
       "    <tr>\n",
       "      <th>3</th>\n",
       "      <td>Постарался наиболее ёмко и коротко описать все...</td>\n",
       "      <td>4</td>\n",
       "    </tr>\n",
       "    <tr>\n",
       "      <th>4</th>\n",
       "      <td>Достойный телефон. Пользоваться одно удовольст...</td>\n",
       "      <td>5</td>\n",
       "    </tr>\n",
       "  </tbody>\n",
       "</table>\n",
       "</div>"
      ],
      "text/plain": [
       "                                              Review  Rating\n",
       "0  3D Touch просто восхитительная вещь! Заряд дер...       5\n",
       "1  Отключается при температуре близкой к нулю, не...       4\n",
       "2  В Apple окончательно решили не заморачиваться,...       3\n",
       "3  Постарался наиболее ёмко и коротко описать все...       4\n",
       "4  Достойный телефон. Пользоваться одно удовольст...       5"
      ]
     },
     "metadata": {},
     "output_type": "display_data"
    },
    {
     "name": "stdout",
     "output_type": "stream",
     "text": [
      "\u001b[1m\n",
      "Вывод основной информации о датафрейме:\u001b[0m\n",
      "\n",
      "Количество строк:  458433\n",
      "Количество столбцов:  2\n",
      "Количество категориальных признаков:  1\n",
      "Количество числовых признаков:  1\n",
      "\u001b[1m\n",
      "Проверка пропусков\u001b[0m\n",
      "Количество пропусков: 596\n",
      "Доля пропусков: 0.1%\u001b[0m\n",
      "Доля строк содержащих пропуски: 0.1%\n",
      "\u001b[1m\n",
      "Описание количественных данных:\u001b[0m\n"
     ]
    },
    {
     "data": {
      "text/html": [
       "<div>\n",
       "<style scoped>\n",
       "    .dataframe tbody tr th:only-of-type {\n",
       "        vertical-align: middle;\n",
       "    }\n",
       "\n",
       "    .dataframe tbody tr th {\n",
       "        vertical-align: top;\n",
       "    }\n",
       "\n",
       "    .dataframe thead th {\n",
       "        text-align: right;\n",
       "    }\n",
       "</style>\n",
       "<table border=\"1\" class=\"dataframe\">\n",
       "  <thead>\n",
       "    <tr style=\"text-align: right;\">\n",
       "      <th></th>\n",
       "      <th>кол-во пропусков</th>\n",
       "      <th>доля пропусков, %</th>\n",
       "      <th>count</th>\n",
       "      <th>mean</th>\n",
       "      <th>std</th>\n",
       "      <th>min</th>\n",
       "      <th>25%</th>\n",
       "      <th>50%</th>\n",
       "      <th>75%</th>\n",
       "      <th>max</th>\n",
       "    </tr>\n",
       "  </thead>\n",
       "  <tbody>\n",
       "    <tr>\n",
       "      <th>Rating</th>\n",
       "      <td>0.0</td>\n",
       "      <td>0.0</td>\n",
       "      <td>458433.0</td>\n",
       "      <td>4.000853</td>\n",
       "      <td>1.266496</td>\n",
       "      <td>0.0</td>\n",
       "      <td>3.0</td>\n",
       "      <td>4.0</td>\n",
       "      <td>5.0</td>\n",
       "      <td>9.0</td>\n",
       "    </tr>\n",
       "  </tbody>\n",
       "</table>\n",
       "</div>"
      ],
      "text/plain": [
       "        кол-во пропусков  доля пропусков, %     count      mean       std  \\\n",
       "Rating               0.0                0.0  458433.0  4.000853  1.266496   \n",
       "\n",
       "        min  25%  50%  75%  max  \n",
       "Rating  0.0  3.0  4.0  5.0  9.0  "
      ]
     },
     "metadata": {},
     "output_type": "display_data"
    },
    {
     "name": "stdout",
     "output_type": "stream",
     "text": [
      "\u001b[1m\n",
      "Описание категориальных данных:\u001b[0m\n"
     ]
    },
    {
     "data": {
      "text/html": [
       "<div>\n",
       "<style scoped>\n",
       "    .dataframe tbody tr th:only-of-type {\n",
       "        vertical-align: middle;\n",
       "    }\n",
       "\n",
       "    .dataframe tbody tr th {\n",
       "        vertical-align: top;\n",
       "    }\n",
       "\n",
       "    .dataframe thead th {\n",
       "        text-align: right;\n",
       "    }\n",
       "</style>\n",
       "<table border=\"1\" class=\"dataframe\">\n",
       "  <thead>\n",
       "    <tr style=\"text-align: right;\">\n",
       "      <th></th>\n",
       "      <th>кол-во пропусков</th>\n",
       "      <th>доля пропусков, %</th>\n",
       "      <th>count</th>\n",
       "      <th>unique</th>\n",
       "      <th>top</th>\n",
       "      <th>freq</th>\n",
       "    </tr>\n",
       "  </thead>\n",
       "  <tbody>\n",
       "    <tr>\n",
       "      <th>Review</th>\n",
       "      <td>596.0</td>\n",
       "      <td>0.130008</td>\n",
       "      <td>457837</td>\n",
       "      <td>320031</td>\n",
       "      <td>Отличный телефон</td>\n",
       "      <td>114</td>\n",
       "    </tr>\n",
       "  </tbody>\n",
       "</table>\n",
       "</div>"
      ],
      "text/plain": [
       "        кол-во пропусков  доля пропусков, %   count  unique               top  \\\n",
       "Review             596.0           0.130008  457837  320031  Отличный телефон   \n",
       "\n",
       "       freq  \n",
       "Review  114  "
      ]
     },
     "metadata": {},
     "output_type": "display_data"
    },
    {
     "name": "stdout",
     "output_type": "stream",
     "text": [
      "\u001b[1m\n",
      "Проверка на дубликаты\u001b[0m\n",
      "Количество полных дубликатов:  137327\n"
     ]
    }
   ],
   "source": [
    "about_df(data)"
   ]
  },
  {
   "cell_type": "markdown",
   "metadata": {},
   "source": [
    "У нас хорошо заполненный датасет с небольшим количеством пропусков, тем не менее пропуски есть в текстовой части отзыва и такие отзывы нам не годятся для модели. Дропнем"
   ]
  },
  {
   "cell_type": "code",
   "execution_count": 11,
   "metadata": {},
   "outputs": [],
   "source": [
    "data = data.dropna().reset_index(drop = True)"
   ]
  },
  {
   "cell_type": "markdown",
   "metadata": {},
   "source": [
    "Проверка на дубликаты показала 137327 полных дубликатов. Нужно посмотреть."
   ]
  },
  {
   "cell_type": "code",
   "execution_count": 12,
   "metadata": {
    "scrolled": true
   },
   "outputs": [
    {
     "data": {
      "text/html": [
       "<div>\n",
       "<style scoped>\n",
       "    .dataframe tbody tr th:only-of-type {\n",
       "        vertical-align: middle;\n",
       "    }\n",
       "\n",
       "    .dataframe tbody tr th {\n",
       "        vertical-align: top;\n",
       "    }\n",
       "\n",
       "    .dataframe thead th {\n",
       "        text-align: right;\n",
       "    }\n",
       "</style>\n",
       "<table border=\"1\" class=\"dataframe\">\n",
       "  <thead>\n",
       "    <tr style=\"text-align: right;\">\n",
       "      <th></th>\n",
       "      <th>Review</th>\n",
       "      <th>Rating</th>\n",
       "    </tr>\n",
       "  </thead>\n",
       "  <tbody>\n",
       "    <tr>\n",
       "      <th>343</th>\n",
       "      <td>Покупал 6-ку в интернет магазине, перед этими ...</td>\n",
       "      <td>4</td>\n",
       "    </tr>\n",
       "    <tr>\n",
       "      <th>354</th>\n",
       "      <td>Довольно долго сопротивлялся смартфонам. Да и ...</td>\n",
       "      <td>5</td>\n",
       "    </tr>\n",
       "    <tr>\n",
       "      <th>358</th>\n",
       "      <td>Всем заядлым \"яблочникам\" хочу сказать,что чув...</td>\n",
       "      <td>4</td>\n",
       "    </tr>\n",
       "    <tr>\n",
       "      <th>359</th>\n",
       "      <td>Отличный, как и все айфоны, но цены очень высока.</td>\n",
       "      <td>5</td>\n",
       "    </tr>\n",
       "    <tr>\n",
       "      <th>361</th>\n",
       "      <td>Очень понравился телефон в использовании, мне ...</td>\n",
       "      <td>5</td>\n",
       "    </tr>\n",
       "    <tr>\n",
       "      <th>...</th>\n",
       "      <td>...</td>\n",
       "      <td>...</td>\n",
       "    </tr>\n",
       "    <tr>\n",
       "      <th>457746</th>\n",
       "      <td>Телефон стоит денег, которые я за него заплати...</td>\n",
       "      <td>4</td>\n",
       "    </tr>\n",
       "    <tr>\n",
       "      <th>457747</th>\n",
       "      <td>Телефон стоит денег, которые я за него заплати...</td>\n",
       "      <td>4</td>\n",
       "    </tr>\n",
       "    <tr>\n",
       "      <th>457753</th>\n",
       "      <td>Конечно, это может быть брак конкретно моего т...</td>\n",
       "      <td>4</td>\n",
       "    </tr>\n",
       "    <tr>\n",
       "      <th>457766</th>\n",
       "      <td>не советую брать</td>\n",
       "      <td>1</td>\n",
       "    </tr>\n",
       "    <tr>\n",
       "      <th>457793</th>\n",
       "      <td>Советую</td>\n",
       "      <td>4</td>\n",
       "    </tr>\n",
       "  </tbody>\n",
       "</table>\n",
       "<p>136736 rows × 2 columns</p>\n",
       "</div>"
      ],
      "text/plain": [
       "                                                   Review  Rating\n",
       "343     Покупал 6-ку в интернет магазине, перед этими ...       4\n",
       "354     Довольно долго сопротивлялся смартфонам. Да и ...       5\n",
       "358     Всем заядлым \"яблочникам\" хочу сказать,что чув...       4\n",
       "359     Отличный, как и все айфоны, но цены очень высока.       5\n",
       "361     Очень понравился телефон в использовании, мне ...       5\n",
       "...                                                   ...     ...\n",
       "457746  Телефон стоит денег, которые я за него заплати...       4\n",
       "457747  Телефон стоит денег, которые я за него заплати...       4\n",
       "457753  Конечно, это может быть брак конкретно моего т...       4\n",
       "457766                                   не советую брать       1\n",
       "457793                                            Советую       4\n",
       "\n",
       "[136736 rows x 2 columns]"
      ]
     },
     "execution_count": 12,
     "metadata": {},
     "output_type": "execute_result"
    }
   ],
   "source": [
    "data[data.duplicated()== True]"
   ]
  },
  {
   "cell_type": "code",
   "execution_count": 13,
   "metadata": {},
   "outputs": [
    {
     "data": {
      "text/html": [
       "<div>\n",
       "<style scoped>\n",
       "    .dataframe tbody tr th:only-of-type {\n",
       "        vertical-align: middle;\n",
       "    }\n",
       "\n",
       "    .dataframe tbody tr th {\n",
       "        vertical-align: top;\n",
       "    }\n",
       "\n",
       "    .dataframe thead th {\n",
       "        text-align: right;\n",
       "    }\n",
       "</style>\n",
       "<table border=\"1\" class=\"dataframe\">\n",
       "  <thead>\n",
       "    <tr style=\"text-align: right;\">\n",
       "      <th></th>\n",
       "      <th>Review</th>\n",
       "      <th>Rating</th>\n",
       "    </tr>\n",
       "  </thead>\n",
       "  <tbody>\n",
       "    <tr>\n",
       "      <th>9983</th>\n",
       "      <td>не советую брать</td>\n",
       "      <td>1</td>\n",
       "    </tr>\n",
       "    <tr>\n",
       "      <th>19665</th>\n",
       "      <td>не советую брать</td>\n",
       "      <td>1</td>\n",
       "    </tr>\n",
       "    <tr>\n",
       "      <th>76500</th>\n",
       "      <td>не советую брать</td>\n",
       "      <td>3</td>\n",
       "    </tr>\n",
       "    <tr>\n",
       "      <th>79750</th>\n",
       "      <td>не советую брать</td>\n",
       "      <td>1</td>\n",
       "    </tr>\n",
       "    <tr>\n",
       "      <th>322346</th>\n",
       "      <td>не советую брать</td>\n",
       "      <td>1</td>\n",
       "    </tr>\n",
       "    <tr>\n",
       "      <th>348307</th>\n",
       "      <td>не советую брать</td>\n",
       "      <td>3</td>\n",
       "    </tr>\n",
       "    <tr>\n",
       "      <th>370268</th>\n",
       "      <td>не советую брать</td>\n",
       "      <td>3</td>\n",
       "    </tr>\n",
       "    <tr>\n",
       "      <th>398386</th>\n",
       "      <td>не советую брать</td>\n",
       "      <td>3</td>\n",
       "    </tr>\n",
       "    <tr>\n",
       "      <th>428893</th>\n",
       "      <td>не советую брать</td>\n",
       "      <td>1</td>\n",
       "    </tr>\n",
       "    <tr>\n",
       "      <th>436844</th>\n",
       "      <td>не советую брать</td>\n",
       "      <td>2</td>\n",
       "    </tr>\n",
       "    <tr>\n",
       "      <th>439956</th>\n",
       "      <td>не советую брать</td>\n",
       "      <td>2</td>\n",
       "    </tr>\n",
       "    <tr>\n",
       "      <th>440424</th>\n",
       "      <td>не советую брать</td>\n",
       "      <td>2</td>\n",
       "    </tr>\n",
       "    <tr>\n",
       "      <th>442478</th>\n",
       "      <td>не советую брать</td>\n",
       "      <td>2</td>\n",
       "    </tr>\n",
       "    <tr>\n",
       "      <th>457766</th>\n",
       "      <td>не советую брать</td>\n",
       "      <td>1</td>\n",
       "    </tr>\n",
       "  </tbody>\n",
       "</table>\n",
       "</div>"
      ],
      "text/plain": [
       "                  Review  Rating\n",
       "9983    не советую брать       1\n",
       "19665   не советую брать       1\n",
       "76500   не советую брать       3\n",
       "79750   не советую брать       1\n",
       "322346  не советую брать       1\n",
       "348307  не советую брать       3\n",
       "370268  не советую брать       3\n",
       "398386  не советую брать       3\n",
       "428893  не советую брать       1\n",
       "436844  не советую брать       2\n",
       "439956  не советую брать       2\n",
       "440424  не советую брать       2\n",
       "442478  не советую брать       2\n",
       "457766  не советую брать       1"
      ]
     },
     "execution_count": 13,
     "metadata": {},
     "output_type": "execute_result"
    }
   ],
   "source": [
    "data[data['Review'] == 'не советую брать']"
   ]
  },
  {
   "cell_type": "markdown",
   "metadata": {},
   "source": [
    "Вполне возможно,что это блоки из одинаковых ответов разных пользователей. Пока не удаляем."
   ]
  },
  {
   "cell_type": "code",
   "execution_count": 14,
   "metadata": {},
   "outputs": [],
   "source": [
    "#data = data.drop_duplicates().reset_index(drop = True)"
   ]
  },
  {
   "cell_type": "markdown",
   "metadata": {},
   "source": [
    "Что осталось?"
   ]
  },
  {
   "cell_type": "code",
   "execution_count": 15,
   "metadata": {
    "scrolled": false
   },
   "outputs": [
    {
     "name": "stdout",
     "output_type": "stream",
     "text": [
      "<class 'pandas.core.frame.DataFrame'>\n",
      "RangeIndex: 457837 entries, 0 to 457836\n",
      "Data columns (total 2 columns):\n",
      " #   Column  Non-Null Count   Dtype \n",
      "---  ------  --------------   ----- \n",
      " 0   Review  457837 non-null  object\n",
      " 1   Rating  457837 non-null  int64 \n",
      "dtypes: int64(1), object(1)\n",
      "memory usage: 7.0+ MB\n"
     ]
    }
   ],
   "source": [
    "data.info()"
   ]
  },
  {
   "cell_type": "markdown",
   "metadata": {},
   "source": [
    "Убрав дубликаты мы бы потеряли треть! Ну ничего, спокойно посмотрим дальше."
   ]
  },
  {
   "cell_type": "code",
   "execution_count": 16,
   "metadata": {
    "scrolled": true
   },
   "outputs": [
    {
     "data": {
      "image/png": "[encoded data removed]",
      "text/plain": [
       "<Figure size 1200x1500 with 5 Axes>"
      ]
     },
     "metadata": {},
     "output_type": "display_data"
    }
   ],
   "source": [
    "data.plot(\n",
    "    lw=0, marker=\".\", subplots=True, layout=(-1, 5), figsize=(12, 15), markersize=1\n",
    ");"
   ]
  },
  {
   "cell_type": "markdown",
   "metadata": {},
   "source": [
    "Минуточку, а что это за рейтинг больше 5? Если рейтинг до 9, то у нас тут мешок плохих отзывов, так не бывает. Нет, бывает, но предполагаем. что это не так."
   ]
  },
  {
   "cell_type": "code",
   "execution_count": 17,
   "metadata": {
    "scrolled": true
   },
   "outputs": [
    {
     "name": "stdout",
     "output_type": "stream",
     "text": [
      "                                                  Review  Rating\n",
      "44271  Очень приятный телефон, постоянно хочется его ...       7\n",
      "77154  Искал аппарат с большой батареей (много разгов...       9\n"
     ]
    }
   ],
   "source": [
    "print(data[data['Rating']>5])"
   ]
  },
  {
   "cell_type": "code",
   "execution_count": 18,
   "metadata": {
    "scrolled": true
   },
   "outputs": [
    {
     "data": {
      "text/plain": [
       "'Очень приятный телефон, постоянно хочется его держать в руках, настолько он приятен. В черном цвете выглядит шикарно.\\rSamsung Pay - довольно удобная штука, сразу стала ею пользоваться.\\rСканер отпечатков работает довольно точно и очень быстро - стоит только приложить палец к кнопке (нажимать на нее не нужно) - и он уже разблокирован.\\rНа удивление, очень яркая вспышка, но это мелочь.\\rUSB Type C.. ну, честно говоря, не понимаю, почему всем он так нужен, как по мне - ничего необходимого в нем нет, никогда не было проблем с Micro USB.\\rБатарейку держит нормально - день работы с постоянным ВК, чтением, парой фоток и десятиминутной GPS-навигацией за день - легко, но буду смотреть дальше, т.к. пользуюсь им еще не так долго.\\r\\rВ общем, если вы хотите просто хороший смартфон'"
      ]
     },
     "execution_count": 18,
     "metadata": {},
     "output_type": "execute_result"
    }
   ],
   "source": [
    "data['Review'][44271]   "
   ]
  },
  {
   "cell_type": "code",
   "execution_count": 19,
   "metadata": {},
   "outputs": [
    {
     "data": {
      "text/plain": [
       "'Искал аппарат с большой батареей (много разговариваю, поэтому ёмкость'"
      ]
     },
     "execution_count": 19,
     "metadata": {},
     "output_type": "execute_result"
    }
   ],
   "source": [
    "data['Review'][77154]   "
   ]
  },
  {
   "cell_type": "markdown",
   "metadata": {},
   "source": [
    "Это хороший отзыв и оборванный отзыв, приведем в соответствие"
   ]
  },
  {
   "cell_type": "code",
   "execution_count": 20,
   "metadata": {},
   "outputs": [],
   "source": [
    "data.loc[data['Rating']==7, 'Rating'] = 5\n",
    "data = data[data['Rating']<9]"
   ]
  },
  {
   "cell_type": "code",
   "execution_count": 21,
   "metadata": {},
   "outputs": [
    {
     "data": {
      "text/plain": [
       "Rating\n",
       "5    228087\n",
       "4    106503\n",
       "3     53055\n",
       "2     35705\n",
       "1     34484\n",
       "0         2\n",
       "Name: count, dtype: int64"
      ]
     },
     "execution_count": 21,
     "metadata": {},
     "output_type": "execute_result"
    }
   ],
   "source": [
    "data['Rating'].value_counts()"
   ]
  },
  {
   "cell_type": "code",
   "execution_count": 22,
   "metadata": {},
   "outputs": [
    {
     "data": {
      "text/plain": [
       "69369    Был приверженцем HTC, но что-то тайванские тов...\n",
       "69398    Был приверженцем HTC, но что-то тайванские тов...\n",
       "Name: Review, dtype: object"
      ]
     },
     "execution_count": 22,
     "metadata": {},
     "output_type": "execute_result"
    }
   ],
   "source": [
    "data[data['Rating']==0]['Review']"
   ]
  },
  {
   "cell_type": "code",
   "execution_count": 23,
   "metadata": {
    "scrolled": true
   },
   "outputs": [
    {
     "data": {
      "text/plain": [
       "'Был приверженцем HTC, но что-то тайванские товарищи уже несколько лет не могут родить нормальный флагман, пришлось смотреть хоть какой-то телефон взамен старому. Изначально планировал просто взять какой-нибудь бюджетный аппарат ('"
      ]
     },
     "execution_count": 23,
     "metadata": {},
     "output_type": "execute_result"
    }
   ],
   "source": [
    "data['Review'][69369]   "
   ]
  },
  {
   "cell_type": "markdown",
   "metadata": {},
   "source": [
    "Ещё один оборванный отзыв с непонятной тональностью, обрезаем."
   ]
  },
  {
   "cell_type": "code",
   "execution_count": 24,
   "metadata": {},
   "outputs": [],
   "source": [
    "data = data[data['Rating']>0]"
   ]
  },
  {
   "cell_type": "code",
   "execution_count": 25,
   "metadata": {},
   "outputs": [],
   "source": [
    "data = data.reset_index(drop = True)"
   ]
  },
  {
   "cell_type": "markdown",
   "metadata": {},
   "source": [
    "Посмотрим на распределение таргета:"
   ]
  },
  {
   "cell_type": "code",
   "execution_count": 26,
   "metadata": {},
   "outputs": [
    {
     "data": {
      "image/png": "[encoded data removed]",
      "text/plain": [
       "<Figure size 640x480 with 1 Axes>"
      ]
     },
     "metadata": {},
     "output_type": "display_data"
    }
   ],
   "source": [
    "pd.Series(data['Rating']).hist( bins = 5)\n",
    "plt.title('Распределение таргета оценки в комментариях')\n",
    "plt.show()"
   ]
  },
  {
   "cell_type": "markdown",
   "metadata": {},
   "source": [
    "## Бэйзлайн модель"
   ]
  },
  {
   "cell_type": "markdown",
   "metadata": {},
   "source": [
    "Кэтбуст неплохо переваривает текст, сделаем на его основе базовую модель для последующего сравнения"
   ]
  },
  {
   "cell_type": "code",
   "execution_count": 27,
   "metadata": {},
   "outputs": [],
   "source": [
    "y =target = data['Rating']"
   ]
  },
  {
   "cell_type": "code",
   "execution_count": 28,
   "metadata": {},
   "outputs": [],
   "source": [
    "X = data.drop('Rating', axis = 1)\n"
   ]
  },
  {
   "cell_type": "code",
   "execution_count": 29,
   "metadata": {},
   "outputs": [
    {
     "data": {
      "text/html": [
       "<div>\n",
       "<style scoped>\n",
       "    .dataframe tbody tr th:only-of-type {\n",
       "        vertical-align: middle;\n",
       "    }\n",
       "\n",
       "    .dataframe tbody tr th {\n",
       "        vertical-align: top;\n",
       "    }\n",
       "\n",
       "    .dataframe thead th {\n",
       "        text-align: right;\n",
       "    }\n",
       "</style>\n",
       "<table border=\"1\" class=\"dataframe\">\n",
       "  <thead>\n",
       "    <tr style=\"text-align: right;\">\n",
       "      <th></th>\n",
       "      <th>Review</th>\n",
       "    </tr>\n",
       "  </thead>\n",
       "  <tbody>\n",
       "    <tr>\n",
       "      <th>0</th>\n",
       "      <td>3D Touch просто восхитительная вещь! Заряд дер...</td>\n",
       "    </tr>\n",
       "    <tr>\n",
       "      <th>1</th>\n",
       "      <td>Отключается при температуре близкой к нулю, не...</td>\n",
       "    </tr>\n",
       "    <tr>\n",
       "      <th>2</th>\n",
       "      <td>В Apple окончательно решили не заморачиваться,...</td>\n",
       "    </tr>\n",
       "    <tr>\n",
       "      <th>3</th>\n",
       "      <td>Постарался наиболее ёмко и коротко описать все...</td>\n",
       "    </tr>\n",
       "    <tr>\n",
       "      <th>4</th>\n",
       "      <td>Достойный телефон. Пользоваться одно удовольст...</td>\n",
       "    </tr>\n",
       "  </tbody>\n",
       "</table>\n",
       "</div>"
      ],
      "text/plain": [
       "                                              Review\n",
       "0  3D Touch просто восхитительная вещь! Заряд дер...\n",
       "1  Отключается при температуре близкой к нулю, не...\n",
       "2  В Apple окончательно решили не заморачиваться,...\n",
       "3  Постарался наиболее ёмко и коротко описать все...\n",
       "4  Достойный телефон. Пользоваться одно удовольст..."
      ]
     },
     "execution_count": 29,
     "metadata": {},
     "output_type": "execute_result"
    }
   ],
   "source": [
    "X.head()"
   ]
  },
  {
   "cell_type": "code",
   "execution_count": 30,
   "metadata": {
    "executionInfo": {
     "elapsed": 16,
     "status": "ok",
     "timestamp": 1628179264941,
     "user": {
      "displayName": "Артур Сапрыкин",
      "photoUrl": "",
      "userId": "16185371824692237125"
     },
     "user_tz": -180
    },
    "id": "QAsBAmibC5LU"
   },
   "outputs": [],
   "source": [
    "train_x, test_x, train_y, test_y = train_test_split(X, y,\n",
    "                                                   test_size=TEST_SIZE, random_state=RS,\n",
    "                                                   )"
   ]
  },
  {
   "cell_type": "code",
   "execution_count": 31,
   "metadata": {
    "colab": {
     "base_uri": "https://localhost:8080/"
    },
    "executionInfo": {
     "elapsed": 15,
     "status": "ok",
     "timestamp": 1628179264941,
     "user": {
      "displayName": "Артур Сапрыкин",
      "photoUrl": "",
      "userId": "16185371824692237125"
     },
     "user_tz": -180
    },
    "id": "V1nESq0tC5LU",
    "outputId": "a4d64c9c-b805-4404-8e6b-60881b01a04c"
   },
   "outputs": [
    {
     "name": "stdout",
     "output_type": "stream",
     "text": [
      "(457834, 2)\n",
      "(114459, 1)\n",
      "(114459, 1)\n"
     ]
    }
   ],
   "source": [
    "print(data.shape)\n",
    "print(test_x.shape)\n",
    "print(test_x.shape)"
   ]
  },
  {
   "cell_type": "code",
   "execution_count": 32,
   "metadata": {},
   "outputs": [],
   "source": [
    "text_features = ['Review']"
   ]
  },
  {
   "cell_type": "markdown",
   "metadata": {},
   "source": [
    "def objective(trial):\n",
    "    param = {\n",
    "        \"iterations\": trial.suggest_int(\"iterations\", 200, 2400),\n",
    "        \"depth\": trial.suggest_int(\"depth\", 2, 6),\n",
    "        \"l2_leaf_reg\": trial.suggest_int(\"l2_leaf_reg\", 1, 5),\n",
    "        #\"colsample_bylevel\": trial.suggest_float(\"colsample_bylevel\", 0.08, 0.1),\n",
    "        \"boosting_type\": trial.suggest_categorical(\"boosting_type\", [\"Ordered\", \"Plain\"]),\n",
    "        \"bootstrap_type\": trial.suggest_categorical(\"bootstrap_type\", [\"Bayesian\", \"Bernoulli\"]),# \"MVS\"])\n",
    "         \"task_type\": \"GPU\" \n",
    "    }\n",
    "    train_pool = Pool(train_x,\n",
    "                  label=train_y,\n",
    "                  text_features=text_features\n",
    "                      )\n",
    "    test_pool = Pool(test_x,\n",
    "                  label=test_y,\n",
    "                  text_features=text_features\n",
    "                  )\n",
    "    model_cbc = CatBoostRegressor(**param, \n",
    "                                   loss_function = 'RMSE',\n",
    "                                   eval_metric = 'RMSE',\n",
    "                                   thread_count=-1, \n",
    "                                   random_seed=RANDOM_STATE, \n",
    "                                   verbose=0, \n",
    "                                   text_features=text_features\n",
    "                                 )\n",
    "    predict_cbc = cross_val_predict(model_cbc, train_x, train_y, cv=4)\n",
    "    score_cbc = mean_absolute_error(train_y, predict_cbc)\n",
    "    return score_cbc\n",
    "sampler = optuna.samplers.RandomSampler(seed=RANDOM_STATE)\n",
    "study_cbc = optuna.create_study(sampler=sampler, direction='minimize')\n",
    "study_cbc.optimize(objective, n_trials=10)\n",
    "print('Best hyperparameters Catboost:', study_cbc.best_params)\n",
    "print('Best MAE Catboost:', study_cbc.best_value)\n"
   ]
  },
  {
   "cell_type": "markdown",
   "metadata": {},
   "source": [
    "[I 2024-04-24 16:04:25,471] A new study created in memory with name: no-name-5c4b7593-b45a-46de-9d4c-4655ee6a00b2\n",
    "[I 2024-04-24 16:05:07,159] Trial 0 finished with value: 0.8658033727743734 and parameters: {'iterations': 710, 'depth': 5, 'l2_leaf_reg': 5, 'boosting_type': 'Plain', 'bootstrap_type': 'Bayesian'}. Best is trial 0 with value: 0.8658033727743734.\n",
    "[I 2024-04-24 16:05:52,347] Trial 1 finished with value: 0.9317033865493553 and parameters: {'iterations': 357, 'depth': 2, 'l2_leaf_reg': 5, 'boosting_type': 'Ordered', 'bootstrap_type': 'Bernoulli'}. Best is trial 0 with value: 0.8658033727743734.\n",
    "[I 2024-04-24 16:07:19,876] Trial 2 finished with value: 0.8670913892254375 and parameters: {'iterations': 1196, 'depth': 3, 'l2_leaf_reg': 2, 'boosting_type': 'Ordered', 'bootstrap_type': 'Bernoulli'}. Best is trial 0 with value: 0.8658033727743734.\n",
    "[I 2024-04-24 16:09:38,714] Trial 3 finished with value: 0.8301214122583268 and parameters: {'iterations': 1792, 'depth': 5, 'l2_leaf_reg': 5, 'boosting_type': 'Ordered', 'bootstrap_type': 'Bayesian'}. Best is trial 3 with value: 0.8301214122583268.\n",
    "[I 2024-04-24 16:10:49,655] Trial 4 finished with value: 0.8667665275069081 and parameters: {'iterations': 691, 'depth': 5, 'l2_leaf_reg': 4, 'boosting_type': 'Ordered', 'bootstrap_type': 'Bayesian'}. Best is trial 3 with value: 0.8301214122583268.\n",
    "[I 2024-04-24 16:12:56,459] Trial 5 finished with value: 0.8625203214935213 and parameters: {'iterations': 2161, 'depth': 2, 'l2_leaf_reg': 4, 'boosting_type': 'Ordered', 'bootstrap_type': 'Bernoulli'}. Best is trial 3 with value: 0.8301214122583268.\n",
    "[I 2024-04-24 16:13:32,002] Trial 6 finished with value: 0.9186172185520529 and parameters: {'iterations': 516, 'depth': 2, 'l2_leaf_reg': 1, 'boosting_type': 'Plain', 'bootstrap_type': 'Bayesian'}. Best is trial 3 with value: 0.8301214122583268.\n",
    "[I 2024-04-24 16:15:58,802] Trial 7 finished with value: 0.8334130127253915 and parameters: {'iterations': 2096, 'depth': 4, 'l2_leaf_reg': 5, 'boosting_type': 'Ordered', 'bootstrap_type': 'Bernoulli'}. Best is trial 3 with value: 0.8301214122583268.\n",
    "[I 2024-04-24 16:16:38,867] Trial 8 finished with value: 0.8789070000677444 and parameters: {'iterations': 518, 'depth': 5, 'l2_leaf_reg': 3, 'boosting_type': 'Plain', 'bootstrap_type': 'Bernoulli'}. Best is trial 3 with value: 0.8301214122583268.\n",
    "[I 2024-04-24 16:17:15,156] Trial 9 finished with value: 0.8992702483486947 and parameters: {'iterations': 328, 'depth': 5, 'l2_leaf_reg': 4, 'boosting_type': 'Plain', 'boo"
   ]
  },
  {
   "cell_type": "markdown",
   "metadata": {},
   "source": [
    "Best hyperparameters Catboost: {'iterations': 1792, 'depth': 5, 'l2_leaf_reg': 5, 'boosting_type': 'Ordered', 'bootstrap_type': 'Bayesian'}\n",
    "Best MAE Catboost: 0.8301214122583268\n"
   ]
  },
  {
   "cell_type": "code",
   "execution_count": 33,
   "metadata": {},
   "outputs": [
    {
     "data": {
      "application/vnd.jupyter.widget-view+json": {
       "model_id": "8563f49a0142488a862b399c74d1f6d5",
       "version_major": 2,
       "version_minor": 0
      },
      "text/plain": [
       "MetricVisualizer(layout=Layout(align_self='stretch', height='500px'))"
      ]
     },
     "metadata": {},
     "output_type": "display_data"
    }
   ],
   "source": [
    "model_cb = CatBoostRegressor(iterations=1792,\n",
    "                                depth=5,\n",
    "                                #learning_rate=0.001,\n",
    "                                l2_leaf_reg=5,\n",
    "                                boosting_type='Ordered',\n",
    "                                loss_function='RMSE',\n",
    "                                eval_metric = 'RMSE',\n",
    "                                thread_count=-1, \n",
    "                                random_seed=RANDOM_STATE, \n",
    "                                verbose=0, \n",
    "                                text_features=text_features,\n",
    "                                task_type = \"GPU\" \n",
    ")\n",
    "\n",
    "\n",
    "model_cb.fit(train_x, train_y, text_features=text_features, plot= True)\n",
    "y_pred = model_cb.predict(test_x)\n"
   ]
  },
  {
   "cell_type": "code",
   "execution_count": 34,
   "metadata": {
    "scrolled": true
   },
   "outputs": [
    {
     "name": "stdout",
     "output_type": "stream",
     "text": [
      "Root Mean Squared Error на тестовой выборке: 1.0573443187000018\n",
      "Mean Absolute Error на тестовой выборке: 0.8310417344282175\n",
      "R2 на тестовой выборке: 0.3026942533407161\n"
     ]
    }
   ],
   "source": [
    "mse = mean_squared_error(test_y, y_pred)\n",
    "\n",
    "rmse = root_mean_squared_error(test_y, y_pred)\n",
    "mae = mean_absolute_error(test_y, y_pred)\n",
    "print(\"Root Mean Squared Error на тестовой выборке:\", rmse)\n",
    "print(\"Mean Absolute Error на тестовой выборке:\", mae)\n",
    "r2 = r2_score(test_y, y_pred)\n",
    "print(\"R2 на тестовой выборке:\", r2)"
   ]
  },
  {
   "cell_type": "code",
   "execution_count": 35,
   "metadata": {
    "scrolled": true
   },
   "outputs": [
    {
     "data": {
      "text/plain": [
       "array([4.19069358, 3.19785718, 4.176447  , ..., 2.717073  , 4.11856958,\n",
       "       4.17545681])"
      ]
     },
     "execution_count": 35,
     "metadata": {},
     "output_type": "execute_result"
    }
   ],
   "source": [
    "y_pred"
   ]
  },
  {
   "cell_type": "markdown",
   "metadata": {},
   "source": [
    "Хм, так то у нас хорошие целочисленные значения, можно и классификацию замутить"
   ]
  },
  {
   "cell_type": "markdown",
   "metadata": {},
   "source": [
    "def objective(trial):\n",
    "    param = {\n",
    "        \"iterations\": trial.suggest_int(\"iterations\", 200, 2400),\n",
    "        \"depth\": trial.suggest_int(\"depth\", 2, 6),\n",
    "        \"l2_leaf_reg\": trial.suggest_int(\"l2_leaf_reg\", 1, 5),\n",
    "        #\"colsample_bylevel\": trial.suggest_float(\"colsample_bylevel\", 0.08, 0.1),\n",
    "        #\"boosting_type\": trial.suggest_categorical(\"boosting_type\", [\"Ordered\", \"Plain\"]),\n",
    "        \"bootstrap_type\": trial.suggest_categorical(\"bootstrap_type\", [\"Bayesian\", \"Bernoulli\"]),# \"MVS\"])\n",
    "         \"task_type\": \"GPU\" \n",
    "    }\n",
    "    train_pool = Pool(train_x,\n",
    "                  label=train_y,\n",
    "                  text_features=text_features\n",
    "                      )\n",
    "    test_pool = Pool(test_x,\n",
    "                  label=test_y,\n",
    "                  text_features=text_features\n",
    "                  )\n",
    "    model_cbc = CatBoostClassifier(**param, \n",
    "                                   loss_function = 'MultiClass',\n",
    "                                   thread_count=-1, \n",
    "                                   random_seed=RANDOM_STATE, \n",
    "                                   verbose=0, \n",
    "                                   text_features=text_features\n",
    "                                 )\n",
    "    predict_cbc = cross_val_predict(model_cbc, train_x, train_y, cv=4)\n",
    "    score_cbc = mean_absolute_error(train_y, predict_cbc)\n",
    "    return score_cbc\n",
    "sampler = optuna.samplers.RandomSampler(seed=RANDOM_STATE)\n",
    "study_cbc = optuna.create_study(sampler=sampler, direction='minimize')\n",
    "study_cbc.optimize(objective, n_trials=10)\n",
    "print('Best hyperparameters Catboost:', study_cbc.best_params)\n",
    "print('Best MAE Catboost:', study_cbc.best_value)\n",
    "\n"
   ]
  },
  {
   "cell_type": "markdown",
   "metadata": {},
   "source": [
    "[I 2024-04-24 16:25:19,613] A new study created in memory with name: no-name-402793fc-ff45-429b-b9dd-0039ec644fdd\n",
    "[I 2024-04-24 16:26:28,394] Trial 0 finished with value: 0.6077301265654586 and parameters: {'iterations': 710, 'depth': 5, 'l2_leaf_reg': 5, 'bootstrap_type': 'Bernoulli'}. Best is trial 0 with value: 0.6077301265654586.\n",
    "[I 2024-04-24 16:28:02,041] Trial 1 finished with value: 0.6128417433478391 and parameters: {'iterations': 2045, 'depth': 2, 'l2_leaf_reg': 1, 'bootstrap_type': 'Bernoulli'}. Best is trial 0 with value: 0.6077301265654586.\n",
    "[I 2024-04-24 16:29:27,683] Trial 2 finished with value: 0.615333189383118 and parameters: {'iterations': 1709, 'depth': 2, 'l2_leaf_reg': 1, 'bootstrap_type': 'Bernoulli'}. Best is trial 0 with value: 0.6077301265654586.\n",
    "[I 2024-04-24 16:30:36,369] Trial 3 finished with value: 0.6139006079128326 and parameters: {'iterations': 993, 'depth': 3, 'l2_leaf_reg': 3, 'bootstrap_type': 'Bernoulli'}. Best is trial 0 with value: 0.6077301265654586.\n",
    "[I 2024-04-24 16:32:31,767] Trial 4 finished with value: 0.5927980599940206 and parameters: {'iterations': 1914, 'depth': 5, 'l2_leaf_reg': 4, 'bootstrap_type': 'Bayesian'}. Best is trial 4 with value: 0.5927980599940206.\n",
    "[I 2024-04-24 16:33:46,187] Trial 5 finished with value: 0.6042296448858918 and parameters: {'iterations': 865, 'depth': 5, 'l2_leaf_reg': 1, 'bootstrap_type': 'Bernoulli'}. Best is trial 4 with value: 0.5927980599940206.\n",
    "[I 2024-04-24 16:35:47,568] Trial 6 finished with value: 0.5869556190412916 and parameters: {'iterations': 1689, 'depth': 6, 'l2_leaf_reg': 1, 'bootstrap_type': 'Bayesian'}. Best is trial 6 with value: 0.5869556190412916.\n",
    "[I 2024-04-24 16:37:23,516] Trial 7 finished with value: 0.6131780885626017 and parameters: {'iterations': 2161, 'depth': 2, 'l2_leaf_reg': 4, 'bootstrap_type': 'Bayesian'}. Best is trial 6 with value: 0.5869556190412916.\n",
    "[I 2024-04-24 16:38:18,576] Trial 8 finished with value: 0.6206856459489087 and parameters: {'iterations': 520, 'depth': 3, 'l2_leaf_reg': 1, 'bootstrap_type': 'Bayesian'}. Best is trial 6 with value: 0.5869556190412916.\n",
    "[I 2024-04-24 16:39:40,726] Trial 9 finished with value: 0.6059985715709397 and parameters: {'iterations': 1218, 'depth': 4, 'l2_leaf_reg': 3, 'bootstrap_type': 'Bernoulli'}. Best is trial 6 with value: 0.5869556190412916."
   ]
  },
  {
   "cell_type": "markdown",
   "metadata": {},
   "source": [
    "Best hyperparameters Catboost: {'iterations': 1689, 'depth': 6, 'l2_leaf_reg': 1, 'bootstrap_type': 'Bayesian'}\n",
    "Best MAE Catboost: 0.5869556190412916\n"
   ]
  },
  {
   "cell_type": "code",
   "execution_count": 36,
   "metadata": {},
   "outputs": [
    {
     "data": {
      "application/vnd.jupyter.widget-view+json": {
       "model_id": "1a6e830abb024c8ba7d3727528ddeb75",
       "version_major": 2,
       "version_minor": 0
      },
      "text/plain": [
       "MetricVisualizer(layout=Layout(align_self='stretch', height='500px'))"
      ]
     },
     "metadata": {},
     "output_type": "display_data"
    },
    {
     "data": {
      "text/plain": [
       "<catboost.core.CatBoostClassifier at 0x20b3cc557d0>"
      ]
     },
     "execution_count": 36,
     "metadata": {},
     "output_type": "execute_result"
    }
   ],
   "source": [
    "model_cb = CatBoostClassifier(iterations=1689,\n",
    "                                depth = 6,\n",
    "                                loss_function='MultiClass',\n",
    "                                thread_count=-1, \n",
    "                                random_seed=RANDOM_STATE, \n",
    "                                verbose=0, \n",
    "                                text_features=text_features,\n",
    "                                task_type = \"GPU\" \n",
    "                                \n",
    ")\n",
    "\n",
    "\n",
    "model_cb.fit(train_x, train_y, text_features=text_features, plot= True)\n"
   ]
  },
  {
   "cell_type": "code",
   "execution_count": 37,
   "metadata": {
    "scrolled": false
   },
   "outputs": [
    {
     "name": "stdout",
     "output_type": "stream",
     "text": [
      "\n",
      "              precision    recall  f1-score   support\n",
      "\n",
      "           1       0.55      0.60      0.57      8652\n",
      "           2       0.55      0.35      0.43      8867\n",
      "           3       0.51      0.39      0.45     13286\n",
      "           4       0.57      0.41      0.48     26766\n",
      "           5       0.72      0.89      0.80     56888\n",
      "\n",
      "    accuracy                           0.66    114459\n",
      "   macro avg       0.58      0.53      0.54    114459\n",
      "weighted avg       0.64      0.66      0.64    114459\n",
      "\n",
      "\n",
      "Confusion Matrix\n",
      "\n",
      "[[ 5160   814   863   367  1448]\n",
      " [ 1842  3120  1406   875  1624]\n",
      " [ 1213   934  5236  2696  3207]\n",
      " [  530   445  1811 10934 13046]\n",
      " [  589   338   926  4323 50712]]\n",
      "AUC ROC train:  0.9132641915497771\n",
      "AUC ROC test:  0.8739398718230651\n",
      "Root Mean Squared Error на тестовой выборке: 1.0037149562846277\n",
      "Mean Absolute Error на тестовой выборке: 0.5124542412566946\n",
      "R2 на тестовой выборке: 0.37163619141479687\n"
     ]
    }
   ],
   "source": [
    "test_pred = model_cb.predict(test_x)\n",
    "proba_test = model_cb.predict_proba(test_x)\n",
    "\n",
    "train_pred = model_cb.predict(train_x)\n",
    "proba_train = model_cb.predict_proba(train_x)\n",
    " \n",
    "test_pred = model_cb.predict(test_x)\n",
    "confusion = confusion_matrix(test_y, test_pred)\n",
    "print(CR + classification_report(test_y,test_pred)) \n",
    "\n",
    "print(CR + 'Confusion Matrix\\n')\n",
    "print(confusion)\n",
    "auc_tr = roc_auc_score(train_y, proba_train, multi_class='ovr')\n",
    "auc_test = roc_auc_score(test_y, proba_test, multi_class='ovr')\n",
    "print('AUC ROC train: ',auc_tr)\n",
    "print('AUC ROC test: ',auc_test)\n",
    "mse = mean_squared_error(test_y, test_pred)\n",
    "rmse = root_mean_squared_error(test_y, test_pred)\n",
    "mae = mean_absolute_error(test_y, test_pred)\n",
    "print(\"Root Mean Squared Error на тестовой выборке:\", rmse)\n",
    "print(\"Mean Absolute Error на тестовой выборке:\", mae)\n",
    "r2 = r2_score(test_y, test_pred)\n",
    "print(\"R2 на тестовой выборке:\", r2)"
   ]
  },
  {
   "cell_type": "markdown",
   "metadata": {},
   "source": [
    "Итак, наша базовая модель показала неплохой результат, по заданию минимальное допустимое значение – МАЕ <= 1.0. У нас уже 0.51. Теперь нужно проверить, что удастся сделать самостоятельно. Поехали"
   ]
  },
  {
   "cell_type": "code",
   "execution_count": 38,
   "metadata": {},
   "outputs": [],
   "source": [
    "text_feature_indices = model_cb.get_feature_importance(Pool(data, label=y, text_features=text_features), \n",
    "                                     type=EFstrType.FeatureImportance, prettified=True)"
   ]
  },
  {
   "cell_type": "code",
   "execution_count": 39,
   "metadata": {},
   "outputs": [
    {
     "data": {
      "text/html": [
       "<div>\n",
       "<style scoped>\n",
       "    .dataframe tbody tr th:only-of-type {\n",
       "        vertical-align: middle;\n",
       "    }\n",
       "\n",
       "    .dataframe tbody tr th {\n",
       "        vertical-align: top;\n",
       "    }\n",
       "\n",
       "    .dataframe thead th {\n",
       "        text-align: right;\n",
       "    }\n",
       "</style>\n",
       "<table border=\"1\" class=\"dataframe\">\n",
       "  <thead>\n",
       "    <tr style=\"text-align: right;\">\n",
       "      <th></th>\n",
       "      <th>Feature Id</th>\n",
       "      <th>Importances</th>\n",
       "    </tr>\n",
       "  </thead>\n",
       "  <tbody>\n",
       "    <tr>\n",
       "      <th>0</th>\n",
       "      <td>Review</td>\n",
       "      <td>100.0</td>\n",
       "    </tr>\n",
       "  </tbody>\n",
       "</table>\n",
       "</div>"
      ],
      "text/plain": [
       "  Feature Id  Importances\n",
       "0     Review        100.0"
      ]
     },
     "execution_count": 39,
     "metadata": {},
     "output_type": "execute_result"
    }
   ],
   "source": [
    "text_feature_indices"
   ]
  },
  {
   "cell_type": "code",
   "execution_count": 40,
   "metadata": {},
   "outputs": [],
   "source": [
    "cat_imp = pd.Series(model_cb.feature_importances_, X.columns)"
   ]
  },
  {
   "cell_type": "code",
   "execution_count": 41,
   "metadata": {
    "scrolled": true
   },
   "outputs": [
    {
     "data": {
      "text/plain": [
       "Text(0.5, 1.0, 'Важность признаков Catboost ')"
      ]
     },
     "execution_count": 41,
     "metadata": {},
     "output_type": "execute_result"
    },
    {
     "data": {
      "image/png": "[encoded data removed]",
      "text/plain": [
       "<Figure size 1600x800 with 1 Axes>"
      ]
     },
     "metadata": {},
     "output_type": "display_data"
    }
   ],
   "source": [
    "cat_imp.plot.bar(figsize=(16,8)).set_title(\"Важность признаков Catboost \")"
   ]
  },
  {
   "cell_type": "markdown",
   "metadata": {},
   "source": [
    "Да, стоит ли удивляться, у нас один, но очень важный признак)))))))))))))"
   ]
  },
  {
   "cell_type": "markdown",
   "metadata": {},
   "source": [
    "А если немного подработать веса? Предположим, нам важнее отрицательные отзывы"
   ]
  },
  {
   "cell_type": "code",
   "execution_count": 42,
   "metadata": {},
   "outputs": [
    {
     "data": {
      "application/vnd.jupyter.widget-view+json": {
       "model_id": "85fbf24b4c7a48108e87cab6c69a4a5f",
       "version_major": 2,
       "version_minor": 0
      },
      "text/plain": [
       "MetricVisualizer(layout=Layout(align_self='stretch', height='500px'))"
      ]
     },
     "metadata": {},
     "output_type": "display_data"
    },
    {
     "data": {
      "text/plain": [
       "<catboost.core.CatBoostClassifier at 0x20b4000eb90>"
      ]
     },
     "execution_count": 42,
     "metadata": {},
     "output_type": "execute_result"
    }
   ],
   "source": [
    "model_cb = CatBoostClassifier(iterations=1689,\n",
    "                                depth = 6,\n",
    "                                loss_function='MultiClass',\n",
    "                                thread_count=-1, \n",
    "                                random_seed=RANDOM_STATE, \n",
    "                                verbose=0, \n",
    "                                text_features=text_features,\n",
    "                                task_type = \"GPU\", \n",
    "                                class_weights= {1: 2, 2: 2, 3:1, 4:1, 5:1}\n",
    ")\n",
    "\n",
    "\n",
    "model_cb.fit(train_x, train_y, text_features=text_features, plot= True)\n"
   ]
  },
  {
   "cell_type": "code",
   "execution_count": 43,
   "metadata": {},
   "outputs": [
    {
     "name": "stdout",
     "output_type": "stream",
     "text": [
      "\n",
      "              precision    recall  f1-score   support\n",
      "\n",
      "           1       0.51      0.67      0.58      8652\n",
      "           2       0.42      0.50      0.46      8867\n",
      "           3       0.60      0.28      0.38     13286\n",
      "           4       0.57      0.39      0.46     26766\n",
      "           5       0.73      0.88      0.80     56888\n",
      "\n",
      "    accuracy                           0.65    114459\n",
      "   macro avg       0.57      0.54      0.54    114459\n",
      "weighted avg       0.64      0.65      0.63    114459\n",
      "\n",
      "\n",
      "Confusion Matrix\n",
      "\n",
      "[[ 5838  1285   230   274  1025]\n",
      " [ 2000  4409   532   647  1279]\n",
      " [ 1693  2312  3709  2639  2933]\n",
      " [  894  1419  1173 10363 12917]\n",
      " [ 1039  1006   587  4264 49992]]\n",
      "AUC ROC train:  0.9123216165355782\n",
      "AUC ROC test:  0.8726544141589742\n",
      "Root Mean Squared Error на тестовой выборке: 1.0292764058838815\n",
      "Mean Absolute Error на тестовой выборке: 0.5308014223433719\n",
      "R2 на тестовой выборке: 0.3392237768709564\n"
     ]
    }
   ],
   "source": [
    "test_pred = model_cb.predict(test_x)\n",
    "proba_test = model_cb.predict_proba(test_x)\n",
    "\n",
    "train_pred = model_cb.predict(train_x)\n",
    "proba_train = model_cb.predict_proba(train_x)\n",
    " \n",
    "test_pred = model_cb.predict(test_x)\n",
    "confusion = confusion_matrix(test_y, test_pred)\n",
    "print(CR + classification_report(test_y,test_pred)) \n",
    "\n",
    "print(CR + 'Confusion Matrix\\n')\n",
    "print(confusion)\n",
    "auc_tr = roc_auc_score(train_y, proba_train, multi_class='ovr')\n",
    "auc_test = roc_auc_score(test_y, proba_test, multi_class='ovr')\n",
    "print('AUC ROC train: ',auc_tr)\n",
    "print('AUC ROC test: ',auc_test)\n",
    "mse = mean_squared_error(test_y, test_pred)\n",
    "\n",
    "rmse = root_mean_squared_error(test_y, test_pred)\n",
    "mae = mean_absolute_error(test_y, test_pred)\n",
    "print(\"Root Mean Squared Error на тестовой выборке:\", rmse)\n",
    "print(\"Mean Absolute Error на тестовой выборке:\", mae)\n",
    "r2 = r2_score(test_y, test_pred)\n",
    "print(\"R2 на тестовой выборке:\", r2)"
   ]
  },
  {
   "cell_type": "markdown",
   "metadata": {},
   "source": [
    "Нет, проверила с разными развесовками, всё плохо, лучшей моделью остаётся кэтбуст с ровными весами."
   ]
  },
  {
   "cell_type": "markdown",
   "metadata": {
    "id": "ONHeLq6QC5LV"
   },
   "source": [
    "\n",
    "## Векторизатор"
   ]
  },
  {
   "cell_type": "code",
   "execution_count": 44,
   "metadata": {
    "colab": {
     "base_uri": "https://localhost:8080/"
    },
    "executionInfo": {
     "elapsed": 12,
     "status": "ok",
     "timestamp": 1628179264942,
     "user": {
      "displayName": "Артур Сапрыкин",
      "photoUrl": "",
      "userId": "16185371824692237125"
     },
     "user_tz": -180
    },
    "id": "pQmLGezPC5LV",
    "outputId": "c290ecd8-075a-4f20-80ba-b18f5bc63a6c"
   },
   "outputs": [
    {
     "data": {
      "text/plain": [
       "['3D Touch просто восхитительная вещь! Заряд держит целый день. В розовом цвете смотрится очень необычно. Touch ID очень быстрый и удобный. Всем советую этот телефон!',\n",
       " 'Отключается при температуре близкой к нулю, непонятно ведет себя батарея',\n",
       " 'В Apple окончательно решили не заморачиваться, делая незначительные изменения в телефоне, выдают эти изменения за инновации. На этот раз скопировали не только функционал, но и дизайн. Цена и была неадекватно завышена, а после скачка курса так и говорить об этом не приходится. Многие скажут, что и HD разрешения будет достаточно для такой диагонали, может так оно и есть, но аппарат позиционируется, как топовое решение, а в итоге получаем банальную экономию производителя, ведь что произойдёт с временем работы, если увеличить до FHD?! 1 гб оперативки тоже прошлый век! И не надо рассказывать сказки про великолепную оптимизацию iOS, чудес на свете не бывает, этого мало. Те кто скажет, что их не волнуют технические характеристики смартфона, главное чтоб он хорошо работал, телефон за 5000 будет так же хорошо работать, а отдавая (выбрасывая) 55000 нужно думать головой и понимать, что этих денег данный телефон просто непросто не может стоить! Про удобство использования стоит отметить, что больший по размерам Note 4 гораздо лучше лежит в руке и пользоваться им сподручнее.',\n",
       " 'Постарался наиболее ёмко и коротко описать все основные плюсы и минусы. Большим мне аппарат не показался, размеры - что надо. Внешний вид, как для меня, так 5-ка выглядит интереснее и солиднее.',\n",
       " 'Достойный телефон. Пользоваться одно удовольствие.']"
      ]
     },
     "execution_count": 44,
     "metadata": {},
     "output_type": "execute_result"
    }
   ],
   "source": [
    "data['Review'].head().tolist()"
   ]
  },
  {
   "cell_type": "markdown",
   "metadata": {
    "id": "-BBsTnYJC5LV"
   },
   "source": [
    "Извлечём фичи из текстовых данных векторизатором `TfidfVectorizer`\n"
   ]
  },
  {
   "cell_type": "code",
   "execution_count": 45,
   "metadata": {},
   "outputs": [],
   "source": [
    "text_features = []\n",
    "model_cb = CatBoostClassifier(iterations=1689,\n",
    "                                depth = 6,\n",
    "                                loss_function='MultiClass',\n",
    "                                thread_count=-1, \n",
    "                                random_seed=RANDOM_STATE, \n",
    "                                verbose=0, \n",
    "                                task_type = \"GPU\" \n",
    ")\n"
   ]
  },
  {
   "cell_type": "code",
   "execution_count": 46,
   "metadata": {},
   "outputs": [
    {
     "data": {
      "text/html": [
       "<div>\n",
       "<style scoped>\n",
       "    .dataframe tbody tr th:only-of-type {\n",
       "        vertical-align: middle;\n",
       "    }\n",
       "\n",
       "    .dataframe tbody tr th {\n",
       "        vertical-align: top;\n",
       "    }\n",
       "\n",
       "    .dataframe thead th {\n",
       "        text-align: right;\n",
       "    }\n",
       "</style>\n",
       "<table border=\"1\" class=\"dataframe\">\n",
       "  <thead>\n",
       "    <tr style=\"text-align: right;\">\n",
       "      <th></th>\n",
       "      <th>Review</th>\n",
       "    </tr>\n",
       "  </thead>\n",
       "  <tbody>\n",
       "    <tr>\n",
       "      <th>286602</th>\n",
       "      <td>\"Отличный аппарат\". Ни кому не советую. Так хо...</td>\n",
       "    </tr>\n",
       "    <tr>\n",
       "      <th>315859</th>\n",
       "      <td>Хороший телефон, очень нравится. И может кто-н...</td>\n",
       "    </tr>\n",
       "    <tr>\n",
       "      <th>145621</th>\n",
       "      <td>Очень хороший телефон за эти деньги</td>\n",
       "    </tr>\n",
       "    <tr>\n",
       "      <th>101118</th>\n",
       "      <td>Надоело смотреть комменты про то, как у многих...</td>\n",
       "    </tr>\n",
       "    <tr>\n",
       "      <th>373770</th>\n",
       "      <td>Внешний вид,экран,удобство.</td>\n",
       "    </tr>\n",
       "    <tr>\n",
       "      <th>...</th>\n",
       "      <td>...</td>\n",
       "    </tr>\n",
       "    <tr>\n",
       "      <th>318635</th>\n",
       "      <td>рекомендую. за свои деньги супер.особенно крас...</td>\n",
       "    </tr>\n",
       "    <tr>\n",
       "      <th>332415</th>\n",
       "      <td>Купили недавно, сначало всё было отлично, пото...</td>\n",
       "    </tr>\n",
       "    <tr>\n",
       "      <th>185599</th>\n",
       "      <td>Девайс отличный, хотя по моему мнению мог стои...</td>\n",
       "    </tr>\n",
       "    <tr>\n",
       "      <th>237056</th>\n",
       "      <td>сегодня я купил сей девай и очень рад этому в ...</td>\n",
       "    </tr>\n",
       "    <tr>\n",
       "      <th>259568</th>\n",
       "      <td>Советую всем. Самый удобный телефон для тех лю...</td>\n",
       "    </tr>\n",
       "  </tbody>\n",
       "</table>\n",
       "<p>343375 rows × 1 columns</p>\n",
       "</div>"
      ],
      "text/plain": [
       "                                                   Review\n",
       "286602  \"Отличный аппарат\". Ни кому не советую. Так хо...\n",
       "315859  Хороший телефон, очень нравится. И может кто-н...\n",
       "145621                Очень хороший телефон за эти деньги\n",
       "101118  Надоело смотреть комменты про то, как у многих...\n",
       "373770                        Внешний вид,экран,удобство.\n",
       "...                                                   ...\n",
       "318635  рекомендую. за свои деньги супер.особенно крас...\n",
       "332415  Купили недавно, сначало всё было отлично, пото...\n",
       "185599  Девайс отличный, хотя по моему мнению мог стои...\n",
       "237056  сегодня я купил сей девай и очень рад этому в ...\n",
       "259568  Советую всем. Самый удобный телефон для тех лю...\n",
       "\n",
       "[343375 rows x 1 columns]"
      ]
     },
     "execution_count": 46,
     "metadata": {},
     "output_type": "execute_result"
    }
   ],
   "source": [
    "train_x"
   ]
  },
  {
   "cell_type": "code",
   "execution_count": 47,
   "metadata": {
    "scrolled": true
   },
   "outputs": [],
   "source": [
    "vec_t = TfidfVectorizer(ngram_range=(2, 3), max_df=0.1)\n",
    "bow_t = vec_t.fit_transform(train_x['Review'])\n",
    "\n",
    "vec_tr_2_3 = pd.DataFrame.sparse.from_spmatrix(bow_t, columns=vec_t.get_feature_names_out()\n",
    "                                             )"
   ]
  },
  {
   "cell_type": "markdown",
   "metadata": {},
   "source": [
    "Уплотнить не удалось, сожмём размерность"
   ]
  },
  {
   "cell_type": "code",
   "execution_count": 48,
   "metadata": {},
   "outputs": [],
   "source": [
    "pca = PCA(n_components=100)  # Или любое количество компонентов, которое вам нужно\n"
   ]
  },
  {
   "cell_type": "markdown",
   "metadata": {},
   "source": [
    "Применяем PCA к данным"
   ]
  },
  {
   "cell_type": "code",
   "execution_count": 49,
   "metadata": {},
   "outputs": [],
   "source": [
    "\n",
    "\n",
    "pca_result = pca.fit_transform(vec_tr_2_3)\n"
   ]
  },
  {
   "cell_type": "code",
   "execution_count": 50,
   "metadata": {
    "scrolled": true
   },
   "outputs": [
    {
     "data": {
      "text/plain": [
       "[('отличный аппарат', 6615402),\n",
       " ('аппарат ни', 778103),\n",
       " ('ни кому', 5833735),\n",
       " ('кому не', 4033654),\n",
       " ('не советую', 5544021),\n",
       " ('советую так', 9302586),\n",
       " ('так хотел', 9708077),\n",
       " ('хотел его', 10766694),\n",
       " ('его купить', 2718327),\n",
       " ('купить как', 4268876),\n",
       " ('как только', 3732625),\n",
       " ('только он', 10132934),\n",
       " ('он вышел', 6320592),\n",
       " ('вышел теперь', 1940378),\n",
       " ('теперь никогда', 9977745),\n",
       " ('никогда жизни', 5865138),\n",
       " ('жизни не', 2955241),\n",
       " ('не возьму', 5385942),\n",
       " ('возьму больше', 1542466),\n",
       " ('больше htc', 993585)]"
      ]
     },
     "execution_count": 50,
     "metadata": {},
     "output_type": "execute_result"
    }
   ],
   "source": [
    "list(vec_t.vocabulary_.items())[:20]\n"
   ]
  },
  {
   "cell_type": "markdown",
   "metadata": {},
   "source": [
    "самое первое слово - меня. Что же, отзывы наши, конечно всё меряем от себя"
   ]
  },
  {
   "cell_type": "code",
   "execution_count": 51,
   "metadata": {
    "scrolled": true
   },
   "outputs": [
    {
     "data": {
      "text/html": [
       "<div>\n",
       "<style scoped>\n",
       "    .dataframe tbody tr th:only-of-type {\n",
       "        vertical-align: middle;\n",
       "    }\n",
       "\n",
       "    .dataframe tbody tr th {\n",
       "        vertical-align: top;\n",
       "    }\n",
       "\n",
       "    .dataframe thead th {\n",
       "        text-align: right;\n",
       "    }\n",
       "</style>\n",
       "<table border=\"1\" class=\"dataframe\">\n",
       "  <thead>\n",
       "    <tr style=\"text-align: right;\">\n",
       "      <th></th>\n",
       "      <th>00 00</th>\n",
       "      <th>00 00 00</th>\n",
       "      <th>00 00 40</th>\n",
       "      <th>00 00 активнейшего</th>\n",
       "      <th>00 00 бывало</th>\n",
       "      <th>00 00 включение</th>\n",
       "      <th>00 00 воскресенья</th>\n",
       "      <th>00 00 даже</th>\n",
       "      <th>00 00 до</th>\n",
       "      <th>00 00 если</th>\n",
       "      <th>...</th>\n",
       "      <th>ґаджет для</th>\n",
       "      <th>ґаджет для людей</th>\n",
       "      <th>ґлобалки когда</th>\n",
       "      <th>ґлобалки когда она</th>\n",
       "      <th>ಠ益ಠლ заменили</th>\n",
       "      <th>ಠ益ಠლ заменили кнопки</th>\n",
       "      <th>为您找到相关结 этот</th>\n",
       "      <th>为您找到相关结 этот момент</th>\n",
       "      <th>魅族 через</th>\n",
       "      <th>魅族 через пару</th>\n",
       "    </tr>\n",
       "  </thead>\n",
       "  <tbody>\n",
       "    <tr>\n",
       "      <th>0</th>\n",
       "      <td>0</td>\n",
       "      <td>0</td>\n",
       "      <td>0</td>\n",
       "      <td>0</td>\n",
       "      <td>0</td>\n",
       "      <td>0</td>\n",
       "      <td>0</td>\n",
       "      <td>0</td>\n",
       "      <td>0</td>\n",
       "      <td>0</td>\n",
       "      <td>...</td>\n",
       "      <td>0</td>\n",
       "      <td>0</td>\n",
       "      <td>0</td>\n",
       "      <td>0</td>\n",
       "      <td>0</td>\n",
       "      <td>0</td>\n",
       "      <td>0</td>\n",
       "      <td>0</td>\n",
       "      <td>0</td>\n",
       "      <td>0</td>\n",
       "    </tr>\n",
       "    <tr>\n",
       "      <th>1</th>\n",
       "      <td>0</td>\n",
       "      <td>0</td>\n",
       "      <td>0</td>\n",
       "      <td>0</td>\n",
       "      <td>0</td>\n",
       "      <td>0</td>\n",
       "      <td>0</td>\n",
       "      <td>0</td>\n",
       "      <td>0</td>\n",
       "      <td>0</td>\n",
       "      <td>...</td>\n",
       "      <td>0</td>\n",
       "      <td>0</td>\n",
       "      <td>0</td>\n",
       "      <td>0</td>\n",
       "      <td>0</td>\n",
       "      <td>0</td>\n",
       "      <td>0</td>\n",
       "      <td>0</td>\n",
       "      <td>0</td>\n",
       "      <td>0</td>\n",
       "    </tr>\n",
       "    <tr>\n",
       "      <th>2</th>\n",
       "      <td>0</td>\n",
       "      <td>0</td>\n",
       "      <td>0</td>\n",
       "      <td>0</td>\n",
       "      <td>0</td>\n",
       "      <td>0</td>\n",
       "      <td>0</td>\n",
       "      <td>0</td>\n",
       "      <td>0</td>\n",
       "      <td>0</td>\n",
       "      <td>...</td>\n",
       "      <td>0</td>\n",
       "      <td>0</td>\n",
       "      <td>0</td>\n",
       "      <td>0</td>\n",
       "      <td>0</td>\n",
       "      <td>0</td>\n",
       "      <td>0</td>\n",
       "      <td>0</td>\n",
       "      <td>0</td>\n",
       "      <td>0</td>\n",
       "    </tr>\n",
       "    <tr>\n",
       "      <th>3</th>\n",
       "      <td>0</td>\n",
       "      <td>0</td>\n",
       "      <td>0</td>\n",
       "      <td>0</td>\n",
       "      <td>0</td>\n",
       "      <td>0</td>\n",
       "      <td>0</td>\n",
       "      <td>0</td>\n",
       "      <td>0</td>\n",
       "      <td>0</td>\n",
       "      <td>...</td>\n",
       "      <td>0</td>\n",
       "      <td>0</td>\n",
       "      <td>0</td>\n",
       "      <td>0</td>\n",
       "      <td>0</td>\n",
       "      <td>0</td>\n",
       "      <td>0</td>\n",
       "      <td>0</td>\n",
       "      <td>0</td>\n",
       "      <td>0</td>\n",
       "    </tr>\n",
       "    <tr>\n",
       "      <th>4</th>\n",
       "      <td>0</td>\n",
       "      <td>0</td>\n",
       "      <td>0</td>\n",
       "      <td>0</td>\n",
       "      <td>0</td>\n",
       "      <td>0</td>\n",
       "      <td>0</td>\n",
       "      <td>0</td>\n",
       "      <td>0</td>\n",
       "      <td>0</td>\n",
       "      <td>...</td>\n",
       "      <td>0</td>\n",
       "      <td>0</td>\n",
       "      <td>0</td>\n",
       "      <td>0</td>\n",
       "      <td>0</td>\n",
       "      <td>0</td>\n",
       "      <td>0</td>\n",
       "      <td>0</td>\n",
       "      <td>0</td>\n",
       "      <td>0</td>\n",
       "    </tr>\n",
       "    <tr>\n",
       "      <th>...</th>\n",
       "      <td>...</td>\n",
       "      <td>...</td>\n",
       "      <td>...</td>\n",
       "      <td>...</td>\n",
       "      <td>...</td>\n",
       "      <td>...</td>\n",
       "      <td>...</td>\n",
       "      <td>...</td>\n",
       "      <td>...</td>\n",
       "      <td>...</td>\n",
       "      <td>...</td>\n",
       "      <td>...</td>\n",
       "      <td>...</td>\n",
       "      <td>...</td>\n",
       "      <td>...</td>\n",
       "      <td>...</td>\n",
       "      <td>...</td>\n",
       "      <td>...</td>\n",
       "      <td>...</td>\n",
       "      <td>...</td>\n",
       "      <td>...</td>\n",
       "    </tr>\n",
       "    <tr>\n",
       "      <th>343370</th>\n",
       "      <td>0</td>\n",
       "      <td>0</td>\n",
       "      <td>0</td>\n",
       "      <td>0</td>\n",
       "      <td>0</td>\n",
       "      <td>0</td>\n",
       "      <td>0</td>\n",
       "      <td>0</td>\n",
       "      <td>0</td>\n",
       "      <td>0</td>\n",
       "      <td>...</td>\n",
       "      <td>0</td>\n",
       "      <td>0</td>\n",
       "      <td>0</td>\n",
       "      <td>0</td>\n",
       "      <td>0</td>\n",
       "      <td>0</td>\n",
       "      <td>0</td>\n",
       "      <td>0</td>\n",
       "      <td>0</td>\n",
       "      <td>0</td>\n",
       "    </tr>\n",
       "    <tr>\n",
       "      <th>343371</th>\n",
       "      <td>0</td>\n",
       "      <td>0</td>\n",
       "      <td>0</td>\n",
       "      <td>0</td>\n",
       "      <td>0</td>\n",
       "      <td>0</td>\n",
       "      <td>0</td>\n",
       "      <td>0</td>\n",
       "      <td>0</td>\n",
       "      <td>0</td>\n",
       "      <td>...</td>\n",
       "      <td>0</td>\n",
       "      <td>0</td>\n",
       "      <td>0</td>\n",
       "      <td>0</td>\n",
       "      <td>0</td>\n",
       "      <td>0</td>\n",
       "      <td>0</td>\n",
       "      <td>0</td>\n",
       "      <td>0</td>\n",
       "      <td>0</td>\n",
       "    </tr>\n",
       "    <tr>\n",
       "      <th>343372</th>\n",
       "      <td>0</td>\n",
       "      <td>0</td>\n",
       "      <td>0</td>\n",
       "      <td>0</td>\n",
       "      <td>0</td>\n",
       "      <td>0</td>\n",
       "      <td>0</td>\n",
       "      <td>0</td>\n",
       "      <td>0</td>\n",
       "      <td>0</td>\n",
       "      <td>...</td>\n",
       "      <td>0</td>\n",
       "      <td>0</td>\n",
       "      <td>0</td>\n",
       "      <td>0</td>\n",
       "      <td>0</td>\n",
       "      <td>0</td>\n",
       "      <td>0</td>\n",
       "      <td>0</td>\n",
       "      <td>0</td>\n",
       "      <td>0</td>\n",
       "    </tr>\n",
       "    <tr>\n",
       "      <th>343373</th>\n",
       "      <td>0</td>\n",
       "      <td>0</td>\n",
       "      <td>0</td>\n",
       "      <td>0</td>\n",
       "      <td>0</td>\n",
       "      <td>0</td>\n",
       "      <td>0</td>\n",
       "      <td>0</td>\n",
       "      <td>0</td>\n",
       "      <td>0</td>\n",
       "      <td>...</td>\n",
       "      <td>0</td>\n",
       "      <td>0</td>\n",
       "      <td>0</td>\n",
       "      <td>0</td>\n",
       "      <td>0</td>\n",
       "      <td>0</td>\n",
       "      <td>0</td>\n",
       "      <td>0</td>\n",
       "      <td>0</td>\n",
       "      <td>0</td>\n",
       "    </tr>\n",
       "    <tr>\n",
       "      <th>343374</th>\n",
       "      <td>0</td>\n",
       "      <td>0</td>\n",
       "      <td>0</td>\n",
       "      <td>0</td>\n",
       "      <td>0</td>\n",
       "      <td>0</td>\n",
       "      <td>0</td>\n",
       "      <td>0</td>\n",
       "      <td>0</td>\n",
       "      <td>0</td>\n",
       "      <td>...</td>\n",
       "      <td>0</td>\n",
       "      <td>0</td>\n",
       "      <td>0</td>\n",
       "      <td>0</td>\n",
       "      <td>0</td>\n",
       "      <td>0</td>\n",
       "      <td>0</td>\n",
       "      <td>0</td>\n",
       "      <td>0</td>\n",
       "      <td>0</td>\n",
       "    </tr>\n",
       "  </tbody>\n",
       "</table>\n",
       "<p>343375 rows × 11476953 columns</p>\n",
       "</div>"
      ],
      "text/plain": [
       "        00 00  00 00 00  00 00 40  00 00 активнейшего  00 00 бывало  \\\n",
       "0           0         0         0                   0             0   \n",
       "1           0         0         0                   0             0   \n",
       "2           0         0         0                   0             0   \n",
       "3           0         0         0                   0             0   \n",
       "4           0         0         0                   0             0   \n",
       "...       ...       ...       ...                 ...           ...   \n",
       "343370      0         0         0                   0             0   \n",
       "343371      0         0         0                   0             0   \n",
       "343372      0         0         0                   0             0   \n",
       "343373      0         0         0                   0             0   \n",
       "343374      0         0         0                   0             0   \n",
       "\n",
       "        00 00 включение  00 00 воскресенья  00 00 даже  00 00 до  00 00 если  \\\n",
       "0                     0                  0           0         0           0   \n",
       "1                     0                  0           0         0           0   \n",
       "2                     0                  0           0         0           0   \n",
       "3                     0                  0           0         0           0   \n",
       "4                     0                  0           0         0           0   \n",
       "...                 ...                ...         ...       ...         ...   \n",
       "343370                0                  0           0         0           0   \n",
       "343371                0                  0           0         0           0   \n",
       "343372                0                  0           0         0           0   \n",
       "343373                0                  0           0         0           0   \n",
       "343374                0                  0           0         0           0   \n",
       "\n",
       "        ...  ґаджет для  ґаджет для людей  ґлобалки когда  ґлобалки когда она  \\\n",
       "0       ...           0                 0               0                   0   \n",
       "1       ...           0                 0               0                   0   \n",
       "2       ...           0                 0               0                   0   \n",
       "3       ...           0                 0               0                   0   \n",
       "4       ...           0                 0               0                   0   \n",
       "...     ...         ...               ...             ...                 ...   \n",
       "343370  ...           0                 0               0                   0   \n",
       "343371  ...           0                 0               0                   0   \n",
       "343372  ...           0                 0               0                   0   \n",
       "343373  ...           0                 0               0                   0   \n",
       "343374  ...           0                 0               0                   0   \n",
       "\n",
       "        ಠ益ಠლ заменили  ಠ益ಠლ заменили кнопки  为您找到相关结 этот  \\\n",
       "0                   0                     0             0   \n",
       "1                   0                     0             0   \n",
       "2                   0                     0             0   \n",
       "3                   0                     0             0   \n",
       "4                   0                     0             0   \n",
       "...               ...                   ...           ...   \n",
       "343370              0                     0             0   \n",
       "343371              0                     0             0   \n",
       "343372              0                     0             0   \n",
       "343373              0                     0             0   \n",
       "343374              0                     0             0   \n",
       "\n",
       "        为您找到相关结 этот момент  魅族 через  魅族 через пару  \n",
       "0                         0         0              0  \n",
       "1                         0         0              0  \n",
       "2                         0         0              0  \n",
       "3                         0         0              0  \n",
       "4                         0         0              0  \n",
       "...                     ...       ...            ...  \n",
       "343370                    0         0              0  \n",
       "343371                    0         0              0  \n",
       "343372                    0         0              0  \n",
       "343373                    0         0              0  \n",
       "343374                    0         0              0  \n",
       "\n",
       "[343375 rows x 11476953 columns]"
      ]
     },
     "execution_count": 51,
     "metadata": {},
     "output_type": "execute_result"
    }
   ],
   "source": [
    "vec_tr_2_3\n"
   ]
  },
  {
   "cell_type": "markdown",
   "metadata": {},
   "source": [
    "Ого-го, японские иероглифы???! Ну ладно."
   ]
  },
  {
   "cell_type": "code",
   "execution_count": 52,
   "metadata": {},
   "outputs": [],
   "source": [
    "vec = TfidfVectorizer(ngram_range=(2, 3), max_df=0.1)\n",
    "bow_test = vec.fit_transform(test_x['Review'])\n",
    "\n",
    "vec_test = pd.DataFrame.sparse.from_spmatrix(bow_test, columns=vec.get_feature_names_out())"
   ]
  },
  {
   "cell_type": "code",
   "execution_count": 53,
   "metadata": {},
   "outputs": [
    {
     "data": {
      "text/plain": [
       "[('смартфон целом', 4703715),\n",
       " ('целом хороший', 5569313),\n",
       " ('хороший экран', 5510760),\n",
       " ('экран 08', 5756764),\n",
       " ('08 дюйма', 3473),\n",
       " ('дюйма хотел', 1373212),\n",
       " ('хотел взять', 5519994),\n",
       " ('взять не', 692742),\n",
       " ('не более', 2750981),\n",
       " ('более дюймов', 486890),\n",
       " ('дюймов но', 1373678),\n",
       " ('но общем', 3046980),\n",
       " ('общем удобно', 3186100),\n",
       " ('удобно лежит', 5307359),\n",
       " ('лежит руке', 2208016),\n",
       " ('руке комплекте', 4432254),\n",
       " ('комплекте шла', 2057004),\n",
       " ('шла пленка', 5738328),\n",
       " ('пленка темно', 3587213),\n",
       " ('темно серый', 5112202)]"
      ]
     },
     "execution_count": 53,
     "metadata": {},
     "output_type": "execute_result"
    }
   ],
   "source": [
    "list(vec.vocabulary_.items())[:20]"
   ]
  },
  {
   "cell_type": "code",
   "execution_count": 54,
   "metadata": {},
   "outputs": [
    {
     "data": {
      "text/plain": [
       "(343375, 114459)"
      ]
     },
     "execution_count": 54,
     "metadata": {},
     "output_type": "execute_result"
    }
   ],
   "source": [
    "len(vec_tr_2_3), len(vec_test), "
   ]
  },
  {
   "cell_type": "markdown",
   "metadata": {},
   "source": [
    "На глубине 6 без РСА  умирало ядро. Уменьшаем глубину до 3, количество итераций. Тот же эффект. Наверное, нужно плотный датасет сделать, сейчас. Нет, плотный датасет не помог, оставим последнюю надежду, РСА."
   ]
  },
  {
   "cell_type": "code",
   "execution_count": 55,
   "metadata": {},
   "outputs": [],
   "source": [
    "pca_test = pca.fit_transform(vec_test)"
   ]
  },
  {
   "cell_type": "code",
   "execution_count": 56,
   "metadata": {
    "scrolled": true
   },
   "outputs": [
    {
     "data": {
      "text/html": [
       "<div>\n",
       "<style scoped>\n",
       "    .dataframe tbody tr th:only-of-type {\n",
       "        vertical-align: middle;\n",
       "    }\n",
       "\n",
       "    .dataframe tbody tr th {\n",
       "        vertical-align: top;\n",
       "    }\n",
       "\n",
       "    .dataframe thead th {\n",
       "        text-align: right;\n",
       "    }\n",
       "</style>\n",
       "<table border=\"1\" class=\"dataframe\">\n",
       "  <thead>\n",
       "    <tr style=\"text-align: right;\">\n",
       "      <th></th>\n",
       "      <th>0</th>\n",
       "      <th>1</th>\n",
       "      <th>2</th>\n",
       "      <th>3</th>\n",
       "      <th>4</th>\n",
       "      <th>5</th>\n",
       "      <th>6</th>\n",
       "      <th>7</th>\n",
       "      <th>8</th>\n",
       "      <th>9</th>\n",
       "      <th>...</th>\n",
       "      <th>90</th>\n",
       "      <th>91</th>\n",
       "      <th>92</th>\n",
       "      <th>93</th>\n",
       "      <th>94</th>\n",
       "      <th>95</th>\n",
       "      <th>96</th>\n",
       "      <th>97</th>\n",
       "      <th>98</th>\n",
       "      <th>99</th>\n",
       "    </tr>\n",
       "  </thead>\n",
       "  <tbody>\n",
       "    <tr>\n",
       "      <th>0</th>\n",
       "      <td>-0.004143</td>\n",
       "      <td>-0.002704</td>\n",
       "      <td>-0.000111</td>\n",
       "      <td>0.001850</td>\n",
       "      <td>-0.002944</td>\n",
       "      <td>-0.001413</td>\n",
       "      <td>-0.003117</td>\n",
       "      <td>-0.000655</td>\n",
       "      <td>-0.002177</td>\n",
       "      <td>-0.001900</td>\n",
       "      <td>...</td>\n",
       "      <td>-0.001009</td>\n",
       "      <td>-0.000900</td>\n",
       "      <td>-0.007237</td>\n",
       "      <td>-0.002225</td>\n",
       "      <td>0.000699</td>\n",
       "      <td>0.001558</td>\n",
       "      <td>-0.001281</td>\n",
       "      <td>-0.000713</td>\n",
       "      <td>-0.001335</td>\n",
       "      <td>-0.000445</td>\n",
       "    </tr>\n",
       "    <tr>\n",
       "      <th>1</th>\n",
       "      <td>-0.004503</td>\n",
       "      <td>-0.003644</td>\n",
       "      <td>-0.003227</td>\n",
       "      <td>0.000280</td>\n",
       "      <td>-0.002694</td>\n",
       "      <td>-0.001841</td>\n",
       "      <td>-0.003019</td>\n",
       "      <td>-0.000489</td>\n",
       "      <td>-0.001937</td>\n",
       "      <td>-0.002145</td>\n",
       "      <td>...</td>\n",
       "      <td>0.000031</td>\n",
       "      <td>0.001647</td>\n",
       "      <td>0.001179</td>\n",
       "      <td>-0.002398</td>\n",
       "      <td>-0.002278</td>\n",
       "      <td>0.002260</td>\n",
       "      <td>-0.000210</td>\n",
       "      <td>-0.001403</td>\n",
       "      <td>0.001030</td>\n",
       "      <td>-0.001417</td>\n",
       "    </tr>\n",
       "    <tr>\n",
       "      <th>2</th>\n",
       "      <td>-0.004350</td>\n",
       "      <td>-0.004138</td>\n",
       "      <td>-0.003746</td>\n",
       "      <td>-0.000639</td>\n",
       "      <td>-0.004580</td>\n",
       "      <td>-0.002280</td>\n",
       "      <td>-0.004618</td>\n",
       "      <td>-0.002446</td>\n",
       "      <td>-0.002582</td>\n",
       "      <td>-0.001932</td>\n",
       "      <td>...</td>\n",
       "      <td>0.007906</td>\n",
       "      <td>-0.014207</td>\n",
       "      <td>0.006667</td>\n",
       "      <td>-0.007824</td>\n",
       "      <td>-0.012921</td>\n",
       "      <td>-0.023103</td>\n",
       "      <td>-0.050701</td>\n",
       "      <td>0.014829</td>\n",
       "      <td>0.015782</td>\n",
       "      <td>0.004875</td>\n",
       "    </tr>\n",
       "    <tr>\n",
       "      <th>3</th>\n",
       "      <td>0.013990</td>\n",
       "      <td>0.003255</td>\n",
       "      <td>0.040390</td>\n",
       "      <td>-0.061492</td>\n",
       "      <td>0.004142</td>\n",
       "      <td>0.000916</td>\n",
       "      <td>-0.012187</td>\n",
       "      <td>0.000401</td>\n",
       "      <td>-0.000835</td>\n",
       "      <td>-0.002480</td>\n",
       "      <td>...</td>\n",
       "      <td>0.001199</td>\n",
       "      <td>-0.005552</td>\n",
       "      <td>0.000297</td>\n",
       "      <td>0.002150</td>\n",
       "      <td>-0.000272</td>\n",
       "      <td>-0.008326</td>\n",
       "      <td>0.001933</td>\n",
       "      <td>-0.005807</td>\n",
       "      <td>-0.025237</td>\n",
       "      <td>-0.000646</td>\n",
       "    </tr>\n",
       "    <tr>\n",
       "      <th>4</th>\n",
       "      <td>0.000842</td>\n",
       "      <td>0.037376</td>\n",
       "      <td>0.111126</td>\n",
       "      <td>0.109664</td>\n",
       "      <td>-0.007243</td>\n",
       "      <td>-0.006371</td>\n",
       "      <td>-0.012272</td>\n",
       "      <td>-0.007214</td>\n",
       "      <td>0.019895</td>\n",
       "      <td>-0.004357</td>\n",
       "      <td>...</td>\n",
       "      <td>0.007736</td>\n",
       "      <td>0.002830</td>\n",
       "      <td>0.030095</td>\n",
       "      <td>0.022578</td>\n",
       "      <td>-0.009009</td>\n",
       "      <td>0.000081</td>\n",
       "      <td>0.001153</td>\n",
       "      <td>0.003871</td>\n",
       "      <td>0.000371</td>\n",
       "      <td>0.007131</td>\n",
       "    </tr>\n",
       "  </tbody>\n",
       "</table>\n",
       "<p>5 rows × 100 columns</p>\n",
       "</div>"
      ],
      "text/plain": [
       "         0         1         2         3         4         5         6   \\\n",
       "0 -0.004143 -0.002704 -0.000111  0.001850 -0.002944 -0.001413 -0.003117   \n",
       "1 -0.004503 -0.003644 -0.003227  0.000280 -0.002694 -0.001841 -0.003019   \n",
       "2 -0.004350 -0.004138 -0.003746 -0.000639 -0.004580 -0.002280 -0.004618   \n",
       "3  0.013990  0.003255  0.040390 -0.061492  0.004142  0.000916 -0.012187   \n",
       "4  0.000842  0.037376  0.111126  0.109664 -0.007243 -0.006371 -0.012272   \n",
       "\n",
       "         7         8         9   ...        90        91        92        93  \\\n",
       "0 -0.000655 -0.002177 -0.001900  ... -0.001009 -0.000900 -0.007237 -0.002225   \n",
       "1 -0.000489 -0.001937 -0.002145  ...  0.000031  0.001647  0.001179 -0.002398   \n",
       "2 -0.002446 -0.002582 -0.001932  ...  0.007906 -0.014207  0.006667 -0.007824   \n",
       "3  0.000401 -0.000835 -0.002480  ...  0.001199 -0.005552  0.000297  0.002150   \n",
       "4 -0.007214  0.019895 -0.004357  ...  0.007736  0.002830  0.030095  0.022578   \n",
       "\n",
       "         94        95        96        97        98        99  \n",
       "0  0.000699  0.001558 -0.001281 -0.000713 -0.001335 -0.000445  \n",
       "1 -0.002278  0.002260 -0.000210 -0.001403  0.001030 -0.001417  \n",
       "2 -0.012921 -0.023103 -0.050701  0.014829  0.015782  0.004875  \n",
       "3 -0.000272 -0.008326  0.001933 -0.005807 -0.025237 -0.000646  \n",
       "4 -0.009009  0.000081  0.001153  0.003871  0.000371  0.007131  \n",
       "\n",
       "[5 rows x 100 columns]"
      ]
     },
     "execution_count": 56,
     "metadata": {},
     "output_type": "execute_result"
    }
   ],
   "source": [
    "pd.DataFrame(pca_test).head()"
   ]
  },
  {
   "cell_type": "markdown",
   "metadata": {},
   "source": [
    "Ну вот получилось что-то. Никаких иероглифов и цифр. Но хватит ли этого для хороших метрик?"
   ]
  },
  {
   "cell_type": "code",
   "execution_count": 57,
   "metadata": {
    "colab": {
     "base_uri": "https://localhost:8080/"
    },
    "executionInfo": {
     "elapsed": 19045,
     "status": "ok",
     "timestamp": 1628179349622,
     "user": {
      "displayName": "Артур Сапрыкин",
      "photoUrl": "",
      "userId": "16185371824692237125"
     },
     "user_tz": -180
    },
    "id": "qdOOyOjtC5LY",
    "outputId": "8d2d8d4b-8dd2-4ec5-fe9e-90c3b0903721"
   },
   "outputs": [
    {
     "data": {
      "application/vnd.jupyter.widget-view+json": {
       "model_id": "7c67b2dda109454396fe2656068763cf",
       "version_major": 2,
       "version_minor": 0
      },
      "text/plain": [
       "MetricVisualizer(layout=Layout(align_self='stretch', height='500px'))"
      ]
     },
     "metadata": {},
     "output_type": "display_data"
    }
   ],
   "source": [
    "model_cb.fit(pca_result, train_y, plot= True)\n",
    "pred = model_cb.predict(pca_test)\n"
   ]
  },
  {
   "cell_type": "code",
   "execution_count": 58,
   "metadata": {
    "scrolled": true
   },
   "outputs": [
    {
     "name": "stdout",
     "output_type": "stream",
     "text": [
      "\n",
      "              precision    recall  f1-score   support\n",
      "\n",
      "           1       0.10      0.03      0.04      8652\n",
      "           2       0.10      0.03      0.05      8867\n",
      "           3       0.14      0.05      0.07     13286\n",
      "           4       0.22      0.16      0.18     26766\n",
      "           5       0.50      0.75      0.60     56888\n",
      "\n",
      "    accuracy                           0.42    114459\n",
      "   macro avg       0.21      0.20      0.19    114459\n",
      "weighted avg       0.33      0.42      0.36    114459\n",
      "\n",
      "\n",
      "Confusion Matrix\n",
      "\n",
      "[[  228   327   450  1532  6115]\n",
      " [  200   302   473  1490  6402]\n",
      " [  131   320   654  2131 10050]\n",
      " [  318   546  1027  4152 20723]\n",
      " [ 1393  1427  1976  9157 42935]]\n",
      "AUC ROC train:  0.8904209435067678\n",
      "AUC ROC test:  0.8726544141589742\n"
     ]
    }
   ],
   "source": [
    "test_cat = model_cb.predict(pca_test)\n",
    "proba_cat = model_cb.predict_proba(pca_test)\n",
    "\n",
    "train_pred = model_cb.predict(pca_result)\n",
    "proba_train = model_cb.predict_proba(pca_result)\n",
    " \n",
    "test_pred = model_cb.predict(pca_test)\n",
    "y_pred=test_pred\n",
    "confusion = confusion_matrix(test_y, test_pred)\n",
    "\n",
    "print(CR + classification_report(test_y,test_pred)) \n",
    "\n",
    "print(CR + 'Confusion Matrix\\n')\n",
    "print(confusion)\n",
    "auc_tr = roc_auc_score(train_y, proba_train, multi_class='ovr')\n",
    "auc_test = roc_auc_score(test_y, proba_test, multi_class='ovr')\n",
    "print('AUC ROC train: ',auc_tr)\n",
    "print('AUC ROC test: ',auc_test)"
   ]
  },
  {
   "cell_type": "code",
   "execution_count": 59,
   "metadata": {
    "scrolled": true
   },
   "outputs": [
    {
     "name": "stdout",
     "output_type": "stream",
     "text": [
      "Root Mean Squared Error на тестовой выборке: 1.6194142091401955\n",
      "Mean Absolute Error на тестовой выборке: 1.0721131584235404\n",
      "R2 на тестовой выборке: -0.635709828717224\n"
     ]
    }
   ],
   "source": [
    "mse = mean_squared_error(test_y, y_pred)\n",
    "\n",
    "rmse = root_mean_squared_error(test_y, y_pred)\n",
    "mae = mean_absolute_error(test_y, y_pred)\n",
    "print(\"Root Mean Squared Error на тестовой выборке:\", rmse)\n",
    "print(\"Mean Absolute Error на тестовой выборке:\", mae)\n",
    "r2 = r2_score(test_y, y_pred)\n",
    "print(\"R2 на тестовой выборке:\", r2)"
   ]
  },
  {
   "cell_type": "markdown",
   "metadata": {},
   "source": [
    "Да, дела (((( Очень плохо получилось. И не разобрать, что тут результат TF-IDF, а что - РСА. А без РСА не считалось."
   ]
  },
  {
   "cell_type": "markdown",
   "metadata": {},
   "source": []
  },
  {
   "cell_type": "markdown",
   "metadata": {
    "id": "-rVchuv-C5LY"
   },
   "source": [
    "## Токенизация\n",
    "\n",
    "Токенизируем наш текст."
   ]
  },
  {
   "cell_type": "code",
   "execution_count": 60,
   "metadata": {
    "colab": {
     "base_uri": "https://localhost:8080/"
    },
    "executionInfo": {
     "elapsed": 34,
     "status": "ok",
     "timestamp": 1628179363352,
     "user": {
      "displayName": "Артур Сапрыкин",
      "photoUrl": "",
      "userId": "16185371824692237125"
     },
     "user_tz": -180
    },
    "id": "giLO_E4gC5LY",
    "outputId": "0830b0c8-8a45-4666-b2c0-b54465fd23f1",
    "scrolled": true
   },
   "outputs": [
    {
     "name": "stdout",
     "output_type": "stream",
     "text": [
      "['3D', 'Touch', 'просто', 'восхитительная', 'вещь!', 'Заряд', 'держит', 'целый', 'день.', 'В', 'розовом', 'цвете', 'смотрится', 'очень', 'необычно.', 'Touch', 'ID', 'очень', 'быстрый', 'и', 'удобный.', 'Всем', 'советую', 'этот', 'телефон!']\n"
     ]
    }
   ],
   "source": [
    "print(data['Review'].iloc[0].split())"
   ]
  },
  {
   "cell_type": "markdown",
   "metadata": {},
   "source": [
    "Так нехорошо, пунктуация остаётся не там"
   ]
  },
  {
   "cell_type": "code",
   "execution_count": 61,
   "metadata": {
    "colab": {
     "base_uri": "https://localhost:8080/"
    },
    "executionInfo": {
     "elapsed": 24,
     "status": "ok",
     "timestamp": 1628179363352,
     "user": {
      "displayName": "Артур Сапрыкин",
      "photoUrl": "",
      "userId": "16185371824692237125"
     },
     "user_tz": -180
    },
    "id": "ZknqHZuGC5LZ",
    "outputId": "1f0033fc-bf04-4265-f457-4457f174a917"
   },
   "outputs": [
    {
     "data": {
      "text/plain": [
       "array(['00 13 сентября', '00 14', '00 14 каким', '00 15', '00 15 00',\n",
       "       '00 16', '00 16 00', '00 17', '00 17 30', '00 20', '00 20 00',\n",
       "       '00 20 00p', '00 20 подробных', '00 20120125',\n",
       "       '00 20120125 телефон', '00 24', '00 24 00', '00 29',\n",
       "       '00 29 вайбер', '00 30'], dtype=object)"
      ]
     },
     "execution_count": 61,
     "metadata": {},
     "output_type": "execute_result"
    }
   ],
   "source": [
    "vec.get_feature_names_out()[20:40]"
   ]
  },
  {
   "cell_type": "markdown",
   "metadata": {
    "id": "mFTfeSiUC5LZ"
   },
   "source": [
    "Попробуем разбивать текст на слова с использованием регулярных выражений."
   ]
  },
  {
   "cell_type": "code",
   "execution_count": 62,
   "metadata": {
    "executionInfo": {
     "elapsed": 7,
     "status": "ok",
     "timestamp": 1628179363352,
     "user": {
      "displayName": "Артур Сапрыкин",
      "photoUrl": "",
      "userId": "16185371824692237125"
     },
     "user_tz": -180
    },
    "id": "VZGPka_6C5LZ"
   },
   "outputs": [],
   "source": [
    "import re\n",
    "regex = re.compile(\"[А-ЯЁа-яёA-Za-z!\\d]+\")\n",
    "\n",
    "def words_only(text, regex=regex):\n",
    "    try:\n",
    "        return \" \".join(regex.findall(text))\n",
    "    except:\n",
    "        return \"\"\n"
   ]
  },
  {
   "cell_type": "code",
   "execution_count": 63,
   "metadata": {
    "colab": {
     "base_uri": "https://localhost:8080/",
     "height": 35
    },
    "executionInfo": {
     "elapsed": 6,
     "status": "ok",
     "timestamp": 1628179363352,
     "user": {
      "displayName": "Артур Сапрыкин",
      "photoUrl": "",
      "userId": "16185371824692237125"
     },
     "user_tz": -180
    },
    "id": "OLFhWSwNC5LZ",
    "outputId": "4d907bed-362f-49a8-d981-fc53ae6b8b93"
   },
   "outputs": [
    {
     "data": {
      "text/plain": [
       "'3D Touch просто восхитительная вещь! Заряд держит целый день В розовом цвете смотрится очень необычно Touch ID очень быстрый и удобный Всем советую этот телефон!'"
      ]
     },
     "execution_count": 63,
     "metadata": {},
     "output_type": "execute_result"
    }
   ],
   "source": [
    "words_only(data['Review'].iloc[0])"
   ]
  },
  {
   "cell_type": "markdown",
   "metadata": {
    "colab": {
     "base_uri": "https://localhost:8080/"
    },
    "executionInfo": {
     "elapsed": 3445,
     "status": "ok",
     "timestamp": 1628179729258,
     "user": {
      "displayName": "Артур Сапрыкин",
      "photoUrl": "",
      "userId": "16185371824692237125"
     },
     "user_tz": -180
    },
    "id": "hO7P47oYEtL_",
    "outputId": "ef1988b3-8286-43be-d04a-1f4036b8441e"
   },
   "source": [
    "Неплохо, но воспользуемся штатным токенизатором:"
   ]
  },
  {
   "cell_type": "code",
   "execution_count": 64,
   "metadata": {
    "colab": {
     "base_uri": "https://localhost:8080/"
    },
    "executionInfo": {
     "elapsed": 490,
     "status": "ok",
     "timestamp": 1628179762078,
     "user": {
      "displayName": "Артур Сапрыкин",
      "photoUrl": "",
      "userId": "16185371824692237125"
     },
     "user_tz": -180
    },
    "id": "58z0fFkeC5LZ",
    "outputId": "156e3098-cba0-45ea-9c01-f6baae65b7fa",
    "scrolled": false
   },
   "outputs": [
    {
     "data": {
      "text/plain": [
       "['3D',\n",
       " 'Touch',\n",
       " 'просто',\n",
       " 'восхитительная',\n",
       " 'вещь',\n",
       " '!',\n",
       " 'Заряд',\n",
       " 'держит',\n",
       " 'целый',\n",
       " 'день',\n",
       " '.',\n",
       " 'В',\n",
       " 'розовом',\n",
       " 'цвете',\n",
       " 'смотрится',\n",
       " 'очень',\n",
       " 'необычно',\n",
       " '.',\n",
       " 'Touch',\n",
       " 'ID',\n",
       " 'очень',\n",
       " 'быстрый',\n",
       " 'и',\n",
       " 'удобный',\n",
       " '.',\n",
       " 'Всем',\n",
       " 'советую',\n",
       " 'этот',\n",
       " 'телефон',\n",
       " '!']"
      ]
     },
     "execution_count": 64,
     "metadata": {},
     "output_type": "execute_result"
    }
   ],
   "source": [
    "word_tokenize(data['Review'].iloc[0])\n"
   ]
  },
  {
   "cell_type": "markdown",
   "metadata": {},
   "source": [
    "Идеально, список из всех слов со знаками пунктуации. Обработаем всё:"
   ]
  },
  {
   "cell_type": "code",
   "execution_count": 65,
   "metadata": {},
   "outputs": [],
   "source": [
    "def get_word_tokens(row):\n",
    "    try:\n",
    "        return word_tokenize(row['Review'])\n",
    "    except:\n",
    "        return ''\n",
    "X_tokenized = X.apply(get_word_tokens, axis = 1)"
   ]
  },
  {
   "cell_type": "code",
   "execution_count": 66,
   "metadata": {},
   "outputs": [
    {
     "data": {
      "text/plain": [
       "0    [3D, Touch, просто, восхитительная, вещь, !, З...\n",
       "1    [Отключается, при, температуре, близкой, к, ну...\n",
       "2    [В, Apple, окончательно, решили, не, заморачив...\n",
       "3    [Постарался, наиболее, ёмко, и, коротко, описа...\n",
       "4    [Достойный, телефон, ., Пользоваться, одно, уд...\n",
       "dtype: object"
      ]
     },
     "execution_count": 66,
     "metadata": {},
     "output_type": "execute_result"
    }
   ],
   "source": [
    "X_tokenized.head()"
   ]
  },
  {
   "cell_type": "code",
   "execution_count": null,
   "metadata": {},
   "outputs": [],
   "source": []
  },
  {
   "cell_type": "markdown",
   "metadata": {
    "id": "0NweW6qyC5La"
   },
   "source": [
    "## Самые частотные слова отзывов"
   ]
  },
  {
   "cell_type": "code",
   "execution_count": 67,
   "metadata": {
    "colab": {
     "base_uri": "https://localhost:8080/",
     "height": 35
    },
    "executionInfo": {
     "elapsed": 4,
     "status": "ok",
     "timestamp": 1628179762079,
     "user": {
      "displayName": "Артур Сапрыкин",
      "photoUrl": "",
      "userId": "16185371824692237125"
     },
     "user_tz": -180
    },
    "id": "MCx3hdZxC5La",
    "outputId": "5e1c1703-30eb-46e3-e893-826ddc20aa50"
   },
   "outputs": [
    {
     "data": {
      "text/plain": [
       "'!\"#$%&\\'()*+,-./:;<=>?@[\\\\]^_`{|}~'"
      ]
     },
     "execution_count": 67,
     "metadata": {},
     "output_type": "execute_result"
    }
   ],
   "source": [
    "\n",
    "punctuation"
   ]
  },
  {
   "cell_type": "code",
   "execution_count": 68,
   "metadata": {
    "colab": {
     "base_uri": "https://localhost:8080/"
    },
    "executionInfo": {
     "elapsed": 45228,
     "status": "ok",
     "timestamp": 1628179807304,
     "user": {
      "displayName": "Артур Сапрыкин",
      "photoUrl": "",
      "userId": "16185371824692237125"
     },
     "user_tz": -180
    },
    "id": "usmSsa2oC5Lb",
    "outputId": "0b9583cf-68c3-453e-e211-d6ed3abbcec5"
   },
   "outputs": [
    {
     "name": "stdout",
     "output_type": "stream",
     "text": [
      "26631253\n"
     ]
    },
    {
     "data": {
      "text/plain": [
       "['3D',\n",
       " 'Touch',\n",
       " 'просто',\n",
       " 'восхитительная',\n",
       " 'вещь',\n",
       " 'Заряд',\n",
       " 'держит',\n",
       " 'целый',\n",
       " 'день',\n",
       " 'В']"
      ]
     },
     "execution_count": 68,
     "metadata": {},
     "output_type": "execute_result"
    }
   ],
   "source": [
    "corpus = [token for tweet in X.Review for token in word_tokenize(tweet) if token not in punctuation]\n",
    "print(len(corpus))\n",
    "corpus[:10]"
   ]
  },
  {
   "cell_type": "markdown",
   "metadata": {},
   "source": [
    "Пунктуация тоже важна, так-то... подумаем, что вернуть, но потом."
   ]
  },
  {
   "cell_type": "code",
   "execution_count": 69,
   "metadata": {
    "colab": {
     "base_uri": "https://localhost:8080/"
    },
    "executionInfo": {
     "elapsed": 28,
     "status": "ok",
     "timestamp": 1628179807572,
     "user": {
      "displayName": "Артур Сапрыкин",
      "photoUrl": "",
      "userId": "16185371824692237125"
     },
     "user_tz": -180
    },
    "id": "sBLjzBAgC5Lb",
    "outputId": "72e22d28-faa4-4293-d4f4-349262bd02e7",
    "scrolled": true
   },
   "outputs": [
    {
     "data": {
      "text/plain": [
       "[('и', 809140),\n",
       " ('не', 731171),\n",
       " ('в', 575878),\n",
       " ('на', 468358),\n",
       " ('с', 304402),\n",
       " ('что', 284317),\n",
       " ('телефон', 254452),\n",
       " ('но', 220653),\n",
       " ('за', 156524),\n",
       " ('как', 154638),\n",
       " ('очень', 153080),\n",
       " ('это', 152684),\n",
       " ('для', 148287),\n",
       " ('я', 139635),\n",
       " ('все', 138509),\n",
       " ('по', 136960),\n",
       " ('а', 117748),\n",
       " ('то', 117078),\n",
       " ('у', 115035),\n",
       " ('В', 111070)]"
      ]
     },
     "execution_count": 69,
     "metadata": {},
     "output_type": "execute_result"
    }
   ],
   "source": [
    "freq_dict = Counter(corpus)\n",
    "\n",
    "freq_dict_sorted= sorted(freq_dict.items(), key=lambda x: -x[1])\n",
    "freq_dict.most_common(20)"
   ]
  },
  {
   "cell_type": "markdown",
   "metadata": {},
   "source": [
    "Много стоп-слов и я, и \"в\" и \"В\" считаются отдельно"
   ]
  },
  {
   "cell_type": "markdown",
   "metadata": {
    "id": "1gotNL29C5Lb"
   },
   "source": [
    "Посмотрим на распределение частот слов  по  закону Ципфа. Убедимся, что частотность слов убывает очень быстро."
   ]
  },
  {
   "cell_type": "code",
   "execution_count": 70,
   "metadata": {
    "colab": {
     "base_uri": "https://localhost:8080/",
     "height": 265
    },
    "executionInfo": {
     "elapsed": 288,
     "status": "ok",
     "timestamp": 1628179807845,
     "user": {
      "displayName": "Артур Сапрыкин",
      "photoUrl": "",
      "userId": "16185371824692237125"
     },
     "user_tz": -180
    },
    "id": "OuUYvZWyC5Lb",
    "outputId": "26076cb4-564c-4889-9cf7-bef0fed106d4",
    "scrolled": true
   },
   "outputs": [
    {
     "data": {
      "image/png": "[encoded data removed]",
      "text/plain": [
       "<Figure size 640x480 with 1 Axes>"
      ]
     },
     "metadata": {},
     "output_type": "display_data"
    }
   ],
   "source": [
    "import matplotlib.pyplot as plt\n",
    "%matplotlib inline\n",
    "\n",
    "freqs = list(freq_dict.values())\n",
    "freqs = sorted(freqs, reverse = True)\n",
    "\n",
    "fig, ax = plt.subplots()\n",
    "ax.plot(freqs[:300], range(300))\n",
    "plt.show()"
   ]
  },
  {
   "cell_type": "markdown",
   "metadata": {},
   "source": [
    "Да, убывает стремительно"
   ]
  },
  {
   "cell_type": "markdown",
   "metadata": {
    "id": "aDOVMyYTC5Lb"
   },
   "source": [
    "Ну и на закон Хипса посмотрим по нашему тексту:\n",
    "С увеличением длины текста (количества токенов), количество слов увеличивается в соответствии с законом,чем больше корпус, тем меньше новых слов добавляется с добавлением новых текстов. В какой-то момент корпус насыщается.\n",
    "\n"
   ]
  },
  {
   "cell_type": "markdown",
   "metadata": {
    "colab": {
     "base_uri": "https://localhost:8080/"
    },
    "executionInfo": {
     "elapsed": 650997,
     "status": "ok",
     "timestamp": 1628180458831,
     "user": {
      "displayName": "Артур Сапрыкин",
      "photoUrl": "",
      "userId": "16185371824692237125"
     },
     "user_tz": -180
    },
    "id": "gTv9h2aXC5Lb",
    "outputId": "c4d6362d-aedd-483e-f227-f02197bf2443"
   },
   "source": [
    "from tqdm import tqdm\n",
    "\n",
    "cnt = Counter()\n",
    "n_words = []\n",
    "n_tokens = []\n",
    "tokens = []\n",
    "for index, row in tqdm(data.iterrows(), total = len(data)):\n",
    "    tokens = word_tokenize(row['Review'])\n",
    "    cnt.update([token for token in tokens if token not in punctuation])\n",
    "    n_words.append(len(cnt))\n",
    "    n_tokens.append(sum(cnt.values()))"
   ]
  },
  {
   "cell_type": "markdown",
   "metadata": {
    "colab": {
     "base_uri": "https://localhost:8080/",
     "height": 278
    },
    "executionInfo": {
     "elapsed": 618,
     "status": "ok",
     "timestamp": 1628180459443,
     "user": {
      "displayName": "Артур Сапрыкин",
      "photoUrl": "",
      "userId": "16185371824692237125"
     },
     "user_tz": -180
    },
    "id": "BoRWKuwxC5Lb",
    "outputId": "a22e6d0e-7d9e-4d10-8996-22099e3d98bf"
   },
   "source": [
    "fig, ax = plt.subplots()\n",
    "ax.plot(n_tokens, n_words)\n",
    "plt.title('закон Хипса '+ CR + ' замедление прироста частот слов'+ CR+'при увеличении числа текстов')\n",
    "plt.show()"
   ]
  },
  {
   "attachments": {
    "image.png": {
     "image/png": "[encoded data removed]"
    }
   },
   "cell_type": "markdown",
   "metadata": {},
   "source": [
    "![image.png](attachment:image.png)"
   ]
  },
  {
   "cell_type": "markdown",
   "metadata": {},
   "source": [
    "И с помощью этого (очень долгого, надо сказать) кода мы убедились, что закон Хипса на нашем тексте работает, хотя до сильного замедления мы ещё не дошли, нужно больше текстов, но уже замедлились."
   ]
  },
  {
   "cell_type": "markdown",
   "metadata": {
    "id": "PbjNVj2bC5Lb"
   },
   "source": [
    "## Стоп-слова и пунктуация\n",
    "\n",
    "Стоп-слова: союзы, связки, местоимения - часто встречаются и не привносят ничего специфического. Этошум и мы их уберём, как и пунктуацию, но с пунктуацией ещё, возможно, поработаем позже."
   ]
  },
  {
   "cell_type": "code",
   "execution_count": 71,
   "metadata": {
    "colab": {
     "base_uri": "https://localhost:8080/"
    },
    "executionInfo": {
     "elapsed": 269,
     "status": "ok",
     "timestamp": 1628181728557,
     "user": {
      "displayName": "Артур Сапрыкин",
      "photoUrl": "",
      "userId": "16185371824692237125"
     },
     "user_tz": -180
    },
    "id": "-XXtVpMiC5Lb",
    "outputId": "b5513fd4-d0ca-4b84-ec19-41b3b10a55e5"
   },
   "outputs": [
    {
     "name": "stdout",
     "output_type": "stream",
     "text": [
      "['и', 'в', 'во', 'не', 'что', 'он', 'на', 'я', 'с', 'со', 'как', 'а', 'то', 'все', 'она', 'так', 'его', 'но', 'да', 'ты', 'к', 'у', 'же', 'вы', 'за', 'бы', 'по', 'только', 'ее', 'мне', 'было', 'вот', 'от', 'меня', 'еще', 'нет', 'о', 'из', 'ему', 'теперь', 'когда', 'даже', 'ну', 'вдруг', 'ли', 'если', 'уже', 'или', 'ни', 'быть', 'был', 'него', 'до', 'вас', 'нибудь', 'опять', 'уж', 'вам', 'ведь', 'там', 'потом', 'себя', 'ничего', 'ей', 'может', 'они', 'тут', 'где', 'есть', 'надо', 'ней', 'для', 'мы', 'тебя', 'их', 'чем', 'была', 'сам', 'чтоб', 'без', 'будто', 'чего', 'раз', 'тоже', 'себе', 'под', 'будет', 'ж', 'тогда', 'кто', 'этот', 'того', 'потому', 'этого', 'какой', 'совсем', 'ним', 'здесь', 'этом', 'один', 'почти', 'мой', 'тем', 'чтобы', 'нее', 'сейчас', 'были', 'куда', 'зачем', 'всех', 'никогда', 'можно', 'при', 'наконец', 'два', 'об', 'другой', 'хоть', 'после', 'над', 'больше', 'тот', 'через', 'эти', 'нас', 'про', 'всего', 'них', 'какая', 'много', 'разве', 'три', 'эту', 'моя', 'впрочем', 'хорошо', 'свою', 'этой', 'перед', 'иногда', 'лучше', 'чуть', 'том', 'нельзя', 'такой', 'им', 'более', 'всегда', 'конечно', 'всю', 'между']\n"
     ]
    }
   ],
   "source": [
    "print(stopwords.words('russian'))"
   ]
  },
  {
   "cell_type": "code",
   "execution_count": 72,
   "metadata": {
    "colab": {
     "base_uri": "https://localhost:8080/",
     "height": 35
    },
    "executionInfo": {
     "elapsed": 295,
     "status": "ok",
     "timestamp": 1628181729247,
     "user": {
      "displayName": "Артур Сапрыкин",
      "photoUrl": "",
      "userId": "16185371824692237125"
     },
     "user_tz": -180
    },
    "id": "SHT5W627C5Lc",
    "outputId": "999719aa-3abd-45b4-cd1a-359a081e2b6d"
   },
   "outputs": [
    {
     "data": {
      "text/plain": [
       "'!\"#$%&\\'()*+,-./:;<=>?@[\\\\]^_`{|}~'"
      ]
     },
     "execution_count": 72,
     "metadata": {},
     "output_type": "execute_result"
    }
   ],
   "source": [
    "punctuation"
   ]
  },
  {
   "cell_type": "code",
   "execution_count": 73,
   "metadata": {
    "executionInfo": {
     "elapsed": 9,
     "status": "ok",
     "timestamp": 1628181729248,
     "user": {
      "displayName": "Артур Сапрыкин",
      "photoUrl": "",
      "userId": "16185371824692237125"
     },
     "user_tz": -180
    },
    "id": "fN9wR30lC5Lc"
   },
   "outputs": [
    {
     "data": {
      "text/plain": [
       "188"
      ]
     },
     "execution_count": 73,
     "metadata": {},
     "output_type": "execute_result"
    }
   ],
   "source": [
    "noise = stopwords.words('russian') + list(punctuation)+ ['``', \"''\",'--',\"//\", '/']\n",
    "len(noise)"
   ]
  },
  {
   "cell_type": "code",
   "execution_count": 74,
   "metadata": {},
   "outputs": [],
   "source": [
    "excl_list = ['хорошо', 'иногда', 'лучше','не', 'никогда','ничего', \"!\", 'нельзя', 'совсем', 'почти', 'более', 'всегда', ]"
   ]
  },
  {
   "cell_type": "code",
   "execution_count": 75,
   "metadata": {},
   "outputs": [
    {
     "data": {
      "text/plain": [
       "176"
      ]
     },
     "execution_count": 75,
     "metadata": {},
     "output_type": "execute_result"
    }
   ],
   "source": [
    "noise = [x for x in noise if x not in  excl_list]\n",
    "len(noise)"
   ]
  },
  {
   "cell_type": "markdown",
   "metadata": {},
   "source": [
    "Выберем самые частотные н-граммы. Инициализация CountVectorizer параметрами на 2"
   ]
  },
  {
   "cell_type": "code",
   "execution_count": 76,
   "metadata": {},
   "outputs": [
    {
     "name": "stderr",
     "output_type": "stream",
     "text": [
      "C:\\Users\\term\\anaconda3\\envs\\nlpenv\\Lib\\site-packages\\sklearn\\feature_extraction\\text.py:521: UserWarning: The parameter 'token_pattern' will not be used since 'tokenizer' is not None'\n",
      "  warnings.warn(\n"
     ]
    }
   ],
   "source": [
    "vec_cv = CountVectorizer(ngram_range=(2, 3), min_df=0.04, max_df = 0.1, tokenizer=word_tokenize, stop_words=noise)\n",
    "counts_tr = vec_cv.fit_transform(train_x['Review'])\n",
    "\n",
    "# Создание DataFrame для удобства работы\n",
    "df_counts_tr = pd.DataFrame(counts_tr.toarray(), columns=vec_cv.get_feature_names_out())\n",
    "\n",
    "\n"
   ]
  },
  {
   "cell_type": "code",
   "execution_count": 77,
   "metadata": {},
   "outputs": [],
   "source": [
    "# Подсчёт суммы каждого столбца (биграммы)\n",
    "df_counts_tr = pd.DataFrame(counts_tr.toarray(), columns=vec_cv.get_feature_names_out())\n",
    "freq_ngramms = df_counts_tr.sum(axis=0).sort_values(ascending=False)\n"
   ]
  },
  {
   "cell_type": "code",
   "execution_count": 78,
   "metadata": {},
   "outputs": [
    {
     "data": {
      "text/plain": [
       "! !           89203\n",
       "! ! !         53440\n",
       "телефон не    14646\n",
       "dtype: int64"
      ]
     },
     "execution_count": 78,
     "metadata": {},
     "output_type": "execute_result"
    }
   ],
   "source": [
    "freq_ngramms[:25]"
   ]
  },
  {
   "cell_type": "markdown",
   "metadata": {
    "id": "Mihufq8FC5Lc"
   },
   "source": [
    "Добавим исключение стоп-слов в векторизатор, аргумент `stop_words`."
   ]
  },
  {
   "cell_type": "code",
   "execution_count": 79,
   "metadata": {},
   "outputs": [],
   "source": [
    "vec = CountVectorizer(ngram_range=(2, 3), tokenizer=word_tokenize, stop_words=noise)"
   ]
  },
  {
   "cell_type": "code",
   "execution_count": 80,
   "metadata": {
    "scrolled": false
   },
   "outputs": [
    {
     "name": "stderr",
     "output_type": "stream",
     "text": [
      "C:\\Users\\term\\anaconda3\\envs\\nlpenv\\Lib\\site-packages\\sklearn\\feature_extraction\\text.py:521: UserWarning: The parameter 'token_pattern' will not be used since 'tokenizer' is not None'\n",
      "  warnings.warn(\n"
     ]
    }
   ],
   "source": [
    "vec_tr = TfidfVectorizer(ngram_range=(1, 2), max_df=0.4, tokenizer=word_tokenize, stop_words=noise)\n",
    "bow_tr = vec_tr.fit_transform(train_x['Review'])\n",
    "\n",
    "vec_train = pd.DataFrame.sparse.from_spmatrix(bow_tr, columns=vec_tr.get_feature_names_out()\n",
    "                                             )"
   ]
  },
  {
   "cell_type": "code",
   "execution_count": 81,
   "metadata": {
    "scrolled": true
   },
   "outputs": [
    {
     "data": {
      "text/plain": [
       "4397443"
      ]
     },
     "execution_count": 81,
     "metadata": {},
     "output_type": "execute_result"
    }
   ],
   "source": [
    "list_ngramm_imp = vec_train.columns\n",
    "len(list_ngramm_imp)"
   ]
  },
  {
   "cell_type": "code",
   "execution_count": 82,
   "metadata": {},
   "outputs": [],
   "source": [
    "ngramm_imp = vec_train.sum().sort_values(ascending = False)\n"
   ]
  },
  {
   "cell_type": "code",
   "execution_count": 83,
   "metadata": {},
   "outputs": [
    {
     "data": {
      "text/plain": [
       "!             8466.228999\n",
       "! !           4430.988345\n",
       "очень         4249.679121\n",
       "это           3163.504979\n",
       "советую       2291.856054\n",
       "хороший       2253.604127\n",
       "аппарат        2184.45726\n",
       "отличный       2181.77416\n",
       "...           2152.079212\n",
       "доволен       2097.722977\n",
       "деньги        1991.983119\n",
       "просто        1873.422255\n",
       "целом         1831.592371\n",
       "модель        1710.712528\n",
       "года          1641.758763\n",
       "рекомендую    1609.499959\n",
       "лучше         1605.751601\n",
       "смартфон      1586.139767\n",
       "работает      1558.720051\n",
       "купил         1543.100133\n",
       "dtype: Sparse[float64, 0]"
      ]
     },
     "execution_count": 83,
     "metadata": {},
     "output_type": "execute_result"
    }
   ],
   "source": [
    "ngramm_imp.head(20)"
   ]
  },
  {
   "cell_type": "code",
   "execution_count": 84,
   "metadata": {},
   "outputs": [
    {
     "data": {
      "text/plain": [
       "array(['!', '! !', \"! 'пентайл\", '! ++++++++++++++++++++++++++++++++++',\n",
       "       '! +-20000', '! +/-', '! +100500', '! +32+38', '! +5', '! +вкл',\n",
       "       '! +живучесть.сколько', '! +и-', '! +интересно', '! +камера',\n",
       "       '! +ко', '! +куча', '! +минусы', '! +обнаружили', '! +от',\n",
       "       '! +потрясающий', '! +прям', '! +умеет', '! +флеха', '! ,тем',\n",
       "       '! -/-/-/перешёл', '! -10', '! -100/10', '! -38', '! -battery',\n",
       "       '! -d', '! -wlan', '! -а', '! -автофокуса', '! -аккума',\n",
       "       '! -аккумулятор', '! -батарея', '! -белая', '! -в', '! -вернулся',\n",
       "       '! -видеоплеер'], dtype=object)"
      ]
     },
     "execution_count": 84,
     "metadata": {},
     "output_type": "execute_result"
    }
   ],
   "source": [
    "vec_tr.get_feature_names_out()[:40]\n"
   ]
  },
  {
   "cell_type": "code",
   "execution_count": 85,
   "metadata": {},
   "outputs": [
    {
     "name": "stderr",
     "output_type": "stream",
     "text": [
      "C:\\Users\\term\\anaconda3\\envs\\nlpenv\\Lib\\site-packages\\sklearn\\feature_extraction\\text.py:521: UserWarning: The parameter 'token_pattern' will not be used since 'tokenizer' is not None'\n",
      "  warnings.warn(\n"
     ]
    }
   ],
   "source": [
    "vec_ts = TfidfVectorizer(ngram_range=(1, 2), max_df=0.4, tokenizer=word_tokenize, stop_words=noise)\n",
    "bow_ts = vec_ts.fit_transform(test_x['Review'])\n",
    "\n",
    "vec_test = pd.DataFrame.sparse.from_spmatrix(bow_ts, columns=vec_ts.get_feature_names_out()\n",
    "                                             )"
   ]
  },
  {
   "cell_type": "code",
   "execution_count": 86,
   "metadata": {
    "scrolled": false
   },
   "outputs": [
    {
     "data": {
      "text/plain": [
       "(343375, 114459)"
      ]
     },
     "execution_count": 86,
     "metadata": {},
     "output_type": "execute_result"
    }
   ],
   "source": [
    "len(vec_train), len(vec_test), "
   ]
  },
  {
   "attachments": {
    "image.png": {
     "image/png": "[encoded data removed]"
    }
   },
   "cell_type": "markdown",
   "metadata": {},
   "source": [
    "![image.png](attachment:image.png)"
   ]
  },
  {
   "cell_type": "markdown",
   "metadata": {},
   "source": [
    "Ядро умирает снова, пойдём через PCA\n"
   ]
  },
  {
   "cell_type": "code",
   "execution_count": 87,
   "metadata": {},
   "outputs": [],
   "source": [
    "pca_train = pca.fit_transform(vec_train)"
   ]
  },
  {
   "cell_type": "code",
   "execution_count": 88,
   "metadata": {},
   "outputs": [
    {
     "data": {
      "text/html": [
       "<div>\n",
       "<style scoped>\n",
       "    .dataframe tbody tr th:only-of-type {\n",
       "        vertical-align: middle;\n",
       "    }\n",
       "\n",
       "    .dataframe tbody tr th {\n",
       "        vertical-align: top;\n",
       "    }\n",
       "\n",
       "    .dataframe thead th {\n",
       "        text-align: right;\n",
       "    }\n",
       "</style>\n",
       "<table border=\"1\" class=\"dataframe\">\n",
       "  <thead>\n",
       "    <tr style=\"text-align: right;\">\n",
       "      <th></th>\n",
       "      <th>0</th>\n",
       "      <th>1</th>\n",
       "      <th>2</th>\n",
       "      <th>3</th>\n",
       "      <th>4</th>\n",
       "      <th>5</th>\n",
       "      <th>6</th>\n",
       "      <th>7</th>\n",
       "      <th>8</th>\n",
       "      <th>9</th>\n",
       "      <th>...</th>\n",
       "      <th>90</th>\n",
       "      <th>91</th>\n",
       "      <th>92</th>\n",
       "      <th>93</th>\n",
       "      <th>94</th>\n",
       "      <th>95</th>\n",
       "      <th>96</th>\n",
       "      <th>97</th>\n",
       "      <th>98</th>\n",
       "      <th>99</th>\n",
       "    </tr>\n",
       "  </thead>\n",
       "  <tbody>\n",
       "    <tr>\n",
       "      <th>0</th>\n",
       "      <td>-0.031202</td>\n",
       "      <td>-0.004671</td>\n",
       "      <td>-0.000985</td>\n",
       "      <td>0.035634</td>\n",
       "      <td>-0.008069</td>\n",
       "      <td>-0.009090</td>\n",
       "      <td>-0.000761</td>\n",
       "      <td>-0.000686</td>\n",
       "      <td>-0.011427</td>\n",
       "      <td>-0.013959</td>\n",
       "      <td>...</td>\n",
       "      <td>-0.038157</td>\n",
       "      <td>-0.033970</td>\n",
       "      <td>-0.060934</td>\n",
       "      <td>-0.018974</td>\n",
       "      <td>-0.070660</td>\n",
       "      <td>0.040892</td>\n",
       "      <td>0.007944</td>\n",
       "      <td>0.037697</td>\n",
       "      <td>-0.006507</td>\n",
       "      <td>0.022051</td>\n",
       "    </tr>\n",
       "    <tr>\n",
       "      <th>1</th>\n",
       "      <td>-0.029123</td>\n",
       "      <td>-0.017379</td>\n",
       "      <td>-0.008604</td>\n",
       "      <td>-0.008167</td>\n",
       "      <td>-0.003427</td>\n",
       "      <td>-0.013824</td>\n",
       "      <td>0.006266</td>\n",
       "      <td>-0.007550</td>\n",
       "      <td>-0.003345</td>\n",
       "      <td>-0.004162</td>\n",
       "      <td>...</td>\n",
       "      <td>0.020351</td>\n",
       "      <td>0.017544</td>\n",
       "      <td>0.019849</td>\n",
       "      <td>0.021749</td>\n",
       "      <td>0.020406</td>\n",
       "      <td>-0.012352</td>\n",
       "      <td>0.008948</td>\n",
       "      <td>0.001712</td>\n",
       "      <td>0.023989</td>\n",
       "      <td>0.003342</td>\n",
       "    </tr>\n",
       "    <tr>\n",
       "      <th>2</th>\n",
       "      <td>0.039560</td>\n",
       "      <td>-0.009395</td>\n",
       "      <td>-0.006523</td>\n",
       "      <td>-0.006914</td>\n",
       "      <td>-0.000147</td>\n",
       "      <td>-0.002861</td>\n",
       "      <td>0.002424</td>\n",
       "      <td>-0.006022</td>\n",
       "      <td>-0.010049</td>\n",
       "      <td>0.005089</td>\n",
       "      <td>...</td>\n",
       "      <td>0.046533</td>\n",
       "      <td>-0.121205</td>\n",
       "      <td>-0.010541</td>\n",
       "      <td>-0.039418</td>\n",
       "      <td>0.021474</td>\n",
       "      <td>-0.062781</td>\n",
       "      <td>-0.046597</td>\n",
       "      <td>0.003711</td>\n",
       "      <td>-0.017670</td>\n",
       "      <td>-0.009158</td>\n",
       "    </tr>\n",
       "    <tr>\n",
       "      <th>3</th>\n",
       "      <td>-0.027980</td>\n",
       "      <td>0.057690</td>\n",
       "      <td>-0.042573</td>\n",
       "      <td>0.005008</td>\n",
       "      <td>0.010700</td>\n",
       "      <td>-0.027963</td>\n",
       "      <td>0.015856</td>\n",
       "      <td>-0.008018</td>\n",
       "      <td>0.081307</td>\n",
       "      <td>0.002144</td>\n",
       "      <td>...</td>\n",
       "      <td>0.014355</td>\n",
       "      <td>-0.000461</td>\n",
       "      <td>-0.016830</td>\n",
       "      <td>-0.003104</td>\n",
       "      <td>0.010211</td>\n",
       "      <td>0.006349</td>\n",
       "      <td>-0.009535</td>\n",
       "      <td>-0.006031</td>\n",
       "      <td>0.002784</td>\n",
       "      <td>0.019734</td>\n",
       "    </tr>\n",
       "    <tr>\n",
       "      <th>4</th>\n",
       "      <td>-0.026454</td>\n",
       "      <td>0.119731</td>\n",
       "      <td>0.123360</td>\n",
       "      <td>0.527480</td>\n",
       "      <td>-0.056013</td>\n",
       "      <td>0.055689</td>\n",
       "      <td>-0.116030</td>\n",
       "      <td>0.024518</td>\n",
       "      <td>-0.151814</td>\n",
       "      <td>0.228902</td>\n",
       "      <td>...</td>\n",
       "      <td>-0.055202</td>\n",
       "      <td>-0.029335</td>\n",
       "      <td>0.034717</td>\n",
       "      <td>-0.003690</td>\n",
       "      <td>-0.108847</td>\n",
       "      <td>-0.074654</td>\n",
       "      <td>0.124660</td>\n",
       "      <td>-0.056616</td>\n",
       "      <td>0.147102</td>\n",
       "      <td>-0.080962</td>\n",
       "    </tr>\n",
       "  </tbody>\n",
       "</table>\n",
       "<p>5 rows × 100 columns</p>\n",
       "</div>"
      ],
      "text/plain": [
       "         0         1         2         3         4         5         6   \\\n",
       "0 -0.031202 -0.004671 -0.000985  0.035634 -0.008069 -0.009090 -0.000761   \n",
       "1 -0.029123 -0.017379 -0.008604 -0.008167 -0.003427 -0.013824  0.006266   \n",
       "2  0.039560 -0.009395 -0.006523 -0.006914 -0.000147 -0.002861  0.002424   \n",
       "3 -0.027980  0.057690 -0.042573  0.005008  0.010700 -0.027963  0.015856   \n",
       "4 -0.026454  0.119731  0.123360  0.527480 -0.056013  0.055689 -0.116030   \n",
       "\n",
       "         7         8         9   ...        90        91        92        93  \\\n",
       "0 -0.000686 -0.011427 -0.013959  ... -0.038157 -0.033970 -0.060934 -0.018974   \n",
       "1 -0.007550 -0.003345 -0.004162  ...  0.020351  0.017544  0.019849  0.021749   \n",
       "2 -0.006022 -0.010049  0.005089  ...  0.046533 -0.121205 -0.010541 -0.039418   \n",
       "3 -0.008018  0.081307  0.002144  ...  0.014355 -0.000461 -0.016830 -0.003104   \n",
       "4  0.024518 -0.151814  0.228902  ... -0.055202 -0.029335  0.034717 -0.003690   \n",
       "\n",
       "         94        95        96        97        98        99  \n",
       "0 -0.070660  0.040892  0.007944  0.037697 -0.006507  0.022051  \n",
       "1  0.020406 -0.012352  0.008948  0.001712  0.023989  0.003342  \n",
       "2  0.021474 -0.062781 -0.046597  0.003711 -0.017670 -0.009158  \n",
       "3  0.010211  0.006349 -0.009535 -0.006031  0.002784  0.019734  \n",
       "4 -0.108847 -0.074654  0.124660 -0.056616  0.147102 -0.080962  \n",
       "\n",
       "[5 rows x 100 columns]"
      ]
     },
     "execution_count": 88,
     "metadata": {},
     "output_type": "execute_result"
    }
   ],
   "source": [
    "pca_test = pca.fit_transform(vec_test)\n",
    "pd.DataFrame(pca_test).head()"
   ]
  },
  {
   "cell_type": "code",
   "execution_count": null,
   "metadata": {},
   "outputs": [],
   "source": []
  },
  {
   "cell_type": "code",
   "execution_count": 89,
   "metadata": {},
   "outputs": [
    {
     "data": {
      "application/vnd.jupyter.widget-view+json": {
       "model_id": "c55ace3ffa7f464fa84ea63b5a215200",
       "version_major": 2,
       "version_minor": 0
      },
      "text/plain": [
       "MetricVisualizer(layout=Layout(align_self='stretch', height='500px'))"
      ]
     },
     "metadata": {},
     "output_type": "display_data"
    },
    {
     "data": {
      "text/plain": [
       "<catboost.core.CatBoostClassifier at 0x20b3e283c50>"
      ]
     },
     "execution_count": 89,
     "metadata": {},
     "output_type": "execute_result"
    }
   ],
   "source": [
    "model_cb.fit(pca_train, train_y, plot= True)\n"
   ]
  },
  {
   "cell_type": "code",
   "execution_count": 90,
   "metadata": {
    "colab": {
     "base_uri": "https://localhost:8080/"
    },
    "executionInfo": {
     "elapsed": 62232,
     "status": "ok",
     "timestamp": 1628181791471,
     "user": {
      "displayName": "Артур Сапрыкин",
      "photoUrl": "",
      "userId": "16185371824692237125"
     },
     "user_tz": -180
    },
    "id": "HF9syl3rC5Lc",
    "outputId": "cc61eb80-5761-48dc-c28f-51a78f289a8f"
   },
   "outputs": [
    {
     "name": "stdout",
     "output_type": "stream",
     "text": [
      "\n",
      "              precision    recall  f1-score   support\n",
      "\n",
      "           1       0.35      0.08      0.13      8652\n",
      "           2       0.23      0.08      0.12      8867\n",
      "           3       0.22      0.17      0.19     13286\n",
      "           4       0.29      0.22      0.25     26766\n",
      "           5       0.57      0.79      0.66     56888\n",
      "\n",
      "    accuracy                           0.48    114459\n",
      "   macro avg       0.33      0.27      0.27    114459\n",
      "weighted avg       0.42      0.48      0.43    114459\n",
      "\n",
      "\n",
      "Confusion Matrix\n",
      "\n",
      "[[  687   708  1255  1466  4536]\n",
      " [  421   686  1479  1705  4576]\n",
      " [  332   630  2208  2870  7246]\n",
      " [  194   444  2237  5947 17944]\n",
      " [  343   533  2723  8191 45098]]\n",
      "AUC train:  0.5147518924701783\n",
      "AUC test:  0.6750934345576314\n"
     ]
    }
   ],
   "source": [
    "train_pred = model_cb.predict(pca_result)\n",
    "proba_train = model_cb.predict_proba(pca_result)\n",
    " \n",
    "test_pred = model_cb.predict(pca_test)\n",
    "proba_test = model_cb.predict_proba(pca_test)\n",
    "\n",
    "confusion = confusion_matrix(test_y, test_pred)\n",
    "\n",
    "print(CR + classification_report(test_y,test_pred)) \n",
    "\n",
    "print(CR + 'Confusion Matrix\\n')\n",
    "print(confusion)\n",
    "auc_tr = roc_auc_score(train_y, proba_train, multi_class='ovr')\n",
    "auc_test = roc_auc_score(test_y,  proba_test, multi_class='ovr')\n",
    "print('AUC train: ', auc_tr)\n",
    "print('AUC test: ', auc_test)"
   ]
  },
  {
   "cell_type": "code",
   "execution_count": 91,
   "metadata": {
    "scrolled": true
   },
   "outputs": [
    {
     "name": "stdout",
     "output_type": "stream",
     "text": [
      "Root Mean Squared Error на тестовой выборке: 1.4122569296750862\n",
      "Mean Absolute Error на тестовой выборке: 0.888641347556767\n",
      "R2 на тестовой выборке: -0.2439926116578044\n"
     ]
    }
   ],
   "source": [
    "mse = mean_squared_error(test_y, test_pred)\n",
    "\n",
    "rmse = root_mean_squared_error(test_y, test_pred)\n",
    "mae = mean_absolute_error(test_y, test_pred)\n",
    "print(\"Root Mean Squared Error на тестовой выборке:\", rmse)\n",
    "print(\"Mean Absolute Error на тестовой выборке:\", mae)\n",
    "r2 = r2_score(test_y, test_pred)\n",
    "print(\"R2 на тестовой выборке:\", r2)"
   ]
  },
  {
   "cell_type": "markdown",
   "metadata": {
    "id": "6defu0nqC5Lc"
   },
   "source": [
    "Лучше? Ну...незначительно. Продолжим изыскания."
   ]
  },
  {
   "cell_type": "code",
   "execution_count": 92,
   "metadata": {
    "scrolled": true
   },
   "outputs": [
    {
     "data": {
      "image/png": "[encoded data removed]",
      "text/plain": [
       "<Figure size 640x480 with 1 Axes>"
      ]
     },
     "metadata": {},
     "output_type": "display_data"
    }
   ],
   "source": [
    "pd.Series(y).hist( bins = 5)\n",
    "plt.title('Распределение таргета оценки в комментариях')\n",
    "plt.show()"
   ]
  },
  {
   "cell_type": "markdown",
   "metadata": {},
   "source": [
    "Так-то распределение в матрице похоже, но мимо - слишком много."
   ]
  },
  {
   "cell_type": "markdown",
   "metadata": {
    "id": "wufTX3MIC5Lc"
   },
   "source": [
    "## Лемматизация\n",
    "\n",
    "Сделаем лемматизацию текстов. Вернем слова к их начальной форме – *лемме*. \n"
   ]
  },
  {
   "cell_type": "code",
   "execution_count": 93,
   "metadata": {
    "colab": {
     "base_uri": "https://localhost:8080/",
     "height": 307
    },
    "executionInfo": {
     "elapsed": 138151,
     "status": "error",
     "timestamp": 1628187009548,
     "user": {
      "displayName": "Артур Сапрыкин",
      "photoUrl": "",
      "userId": "16185371824692237125"
     },
     "user_tz": -180
    },
    "id": "_zZh8pkyC5Lc",
    "outputId": "e36bc88c-e38d-477a-89ca-1534da15e1a4"
   },
   "outputs": [
    {
     "data": {
      "text/plain": [
       "[{'text': '3D'},\n",
       " {'text': ' '},\n",
       " {'analysis': [], 'text': 'Touch'},\n",
       " {'text': ' '},\n",
       " {'analysis': [{'lex': 'просто', 'wt': 0.7704013228, 'gr': 'PART='}],\n",
       "  'text': 'просто'},\n",
       " {'text': ' '},\n",
       " {'analysis': [{'lex': 'восхитительный', 'wt': 1, 'gr': 'A=им,ед,полн,жен'}],\n",
       "  'text': 'восхитительная'},\n",
       " {'text': ' '},\n",
       " {'analysis': [{'lex': 'вещь', 'wt': 1, 'gr': 'S,жен,неод=(вин,ед|им,ед)'}],\n",
       "  'text': 'вещь'},\n",
       " {'text': '! '},\n",
       " {'analysis': [{'lex': 'заряд', 'wt': 1, 'gr': 'S,муж,неод=(вин,ед|им,ед)'}],\n",
       "  'text': 'Заряд'},\n",
       " {'text': ' '},\n",
       " {'analysis': [{'lex': 'держать',\n",
       "    'wt': 1,\n",
       "    'gr': 'V,несов,пе=непрош,ед,изъяв,3-л'}],\n",
       "  'text': 'держит'},\n",
       " {'text': ' '},\n",
       " {'analysis': [{'lex': 'целый',\n",
       "    'wt': 1,\n",
       "    'gr': 'A=(вин,ед,полн,муж,неод|им,ед,полн,муж)'}],\n",
       "  'text': 'целый'},\n",
       " {'text': ' '},\n",
       " {'analysis': [{'lex': 'день',\n",
       "    'wt': 0.999920149,\n",
       "    'gr': 'S,муж,неод=(вин,ед|им,ед)'}],\n",
       "  'text': 'день'},\n",
       " {'text': '. '},\n",
       " {'analysis': [{'lex': 'в', 'wt': 0.9999917878, 'gr': 'PR='}], 'text': 'В'},\n",
       " {'text': ' '},\n",
       " {'analysis': [{'lex': 'розовый',\n",
       "    'wt': 1,\n",
       "    'gr': 'A=(пр,ед,полн,муж|пр,ед,полн,сред)'}],\n",
       "  'text': 'розовом'},\n",
       " {'text': ' '},\n",
       " {'analysis': [{'lex': 'цвет', 'wt': 0.9994299262, 'gr': 'S,муж,неод=пр,ед'}],\n",
       "  'text': 'цвете'},\n",
       " {'text': ' '},\n",
       " {'analysis': [{'lex': 'смотреться',\n",
       "    'wt': 1,\n",
       "    'gr': 'V,несов,нп=непрош,ед,изъяв,3-л'}],\n",
       "  'text': 'смотрится'},\n",
       " {'text': ' '},\n",
       " {'analysis': [{'lex': 'очень', 'wt': 1, 'gr': 'ADV='}], 'text': 'очень'},\n",
       " {'text': ' '},\n",
       " {'analysis': [{'lex': 'необычно', 'wt': 0.6877931861, 'gr': 'ADV='}],\n",
       "  'text': 'необычно'},\n",
       " {'text': '. '},\n",
       " {'analysis': [], 'text': 'Touch'},\n",
       " {'text': ' '},\n",
       " {'analysis': [], 'text': 'ID'},\n",
       " {'text': ' '},\n",
       " {'analysis': [{'lex': 'очень', 'wt': 1, 'gr': 'ADV='}], 'text': 'очень'},\n",
       " {'text': ' '},\n",
       " {'analysis': [{'lex': 'быстрый',\n",
       "    'wt': 1,\n",
       "    'gr': 'A=(вин,ед,полн,муж,неод|им,ед,полн,муж)'}],\n",
       "  'text': 'быстрый'},\n",
       " {'text': ' '},\n",
       " {'analysis': [{'lex': 'и', 'wt': 0.9999770357, 'gr': 'CONJ='}], 'text': 'и'},\n",
       " {'text': ' '},\n",
       " {'analysis': [{'lex': 'удобный',\n",
       "    'wt': 1,\n",
       "    'gr': 'A=(вин,ед,полн,муж,неод|им,ед,полн,муж)'}],\n",
       "  'text': 'удобный'},\n",
       " {'text': '. '},\n",
       " {'analysis': [{'lex': 'все', 'wt': 0.2403292151, 'gr': 'SPRO,мн=дат'}],\n",
       "  'text': 'Всем'},\n",
       " {'text': ' '},\n",
       " {'analysis': [{'lex': 'советовать',\n",
       "    'wt': 1,\n",
       "    'gr': 'V,несов,нп=непрош,ед,изъяв,1-л'}],\n",
       "  'text': 'советую'},\n",
       " {'text': ' '},\n",
       " {'analysis': [{'lex': 'этот',\n",
       "    'wt': 1,\n",
       "    'gr': 'APRO=(вин,ед,муж,неод|им,ед,муж)'}],\n",
       "  'text': 'этот'},\n",
       " {'text': ' '},\n",
       " {'analysis': [{'lex': 'телефон', 'wt': 1, 'gr': 'S,муж,неод=(вин,ед|им,ед)'}],\n",
       "  'text': 'телефон'},\n",
       " {'text': '!'},\n",
       " {'text': '\\n'}]"
      ]
     },
     "execution_count": 93,
     "metadata": {},
     "output_type": "execute_result"
    }
   ],
   "source": [
    "mystem_analyzer.analyze(X['Review'][0])"
   ]
  },
  {
   "cell_type": "markdown",
   "metadata": {
    "id": "GRUbRTxyC5Ld"
   },
   "source": [
    "теперь используем лемматизатор майстема в качестве токенизатора."
   ]
  },
  {
   "cell_type": "code",
   "execution_count": 94,
   "metadata": {
    "executionInfo": {
     "elapsed": 327,
     "status": "aborted",
     "timestamp": 1628186838461,
     "user": {
      "displayName": "Артур Сапрыкин",
      "photoUrl": "",
      "userId": "16185371824692237125"
     },
     "user_tz": -180
    },
    "id": "erUKfI6AC5Ld"
   },
   "outputs": [],
   "source": [
    "def my_preproc(text, stopwords = noise):\n",
    "    text = re.sub('[{}]'.format(punctuation), '', text)\n",
    "    text = mystem_analyzer.lemmatize(text)\n",
    "    return [word for word in text if word not in stopwords]"
   ]
  },
  {
   "cell_type": "markdown",
   "metadata": {},
   "source": [
    "vec_tr = TfidfVectorizer(ngram_range=(1, 1), max_df=0.4, tokenizer=my_preproc)\n",
    "bow_tr = vec_tr.fit_transform(train_x['Review'])\n",
    "\n",
    "vec_train = pd.DataFrame.sparse.from_spmatrix(bow_tr, columns=vec_tr.get_feature_names_out()\n",
    "                                             )\n"
   ]
  },
  {
   "cell_type": "code",
   "execution_count": 95,
   "metadata": {},
   "outputs": [
    {
     "name": "stderr",
     "output_type": "stream",
     "text": [
      "C:\\Users\\term\\anaconda3\\envs\\nlpenv\\Lib\\site-packages\\sklearn\\feature_extraction\\text.py:521: UserWarning: The parameter 'token_pattern' will not be used since 'tokenizer' is not None'\n",
      "  warnings.warn(\n"
     ]
    }
   ],
   "source": [
    "vec_tr = TfidfVectorizer(ngram_range=(1, 1), max_df=0.4, tokenizer=my_preproc)\n",
    "bow_ts = vec_ts.fit_transform(test_x['Review'])\n",
    "\n",
    "vec_test = pd.DataFrame.sparse.from_spmatrix(bow_ts, columns=vec_ts.get_feature_names_out()\n",
    "                                             )"
   ]
  },
  {
   "cell_type": "code",
   "execution_count": 96,
   "metadata": {},
   "outputs": [
    {
     "data": {
      "text/plain": [
       "(343375, 114459)"
      ]
     },
     "execution_count": 96,
     "metadata": {},
     "output_type": "execute_result"
    }
   ],
   "source": [
    "len(vec_train), len(vec_test)"
   ]
  },
  {
   "cell_type": "markdown",
   "metadata": {},
   "source": [
    "Да, опять слишком большие, РСА:"
   ]
  },
  {
   "cell_type": "code",
   "execution_count": 97,
   "metadata": {},
   "outputs": [
    {
     "data": {
      "text/html": [
       "<div>\n",
       "<style scoped>\n",
       "    .dataframe tbody tr th:only-of-type {\n",
       "        vertical-align: middle;\n",
       "    }\n",
       "\n",
       "    .dataframe tbody tr th {\n",
       "        vertical-align: top;\n",
       "    }\n",
       "\n",
       "    .dataframe thead th {\n",
       "        text-align: right;\n",
       "    }\n",
       "</style>\n",
       "<table border=\"1\" class=\"dataframe\">\n",
       "  <thead>\n",
       "    <tr style=\"text-align: right;\">\n",
       "      <th></th>\n",
       "      <th>0</th>\n",
       "      <th>1</th>\n",
       "      <th>2</th>\n",
       "      <th>3</th>\n",
       "      <th>4</th>\n",
       "      <th>5</th>\n",
       "      <th>6</th>\n",
       "      <th>7</th>\n",
       "      <th>8</th>\n",
       "      <th>9</th>\n",
       "      <th>...</th>\n",
       "      <th>90</th>\n",
       "      <th>91</th>\n",
       "      <th>92</th>\n",
       "      <th>93</th>\n",
       "      <th>94</th>\n",
       "      <th>95</th>\n",
       "      <th>96</th>\n",
       "      <th>97</th>\n",
       "      <th>98</th>\n",
       "      <th>99</th>\n",
       "    </tr>\n",
       "  </thead>\n",
       "  <tbody>\n",
       "    <tr>\n",
       "      <th>0</th>\n",
       "      <td>-0.031202</td>\n",
       "      <td>-0.004671</td>\n",
       "      <td>-0.000985</td>\n",
       "      <td>0.035634</td>\n",
       "      <td>-0.008069</td>\n",
       "      <td>-0.009090</td>\n",
       "      <td>-0.000761</td>\n",
       "      <td>-0.000686</td>\n",
       "      <td>-0.011427</td>\n",
       "      <td>-0.013959</td>\n",
       "      <td>...</td>\n",
       "      <td>-0.038157</td>\n",
       "      <td>-0.033970</td>\n",
       "      <td>-0.060934</td>\n",
       "      <td>-0.018974</td>\n",
       "      <td>-0.070660</td>\n",
       "      <td>0.040892</td>\n",
       "      <td>0.007944</td>\n",
       "      <td>0.037697</td>\n",
       "      <td>-0.006507</td>\n",
       "      <td>0.022051</td>\n",
       "    </tr>\n",
       "    <tr>\n",
       "      <th>1</th>\n",
       "      <td>-0.029123</td>\n",
       "      <td>-0.017379</td>\n",
       "      <td>-0.008604</td>\n",
       "      <td>-0.008167</td>\n",
       "      <td>-0.003427</td>\n",
       "      <td>-0.013824</td>\n",
       "      <td>0.006266</td>\n",
       "      <td>-0.007550</td>\n",
       "      <td>-0.003345</td>\n",
       "      <td>-0.004162</td>\n",
       "      <td>...</td>\n",
       "      <td>0.020351</td>\n",
       "      <td>0.017544</td>\n",
       "      <td>0.019849</td>\n",
       "      <td>0.021749</td>\n",
       "      <td>0.020406</td>\n",
       "      <td>-0.012352</td>\n",
       "      <td>0.008948</td>\n",
       "      <td>0.001712</td>\n",
       "      <td>0.023989</td>\n",
       "      <td>0.003342</td>\n",
       "    </tr>\n",
       "    <tr>\n",
       "      <th>2</th>\n",
       "      <td>0.039560</td>\n",
       "      <td>-0.009395</td>\n",
       "      <td>-0.006523</td>\n",
       "      <td>-0.006914</td>\n",
       "      <td>-0.000147</td>\n",
       "      <td>-0.002861</td>\n",
       "      <td>0.002424</td>\n",
       "      <td>-0.006022</td>\n",
       "      <td>-0.010049</td>\n",
       "      <td>0.005089</td>\n",
       "      <td>...</td>\n",
       "      <td>0.046533</td>\n",
       "      <td>-0.121205</td>\n",
       "      <td>-0.010541</td>\n",
       "      <td>-0.039418</td>\n",
       "      <td>0.021474</td>\n",
       "      <td>-0.062781</td>\n",
       "      <td>-0.046597</td>\n",
       "      <td>0.003711</td>\n",
       "      <td>-0.017670</td>\n",
       "      <td>-0.009158</td>\n",
       "    </tr>\n",
       "    <tr>\n",
       "      <th>3</th>\n",
       "      <td>-0.027980</td>\n",
       "      <td>0.057690</td>\n",
       "      <td>-0.042573</td>\n",
       "      <td>0.005008</td>\n",
       "      <td>0.010700</td>\n",
       "      <td>-0.027963</td>\n",
       "      <td>0.015856</td>\n",
       "      <td>-0.008018</td>\n",
       "      <td>0.081307</td>\n",
       "      <td>0.002144</td>\n",
       "      <td>...</td>\n",
       "      <td>0.014355</td>\n",
       "      <td>-0.000461</td>\n",
       "      <td>-0.016830</td>\n",
       "      <td>-0.003104</td>\n",
       "      <td>0.010211</td>\n",
       "      <td>0.006349</td>\n",
       "      <td>-0.009535</td>\n",
       "      <td>-0.006031</td>\n",
       "      <td>0.002784</td>\n",
       "      <td>0.019734</td>\n",
       "    </tr>\n",
       "    <tr>\n",
       "      <th>4</th>\n",
       "      <td>-0.026454</td>\n",
       "      <td>0.119731</td>\n",
       "      <td>0.123360</td>\n",
       "      <td>0.527480</td>\n",
       "      <td>-0.056013</td>\n",
       "      <td>0.055689</td>\n",
       "      <td>-0.116030</td>\n",
       "      <td>0.024518</td>\n",
       "      <td>-0.151814</td>\n",
       "      <td>0.228902</td>\n",
       "      <td>...</td>\n",
       "      <td>-0.055202</td>\n",
       "      <td>-0.029335</td>\n",
       "      <td>0.034717</td>\n",
       "      <td>-0.003690</td>\n",
       "      <td>-0.108847</td>\n",
       "      <td>-0.074654</td>\n",
       "      <td>0.124660</td>\n",
       "      <td>-0.056616</td>\n",
       "      <td>0.147102</td>\n",
       "      <td>-0.080962</td>\n",
       "    </tr>\n",
       "  </tbody>\n",
       "</table>\n",
       "<p>5 rows × 100 columns</p>\n",
       "</div>"
      ],
      "text/plain": [
       "         0         1         2         3         4         5         6   \\\n",
       "0 -0.031202 -0.004671 -0.000985  0.035634 -0.008069 -0.009090 -0.000761   \n",
       "1 -0.029123 -0.017379 -0.008604 -0.008167 -0.003427 -0.013824  0.006266   \n",
       "2  0.039560 -0.009395 -0.006523 -0.006914 -0.000147 -0.002861  0.002424   \n",
       "3 -0.027980  0.057690 -0.042573  0.005008  0.010700 -0.027963  0.015856   \n",
       "4 -0.026454  0.119731  0.123360  0.527480 -0.056013  0.055689 -0.116030   \n",
       "\n",
       "         7         8         9   ...        90        91        92        93  \\\n",
       "0 -0.000686 -0.011427 -0.013959  ... -0.038157 -0.033970 -0.060934 -0.018974   \n",
       "1 -0.007550 -0.003345 -0.004162  ...  0.020351  0.017544  0.019849  0.021749   \n",
       "2 -0.006022 -0.010049  0.005089  ...  0.046533 -0.121205 -0.010541 -0.039418   \n",
       "3 -0.008018  0.081307  0.002144  ...  0.014355 -0.000461 -0.016830 -0.003104   \n",
       "4  0.024518 -0.151814  0.228902  ... -0.055202 -0.029335  0.034717 -0.003690   \n",
       "\n",
       "         94        95        96        97        98        99  \n",
       "0 -0.070660  0.040892  0.007944  0.037697 -0.006507  0.022051  \n",
       "1  0.020406 -0.012352  0.008948  0.001712  0.023989  0.003342  \n",
       "2  0.021474 -0.062781 -0.046597  0.003711 -0.017670 -0.009158  \n",
       "3  0.010211  0.006349 -0.009535 -0.006031  0.002784  0.019734  \n",
       "4 -0.108847 -0.074654  0.124660 -0.056616  0.147102 -0.080962  \n",
       "\n",
       "[5 rows x 100 columns]"
      ]
     },
     "execution_count": 97,
     "metadata": {},
     "output_type": "execute_result"
    }
   ],
   "source": [
    "pca_train = pca.fit_transform(vec_train)\n",
    "pca_test = pca.fit_transform(vec_test)\n",
    "pd.DataFrame(pca_test).head()"
   ]
  },
  {
   "cell_type": "code",
   "execution_count": 98,
   "metadata": {},
   "outputs": [
    {
     "data": {
      "application/vnd.jupyter.widget-view+json": {
       "model_id": "75b19460105a4b6cb1d28a942403c3ed",
       "version_major": 2,
       "version_minor": 0
      },
      "text/plain": [
       "MetricVisualizer(layout=Layout(align_self='stretch', height='500px'))"
      ]
     },
     "metadata": {},
     "output_type": "display_data"
    },
    {
     "data": {
      "text/plain": [
       "<catboost.core.CatBoostClassifier at 0x20b3e283c50>"
      ]
     },
     "execution_count": 98,
     "metadata": {},
     "output_type": "execute_result"
    }
   ],
   "source": [
    "model_cb.fit(pca_train, train_y, plot= True)"
   ]
  },
  {
   "cell_type": "code",
   "execution_count": 99,
   "metadata": {},
   "outputs": [
    {
     "name": "stdout",
     "output_type": "stream",
     "text": [
      "\n",
      "              precision    recall  f1-score   support\n",
      "\n",
      "           1       0.35      0.08      0.13      8652\n",
      "           2       0.23      0.08      0.12      8867\n",
      "           3       0.22      0.17      0.19     13286\n",
      "           4       0.29      0.22      0.25     26766\n",
      "           5       0.57      0.79      0.66     56888\n",
      "\n",
      "    accuracy                           0.48    114459\n",
      "   macro avg       0.33      0.27      0.27    114459\n",
      "weighted avg       0.42      0.48      0.43    114459\n",
      "\n",
      "\n",
      "Confusion Matrix\n",
      "\n",
      "[[  687   708  1255  1466  4536]\n",
      " [  421   686  1479  1705  4576]\n",
      " [  332   630  2208  2870  7246]\n",
      " [  194   444  2237  5947 17944]\n",
      " [  343   533  2723  8191 45098]]\n",
      "AUC train:  0.5147518924701783\n",
      "AUC test:  0.6750934345576314\n"
     ]
    }
   ],
   "source": [
    "train_pred = model_cb.predict(pca_result)\n",
    "proba_train = model_cb.predict_proba(pca_result)\n",
    " \n",
    "test_pred = model_cb.predict(pca_test)\n",
    "proba_test = model_cb.predict_proba(pca_test)\n",
    "\n",
    "confusion = confusion_matrix(test_y, test_pred)\n",
    "print(CR + classification_report(test_y,test_pred)) \n",
    "print(CR + 'Confusion Matrix\\n')\n",
    "print(confusion)\n",
    "auc_tr = roc_auc_score(train_y, proba_train, multi_class='ovr')\n",
    "auc_test = roc_auc_score(test_y,  proba_test, multi_class='ovr')\n",
    "print('AUC train: ', auc_tr)\n",
    "print('AUC test: ', auc_test)"
   ]
  },
  {
   "cell_type": "code",
   "execution_count": 100,
   "metadata": {},
   "outputs": [
    {
     "name": "stdout",
     "output_type": "stream",
     "text": [
      "Root Mean Squared Error на тестовой выборке: 1.4122569296750862\n",
      "Mean Absolute Error на тестовой выборке: 0.888641347556767\n",
      "R2 на тестовой выборке: -0.2439926116578044\n"
     ]
    }
   ],
   "source": [
    "mse = mean_squared_error(test_y, test_pred)\n",
    "rmse = root_mean_squared_error(test_y, test_pred)\n",
    "mae = mean_absolute_error(test_y, test_pred)\n",
    "print(\"Root Mean Squared Error на тестовой выборке:\", rmse)\n",
    "print(\"Mean Absolute Error на тестовой выборке:\", mae)\n",
    "r2 = r2_score(test_y, test_pred)\n",
    "print(\"R2 на тестовой выборке:\", r2)"
   ]
  },
  {
   "cell_type": "markdown",
   "metadata": {
    "id": "scTbML3MC5Lf"
   },
   "source": [
    "## Регулярные выражения\n",
    "Попробуем для нашего не поддающегося пока конкретного случая особый способ токенизации - самостоятельно написать регулярку. Или, "
   ]
  },
  {
   "cell_type": "markdown",
   "metadata": {},
   "source": [
    "Создадим отборщики категорий и рег. выражений"
   ]
  },
  {
   "cell_type": "code",
   "execution_count": 101,
   "metadata": {
    "scrolled": false
   },
   "outputs": [
    {
     "name": "stderr",
     "output_type": "stream",
     "text": [
      "C:\\Users\\term\\anaconda3\\envs\\nlpenv\\Lib\\site-packages\\sklearn\\feature_extraction\\text.py:521: UserWarning: The parameter 'token_pattern' will not be used since 'tokenizer' is not None'\n",
      "  warnings.warn(\n"
     ]
    }
   ],
   "source": [
    "vec_tfidf = TfidfVectorizer(ngram_range=(2, 2), max_df=0.4, tokenizer=word_tokenize, stop_words=noise)\n",
    "bow_5 = vec_tfidf.fit_transform(data[data['Rating']>3]['Review'])\n"
   ]
  },
  {
   "cell_type": "code",
   "execution_count": 102,
   "metadata": {},
   "outputs": [],
   "source": [
    "vec_df_5 = pd.DataFrame.sparse.from_spmatrix(bow_5, columns=vec_tfidf.get_feature_names_out())"
   ]
  },
  {
   "cell_type": "code",
   "execution_count": 103,
   "metadata": {},
   "outputs": [
    {
     "name": "stderr",
     "output_type": "stream",
     "text": [
      "C:\\Users\\term\\anaconda3\\envs\\nlpenv\\Lib\\site-packages\\sklearn\\feature_extraction\\text.py:521: UserWarning: The parameter 'token_pattern' will not be used since 'tokenizer' is not None'\n",
      "  warnings.warn(\n"
     ]
    }
   ],
   "source": [
    "bow_2 = vec_tfidf.fit_transform(data[data['Rating']<=3]['Review'])\n",
    "vec_df_2 = pd.DataFrame.sparse.from_spmatrix(bow_2, columns=vec_tfidf.get_feature_names_out())"
   ]
  },
  {
   "cell_type": "code",
   "execution_count": 104,
   "metadata": {},
   "outputs": [],
   "source": [
    "# Подсчёт суммы каждого столбца (биграммы)\n",
    "freq_ngramms_5 = vec_df_5.sum(axis=0).sort_values(ascending=False)\n",
    "freq_ngramms_2 = vec_df_2.sum(axis=0).sort_values(ascending=False)\n"
   ]
  },
  {
   "cell_type": "code",
   "execution_count": 105,
   "metadata": {
    "scrolled": true
   },
   "outputs": [
    {
     "data": {
      "text/plain": [
       "! !                  5107.848135\n",
       "отличный телефон     1751.510777\n",
       "хороший телефон      1494.390982\n",
       "не пожалеете         1203.933807\n",
       "свои деньги          1180.461825\n",
       "очень доволен        1152.580456\n",
       "очень хороший         921.779516\n",
       "берите не             896.671487\n",
       "телефон не            867.665849\n",
       "всем советую          862.104228\n",
       "такие деньги          843.940701\n",
       "телефон очень         827.299757\n",
       "телефон !             811.072087\n",
       "своих денег           750.746164\n",
       "очень довольна        688.378403\n",
       "не жалею               687.94082\n",
       "такую цену            684.074989\n",
       "телефон хороший        647.76937\n",
       "разу не               647.137952\n",
       "это не                  642.2174\n",
       "пока не               603.035951\n",
       "телефон отличный      596.339216\n",
       "отличный аппарат      590.661918\n",
       "целом телефон         579.874228\n",
       "ничего не             575.787609\n",
       "очень нравится        566.477658\n",
       "не очень              562.073339\n",
       "сих пор               550.827442\n",
       "советую всем          525.440506\n",
       "стоит своих           498.918785\n",
       "советую !             493.169304\n",
       "пожалеете !           490.508865\n",
       "отличная модель       480.881756\n",
       "не могу               479.439349\n",
       "не пожалел            478.383508\n",
       "телефоном доволен     474.645281\n",
       "рекомендую !          472.938873\n",
       "телефон свои          444.062147\n",
       "покупкой доволен      440.264818\n",
       "не знаю               438.433236\n",
       "очень понравился      433.636992\n",
       "2 года                430.483018\n",
       "доволен покупкой      400.347603\n",
       "хороший аппарат       392.202284\n",
       "! не                  391.359866\n",
       "супер !               389.103832\n",
       "отличный смартфон     388.151806\n",
       "телефон просто        370.347382\n",
       "советую брать         368.446643\n",
       "покупайте не          368.343891\n",
       "dtype: Sparse[float64, 0]"
      ]
     },
     "execution_count": 105,
     "metadata": {},
     "output_type": "execute_result"
    }
   ],
   "source": [
    "freq_ngramms_5[:50]"
   ]
  },
  {
   "cell_type": "code",
   "execution_count": 106,
   "metadata": {
    "scrolled": false
   },
   "outputs": [
    {
     "data": {
      "text/plain": [
       "! !                     2176.76402\n",
       "не советую             1095.574984\n",
       "не рекомендую           564.588124\n",
       "телефон не              537.257187\n",
       "не стоит                441.044492\n",
       "                          ...     \n",
       "лаги которые              1.000023\n",
       "норм батарею              1.000018\n",
       "4000рублей максимум       1.000006\n",
       "стоит 4000рублей          1.000006\n",
       "максимум 500              1.000006\n",
       "Length: 85783, dtype: Sparse[float64, 0]"
      ]
     },
     "execution_count": 106,
     "metadata": {},
     "output_type": "execute_result"
    }
   ],
   "source": [
    "freq_ngramms_2[freq_ngramms_2>1]"
   ]
  },
  {
   "cell_type": "code",
   "execution_count": 107,
   "metadata": {},
   "outputs": [
    {
     "data": {
      "text/html": [
       "<div>\n",
       "<style scoped>\n",
       "    .dataframe tbody tr th:only-of-type {\n",
       "        vertical-align: middle;\n",
       "    }\n",
       "\n",
       "    .dataframe tbody tr th {\n",
       "        vertical-align: top;\n",
       "    }\n",
       "\n",
       "    .dataframe thead th {\n",
       "        text-align: right;\n",
       "    }\n",
       "</style>\n",
       "<table border=\"1\" class=\"dataframe\">\n",
       "  <thead>\n",
       "    <tr style=\"text-align: right;\">\n",
       "      <th></th>\n",
       "      <th>index</th>\n",
       "      <th>0</th>\n",
       "    </tr>\n",
       "  </thead>\n",
       "  <tbody>\n",
       "    <tr>\n",
       "      <th>0</th>\n",
       "      <td>! !</td>\n",
       "      <td>2176.76402</td>\n",
       "    </tr>\n",
       "    <tr>\n",
       "      <th>1</th>\n",
       "      <td>не советую</td>\n",
       "      <td>1095.574984</td>\n",
       "    </tr>\n",
       "    <tr>\n",
       "      <th>2</th>\n",
       "      <td>не рекомендую</td>\n",
       "      <td>564.588124</td>\n",
       "    </tr>\n",
       "    <tr>\n",
       "      <th>3</th>\n",
       "      <td>телефон не</td>\n",
       "      <td>537.257187</td>\n",
       "    </tr>\n",
       "    <tr>\n",
       "      <th>4</th>\n",
       "      <td>не стоит</td>\n",
       "      <td>441.044492</td>\n",
       "    </tr>\n",
       "    <tr>\n",
       "      <th>...</th>\n",
       "      <td>...</td>\n",
       "      <td>...</td>\n",
       "    </tr>\n",
       "    <tr>\n",
       "      <th>1455301</th>\n",
       "      <td>основные этим</td>\n",
       "      <td>0.024727</td>\n",
       "    </tr>\n",
       "    <tr>\n",
       "      <th>1455302</th>\n",
       "      <td>выйдет список</td>\n",
       "      <td>0.024727</td>\n",
       "    </tr>\n",
       "    <tr>\n",
       "      <th>1455303</th>\n",
       "      <td>всё круче</td>\n",
       "      <td>0.024727</td>\n",
       "    </tr>\n",
       "    <tr>\n",
       "      <th>1455304</th>\n",
       "      <td>софт звук</td>\n",
       "      <td>0.024727</td>\n",
       "    </tr>\n",
       "    <tr>\n",
       "      <th>1455305</th>\n",
       "      <td>сделать новом</td>\n",
       "      <td>0.024727</td>\n",
       "    </tr>\n",
       "  </tbody>\n",
       "</table>\n",
       "<p>1455306 rows × 2 columns</p>\n",
       "</div>"
      ],
      "text/plain": [
       "                 index            0\n",
       "0                  ! !   2176.76402\n",
       "1           не советую  1095.574984\n",
       "2        не рекомендую   564.588124\n",
       "3           телефон не   537.257187\n",
       "4             не стоит   441.044492\n",
       "...                ...          ...\n",
       "1455301  основные этим     0.024727\n",
       "1455302  выйдет список     0.024727\n",
       "1455303      всё круче     0.024727\n",
       "1455304      софт звук     0.024727\n",
       "1455305  сделать новом     0.024727\n",
       "\n",
       "[1455306 rows x 2 columns]"
      ]
     },
     "execution_count": 107,
     "metadata": {},
     "output_type": "execute_result"
    }
   ],
   "source": [
    "freq_ngramms_2 = freq_ngramms_2.reset_index()\n",
    "freq_ngramms_2"
   ]
  },
  {
   "cell_type": "code",
   "execution_count": 108,
   "metadata": {
    "scrolled": true
   },
   "outputs": [
    {
     "data": {
      "text/plain": [
       "85783"
      ]
     },
     "execution_count": 108,
     "metadata": {},
     "output_type": "execute_result"
    }
   ],
   "source": [
    "list_freq_2gramm = set(list(freq_ngramms_2[freq_ngramms_2[0]>1]['index']))\n",
    "len(list_freq_2gramm)"
   ]
  },
  {
   "cell_type": "code",
   "execution_count": 109,
   "metadata": {
    "scrolled": true
   },
   "outputs": [
    {
     "data": {
      "text/html": [
       "<div>\n",
       "<style scoped>\n",
       "    .dataframe tbody tr th:only-of-type {\n",
       "        vertical-align: middle;\n",
       "    }\n",
       "\n",
       "    .dataframe tbody tr th {\n",
       "        vertical-align: top;\n",
       "    }\n",
       "\n",
       "    .dataframe thead th {\n",
       "        text-align: right;\n",
       "    }\n",
       "</style>\n",
       "<table border=\"1\" class=\"dataframe\">\n",
       "  <thead>\n",
       "    <tr style=\"text-align: right;\">\n",
       "      <th></th>\n",
       "      <th>index</th>\n",
       "      <th>0</th>\n",
       "    </tr>\n",
       "  </thead>\n",
       "  <tbody>\n",
       "    <tr>\n",
       "      <th>0</th>\n",
       "      <td>! !</td>\n",
       "      <td>5107.848135</td>\n",
       "    </tr>\n",
       "    <tr>\n",
       "      <th>1</th>\n",
       "      <td>отличный телефон</td>\n",
       "      <td>1751.510777</td>\n",
       "    </tr>\n",
       "    <tr>\n",
       "      <th>2</th>\n",
       "      <td>хороший телефон</td>\n",
       "      <td>1494.390982</td>\n",
       "    </tr>\n",
       "    <tr>\n",
       "      <th>3</th>\n",
       "      <td>не пожалеете</td>\n",
       "      <td>1203.933807</td>\n",
       "    </tr>\n",
       "    <tr>\n",
       "      <th>4</th>\n",
       "      <td>свои деньги</td>\n",
       "      <td>1180.461825</td>\n",
       "    </tr>\n",
       "    <tr>\n",
       "      <th>...</th>\n",
       "      <td>...</td>\n",
       "      <td>...</td>\n",
       "    </tr>\n",
       "    <tr>\n",
       "      <th>3434073</th>\n",
       "      <td>чем-то забивает</td>\n",
       "      <td>0.019867</td>\n",
       "    </tr>\n",
       "    <tr>\n",
       "      <th>3434074</th>\n",
       "      <td>бернд делает</td>\n",
       "      <td>0.019867</td>\n",
       "    </tr>\n",
       "    <tr>\n",
       "      <th>3434075</th>\n",
       "      <td>привлечении первой</td>\n",
       "      <td>0.019867</td>\n",
       "    </tr>\n",
       "    <tr>\n",
       "      <th>3434076</th>\n",
       "      <td>отключат закрасится</td>\n",
       "      <td>0.019867</td>\n",
       "    </tr>\n",
       "    <tr>\n",
       "      <th>3434077</th>\n",
       "      <td>а-ля голый</td>\n",
       "      <td>0.019867</td>\n",
       "    </tr>\n",
       "  </tbody>\n",
       "</table>\n",
       "<p>3434078 rows × 2 columns</p>\n",
       "</div>"
      ],
      "text/plain": [
       "                       index            0\n",
       "0                        ! !  5107.848135\n",
       "1           отличный телефон  1751.510777\n",
       "2            хороший телефон  1494.390982\n",
       "3               не пожалеете  1203.933807\n",
       "4                свои деньги  1180.461825\n",
       "...                      ...          ...\n",
       "3434073      чем-то забивает     0.019867\n",
       "3434074         бернд делает     0.019867\n",
       "3434075   привлечении первой     0.019867\n",
       "3434076  отключат закрасится     0.019867\n",
       "3434077           а-ля голый     0.019867\n",
       "\n",
       "[3434078 rows x 2 columns]"
      ]
     },
     "execution_count": 109,
     "metadata": {},
     "output_type": "execute_result"
    }
   ],
   "source": [
    "freq_ngramms_5 = freq_ngramms_5.reset_index()\n",
    "freq_ngramms_5"
   ]
  },
  {
   "cell_type": "code",
   "execution_count": 110,
   "metadata": {},
   "outputs": [
    {
     "data": {
      "text/plain": [
       "3434078"
      ]
     },
     "execution_count": 110,
     "metadata": {},
     "output_type": "execute_result"
    }
   ],
   "source": [
    "list_freq_ngramm_5 = set(list(freq_ngramms_5[freq_ngramms_5[0]>0]['index']))\n",
    "len(list_freq_ngramm_5)"
   ]
  },
  {
   "cell_type": "code",
   "execution_count": 111,
   "metadata": {
    "scrolled": true
   },
   "outputs": [
    {
     "data": {
      "text/plain": [
       "16389"
      ]
     },
     "execution_count": 111,
     "metadata": {},
     "output_type": "execute_result"
    }
   ],
   "source": [
    "\n",
    "list_only_2_ng = [x for x in list_freq_2gramm if x not in list_freq_ngramm_5]\n",
    "len(list_only_2_ng)"
   ]
  },
  {
   "cell_type": "code",
   "execution_count": 112,
   "metadata": {},
   "outputs": [
    {
     "data": {
      "text/plain": [
       "181911"
      ]
     },
     "execution_count": 112,
     "metadata": {},
     "output_type": "execute_result"
    }
   ],
   "source": [
    "list_freq_ngramm_5 = set(list(freq_ngramms_5[freq_ngramms_5[0]>1.2]['index']))\n",
    "len(list_freq_ngramm_5)"
   ]
  },
  {
   "cell_type": "code",
   "execution_count": 113,
   "metadata": {},
   "outputs": [
    {
     "data": {
      "text/plain": [
       "1455306"
      ]
     },
     "execution_count": 113,
     "metadata": {},
     "output_type": "execute_result"
    }
   ],
   "source": [
    "list_freq_2gramm = set(list(freq_ngramms_2['index']))\n",
    "len(list_freq_2gramm)"
   ]
  },
  {
   "cell_type": "code",
   "execution_count": 114,
   "metadata": {
    "scrolled": true
   },
   "outputs": [
    {
     "data": {
      "text/plain": [
       "62208"
      ]
     },
     "execution_count": 114,
     "metadata": {},
     "output_type": "execute_result"
    }
   ],
   "source": [
    "list_only_5_ng = [x for x in list_freq_ngramm_5 if x not in list_freq_2gramm]\n",
    "len(list_only_5_ng)"
   ]
  },
  {
   "cell_type": "markdown",
   "metadata": {},
   "source": [
    "И мы получили 2 списка н-грамм, характерных каждый для своей категории отзывов, исключив общее. Объединим их:"
   ]
  },
  {
   "cell_type": "code",
   "execution_count": 115,
   "metadata": {
    "scrolled": true
   },
   "outputs": [
    {
     "data": {
      "text/plain": [
       "78597"
      ]
     },
     "execution_count": 115,
     "metadata": {},
     "output_type": "execute_result"
    }
   ],
   "source": [
    "list_columns_to_check = set(list_only_2_ng+list_only_5_ng)\n",
    "len(list_columns_to_check)"
   ]
  },
  {
   "cell_type": "markdown",
   "metadata": {},
   "source": [
    "Теперь снова получаем списки 2-мерных н-грамм трэйна и теста"
   ]
  },
  {
   "cell_type": "code",
   "execution_count": 116,
   "metadata": {},
   "outputs": [],
   "source": [
    "X= data.drop('Rating',axis = 1)\n",
    "train_x, test_x, train_y, test_y = train_test_split(X, y,\n",
    "                                                   test_size=TEST_SIZE, random_state=RS,\n",
    "                                                   )"
   ]
  },
  {
   "cell_type": "code",
   "execution_count": 117,
   "metadata": {},
   "outputs": [
    {
     "name": "stderr",
     "output_type": "stream",
     "text": [
      "C:\\Users\\term\\anaconda3\\envs\\nlpenv\\Lib\\site-packages\\sklearn\\feature_extraction\\text.py:521: UserWarning: The parameter 'token_pattern' will not be used since 'tokenizer' is not None'\n",
      "  warnings.warn(\n"
     ]
    }
   ],
   "source": [
    "vec_tr = TfidfVectorizer(ngram_range=(2, 2), max_df=0.4,  tokenizer=word_tokenize, stop_words=noise)\n",
    "bow_tr = vec_tr.fit_transform(train_x['Review'])\n",
    "\n",
    "vec_train = pd.DataFrame.sparse.from_spmatrix(bow_tr, columns=vec_tr.get_feature_names_out()\n",
    "                                             )\n"
   ]
  },
  {
   "cell_type": "code",
   "execution_count": 118,
   "metadata": {},
   "outputs": [
    {
     "name": "stderr",
     "output_type": "stream",
     "text": [
      "C:\\Users\\term\\anaconda3\\envs\\nlpenv\\Lib\\site-packages\\sklearn\\feature_extraction\\text.py:521: UserWarning: The parameter 'token_pattern' will not be used since 'tokenizer' is not None'\n",
      "  warnings.warn(\n"
     ]
    }
   ],
   "source": [
    "vec_ts = TfidfVectorizer(ngram_range=(2, 2), max_df=0.4, tokenizer=word_tokenize, stop_words=noise)\n",
    "bow_ts = vec_ts.fit_transform(test_x['Review'])\n",
    "\n",
    "vec_test = pd.DataFrame.sparse.from_spmatrix(bow_ts, columns=vec_ts.get_feature_names_out()\n",
    "                                             )"
   ]
  },
  {
   "cell_type": "markdown",
   "metadata": {},
   "source": [
    "Оставляем только те, которые входят в наш дифференциационный лист"
   ]
  },
  {
   "cell_type": "code",
   "execution_count": 119,
   "metadata": {},
   "outputs": [],
   "source": [
    "list_columns_train_all = set(vec_train.columns)\n",
    "list_columns_train_left = [x for x in list_columns_to_check if x in list_columns_train_all]\n",
    "\n",
    "vec_train= vec_train[list_columns_train_left]"
   ]
  },
  {
   "cell_type": "code",
   "execution_count": 120,
   "metadata": {},
   "outputs": [],
   "source": [
    "list_columns_test_all = set(vec_test.columns)\n",
    "list_columns_test_left = [x for x in list_columns_train_left if x in list_columns_test_all]\n",
    "\n",
    "\n",
    "vec_test= vec_test[list_columns_test_left]"
   ]
  },
  {
   "cell_type": "code",
   "execution_count": 121,
   "metadata": {},
   "outputs": [
    {
     "data": {
      "text/plain": [
       "13631"
      ]
     },
     "execution_count": 121,
     "metadata": {},
     "output_type": "execute_result"
    }
   ],
   "source": [
    "list_columns_train_left = set(list_columns_train_left)\n",
    "list_columns_test_left = set(list_columns_test_left)\n",
    "list_columns_train_drop = [x for x in list_columns_train_left if x not in list_columns_test_left]\n",
    "len(list_columns_train_drop)\n"
   ]
  },
  {
   "cell_type": "markdown",
   "metadata": {},
   "source": [
    "Наоборот не должно было остаться, но проверим"
   ]
  },
  {
   "cell_type": "code",
   "execution_count": 122,
   "metadata": {
    "scrolled": true
   },
   "outputs": [
    {
     "data": {
      "text/plain": [
       "0"
      ]
     },
     "execution_count": 122,
     "metadata": {},
     "output_type": "execute_result"
    }
   ],
   "source": [
    "list_columns_test_drop = [x for x in list_columns_test_left if x not in list_columns_train_left]\n",
    "len(list_columns_test_drop)"
   ]
  },
  {
   "cell_type": "code",
   "execution_count": 123,
   "metadata": {},
   "outputs": [],
   "source": [
    "vec_train= vec_train.drop(list_columns_train_drop, axis = 1)\n"
   ]
  },
  {
   "cell_type": "code",
   "execution_count": 124,
   "metadata": {},
   "outputs": [
    {
     "data": {
      "text/plain": [
       "array([ True,  True,  True, ...,  True,  True,  True])"
      ]
     },
     "execution_count": 124,
     "metadata": {},
     "output_type": "execute_result"
    }
   ],
   "source": [
    "vec_train.columns == vec_test.columns "
   ]
  },
  {
   "cell_type": "code",
   "execution_count": 125,
   "metadata": {},
   "outputs": [
    {
     "data": {
      "text/plain": [
       "good_cat\n",
       "0.0    354338\n",
       "1.0    103496\n",
       "Name: count, dtype: int64"
      ]
     },
     "execution_count": 125,
     "metadata": {},
     "output_type": "execute_result"
    }
   ],
   "source": [
    "def check_cat_good(row):\n",
    "    try:\n",
    "        for sub_string in strings:\n",
    "            pattern = re.compile(r'\\b{}\\b'.format(sub_string+'*'))\n",
    "            result = pattern.search(row['Review'])\n",
    "            if result:\n",
    "                return 1 \n",
    "    except:\n",
    "        return 0\n",
    "\n",
    "strings = [ 'отличный','отличное','отличная','отлично','отличные',\n",
    "           'доволен','довольна',\n",
    "           'прекрасный','прекрасно','прекрасные','прекрасное','прекрасная',\n",
    "\n",
    "           \n",
    "          ]\n",
    "\n",
    "X['good_cat'] = X.apply(check_cat_good, axis = 1)\n",
    "X['good_cat'] = X['good_cat'].fillna(0)\n",
    "X['good_cat'].value_counts()"
   ]
  },
  {
   "cell_type": "code",
   "execution_count": 126,
   "metadata": {
    "scrolled": true
   },
   "outputs": [
    {
     "data": {
      "text/plain": [
       "bad_cat\n",
       "1.0    30782\n",
       "Name: count, dtype: int64"
      ]
     },
     "execution_count": 126,
     "metadata": {},
     "output_type": "execute_result"
    }
   ],
   "source": [
    "def check_cat_bad(row):\n",
    "    try:\n",
    "        for sub_string in strings:\n",
    "            pattern = re.compile(r'\\b{}\\b'.format(sub_string+'*'))\n",
    "            result = pattern.search(row['Review'])\n",
    "            if result:\n",
    "                return 1 \n",
    "    except:\n",
    "        return 0\n",
    "\n",
    "strings = [ 'плохо','плох','не совет', 'не рекоменд','не стоит', 'разочарован', 'не берит',\n",
    "           'отвратительно','отвратительн','сломал', 'обратно в магазин',\n",
    "           'ужасн', 'пожалел','не покуп', 'перестал работать','ни в коем'\n",
    "           'жале', 'деньги на ветер'\n",
    "           \n",
    "          ]\n",
    "\n",
    "X['bad_cat'] = X.apply(check_cat_bad, axis = 1)\n",
    "X['bad_cat'].value_counts()"
   ]
  },
  {
   "cell_type": "code",
   "execution_count": 127,
   "metadata": {},
   "outputs": [],
   "source": [
    "X['bad_cat'] = X['bad_cat'].fillna(0)\n"
   ]
  },
  {
   "cell_type": "code",
   "execution_count": 128,
   "metadata": {},
   "outputs": [],
   "source": [
    "strings = ['((']# этих нет'(((', ':(((',':(',]"
   ]
  },
  {
   "cell_type": "code",
   "execution_count": 129,
   "metadata": {
    "scrolled": true
   },
   "outputs": [
    {
     "data": {
      "text/plain": [
       "bad_smile_cat\n",
       "0    457834\n",
       "Name: count, dtype: int64"
      ]
     },
     "execution_count": 129,
     "metadata": {},
     "output_type": "execute_result"
    }
   ],
   "source": [
    "X['bad_smile_cat'] = X.apply(check_cat_bad, axis = 1)\n",
    "X['bad_smile_cat'].value_counts()"
   ]
  },
  {
   "cell_type": "code",
   "execution_count": 130,
   "metadata": {},
   "outputs": [],
   "source": [
    "strings = [ ')))'] #И этих нет -'🤣', '❤️','😍','😊'] # этих нет ':)))', ':)', ')))']"
   ]
  },
  {
   "cell_type": "code",
   "execution_count": 131,
   "metadata": {},
   "outputs": [
    {
     "data": {
      "text/plain": [
       "good_smile_cat\n",
       "0    457834\n",
       "Name: count, dtype: int64"
      ]
     },
     "execution_count": 131,
     "metadata": {},
     "output_type": "execute_result"
    }
   ],
   "source": [
    "X['good_smile_cat'] = X.apply(check_cat_good, axis = 1)\n",
    "X['good_smile_cat'].value_counts()"
   ]
  },
  {
   "cell_type": "markdown",
   "metadata": {},
   "source": [
    "Смайлов не нашли. А жаль, могло бы помочь. Но это были очень серьёзные пользователи"
   ]
  },
  {
   "cell_type": "code",
   "execution_count": 132,
   "metadata": {
    "scrolled": true
   },
   "outputs": [
    {
     "data": {
      "text/html": [
       "<style type=\"text/css\">\n",
       "#T_af7c4_row0_col0, #T_af7c4_row0_col1, #T_af7c4_row0_col2, #T_af7c4_row0_col3, #T_af7c4_row0_col4 {\n",
       "  background-color: #008066;\n",
       "  color: #f1f1f1;\n",
       "}\n",
       "#T_af7c4_row1_col0, #T_af7c4_row1_col1, #T_af7c4_row1_col2, #T_af7c4_row1_col3, #T_af7c4_row1_col4 {\n",
       "  background-color: #ffff66;\n",
       "  color: #000000;\n",
       "}\n",
       "</style>\n",
       "<table id=\"T_af7c4\">\n",
       "  <thead>\n",
       "    <tr>\n",
       "      <th class=\"index_name level0\" >Rating</th>\n",
       "      <th id=\"T_af7c4_level0_col0\" class=\"col_heading level0 col0\" >1</th>\n",
       "      <th id=\"T_af7c4_level0_col1\" class=\"col_heading level0 col1\" >2</th>\n",
       "      <th id=\"T_af7c4_level0_col2\" class=\"col_heading level0 col2\" >3</th>\n",
       "      <th id=\"T_af7c4_level0_col3\" class=\"col_heading level0 col3\" >4</th>\n",
       "      <th id=\"T_af7c4_level0_col4\" class=\"col_heading level0 col4\" >5</th>\n",
       "    </tr>\n",
       "    <tr>\n",
       "      <th class=\"index_name level0\" >bad_cat</th>\n",
       "      <th class=\"blank col0\" >&nbsp;</th>\n",
       "      <th class=\"blank col1\" >&nbsp;</th>\n",
       "      <th class=\"blank col2\" >&nbsp;</th>\n",
       "      <th class=\"blank col3\" >&nbsp;</th>\n",
       "      <th class=\"blank col4\" >&nbsp;</th>\n",
       "    </tr>\n",
       "  </thead>\n",
       "  <tbody>\n",
       "    <tr>\n",
       "      <th id=\"T_af7c4_level0_row0\" class=\"row_heading level0 row0\" >0.000000</th>\n",
       "      <td id=\"T_af7c4_row0_col0\" class=\"data row0 col0\" >30355</td>\n",
       "      <td id=\"T_af7c4_row0_col1\" class=\"data row0 col1\" >31152</td>\n",
       "      <td id=\"T_af7c4_row0_col2\" class=\"data row0 col2\" >47743</td>\n",
       "      <td id=\"T_af7c4_row0_col3\" class=\"data row0 col3\" >100249</td>\n",
       "      <td id=\"T_af7c4_row0_col4\" class=\"data row0 col4\" >217553</td>\n",
       "    </tr>\n",
       "    <tr>\n",
       "      <th id=\"T_af7c4_level0_row1\" class=\"row_heading level0 row1\" >1.000000</th>\n",
       "      <td id=\"T_af7c4_row1_col0\" class=\"data row1 col0\" >4129</td>\n",
       "      <td id=\"T_af7c4_row1_col1\" class=\"data row1 col1\" >4553</td>\n",
       "      <td id=\"T_af7c4_row1_col2\" class=\"data row1 col2\" >5312</td>\n",
       "      <td id=\"T_af7c4_row1_col3\" class=\"data row1 col3\" >6254</td>\n",
       "      <td id=\"T_af7c4_row1_col4\" class=\"data row1 col4\" >10534</td>\n",
       "    </tr>\n",
       "  </tbody>\n",
       "</table>\n"
      ],
      "text/plain": [
       "<pandas.io.formats.style.Styler at 0x219786e5bd0>"
      ]
     },
     "execution_count": 132,
     "metadata": {},
     "output_type": "execute_result"
    }
   ],
   "source": [
    "pd.crosstab(X['bad_cat'], y).style.background_gradient(cmap='summer_r')"
   ]
  },
  {
   "cell_type": "markdown",
   "metadata": {},
   "source": [
    "Однозначно тут мы не слишком много поймали. Но тем не менее, в 1-2 соотношение 20/3 (около 6), а в 5 152/8(около 19), что говорит о том, что зерно здесь есть.\n",
    "Кто все эти люди, которые пишут о плохом, но ставят оценку 5??? Хотя плохой может быть и в составе \"неплохой\". То есть я, конечно, беру от начала слова. Но не все идеально грамотны, кто-то скажет не плохой, с пробелом."
   ]
  },
  {
   "cell_type": "code",
   "execution_count": 133,
   "metadata": {
    "scrolled": true
   },
   "outputs": [
    {
     "data": {
      "text/html": [
       "<style type=\"text/css\">\n",
       "#T_d84eb_row0_col0, #T_d84eb_row0_col1, #T_d84eb_row0_col2, #T_d84eb_row0_col3, #T_d84eb_row0_col4 {\n",
       "  background-color: #008066;\n",
       "  color: #f1f1f1;\n",
       "}\n",
       "#T_d84eb_row1_col0, #T_d84eb_row1_col1, #T_d84eb_row1_col2, #T_d84eb_row1_col3, #T_d84eb_row1_col4 {\n",
       "  background-color: #ffff66;\n",
       "  color: #000000;\n",
       "}\n",
       "</style>\n",
       "<table id=\"T_d84eb\">\n",
       "  <thead>\n",
       "    <tr>\n",
       "      <th class=\"index_name level0\" >Rating</th>\n",
       "      <th id=\"T_d84eb_level0_col0\" class=\"col_heading level0 col0\" >1</th>\n",
       "      <th id=\"T_d84eb_level0_col1\" class=\"col_heading level0 col1\" >2</th>\n",
       "      <th id=\"T_d84eb_level0_col2\" class=\"col_heading level0 col2\" >3</th>\n",
       "      <th id=\"T_d84eb_level0_col3\" class=\"col_heading level0 col3\" >4</th>\n",
       "      <th id=\"T_d84eb_level0_col4\" class=\"col_heading level0 col4\" >5</th>\n",
       "    </tr>\n",
       "    <tr>\n",
       "      <th class=\"index_name level0\" >good_cat</th>\n",
       "      <th class=\"blank col0\" >&nbsp;</th>\n",
       "      <th class=\"blank col1\" >&nbsp;</th>\n",
       "      <th class=\"blank col2\" >&nbsp;</th>\n",
       "      <th class=\"blank col3\" >&nbsp;</th>\n",
       "      <th class=\"blank col4\" >&nbsp;</th>\n",
       "    </tr>\n",
       "  </thead>\n",
       "  <tbody>\n",
       "    <tr>\n",
       "      <th id=\"T_d84eb_level0_row0\" class=\"row_heading level0 row0\" >0.000000</th>\n",
       "      <td id=\"T_d84eb_row0_col0\" class=\"data row0 col0\" >32748</td>\n",
       "      <td id=\"T_d84eb_row0_col1\" class=\"data row0 col1\" >33035</td>\n",
       "      <td id=\"T_d84eb_row0_col2\" class=\"data row0 col2\" >47780</td>\n",
       "      <td id=\"T_d84eb_row0_col3\" class=\"data row0 col3\" >81522</td>\n",
       "      <td id=\"T_d84eb_row0_col4\" class=\"data row0 col4\" >159253</td>\n",
       "    </tr>\n",
       "    <tr>\n",
       "      <th id=\"T_d84eb_level0_row1\" class=\"row_heading level0 row1\" >1.000000</th>\n",
       "      <td id=\"T_d84eb_row1_col0\" class=\"data row1 col0\" >1736</td>\n",
       "      <td id=\"T_d84eb_row1_col1\" class=\"data row1 col1\" >2670</td>\n",
       "      <td id=\"T_d84eb_row1_col2\" class=\"data row1 col2\" >5275</td>\n",
       "      <td id=\"T_d84eb_row1_col3\" class=\"data row1 col3\" >24981</td>\n",
       "      <td id=\"T_d84eb_row1_col4\" class=\"data row1 col4\" >68834</td>\n",
       "    </tr>\n",
       "  </tbody>\n",
       "</table>\n"
      ],
      "text/plain": [
       "<pandas.io.formats.style.Styler at 0x21e8dc64450>"
      ]
     },
     "execution_count": 133,
     "metadata": {},
     "output_type": "execute_result"
    }
   ],
   "source": [
    "pd.crosstab(X['good_cat'], y).style.background_gradient(cmap='summer_r')"
   ]
  },
  {
   "cell_type": "markdown",
   "metadata": {},
   "source": [
    "И наоборот, эта категория показывает соотношение 40/3 в 1-2, и 1/2 в 5. Конечно, хорошо бы ещё поработать, но у меня кончились идеи."
   ]
  },
  {
   "cell_type": "code",
   "execution_count": 134,
   "metadata": {},
   "outputs": [],
   "source": [
    "X = X.drop(['good_smile_cat','bad_smile_cat'], axis = 1)"
   ]
  },
  {
   "cell_type": "code",
   "execution_count": 135,
   "metadata": {},
   "outputs": [],
   "source": [
    "train_x, test_x, train_y, test_y = train_test_split(X, y,\n",
    "                                                   test_size=TEST_SIZE, random_state=RS,\n",
    "                                                   )"
   ]
  },
  {
   "cell_type": "code",
   "execution_count": 136,
   "metadata": {},
   "outputs": [
    {
     "data": {
      "application/vnd.jupyter.widget-view+json": {
       "model_id": "e6e7d58d268446ab97b72cb962672e43",
       "version_major": 2,
       "version_minor": 0
      },
      "text/plain": [
       "MetricVisualizer(layout=Layout(align_self='stretch', height='500px'))"
      ]
     },
     "metadata": {},
     "output_type": "display_data"
    },
    {
     "data": {
      "text/plain": [
       "<catboost.core.CatBoostClassifier at 0x21e8e886e50>"
      ]
     },
     "execution_count": 136,
     "metadata": {},
     "output_type": "execute_result"
    }
   ],
   "source": [
    "model_cb = CatBoostClassifier(iterations=1689,\n",
    "                                depth = 6,\n",
    "                                loss_function='MultiClass',\n",
    "                                thread_count=-1, \n",
    "                                random_seed=RANDOM_STATE, \n",
    "                                verbose=0, \n",
    "                                text_features=['Review'],\n",
    "                                task_type = \"GPU\" \n",
    "                                \n",
    ")\n",
    "\n",
    "\n",
    "model_cb.fit(train_x, train_y, text_features=['Review'], plot= True)\n",
    "\n"
   ]
  },
  {
   "cell_type": "code",
   "execution_count": 137,
   "metadata": {},
   "outputs": [
    {
     "name": "stdout",
     "output_type": "stream",
     "text": [
      "\n",
      "              precision    recall  f1-score   support\n",
      "\n",
      "           1       0.56      0.60      0.58      8652\n",
      "           2       0.55      0.35      0.43      8867\n",
      "           3       0.51      0.40      0.45     13286\n",
      "           4       0.57      0.41      0.48     26766\n",
      "           5       0.72      0.89      0.80     56888\n",
      "\n",
      "    accuracy                           0.66    114459\n",
      "   macro avg       0.58      0.53      0.55    114459\n",
      "weighted avg       0.64      0.66      0.64    114459\n",
      "\n",
      "\n",
      "Confusion Matrix\n",
      "\n",
      "[[ 5177   847   820   383  1425]\n",
      " [ 1851  3117  1406   858  1635]\n",
      " [ 1201   929  5284  2702  3170]\n",
      " [  519   459  1821 10954 13013]\n",
      " [  566   329   960  4362 50671]]\n",
      "AUC ROC train:  0.9136585502688526\n",
      "AUC ROC test:  0.8746069116782159\n"
     ]
    }
   ],
   "source": [
    "test_pred = model_cb.predict(test_x)\n",
    "proba_test = model_cb.predict_proba(test_x)\n",
    "\n",
    "train_pred = model_cb.predict(train_x)\n",
    "proba_train = model_cb.predict_proba(train_x)\n",
    " \n",
    "test_pred = model_cb.predict(test_x)\n",
    "confusion = confusion_matrix(test_y, test_pred)\n",
    "print(CR + classification_report(test_y,test_pred)) \n",
    "\n",
    "print(CR + 'Confusion Matrix\\n')\n",
    "print(confusion)\n",
    "auc_tr = roc_auc_score(train_y, proba_train, multi_class='ovr')\n",
    "auc_test = roc_auc_score(test_y, proba_test, multi_class='ovr')\n",
    "print('AUC ROC train: ',auc_tr)\n",
    "print('AUC ROC test: ',auc_test)"
   ]
  },
  {
   "cell_type": "code",
   "execution_count": 138,
   "metadata": {
    "executionInfo": {
     "elapsed": 7,
     "status": "ok",
     "timestamp": 1628187304819,
     "user": {
      "displayName": "Артур Сапрыкин",
      "photoUrl": "",
      "userId": "16185371824692237125"
     },
     "user_tz": -180
    },
    "id": "qV2IdEaiC5Lh"
   },
   "outputs": [
    {
     "name": "stdout",
     "output_type": "stream",
     "text": [
      "Root Mean Squared Error на тестовой выборке: 0.9999737893978069\n",
      "Mean Absolute Error на тестовой выборке: 0.5104797351016521\n",
      "R2 на тестовой выборке: 0.37631168766204226\n"
     ]
    }
   ],
   "source": [
    "mse = mean_squared_error(test_y, test_pred)\n",
    "\n",
    "rmse = root_mean_squared_error(test_y, test_pred)\n",
    "mae = mean_absolute_error(test_y, test_pred)\n",
    "print(\"Root Mean Squared Error на тестовой выборке:\", rmse)\n",
    "print(\"Mean Absolute Error на тестовой выборке:\", mae)\n",
    "r2 = r2_score(test_y, test_pred)\n",
    "print(\"R2 на тестовой выборке:\", r2)"
   ]
  },
  {
   "cell_type": "markdown",
   "metadata": {},
   "source": [
    "А было в бэйзлайне:\n",
    "```\n",
    "Root Mean Squared Error на тестовой выборке: 1.042193025946871\n",
    "Mean Absolute Error на тестовой выборке: 0.5508564310183743\n",
    "R2 на тестовой выборке: 0.31602184690234403\n",
    "```\n",
    "И вот у нас побит бэйзлайновый кэтбуст!"
   ]
  },
  {
   "cell_type": "markdown",
   "metadata": {},
   "source": [
    "Но почему не идеально получилось? отвечу:  получилось потому, что даже по кросстабу хорошей и плохой категории видно - слова встречаются и там и там. А это значит, что нам нужно растащить наши слова на полюса оценок, создав признаки, принадлежащие только своей подгруппе. С одной стороны, это приведёт к переобучению конкретно на этом массиве, потому что язык сложнее, чем биграммы. А с другой стороны - надо попробовать."
   ]
  },
  {
   "cell_type": "markdown",
   "metadata": {},
   "source": [
    "# Итоговая модель"
   ]
  },
  {
   "cell_type": "code",
   "execution_count": 139,
   "metadata": {},
   "outputs": [
    {
     "data": {
      "application/vnd.jupyter.widget-view+json": {
       "model_id": "b30088eb7bb4446ca1bdeae56bc4ae41",
       "version_major": 2,
       "version_minor": 0
      },
      "text/plain": [
       "MetricVisualizer(layout=Layout(align_self='stretch', height='500px'))"
      ]
     },
     "metadata": {},
     "output_type": "display_data"
    },
    {
     "data": {
      "text/plain": [
       "<catboost.core.CatBoostClassifier at 0x21e8cc8f6d0>"
      ]
     },
     "execution_count": 139,
     "metadata": {},
     "output_type": "execute_result"
    }
   ],
   "source": [
    "model_cb = CatBoostClassifier(iterations=600,\n",
    "                                depth = 3,\n",
    "                                loss_function='MultiClass',\n",
    "                                thread_count=-1, \n",
    "                                random_seed=RANDOM_STATE, \n",
    "                                verbose=0, \n",
    "                                colsample_bylevel = .3\n",
    "                                #text_features=['Review'],\n",
    "                                #task_type = \"GPU\" \n",
    "                                \n",
    ")\n",
    "\n",
    "\n",
    "model_cb.fit(vec_train, train_y, #text_features=['Review'], \n",
    "             plot= True)\n",
    "\n"
   ]
  },
  {
   "cell_type": "code",
   "execution_count": 140,
   "metadata": {
    "scrolled": true
   },
   "outputs": [],
   "source": [
    "test_pred = model_cb.predict(vec_test)\n",
    "proba_test = model_cb.predict_proba(vec_test)\n",
    "\n",
    "train_pred = model_cb.predict(vec_train)\n",
    "proba_train = model_cb.predict_proba(vec_train)\n",
    " \n"
   ]
  },
  {
   "cell_type": "code",
   "execution_count": 141,
   "metadata": {},
   "outputs": [
    {
     "name": "stdout",
     "output_type": "stream",
     "text": [
      "\n",
      "              precision    recall  f1-score   support\n",
      "\n",
      "           1       0.76      0.02      0.03      8652\n",
      "           2       0.93      0.00      0.01      8867\n",
      "           3       1.00      0.00      0.01     13286\n",
      "           4       0.97      0.01      0.01     26766\n",
      "           5       0.50      1.00      0.67     56888\n",
      "\n",
      "    accuracy                           0.50    114459\n",
      "   macro avg       0.83      0.21      0.14    114459\n",
      "weighted avg       0.72      0.50      0.34    114459\n",
      "\n",
      "\n",
      "Confusion Matrix\n",
      "\n",
      "[[  137     1     0     0  8514]\n",
      " [   36    26     0     0  8805]\n",
      " [    7     1    43     0 13235]\n",
      " [    0     0     0   138 26628]\n",
      " [    0     0     0     4 56884]]\n",
      "AUC ROC train:  0.5448241395814363\n",
      "AUC ROC test:  0.5368349821766897\n"
     ]
    }
   ],
   "source": [
    "confusion = confusion_matrix(test_y, test_pred)\n",
    "print(CR + classification_report(test_y,test_pred)) \n",
    "\n",
    "print(CR + 'Confusion Matrix\\n')\n",
    "print(confusion)\n",
    "auc_tr = roc_auc_score(train_y, proba_train, multi_class='ovr')\n",
    "auc_test = roc_auc_score(test_y, proba_test, multi_class='ovr')\n",
    "print('AUC ROC train: ',auc_tr)\n",
    "print('AUC ROC test: ',auc_test)"
   ]
  },
  {
   "cell_type": "code",
   "execution_count": 142,
   "metadata": {},
   "outputs": [
    {
     "data": {
      "text/html": [
       "<div>\n",
       "<style scoped>\n",
       "    .dataframe tbody tr th:only-of-type {\n",
       "        vertical-align: middle;\n",
       "    }\n",
       "\n",
       "    .dataframe tbody tr th {\n",
       "        vertical-align: top;\n",
       "    }\n",
       "\n",
       "    .dataframe thead th {\n",
       "        text-align: right;\n",
       "    }\n",
       "</style>\n",
       "<table border=\"1\" class=\"dataframe\">\n",
       "  <thead>\n",
       "    <tr style=\"text-align: right;\">\n",
       "      <th></th>\n",
       "      <th>очень ошиблась</th>\n",
       "      <th>вполне просто</th>\n",
       "      <th>недостатков однако</th>\n",
       "      <th>выключается захочет</th>\n",
       "      <th>решает любом</th>\n",
       "      <th>вспомнить цену</th>\n",
       "      <th>людям моего</th>\n",
       "      <th>слушать видео</th>\n",
       "      <th>сказать флагман</th>\n",
       "      <th>достаточно большим</th>\n",
       "      <th>...</th>\n",
       "      <th>получилась удачная</th>\n",
       "      <th>достойный нужно</th>\n",
       "      <th>нареканий батареи</th>\n",
       "      <th>компактный отличным</th>\n",
       "      <th>путают более</th>\n",
       "      <th>дисплей начиталась</th>\n",
       "      <th>эта самый</th>\n",
       "      <th>смартфоном пару</th>\n",
       "      <th>руки правильного</th>\n",
       "      <th>lite камера</th>\n",
       "    </tr>\n",
       "  </thead>\n",
       "  <tbody>\n",
       "    <tr>\n",
       "      <th>0</th>\n",
       "      <td>0</td>\n",
       "      <td>0</td>\n",
       "      <td>0</td>\n",
       "      <td>0</td>\n",
       "      <td>0</td>\n",
       "      <td>0</td>\n",
       "      <td>0</td>\n",
       "      <td>0</td>\n",
       "      <td>0</td>\n",
       "      <td>0</td>\n",
       "      <td>...</td>\n",
       "      <td>0</td>\n",
       "      <td>0</td>\n",
       "      <td>0</td>\n",
       "      <td>0</td>\n",
       "      <td>0</td>\n",
       "      <td>0</td>\n",
       "      <td>0</td>\n",
       "      <td>0</td>\n",
       "      <td>0</td>\n",
       "      <td>0</td>\n",
       "    </tr>\n",
       "    <tr>\n",
       "      <th>1</th>\n",
       "      <td>0</td>\n",
       "      <td>0</td>\n",
       "      <td>0</td>\n",
       "      <td>0</td>\n",
       "      <td>0</td>\n",
       "      <td>0</td>\n",
       "      <td>0</td>\n",
       "      <td>0</td>\n",
       "      <td>0</td>\n",
       "      <td>0</td>\n",
       "      <td>...</td>\n",
       "      <td>0</td>\n",
       "      <td>0</td>\n",
       "      <td>0</td>\n",
       "      <td>0</td>\n",
       "      <td>0</td>\n",
       "      <td>0</td>\n",
       "      <td>0</td>\n",
       "      <td>0</td>\n",
       "      <td>0</td>\n",
       "      <td>0</td>\n",
       "    </tr>\n",
       "    <tr>\n",
       "      <th>2</th>\n",
       "      <td>0</td>\n",
       "      <td>0</td>\n",
       "      <td>0</td>\n",
       "      <td>0</td>\n",
       "      <td>0</td>\n",
       "      <td>0</td>\n",
       "      <td>0</td>\n",
       "      <td>0</td>\n",
       "      <td>0</td>\n",
       "      <td>0</td>\n",
       "      <td>...</td>\n",
       "      <td>0</td>\n",
       "      <td>0</td>\n",
       "      <td>0</td>\n",
       "      <td>0</td>\n",
       "      <td>0</td>\n",
       "      <td>0</td>\n",
       "      <td>0</td>\n",
       "      <td>0</td>\n",
       "      <td>0</td>\n",
       "      <td>0</td>\n",
       "    </tr>\n",
       "    <tr>\n",
       "      <th>3</th>\n",
       "      <td>0</td>\n",
       "      <td>0</td>\n",
       "      <td>0</td>\n",
       "      <td>0</td>\n",
       "      <td>0</td>\n",
       "      <td>0</td>\n",
       "      <td>0</td>\n",
       "      <td>0</td>\n",
       "      <td>0</td>\n",
       "      <td>0</td>\n",
       "      <td>...</td>\n",
       "      <td>0</td>\n",
       "      <td>0</td>\n",
       "      <td>0</td>\n",
       "      <td>0</td>\n",
       "      <td>0</td>\n",
       "      <td>0</td>\n",
       "      <td>0</td>\n",
       "      <td>0</td>\n",
       "      <td>0</td>\n",
       "      <td>0</td>\n",
       "    </tr>\n",
       "    <tr>\n",
       "      <th>4</th>\n",
       "      <td>0</td>\n",
       "      <td>0</td>\n",
       "      <td>0</td>\n",
       "      <td>0</td>\n",
       "      <td>0</td>\n",
       "      <td>0</td>\n",
       "      <td>0</td>\n",
       "      <td>0</td>\n",
       "      <td>0</td>\n",
       "      <td>0</td>\n",
       "      <td>...</td>\n",
       "      <td>0</td>\n",
       "      <td>0</td>\n",
       "      <td>0</td>\n",
       "      <td>0</td>\n",
       "      <td>0</td>\n",
       "      <td>0</td>\n",
       "      <td>0</td>\n",
       "      <td>0</td>\n",
       "      <td>0</td>\n",
       "      <td>0</td>\n",
       "    </tr>\n",
       "  </tbody>\n",
       "</table>\n",
       "<p>5 rows × 64510 columns</p>\n",
       "</div>"
      ],
      "text/plain": [
       "   очень ошиблась  вполне просто  недостатков однако  выключается захочет  \\\n",
       "0               0              0                   0                    0   \n",
       "1               0              0                   0                    0   \n",
       "2               0              0                   0                    0   \n",
       "3               0              0                   0                    0   \n",
       "4               0              0                   0                    0   \n",
       "\n",
       "   решает любом  вспомнить цену  людям моего  слушать видео  сказать флагман  \\\n",
       "0             0               0            0              0                0   \n",
       "1             0               0            0              0                0   \n",
       "2             0               0            0              0                0   \n",
       "3             0               0            0              0                0   \n",
       "4             0               0            0              0                0   \n",
       "\n",
       "   достаточно большим  ...  получилась удачная  достойный нужно  \\\n",
       "0                   0  ...                   0                0   \n",
       "1                   0  ...                   0                0   \n",
       "2                   0  ...                   0                0   \n",
       "3                   0  ...                   0                0   \n",
       "4                   0  ...                   0                0   \n",
       "\n",
       "   нареканий батареи  компактный отличным  путают более  дисплей начиталась  \\\n",
       "0                  0                    0             0                   0   \n",
       "1                  0                    0             0                   0   \n",
       "2                  0                    0             0                   0   \n",
       "3                  0                    0             0                   0   \n",
       "4                  0                    0             0                   0   \n",
       "\n",
       "   эта самый  смартфоном пару  руки правильного  lite камера  \n",
       "0          0                0                 0            0  \n",
       "1          0                0                 0            0  \n",
       "2          0                0                 0            0  \n",
       "3          0                0                 0            0  \n",
       "4          0                0                 0            0  \n",
       "\n",
       "[5 rows x 64510 columns]"
      ]
     },
     "execution_count": 142,
     "metadata": {},
     "output_type": "execute_result"
    }
   ],
   "source": [
    "vec_train.head()"
   ]
  },
  {
   "cell_type": "code",
   "execution_count": 143,
   "metadata": {},
   "outputs": [
    {
     "name": "stdout",
     "output_type": "stream",
     "text": [
      "Root Mean Squared Error на тестовой выборке: 1.6057013849384865\n",
      "Mean Absolute Error на тестовой выборке: 0.9927135480827196\n",
      "R2 на тестовой выборке: -0.6081254907177418\n"
     ]
    }
   ],
   "source": [
    "mse = mean_squared_error(test_y, test_pred)\n",
    "\n",
    "rmse = root_mean_squared_error(test_y, test_pred)\n",
    "mae = mean_absolute_error(test_y, test_pred)\n",
    "print(\"Root Mean Squared Error на тестовой выборке:\", rmse)\n",
    "print(\"Mean Absolute Error на тестовой выборке:\", mae)\n",
    "r2 = r2_score(test_y, test_pred)\n",
    "print(\"R2 на тестовой выборке:\", r2)"
   ]
  },
  {
   "cell_type": "markdown",
   "metadata": {},
   "source": [
    "И мы видим, что наш метод действительно растащил к полюсам оценки, правда, на южный полюс положительных оценок забрал куда больше. Но впрервые в этом сезоне модель преодолела отметку 1 по MSE:\n",
    "Root Mean Squared Error на тестовой выборке: 1.6029325352461365\n",
    "Mean Absolute Error на тестовой выборке: 0.9936343818125195\n",
    "R2 на тестовой выборке: -0.617992085301591\n",
    "Не думаю, что это очень честная оценка, учитывая дисбаланс классов. Да, и получается, что я выкинула биграммы троечников. Пересчитаем ещё раз, на этот раз с тройками:"
   ]
  },
  {
   "cell_type": "code",
   "execution_count": 144,
   "metadata": {},
   "outputs": [
    {
     "name": "stderr",
     "output_type": "stream",
     "text": [
      "C:\\Users\\term\\anaconda3\\envs\\nlpenv\\Lib\\site-packages\\sklearn\\feature_extraction\\text.py:521: UserWarning: The parameter 'token_pattern' will not be used since 'tokenizer' is not None'\n",
      "  warnings.warn(\n"
     ]
    }
   ],
   "source": [
    "vec_tfidf = TfidfVectorizer(ngram_range=(1, 2), max_df=0.4, tokenizer=word_tokenize, stop_words=noise)\n",
    "bow_5 = vec_tfidf.fit_transform(data[data['Rating']>3]['Review'])\n"
   ]
  },
  {
   "cell_type": "code",
   "execution_count": 145,
   "metadata": {},
   "outputs": [],
   "source": [
    "vec_df_5 = pd.DataFrame.sparse.from_spmatrix(bow_5, columns=vec_tfidf.get_feature_names_out())"
   ]
  },
  {
   "cell_type": "code",
   "execution_count": 146,
   "metadata": {},
   "outputs": [
    {
     "name": "stderr",
     "output_type": "stream",
     "text": [
      "C:\\Users\\term\\anaconda3\\envs\\nlpenv\\Lib\\site-packages\\sklearn\\feature_extraction\\text.py:521: UserWarning: The parameter 'token_pattern' will not be used since 'tokenizer' is not None'\n",
      "  warnings.warn(\n"
     ]
    }
   ],
   "source": [
    "bow_2 = vec_tfidf.fit_transform(data[data['Rating']<=3]['Review'])\n",
    "vec_df_2 = pd.DataFrame.sparse.from_spmatrix(bow_2, columns=vec_tfidf.get_feature_names_out())"
   ]
  },
  {
   "cell_type": "code",
   "execution_count": 147,
   "metadata": {},
   "outputs": [
    {
     "name": "stderr",
     "output_type": "stream",
     "text": [
      "C:\\Users\\term\\anaconda3\\envs\\nlpenv\\Lib\\site-packages\\sklearn\\feature_extraction\\text.py:521: UserWarning: The parameter 'token_pattern' will not be used since 'tokenizer' is not None'\n",
      "  warnings.warn(\n"
     ]
    }
   ],
   "source": [
    "bow_3 = vec_tfidf.fit_transform(data[data['Rating']==3]['Review'])\n",
    "vec_df_3 = pd.DataFrame.sparse.from_spmatrix(bow_3, columns=vec_tfidf.get_feature_names_out())"
   ]
  },
  {
   "cell_type": "code",
   "execution_count": 148,
   "metadata": {},
   "outputs": [],
   "source": [
    "# Подсчёт суммы каждого столбца (биграммы)\n",
    "freq_ngramms_5 = vec_df_5.sum(axis=0).sort_values(ascending=False)\n",
    "freq_ngramms_3 = vec_df_3.sum(axis=0).sort_values(ascending=False)\n",
    "freq_ngramms_2 = vec_df_2.sum(axis=0).sort_values(ascending=False)\n"
   ]
  },
  {
   "cell_type": "code",
   "execution_count": 149,
   "metadata": {},
   "outputs": [
    {
     "data": {
      "text/plain": [
       "!                   8457.736688\n",
       "очень                4526.72387\n",
       "! !                 4254.714803\n",
       "это                 3067.018123\n",
       "отличный            2663.135938\n",
       "хороший             2601.830095\n",
       "доволен             2481.765358\n",
       "аппарат             2323.985788\n",
       "советую             2170.837382\n",
       "деньги              2031.496545\n",
       "целом               2021.462855\n",
       "просто              1854.466235\n",
       "...                 1849.868903\n",
       "всем                1816.604103\n",
       "смартфон            1722.634006\n",
       "рекомендую          1702.600797\n",
       "работает            1670.681004\n",
       "пользуюсь           1658.553387\n",
       "модель               1639.21492\n",
       "года                1626.926751\n",
       "камера              1513.955111\n",
       "экран               1498.684845\n",
       "купил               1482.527652\n",
       "отличный телефон    1480.693228\n",
       "всё                 1475.523528\n",
       "2                   1474.172345\n",
       "телефоном           1442.472338\n",
       "лучше               1387.274508\n",
       "телефона            1369.263173\n",
       "цену                1337.307195\n",
       "пока                1335.373713\n",
       "стоит               1279.651933\n",
       "хороший телефон     1271.737172\n",
       "супер               1255.168785\n",
       "нравится            1238.143773\n",
       "берите              1229.772518\n",
       "довольна            1218.641261\n",
       "более               1202.819074\n",
       "свои                1200.446534\n",
       "общем               1178.910355\n",
       "день                1104.860228\n",
       "цена                1090.581991\n",
       "хорошо              1087.680795\n",
       "хватает               1081.1991\n",
       "покупкой            1073.786972\n",
       "брать               1060.433333\n",
       "время                1054.84082\n",
       "пожалеете           1024.119578\n",
       "не пожалеете        1004.801939\n",
       "вообще              1002.086187\n",
       "dtype: Sparse[float64, 0]"
      ]
     },
     "execution_count": 149,
     "metadata": {},
     "output_type": "execute_result"
    }
   ],
   "source": [
    "freq_ngramms_5[:50]"
   ]
  },
  {
   "cell_type": "code",
   "execution_count": 150,
   "metadata": {},
   "outputs": [
    {
     "data": {
      "text/plain": [
       "!                960.142392\n",
       "очень            538.296052\n",
       "это              524.390222\n",
       "! !              474.987548\n",
       "...              458.948474\n",
       "лучше            336.890582\n",
       "аппарат          305.542157\n",
       "года             301.844957\n",
       "целом            285.060946\n",
       "деньги           282.640767\n",
       "просто           280.468183\n",
       "модель            276.85464\n",
       "советую          273.899933\n",
       "телефона          270.57257\n",
       "экран            261.525907\n",
       "2                250.734999\n",
       "купил            245.176741\n",
       "хороший          243.658159\n",
       "стоит            241.166536\n",
       "камера           240.297367\n",
       "общем            230.321143\n",
       "более            226.716256\n",
       "брать            224.793777\n",
       "не советую       221.408563\n",
       "покупать         217.347373\n",
       "3                214.962237\n",
       "смартфон         212.629558\n",
       "всё              204.100221\n",
       "работает         203.308765\n",
       "телефон не       197.066361\n",
       "пользуюсь        193.501592\n",
       "время             190.72519\n",
       "хотя             190.402257\n",
       "год              186.793195\n",
       "пока             186.199082\n",
       "вообще           185.175279\n",
       "использования    182.653408\n",
       "ничего            175.56939\n",
       "телефоном        173.331882\n",
       "купить           171.733831\n",
       "нормальный       170.309512\n",
       "день             168.556372\n",
       "цену             168.029876\n",
       "цена              167.56292\n",
       "..               161.207443\n",
       "качество          160.69773\n",
       "денег            159.921729\n",
       "батарея          159.909379\n",
       "из-за            157.736354\n",
       "памяти           157.707098\n",
       "dtype: Sparse[float64, 0]"
      ]
     },
     "execution_count": 150,
     "metadata": {},
     "output_type": "execute_result"
    }
   ],
   "source": [
    "freq_ngramms_3[:50]"
   ]
  },
  {
   "cell_type": "code",
   "execution_count": 151,
   "metadata": {},
   "outputs": [
    {
     "data": {
      "text/plain": [
       "!                3079.907307\n",
       "! !              1784.439226\n",
       "это              1234.064937\n",
       "очень            1180.704362\n",
       "...              1052.104225\n",
       "советую           983.364018\n",
       "не советую        901.509933\n",
       "лучше              787.89439\n",
       "модель            693.193814\n",
       "деньги            689.737511\n",
       "просто            686.029643\n",
       "покупать          680.023775\n",
       "аппарат           640.207033\n",
       "телефона          621.573946\n",
       "купил             617.789976\n",
       "года              609.568385\n",
       "брать             595.803508\n",
       "2                 570.263017\n",
       "экран             554.955773\n",
       "стоит             545.854572\n",
       "рекомендую        502.013972\n",
       "более             460.001117\n",
       "не рекомендую     459.127447\n",
       "вообще            453.608032\n",
       "телефон не        453.602816\n",
       "общем             449.729874\n",
       "камера             447.75591\n",
       "3                 435.216242\n",
       "смартфон          430.297413\n",
       "время             427.937839\n",
       "работает          427.036544\n",
       "купить            421.621853\n",
       "целом             421.107396\n",
       "денег             417.444857\n",
       "всё               413.437236\n",
       "год               407.310337\n",
       "день              397.757226\n",
       "использования     394.260092\n",
       "берите            390.955485\n",
       "хотя              390.676455\n",
       "покупайте         390.026451\n",
       "хороший           382.302365\n",
       "телефоном         381.963331\n",
       "буду              381.264328\n",
       "..                  371.2551\n",
       "не стоит          371.027726\n",
       "ничего            370.329947\n",
       "месяца            369.378978\n",
       "пока              365.461571\n",
       "пользуюсь          353.89703\n",
       "dtype: Sparse[float64, 0]"
      ]
     },
     "execution_count": 151,
     "metadata": {},
     "output_type": "execute_result"
    }
   ],
   "source": [
    "freq_ngramms_2[:50]"
   ]
  },
  {
   "cell_type": "code",
   "execution_count": 152,
   "metadata": {},
   "outputs": [
    {
     "data": {
      "text/html": [
       "<div>\n",
       "<style scoped>\n",
       "    .dataframe tbody tr th:only-of-type {\n",
       "        vertical-align: middle;\n",
       "    }\n",
       "\n",
       "    .dataframe tbody tr th {\n",
       "        vertical-align: top;\n",
       "    }\n",
       "\n",
       "    .dataframe thead th {\n",
       "        text-align: right;\n",
       "    }\n",
       "</style>\n",
       "<table border=\"1\" class=\"dataframe\">\n",
       "  <thead>\n",
       "    <tr style=\"text-align: right;\">\n",
       "      <th></th>\n",
       "      <th>index</th>\n",
       "      <th>0</th>\n",
       "    </tr>\n",
       "  </thead>\n",
       "  <tbody>\n",
       "    <tr>\n",
       "      <th>0</th>\n",
       "      <td>!</td>\n",
       "      <td>3079.907307</td>\n",
       "    </tr>\n",
       "    <tr>\n",
       "      <th>1</th>\n",
       "      <td>! !</td>\n",
       "      <td>1784.439226</td>\n",
       "    </tr>\n",
       "    <tr>\n",
       "      <th>2</th>\n",
       "      <td>это</td>\n",
       "      <td>1234.064937</td>\n",
       "    </tr>\n",
       "    <tr>\n",
       "      <th>3</th>\n",
       "      <td>очень</td>\n",
       "      <td>1180.704362</td>\n",
       "    </tr>\n",
       "    <tr>\n",
       "      <th>4</th>\n",
       "      <td>...</td>\n",
       "      <td>1052.104225</td>\n",
       "    </tr>\n",
       "    <tr>\n",
       "      <th>...</th>\n",
       "      <td>...</td>\n",
       "      <td>...</td>\n",
       "    </tr>\n",
       "    <tr>\n",
       "      <th>1621638</th>\n",
       "      <td>кнопку фонарик</td>\n",
       "      <td>0.018062</td>\n",
       "    </tr>\n",
       "    <tr>\n",
       "      <th>1621639</th>\n",
       "      <td>камера комментарий</td>\n",
       "      <td>0.018062</td>\n",
       "    </tr>\n",
       "    <tr>\n",
       "      <th>1621640</th>\n",
       "      <td>сенсорными моделями</td>\n",
       "      <td>0.018062</td>\n",
       "    </tr>\n",
       "    <tr>\n",
       "      <th>1621641</th>\n",
       "      <td>первом год</td>\n",
       "      <td>0.018062</td>\n",
       "    </tr>\n",
       "    <tr>\n",
       "      <th>1621642</th>\n",
       "      <td>т9/дизайн/звук недостатки</td>\n",
       "      <td>0.018062</td>\n",
       "    </tr>\n",
       "  </tbody>\n",
       "</table>\n",
       "<p>1621643 rows × 2 columns</p>\n",
       "</div>"
      ],
      "text/plain": [
       "                             index            0\n",
       "0                                !  3079.907307\n",
       "1                              ! !  1784.439226\n",
       "2                              это  1234.064937\n",
       "3                            очень  1180.704362\n",
       "4                              ...  1052.104225\n",
       "...                            ...          ...\n",
       "1621638             кнопку фонарик     0.018062\n",
       "1621639         камера комментарий     0.018062\n",
       "1621640        сенсорными моделями     0.018062\n",
       "1621641                 первом год     0.018062\n",
       "1621642  т9/дизайн/звук недостатки     0.018062\n",
       "\n",
       "[1621643 rows x 2 columns]"
      ]
     },
     "execution_count": 152,
     "metadata": {},
     "output_type": "execute_result"
    }
   ],
   "source": [
    "freq_ngramms_2 = freq_ngramms_2.reset_index()\n",
    "freq_ngramms_2"
   ]
  },
  {
   "cell_type": "code",
   "execution_count": 153,
   "metadata": {},
   "outputs": [
    {
     "data": {
      "text/plain": [
       "94326"
      ]
     },
     "execution_count": 153,
     "metadata": {},
     "output_type": "execute_result"
    }
   ],
   "source": [
    "list_freq_ngramms_2 = set(list(freq_ngramms_2[freq_ngramms_2[0]>1]['index']))\n",
    "len(list_freq_ngramms_2)"
   ]
  },
  {
   "cell_type": "code",
   "execution_count": 154,
   "metadata": {},
   "outputs": [
    {
     "data": {
      "text/html": [
       "<div>\n",
       "<style scoped>\n",
       "    .dataframe tbody tr th:only-of-type {\n",
       "        vertical-align: middle;\n",
       "    }\n",
       "\n",
       "    .dataframe tbody tr th {\n",
       "        vertical-align: top;\n",
       "    }\n",
       "\n",
       "    .dataframe thead th {\n",
       "        text-align: right;\n",
       "    }\n",
       "</style>\n",
       "<table border=\"1\" class=\"dataframe\">\n",
       "  <thead>\n",
       "    <tr style=\"text-align: right;\">\n",
       "      <th></th>\n",
       "      <th>index</th>\n",
       "      <th>0</th>\n",
       "    </tr>\n",
       "  </thead>\n",
       "  <tbody>\n",
       "    <tr>\n",
       "      <th>0</th>\n",
       "      <td>!</td>\n",
       "      <td>960.142392</td>\n",
       "    </tr>\n",
       "    <tr>\n",
       "      <th>1</th>\n",
       "      <td>очень</td>\n",
       "      <td>538.296052</td>\n",
       "    </tr>\n",
       "    <tr>\n",
       "      <th>2</th>\n",
       "      <td>это</td>\n",
       "      <td>524.390222</td>\n",
       "    </tr>\n",
       "    <tr>\n",
       "      <th>3</th>\n",
       "      <td>! !</td>\n",
       "      <td>474.987548</td>\n",
       "    </tr>\n",
       "    <tr>\n",
       "      <th>4</th>\n",
       "      <td>...</td>\n",
       "      <td>458.948474</td>\n",
       "    </tr>\n",
       "    <tr>\n",
       "      <th>...</th>\n",
       "      <td>...</td>\n",
       "      <td>...</td>\n",
       "    </tr>\n",
       "    <tr>\n",
       "      <th>838690</th>\n",
       "      <td>не рекомндую</td>\n",
       "      <td>0.017409</td>\n",
       "    </tr>\n",
       "    <tr>\n",
       "      <th>838691</th>\n",
       "      <td>достоинства взял</td>\n",
       "      <td>0.017409</td>\n",
       "    </tr>\n",
       "    <tr>\n",
       "      <th>838692</th>\n",
       "      <td>мчс пока</td>\n",
       "      <td>0.017409</td>\n",
       "    </tr>\n",
       "    <tr>\n",
       "      <th>838693</th>\n",
       "      <td>достоинства время</td>\n",
       "      <td>0.017409</td>\n",
       "    </tr>\n",
       "    <tr>\n",
       "      <th>838694</th>\n",
       "      <td>0.765</td>\n",
       "      <td>0.017409</td>\n",
       "    </tr>\n",
       "  </tbody>\n",
       "</table>\n",
       "<p>838695 rows × 2 columns</p>\n",
       "</div>"
      ],
      "text/plain": [
       "                    index           0\n",
       "0                       !  960.142392\n",
       "1                   очень  538.296052\n",
       "2                     это  524.390222\n",
       "3                     ! !  474.987548\n",
       "4                     ...  458.948474\n",
       "...                   ...         ...\n",
       "838690       не рекомндую    0.017409\n",
       "838691   достоинства взял    0.017409\n",
       "838692           мчс пока    0.017409\n",
       "838693  достоинства время    0.017409\n",
       "838694              0.765    0.017409\n",
       "\n",
       "[838695 rows x 2 columns]"
      ]
     },
     "execution_count": 154,
     "metadata": {},
     "output_type": "execute_result"
    }
   ],
   "source": [
    "freq_ngramms_3 = freq_ngramms_3.reset_index()\n",
    "freq_ngramms_3"
   ]
  },
  {
   "cell_type": "code",
   "execution_count": 155,
   "metadata": {},
   "outputs": [
    {
     "data": {
      "text/plain": [
       "42619"
      ]
     },
     "execution_count": 155,
     "metadata": {},
     "output_type": "execute_result"
    }
   ],
   "source": [
    "list_freq_ngramms_3 = set(list(freq_ngramms_3[freq_ngramms_3[0]>1]['index']))\n",
    "len(list_freq_ngramms_3)"
   ]
  },
  {
   "cell_type": "code",
   "execution_count": 156,
   "metadata": {},
   "outputs": [
    {
     "data": {
      "text/html": [
       "<div>\n",
       "<style scoped>\n",
       "    .dataframe tbody tr th:only-of-type {\n",
       "        vertical-align: middle;\n",
       "    }\n",
       "\n",
       "    .dataframe tbody tr th {\n",
       "        vertical-align: top;\n",
       "    }\n",
       "\n",
       "    .dataframe thead th {\n",
       "        text-align: right;\n",
       "    }\n",
       "</style>\n",
       "<table border=\"1\" class=\"dataframe\">\n",
       "  <thead>\n",
       "    <tr style=\"text-align: right;\">\n",
       "      <th></th>\n",
       "      <th>index</th>\n",
       "      <th>0</th>\n",
       "    </tr>\n",
       "  </thead>\n",
       "  <tbody>\n",
       "    <tr>\n",
       "      <th>0</th>\n",
       "      <td>!</td>\n",
       "      <td>8457.736688</td>\n",
       "    </tr>\n",
       "    <tr>\n",
       "      <th>1</th>\n",
       "      <td>очень</td>\n",
       "      <td>4526.72387</td>\n",
       "    </tr>\n",
       "    <tr>\n",
       "      <th>2</th>\n",
       "      <td>! !</td>\n",
       "      <td>4254.714803</td>\n",
       "    </tr>\n",
       "    <tr>\n",
       "      <th>3</th>\n",
       "      <td>это</td>\n",
       "      <td>3067.018123</td>\n",
       "    </tr>\n",
       "    <tr>\n",
       "      <th>4</th>\n",
       "      <td>отличный</td>\n",
       "      <td>2663.135938</td>\n",
       "    </tr>\n",
       "    <tr>\n",
       "      <th>...</th>\n",
       "      <td>...</td>\n",
       "      <td>...</td>\n",
       "    </tr>\n",
       "    <tr>\n",
       "      <th>3759749</th>\n",
       "      <td>рада кристина</td>\n",
       "      <td>0.014691</td>\n",
       "    </tr>\n",
       "    <tr>\n",
       "      <th>3759750</th>\n",
       "      <td>меньше информации</td>\n",
       "      <td>0.014691</td>\n",
       "    </tr>\n",
       "    <tr>\n",
       "      <th>3759751</th>\n",
       "      <td>постоянной перефокусировки</td>\n",
       "      <td>0.014691</td>\n",
       "    </tr>\n",
       "    <tr>\n",
       "      <th>3759752</th>\n",
       "      <td>нфк</td>\n",
       "      <td>0.014691</td>\n",
       "    </tr>\n",
       "    <tr>\n",
       "      <th>3759753</th>\n",
       "      <td>325 сборка</td>\n",
       "      <td>0.014691</td>\n",
       "    </tr>\n",
       "  </tbody>\n",
       "</table>\n",
       "<p>3759754 rows × 2 columns</p>\n",
       "</div>"
      ],
      "text/plain": [
       "                              index            0\n",
       "0                                 !  8457.736688\n",
       "1                             очень   4526.72387\n",
       "2                               ! !  4254.714803\n",
       "3                               это  3067.018123\n",
       "4                          отличный  2663.135938\n",
       "...                             ...          ...\n",
       "3759749               рада кристина     0.014691\n",
       "3759750           меньше информации     0.014691\n",
       "3759751  постоянной перефокусировки     0.014691\n",
       "3759752                         нфк     0.014691\n",
       "3759753                  325 сборка     0.014691\n",
       "\n",
       "[3759754 rows x 2 columns]"
      ]
     },
     "execution_count": 156,
     "metadata": {},
     "output_type": "execute_result"
    }
   ],
   "source": [
    "freq_ngramms_5 = freq_ngramms_5.reset_index()\n",
    "freq_ngramms_5"
   ]
  },
  {
   "cell_type": "code",
   "execution_count": 157,
   "metadata": {},
   "outputs": [
    {
     "data": {
      "text/plain": [
       "3759754"
      ]
     },
     "execution_count": 157,
     "metadata": {},
     "output_type": "execute_result"
    }
   ],
   "source": [
    "list_freq_ngramm_5 = set(list(freq_ngramms_5[freq_ngramms_5[0]>0]['index']))\n",
    "len(list_freq_ngramm_5)"
   ]
  },
  {
   "cell_type": "code",
   "execution_count": 158,
   "metadata": {},
   "outputs": [
    {
     "data": {
      "text/plain": [
       "9512"
      ]
     },
     "execution_count": 158,
     "metadata": {},
     "output_type": "execute_result"
    }
   ],
   "source": [
    "\n",
    "list_only_2_ng = [x for x in list_freq_ngramms_2 if x not in list_freq_ngramm_5]\n",
    "len(list_only_2_ng)"
   ]
  },
  {
   "cell_type": "code",
   "execution_count": 159,
   "metadata": {},
   "outputs": [
    {
     "data": {
      "text/plain": [
       "2425"
      ]
     },
     "execution_count": 159,
     "metadata": {},
     "output_type": "execute_result"
    }
   ],
   "source": [
    "\n",
    "list_only_3_ng = [x for x in list_freq_ngramms_3 if x not in list_freq_ngramm_5]\n",
    "len(list_only_3_ng)"
   ]
  },
  {
   "cell_type": "code",
   "execution_count": 160,
   "metadata": {},
   "outputs": [
    {
     "data": {
      "text/plain": [
       "192315"
      ]
     },
     "execution_count": 160,
     "metadata": {},
     "output_type": "execute_result"
    }
   ],
   "source": [
    "list_freq_ngramm_5 = set(list(freq_ngramms_5[freq_ngramms_5[0]>1.2]['index']))\n",
    "len(list_freq_ngramm_5)"
   ]
  },
  {
   "cell_type": "code",
   "execution_count": 161,
   "metadata": {},
   "outputs": [
    {
     "data": {
      "text/plain": [
       "1621643"
      ]
     },
     "execution_count": 161,
     "metadata": {},
     "output_type": "execute_result"
    }
   ],
   "source": [
    "list_freq_ngramms_2 = set(list(freq_ngramms_2['index']))\n",
    "len(list_freq_ngramms_2)"
   ]
  },
  {
   "cell_type": "code",
   "execution_count": 162,
   "metadata": {},
   "outputs": [
    {
     "data": {
      "text/plain": [
       "45673"
      ]
     },
     "execution_count": 162,
     "metadata": {},
     "output_type": "execute_result"
    }
   ],
   "source": [
    "list_only_5_ng = [x for x in list_freq_ngramm_5 if x not in list_freq_ngramms_2]\n",
    "len(list_only_5_ng)"
   ]
  },
  {
   "cell_type": "code",
   "execution_count": 163,
   "metadata": {},
   "outputs": [
    {
     "data": {
      "text/plain": [
       "155981"
      ]
     },
     "execution_count": 163,
     "metadata": {},
     "output_type": "execute_result"
    }
   ],
   "source": [
    "list_only_5_ng = [x for x in list_freq_ngramm_5 if x not in list_freq_ngramms_3]\n",
    "len(list_only_5_ng)"
   ]
  },
  {
   "cell_type": "markdown",
   "metadata": {},
   "source": [
    "И мы получили 2 списка н-грамм, характерных каждый для своей категории отзывов, исключив общее. Объединим их:"
   ]
  },
  {
   "cell_type": "code",
   "execution_count": 164,
   "metadata": {
    "scrolled": true
   },
   "outputs": [
    {
     "data": {
      "text/plain": [
       "165493"
      ]
     },
     "execution_count": 164,
     "metadata": {},
     "output_type": "execute_result"
    }
   ],
   "source": [
    "list_columns_to_check = set(list_only_2_ng + list_only_3_ng + list_only_5_ng)\n",
    "len(list_columns_to_check)"
   ]
  },
  {
   "cell_type": "code",
   "execution_count": 165,
   "metadata": {},
   "outputs": [
    {
     "name": "stderr",
     "output_type": "stream",
     "text": [
      "C:\\Users\\term\\anaconda3\\envs\\nlpenv\\Lib\\site-packages\\sklearn\\feature_extraction\\text.py:521: UserWarning: The parameter 'token_pattern' will not be used since 'tokenizer' is not None'\n",
      "  warnings.warn(\n"
     ]
    }
   ],
   "source": [
    "vec_tr = TfidfVectorizer(ngram_range=(1, 2), max_df=0.4, tokenizer=word_tokenize, stop_words=noise)\n",
    "bow_tr = vec_tr.fit_transform(train_x['Review'])\n",
    "\n",
    "vec_train = pd.DataFrame.sparse.from_spmatrix(bow_tr, columns=vec_tr.get_feature_names_out()\n",
    "                                             )"
   ]
  },
  {
   "cell_type": "code",
   "execution_count": 166,
   "metadata": {},
   "outputs": [
    {
     "name": "stderr",
     "output_type": "stream",
     "text": [
      "C:\\Users\\term\\anaconda3\\envs\\nlpenv\\Lib\\site-packages\\sklearn\\feature_extraction\\text.py:521: UserWarning: The parameter 'token_pattern' will not be used since 'tokenizer' is not None'\n",
      "  warnings.warn(\n"
     ]
    }
   ],
   "source": [
    "vec_ts = TfidfVectorizer(ngram_range=(1, 2), max_df=0.4, tokenizer=word_tokenize, stop_words=noise)\n",
    "bow_ts = vec_ts.fit_transform(test_x['Review'])\n",
    "\n",
    "vec_test = pd.DataFrame.sparse.from_spmatrix(bow_ts, columns=vec_ts.get_feature_names_out()\n",
    "                                             )"
   ]
  },
  {
   "cell_type": "code",
   "execution_count": 167,
   "metadata": {},
   "outputs": [],
   "source": [
    "list_columns_train_all = set(vec_train.columns)\n",
    "list_columns_train_left = [x for x in list_columns_to_check if x in list_columns_train_all]\n",
    "\n",
    "vec_train= vec_train[list_columns_train_left]"
   ]
  },
  {
   "cell_type": "code",
   "execution_count": 168,
   "metadata": {},
   "outputs": [],
   "source": [
    "list_columns_test_all = set(vec_test.columns)\n",
    "list_columns_test_left = [x for x in list_columns_train_left if x in list_columns_test_all]\n",
    "vec_test= vec_test[list_columns_test_left]"
   ]
  },
  {
   "cell_type": "code",
   "execution_count": 169,
   "metadata": {},
   "outputs": [
    {
     "data": {
      "text/plain": [
       "8165"
      ]
     },
     "execution_count": 169,
     "metadata": {},
     "output_type": "execute_result"
    }
   ],
   "source": [
    "list_columns_train_left = set(list_columns_train_left)\n",
    "list_columns_test_left = set(list_columns_test_left)\n",
    "list_columns_train_drop = [x for x in list_columns_train_left if x not in list_columns_test_left]\n",
    "len(list_columns_train_drop)\n"
   ]
  },
  {
   "cell_type": "code",
   "execution_count": 170,
   "metadata": {},
   "outputs": [
    {
     "data": {
      "text/plain": [
       "0"
      ]
     },
     "execution_count": 170,
     "metadata": {},
     "output_type": "execute_result"
    }
   ],
   "source": [
    "list_columns_test_drop = [x for x in list_columns_test_left if x not in list_columns_train_left]\n",
    "len(list_columns_test_drop)"
   ]
  },
  {
   "cell_type": "code",
   "execution_count": 171,
   "metadata": {},
   "outputs": [],
   "source": [
    "vec_train= vec_train.drop(list_columns_train_drop, axis = 1)"
   ]
  },
  {
   "cell_type": "code",
   "execution_count": 172,
   "metadata": {},
   "outputs": [
    {
     "data": {
      "text/plain": [
       "array([ True,  True,  True, ...,  True,  True,  True])"
      ]
     },
     "execution_count": 172,
     "metadata": {},
     "output_type": "execute_result"
    }
   ],
   "source": [
    "vec_train.columns == vec_test.columns "
   ]
  },
  {
   "cell_type": "code",
   "execution_count": 173,
   "metadata": {},
   "outputs": [],
   "source": [
    "def convert_floats(x):\n",
    "    if x.dtype in [np.float32, np.float64]:\n",
    "        return x.astype(np.float16)\n",
    "    else:\n",
    "        return x"
   ]
  },
  {
   "cell_type": "code",
   "execution_count": 174,
   "metadata": {},
   "outputs": [],
   "source": [
    "vec_train = vec_train.apply(convert_floats)\n"
   ]
  },
  {
   "cell_type": "code",
   "execution_count": 175,
   "metadata": {},
   "outputs": [],
   "source": [
    "vec_test = vec_test.apply(convert_floats)"
   ]
  },
  {
   "cell_type": "code",
   "execution_count": 176,
   "metadata": {},
   "outputs": [
    {
     "data": {
      "application/vnd.jupyter.widget-view+json": {
       "model_id": "0c53f423341d48e48b6cc6330a95f648",
       "version_major": 2,
       "version_minor": 0
      },
      "text/plain": [
       "MetricVisualizer(layout=Layout(align_self='stretch', height='500px'))"
      ]
     },
     "metadata": {},
     "output_type": "display_data"
    },
    {
     "data": {
      "text/plain": [
       "<catboost.core.CatBoostClassifier at 0x21a9a5fe850>"
      ]
     },
     "execution_count": 176,
     "metadata": {},
     "output_type": "execute_result"
    }
   ],
   "source": [
    "model_cb = CatBoostClassifier(iterations=600,\n",
    "                                depth = 3,\n",
    "                                loss_function='MultiClass',\n",
    "                                thread_count=-1, \n",
    "                                random_seed=RANDOM_STATE, \n",
    "                                verbose=0, \n",
    "                                colsample_bylevel = .3,\n",
    "                                #text_features=['Review'],\n",
    "                                class_weights= {1: 2, 2: 2, 3:2, 4:2, 5:1}\n",
    "                                #task_type = \"GPU\" \n",
    "                                \n",
    ")\n",
    "\n",
    "\n",
    "model_cb.fit(vec_train, train_y, #text_features=['Review'], \n",
    "             plot= True)\n",
    "\n"
   ]
  },
  {
   "cell_type": "code",
   "execution_count": 177,
   "metadata": {},
   "outputs": [],
   "source": [
    "test_pred = model_cb.predict(vec_test)\n",
    "proba_test = model_cb.predict_proba(vec_test)\n",
    "\n",
    "train_pred = model_cb.predict(vec_train)\n",
    "proba_train = model_cb.predict_proba(vec_train)\n",
    " \n"
   ]
  },
  {
   "cell_type": "code",
   "execution_count": 178,
   "metadata": {},
   "outputs": [
    {
     "name": "stdout",
     "output_type": "stream",
     "text": [
      "\n",
      "              precision    recall  f1-score   support\n",
      "\n",
      "           1       0.66      0.04      0.08      8652\n",
      "           2       0.49      0.01      0.01      8867\n",
      "           3       0.77      0.00      0.01     13286\n",
      "           4       0.48      0.07      0.12     26766\n",
      "           5       0.51      0.98      0.67     56888\n",
      "\n",
      "    accuracy                           0.51    114459\n",
      "   macro avg       0.58      0.22      0.18    114459\n",
      "weighted avg       0.54      0.51      0.37    114459\n",
      "\n",
      "\n",
      "Confusion Matrix\n",
      "\n",
      "[[  359    31    11   323  7928]\n",
      " [  106    54     4   283  8420]\n",
      " [   24     9    49   237 12967]\n",
      " [   26     7     0  1863 24870]\n",
      " [   27     9     0  1211 55641]]\n",
      "AUC ROC train:  0.6107288894034859\n",
      "AUC ROC test:  0.5938606824132687\n"
     ]
    }
   ],
   "source": [
    "confusion = confusion_matrix(test_y, test_pred)\n",
    "print(CR + classification_report(test_y,test_pred)) \n",
    "\n",
    "print(CR + 'Confusion Matrix\\n')\n",
    "print(confusion)\n",
    "auc_tr = roc_auc_score(train_y, proba_train, multi_class='ovr')\n",
    "auc_test = roc_auc_score(test_y, proba_test, multi_class='ovr')\n",
    "print('AUC ROC train: ',auc_tr)\n",
    "print('AUC ROC test: ',auc_test)"
   ]
  },
  {
   "cell_type": "code",
   "execution_count": 179,
   "metadata": {
    "scrolled": true
   },
   "outputs": [
    {
     "name": "stdout",
     "output_type": "stream",
     "text": [
      "Root Mean Squared Error на тестовой выборке: 1.5805046394142008\n",
      "Mean Absolute Error на тестовой выборке: 0.971579342821447\n",
      "R2 на тестовой выборке: -0.5580519067830831\n"
     ]
    }
   ],
   "source": [
    "mse = mean_squared_error(test_y, test_pred)\n",
    "\n",
    "rmse = root_mean_squared_error(test_y, test_pred)\n",
    "mae = mean_absolute_error(test_y, test_pred)\n",
    "print(\"Root Mean Squared Error на тестовой выборке:\", rmse)\n",
    "print(\"Mean Absolute Error на тестовой выборке:\", mae)\n",
    "r2 = r2_score(test_y, test_pred)\n",
    "print(\"R2 на тестовой выборке:\", r2)"
   ]
  },
  {
   "cell_type": "markdown",
   "metadata": {},
   "source": [
    "Разнести встречающиеся биграммы на большее число групп привела к крошечному улучшению метрики. Вообще идея моей модели понятна, вали всё в больший класс - и будет хорошо. Конечно это значит, что мы так и не нашли \"железные\" биграммы, способные чисто разделить овец от козлищ. Попробуем ещё раз с увеличенными весами классов низких оценок.\n",
    "В самостоятельном разделении при равных весах классов модель показала следующие результаты:\n",
    "Root Mean Squared Error на тестовой выборке: 1.59498200972175\n",
    "Mean Absolute Error на тестовой выборке: 0.9858735596387418\n",
    "R2 на тестовой выборке: -0.6019814488845767"
   ]
  },
  {
   "cell_type": "markdown",
   "metadata": {},
   "source": [
    "```\n",
    "model_cb = CatBoostClassifier(iterations=600,\n",
    "                                depth = 3,\n",
    "                                loss_function='MultiClass',\n",
    "                                thread_count=-1, \n",
    "                                random_seed=RANDOM_STATE, \n",
    "                                verbose=0, \n",
    "                                colsample_bylevel = .3,\n",
    "                                class_weights= {1: 2, 2: 2, 3:2, 4:2, 5:1}\n",
    "Confusion Matrix\n",
    "\n",
    "[[  284    10     0   350  5305]\n",
    " [   96    25     0   364  5695]\n",
    " [   33     2    14   337  9049]\n",
    " [   27     4     0  1544 17354]\n",
    " [   35     4     0  1229 38514]]\n",
    "AUC ROC train:  0.6240450534544799\n",
    "AUC ROC test:  0.5973885745549339\n",
    "Root Mean Squared Error на тестовой выборке: 1.5663544330398076\n",
    "Mean Absolute Error на тестовой выборке: 0.9656306446589847\n",
    "R2 на тестовой выборке: -0.5449911139656107\n",
    "```"
   ]
  },
  {
   "cell_type": "markdown",
   "metadata": {},
   "source": [
    "Пока лучшая модель - CatBoostClassifier с включенной обработкой текстовых признаков и равными весами классов:\n",
    "```\n",
    "CatBoostClassifier(iterations=1689,\n",
    "                                depth = 6,\n",
    "                                loss_function='MultiClass',\n",
    "                                thread_count=-1, \n",
    "                                random_seed=RANDOM_STATE, \n",
    "                                verbose=0, \n",
    "                                text_features=text_features,\n",
    "                                task_type = \"GPU\n",
    "```"
   ]
  },
  {
   "cell_type": "markdown",
   "metadata": {},
   "source": [
    "```\n",
    "[[ 3488   579   604   251  1027]\n",
    " [ 1673  1706  1045   593  1163]\n",
    " [ 1079   630  3307  2045  2374]\n",
    " [  445   307  1362  7167  9648]\n",
    " [  554   245   731  3226 35026]]\n",
    "AUC ROC train:  0.9089367980310478\n",
    "AUC ROC test:  0.8557928304391602\n",
    "Root Mean Squared Error на тестовой выборке: 1.042193025946871\n",
    "Mean Absolute Error на тестовой выборке: 0.5508564310183743\n",
    "R2 на тестовой выборке: 0.31602184690234403 \n",
    "```"
   ]
  },
  {
   "cell_type": "markdown",
   "metadata": {},
   "source": [
    "Добиться такого самостоятельно не удалось даже в первом приближении. Продолжаем учиться"
   ]
  },
  {
   "cell_type": "code",
   "execution_count": 180,
   "metadata": {
    "scrolled": false
   },
   "outputs": [
    {
     "data": {
      "text/html": [
       "<div>\n",
       "<style scoped>\n",
       "    .dataframe tbody tr th:only-of-type {\n",
       "        vertical-align: middle;\n",
       "    }\n",
       "\n",
       "    .dataframe tbody tr th {\n",
       "        vertical-align: top;\n",
       "    }\n",
       "\n",
       "    .dataframe thead th {\n",
       "        text-align: right;\n",
       "    }\n",
       "</style>\n",
       "<table border=\"1\" class=\"dataframe\">\n",
       "  <thead>\n",
       "    <tr style=\"text-align: right;\">\n",
       "      <th></th>\n",
       "      <th>Review</th>\n",
       "      <th>Rating</th>\n",
       "    </tr>\n",
       "  </thead>\n",
       "  <tbody>\n",
       "    <tr>\n",
       "      <th>0</th>\n",
       "      <td>3D Touch просто восхитительная вещь! Заряд дер...</td>\n",
       "      <td>5</td>\n",
       "    </tr>\n",
       "    <tr>\n",
       "      <th>1</th>\n",
       "      <td>Отключается при температуре близкой к нулю, не...</td>\n",
       "      <td>4</td>\n",
       "    </tr>\n",
       "    <tr>\n",
       "      <th>2</th>\n",
       "      <td>В Apple окончательно решили не заморачиваться,...</td>\n",
       "      <td>3</td>\n",
       "    </tr>\n",
       "    <tr>\n",
       "      <th>3</th>\n",
       "      <td>Постарался наиболее ёмко и коротко описать все...</td>\n",
       "      <td>4</td>\n",
       "    </tr>\n",
       "    <tr>\n",
       "      <th>4</th>\n",
       "      <td>Достойный телефон. Пользоваться одно удовольст...</td>\n",
       "      <td>5</td>\n",
       "    </tr>\n",
       "  </tbody>\n",
       "</table>\n",
       "</div>"
      ],
      "text/plain": [
       "                                              Review  Rating\n",
       "0  3D Touch просто восхитительная вещь! Заряд дер...       5\n",
       "1  Отключается при температуре близкой к нулю, не...       4\n",
       "2  В Apple окончательно решили не заморачиваться,...       3\n",
       "3  Постарался наиболее ёмко и коротко описать все...       4\n",
       "4  Достойный телефон. Пользоваться одно удовольст...       5"
      ]
     },
     "execution_count": 180,
     "metadata": {},
     "output_type": "execute_result"
    }
   ],
   "source": [
    "data.head()"
   ]
  },
  {
   "cell_type": "markdown",
   "metadata": {},
   "source": [
    "Оставим только русские слова\n"
   ]
  },
  {
   "cell_type": "code",
   "execution_count": 181,
   "metadata": {},
   "outputs": [],
   "source": [
    "regex = re.compile(\"[А-ЯЁа-яёA-Za-z!\\d]+\")\n",
    "\n",
    "def get_rus_words_only(row, regex=regex):\n",
    "    try:\n",
    "        return \" \".join(regex.findall(row['Review']))\n",
    "    except:\n",
    "        return \"\"\n",
    "data['only_text'] = data.apply(get_rus_words_only, axis = 1)"
   ]
  },
  {
   "cell_type": "code",
   "execution_count": 182,
   "metadata": {
    "scrolled": true
   },
   "outputs": [
    {
     "data": {
      "text/plain": [
       "0    3D Touch просто восхитительная вещь! Заряд дер...\n",
       "1    Отключается при температуре близкой к нулю неп...\n",
       "2    В Apple окончательно решили не заморачиваться ...\n",
       "3    Постарался наиболее ёмко и коротко описать все...\n",
       "4     Достойный телефон Пользоваться одно удовольствие\n",
       "Name: only_text, dtype: object"
      ]
     },
     "execution_count": 182,
     "metadata": {},
     "output_type": "execute_result"
    }
   ],
   "source": [
    "data['only_text'].head()"
   ]
  },
  {
   "cell_type": "markdown",
   "metadata": {},
   "source": [
    "Теперь hugging face против опечаток"
   ]
  },
  {
   "cell_type": "markdown",
   "metadata": {
    "scrolled": false
   },
   "source": [
    "from transformers import T5ForConditionalGeneration, T5Tokenizer\n",
    "\n",
    "def correct_text(text):\n",
    "    model_name = 't5-base'  # или любая другая модель T5\n",
    "    model = T5ForConditionalGeneration.from_pretrained(model_name)\n",
    "    tokenizer = T5Tokenizer.from_pretrained(model_name)\n",
    "\n",
    "    inputs = tokenizer.encode( text, return_tensors=\"pt\",)# max_length=2048)\n",
    "    outputs = model.generate(inputs, max_length=100, num_return_sequences=1, num_beams=10)\n",
    "\n",
    "    corrected_text = tokenizer.decode(outputs[0]).replace('<pad>', '').strip()\n",
    "    return corrected_text\n",
    "\n",
    "corrected_text = data['only_text'].head(50).apply(correct_text)\n",
    "corrected_text"
   ]
  },
  {
   "cell_type": "markdown",
   "metadata": {},
   "source": [
    "Что-то я явно не умею готовить этих кошек, ерунда получилась. Использовать не буду, лучше уж опечатки, чем это"
   ]
  },
  {
   "cell_type": "markdown",
   "metadata": {},
   "source": [
    "Создадим дополнительный признак длина отзыва"
   ]
  },
  {
   "cell_type": "code",
   "execution_count": 183,
   "metadata": {
    "scrolled": true
   },
   "outputs": [
    {
     "data": {
      "text/plain": [
       "count    457834.000000\n",
       "mean         58.782801\n",
       "std          65.744656\n",
       "min           0.000000\n",
       "25%          15.000000\n",
       "50%          36.000000\n",
       "75%          76.000000\n",
       "max        4334.000000\n",
       "Name: len_review, dtype: float64"
      ]
     },
     "execution_count": 183,
     "metadata": {},
     "output_type": "execute_result"
    }
   ],
   "source": [
    "def get_len_review(row):\n",
    "    len_r = len(row['only_text'].split())\n",
    "    return  len_r\n",
    "data['len_review'] = data.apply(get_len_review, axis = 1)\n",
    "data['len_review'].describe()"
   ]
  },
  {
   "cell_type": "code",
   "execution_count": 184,
   "metadata": {
    "scrolled": true
   },
   "outputs": [
    {
     "data": {
      "text/plain": [
       "<Axes: >"
      ]
     },
     "execution_count": 184,
     "metadata": {},
     "output_type": "execute_result"
    },
    {
     "data": {
      "image/png": "[encoded data removed]",
      "text/plain": [
       "<Figure size 640x480 with 1 Axes>"
      ]
     },
     "metadata": {},
     "output_type": "display_data"
    }
   ],
   "source": [
    "data['len_review'].hist(bins=100)"
   ]
  },
  {
   "cell_type": "code",
   "execution_count": 185,
   "metadata": {
    "scrolled": false
   },
   "outputs": [
    {
     "data": {
      "text/plain": [
       "Rating\n",
       "5    8\n",
       "4    7\n",
       "3    2\n",
       "2    1\n",
       "Name: count, dtype: int64"
      ]
     },
     "execution_count": 185,
     "metadata": {},
     "output_type": "execute_result"
    }
   ],
   "source": [
    "data[data['len_review']> 500]['Rating'].value_counts()"
   ]
  },
  {
   "cell_type": "markdown",
   "metadata": {},
   "source": [
    "Какие многословные положительные отзывы! Удивительно."
   ]
  },
  {
   "cell_type": "code",
   "execution_count": 186,
   "metadata": {},
   "outputs": [
    {
     "data": {
      "text/html": [
       "<div>\n",
       "<style scoped>\n",
       "    .dataframe tbody tr th:only-of-type {\n",
       "        vertical-align: middle;\n",
       "    }\n",
       "\n",
       "    .dataframe tbody tr th {\n",
       "        vertical-align: top;\n",
       "    }\n",
       "\n",
       "    .dataframe thead th {\n",
       "        text-align: right;\n",
       "    }\n",
       "</style>\n",
       "<table border=\"1\" class=\"dataframe\">\n",
       "  <thead>\n",
       "    <tr style=\"text-align: right;\">\n",
       "      <th></th>\n",
       "      <th>Review</th>\n",
       "      <th>Rating</th>\n",
       "      <th>only_text</th>\n",
       "      <th>len_review</th>\n",
       "    </tr>\n",
       "  </thead>\n",
       "  <tbody>\n",
       "    <tr>\n",
       "      <th>83917</th>\n",
       "      <td>Для начала хочу предупредить, что данный отзыв...</td>\n",
       "      <td>3</td>\n",
       "      <td>Для начала хочу предупредить что данный отзыв ...</td>\n",
       "      <td>1141</td>\n",
       "    </tr>\n",
       "    <tr>\n",
       "      <th>114136</th>\n",
       "      <td>Теперь подробнее. Был куплен еще в 2009м! Рабо...</td>\n",
       "      <td>4</td>\n",
       "      <td>Теперь подробнее Был куплен еще в 2009м! Работ...</td>\n",
       "      <td>571</td>\n",
       "    </tr>\n",
       "    <tr>\n",
       "      <th>119589</th>\n",
       "      <td>Теперь подробнее. Был куплен еще в 2009м! Рабо...</td>\n",
       "      <td>4</td>\n",
       "      <td>Теперь подробнее Был куплен еще в 2009м! Работ...</td>\n",
       "      <td>571</td>\n",
       "    </tr>\n",
       "    <tr>\n",
       "      <th>125911</th>\n",
       "      <td>Купил смарт 3 дня назад, пока очень доволен. Г...</td>\n",
       "      <td>5</td>\n",
       "      <td>Купил смарт 3 дня назад пока очень доволен Гла...</td>\n",
       "      <td>3072</td>\n",
       "    </tr>\n",
       "    <tr>\n",
       "      <th>135727</th>\n",
       "      <td>ВНИМАНИЕ все, кто пользуется или пользовался S...</td>\n",
       "      <td>4</td>\n",
       "      <td>ВНИМАНИЕ все кто пользуется или пользовался So...</td>\n",
       "      <td>1617</td>\n",
       "    </tr>\n",
       "  </tbody>\n",
       "</table>\n",
       "</div>"
      ],
      "text/plain": [
       "                                                   Review  Rating  \\\n",
       "83917   Для начала хочу предупредить, что данный отзыв...       3   \n",
       "114136  Теперь подробнее. Был куплен еще в 2009м! Рабо...       4   \n",
       "119589  Теперь подробнее. Был куплен еще в 2009м! Рабо...       4   \n",
       "125911  Купил смарт 3 дня назад, пока очень доволен. Г...       5   \n",
       "135727  ВНИМАНИЕ все, кто пользуется или пользовался S...       4   \n",
       "\n",
       "                                                only_text  len_review  \n",
       "83917   Для начала хочу предупредить что данный отзыв ...        1141  \n",
       "114136  Теперь подробнее Был куплен еще в 2009м! Работ...         571  \n",
       "119589  Теперь подробнее Был куплен еще в 2009м! Работ...         571  \n",
       "125911  Купил смарт 3 дня назад пока очень доволен Гла...        3072  \n",
       "135727  ВНИМАНИЕ все кто пользуется или пользовался So...        1617  "
      ]
     },
     "execution_count": 186,
     "metadata": {},
     "output_type": "execute_result"
    }
   ],
   "source": [
    "data[data['len_review']> 500].head()"
   ]
  },
  {
   "cell_type": "code",
   "execution_count": 187,
   "metadata": {
    "scrolled": false
   },
   "outputs": [
    {
     "data": {
      "text/plain": [
       "Rating\n",
       "5    88\n",
       "4    41\n",
       "1    24\n",
       "3    19\n",
       "2    10\n",
       "Name: count, dtype: int64"
      ]
     },
     "execution_count": 187,
     "metadata": {},
     "output_type": "execute_result"
    }
   ],
   "source": [
    "data[data['len_review']== 0]['Rating'].value_counts()"
   ]
  },
  {
   "cell_type": "code",
   "execution_count": 188,
   "metadata": {
    "scrolled": true
   },
   "outputs": [
    {
     "data": {
      "text/plain": [
       "Rating\n",
       "5    1407\n",
       "4     288\n",
       "1     237\n",
       "3     163\n",
       "2     147\n",
       "Name: count, dtype: int64"
      ]
     },
     "execution_count": 188,
     "metadata": {},
     "output_type": "execute_result"
    }
   ],
   "source": [
    "data[data['len_review']== 1]['Rating'].value_counts()"
   ]
  },
  {
   "cell_type": "code",
   "execution_count": 189,
   "metadata": {},
   "outputs": [
    {
     "data": {
      "text/html": [
       "<div>\n",
       "<style scoped>\n",
       "    .dataframe tbody tr th:only-of-type {\n",
       "        vertical-align: middle;\n",
       "    }\n",
       "\n",
       "    .dataframe tbody tr th {\n",
       "        vertical-align: top;\n",
       "    }\n",
       "\n",
       "    .dataframe thead th {\n",
       "        text-align: right;\n",
       "    }\n",
       "</style>\n",
       "<table border=\"1\" class=\"dataframe\">\n",
       "  <thead>\n",
       "    <tr style=\"text-align: right;\">\n",
       "      <th></th>\n",
       "      <th>Review</th>\n",
       "      <th>Rating</th>\n",
       "      <th>only_text</th>\n",
       "      <th>len_review</th>\n",
       "    </tr>\n",
       "  </thead>\n",
       "  <tbody>\n",
       "    <tr>\n",
       "      <th>172</th>\n",
       "      <td>Доволен</td>\n",
       "      <td>3</td>\n",
       "      <td>Доволен</td>\n",
       "      <td>1</td>\n",
       "    </tr>\n",
       "    <tr>\n",
       "      <th>174</th>\n",
       "      <td>Недорогой</td>\n",
       "      <td>5</td>\n",
       "      <td>Недорогой</td>\n",
       "      <td>1</td>\n",
       "    </tr>\n",
       "    <tr>\n",
       "      <th>467</th>\n",
       "      <td>Рекомендую</td>\n",
       "      <td>5</td>\n",
       "      <td>Рекомендую</td>\n",
       "      <td>1</td>\n",
       "    </tr>\n",
       "    <tr>\n",
       "      <th>631</th>\n",
       "      <td>Рекомендую.</td>\n",
       "      <td>5</td>\n",
       "      <td>Рекомендую</td>\n",
       "      <td>1</td>\n",
       "    </tr>\n",
       "    <tr>\n",
       "      <th>1148</th>\n",
       "      <td>Норм</td>\n",
       "      <td>3</td>\n",
       "      <td>Норм</td>\n",
       "      <td>1</td>\n",
       "    </tr>\n",
       "    <tr>\n",
       "      <th>1805</th>\n",
       "      <td>советую!!!</td>\n",
       "      <td>5</td>\n",
       "      <td>советую!!!</td>\n",
       "      <td>1</td>\n",
       "    </tr>\n",
       "    <tr>\n",
       "      <th>2323</th>\n",
       "      <td>Хорошее</td>\n",
       "      <td>4</td>\n",
       "      <td>Хорошее</td>\n",
       "      <td>1</td>\n",
       "    </tr>\n",
       "    <tr>\n",
       "      <th>2472</th>\n",
       "      <td>продам</td>\n",
       "      <td>3</td>\n",
       "      <td>продам</td>\n",
       "      <td>1</td>\n",
       "    </tr>\n",
       "    <tr>\n",
       "      <th>2645</th>\n",
       "      <td>Ужас</td>\n",
       "      <td>1</td>\n",
       "      <td>Ужас</td>\n",
       "      <td>1</td>\n",
       "    </tr>\n",
       "    <tr>\n",
       "      <th>2721</th>\n",
       "      <td>супер</td>\n",
       "      <td>5</td>\n",
       "      <td>супер</td>\n",
       "      <td>1</td>\n",
       "    </tr>\n",
       "    <tr>\n",
       "      <th>2978</th>\n",
       "      <td>Понравился</td>\n",
       "      <td>4</td>\n",
       "      <td>Понравился</td>\n",
       "      <td>1</td>\n",
       "    </tr>\n",
       "    <tr>\n",
       "      <th>3032</th>\n",
       "      <td>Стильный)))</td>\n",
       "      <td>5</td>\n",
       "      <td>Стильный</td>\n",
       "      <td>1</td>\n",
       "    </tr>\n",
       "    <tr>\n",
       "      <th>3067</th>\n",
       "      <td>супеееер</td>\n",
       "      <td>5</td>\n",
       "      <td>супеееер</td>\n",
       "      <td>1</td>\n",
       "    </tr>\n",
       "    <tr>\n",
       "      <th>3752</th>\n",
       "      <td>шлак</td>\n",
       "      <td>1</td>\n",
       "      <td>шлак</td>\n",
       "      <td>1</td>\n",
       "    </tr>\n",
       "    <tr>\n",
       "      <th>3797</th>\n",
       "      <td>Ужас</td>\n",
       "      <td>1</td>\n",
       "      <td>Ужас</td>\n",
       "      <td>1</td>\n",
       "    </tr>\n",
       "    <tr>\n",
       "      <th>4101</th>\n",
       "      <td>хорошо</td>\n",
       "      <td>4</td>\n",
       "      <td>хорошо</td>\n",
       "      <td>1</td>\n",
       "    </tr>\n",
       "    <tr>\n",
       "      <th>4732</th>\n",
       "      <td>Доволен</td>\n",
       "      <td>5</td>\n",
       "      <td>Доволен</td>\n",
       "      <td>1</td>\n",
       "    </tr>\n",
       "    <tr>\n",
       "      <th>4977</th>\n",
       "      <td>Рекомендую!!!</td>\n",
       "      <td>4</td>\n",
       "      <td>Рекомендую!!!</td>\n",
       "      <td>1</td>\n",
       "    </tr>\n",
       "    <tr>\n",
       "      <th>5146</th>\n",
       "      <td>Суперр!!!</td>\n",
       "      <td>5</td>\n",
       "      <td>Суперр!!!</td>\n",
       "      <td>1</td>\n",
       "    </tr>\n",
       "    <tr>\n",
       "      <th>5156</th>\n",
       "      <td>Класс</td>\n",
       "      <td>5</td>\n",
       "      <td>Класс</td>\n",
       "      <td>1</td>\n",
       "    </tr>\n",
       "    <tr>\n",
       "      <th>5595</th>\n",
       "      <td>четко</td>\n",
       "      <td>5</td>\n",
       "      <td>четко</td>\n",
       "      <td>1</td>\n",
       "    </tr>\n",
       "    <tr>\n",
       "      <th>6332</th>\n",
       "      <td>нет</td>\n",
       "      <td>3</td>\n",
       "      <td>нет</td>\n",
       "      <td>1</td>\n",
       "    </tr>\n",
       "    <tr>\n",
       "      <th>6351</th>\n",
       "      <td>хдлблдыщ</td>\n",
       "      <td>5</td>\n",
       "      <td>хдлблдыщ</td>\n",
       "      <td>1</td>\n",
       "    </tr>\n",
       "    <tr>\n",
       "      <th>6504</th>\n",
       "      <td>доволен</td>\n",
       "      <td>5</td>\n",
       "      <td>доволен</td>\n",
       "      <td>1</td>\n",
       "    </tr>\n",
       "    <tr>\n",
       "      <th>6542</th>\n",
       "      <td>Разочарован</td>\n",
       "      <td>3</td>\n",
       "      <td>Разочарован</td>\n",
       "      <td>1</td>\n",
       "    </tr>\n",
       "    <tr>\n",
       "      <th>6885</th>\n",
       "      <td>Ничто.</td>\n",
       "      <td>2</td>\n",
       "      <td>Ничто</td>\n",
       "      <td>1</td>\n",
       "    </tr>\n",
       "    <tr>\n",
       "      <th>6924</th>\n",
       "      <td>Приятный.</td>\n",
       "      <td>5</td>\n",
       "      <td>Приятный</td>\n",
       "      <td>1</td>\n",
       "    </tr>\n",
       "    <tr>\n",
       "      <th>7024</th>\n",
       "      <td>удобен</td>\n",
       "      <td>4</td>\n",
       "      <td>удобен</td>\n",
       "      <td>1</td>\n",
       "    </tr>\n",
       "    <tr>\n",
       "      <th>7175</th>\n",
       "      <td>удобен</td>\n",
       "      <td>4</td>\n",
       "      <td>удобен</td>\n",
       "      <td>1</td>\n",
       "    </tr>\n",
       "    <tr>\n",
       "      <th>7240</th>\n",
       "      <td>Ужас</td>\n",
       "      <td>1</td>\n",
       "      <td>Ужас</td>\n",
       "      <td>1</td>\n",
       "    </tr>\n",
       "  </tbody>\n",
       "</table>\n",
       "</div>"
      ],
      "text/plain": [
       "             Review  Rating      only_text  len_review\n",
       "172         Доволен       3        Доволен           1\n",
       "174       Недорогой       5      Недорогой           1\n",
       "467      Рекомендую       5     Рекомендую           1\n",
       "631     Рекомендую.       5     Рекомендую           1\n",
       "1148           Норм       3           Норм           1\n",
       "1805     советую!!!       5     советую!!!           1\n",
       "2323        Хорошее       4        Хорошее           1\n",
       "2472         продам       3         продам           1\n",
       "2645           Ужас       1           Ужас           1\n",
       "2721          супер       5          супер           1\n",
       "2978     Понравился       4     Понравился           1\n",
       "3032    Стильный)))       5       Стильный           1\n",
       "3067       супеееер       5       супеееер           1\n",
       "3752           шлак       1           шлак           1\n",
       "3797           Ужас       1           Ужас           1\n",
       "4101         хорошо       4         хорошо           1\n",
       "4732        Доволен       5        Доволен           1\n",
       "4977  Рекомендую!!!       4  Рекомендую!!!           1\n",
       "5146      Суперр!!!       5      Суперр!!!           1\n",
       "5156          Класс       5          Класс           1\n",
       "5595          четко       5          четко           1\n",
       "6332            нет       3            нет           1\n",
       "6351       хдлблдыщ       5       хдлблдыщ           1\n",
       "6504        доволен       5        доволен           1\n",
       "6542    Разочарован       3    Разочарован           1\n",
       "6885         Ничто.       2          Ничто           1\n",
       "6924      Приятный.       5       Приятный           1\n",
       "7024         удобен       4         удобен           1\n",
       "7175         удобен       4         удобен           1\n",
       "7240           Ужас       1           Ужас           1"
      ]
     },
     "execution_count": 189,
     "metadata": {},
     "output_type": "execute_result"
    }
   ],
   "source": [
    "data[data['len_review']== 1].head(30)"
   ]
  },
  {
   "cell_type": "code",
   "execution_count": 190,
   "metadata": {
    "scrolled": false
   },
   "outputs": [
    {
     "data": {
      "text/plain": [
       "Rating\n",
       "5    4329\n",
       "4    1053\n",
       "1     770\n",
       "3     535\n",
       "2     499\n",
       "Name: count, dtype: int64"
      ]
     },
     "execution_count": 190,
     "metadata": {},
     "output_type": "execute_result"
    }
   ],
   "source": [
    "data[data['len_review']== 2]['Rating'].value_counts()"
   ]
  },
  {
   "cell_type": "code",
   "execution_count": 191,
   "metadata": {},
   "outputs": [
    {
     "data": {
      "text/html": [
       "<div>\n",
       "<style scoped>\n",
       "    .dataframe tbody tr th:only-of-type {\n",
       "        vertical-align: middle;\n",
       "    }\n",
       "\n",
       "    .dataframe tbody tr th {\n",
       "        vertical-align: top;\n",
       "    }\n",
       "\n",
       "    .dataframe thead th {\n",
       "        text-align: right;\n",
       "    }\n",
       "</style>\n",
       "<table border=\"1\" class=\"dataframe\">\n",
       "  <thead>\n",
       "    <tr style=\"text-align: right;\">\n",
       "      <th></th>\n",
       "      <th>Review</th>\n",
       "      <th>Rating</th>\n",
       "      <th>only_text</th>\n",
       "      <th>len_review</th>\n",
       "    </tr>\n",
       "  </thead>\n",
       "  <tbody>\n",
       "    <tr>\n",
       "      <th>134</th>\n",
       "      <td>Отличный смарт .</td>\n",
       "      <td>4</td>\n",
       "      <td>Отличный смарт</td>\n",
       "      <td>2</td>\n",
       "    </tr>\n",
       "    <tr>\n",
       "      <th>183</th>\n",
       "      <td>Телефон хороший</td>\n",
       "      <td>5</td>\n",
       "      <td>Телефон хороший</td>\n",
       "      <td>2</td>\n",
       "    </tr>\n",
       "    <tr>\n",
       "      <th>518</th>\n",
       "      <td>Очень доволен</td>\n",
       "      <td>5</td>\n",
       "      <td>Очень доволен</td>\n",
       "      <td>2</td>\n",
       "    </tr>\n",
       "    <tr>\n",
       "      <th>676</th>\n",
       "      <td>Очень довольна!!</td>\n",
       "      <td>5</td>\n",
       "      <td>Очень довольна!!</td>\n",
       "      <td>2</td>\n",
       "    </tr>\n",
       "    <tr>\n",
       "      <th>932</th>\n",
       "      <td>На троечку.</td>\n",
       "      <td>3</td>\n",
       "      <td>На троечку</td>\n",
       "      <td>2</td>\n",
       "    </tr>\n",
       "    <tr>\n",
       "      <th>1145</th>\n",
       "      <td>Отличный аппарат!</td>\n",
       "      <td>5</td>\n",
       "      <td>Отличный аппарат!</td>\n",
       "      <td>2</td>\n",
       "    </tr>\n",
       "    <tr>\n",
       "      <th>1153</th>\n",
       "      <td>Телефон супер!</td>\n",
       "      <td>5</td>\n",
       "      <td>Телефон супер!</td>\n",
       "      <td>2</td>\n",
       "    </tr>\n",
       "    <tr>\n",
       "      <th>1260</th>\n",
       "      <td>ЛюбЛюбля его...</td>\n",
       "      <td>5</td>\n",
       "      <td>ЛюбЛюбля его</td>\n",
       "      <td>2</td>\n",
       "    </tr>\n",
       "    <tr>\n",
       "      <th>1262</th>\n",
       "      <td>ЛюбЛюбля его...</td>\n",
       "      <td>5</td>\n",
       "      <td>ЛюбЛюбля его</td>\n",
       "      <td>2</td>\n",
       "    </tr>\n",
       "    <tr>\n",
       "      <th>1321</th>\n",
       "      <td>Классный телефончик</td>\n",
       "      <td>5</td>\n",
       "      <td>Классный телефончик</td>\n",
       "      <td>2</td>\n",
       "    </tr>\n",
       "    <tr>\n",
       "      <th>1373</th>\n",
       "      <td>Неубиваемый смартфон</td>\n",
       "      <td>5</td>\n",
       "      <td>Неубиваемый смартфон</td>\n",
       "      <td>2</td>\n",
       "    </tr>\n",
       "    <tr>\n",
       "      <th>1487</th>\n",
       "      <td>Отличный телефон</td>\n",
       "      <td>5</td>\n",
       "      <td>Отличный телефон</td>\n",
       "      <td>2</td>\n",
       "    </tr>\n",
       "    <tr>\n",
       "      <th>1497</th>\n",
       "      <td>Отличный телефон</td>\n",
       "      <td>5</td>\n",
       "      <td>Отличный телефон</td>\n",
       "      <td>2</td>\n",
       "    </tr>\n",
       "    <tr>\n",
       "      <th>1516</th>\n",
       "      <td>Смартфоном доволен.</td>\n",
       "      <td>5</td>\n",
       "      <td>Смартфоном доволен</td>\n",
       "      <td>2</td>\n",
       "    </tr>\n",
       "    <tr>\n",
       "      <th>1530</th>\n",
       "      <td>Не рекомендую.</td>\n",
       "      <td>1</td>\n",
       "      <td>Не рекомендую</td>\n",
       "      <td>2</td>\n",
       "    </tr>\n",
       "    <tr>\n",
       "      <th>1569</th>\n",
       "      <td>хороший смартфон</td>\n",
       "      <td>5</td>\n",
       "      <td>хороший смартфон</td>\n",
       "      <td>2</td>\n",
       "    </tr>\n",
       "    <tr>\n",
       "      <th>1599</th>\n",
       "      <td>Мой выбор</td>\n",
       "      <td>5</td>\n",
       "      <td>Мой выбор</td>\n",
       "      <td>2</td>\n",
       "    </tr>\n",
       "    <tr>\n",
       "      <th>1651</th>\n",
       "      <td>Супер телефон.</td>\n",
       "      <td>5</td>\n",
       "      <td>Супер телефон</td>\n",
       "      <td>2</td>\n",
       "    </tr>\n",
       "    <tr>\n",
       "      <th>1727</th>\n",
       "      <td>Советую покупать.</td>\n",
       "      <td>5</td>\n",
       "      <td>Советую покупать</td>\n",
       "      <td>2</td>\n",
       "    </tr>\n",
       "    <tr>\n",
       "      <th>1774</th>\n",
       "      <td>Отличный смартфон!!!</td>\n",
       "      <td>5</td>\n",
       "      <td>Отличный смартфон!!!</td>\n",
       "      <td>2</td>\n",
       "    </tr>\n",
       "  </tbody>\n",
       "</table>\n",
       "</div>"
      ],
      "text/plain": [
       "                    Review  Rating             only_text  len_review\n",
       "134       Отличный смарт .       4        Отличный смарт           2\n",
       "183        Телефон хороший       5       Телефон хороший           2\n",
       "518          Очень доволен       5         Очень доволен           2\n",
       "676       Очень довольна!!       5      Очень довольна!!           2\n",
       "932            На троечку.       3            На троечку           2\n",
       "1145     Отличный аппарат!       5     Отличный аппарат!           2\n",
       "1153        Телефон супер!       5        Телефон супер!           2\n",
       "1260       ЛюбЛюбля его...       5          ЛюбЛюбля его           2\n",
       "1262       ЛюбЛюбля его...       5          ЛюбЛюбля его           2\n",
       "1321   Классный телефончик       5   Классный телефончик           2\n",
       "1373  Неубиваемый смартфон       5  Неубиваемый смартфон           2\n",
       "1487      Отличный телефон       5      Отличный телефон           2\n",
       "1497      Отличный телефон       5      Отличный телефон           2\n",
       "1516   Смартфоном доволен.       5    Смартфоном доволен           2\n",
       "1530        Не рекомендую.       1         Не рекомендую           2\n",
       "1569      хороший смартфон       5      хороший смартфон           2\n",
       "1599             Мой выбор       5             Мой выбор           2\n",
       "1651        Супер телефон.       5         Супер телефон           2\n",
       "1727     Советую покупать.       5      Советую покупать           2\n",
       "1774  Отличный смартфон!!!       5  Отличный смартфон!!!           2"
      ]
     },
     "execution_count": 191,
     "metadata": {},
     "output_type": "execute_result"
    }
   ],
   "source": [
    "data[data['len_review']== 2].head(20)"
   ]
  },
  {
   "cell_type": "code",
   "execution_count": 192,
   "metadata": {
    "scrolled": true
   },
   "outputs": [
    {
     "data": {
      "text/html": [
       "<div>\n",
       "<style scoped>\n",
       "    .dataframe tbody tr th:only-of-type {\n",
       "        vertical-align: middle;\n",
       "    }\n",
       "\n",
       "    .dataframe tbody tr th {\n",
       "        vertical-align: top;\n",
       "    }\n",
       "\n",
       "    .dataframe thead th {\n",
       "        text-align: right;\n",
       "    }\n",
       "</style>\n",
       "<table border=\"1\" class=\"dataframe\">\n",
       "  <thead>\n",
       "    <tr style=\"text-align: right;\">\n",
       "      <th></th>\n",
       "      <th>Review</th>\n",
       "      <th>Rating</th>\n",
       "      <th>only_text</th>\n",
       "      <th>len_review</th>\n",
       "    </tr>\n",
       "  </thead>\n",
       "  <tbody>\n",
       "    <tr>\n",
       "      <th>5</th>\n",
       "      <td>6s gold 64gb</td>\n",
       "      <td>5</td>\n",
       "      <td>6s gold 64gb</td>\n",
       "      <td>3</td>\n",
       "    </tr>\n",
       "    <tr>\n",
       "      <th>51</th>\n",
       "      <td>Дизайн , конечно, хорош.</td>\n",
       "      <td>1</td>\n",
       "      <td>Дизайн конечно хорош</td>\n",
       "      <td>3</td>\n",
       "    </tr>\n",
       "    <tr>\n",
       "      <th>81</th>\n",
       "      <td>покупать не рекомендую</td>\n",
       "      <td>3</td>\n",
       "      <td>покупать не рекомендую</td>\n",
       "      <td>3</td>\n",
       "    </tr>\n",
       "    <tr>\n",
       "      <th>177</th>\n",
       "      <td>Цена слишком завышена!</td>\n",
       "      <td>3</td>\n",
       "      <td>Цена слишком завышена!</td>\n",
       "      <td>3</td>\n",
       "    </tr>\n",
       "    <tr>\n",
       "      <th>517</th>\n",
       "      <td>Всё написал выше)</td>\n",
       "      <td>5</td>\n",
       "      <td>Всё написал выше</td>\n",
       "      <td>3</td>\n",
       "    </tr>\n",
       "    <tr>\n",
       "      <th>542</th>\n",
       "      <td>Он реально лучший:)</td>\n",
       "      <td>5</td>\n",
       "      <td>Он реально лучший</td>\n",
       "      <td>3</td>\n",
       "    </tr>\n",
       "    <tr>\n",
       "      <th>1030</th>\n",
       "      <td>пользуюсь с удовольствием)</td>\n",
       "      <td>5</td>\n",
       "      <td>пользуюсь с удовольствием</td>\n",
       "      <td>3</td>\n",
       "    </tr>\n",
       "    <tr>\n",
       "      <th>1093</th>\n",
       "      <td>Пока доволен им....</td>\n",
       "      <td>4</td>\n",
       "      <td>Пока доволен им</td>\n",
       "      <td>3</td>\n",
       "    </tr>\n",
       "    <tr>\n",
       "      <th>1130</th>\n",
       "      <td>Супер телефон. 25746692</td>\n",
       "      <td>5</td>\n",
       "      <td>Супер телефон 25746692</td>\n",
       "      <td>3</td>\n",
       "    </tr>\n",
       "    <tr>\n",
       "      <th>1374</th>\n",
       "      <td>Что делать подскажите</td>\n",
       "      <td>3</td>\n",
       "      <td>Что делать подскажите</td>\n",
       "      <td>3</td>\n",
       "    </tr>\n",
       "    <tr>\n",
       "      <th>1402</th>\n",
       "      <td>Не советую брать.</td>\n",
       "      <td>3</td>\n",
       "      <td>Не советую брать</td>\n",
       "      <td>3</td>\n",
       "    </tr>\n",
       "    <tr>\n",
       "      <th>1459</th>\n",
       "      <td>Дорого для неё.</td>\n",
       "      <td>2</td>\n",
       "      <td>Дорого для неё</td>\n",
       "      <td>3</td>\n",
       "    </tr>\n",
       "    <tr>\n",
       "      <th>1550</th>\n",
       "      <td>не советовал бы.</td>\n",
       "      <td>2</td>\n",
       "      <td>не советовал бы</td>\n",
       "      <td>3</td>\n",
       "    </tr>\n",
       "    <tr>\n",
       "      <th>1579</th>\n",
       "      <td>Мой хороший телефон!</td>\n",
       "      <td>4</td>\n",
       "      <td>Мой хороший телефон!</td>\n",
       "      <td>3</td>\n",
       "    </tr>\n",
       "    <tr>\n",
       "      <th>1617</th>\n",
       "      <td>Выкинутые деньги!Не советую!</td>\n",
       "      <td>1</td>\n",
       "      <td>Выкинутые деньги!Не советую!</td>\n",
       "      <td>3</td>\n",
       "    </tr>\n",
       "    <tr>\n",
       "      <th>1625</th>\n",
       "      <td>в принципе рекомендую</td>\n",
       "      <td>4</td>\n",
       "      <td>в принципе рекомендую</td>\n",
       "      <td>3</td>\n",
       "    </tr>\n",
       "    <tr>\n",
       "      <th>1660</th>\n",
       "      <td>Тормоз, который жив.</td>\n",
       "      <td>3</td>\n",
       "      <td>Тормоз который жив</td>\n",
       "      <td>3</td>\n",
       "    </tr>\n",
       "    <tr>\n",
       "      <th>1711</th>\n",
       "      <td>Позор марки HTC.</td>\n",
       "      <td>3</td>\n",
       "      <td>Позор марки HTC</td>\n",
       "      <td>3</td>\n",
       "    </tr>\n",
       "    <tr>\n",
       "      <th>1718</th>\n",
       "      <td>Пожалел, что взял.</td>\n",
       "      <td>1</td>\n",
       "      <td>Пожалел что взял</td>\n",
       "      <td>3</td>\n",
       "    </tr>\n",
       "    <tr>\n",
       "      <th>1903</th>\n",
       "      <td>телефон просто супер</td>\n",
       "      <td>5</td>\n",
       "      <td>телефон просто супер</td>\n",
       "      <td>3</td>\n",
       "    </tr>\n",
       "  </tbody>\n",
       "</table>\n",
       "</div>"
      ],
      "text/plain": [
       "                            Review  Rating                     only_text  \\\n",
       "5                     6s gold 64gb       5                  6s gold 64gb   \n",
       "51        Дизайн , конечно, хорош.       1          Дизайн конечно хорош   \n",
       "81          покупать не рекомендую       3        покупать не рекомендую   \n",
       "177         Цена слишком завышена!       3        Цена слишком завышена!   \n",
       "517              Всё написал выше)       5              Всё написал выше   \n",
       "542            Он реально лучший:)       5             Он реально лучший   \n",
       "1030    пользуюсь с удовольствием)       5     пользуюсь с удовольствием   \n",
       "1093           Пока доволен им....       4               Пока доволен им   \n",
       "1130       Супер телефон. 25746692       5        Супер телефон 25746692   \n",
       "1374         Что делать подскажите       3         Что делать подскажите   \n",
       "1402             Не советую брать.       3              Не советую брать   \n",
       "1459               Дорого для неё.       2                Дорого для неё   \n",
       "1550              не советовал бы.       2               не советовал бы   \n",
       "1579          Мой хороший телефон!       4          Мой хороший телефон!   \n",
       "1617  Выкинутые деньги!Не советую!       1  Выкинутые деньги!Не советую!   \n",
       "1625         в принципе рекомендую       4         в принципе рекомендую   \n",
       "1660          Тормоз, который жив.       3            Тормоз который жив   \n",
       "1711              Позор марки HTC.       3               Позор марки HTC   \n",
       "1718            Пожалел, что взял.       1              Пожалел что взял   \n",
       "1903          телефон просто супер       5          телефон просто супер   \n",
       "\n",
       "      len_review  \n",
       "5              3  \n",
       "51             3  \n",
       "81             3  \n",
       "177            3  \n",
       "517            3  \n",
       "542            3  \n",
       "1030           3  \n",
       "1093           3  \n",
       "1130           3  \n",
       "1374           3  \n",
       "1402           3  \n",
       "1459           3  \n",
       "1550           3  \n",
       "1579           3  \n",
       "1617           3  \n",
       "1625           3  \n",
       "1660           3  \n",
       "1711           3  \n",
       "1718           3  \n",
       "1903           3  "
      ]
     },
     "execution_count": 192,
     "metadata": {},
     "output_type": "execute_result"
    }
   ],
   "source": [
    "data[data['len_review']== 3].head(20)"
   ]
  },
  {
   "cell_type": "code",
   "execution_count": 193,
   "metadata": {
    "scrolled": false
   },
   "outputs": [
    {
     "data": {
      "text/plain": [
       "count    457834.000000\n",
       "mean          0.741282\n",
       "std           2.432597\n",
       "min           0.000000\n",
       "25%           0.000000\n",
       "50%           0.000000\n",
       "75%           1.000000\n",
       "max         251.000000\n",
       "Name: num_exclamation_marks, dtype: float64"
      ]
     },
     "execution_count": 193,
     "metadata": {},
     "output_type": "execute_result"
    }
   ],
   "source": [
    "def get_num_exclamation_marks(row):\n",
    "    num_exclamation_marks = row['only_text'].count('!')\n",
    "    return  num_exclamation_marks\n",
    "data['num_exclamation_marks'] = data.apply(get_num_exclamation_marks, axis = 1)\n",
    "data['num_exclamation_marks'].describe()"
   ]
  },
  {
   "cell_type": "code",
   "execution_count": 194,
   "metadata": {},
   "outputs": [],
   "source": [
    "data.loc[data['num_exclamation_marks']>50,'num_exclamation_marks'] = 50"
   ]
  },
  {
   "cell_type": "code",
   "execution_count": 195,
   "metadata": {
    "scrolled": true
   },
   "outputs": [
    {
     "data": {
      "text/plain": [
       "num_exclamation_marks\n",
       "0     339396\n",
       "1      55446\n",
       "2      18586\n",
       "3      17755\n",
       "4       8793\n",
       "5       4448\n",
       "6       3763\n",
       "7       2341\n",
       "8       1493\n",
       "9       1244\n",
       "10       886\n",
       "11       726\n",
       "12       582\n",
       "13       436\n",
       "14       299\n",
       "15       268\n",
       "16       213\n",
       "17       150\n",
       "18       127\n",
       "19        98\n",
       "20        88\n",
       "21        86\n",
       "50        82\n",
       "23        65\n",
       "24        52\n",
       "26        46\n",
       "27        40\n",
       "22        37\n",
       "25        36\n",
       "30        30\n",
       "29        22\n",
       "32        22\n",
       "28        21\n",
       "36        19\n",
       "39        18\n",
       "31        18\n",
       "33        17\n",
       "34        13\n",
       "35        11\n",
       "48         9\n",
       "40         8\n",
       "42         7\n",
       "46         6\n",
       "41         6\n",
       "43         5\n",
       "47         5\n",
       "44         4\n",
       "37         4\n",
       "45         4\n",
       "38         2\n",
       "49         1\n",
       "Name: count, dtype: int64"
      ]
     },
     "execution_count": 195,
     "metadata": {},
     "output_type": "execute_result"
    }
   ],
   "source": [
    "data['num_exclamation_marks'].value_counts()"
   ]
  },
  {
   "cell_type": "code",
   "execution_count": 196,
   "metadata": {
    "scrolled": false
   },
   "outputs": [
    {
     "data": {
      "text/plain": [
       "<Axes: >"
      ]
     },
     "execution_count": 196,
     "metadata": {},
     "output_type": "execute_result"
    },
    {
     "data": {
      "image/png": "[encoded data removed]",
      "text/plain": [
       "<Figure size 640x480 with 1 Axes>"
      ]
     },
     "metadata": {},
     "output_type": "display_data"
    }
   ],
   "source": [
    "data['num_exclamation_marks'].hist(bins=100)"
   ]
  },
  {
   "cell_type": "code",
   "execution_count": 197,
   "metadata": {},
   "outputs": [
    {
     "data": {
      "text/plain": [
       "Index(['Review', 'Rating', 'only_text', 'len_review', 'num_exclamation_marks'], dtype='object')"
      ]
     },
     "execution_count": 197,
     "metadata": {},
     "output_type": "execute_result"
    }
   ],
   "source": [
    "data.columns"
   ]
  },
  {
   "cell_type": "code",
   "execution_count": 198,
   "metadata": {},
   "outputs": [],
   "source": [
    "X = data.drop(['Review','Rating', ], axis = 1)"
   ]
  },
  {
   "cell_type": "code",
   "execution_count": 199,
   "metadata": {},
   "outputs": [],
   "source": [
    "y =target = data['Rating']"
   ]
  },
  {
   "cell_type": "code",
   "execution_count": 200,
   "metadata": {},
   "outputs": [],
   "source": [
    "train_x, test_x, train_y, test_y = train_test_split(X, y,\n",
    "                                                   test_size=TEST_SIZE, random_state=RS,\n",
    "                                                   )"
   ]
  },
  {
   "cell_type": "code",
   "execution_count": 201,
   "metadata": {
    "scrolled": true
   },
   "outputs": [
    {
     "data": {
      "text/plain": [
       "['only_text']"
      ]
     },
     "execution_count": 201,
     "metadata": {},
     "output_type": "execute_result"
    }
   ],
   "source": [
    "text_features = X.select_dtypes(include='object').columns.tolist()\n",
    "text_features"
   ]
  },
  {
   "cell_type": "markdown",
   "metadata": {},
   "source": [
    "## Действительно лучшая модель"
   ]
  },
  {
   "cell_type": "code",
   "execution_count": 202,
   "metadata": {
    "scrolled": true
   },
   "outputs": [
    {
     "data": {
      "application/vnd.jupyter.widget-view+json": {
       "model_id": "b06a3d80e3f4417689431f2976ce9e8f",
       "version_major": 2,
       "version_minor": 0
      },
      "text/plain": [
       "MetricVisualizer(layout=Layout(align_self='stretch', height='500px'))"
      ]
     },
     "metadata": {},
     "output_type": "display_data"
    },
    {
     "data": {
      "text/plain": [
       "<catboost.core.CatBoostClassifier at 0x20b400cfe90>"
      ]
     },
     "execution_count": 202,
     "metadata": {},
     "output_type": "execute_result"
    }
   ],
   "source": [
    "model_cb = CatBoostClassifier(iterations=1689,\n",
    "                                depth = 6,\n",
    "                                loss_function='MultiClass',\n",
    "                                thread_count=-1, \n",
    "                                random_seed=RANDOM_STATE, \n",
    "                                verbose=0, \n",
    "                                text_features=text_features,\n",
    "                                task_type = \"GPU\" \n",
    "                                \n",
    ")\n",
    "\n",
    "model_cb.fit(train_x, train_y, text_features=text_features, plot= True)\n"
   ]
  },
  {
   "cell_type": "code",
   "execution_count": 203,
   "metadata": {
    "scrolled": false
   },
   "outputs": [
    {
     "name": "stdout",
     "output_type": "stream",
     "text": [
      "\n",
      "              precision    recall  f1-score   support\n",
      "\n",
      "           1       0.58      0.62      0.60      8652\n",
      "           2       0.56      0.37      0.45      8867\n",
      "           3       0.52      0.43      0.47     13286\n",
      "           4       0.58      0.42      0.49     26766\n",
      "           5       0.74      0.89      0.81     56888\n",
      "\n",
      "    accuracy                           0.67    114459\n",
      "   macro avg       0.60      0.55      0.56    114459\n",
      "weighted avg       0.65      0.67      0.65    114459\n",
      "\n",
      "\n",
      "Confusion Matrix\n",
      "\n",
      "[[ 5371   845   876   380  1180]\n",
      " [ 1842  3294  1503   829  1399]\n",
      " [ 1127   967  5647  2739  2806]\n",
      " [  438   481  1876 11371 12600]\n",
      " [  493   304   906  4383 50802]]\n",
      "AUC ROC train:  0.9201284539975175\n",
      "AUC ROC test:  0.8829963829187928\n",
      "Root Mean Squared Error на тестовой выборке: 0.9546455721050378\n",
      "Mean Absolute Error на тестовой выборке: 0.48104561458688266\n",
      "R2 на тестовой выборке: 0.4315730016985395\n"
     ]
    }
   ],
   "source": [
    "test_pred = model_cb.predict(test_x)\n",
    "proba_test = model_cb.predict_proba(test_x)\n",
    "\n",
    "train_pred = model_cb.predict(train_x)\n",
    "proba_train = model_cb.predict_proba(train_x)\n",
    " \n",
    "test_pred = model_cb.predict(test_x)\n",
    "confusion = confusion_matrix(test_y, test_pred)\n",
    "print(CR + classification_report(test_y,test_pred)) \n",
    "\n",
    "print(CR + 'Confusion Matrix\\n')\n",
    "print(confusion)\n",
    "auc_tr = roc_auc_score(train_y, proba_train, multi_class='ovr')\n",
    "auc_test = roc_auc_score(test_y, proba_test, multi_class='ovr')\n",
    "print('AUC ROC train: ',auc_tr)\n",
    "print('AUC ROC test: ',auc_test)\n",
    "mse = mean_squared_error(test_y, test_pred)\n",
    "rmse = root_mean_squared_error(test_y, test_pred)\n",
    "mae = mean_absolute_error(test_y, test_pred)\n",
    "print(\"Root Mean Squared Error на тестовой выборке:\", rmse)\n",
    "print(\"Mean Absolute Error на тестовой выборке:\", mae)\n",
    "r2 = r2_score(test_y, test_pred)\n",
    "print(\"R2 на тестовой выборке:\", r2)"
   ]
  },
  {
   "cell_type": "code",
   "execution_count": 204,
   "metadata": {},
   "outputs": [],
   "source": [
    "with open(LOCAL_PATH + 'model_cb.pkl', 'wb') as f:\n",
    "    pickle.dump(model_cb, f)"
   ]
  },
  {
   "cell_type": "code",
   "execution_count": 205,
   "metadata": {
    "scrolled": false
   },
   "outputs": [
    {
     "data": {
      "text/plain": [
       "Text(0.5, 1.0, 'Важность признаков Catboost ')"
      ]
     },
     "execution_count": 205,
     "metadata": {},
     "output_type": "execute_result"
    },
    {
     "data": {
      "image/png": "[encoded data removed]",
      "text/plain": [
       "<Figure size 1600x800 with 1 Axes>"
      ]
     },
     "metadata": {},
     "output_type": "display_data"
    }
   ],
   "source": [
    "cat_imp = pd.Series(model_cb.feature_importances_, X.columns)\n",
    "cat_imp.plot.bar(figsize=(16,8)).set_title(\"Важность признаков Catboost \")"
   ]
  },
  {
   "cell_type": "code",
   "execution_count": 206,
   "metadata": {
    "scrolled": true
   },
   "outputs": [
    {
     "data": {
      "text/plain": [
       "0         3D Touch просто восхитительная вещь! Заряд дер...\n",
       "1         Отключается при температуре близкой к нулю неп...\n",
       "2         В Apple окончательно решили не заморачиваться ...\n",
       "3         Постарался наиболее ёмко и коротко описать все...\n",
       "4          Достойный телефон Пользоваться одно удовольствие\n",
       "                                ...                        \n",
       "457829    удобный всё работает отлично звонит играет сни...\n",
       "457830    прошло больше года притензий нет при моей нагр...\n",
       "457831    мой первый аппарат на андроиде На данный момен...\n",
       "457832    Разбил iphone и не было желания покупать новый...\n",
       "457833                Очень доволен покупкой и всем советую\n",
       "Name: only_text, Length: 457834, dtype: object"
      ]
     },
     "execution_count": 206,
     "metadata": {},
     "output_type": "execute_result"
    }
   ],
   "source": [
    "data['only_text']"
   ]
  },
  {
   "cell_type": "code",
   "execution_count": 207,
   "metadata": {},
   "outputs": [
    {
     "data": {
      "text/plain": [
       "0    [3D, Touch, просто, восхитительная, вещь, !, З...\n",
       "1    [Отключается, при, температуре, близкой, к, ну...\n",
       "2    [В, Apple, окончательно, решили, не, заморачив...\n",
       "3    [Постарался, наиболее, ёмко, и, коротко, описа...\n",
       "4    [Достойный, телефон, Пользоваться, одно, удово...\n",
       "Name: tokens_from_review, dtype: object"
      ]
     },
     "execution_count": 207,
     "metadata": {},
     "output_type": "execute_result"
    }
   ],
   "source": [
    "def get_word_tokens(row):\n",
    "    try:\n",
    "        return word_tokenize(row['only_text'])\n",
    "    except:\n",
    "        return ''\n",
    "data['tokens_from_review'] = data.apply(get_word_tokens, axis = 1)\n",
    "data['tokens_from_review'].head()"
   ]
  },
  {
   "cell_type": "code",
   "execution_count": 208,
   "metadata": {},
   "outputs": [
    {
     "data": {
      "text/plain": [
       "0    3d touch просто восхитительный вещь ! заряд де...\n",
       "1    отключаться при температура близкий к нуль неп...\n",
       "2    в apple окончательно решить не заморачиваться ...\n",
       "3    постараться наиболее ёмко и коротко описать вс...\n",
       "4     достойный телефон пользоваться один удовольствие\n",
       "Name: lemmas_from_review, dtype: object"
      ]
     },
     "execution_count": 208,
     "metadata": {},
     "output_type": "execute_result"
    }
   ],
   "source": [
    "tqdm.pandas()\n",
    "morph = MorphAnalyzer()\n",
    "def lemmatize_it(row):\n",
    "    lemmas = [morph.parse(word)[0].normal_form for word in row['tokens_from_review']]\n",
    "    lemmatized_text = ' '.join(lemmas)\n",
    "    return  lemmatized_text\n",
    "\n",
    "data['lemmas_from_review'] = data.apply(lemmatize_it, axis = 1)\n",
    "data['lemmas_from_review'].head()"
   ]
  },
  {
   "cell_type": "markdown",
   "metadata": {},
   "source": [
    "и оно даже строчное сразу, отлично. Теперь векторизация"
   ]
  },
  {
   "cell_type": "code",
   "execution_count": 209,
   "metadata": {},
   "outputs": [
    {
     "data": {
      "text/plain": [
       "Index(['Review', 'Rating', 'only_text', 'len_review', 'num_exclamation_marks',\n",
       "       'tokens_from_review', 'lemmas_from_review'],\n",
       "      dtype='object')"
      ]
     },
     "execution_count": 209,
     "metadata": {},
     "output_type": "execute_result"
    }
   ],
   "source": [
    "data.columns"
   ]
  },
  {
   "cell_type": "code",
   "execution_count": 210,
   "metadata": {},
   "outputs": [],
   "source": [
    "X= data.drop(['Review', 'Rating', 'only_text','tokens_from_review', ],axis = 1)\n",
    "\n",
    "train_x, test_x, train_y, test_y = train_test_split(X, y,\n",
    "                                                   test_size=TEST_SIZE, random_state=RS,\n",
    "                                                   )"
   ]
  },
  {
   "cell_type": "code",
   "execution_count": 211,
   "metadata": {},
   "outputs": [
    {
     "name": "stderr",
     "output_type": "stream",
     "text": [
      "C:\\Users\\term\\anaconda3\\envs\\nlpenv\\Lib\\site-packages\\sklearn\\feature_extraction\\text.py:521: UserWarning: The parameter 'token_pattern' will not be used since 'tokenizer' is not None'\n",
      "  warnings.warn(\n"
     ]
    }
   ],
   "source": [
    "vec_tr = TfidfVectorizer(ngram_range=(1, 2), max_df=0.4, tokenizer=word_tokenize, stop_words=noise)\n",
    "bow_tr = vec_tr.fit_transform(train_x['lemmas_from_review'])\n",
    "\n",
    "vec_train = pd.DataFrame.sparse.from_spmatrix(bow_tr, columns=vec_tr.get_feature_names_out()\n",
    "                                             )"
   ]
  },
  {
   "cell_type": "code",
   "execution_count": 212,
   "metadata": {},
   "outputs": [
    {
     "data": {
      "text/plain": [
       "2672180"
      ]
     },
     "execution_count": 212,
     "metadata": {},
     "output_type": "execute_result"
    }
   ],
   "source": [
    "list_ngramm_imp = vec_train.columns\n",
    "len(list_ngramm_imp)"
   ]
  },
  {
   "cell_type": "markdown",
   "metadata": {},
   "source": [
    "При таком же режиме до чистки размер был 4221365, а теперь вот 2509712. Круто же!"
   ]
  },
  {
   "cell_type": "code",
   "execution_count": 213,
   "metadata": {},
   "outputs": [
    {
     "data": {
      "text/plain": [
       "!               9279.882126\n",
       "хороший         5101.917645\n",
       "! !             4795.226919\n",
       "очень           4793.213454\n",
       "это             4696.885923\n",
       "всё             4328.319714\n",
       "купить          3092.388289\n",
       "довольный       3070.985214\n",
       "цена            3066.497637\n",
       "аппарат         3064.604214\n",
       "отличный         3048.63332\n",
       "год             2951.336643\n",
       "брать           2856.611205\n",
       "деньга          2855.605796\n",
       "свой            2836.812362\n",
       "весь            2730.109934\n",
       "советовать      2633.044538\n",
       "модель          2575.470335\n",
       "экран           2536.884244\n",
       "пользоваться    2517.001642\n",
       "dtype: Sparse[float64, 0]"
      ]
     },
     "execution_count": 213,
     "metadata": {},
     "output_type": "execute_result"
    }
   ],
   "source": [
    "ngramm_imp = vec_train.sum().sort_values(ascending = False)\n",
    "ngramm_imp.head(20)"
   ]
  },
  {
   "cell_type": "code",
   "execution_count": 214,
   "metadata": {},
   "outputs": [
    {
     "data": {
      "text/plain": [
       "array(['!', '! !', '! 0', '! 00', '! 01', '! 011273', '! 015271', '! 02',\n",
       "       '! 04', '! 040272', '! 05', '! 1', '! 10', '! 100', '! 1000',\n",
       "       '! 10000', '! 1000р', '! 100500', '! 100грамм', '! 100раз',\n",
       "       '! 10500', '! 108', '! 10990', '! 10к', '! 10т', '! 10тр', '! 10х',\n",
       "       '! 11', '! 111', '! 11200', '! 113', '! 11500', '! 12', '! 1200',\n",
       "       '! 12400521', '! 12500р', '! 128', '! 12990', '! 12гб', '! 13'],\n",
       "      dtype=object)"
      ]
     },
     "execution_count": 214,
     "metadata": {},
     "output_type": "execute_result"
    }
   ],
   "source": [
    "vec_tr.get_feature_names_out()[:40]"
   ]
  },
  {
   "cell_type": "code",
   "execution_count": 215,
   "metadata": {},
   "outputs": [
    {
     "name": "stderr",
     "output_type": "stream",
     "text": [
      "C:\\Users\\term\\anaconda3\\envs\\nlpenv\\Lib\\site-packages\\sklearn\\feature_extraction\\text.py:521: UserWarning: The parameter 'token_pattern' will not be used since 'tokenizer' is not None'\n",
      "  warnings.warn(\n"
     ]
    }
   ],
   "source": [
    "vec_ts = TfidfVectorizer(ngram_range=(1, 2), max_df=0.4, tokenizer=word_tokenize, stop_words=noise)\n",
    "bow_ts = vec_ts.fit_transform(test_x['lemmas_from_review'])\n",
    "\n",
    "vec_test = pd.DataFrame.sparse.from_spmatrix(bow_ts, columns=vec_ts.get_feature_names_out()\n",
    "                                             )"
   ]
  },
  {
   "cell_type": "code",
   "execution_count": 216,
   "metadata": {
    "scrolled": true
   },
   "outputs": [
    {
     "data": {
      "text/plain": [
       "!               3184.945486\n",
       "хороший         1722.891502\n",
       "! !             1654.273264\n",
       "очень           1619.572019\n",
       "это             1607.195615\n",
       "всё             1470.548802\n",
       "купить          1056.300073\n",
       "аппарат         1055.015337\n",
       "отличный         1050.66383\n",
       "цена            1039.704674\n",
       "довольный       1037.864156\n",
       "год             1011.545604\n",
       "деньга           971.391097\n",
       "свой             964.394934\n",
       "брать            960.839451\n",
       "весь             938.436872\n",
       "советовать       894.883215\n",
       "модель           880.420193\n",
       "экран            872.751988\n",
       "пользоваться     845.085271\n",
       "dtype: Sparse[float64, 0]"
      ]
     },
     "execution_count": 216,
     "metadata": {},
     "output_type": "execute_result"
    }
   ],
   "source": [
    "ngramm_imp_ts = vec_test.sum().sort_values(ascending = False)\n",
    "ngramm_imp_ts.head(20)"
   ]
  },
  {
   "cell_type": "code",
   "execution_count": 217,
   "metadata": {},
   "outputs": [
    {
     "data": {
      "text/plain": [
       "1521051"
      ]
     },
     "execution_count": 217,
     "metadata": {},
     "output_type": "execute_result"
    }
   ],
   "source": [
    "len(ngramm_imp_ts)"
   ]
  },
  {
   "cell_type": "code",
   "execution_count": 218,
   "metadata": {},
   "outputs": [],
   "source": [
    "columns_test = set(list(vec_test.columns))\n",
    "columns_train = set(list(vec_train.columns))"
   ]
  },
  {
   "cell_type": "code",
   "execution_count": 219,
   "metadata": {},
   "outputs": [
    {
     "data": {
      "text/plain": [
       "228537"
      ]
     },
     "execution_count": 219,
     "metadata": {},
     "output_type": "execute_result"
    }
   ],
   "source": [
    "add_list_test = [x for x in columns_test if x not in columns_train]\n",
    "len(add_list_test)"
   ]
  },
  {
   "cell_type": "code",
   "execution_count": 220,
   "metadata": {},
   "outputs": [
    {
     "data": {
      "text/plain": [
       "['комплектация htc',\n",
       " '1 khz',\n",
       " 'устроиться стройка',\n",
       " 'телефон пропитать',\n",
       " 'особенно one',\n",
       " 'удобно бада',\n",
       " '9000 аппарат',\n",
       " 'право прыгать',\n",
       " 'особенно приверженец',\n",
       " 'довольный акб',\n",
       " 'коренной китайский',\n",
       " 'модель планшетник',\n",
       " 'звонить пишущий',\n",
       " 'тихий безобразие',\n",
       " 'блютус виджет',\n",
       " 'california',\n",
       " 'папка создаться',\n",
       " 'бережливый хозяйка',\n",
       " 'прочный влагоустойчивый',\n",
       " 'девайс wi',\n",
       " 'особенность счёт',\n",
       " 'забиться чехол',\n",
       " 'энергопотребление бады',\n",
       " 'дичсплей',\n",
       " 'мессенджер фанатизм',\n",
       " 'блокироваться вовсе',\n",
       " 'привезти скорость',\n",
       " 'воспользоваться устройство',\n",
       " 'медленно аппарат',\n",
       " 'глубоко запихать',\n",
       " 'попасться почитать',\n",
       " 'брать проблемписать',\n",
       " '4мм край',\n",
       " 'позволять почти',\n",
       " '2gb 0p',\n",
       " 'панель хром',\n",
       " 'перечисленный пользователь',\n",
       " 'отношение v10',\n",
       " 'минимум вконтакте',\n",
       " 'частота главное',\n",
       " 'неоднократно проверить',\n",
       " '10общий 8',\n",
       " 'подстаканник правда',\n",
       " 'глючный бета',\n",
       " 'переэкономить',\n",
       " 'колоться деньга',\n",
       " 'предмет настройка',\n",
       " 'обои 22',\n",
       " 'саободно месяц',\n",
       " 'почему задыхалисьпроизводительность',\n",
       " 'печка ещё',\n",
       " 'квакаканье прослушивание',\n",
       " 'поскольку глючить',\n",
       " 'технология максимальный',\n",
       " 'прийтись получиться',\n",
       " 'нокиия наступать',\n",
       " 'искать направлять',\n",
       " 'недоступный носить',\n",
       " 'разбить окончателно',\n",
       " 'некрасиво6',\n",
       " 'скачок обалденный',\n",
       " 'вbж смысл',\n",
       " 'оправдать печальный',\n",
       " 'новый gta',\n",
       " 'общий балдеть',\n",
       " 'продуктивный удобный',\n",
       " 'иномарка музыка',\n",
       " '6 поправить',\n",
       " 'весьма свойственно',\n",
       " 'рекомендовать поклоник',\n",
       " 'поделиться место',\n",
       " 'найти олеофобный',\n",
       " 'плохой дачик',\n",
       " 'ценитель формат',\n",
       " 'бренд решиться',\n",
       " 'хороший мегапак',\n",
       " 'избежать неловкий',\n",
       " 'вдуплять достаточно',\n",
       " 'весьма проврной',\n",
       " 'обнаружить приёмка',\n",
       " 'намёк скоро',\n",
       " 'место берет',\n",
       " 'поколение привести',\n",
       " 'иначе забиться',\n",
       " 'прочерк напрягать',\n",
       " 'скопировать её',\n",
       " 'омлет время',\n",
       " 'логичный расположить',\n",
       " 'савка нету',\n",
       " 'bq сервис',\n",
       " '27 64гиг',\n",
       " 'который s8',\n",
       " 'жаль удаться',\n",
       " 'купить y85',\n",
       " 'музычка похвастать',\n",
       " 'winphone ios',\n",
       " 'нэт кстати',\n",
       " 'сентябрь достоинство',\n",
       " 'иконка нажать',\n",
       " 'памести оз',\n",
       " 'второй скопировать',\n",
       " 'вежливый компромис',\n",
       " 'попробовать считать',\n",
       " 'интересовать дальнейший',\n",
       " 'periscope не',\n",
       " 'заточить функция',\n",
       " 'дешёвый ноунэйм',\n",
       " 'шкурить',\n",
       " 'сентябрьский апдейт',\n",
       " 'это 25к',\n",
       " 'венгрия последний',\n",
       " 'горячий подогнуть',\n",
       " 'первый экспериментальный',\n",
       " 'азия особенно',\n",
       " 'забрать замена',\n",
       " 'могучий аккумулятор',\n",
       " 'рука махнуть',\n",
       " 'оттестировать удаваться',\n",
       " 'либо navitel',\n",
       " 'приятный искать',\n",
       " 's невозможность',\n",
       " 'пример ширика',\n",
       " 'отдавать белизна',\n",
       " 'назначение нетъ',\n",
       " 'новый медведь',\n",
       " 'панель должный',\n",
       " 'частность поведение',\n",
       " '2fwall 55739797',\n",
       " 'инерция начинать',\n",
       " 'плотность получаться',\n",
       " 'смахивать яблочный',\n",
       " 'обнова ощущение',\n",
       " 'серия подарить',\n",
       " 'ненужный технический',\n",
       " 'припомнить серьёзный',\n",
       " 'сосед громкий',\n",
       " 'наушник прокачивать',\n",
       " 'обнаружить посмотреть',\n",
       " 'качественно обычный',\n",
       " 'сразу пресечь',\n",
       " 'достигнуть основный',\n",
       " 'несмотря снижение',\n",
       " 'порвать отсутствие',\n",
       " 'шумный ночью',\n",
       " 'почти солома',\n",
       " 'понадобиться проводить',\n",
       " 'рука орехокола',\n",
       " 'недосягаемый озвучить',\n",
       " 'маленький европейский',\n",
       " 'мессенджер пожилой',\n",
       " 'куча единственный',\n",
       " 'минус нажатие',\n",
       " 'хватать резюмировать',\n",
       " 'осадка слабый',\n",
       " 'функция привязать',\n",
       " 'прожорливый оперативка',\n",
       " 'нажатие 7',\n",
       " 'g1 samsung',\n",
       " '5020936381',\n",
       " 'дорогой оператор',\n",
       " 'остться это',\n",
       " 'планировать старый',\n",
       " 'меломан перейти',\n",
       " 'востальной всё',\n",
       " 'переходник смс',\n",
       " 'микрософтовский например',\n",
       " 'специалист утверждать',\n",
       " 'бестолк не',\n",
       " 'чёткий установка',\n",
       " 'практичный надеяться',\n",
       " 'хороший навреной',\n",
       " '3х недешёвый',\n",
       " 'неудалять неустанавливать',\n",
       " 'покупатель highscreen',\n",
       " 'папка р',\n",
       " 'инетресурс куча',\n",
       " 'забыть w880i',\n",
       " '4 нарекание',\n",
       " 'уступать её',\n",
       " 'новый изобрести',\n",
       " 'мочь хз',\n",
       " 'весна 2009г',\n",
       " 'жертвовать хотеться',\n",
       " 'получать срез',\n",
       " 'мочь прослушивать',\n",
       " 'число представить',\n",
       " 'оболочка чертовски',\n",
       " 'переключать удержание',\n",
       " 'посветить разъём',\n",
       " 'палец фирменный',\n",
       " 'нравиться доработать',\n",
       " 'вкладка моментально',\n",
       " 'влазить водонепроницаемый',\n",
       " 'год надуваться',\n",
       " 'цим пристро',\n",
       " 'пожиратель заряд',\n",
       " 'приходиться выйти',\n",
       " 'незаморочить управление',\n",
       " 'дисплей реклама',\n",
       " '623 е180',\n",
       " 'жест идеально',\n",
       " 'второй выявиться',\n",
       " '12990 всё',\n",
       " 'обновляться дорабатываться',\n",
       " 'зелёный последний',\n",
       " 'ios потоковый',\n",
       " 'комп видти',\n",
       " 'апейрон',\n",
       " 'торопиться сфакусироваться',\n",
       " 'miui появление',\n",
       " 'копейчка',\n",
       " 'трекпад удобно',\n",
       " 'дарита большой',\n",
       " 'гарантия кой',\n",
       " 'пользоваться инстаграм',\n",
       " 'попытка особенно',\n",
       " 'не перезавантажувався',\n",
       " 'пользоваться sgs5',\n",
       " 'отдельно любить',\n",
       " 'пора удаление',\n",
       " 'видеопроц работать',\n",
       " '7zip',\n",
       " 'солнце близкий',\n",
       " 'тупик несколько',\n",
       " 'работать изменять',\n",
       " 'сказать неверить',\n",
       " 'хватать бесить',\n",
       " 'долговечный огромный',\n",
       " 'попасться 10ка',\n",
       " 'работа подсчёт',\n",
       " 'умеренно заряжаться',\n",
       " 'аир подс',\n",
       " 'ознакомиться сразу',\n",
       " 'точность никогда',\n",
       " 'карявыя не',\n",
       " 'запарка видео',\n",
       " 'окей хотеть',\n",
       " 'вроде x6',\n",
       " 'крошечный пролистывать',\n",
       " 'сожаление шторка',\n",
       " '210 тысяча',\n",
       " 'спрашивать отправка',\n",
       " 'европейский прошивокть',\n",
       " 'окно никакой',\n",
       " 'информация подсветка',\n",
       " 'эксперементировать надобность',\n",
       " 'ртц хьюллета',\n",
       " 'удивлённый оснастить',\n",
       " 'наименование некоторый',\n",
       " 'защитить обьединить',\n",
       " 'x700 ещё',\n",
       " 'частота 250гц',\n",
       " 'дополнение fm',\n",
       " 'давно подержать',\n",
       " 'коннектор видеорегистратор',\n",
       " 'вкусно посадка',\n",
       " 'перпендикулярно аппарат',\n",
       " 'противно тормозить',\n",
       " 'информативный преимущество',\n",
       " 'гораздо симпотный',\n",
       " 'далее вцелое',\n",
       " '100 ковёр',\n",
       " 'навязывание новостной',\n",
       " 'меню 6666',\n",
       " 'не 2mpix',\n",
       " 'далее установление',\n",
       " 'убитый дефай',\n",
       " 'навигация fm',\n",
       " 'невольный бета',\n",
       " 'расстройство зацепиться',\n",
       " 'тёрка наждачка',\n",
       " 'недавно вырваться',\n",
       " 'вацап необходимо',\n",
       " 'e давать',\n",
       " '4 механический',\n",
       " 'маленький светодиодик',\n",
       " 'заявить некий',\n",
       " 'описовать чувство',\n",
       " '42 !',\n",
       " 'u stas',\n",
       " 'отслужить второй',\n",
       " 'видео ежедневно',\n",
       " 'продавать причина',\n",
       " 'вдвое добавить',\n",
       " 'придрочиться хороший',\n",
       " 'вьетнам ухо',\n",
       " 'крышка шатать',\n",
       " 'панель обновление',\n",
       " 'масса кнопка',\n",
       " 'шторка включать',\n",
       " 'дорогой 6990',\n",
       " 'вайбер например',\n",
       " 'прекрасно расширять',\n",
       " '6часы музыка',\n",
       " 'остаться громкий',\n",
       " 'промяться фабричный',\n",
       " 'пословица дёшево',\n",
       " 'стоить resco',\n",
       " 'флагман ксяомь',\n",
       " 'nwz e473',\n",
       " 'скорость плеер',\n",
       " '36zmyle1zpy0nw 1',\n",
       " 'связь продумать',\n",
       " 'элементарный пластик',\n",
       " 'пора 16',\n",
       " 'клиент отдельный',\n",
       " 'gmail sms',\n",
       " 'порвать зарядка',\n",
       " 'хвалять nokia',\n",
       " 'везде неубивать',\n",
       " 'пенсионерка напугать',\n",
       " 'довольный буста',\n",
       " 'автоматически остальной',\n",
       " 'ожидать слабенький',\n",
       " 'больший вырезать',\n",
       " 'приходиться разлокировывать',\n",
       " 'фотосклад самый',\n",
       " 'свиблово',\n",
       " '0 редактирование',\n",
       " 'двухсимник самсунг',\n",
       " '16 wi',\n",
       " 'исправно вспышка',\n",
       " 'hangout colornote',\n",
       " 'падение цвет',\n",
       " 'присутствие счёт',\n",
       " 'удивить заказываться',\n",
       " 'экономить игра',\n",
       " 'тон музыка',\n",
       " 'фотосъёмка рlaymarket',\n",
       " 'лаг впечатление',\n",
       " 'человек орентировать',\n",
       " 'iii буйный',\n",
       " 'зайти товарищ',\n",
       " 'память максим',\n",
       " 'дизаер нтс',\n",
       " 'фильм рамка',\n",
       " 'булавка поэтому',\n",
       " 'тело 13мп',\n",
       " 'начинка типо',\n",
       " 'формат нажать',\n",
       " 'нацепить идти',\n",
       " 's lll',\n",
       " '99 примерно',\n",
       " 'отзывчивый производительный',\n",
       " 'сначала стремали',\n",
       " 'наблюдать ухо',\n",
       " 'вконтакте philipsx513',\n",
       " 'юсби купить',\n",
       " 'мелкий час',\n",
       " 'избавиться защита',\n",
       " 'перепаять случаять',\n",
       " 'ругать хрен',\n",
       " 'уведомление always',\n",
       " 'минь порадовать',\n",
       " 'благо java',\n",
       " 'выключаться геометка',\n",
       " '2z хорошо',\n",
       " 'испытание исключение',\n",
       " 'потеря присутствовать',\n",
       " 'моделька нечего',\n",
       " 'ввести услуга',\n",
       " 'сложный внешность',\n",
       " 'человек ветка',\n",
       " 'перчатка остальной',\n",
       " 'проблема йотовский',\n",
       " 'плата влагозащита',\n",
       " '9t ездить',\n",
       " 'течь первый',\n",
       " 'поцарапать дождь',\n",
       " 'итог разрядка',\n",
       " 'айос более',\n",
       " 'фигня 3',\n",
       " 'второй мнение',\n",
       " 'тормозучесть основное',\n",
       " 'точность вполне',\n",
       " 'завышанна качество',\n",
       " 'учитывать глянцевый',\n",
       " 'нонсенс не',\n",
       " 'эксплуатация отбрыв',\n",
       " 'камера достигнуть',\n",
       " 'дать истекать',\n",
       " 'достойный представительный',\n",
       " '3d оставить',\n",
       " 'желтитнастройка температура',\n",
       " 'шероховатый брать',\n",
       " 'ище розшырить',\n",
       " 'дело бэккейс',\n",
       " 'жест медленный',\n",
       " 'blackbiev который',\n",
       " 'становиться заляпать',\n",
       " 'приемлемой',\n",
       " 'иногда гасить',\n",
       " 'цена супертелефон',\n",
       " 'чистый 9м',\n",
       " 'скинуть imei',\n",
       " 'гибрид поставить',\n",
       " 'diamond2 пока',\n",
       " 'прожорливый android',\n",
       " 'ради заплатить',\n",
       " 'классик плюс',\n",
       " 'автояркость нечитаемый',\n",
       " 'понемногу демонстрация',\n",
       " 'возвращаться случайный',\n",
       " 'вываливаються просто',\n",
       " '11495',\n",
       " 'посидить фильм',\n",
       " 'джпегий',\n",
       " 'эфория дик',\n",
       " 'собраться отставка',\n",
       " 'нормально подход',\n",
       " 'провожденияисключение музыка',\n",
       " 'фон просвечивать',\n",
       " 'перекрытие задний',\n",
       " 'пятёрка снять',\n",
       " 'большой прювета',\n",
       " 'rebrith',\n",
       " 'вместо китайфон',\n",
       " 'годиться излишний',\n",
       " 'облегчить ситуация',\n",
       " 'ради золотой',\n",
       " 'пролезть',\n",
       " 'винд глючный',\n",
       " 'спрос мочь',\n",
       " 'драйвер aino',\n",
       " 'помеха отзывчивый',\n",
       " 'ехать третий',\n",
       " 'причём шум',\n",
       " 'зашить рекламный',\n",
       " 'центр упрямо',\n",
       " 'центр сша',\n",
       " 'потёртость использование',\n",
       " 'вычленить штука',\n",
       " '36ч',\n",
       " 'выклый появиться',\n",
       " 'затормозить стоить',\n",
       " 'внизу отзыв',\n",
       " '! 1024',\n",
       " 'восьмилетие качество',\n",
       " 'олимпуса',\n",
       " 's5230 сенсор',\n",
       " 'куртка звук',\n",
       " 'тормозить e72',\n",
       " 'afp друг',\n",
       " 'подойти незаморачивающийся',\n",
       " 'разговор производиться',\n",
       " 'смартфон поюзав',\n",
       " 'лихва минус',\n",
       " 'пролить молоко',\n",
       " 'дача вайфай',\n",
       " 'сообщение подскакивать',\n",
       " 'стирание абонент',\n",
       " 'ужасно основной',\n",
       " '4х мегапиксель',\n",
       " 'ноут раса',\n",
       " 'предупреждать пожиратель',\n",
       " 'живой гарантия',\n",
       " 'змейка различный',\n",
       " 'купить 15192р',\n",
       " '6a недавно',\n",
       " 'жалеюбрать плеер',\n",
       " 'поиграться сделать',\n",
       " 'обстановка создавать',\n",
       " 'восьмёрка вынуть',\n",
       " 'букаффа весь',\n",
       " 'стоять конец',\n",
       " 'отпугивать либо',\n",
       " 'болеть сначала',\n",
       " 'верить бредни',\n",
       " '120 держаться',\n",
       " 'безостановочно !',\n",
       " 'тоненький обечайка',\n",
       " 'поэтому испытать',\n",
       " 'комплектный чёрный',\n",
       " 'остановить xs',\n",
       " 'ободок стальной',\n",
       " 'krusell естесственный',\n",
       " 'супер примиальный',\n",
       " 'меняться 80',\n",
       " 'ghmhgvf4fzdkxw',\n",
       " 'качество ярко',\n",
       " 'хотеться никогда',\n",
       " 'непрактичность глупость',\n",
       " 'продукция гораздо',\n",
       " 'вообщий помочь',\n",
       " 'стоить еле',\n",
       " 'нужный here',\n",
       " 'получаться привыкать',\n",
       " 'абсолютно точность',\n",
       " 'зло возврат',\n",
       " 'сверяться настоящий',\n",
       " 'файл надежда',\n",
       " '728g dual',\n",
       " 'покофон везде',\n",
       " 'модель бесполезный',\n",
       " 'либо энтузиаст',\n",
       " 'падать перегреваться',\n",
       " 'революджоннимейзинг не',\n",
       " 'начало вибро',\n",
       " 'ультразвуковой подключиться',\n",
       " '4 hdr',\n",
       " 'лампа верх',\n",
       " 'смартфон воспроизводить',\n",
       " 'требовать телефонный',\n",
       " 'модуль средний',\n",
       " 'забыть неприятно',\n",
       " 'овальчик вокруг',\n",
       " 'выход сг',\n",
       " 'начать неприлично',\n",
       " '3s a40',\n",
       " 'руб ретейлер',\n",
       " 'ввести перезагружаться',\n",
       " 'ru 11495',\n",
       " 'удивить цветовой',\n",
       " 'любить компактность',\n",
       " 'вид листать',\n",
       " 'мочь премиальный',\n",
       " 'движение стремиться',\n",
       " 'разговор посмотреть',\n",
       " 'причём такка',\n",
       " 'довольный симпатишный',\n",
       " '227696169',\n",
       " 'фокус 1',\n",
       " 'начинать виндовс',\n",
       " 'разочаровать пять',\n",
       " 'род аппаратура',\n",
       " 'конденсат часто',\n",
       " 'вес дешевизна',\n",
       " 'повиснуть устареть',\n",
       " 'mc32ga',\n",
       " 'ослабить 2',\n",
       " 'посредством смартфон',\n",
       " '5 2v',\n",
       " 'playstore это',\n",
       " 'прежний напоминать',\n",
       " 'рябить lg',\n",
       " 'затем любой',\n",
       " 'репутация подмочить',\n",
       " 'цена кошмарный',\n",
       " 'снова 200',\n",
       " 'фоткаета сохранять',\n",
       " 'сплошной головняк',\n",
       " 'зря надёжность',\n",
       " 'суметь оплошать',\n",
       " 'против 24к',\n",
       " 'глуховатый iphone',\n",
       " 'образ прыгать',\n",
       " 'правда реклама',\n",
       " 'весь бомбить',\n",
       " 'дешов вид',\n",
       " 'сразу спокойно',\n",
       " 'затем поднять',\n",
       " 'терпение приловчиться',\n",
       " 'глючный дорогой',\n",
       " 'погрызть оставаться',\n",
       " 'e181 знакомый',\n",
       " 'край бывать',\n",
       " 'мерцать заряд',\n",
       " 'ажур не',\n",
       " 'ронять измазать',\n",
       " '4590руб',\n",
       " 'пара ватсапп',\n",
       " 'типо 10х10',\n",
       " 'браузер подвисать',\n",
       " 'некий недоделанность',\n",
       " 'интернет едж',\n",
       " 'неимоверно сложный',\n",
       " 'дешовка разный',\n",
       " 'значит скорость',\n",
       " 'запугивать сдать',\n",
       " 'подешеветь 6900',\n",
       " 'потрясти пользоваться',\n",
       " 'функционал звук',\n",
       " 'взыскательный взгляд',\n",
       " 'е6 клавиша',\n",
       " 'скоростной интерфейс',\n",
       " 'чудо видимо',\n",
       " 'назад голландия',\n",
       " 'redmi наполовину',\n",
       " 'помимо больший',\n",
       " 'отбить разговор',\n",
       " 'молчание набирать',\n",
       " 'озон дёшево',\n",
       " 'затем перезагружать',\n",
       " 'экономичный дисплей',\n",
       " 'нету сонька',\n",
       " 'остаться понять',\n",
       " 'прошлогодний дата',\n",
       " 'ограничить нужно',\n",
       " 'предыдущий сл',\n",
       " 'восьмиядерный хватать',\n",
       " 'видеоплеер одинаковый',\n",
       " 'посадка истребитель',\n",
       " 'узнать ладный',\n",
       " '15т рубль',\n",
       " 'веб смартфон',\n",
       " 'шествие повод',\n",
       " '2 удачно',\n",
       " 'африка смартфон',\n",
       " 'качественный толщина',\n",
       " 'взять скромный',\n",
       " 'туалет помыть',\n",
       " 'подарить эксплуатриовать',\n",
       " 'чёрный пластмасса',\n",
       " 'оооочень требовательный',\n",
       " 'ехать сенсор',\n",
       " 'функционал улучшиться',\n",
       " 'включить итак',\n",
       " 'sapiens',\n",
       " '! заедать',\n",
       " 'залиться занятый',\n",
       " '! mortal',\n",
       " 'обрамить маленький',\n",
       " 'сдать спустя',\n",
       " 'g3 подумать',\n",
       " 'сеть соединение',\n",
       " 'ночью стабильно',\n",
       " 'бюджетный 2g',\n",
       " 'бессмысленность согласный',\n",
       " 'возмутиться сервис',\n",
       " 'достаточно нетривиальный',\n",
       " 'позванит',\n",
       " 'лучшепроизводительность',\n",
       " 'норма ходить',\n",
       " 'табачок бабушка',\n",
       " 'тысяча имя',\n",
       " 'photon',\n",
       " 'мб сохранить',\n",
       " 'собирать твой',\n",
       " 'память хатить',\n",
       " 'железо тоис',\n",
       " 'постоянно убираться',\n",
       " 'джостик ромбовидный',\n",
       " 'полноценный компьютерный',\n",
       " '3 почистить',\n",
       " 'эталон взять',\n",
       " 'долго неплохой',\n",
       " 'sm g930v',\n",
       " 'весь пафосный',\n",
       " 'мила симпатичный',\n",
       " 'dx900 это',\n",
       " 'нужный ставка',\n",
       " 'брак миллион',\n",
       " 'программка blutooth',\n",
       " 'опера сожрать',\n",
       " 'отрисовывать рабочий',\n",
       " 'гиг 1т',\n",
       " 'никогда пробовать',\n",
       " 'специалист двоечник',\n",
       " 'запасный основный',\n",
       " 'записывать второй',\n",
       " 'родной данный',\n",
       " 'переклеить пока',\n",
       " 'холодный громкий',\n",
       " 'асфальт шанс',\n",
       " 'тупой видимо',\n",
       " 'программа организовать',\n",
       " 'машина тупак',\n",
       " 'курьер искать',\n",
       " 'гуголовский прога',\n",
       " 'дать ревизия',\n",
       " '64мпикс',\n",
       " 'скткать нужно',\n",
       " 'крышка 200',\n",
       " 'оборудование производить',\n",
       " 'эфимерный преимущество',\n",
       " 'це телефон',\n",
       " 'фотографирование нужный',\n",
       " '85 отключить',\n",
       " 'ericsson 2005',\n",
       " 'мочь отснять',\n",
       " 'царапина избежать',\n",
       " 'выхолостить лицо',\n",
       " 'действие окликаться',\n",
       " 'start лаунчер',\n",
       " 'правда 4000',\n",
       " 'довольно брак',\n",
       " 'зона всплывать',\n",
       " 'проц зопо',\n",
       " 'удалить размер',\n",
       " 'отлично водый',\n",
       " 'видно синий',\n",
       " 'истенной',\n",
       " 'вместе брак',\n",
       " 'неработающий комплект',\n",
       " 'тормо необходимо',\n",
       " 'редко вряд',\n",
       " 'тапа увеличение',\n",
       " 'неделя zenfone',\n",
       " 'предмет угроза',\n",
       " 'просто фейспальма',\n",
       " 'надеяться несломаться',\n",
       " 'тип wordbit',\n",
       " 'начинать взять',\n",
       " 'самсунг sg3',\n",
       " 'китаец ттх',\n",
       " 'метод эксперимент',\n",
       " 'программный кодек',\n",
       " 'спрятать обратно',\n",
       " 'полагаться избежать',\n",
       " 'загрузчик проходить',\n",
       " 'миллиард одинаковый',\n",
       " 'мороз полдень',\n",
       " 'видно регулярный',\n",
       " 'обновить звонок',\n",
       " 'послушать простой',\n",
       " 'полностью откреститься',\n",
       " 'довольный четыре',\n",
       " 'её условие',\n",
       " 'микрофон отклеиваться',\n",
       " 'крутоооо',\n",
       " 'заказать товар',\n",
       " 'синхронизация звук',\n",
       " 'менеджер первый',\n",
       " 'активировать фонарик',\n",
       " 'qtec 9100',\n",
       " 'w880i невозможно',\n",
       " 'ericsson 7',\n",
       " 'помериться крутость',\n",
       " 'обошоться скидка',\n",
       " 'intel пойти',\n",
       " 'находить друг',\n",
       " '400 тыр',\n",
       " 'идеологический родство',\n",
       " '349 плюс',\n",
       " 'перечеркнуть фатальный',\n",
       " 'приходиться изголяться',\n",
       " 'выше диагностик',\n",
       " 'паркетный аппарат',\n",
       " 'ws880 пользоваться',\n",
       " 'прошивка neomix',\n",
       " 'март галерея',\n",
       " 'отличаться разрешение',\n",
       " 'мобила дозваниваться',\n",
       " 'подъезд всё',\n",
       " 'всегда вероятность',\n",
       " 'менеджер связный',\n",
       " 'телефономнравиться дизайн',\n",
       " 'закачать хотя',\n",
       " 'камера шумахотеть',\n",
       " 'нижний зарядка',\n",
       " 'камера потомучтый',\n",
       " 'лишь пятиминутный',\n",
       " 'поскрипывать выше',\n",
       " 'отдавать 20000р',\n",
       " 'загрузка куча',\n",
       " 'подделка бренд',\n",
       " 'покой цена',\n",
       " 'motorola rokr',\n",
       " 'настолько ожидать',\n",
       " 'очень тыловой',\n",
       " 'a планшет',\n",
       " 'подёргиваться фотка',\n",
       " '13тыс прикреплять',\n",
       " 'не песчинка',\n",
       " 'подняться причём',\n",
       " 'автобус разобрать',\n",
       " 'знать планировать',\n",
       " 'автомат открываться',\n",
       " 'корпус таскать',\n",
       " 'переадресация ответить',\n",
       " 'поискать наличие',\n",
       " 'часность поездка',\n",
       " 'интерфейс 32',\n",
       " 'огорчаться фирма',\n",
       " 'всякий слуячаять',\n",
       " 'желтизна диагональ',\n",
       " 'карманавыступать камера',\n",
       " 'mah ос',\n",
       " 'грандиозный прорыв',\n",
       " 'маунтинбайк горный',\n",
       " 'беспокоиться зарядник',\n",
       " 'поддержка удобство',\n",
       " '300i характеристика',\n",
       " 'поднебесный thl',\n",
       " 'тип cowon',\n",
       " 'планировщик мессенджер',\n",
       " 'рутованый телефон',\n",
       " 'ходить hтс',\n",
       " 'рассказывать отдых',\n",
       " 'dell сочетание',\n",
       " 'приспосабливаться крышечка',\n",
       " 'обязательно нокиа',\n",
       " 'американский розеточник',\n",
       " 'юзать правда',\n",
       " 'советовать сесть',\n",
       " 'рисунок использовать',\n",
       " 'винмо фанат',\n",
       " 'заблуждение сказать',\n",
       " '1508 0e',\n",
       " 'g 3s',\n",
       " 'забыть предлогать',\n",
       " 'чёткий движок',\n",
       " 'обновляться задержка',\n",
       " 'улучшать опыт',\n",
       " '90 найти',\n",
       " 'самсунг родственник',\n",
       " 'xr 6s',\n",
       " 'венгерский качественный',\n",
       " 'жаль стабилизация',\n",
       " 'дубльгис тупить',\n",
       " 'небогатый флай',\n",
       " 'интерефейс плохой',\n",
       " 'ваня1',\n",
       " 'килобайт серьёзно',\n",
       " 'забывать сохраняться',\n",
       " 'сайт linux',\n",
       " 'фонарикасзади краска',\n",
       " 'использовать стильный',\n",
       " 'агент медиаплеер',\n",
       " 'замедлить показаться',\n",
       " 'суперским довольно',\n",
       " 'onetouch 8020d',\n",
       " 'прийтись apk',\n",
       " 'упомнить точка',\n",
       " 'середняк порт',\n",
       " 'сборка бояться',\n",
       " 'смущённый просить',\n",
       " 'казаться наследник',\n",
       " 'технологиия следовать',\n",
       " 'близкие сердце',\n",
       " 'стандартный управление',\n",
       " 'час эрка',\n",
       " '5500 заодно',\n",
       " 'зато яркий',\n",
       " 'куча одноценник',\n",
       " 'назначить ещё',\n",
       " 'сильный лицо',\n",
       " 'образ полноценный',\n",
       " 'покинуть asus',\n",
       " 'кроме заоблочный',\n",
       " 'гб дамка',\n",
       " 'странность правда',\n",
       " 'терять масса',\n",
       " 'батарея теллефон',\n",
       " 'усилие !',\n",
       " '650 позволять',\n",
       " 'da i',\n",
       " 'нету кризис',\n",
       " 'это 32гб',\n",
       " 'ос забросить',\n",
       " 'зачам',\n",
       " 'порадовать akg',\n",
       " '! починиться',\n",
       " 'ясный свайп',\n",
       " 'старт открытый',\n",
       " 'вьюшка',\n",
       " 'неодный проседание',\n",
       " 'людеq',\n",
       " 'приятный фоточка',\n",
       " 'обработка прилагать',\n",
       " 'знать плавать',\n",
       " 'прочий порой',\n",
       " 'ssdзадний',\n",
       " 'сместить samsung',\n",
       " 'мег комп',\n",
       " 'смартфон расти',\n",
       " 'konstrpi',\n",
       " 'наверно связать',\n",
       " 'двухсимочник стоить',\n",
       " 'писать сейчасначать',\n",
       " 'палец ситуация',\n",
       " 'соцсеть великолепный',\n",
       " 'бесплатно главное',\n",
       " 'камера р9',\n",
       " 'бред закалённый',\n",
       " 'ждать maincraft',\n",
       " 'поставить учёт',\n",
       " 'сделать зачистка',\n",
       " 'самый gorilla',\n",
       " 'майкрософт пользователь',\n",
       " 'разъём наверное',\n",
       " 'звонить промедление',\n",
       " 'выбросить пойти',\n",
       " 'задолбать особенно',\n",
       " 'читаться правда',\n",
       " 'разрешение имя',\n",
       " 'моспрайма',\n",
       " 'продавец указывать',\n",
       " 'мейза зарекомендовать',\n",
       " 'либо придумать',\n",
       " 'прилично качественно',\n",
       " 'детализация практически',\n",
       " '! издалёка',\n",
       " 'нормальный ics',\n",
       " 'медленно рука',\n",
       " 'наслаждаться игра',\n",
       " 'быстродействие приемлемый',\n",
       " 'принять автоматически',\n",
       " 'более явный',\n",
       " 'длиться пять',\n",
       " 'мода бренд',\n",
       " 'sgs3 понять',\n",
       " 'система ошибка',\n",
       " '000тг отличный',\n",
       " 'обязательно компромисс',\n",
       " 'джейл решить',\n",
       " 'сав4туй брать',\n",
       " 'жидать',\n",
       " 'закачивать wi',\n",
       " 'купить 901s',\n",
       " 'венгрия сегодняшний',\n",
       " 'сильно благодушный',\n",
       " 'некоторый скрипучесть',\n",
       " 'попрошивать ваш',\n",
       " 'зато оградить',\n",
       " 'непременно помощь',\n",
       " 'панель вздуться',\n",
       " 'любовь fly',\n",
       " 'полоса левый',\n",
       " 'чесаться исправление',\n",
       " 'порт оплата',\n",
       " 'свой сменить',\n",
       " 'фраза включить',\n",
       " 'главаной надёжность',\n",
       " 'требование отсуствие',\n",
       " 'любитель имя',\n",
       " 'вопрос 600',\n",
       " '2017г человек',\n",
       " 'выступать тоненький',\n",
       " 'meizu сожаление',\n",
       " 'мелочь ый',\n",
       " 'вобщий лежать',\n",
       " 'поковыряться навигатор',\n",
       " 'определённый новый',\n",
       " 'd6 x7',\n",
       " 'невороятный',\n",
       " 'перезагружаться комментарий',\n",
       " 'долбить посадить',\n",
       " '72 стать',\n",
       " 'заведовать фотография',\n",
       " 'похоже скандинавец',\n",
       " 'менять начинать',\n",
       " 'бомба лишний',\n",
       " 'заламинировать иначе',\n",
       " 'документ ютуба',\n",
       " 'взамен boost',\n",
       " 'приступ задумчивость',\n",
       " 'дебильный проводы',\n",
       " 'выключить пароль',\n",
       " 'целый лёлик',\n",
       " 'работать мылить',\n",
       " 'умудряться ждать',\n",
       " 'видео рулить',\n",
       " 'заядлый гаджетоман',\n",
       " 'поставлять надпись',\n",
       " 'переносить айфон',\n",
       " 'выделить подлагивание',\n",
       " 'мечтать разочаровать',\n",
       " 'дочь яблоко',\n",
       " 'здорово музыка',\n",
       " 'компания виндовс',\n",
       " 'дзынькнуть молчать',\n",
       " 'эмдээрки',\n",
       " 'надеяться уважаемый',\n",
       " 'коробка метр',\n",
       " 'переключалка панель',\n",
       " 'всё шаманство',\n",
       " 'случиться запотелый',\n",
       " 'блок схемма',\n",
       " 'чудом lte',\n",
       " '89и далее',\n",
       " 'прокачать спорткара',\n",
       " 'стабильно рука',\n",
       " 'сдача товар',\n",
       " 'намокать итог',\n",
       " 'отдыхаут',\n",
       " 'тёплый шампанское',\n",
       " 'фронталка дополнять',\n",
       " 'сенсор брат',\n",
       " 'идеально проверять',\n",
       " 'свободно укладываться',\n",
       " 'скидка рабочий',\n",
       " 'm8 сломаться',\n",
       " 'получать характеристика',\n",
       " 'max3 очень',\n",
       " 'андроид исключиться',\n",
       " 'удобный гламурный',\n",
       " 'цена 8тр',\n",
       " 'has stopped',\n",
       " 'наверно яблоко',\n",
       " 'гармоничный собранный',\n",
       " 'energy profiler',\n",
       " 'приобрести пробный',\n",
       " 'листание постранично',\n",
       " '5320 э',\n",
       " 'среди нынешний',\n",
       " 'тенденция всё',\n",
       " 'конченый цена',\n",
       " 'почему d',\n",
       " 'нужный персонализация',\n",
       " 'socket поддерживать',\n",
       " 'настроить короче',\n",
       " 'upd привет',\n",
       " 'состыковать',\n",
       " 'маленький закоса',\n",
       " 'убивать 2013',\n",
       " 'супер нагреваться',\n",
       " '25 слегка',\n",
       " 'штатный 1',\n",
       " 'прювета разработчик',\n",
       " ...]"
      ]
     },
     "execution_count": 220,
     "metadata": {},
     "output_type": "execute_result"
    }
   ],
   "source": [
    "add_list_test"
   ]
  },
  {
   "cell_type": "code",
   "execution_count": 221,
   "metadata": {},
   "outputs": [
    {
     "data": {
      "text/plain": [
       "1379666"
      ]
     },
     "execution_count": 221,
     "metadata": {},
     "output_type": "execute_result"
    }
   ],
   "source": [
    "add_list_train = [x for x in columns_train if x not in columns_test]\n",
    "len(add_list_train)"
   ]
  },
  {
   "cell_type": "markdown",
   "metadata": {},
   "source": [
    "И у наших фич есть расхождения, связанные с тем, что мы их тренировали отдельно.\n",
    "Ну сперва добавлять не будем, удалим. Будем считать, что это малоупотребимые фичи."
   ]
  },
  {
   "cell_type": "code",
   "execution_count": 222,
   "metadata": {
    "scrolled": true
   },
   "outputs": [],
   "source": [
    "vec_train_drop = vec_train.drop(add_list_train, axis = 1)\n",
    "vec_test_drop = vec_test.drop(add_list_test, axis = 1)"
   ]
  },
  {
   "cell_type": "code",
   "execution_count": 223,
   "metadata": {},
   "outputs": [],
   "source": [
    "vec_test_drop = vec_test_drop[vec_train_drop.columns]"
   ]
  },
  {
   "cell_type": "code",
   "execution_count": 224,
   "metadata": {},
   "outputs": [
    {
     "data": {
      "application/vnd.jupyter.widget-view+json": {
       "model_id": "4f4979496eb246d19759b8ef0d1d6107",
       "version_major": 2,
       "version_minor": 0
      },
      "text/plain": [
       "MetricVisualizer(layout=Layout(align_self='stretch', height='500px'))"
      ]
     },
     "metadata": {},
     "output_type": "display_data"
    },
    {
     "data": {
      "text/plain": [
       "<catboost.core.CatBoostClassifier at 0x21c1ddc7310>"
      ]
     },
     "execution_count": 224,
     "metadata": {},
     "output_type": "execute_result"
    }
   ],
   "source": [
    "model_cb = CatBoostClassifier(iterations=1200,\n",
    "                                depth = 3,\n",
    "                                loss_function='MultiClass',\n",
    "                                thread_count=-1, \n",
    "                                random_seed=RANDOM_STATE, \n",
    "                                verbose=0, \n",
    "                                #text_features=text_features,\n",
    "                                #task_type = \"GPU\" \n",
    "                                \n",
    ")\n",
    "\n",
    "model_cb.fit(vec_train_drop, train_y, plot= True)"
   ]
  },
  {
   "cell_type": "code",
   "execution_count": 225,
   "metadata": {},
   "outputs": [
    {
     "name": "stdout",
     "output_type": "stream",
     "text": [
      "\n",
      "              precision    recall  f1-score   support\n",
      "\n",
      "           1       0.51      0.41      0.45      8652\n",
      "           2       0.41      0.13      0.20      8867\n",
      "           3       0.41      0.16      0.23     13286\n",
      "           4       0.51      0.22      0.31     26766\n",
      "           5       0.61      0.95      0.74     56888\n",
      "\n",
      "    accuracy                           0.58    114459\n",
      "   macro avg       0.49      0.37      0.39    114459\n",
      "weighted avg       0.54      0.58      0.52    114459\n",
      "\n",
      "\n",
      "Confusion Matrix\n",
      "\n",
      "[[ 3534   754   702   272  3390]\n",
      " [ 1874  1149  1145   623  4076]\n",
      " [  981   638  2105  2235  7327]\n",
      " [  286   183   904  5837 19556]\n",
      " [  249   108   284  2469 53778]]\n",
      "AUC train:  0.8254519770044393\n",
      "AUC test:  0.8192883426541204\n",
      "Root Mean Squared Error на тестовой выборке: 1.2218470137553776\n",
      "Mean Absolute Error на тестовой выборке: 0.6863330974410051\n",
      "R2 на тестовой выборке: 0.06884059179424562\n"
     ]
    }
   ],
   "source": [
    "train_pred = model_cb.predict(vec_train_drop)\n",
    "proba_train = model_cb.predict_proba(vec_train_drop)\n",
    " \n",
    "test_pred = model_cb.predict(vec_test_drop)\n",
    "proba_test = model_cb.predict_proba(vec_test_drop)\n",
    "\n",
    "confusion = confusion_matrix(test_y, test_pred)\n",
    "\n",
    "print(CR + classification_report(test_y,test_pred)) \n",
    "\n",
    "print(CR + 'Confusion Matrix\\n')\n",
    "print(confusion)\n",
    "auc_tr = roc_auc_score(train_y, proba_train, multi_class='ovr')\n",
    "auc_test = roc_auc_score(test_y,  proba_test, multi_class='ovr')\n",
    "print('AUC train: ', auc_tr)\n",
    "print('AUC test: ', auc_test)\n",
    "mse = mean_squared_error(test_y, test_pred)\n",
    "\n",
    "rmse = root_mean_squared_error(test_y, test_pred)\n",
    "mae = mean_absolute_error(test_y, test_pred)\n",
    "print(\"Root Mean Squared Error на тестовой выборке:\", rmse)\n",
    "print(\"Mean Absolute Error на тестовой выборке:\", mae)\n",
    "r2 = r2_score(test_y, test_pred)\n",
    "print(\"R2 на тестовой выборке:\", r2)"
   ]
  },
  {
   "cell_type": "code",
   "execution_count": 226,
   "metadata": {},
   "outputs": [
    {
     "data": {
      "text/plain": [
       "1292514"
      ]
     },
     "execution_count": 226,
     "metadata": {},
     "output_type": "execute_result"
    }
   ],
   "source": [
    "cat_imp = pd.DataFrame(model_cb.feature_importances_, vec_train_drop.columns)\n",
    "cat_imp.columns = ['imp']\n",
    "cat_imp = cat_imp.sort_values(by = 'imp', ascending = False)\n",
    "cat_imp.shape[0]"
   ]
  },
  {
   "cell_type": "code",
   "execution_count": 227,
   "metadata": {
    "scrolled": true
   },
   "outputs": [
    {
     "data": {
      "text/html": [
       "<div>\n",
       "<style scoped>\n",
       "    .dataframe tbody tr th:only-of-type {\n",
       "        vertical-align: middle;\n",
       "    }\n",
       "\n",
       "    .dataframe tbody tr th {\n",
       "        vertical-align: top;\n",
       "    }\n",
       "\n",
       "    .dataframe thead th {\n",
       "        text-align: right;\n",
       "    }\n",
       "</style>\n",
       "<table border=\"1\" class=\"dataframe\">\n",
       "  <thead>\n",
       "    <tr style=\"text-align: right;\">\n",
       "      <th></th>\n",
       "      <th>imp</th>\n",
       "    </tr>\n",
       "  </thead>\n",
       "  <tbody>\n",
       "    <tr>\n",
       "      <th>отличный</th>\n",
       "      <td>5.418661</td>\n",
       "    </tr>\n",
       "    <tr>\n",
       "      <th>не советовать</th>\n",
       "      <td>4.709274</td>\n",
       "    </tr>\n",
       "    <tr>\n",
       "      <th>довольный</th>\n",
       "      <td>4.315095</td>\n",
       "    </tr>\n",
       "    <tr>\n",
       "      <th>целое</th>\n",
       "      <td>3.077842</td>\n",
       "    </tr>\n",
       "    <tr>\n",
       "      <th>не рекомендовать</th>\n",
       "      <td>2.684466</td>\n",
       "    </tr>\n",
       "    <tr>\n",
       "      <th>не пожалеть</th>\n",
       "      <td>2.646542</td>\n",
       "    </tr>\n",
       "    <tr>\n",
       "      <th>не покупать</th>\n",
       "      <td>1.646659</td>\n",
       "    </tr>\n",
       "    <tr>\n",
       "      <th>рекомендовать</th>\n",
       "      <td>1.495077</td>\n",
       "    </tr>\n",
       "    <tr>\n",
       "      <th>хороший</th>\n",
       "      <td>1.438381</td>\n",
       "    </tr>\n",
       "    <tr>\n",
       "      <th>разочаровать</th>\n",
       "      <td>1.402892</td>\n",
       "    </tr>\n",
       "    <tr>\n",
       "      <th>!</th>\n",
       "      <td>1.381851</td>\n",
       "    </tr>\n",
       "    <tr>\n",
       "      <th>ужасный</th>\n",
       "      <td>1.263602</td>\n",
       "    </tr>\n",
       "    <tr>\n",
       "      <th>не брать</th>\n",
       "      <td>1.121325</td>\n",
       "    </tr>\n",
       "    <tr>\n",
       "      <th>не жалеть</th>\n",
       "      <td>1.058836</td>\n",
       "    </tr>\n",
       "    <tr>\n",
       "      <th>отлично</th>\n",
       "      <td>1.031143</td>\n",
       "    </tr>\n",
       "    <tr>\n",
       "      <th>советовать</th>\n",
       "      <td>1.024109</td>\n",
       "    </tr>\n",
       "    <tr>\n",
       "      <th>вполне</th>\n",
       "      <td>0.971739</td>\n",
       "    </tr>\n",
       "    <tr>\n",
       "      <th>неплохой</th>\n",
       "      <td>0.971458</td>\n",
       "    </tr>\n",
       "    <tr>\n",
       "      <th>очень довольный</th>\n",
       "      <td>0.959320</td>\n",
       "    </tr>\n",
       "    <tr>\n",
       "      <th>супер</th>\n",
       "      <td>0.956114</td>\n",
       "    </tr>\n",
       "    <tr>\n",
       "      <th>очень</th>\n",
       "      <td>0.903263</td>\n",
       "    </tr>\n",
       "    <tr>\n",
       "      <th>не стоить</th>\n",
       "      <td>0.860015</td>\n",
       "    </tr>\n",
       "    <tr>\n",
       "      <th>ремонт</th>\n",
       "      <td>0.852982</td>\n",
       "    </tr>\n",
       "    <tr>\n",
       "      <th>сдать</th>\n",
       "      <td>0.846077</td>\n",
       "    </tr>\n",
       "    <tr>\n",
       "      <th>удобный</th>\n",
       "      <td>0.786439</td>\n",
       "    </tr>\n",
       "    <tr>\n",
       "      <th>нравиться</th>\n",
       "      <td>0.784202</td>\n",
       "    </tr>\n",
       "    <tr>\n",
       "      <th>вернуть</th>\n",
       "      <td>0.779521</td>\n",
       "    </tr>\n",
       "    <tr>\n",
       "      <th>всё</th>\n",
       "      <td>0.700747</td>\n",
       "    </tr>\n",
       "    <tr>\n",
       "      <th>не довольный</th>\n",
       "      <td>0.666580</td>\n",
       "    </tr>\n",
       "    <tr>\n",
       "      <th>отвратительный</th>\n",
       "      <td>0.652401</td>\n",
       "    </tr>\n",
       "    <tr>\n",
       "      <th>разочарование</th>\n",
       "      <td>0.644027</td>\n",
       "    </tr>\n",
       "    <tr>\n",
       "      <th>месяц</th>\n",
       "      <td>0.614863</td>\n",
       "    </tr>\n",
       "    <tr>\n",
       "      <th>невозможно</th>\n",
       "      <td>0.596752</td>\n",
       "    </tr>\n",
       "    <tr>\n",
       "      <th>рука</th>\n",
       "      <td>0.594567</td>\n",
       "    </tr>\n",
       "    <tr>\n",
       "      <th>не купить</th>\n",
       "      <td>0.589684</td>\n",
       "    </tr>\n",
       "    <tr>\n",
       "      <th>хватать</th>\n",
       "      <td>0.576257</td>\n",
       "    </tr>\n",
       "    <tr>\n",
       "      <th>очень хороший</th>\n",
       "      <td>0.555002</td>\n",
       "    </tr>\n",
       "    <tr>\n",
       "      <th>нерв</th>\n",
       "      <td>0.549103</td>\n",
       "    </tr>\n",
       "    <tr>\n",
       "      <th>принцип</th>\n",
       "      <td>0.507387</td>\n",
       "    </tr>\n",
       "    <tr>\n",
       "      <th>удобно</th>\n",
       "      <td>0.497132</td>\n",
       "    </tr>\n",
       "  </tbody>\n",
       "</table>\n",
       "</div>"
      ],
      "text/plain": [
       "                       imp\n",
       "отличный          5.418661\n",
       "не советовать     4.709274\n",
       "довольный         4.315095\n",
       "целое             3.077842\n",
       "не рекомендовать  2.684466\n",
       "не пожалеть       2.646542\n",
       "не покупать       1.646659\n",
       "рекомендовать     1.495077\n",
       "хороший           1.438381\n",
       "разочаровать      1.402892\n",
       "!                 1.381851\n",
       "ужасный           1.263602\n",
       "не брать          1.121325\n",
       "не жалеть         1.058836\n",
       "отлично           1.031143\n",
       "советовать        1.024109\n",
       "вполне            0.971739\n",
       "неплохой          0.971458\n",
       "очень довольный   0.959320\n",
       "супер             0.956114\n",
       "очень             0.903263\n",
       "не стоить         0.860015\n",
       "ремонт            0.852982\n",
       "сдать             0.846077\n",
       "удобный           0.786439\n",
       "нравиться         0.784202\n",
       "вернуть           0.779521\n",
       "всё               0.700747\n",
       "не довольный      0.666580\n",
       "отвратительный    0.652401\n",
       "разочарование     0.644027\n",
       "месяц             0.614863\n",
       "невозможно        0.596752\n",
       "рука              0.594567\n",
       "не купить         0.589684\n",
       "хватать           0.576257\n",
       "очень хороший     0.555002\n",
       "нерв              0.549103\n",
       "принцип           0.507387\n",
       "удобно            0.497132"
      ]
     },
     "execution_count": 227,
     "metadata": {},
     "output_type": "execute_result"
    }
   ],
   "source": [
    "cat_imp[cat_imp['imp']> 0.1].head(40)"
   ]
  },
  {
   "cell_type": "markdown",
   "metadata": {},
   "source": [
    "Сколько у нас признаков с важностью > 0.1? 180 0.01? -607 0.001? 871 0.0001? -896 0.00001? 898. Больше 0.000000000001 - опять 898. В принципе больше нуля кэтбуст счёл только 898 признаков. Интересно. Это какое облегчение модели будет!!! Проверим только эти 898"
   ]
  },
  {
   "cell_type": "code",
   "execution_count": 228,
   "metadata": {
    "scrolled": true
   },
   "outputs": [
    {
     "data": {
      "text/plain": [
       "911"
      ]
     },
     "execution_count": 228,
     "metadata": {},
     "output_type": "execute_result"
    }
   ],
   "source": [
    "cat_imp[cat_imp['imp']> 0].shape[0]"
   ]
  },
  {
   "cell_type": "code",
   "execution_count": 229,
   "metadata": {},
   "outputs": [
    {
     "data": {
      "text/plain": [
       "Text(0.5, 1.0, 'Важность признаков Catboost ')"
      ]
     },
     "execution_count": 229,
     "metadata": {},
     "output_type": "execute_result"
    },
    {
     "data": {
      "image/png": "[encoded data removed]",
      "text/plain": [
       "<Figure size 1600x800 with 1 Axes>"
      ]
     },
     "metadata": {},
     "output_type": "display_data"
    }
   ],
   "source": [
    "\n",
    "cat_imp[cat_imp['imp']> 0.3].plot.bar(figsize=(16,8)).set_title(\"Важность признаков Catboost \")"
   ]
  },
  {
   "cell_type": "code",
   "execution_count": 230,
   "metadata": {},
   "outputs": [
    {
     "data": {
      "text/html": [
       "<div>\n",
       "<style scoped>\n",
       "    .dataframe tbody tr th:only-of-type {\n",
       "        vertical-align: middle;\n",
       "    }\n",
       "\n",
       "    .dataframe tbody tr th {\n",
       "        vertical-align: top;\n",
       "    }\n",
       "\n",
       "    .dataframe thead th {\n",
       "        text-align: right;\n",
       "    }\n",
       "</style>\n",
       "<table border=\"1\" class=\"dataframe\">\n",
       "  <thead>\n",
       "    <tr style=\"text-align: right;\">\n",
       "      <th></th>\n",
       "      <th>index</th>\n",
       "      <th>imp</th>\n",
       "    </tr>\n",
       "  </thead>\n",
       "  <tbody>\n",
       "    <tr>\n",
       "      <th>0</th>\n",
       "      <td>отличный</td>\n",
       "      <td>5.418661</td>\n",
       "    </tr>\n",
       "    <tr>\n",
       "      <th>1</th>\n",
       "      <td>не советовать</td>\n",
       "      <td>4.709274</td>\n",
       "    </tr>\n",
       "    <tr>\n",
       "      <th>2</th>\n",
       "      <td>довольный</td>\n",
       "      <td>4.315095</td>\n",
       "    </tr>\n",
       "    <tr>\n",
       "      <th>3</th>\n",
       "      <td>целое</td>\n",
       "      <td>3.077842</td>\n",
       "    </tr>\n",
       "    <tr>\n",
       "      <th>4</th>\n",
       "      <td>не рекомендовать</td>\n",
       "      <td>2.684466</td>\n",
       "    </tr>\n",
       "    <tr>\n",
       "      <th>...</th>\n",
       "      <td>...</td>\n",
       "      <td>...</td>\n",
       "    </tr>\n",
       "    <tr>\n",
       "      <th>1292509</th>\n",
       "      <td>иконка стартовый</td>\n",
       "      <td>0.000000</td>\n",
       "    </tr>\n",
       "    <tr>\n",
       "      <th>1292510</th>\n",
       "      <td>иконка стандартный</td>\n",
       "      <td>0.000000</td>\n",
       "    </tr>\n",
       "    <tr>\n",
       "      <th>1292511</th>\n",
       "      <td>иконка ставить</td>\n",
       "      <td>0.000000</td>\n",
       "    </tr>\n",
       "    <tr>\n",
       "      <th>1292512</th>\n",
       "      <td>иконка софт</td>\n",
       "      <td>0.000000</td>\n",
       "    </tr>\n",
       "    <tr>\n",
       "      <th>1292513</th>\n",
       "      <td>ёё мамаша</td>\n",
       "      <td>0.000000</td>\n",
       "    </tr>\n",
       "  </tbody>\n",
       "</table>\n",
       "<p>1292514 rows × 2 columns</p>\n",
       "</div>"
      ],
      "text/plain": [
       "                      index       imp\n",
       "0                  отличный  5.418661\n",
       "1             не советовать  4.709274\n",
       "2                 довольный  4.315095\n",
       "3                     целое  3.077842\n",
       "4          не рекомендовать  2.684466\n",
       "...                     ...       ...\n",
       "1292509    иконка стартовый  0.000000\n",
       "1292510  иконка стандартный  0.000000\n",
       "1292511      иконка ставить  0.000000\n",
       "1292512         иконка софт  0.000000\n",
       "1292513           ёё мамаша  0.000000\n",
       "\n",
       "[1292514 rows x 2 columns]"
      ]
     },
     "execution_count": 230,
     "metadata": {},
     "output_type": "execute_result"
    }
   ],
   "source": [
    "cat_imp = cat_imp.reset_index()\n",
    "cat_imp"
   ]
  },
  {
   "cell_type": "code",
   "execution_count": 231,
   "metadata": {},
   "outputs": [
    {
     "data": {
      "text/plain": [
       "911"
      ]
     },
     "execution_count": 231,
     "metadata": {},
     "output_type": "execute_result"
    }
   ],
   "source": [
    "cat_imp_list = set(cat_imp[cat_imp['imp']> 0]['index'].tolist())\n",
    "len(cat_imp_list)"
   ]
  },
  {
   "cell_type": "code",
   "execution_count": 232,
   "metadata": {
    "scrolled": true
   },
   "outputs": [
    {
     "data": {
      "text/plain": [
       "{'!',\n",
       " '128',\n",
       " '2 балл',\n",
       " '2 год',\n",
       " '2 звезда',\n",
       " '2010',\n",
       " '23 000',\n",
       " '3 балл',\n",
       " '3 звезда',\n",
       " '3000',\n",
       " '32',\n",
       " '4',\n",
       " '4 балл',\n",
       " '4 год',\n",
       " '4 звезда',\n",
       " '4 поставить',\n",
       " '4ку',\n",
       " '5',\n",
       " '5 5',\n",
       " '64',\n",
       " '8',\n",
       " 'android',\n",
       " 'bt',\n",
       " 'fly',\n",
       " 'galaxy',\n",
       " 'hd',\n",
       " 'huawei',\n",
       " 'iphone',\n",
       " 'lte',\n",
       " 'mi',\n",
       " 'microsd',\n",
       " 'nfc',\n",
       " 'nokia',\n",
       " 'note',\n",
       " 'pro',\n",
       " 'ru',\n",
       " 'shell',\n",
       " 'windows !',\n",
       " 'абсолютно',\n",
       " 'айфон',\n",
       " 'аккума !',\n",
       " 'акция',\n",
       " 'али',\n",
       " 'аналог',\n",
       " 'аппарат 4',\n",
       " 'аппарат иметься',\n",
       " 'аппарат неплохой',\n",
       " 'аппарат около',\n",
       " 'аппарат хороший',\n",
       " 'б',\n",
       " 'б не',\n",
       " 'барахло',\n",
       " 'батарея',\n",
       " 'беда',\n",
       " 'безумно',\n",
       " 'бесить',\n",
       " 'бесплатный',\n",
       " 'бесполезный',\n",
       " 'блокировка',\n",
       " 'более довольный',\n",
       " 'более качественный',\n",
       " 'более менее',\n",
       " 'большой не',\n",
       " 'большой никогда',\n",
       " 'бомба',\n",
       " 'бояться',\n",
       " 'брак',\n",
       " 'браковать',\n",
       " 'брать',\n",
       " 'брать не',\n",
       " 'бренд',\n",
       " 'быстро',\n",
       " 'быстрый',\n",
       " 'бюджетный модель',\n",
       " 'бюджетный смартфон',\n",
       " 'вариант',\n",
       " 'великолепный',\n",
       " 'вернуть',\n",
       " 'версия',\n",
       " 'весь',\n",
       " 'весь рекомендовать',\n",
       " 'весь советовать',\n",
       " 'ветер',\n",
       " 'взгляд',\n",
       " 'вздумать',\n",
       " 'взять',\n",
       " 'видимо',\n",
       " 'включаться',\n",
       " 'включиться',\n",
       " 'вкус',\n",
       " 'влюбиться',\n",
       " 'вне конкуренция',\n",
       " 'вода',\n",
       " 'возврат',\n",
       " 'возвращать',\n",
       " 'воздержаться',\n",
       " 'возможно',\n",
       " 'вообще покупать',\n",
       " 'вообщий',\n",
       " 'вообщий смартфон',\n",
       " 'восторг',\n",
       " 'восторг !',\n",
       " 'впечатление',\n",
       " 'вполне',\n",
       " 'вполне довольный',\n",
       " 'впринцип',\n",
       " 'впринципеть',\n",
       " 'враг',\n",
       " 'время !',\n",
       " 'время использование',\n",
       " 'вроде',\n",
       " 'всякий',\n",
       " 'всё',\n",
       " 'всё 100',\n",
       " 'всё впечатление',\n",
       " 'всё достоинство',\n",
       " 'всё нравиться',\n",
       " 'всё нужно',\n",
       " 'всё ожидание',\n",
       " 'всё положительный',\n",
       " 'всё портить',\n",
       " 'всё работать',\n",
       " 'всё равно',\n",
       " 'всё таки',\n",
       " 'всё частый',\n",
       " 'вцелое',\n",
       " 'выбирать',\n",
       " 'выбор',\n",
       " 'выбросить',\n",
       " 'выбросить деньга',\n",
       " 'вывод',\n",
       " 'выглядеть',\n",
       " 'выглядеть достойно',\n",
       " 'выдающийся',\n",
       " 'вызов',\n",
       " 'выкинуть',\n",
       " 'выключаться',\n",
       " 'выключиться',\n",
       " 'вылетать',\n",
       " 'выпускать',\n",
       " 'высокий',\n",
       " 'высота',\n",
       " 'выше 3',\n",
       " 'г',\n",
       " 'гарантийный',\n",
       " 'гарантия',\n",
       " 'гб',\n",
       " 'главное',\n",
       " 'главный недостаток',\n",
       " 'глюк',\n",
       " 'глючить',\n",
       " 'год',\n",
       " 'год сначала',\n",
       " 'год целое',\n",
       " 'годиться',\n",
       " 'гораздо долгий',\n",
       " 'громкость',\n",
       " 'давно',\n",
       " 'давность',\n",
       " 'дама',\n",
       " 'данный момент',\n",
       " 'даром не',\n",
       " 'двойка',\n",
       " 'двоякий',\n",
       " 'действительно',\n",
       " 'день',\n",
       " 'деньга',\n",
       " 'деньга купить',\n",
       " 'деньга очень',\n",
       " 'держать',\n",
       " 'держать телефон',\n",
       " 'дефект',\n",
       " 'дешёвый',\n",
       " 'дико',\n",
       " 'добротный',\n",
       " 'довольный',\n",
       " 'довольный 4',\n",
       " 'довольный всё',\n",
       " 'довольный покупка',\n",
       " 'дозвониться',\n",
       " 'долго',\n",
       " 'должный',\n",
       " 'доработать',\n",
       " 'доработка',\n",
       " 'досадный',\n",
       " 'доставка',\n",
       " 'достойно',\n",
       " 'достойный',\n",
       " 'дотягивать',\n",
       " 'друг',\n",
       " 'дрянь',\n",
       " 'дюйм',\n",
       " 'единственный',\n",
       " 'единственный плюс',\n",
       " 'ещё',\n",
       " 'жалеть',\n",
       " 'жаловаться',\n",
       " 'ждать',\n",
       " 'желать хороший',\n",
       " 'живой',\n",
       " 'жить свой',\n",
       " 'жуткий',\n",
       " 'жутко',\n",
       " 'завтра',\n",
       " 'завысить',\n",
       " 'задний',\n",
       " 'задуматься',\n",
       " 'задумка',\n",
       " 'заказ',\n",
       " 'заказать',\n",
       " 'заказывать',\n",
       " 'закрыть',\n",
       " 'замена',\n",
       " 'заметно плохой',\n",
       " 'замечательный',\n",
       " 'запас',\n",
       " 'заявить',\n",
       " 'звезда',\n",
       " 'звонилка',\n",
       " 'звонить',\n",
       " 'звонок',\n",
       " 'звук',\n",
       " 'зеркалка',\n",
       " 'знать',\n",
       " 'зря',\n",
       " 'игра',\n",
       " 'идеально',\n",
       " 'идеальный',\n",
       " 'избавиться',\n",
       " 'иногда',\n",
       " 'исключение',\n",
       " 'использование',\n",
       " 'испортить',\n",
       " 'исправить',\n",
       " 'исправление',\n",
       " 'итог',\n",
       " 'камера',\n",
       " 'категорически не',\n",
       " 'категория',\n",
       " 'качественно',\n",
       " 'качественный',\n",
       " 'кирпич',\n",
       " 'клавиша',\n",
       " 'классный',\n",
       " 'кнопка',\n",
       " 'кой',\n",
       " 'кой случай',\n",
       " 'компания',\n",
       " 'комплект',\n",
       " 'конкурент',\n",
       " 'конкуренция',\n",
       " 'контакт',\n",
       " 'короче',\n",
       " 'косяк',\n",
       " 'который андроид',\n",
       " 'который это',\n",
       " 'кошмар',\n",
       " 'кошмарный',\n",
       " 'крайне',\n",
       " 'крайне не',\n",
       " 'красивый виджет',\n",
       " 'красный цена',\n",
       " 'крепкий',\n",
       " 'кроме',\n",
       " 'крутой',\n",
       " 'крышка',\n",
       " 'купить',\n",
       " 'купить нормальный',\n",
       " 'купить хороший',\n",
       " 'купиться',\n",
       " 'кусок',\n",
       " 'ладный',\n",
       " 'легко',\n",
       " 'летать',\n",
       " 'лихва',\n",
       " 'лопнуть',\n",
       " 'любитель',\n",
       " 'любой',\n",
       " 'магазин подарок',\n",
       " 'максимум',\n",
       " 'мало',\n",
       " 'маловатый',\n",
       " 'марка',\n",
       " 'массовый',\n",
       " 'математика',\n",
       " 'мелкий недочёт',\n",
       " 'менее',\n",
       " 'меню',\n",
       " 'менять не',\n",
       " 'месяц',\n",
       " 'милиампер',\n",
       " 'минус',\n",
       " 'многие',\n",
       " 'модель',\n",
       " 'молодец',\n",
       " 'мочь',\n",
       " 'мощный',\n",
       " 'музыка',\n",
       " 'мучение',\n",
       " 'наверное',\n",
       " 'навигатор 2',\n",
       " 'надежда',\n",
       " 'надеяться',\n",
       " 'надёжный',\n",
       " 'нажатие',\n",
       " 'найти',\n",
       " 'напрягать',\n",
       " 'нарадоваться',\n",
       " 'нарекание',\n",
       " 'настоящий',\n",
       " 'настроить',\n",
       " 'наступление',\n",
       " 'наткнуться',\n",
       " 'наушник',\n",
       " 'начало телефон',\n",
       " 'начать',\n",
       " 'начаться',\n",
       " 'начинать',\n",
       " 'не батарея',\n",
       " 'не более',\n",
       " 'не брать',\n",
       " 'не важный',\n",
       " 'не вестись',\n",
       " 'не вздумать',\n",
       " 'не взять',\n",
       " 'не включиться',\n",
       " 'не возможно',\n",
       " 'не восторг',\n",
       " 'не выполнять',\n",
       " 'не глючить',\n",
       " 'не греться',\n",
       " 'не держать',\n",
       " 'не довольный',\n",
       " 'не должный',\n",
       " 'не жалеть',\n",
       " 'не задумываться',\n",
       " 'не заметить',\n",
       " 'не камера',\n",
       " 'не купить',\n",
       " 'не найти',\n",
       " 'не нарадоваться',\n",
       " 'не нужно',\n",
       " 'не обнаружить',\n",
       " 'не оправдать',\n",
       " 'не оправдывать',\n",
       " 'не отличный',\n",
       " 'не очень',\n",
       " 'не ошибиться',\n",
       " 'не плохой',\n",
       " 'не повезти',\n",
       " 'не подвести',\n",
       " 'не подводить',\n",
       " 'не подходить',\n",
       " 'не пожалеть',\n",
       " 'не покупать',\n",
       " 'не получиться',\n",
       " 'не помогать',\n",
       " 'не помочь',\n",
       " 'не понравиться',\n",
       " 'не понятно',\n",
       " 'не посоветовать',\n",
       " 'не приятно',\n",
       " 'не проблема',\n",
       " 'не прогадать',\n",
       " 'не работать',\n",
       " 'не разобраться',\n",
       " 'не разочаровать',\n",
       " 'не разочароваться',\n",
       " 'не реагировать',\n",
       " 'не рекомендовать',\n",
       " 'не ронять',\n",
       " 'не самый',\n",
       " 'не сказать',\n",
       " 'не слушайте',\n",
       " 'не слышный',\n",
       " 'не собираться',\n",
       " 'не советовать',\n",
       " 'не соответствовать',\n",
       " 'не стать',\n",
       " 'не стоить',\n",
       " 'не телефон',\n",
       " 'не тормозить',\n",
       " 'не тратить',\n",
       " 'не тупить',\n",
       " 'не тянуть',\n",
       " 'не удачный',\n",
       " 'не удобно',\n",
       " 'не удобный',\n",
       " 'не уступать',\n",
       " 'не хватать',\n",
       " 'не хороший',\n",
       " 'не цеплять',\n",
       " 'небольшой',\n",
       " 'невозможно',\n",
       " 'невозможность',\n",
       " 'недавно',\n",
       " 'недовольный',\n",
       " 'недоработать',\n",
       " 'недоработка',\n",
       " 'недоразумение',\n",
       " 'недостаток',\n",
       " 'недостаток не',\n",
       " 'недостаток телефон',\n",
       " 'недотягивать',\n",
       " 'недочёт',\n",
       " 'незначительный',\n",
       " 'некоторый',\n",
       " 'нельзя',\n",
       " 'немного',\n",
       " 'ненадёжный',\n",
       " 'неоднозначный',\n",
       " 'неплохо',\n",
       " 'неплохой',\n",
       " 'неплохой звук',\n",
       " 'неплохой камера',\n",
       " 'неплохой телефон',\n",
       " 'непонятно',\n",
       " 'неприятно',\n",
       " 'неприятный',\n",
       " 'нерв',\n",
       " 'несмотря',\n",
       " 'несмотря всё',\n",
       " 'несмотря недостаток',\n",
       " 'нести',\n",
       " 'неудачный',\n",
       " 'неудачный модель',\n",
       " 'неудобно',\n",
       " 'неудобный',\n",
       " 'нибыть',\n",
       " 'нижний',\n",
       " 'низкий качество',\n",
       " 'никакой',\n",
       " 'никакой глюк',\n",
       " 'никакой проблема',\n",
       " 'никогда',\n",
       " 'никогда большой',\n",
       " 'никто',\n",
       " 'никто не',\n",
       " 'ничего особенный',\n",
       " 'нокиа',\n",
       " 'нокия',\n",
       " 'норма',\n",
       " 'норма !',\n",
       " 'нормально',\n",
       " 'нормальный',\n",
       " 'нормальный аппарат',\n",
       " 'нормальный телефон',\n",
       " 'нравиться',\n",
       " 'нужный',\n",
       " 'обзор',\n",
       " 'обидно',\n",
       " 'обидный',\n",
       " 'обменять',\n",
       " 'обновиться',\n",
       " 'обожать',\n",
       " 'обратно',\n",
       " 'обходить сторона',\n",
       " 'общий',\n",
       " 'общий пользоваться',\n",
       " 'общий свой',\n",
       " 'обычный',\n",
       " 'обычный модель',\n",
       " 'обычный телефон',\n",
       " 'обязательно наклеить',\n",
       " 'огонь',\n",
       " 'огорчать',\n",
       " 'огорчить',\n",
       " 'огромный минус',\n",
       " 'однако',\n",
       " 'однозначно',\n",
       " 'одноразовый',\n",
       " 'ожидание',\n",
       " 'ожидать',\n",
       " 'ожидать больший',\n",
       " 'опера',\n",
       " 'описать минус',\n",
       " 'оправдать',\n",
       " 'оптимальный',\n",
       " 'основное',\n",
       " 'особо',\n",
       " 'особо довольный',\n",
       " 'особый претензия',\n",
       " 'оставлять желать',\n",
       " 'остальной',\n",
       " 'остальной отличный',\n",
       " 'ответ',\n",
       " 'отвратительный',\n",
       " 'отвратительный модель',\n",
       " 'отвратительный телефон',\n",
       " 'отвратный',\n",
       " 'отдать',\n",
       " 'отзыв',\n",
       " 'отказать',\n",
       " 'отключаться',\n",
       " 'отлично',\n",
       " 'отличный',\n",
       " 'отличный выбор',\n",
       " 'отличный звук',\n",
       " 'отличный телефон',\n",
       " 'отменный',\n",
       " 'отпечаток',\n",
       " 'отстой',\n",
       " 'офигенный',\n",
       " 'оценка 1',\n",
       " 'оценка 2',\n",
       " 'оценка 3',\n",
       " 'оценка 4',\n",
       " 'оценка снизить',\n",
       " 'оценка хорошо',\n",
       " 'очень',\n",
       " 'очень активный',\n",
       " 'очень довольный',\n",
       " 'очень жалеть',\n",
       " 'очень жаль',\n",
       " 'очень мало',\n",
       " 'очень не',\n",
       " 'очень неплохо',\n",
       " 'очень ничего',\n",
       " 'очень нравиться',\n",
       " 'очень плохой',\n",
       " 'очень пожалеть',\n",
       " 'очень понравиться',\n",
       " 'очень разочаровать',\n",
       " 'очень расстроить',\n",
       " 'очень сильно',\n",
       " 'очень скользкий',\n",
       " 'очень слабый',\n",
       " 'очень спорный',\n",
       " 'очень тихий',\n",
       " 'очень трудно',\n",
       " 'очень удобный',\n",
       " 'очень хороший',\n",
       " 'очень хрупкий',\n",
       " 'ошибка',\n",
       " 'падать',\n",
       " 'память',\n",
       " 'первый возможность',\n",
       " 'первый год',\n",
       " 'первый месяц',\n",
       " 'первый полгода',\n",
       " 'первый последний',\n",
       " 'перезагружаться',\n",
       " 'перезагрузка',\n",
       " 'переплачивать',\n",
       " 'перестать',\n",
       " 'перечёркивать',\n",
       " 'перечёркивать всё',\n",
       " 'периодически',\n",
       " 'пиратский',\n",
       " 'писать',\n",
       " 'писать бывать',\n",
       " 'писать плохой',\n",
       " 'платить дважды',\n",
       " 'плеер',\n",
       " 'плохо',\n",
       " 'плохой',\n",
       " 'плохой телефон',\n",
       " 'плюс',\n",
       " 'плёнка',\n",
       " 'повезти',\n",
       " 'повестись',\n",
       " 'повод',\n",
       " 'подарок',\n",
       " 'подкопить',\n",
       " 'подойти',\n",
       " 'подсказать',\n",
       " 'подстава',\n",
       " 'подтупливать',\n",
       " 'подумать',\n",
       " 'подходить',\n",
       " 'подходить не',\n",
       " 'пожалеть',\n",
       " 'пожалеть купить',\n",
       " 'позволять',\n",
       " 'позвонить',\n",
       " 'позор',\n",
       " 'поискать',\n",
       " 'пойти',\n",
       " 'пока',\n",
       " 'пока устраивать',\n",
       " 'покупатель',\n",
       " 'покупать',\n",
       " 'покупать чехол',\n",
       " 'ползунок блокировка',\n",
       " 'полностью',\n",
       " 'полностью оправдать',\n",
       " 'полный',\n",
       " 'полный г',\n",
       " 'полный разочарование',\n",
       " 'положительный',\n",
       " 'положительный отзыв',\n",
       " 'положительный эмоция',\n",
       " 'пользоваться',\n",
       " 'полёт нормальный',\n",
       " 'поменять',\n",
       " 'помойка',\n",
       " 'помощь',\n",
       " 'поначалу',\n",
       " 'понести',\n",
       " 'понимать человек',\n",
       " 'понравиться',\n",
       " 'попасться',\n",
       " 'попытка',\n",
       " 'пора',\n",
       " 'порадовать',\n",
       " 'поразить',\n",
       " 'портить',\n",
       " 'портить всё',\n",
       " 'послушать',\n",
       " 'посредственный',\n",
       " 'поставить',\n",
       " 'поставить 3',\n",
       " 'поставить 4',\n",
       " 'поставить 5',\n",
       " 'постоянно',\n",
       " 'постоянно радовать',\n",
       " 'потратить',\n",
       " 'потратить деньга',\n",
       " 'потрясать',\n",
       " 'похвала',\n",
       " 'похоже',\n",
       " 'почему',\n",
       " 'почти довольный',\n",
       " 'поэтому 4',\n",
       " 'появляться',\n",
       " 'правда',\n",
       " 'превзойти',\n",
       " 'превосходный',\n",
       " 'превратиться',\n",
       " 'прекрасно',\n",
       " 'прекрасный',\n",
       " 'прекрасный аппарат',\n",
       " 'привыкать',\n",
       " 'привыкнуть',\n",
       " 'пригодный',\n",
       " 'придирка',\n",
       " 'прийтись',\n",
       " 'приложение',\n",
       " 'принцип',\n",
       " 'принцип довольный',\n",
       " 'приходиться',\n",
       " 'причина',\n",
       " 'причём',\n",
       " 'приятно',\n",
       " 'приятный',\n",
       " 'проблема',\n",
       " 'провал',\n",
       " 'продавать',\n",
       " 'продать',\n",
       " 'продукция',\n",
       " 'производитель',\n",
       " 'производительность',\n",
       " 'пропадать',\n",
       " 'просто',\n",
       " 'просто режим',\n",
       " 'противоречивый',\n",
       " 'проявляться',\n",
       " 'пятёрка',\n",
       " 'работать',\n",
       " 'рабочий',\n",
       " 'рабочий лошадка',\n",
       " 'равно довольный',\n",
       " 'рад',\n",
       " 'рада',\n",
       " 'радио',\n",
       " 'радовать',\n",
       " 'разбить стена',\n",
       " 'разговор',\n",
       " 'раздражать',\n",
       " 'раздумывать',\n",
       " 'размер',\n",
       " 'разница',\n",
       " 'разобраться',\n",
       " 'разочарование',\n",
       " 'разочаровать',\n",
       " 'разочароваться',\n",
       " 'разочаровывать',\n",
       " 'разумный деньга',\n",
       " 'расстраивать',\n",
       " 'расстроить',\n",
       " 'реализация',\n",
       " 'реально',\n",
       " 'реклама',\n",
       " 'рекомендовать',\n",
       " 'ремонт',\n",
       " 'россия',\n",
       " 'ростест',\n",
       " 'рст',\n",
       " 'рука',\n",
       " 'русский',\n",
       " 'рынок',\n",
       " 'самсунг',\n",
       " 'самый',\n",
       " 'самый плохой',\n",
       " 'самый хороший',\n",
       " 'сбалансированный',\n",
       " 'сброс',\n",
       " 'сводить',\n",
       " 'свой',\n",
       " 'свой деньга',\n",
       " 'свой недостаток',\n",
       " 'свой цена',\n",
       " 'связаться',\n",
       " 'связываться',\n",
       " 'связь',\n",
       " 'сдавать',\n",
       " 'сдать',\n",
       " 'сдохнуть',\n",
       " 'сей',\n",
       " 'сей пора',\n",
       " 'семья',\n",
       " 'сенсор',\n",
       " 'сервис',\n",
       " 'сервисный',\n",
       " 'сервисный центр',\n",
       " 'серый',\n",
       " 'сигнал',\n",
       " 'сильно',\n",
       " 'симка',\n",
       " 'сканер',\n",
       " 'скорее',\n",
       " 'скорость',\n",
       " 'скудный',\n",
       " 'скупой',\n",
       " 'слабоватый',\n",
       " 'слабый',\n",
       " 'следующий',\n",
       " 'слишком',\n",
       " 'сломаться',\n",
       " 'слон',\n",
       " 'служба поддержка',\n",
       " 'смазать',\n",
       " 'смарт',\n",
       " 'смартфон',\n",
       " 'смартфон нужный',\n",
       " 'смешанный',\n",
       " 'смириться',\n",
       " 'смотреться',\n",
       " 'смс',\n",
       " 'сначала очень',\n",
       " 'снимать',\n",
       " 'советовать',\n",
       " 'советовать !',\n",
       " 'советовать весь',\n",
       " 'современный',\n",
       " 'совсем класс',\n",
       " 'совсем неплохо',\n",
       " 'сожаление',\n",
       " 'сойти',\n",
       " 'сомневаться',\n",
       " 'сомнение',\n",
       " 'соня',\n",
       " 'соотношение',\n",
       " 'софт',\n",
       " 'соц',\n",
       " 'соц сеть',\n",
       " 'спасибо',\n",
       " 'сплошной',\n",
       " 'спокойно',\n",
       " 'спорный',\n",
       " 'среди',\n",
       " 'средненький',\n",
       " 'средний',\n",
       " 'средний телефон',\n",
       " 'ставить',\n",
       " 'ставить 2',\n",
       " 'ставить 3',\n",
       " 'ставить 4',\n",
       " 'ставить 5',\n",
       " 'ставить тройка',\n",
       " 'стать',\n",
       " 'стать очень',\n",
       " 'стена',\n",
       " 'сторона',\n",
       " 'странный',\n",
       " 'супер',\n",
       " 'супер наворотить',\n",
       " 'суперский',\n",
       " 'сутки',\n",
       " 'сц',\n",
       " 'съёмка',\n",
       " 'съёмка видео',\n",
       " 'сырой',\n",
       " 'таки',\n",
       " 'таки большой',\n",
       " 'тачскрин',\n",
       " 'твёрдый 3',\n",
       " 'твёрдый 4',\n",
       " 'твёрдый 5',\n",
       " 'твёрдый тройка',\n",
       " 'твёрдый четвёрка',\n",
       " 'телефон !',\n",
       " 'телефон вполне',\n",
       " 'телефон довольный',\n",
       " 'телефон задний',\n",
       " 'телефон который',\n",
       " 'телефон не',\n",
       " 'телефон неплохой',\n",
       " 'телефон нормальный',\n",
       " 'телефон нравиться',\n",
       " 'телефон понравиться',\n",
       " 'телефон просто',\n",
       " 'телефон уронить',\n",
       " 'телефон устраивать',\n",
       " 'телефон хороший',\n",
       " 'телефончик',\n",
       " 'терпение',\n",
       " 'терпимо',\n",
       " 'терять',\n",
       " 'техподдержка',\n",
       " 'типичный',\n",
       " 'толк',\n",
       " 'топ',\n",
       " 'топовый',\n",
       " 'тормозить',\n",
       " 'требовать',\n",
       " 'трещина',\n",
       " 'троечка',\n",
       " 'тройка',\n",
       " 'тупо',\n",
       " 'тупой',\n",
       " 'тёмный',\n",
       " 'убогий',\n",
       " 'убожество',\n",
       " 'убрать',\n",
       " 'увидеть',\n",
       " 'увы',\n",
       " 'удачный',\n",
       " 'удачный модель',\n",
       " 'удивить',\n",
       " 'удивление',\n",
       " 'удивлённый',\n",
       " 'удобно',\n",
       " 'удобный',\n",
       " 'удовольствие',\n",
       " 'ужас',\n",
       " 'ужасно',\n",
       " 'ужасный',\n",
       " 'ужасный модель',\n",
       " 'ужасный телефон',\n",
       " 'умереть',\n",
       " 'уметь',\n",
       " 'упасти',\n",
       " 'устраивать',\n",
       " 'фигня',\n",
       " 'филипс',\n",
       " 'фильм',\n",
       " 'финансовый',\n",
       " 'фирма',\n",
       " 'фишка',\n",
       " 'флагман',\n",
       " 'функция',\n",
       " 'фуфло',\n",
       " 'характеристика',\n",
       " 'хвалёный',\n",
       " 'хватать',\n",
       " 'хлам',\n",
       " 'хороший',\n",
       " 'хороший взять',\n",
       " 'хороший добавить',\n",
       " 'хороший доплатить',\n",
       " 'хороший купить',\n",
       " 'хороший модель',\n",
       " 'хороший смартфон',\n",
       " 'хороший телефон',\n",
       " 'хорошо',\n",
       " 'хотеться больший',\n",
       " 'хотеться разбить',\n",
       " 'хотя',\n",
       " 'хрень',\n",
       " 'хрупкий',\n",
       " 'цвет',\n",
       " 'целое',\n",
       " 'целое довольный',\n",
       " 'целое не',\n",
       " 'целое хороший',\n",
       " 'цена',\n",
       " 'цена качество',\n",
       " 'цена купить',\n",
       " 'цена просто',\n",
       " 'цена телефон',\n",
       " 'центр',\n",
       " 'час !',\n",
       " 'часто',\n",
       " 'частота процессор',\n",
       " 'четвёрка',\n",
       " 'четвёрочка',\n",
       " 'четыре звезда',\n",
       " 'чехол',\n",
       " 'чисто',\n",
       " 'читать',\n",
       " 'чувство',\n",
       " 'чёткий',\n",
       " 'чётко',\n",
       " 'шикарный',\n",
       " 'шлак',\n",
       " 'шустро',\n",
       " 'шустрый',\n",
       " 'экран',\n",
       " 'экспертиза',\n",
       " 'это',\n",
       " 'это вероятно',\n",
       " 'это время',\n",
       " 'это г',\n",
       " 'это последний',\n",
       " 'это хороший',\n",
       " 'это чудо',\n",
       " 'яблоко',\n",
       " 'явно',\n",
       " 'явно не',\n",
       " 'яркий'}"
      ]
     },
     "execution_count": 232,
     "metadata": {},
     "output_type": "execute_result"
    }
   ],
   "source": [
    "cat_imp_list"
   ]
  },
  {
   "cell_type": "markdown",
   "metadata": {},
   "source": [
    "Список готов, поехали:"
   ]
  },
  {
   "cell_type": "code",
   "execution_count": 233,
   "metadata": {},
   "outputs": [],
   "source": [
    "vec_train_short = vec_train_drop[list(cat_imp_list)]\n",
    " \n",
    "vec_test_short = vec_test_drop[list(cat_imp_list)]"
   ]
  },
  {
   "cell_type": "code",
   "execution_count": 234,
   "metadata": {},
   "outputs": [
    {
     "data": {
      "application/vnd.jupyter.widget-view+json": {
       "model_id": "b2f678725c0c40f39f7858f68036f65a",
       "version_major": 2,
       "version_minor": 0
      },
      "text/plain": [
       "MetricVisualizer(layout=Layout(align_self='stretch', height='500px'))"
      ]
     },
     "metadata": {},
     "output_type": "display_data"
    },
    {
     "data": {
      "text/plain": [
       "<catboost.core.CatBoostClassifier at 0x216f073ca50>"
      ]
     },
     "execution_count": 234,
     "metadata": {},
     "output_type": "execute_result"
    }
   ],
   "source": [
    "model_cb = CatBoostClassifier(iterations=1500,\n",
    "                                depth = 5,\n",
    "                                loss_function='MultiClass',\n",
    "                                thread_count=-1, \n",
    "                                random_seed=RANDOM_STATE, \n",
    "                                verbose=0, \n",
    "                                #text_features=text_features,\n",
    "                                #task_type = \"GPU\" \n",
    "                                \n",
    ")\n",
    "\n",
    "#model_cb.fit(vec_train_drop, train_y, plot= True)\n",
    "model_cb.fit(vec_train_short, train_y, plot= True)"
   ]
  },
  {
   "cell_type": "code",
   "execution_count": 235,
   "metadata": {},
   "outputs": [
    {
     "name": "stdout",
     "output_type": "stream",
     "text": [
      "\n",
      "              precision    recall  f1-score   support\n",
      "\n",
      "           1       0.52      0.44      0.47      8652\n",
      "           2       0.41      0.15      0.22      8867\n",
      "           3       0.42      0.21      0.28     13286\n",
      "           4       0.51      0.26      0.35     26766\n",
      "           5       0.63      0.93      0.76     56888\n",
      "\n",
      "    accuracy                           0.59    114459\n",
      "   macro avg       0.50      0.40      0.42    114459\n",
      "weighted avg       0.56      0.59      0.54    114459\n",
      "\n",
      "\n",
      "Confusion Matrix\n",
      "\n",
      "[[ 3788   869   850   333  2812]\n",
      " [ 1964  1363  1390   741  3409]\n",
      " [  984   760  2750  2541  6251]\n",
      " [  310   225  1143  7000 18088]\n",
      " [  273   127   434  2986 53068]]\n",
      "AUC train:  0.8398546260519952\n",
      "AUC test:  0.8295765291156971\n",
      "Root Mean Squared Error на тестовой выборке: 1.1623924936294563\n",
      "Mean Absolute Error на тестовой выборке: 0.6429201722887672\n",
      "R2 на тестовой выборке: 0.157255424674846\n"
     ]
    }
   ],
   "source": [
    "train_pred = model_cb.predict(vec_train_short)\n",
    "proba_train = model_cb.predict_proba(vec_train_short)\n",
    " \n",
    "test_pred = model_cb.predict(vec_test_short)\n",
    "proba_test = model_cb.predict_proba(vec_test_short)\n",
    "\n",
    "confusion = confusion_matrix(test_y, test_pred)\n",
    "\n",
    "print(CR + classification_report(test_y,test_pred)) \n",
    "\n",
    "print(CR + 'Confusion Matrix\\n')\n",
    "print(confusion)\n",
    "auc_tr = roc_auc_score(train_y, proba_train, multi_class='ovr')\n",
    "auc_test = roc_auc_score(test_y,  proba_test, multi_class='ovr')\n",
    "print('AUC train: ', auc_tr)\n",
    "print('AUC test: ', auc_test)\n",
    "mse = mean_squared_error(test_y, test_pred)\n",
    "\n",
    "rmse = root_mean_squared_error(test_y, test_pred)\n",
    "mae = mean_absolute_error(test_y, test_pred)\n",
    "print(\"Root Mean Squared Error на тестовой выборке:\", rmse)\n",
    "print(\"Mean Absolute Error на тестовой выборке:\", mae)\n",
    "r2 = r2_score(test_y, test_pred)\n",
    "print(\"R2 на тестовой выборке:\", r2)"
   ]
  },
  {
   "cell_type": "code",
   "execution_count": 236,
   "metadata": {},
   "outputs": [],
   "source": [
    "vec_train_short = vec_train_short.merge(X[['len_review', 'num_exclamation_marks']], how='left', left_index=True, right_index=True)\n",
    "vec_test_short = vec_test_short.merge(X[['len_review', 'num_exclamation_marks']], how='left', left_index=True, right_index=True)"
   ]
  },
  {
   "cell_type": "code",
   "execution_count": 237,
   "metadata": {},
   "outputs": [
    {
     "data": {
      "application/vnd.jupyter.widget-view+json": {
       "model_id": "0a6d6e37ae1d4e2b97fa48af0178c817",
       "version_major": 2,
       "version_minor": 0
      },
      "text/plain": [
       "MetricVisualizer(layout=Layout(align_self='stretch', height='500px'))"
      ]
     },
     "metadata": {},
     "output_type": "display_data"
    },
    {
     "data": {
      "text/plain": [
       "<catboost.core.CatBoostClassifier at 0x216f073ca50>"
      ]
     },
     "execution_count": 237,
     "metadata": {},
     "output_type": "execute_result"
    }
   ],
   "source": [
    "model_cb.fit(vec_train_short, train_y, plot= True)"
   ]
  },
  {
   "cell_type": "code",
   "execution_count": 238,
   "metadata": {},
   "outputs": [
    {
     "name": "stdout",
     "output_type": "stream",
     "text": [
      "\n",
      "              precision    recall  f1-score   support\n",
      "\n",
      "           1       0.52      0.43      0.47      8652\n",
      "           2       0.41      0.16      0.23      8867\n",
      "           3       0.42      0.21      0.28     13286\n",
      "           4       0.52      0.26      0.35     26766\n",
      "           5       0.63      0.93      0.76     56888\n",
      "\n",
      "    accuracy                           0.59    114459\n",
      "   macro avg       0.50      0.40      0.42    114459\n",
      "weighted avg       0.56      0.59      0.54    114459\n",
      "\n",
      "\n",
      "Confusion Matrix\n",
      "\n",
      "[[ 3761   899   861   332  2799]\n",
      " [ 1927  1420  1414   726  3380]\n",
      " [ 1002   735  2756  2522  6271]\n",
      " [  306   243  1141  6959 18117]\n",
      " [  290   127   443  2953 53075]]\n",
      "AUC train:  0.8397291947464559\n",
      "AUC test:  0.8292720540608036\n",
      "Root Mean Squared Error на тестовой выборке: 1.1622759869782455\n",
      "Mean Absolute Error на тестовой выборке: 0.6429463825474624\n",
      "R2 на тестовой выборке: 0.15742435286093537\n"
     ]
    }
   ],
   "source": [
    "train_pred = model_cb.predict(vec_train_short)\n",
    "proba_train = model_cb.predict_proba(vec_train_short)\n",
    " \n",
    "test_pred = model_cb.predict(vec_test_short)\n",
    "proba_test = model_cb.predict_proba(vec_test_short)\n",
    "\n",
    "confusion = confusion_matrix(test_y, test_pred)\n",
    "\n",
    "print(CR + classification_report(test_y,test_pred)) \n",
    "\n",
    "print(CR + 'Confusion Matrix\\n')\n",
    "print(confusion)\n",
    "auc_tr = roc_auc_score(train_y, proba_train, multi_class='ovr')\n",
    "auc_test = roc_auc_score(test_y,  proba_test, multi_class='ovr')\n",
    "print('AUC train: ', auc_tr)\n",
    "print('AUC test: ', auc_test)\n",
    "mse = mean_squared_error(test_y, test_pred)\n",
    "\n",
    "rmse = root_mean_squared_error(test_y, test_pred)\n",
    "mae = mean_absolute_error(test_y, test_pred)\n",
    "print(\"Root Mean Squared Error на тестовой выборке:\", rmse)\n",
    "print(\"Mean Absolute Error на тестовой выборке:\", mae)\n",
    "r2 = r2_score(test_y, test_pred)\n",
    "print(\"R2 на тестовой выборке:\", r2)"
   ]
  },
  {
   "cell_type": "code",
   "execution_count": 239,
   "metadata": {},
   "outputs": [
    {
     "data": {
      "image/png": "[encoded data removed]",
      "text/plain": [
       "<Figure size 1600x800 with 1 Axes>"
      ]
     },
     "metadata": {},
     "output_type": "display_data"
    }
   ],
   "source": [
    "cat_imp = pd.DataFrame(model_cb.feature_importances_, vec_train_short.columns)\n",
    "cat_imp.columns = ['imp']\n",
    "cat_imp = cat_imp.sort_values(by = 'imp', ascending = False)\n",
    "cat_imp.shape[0]\n",
    "cat_imp[cat_imp['imp']> 0.4].plot.bar(figsize=(16,8)).set_title(\"Важность признаков Catboost \")\n",
    "#plt.xticks(rotation = 45)\n",
    "plt.show()"
   ]
  },
  {
   "cell_type": "markdown",
   "metadata": {},
   "source": [
    "Лучший скор получен с моделью\n",
    "```\n",
    "CatBoostClassifier\n",
    "    (iterations=1689,\n",
    "    depth = 6,                                \n",
    "    loss_function='MultiClass',\n",
    "    thread_count=-1, \n",
    "    random_seed=RANDOM_STATE, \n",
    "    verbose=0, \n",
    "    text_features=text_features,\n",
    "    task_type = \"GPU\" \n",
    "                                \n",
    ")\n",
    "Метрики и матрица:\n",
    "\n",
    "              precision    recall  f1-score   support\n",
    "\n",
    "           1       0.58      0.62      0.60      8652\n",
    "           2       0.56      0.37      0.45      8867\n",
    "           3       0.52      0.43      0.47     13286\n",
    "           4       0.58      0.42      0.49     26766\n",
    "           5       0.74      0.89      0.81     56888\n",
    "\n",
    "    accuracy                           0.67    114459\n",
    "   macro avg       0.60      0.55      0.56    114459\n",
    "weighted avg       0.65      0.67      0.65    114459\n",
    "\n",
    "\n",
    "Confusion Matrix\n",
    "\n",
    "[[ 5371   845   876   380  1180]\n",
    " [ 1842  3294  1503   829  1399]\n",
    " [ 1127   967  5647  2739  2806]\n",
    " [  438   481  1876 11371 12600]\n",
    " [  493   304   906  4383 50802]]\n",
    " \n",
    "AUC ROC train:  0.9201284539975175\n",
    "AUC ROC test:  0.8829963829187928\n",
    "\n",
    "Root Mean Squared Error на тестовой выборке: 0.9546455721050378\n",
    "Mean Absolute Error на тестовой выборке: 0.48104561458688266\n",
    "R2 на тестовой выборке: 0.4315730016985395\n",
    "```\n",
    "Метрики получены на тексте, токенизированном и лемматизированном пайморфом. Это лучший вариант, в том числе в сравнении с векторизацией.\n",
    "\n",
    "Конец первой части, во второй части - подборка нейронных сетей."
   ]
  }
 ],
 "metadata": {
  "celltoolbar": "Slideshow",
  "colab": {
   "name": "nlp_intro_1.ipynb",
   "provenance": []
  },
  "kernelspec": {
   "display_name": "Python 3 (ipykernel)",
   "language": "python",
   "name": "python3"
  },
  "language_info": {
   "codemirror_mode": {
    "name": "ipython",
    "version": 3
   },
   "file_extension": ".py",
   "mimetype": "text/x-python",
   "name": "python",
   "nbconvert_exporter": "python",
   "pygments_lexer": "ipython3",
   "version": "3.11.9"
  },
  "toc": {
   "base_numbering": 1,
   "nav_menu": {
    "height": "482px",
    "width": "399.205px"
   },
   "number_sections": true,
   "sideBar": true,
   "skip_h1_title": false,
   "title_cell": "Table of Contents",
   "title_sidebar": "Contents",
   "toc_cell": false,
   "toc_position": {},
   "toc_section_display": true,
   "toc_window_display": false
  }
 },
 "nbformat": 4,
 "nbformat_minor": 4
}
