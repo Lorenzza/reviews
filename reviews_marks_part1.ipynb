{
 "cells": [
  {
   "cell_type": "markdown",
   "metadata": {
    "id": "EixpmwQ5C5LL"
   },
   "source": [
    "# Обработка отзывов о мобильных телефонах"
   ]
  },
  {
   "cell_type": "markdown",
   "metadata": {
    "id": "Aor7-W-9C5LQ"
   },
   "source": [
    "Дано: датасет с русскоязычными отзывами о мобильных телефонах с выставленным рейтингом от 1 до 5.\n",
    "Задача – обучить любую модель регрессии (или классификации, если решите таким путём пойти) из пакетов scikit, XGBoost, LightGBM, CatBoost.\n",
    "Необходимая метрика:\n",
    "1.\tСо звёздочкой (дополнительный балл) – MAE <= 0.5\n",
    "2.\tМинимальное допустимое значение – МАЕ <= 1.0\n"
   ]
  },
  {
   "cell_type": "markdown",
   "metadata": {
    "id": "vNRlBYD7C5LR"
   },
   "source": [
    "# Предварительная обработка текстов"
   ]
  },
  {
   "cell_type": "markdown",
   "metadata": {},
   "source": [
    "## Установка библиотек"
   ]
  },
  {
   "cell_type": "code",
   "execution_count": 184,
   "metadata": {},
   "outputs": [
    {
     "name": "stdout",
     "output_type": "stream",
     "text": [
      "Collecting transformers\n",
      "  Downloading transformers-4.44.0-py3-none-any.whl.metadata (43 kB)\n",
      "     ---------------------------------------- 0.0/43.7 kB ? eta -:--:--\n",
      "     ----------------- -------------------- 20.5/43.7 kB 320.0 kB/s eta 0:00:01\n",
      "     -------------------------------------- 43.7/43.7 kB 423.0 kB/s eta 0:00:00\n",
      "Requirement already satisfied: filelock in c:\\users\\term\\anaconda3\\envs\\nlpenv\\lib\\site-packages (from transformers) (3.13.1)\n",
      "Collecting huggingface-hub<1.0,>=0.23.2 (from transformers)\n",
      "  Downloading huggingface_hub-0.24.5-py3-none-any.whl.metadata (13 kB)\n",
      "Requirement already satisfied: numpy>=1.17 in c:\\users\\term\\anaconda3\\envs\\nlpenv\\lib\\site-packages (from transformers) (1.23.5)\n",
      "Requirement already satisfied: packaging>=20.0 in c:\\users\\term\\anaconda3\\envs\\nlpenv\\lib\\site-packages (from transformers) (24.1)\n",
      "Requirement already satisfied: pyyaml>=5.1 in c:\\users\\term\\anaconda3\\envs\\nlpenv\\lib\\site-packages (from transformers) (6.0.1)\n",
      "Requirement already satisfied: regex!=2019.12.17 in c:\\users\\term\\anaconda3\\envs\\nlpenv\\lib\\site-packages (from transformers) (2023.10.3)\n",
      "Requirement already satisfied: requests in c:\\users\\term\\anaconda3\\envs\\nlpenv\\lib\\site-packages (from transformers) (2.32.3)\n",
      "Collecting safetensors>=0.4.1 (from transformers)\n",
      "  Downloading safetensors-0.4.4-cp311-none-win_amd64.whl.metadata (3.9 kB)\n",
      "Collecting tokenizers<0.20,>=0.19 (from transformers)\n",
      "  Using cached tokenizers-0.19.1-cp311-none-win_amd64.whl.metadata (6.9 kB)\n",
      "Requirement already satisfied: tqdm>=4.27 in c:\\users\\term\\anaconda3\\envs\\nlpenv\\lib\\site-packages (from transformers) (4.66.4)\n",
      "Requirement already satisfied: fsspec>=2023.5.0 in c:\\users\\term\\anaconda3\\envs\\nlpenv\\lib\\site-packages (from huggingface-hub<1.0,>=0.23.2->transformers) (2024.6.1)\n",
      "Requirement already satisfied: typing-extensions>=3.7.4.3 in c:\\users\\term\\anaconda3\\envs\\nlpenv\\lib\\site-packages (from huggingface-hub<1.0,>=0.23.2->transformers) (4.12.2)\n",
      "Requirement already satisfied: colorama in c:\\users\\term\\anaconda3\\envs\\nlpenv\\lib\\site-packages (from tqdm>=4.27->transformers) (0.4.6)\n",
      "Requirement already satisfied: charset-normalizer<4,>=2 in c:\\users\\term\\anaconda3\\envs\\nlpenv\\lib\\site-packages (from requests->transformers) (3.3.2)\n",
      "Requirement already satisfied: idna<4,>=2.5 in c:\\users\\term\\anaconda3\\envs\\nlpenv\\lib\\site-packages (from requests->transformers) (3.7)\n",
      "Requirement already satisfied: urllib3<3,>=1.21.1 in c:\\users\\term\\anaconda3\\envs\\nlpenv\\lib\\site-packages (from requests->transformers) (2.2.2)\n",
      "Requirement already satisfied: certifi>=2017.4.17 in c:\\users\\term\\anaconda3\\envs\\nlpenv\\lib\\site-packages (from requests->transformers) (2024.7.4)\n",
      "Downloading transformers-4.44.0-py3-none-any.whl (9.5 MB)\n",
      "   ---------------------------------------- 0.0/9.5 MB ? eta -:--:--\n",
      "   ---------------------------------------- 0.1/9.5 MB 1.7 MB/s eta 0:00:06\n",
      "    --------------------------------------- 0.2/9.5 MB 2.0 MB/s eta 0:00:05\n",
      "   - -------------------------------------- 0.3/9.5 MB 2.5 MB/s eta 0:00:04\n",
      "   -- ------------------------------------- 0.5/9.5 MB 3.0 MB/s eta 0:00:04\n",
      "   ---- ----------------------------------- 1.0/9.5 MB 4.6 MB/s eta 0:00:02\n",
      "   ------ --------------------------------- 1.5/9.5 MB 5.5 MB/s eta 0:00:02\n",
      "   -------- ------------------------------- 2.0/9.5 MB 6.4 MB/s eta 0:00:02\n",
      "   ---------- ----------------------------- 2.5/9.5 MB 7.1 MB/s eta 0:00:01\n",
      "   ------------- -------------------------- 3.1/9.5 MB 7.6 MB/s eta 0:00:01\n",
      "   --------------- ------------------------ 3.6/9.5 MB 8.0 MB/s eta 0:00:01\n",
      "   ----------------- ---------------------- 4.2/9.5 MB 8.4 MB/s eta 0:00:01\n",
      "   -------------------- ------------------- 4.8/9.5 MB 8.7 MB/s eta 0:00:01\n",
      "   --------------------- ------------------ 5.0/9.5 MB 8.7 MB/s eta 0:00:01\n",
      "   --------------------- ------------------ 5.0/9.5 MB 8.7 MB/s eta 0:00:01\n",
      "   --------------------- ------------------ 5.2/9.5 MB 7.5 MB/s eta 0:00:01\n",
      "   ------------------------- -------------- 6.0/9.5 MB 8.2 MB/s eta 0:00:01\n",
      "   ------------------------------- -------- 7.6/9.5 MB 9.7 MB/s eta 0:00:01\n",
      "   ---------------------------------- ----- 8.1/9.5 MB 9.6 MB/s eta 0:00:01\n",
      "   ------------------------------------ --- 8.7/9.5 MB 9.9 MB/s eta 0:00:01\n",
      "   -------------------------------------- - 9.2/9.5 MB 10.0 MB/s eta 0:00:01\n",
      "   ---------------------------------------- 9.5/9.5 MB 9.9 MB/s eta 0:00:00\n",
      "Downloading huggingface_hub-0.24.5-py3-none-any.whl (417 kB)\n",
      "   ---------------------------------------- 0.0/417.5 kB ? eta -:--:--\n",
      "   --------------------------------------  409.6/417.5 kB 12.5 MB/s eta 0:00:01\n",
      "   ---------------------------------------- 417.5/417.5 kB 8.7 MB/s eta 0:00:00\n",
      "Downloading safetensors-0.4.4-cp311-none-win_amd64.whl (285 kB)\n",
      "   ---------------------------------------- 0.0/286.0 kB ? eta -:--:--\n",
      "   ---------------------------------------- 286.0/286.0 kB 8.9 MB/s eta 0:00:00\n",
      "Using cached tokenizers-0.19.1-cp311-none-win_amd64.whl (2.2 MB)\n",
      "Installing collected packages: safetensors, huggingface-hub, tokenizers, transformers\n",
      "Successfully installed huggingface-hub-0.24.5 safetensors-0.4.4 tokenizers-0.19.1 transformers-4.44.0\n"
     ]
    }
   ],
   "source": [
    "#!pip install --upgrade pandas\n",
    "#!pip install nltk\n",
    "!pip install transformers"
   ]
  },
  {
   "cell_type": "code",
   "execution_count": 185,
   "metadata": {},
   "outputs": [
    {
     "name": "stderr",
     "output_type": "stream",
     "text": [
      "[nltk_data] Downloading package punkt to\n",
      "[nltk_data]     C:\\Users\\term\\AppData\\Roaming\\nltk_data...\n",
      "[nltk_data]   Package punkt is already up-to-date!\n",
      "[nltk_data] Downloading package stopwords to\n",
      "[nltk_data]     C:\\Users\\term\\AppData\\Roaming\\nltk_data...\n",
      "[nltk_data]   Package stopwords is already up-to-date!\n"
     ]
    }
   ],
   "source": [
    "import pandas as pd\n",
    "import numpy as np\n",
    "from sklearn.metrics import *\n",
    "from sklearn.model_selection import train_test_split\n",
    "from sklearn.dummy import DummyClassifier\n",
    "from sklearn.linear_model import LinearRegression, LogisticRegression\n",
    "from catboost import CatBoostRegressor, CatBoostClassifier, Pool\n",
    "from catboost import EFstrType\n",
    "from sklearn.pipeline import Pipeline\n",
    "import optuna\n",
    "from sklearn.ensemble import RandomForestRegressor\n",
    "from sklearn.compose import make_column_transformer\n",
    "from sklearn.metrics import mean_squared_error, mean_absolute_error, r2_score, root_mean_squared_error\n",
    "from math import sqrt\n",
    "from sklearn.model_selection import cross_val_predict, cross_val_score, train_test_split\n",
    "from sklearn.pipeline import make_pipeline\n",
    "from sklearn.preprocessing import OneHotEncoder\n",
    "import warnings\n",
    "import matplotlib.pyplot as plt\n",
    "from sklearn.feature_extraction.text import CountVectorizer\n",
    "from nltk import ngrams\n",
    "from sklearn.feature_extraction.text import TfidfVectorizer\n",
    "from sklearn.decomposition import PCA\n",
    "import nltk\n",
    "import pickle\n",
    "nltk.download('punkt')\n",
    "from nltk import tokenize\n",
    "from nltk.tokenize import word_tokenize\n",
    "nltk.download('stopwords')\n",
    "from nltk.corpus import stopwords\n",
    "from pymystem3 import Mystem\n",
    "mystem_analyzer = Mystem()\n",
    "import re\n",
    "from string import punctuation\n",
    "from collections import Counter\n",
    "from tqdm import tqdm\n",
    "from pymorphy3 import MorphAnalyzer\n",
    "from transformers import AutoModelForSeq2SeqLM, T5TokenizerFast"
   ]
  },
  {
   "cell_type": "markdown",
   "metadata": {},
   "source": [
    "## Константы"
   ]
  },
  {
   "cell_type": "code",
   "execution_count": 3,
   "metadata": {},
   "outputs": [],
   "source": [
    "LOCAL_PATH = 'D:/_DS/Edu/NLP_1_flow/Homework_1/'\n",
    "RANDOM_STATE = RS = 654321\n",
    "TEST_SIZE = .25\n",
    "# выделение в тексте\n",
    "BOLD = \"\\033[1m\"\n",
    "ITALIC = \"\\033[3m\"\n",
    "END = \"\\033[0m\"\n",
    "CR = '\\n'"
   ]
  },
  {
   "cell_type": "markdown",
   "metadata": {},
   "source": [
    "## Вспомогательные функции"
   ]
  },
  {
   "cell_type": "code",
   "execution_count": 4,
   "metadata": {},
   "outputs": [],
   "source": [
    "# Функция, выводящая основную информацию о датафрейме\n",
    "def about_df(data, size=5):\n",
    "    print (BOLD + 'Изучим исходные данные' + END)\n",
    "    print(data.info())\n",
    "    print(BOLD + CR + f'Вывод первых {size} строк датафрейма:' + END)\n",
    "    display(data.head(size))\n",
    "    print(BOLD + CR + 'Вывод основной информации о датафрейме:' + END)\n",
    "    print(CR + 'Количество строк: ', data.shape[0])\n",
    "    print('Количество столбцов: ', data.shape[1])\n",
    "    categ_col = data.columns[data.dtypes == 'object']\n",
    "    num_col = data.columns[data.dtypes != 'object']\n",
    "    print('Количество категориальных признаков: ', len(categ_col))\n",
    "    print('Количество числовых признаков: ', len(num_col))\n",
    "    missed_cells = data.isna().sum().sum()/(data.shape[0]*(data.shape[1]-1))\n",
    "    missed_rows = sum(data.isna().sum(axis = 1)>0)/data.shape[0]\n",
    "    print (BOLD + CR + 'Проверка пропусков'+ END)\n",
    "    print ('Количество пропусков: {:.0f}'.format(data.isnull().sum().sum()))\n",
    "    print ('Доля пропусков: {:.1%}'.format(missed_cells)+ END)\n",
    "    print ('Доля строк содержащих пропуски: {:.1%}'.format(missed_rows))\n",
    "    print(BOLD +  CR + 'Описание количественных данных:'+ END)\n",
    "    display(pd.concat([pd.DataFrame(np.array([data[num_col].isna().sum(), data[num_col].isna().mean()*100]).T,\n",
    "                                columns=['кол-во пропусков', 'доля пропусков, %'], index=data[num_col].columns), data.describe().T], axis=1))\n",
    "    print(BOLD + CR + 'Описание категориальных данных:'+ '\\033[0m')\n",
    "    display(pd.concat([pd.DataFrame(np.array([data[categ_col].isna().sum(), data[categ_col].isna().mean()*100]).T,\n",
    "                                columns=['кол-во пропусков', 'доля пропусков, %'], index=data[categ_col].columns), data.describe(include='object').T], axis=1))\n",
    "    ## Проверим дубликаты\n",
    "    print (BOLD +  CR + 'Проверка на дубликаты'+ END)\n",
    "    print('Количество полных дубликатов: ', data.duplicated().sum())\n",
    "        "
   ]
  },
  {
   "cell_type": "markdown",
   "metadata": {},
   "source": [
    "## Чтение данных"
   ]
  },
  {
   "cell_type": "markdown",
   "metadata": {},
   "source": [
    "Наши данные выгружены в текстовом виде. Посмотрим на них:"
   ]
  },
  {
   "cell_type": "code",
   "execution_count": 5,
   "metadata": {},
   "outputs": [],
   "source": [
    "with open(LOCAL_PATH + 'data.csv', 'r', encoding='utf-8')as f:\n",
    "    comments_text = f.read()"
   ]
  },
  {
   "cell_type": "code",
   "execution_count": 6,
   "metadata": {},
   "outputs": [
    {
     "data": {
      "text/plain": [
       "'Review,Rating\\n3D Touch просто восхитительная вещь! Заряд держит целый день. В розовом цвете смотрится очень необычно. Touch ID очень быстрый и удобный. Всем советую этот телефон!,5\\n\"Отключается при температуре близкой к нулю, непонятно ведет себя батарея\",4\\n\"В Apple окончательно решили не заморачиваться, делая незначительные изменения в телефоне, выдают эти изменения за инновации. На этот раз скопировали не только функционал, но и дизайн. Цена и была неадекватно завышена, а после скачка курса так и говорить об этом не приходится. Многие скажут, что и HD разрешения будет достаточно для такой диагонали, может так оно и есть, но аппарат позиционируется, как топовое решение, а в итоге получаем банальную экономию производителя, ведь что произойдёт с временем работы, если увеличить до FHD?! 1 гб оперативки тоже прошлый век! И не надо рассказывать сказки про великолепную оптимизацию iOS, чудес на свете не бывает, этого мало. Те кто скажет, что их не волнуют технические характеристики смартфона, главное чтоб он хорошо работал, телефон за 5000 будет так же хорошо работать, а отдавая (выбрасывая) 55000 нужно думать головой и понимать, что этих денег данный телефон просто непросто не может стоить! Про удобство использования стоит отметить, что больший по размерам Note 4 гораздо лучше лежит в руке и пользоваться им сподручнее.\",3\\n\"Постарался наиболее ёмко и коротко описать все основные плюсы и минусы. Большим мне аппарат не показался, размеры - что надо. Внешний вид, как для меня, так 5-'"
      ]
     },
     "execution_count": 6,
     "metadata": {},
     "output_type": "execute_result"
    }
   ],
   "source": [
    "comments_text[:1500]"
   ]
  },
  {
   "cell_type": "markdown",
   "metadata": {},
   "source": [
    "Так, разделитель - запятая, 2 колонки, отзыв и рейтинг."
   ]
  },
  {
   "cell_type": "code",
   "execution_count": 7,
   "metadata": {
    "executionInfo": {
     "elapsed": 824,
     "status": "ok",
     "timestamp": 1628179264940,
     "user": {
      "displayName": "Артур Сапрыкин",
      "photoUrl": "",
      "userId": "16185371824692237125"
     },
     "user_tz": -180
    },
    "id": "lHlASKj6C5LT"
   },
   "outputs": [],
   "source": [
    "data = pd.read_csv(LOCAL_PATH + 'data.csv', sep=',')"
   ]
  },
  {
   "cell_type": "code",
   "execution_count": 8,
   "metadata": {},
   "outputs": [
    {
     "data": {
      "text/html": [
       "<div>\n",
       "<style scoped>\n",
       "    .dataframe tbody tr th:only-of-type {\n",
       "        vertical-align: middle;\n",
       "    }\n",
       "\n",
       "    .dataframe tbody tr th {\n",
       "        vertical-align: top;\n",
       "    }\n",
       "\n",
       "    .dataframe thead th {\n",
       "        text-align: right;\n",
       "    }\n",
       "</style>\n",
       "<table border=\"1\" class=\"dataframe\">\n",
       "  <thead>\n",
       "    <tr style=\"text-align: right;\">\n",
       "      <th></th>\n",
       "      <th>Review</th>\n",
       "      <th>Rating</th>\n",
       "    </tr>\n",
       "  </thead>\n",
       "  <tbody>\n",
       "    <tr>\n",
       "      <th>0</th>\n",
       "      <td>3D Touch просто восхитительная вещь! Заряд дер...</td>\n",
       "      <td>5</td>\n",
       "    </tr>\n",
       "    <tr>\n",
       "      <th>1</th>\n",
       "      <td>Отключается при температуре близкой к нулю, не...</td>\n",
       "      <td>4</td>\n",
       "    </tr>\n",
       "    <tr>\n",
       "      <th>2</th>\n",
       "      <td>В Apple окончательно решили не заморачиваться,...</td>\n",
       "      <td>3</td>\n",
       "    </tr>\n",
       "    <tr>\n",
       "      <th>3</th>\n",
       "      <td>Постарался наиболее ёмко и коротко описать все...</td>\n",
       "      <td>4</td>\n",
       "    </tr>\n",
       "    <tr>\n",
       "      <th>4</th>\n",
       "      <td>Достойный телефон. Пользоваться одно удовольст...</td>\n",
       "      <td>5</td>\n",
       "    </tr>\n",
       "  </tbody>\n",
       "</table>\n",
       "</div>"
      ],
      "text/plain": [
       "                                              Review  Rating\n",
       "0  3D Touch просто восхитительная вещь! Заряд дер...       5\n",
       "1  Отключается при температуре близкой к нулю, не...       4\n",
       "2  В Apple окончательно решили не заморачиваться,...       3\n",
       "3  Постарался наиболее ёмко и коротко описать все...       4\n",
       "4  Достойный телефон. Пользоваться одно удовольст...       5"
      ]
     },
     "execution_count": 8,
     "metadata": {},
     "output_type": "execute_result"
    }
   ],
   "source": [
    "data.head()"
   ]
  },
  {
   "cell_type": "code",
   "execution_count": 9,
   "metadata": {
    "colab": {
     "base_uri": "https://localhost:8080/",
     "height": 204
    },
    "executionInfo": {
     "elapsed": 20,
     "status": "ok",
     "timestamp": 1628179264940,
     "user": {
      "displayName": "Артур Сапрыкин",
      "photoUrl": "",
      "userId": "16185371824692237125"
     },
     "user_tz": -180
    },
    "id": "NvOciPynC5LU",
    "outputId": "da881d87-4cf7-4359-e70a-aa9e2a64b62f",
    "scrolled": true
   },
   "outputs": [
    {
     "data": {
      "text/html": [
       "<div>\n",
       "<style scoped>\n",
       "    .dataframe tbody tr th:only-of-type {\n",
       "        vertical-align: middle;\n",
       "    }\n",
       "\n",
       "    .dataframe tbody tr th {\n",
       "        vertical-align: top;\n",
       "    }\n",
       "\n",
       "    .dataframe thead th {\n",
       "        text-align: right;\n",
       "    }\n",
       "</style>\n",
       "<table border=\"1\" class=\"dataframe\">\n",
       "  <thead>\n",
       "    <tr style=\"text-align: right;\">\n",
       "      <th></th>\n",
       "      <th>Review</th>\n",
       "      <th>Rating</th>\n",
       "    </tr>\n",
       "  </thead>\n",
       "  <tbody>\n",
       "    <tr>\n",
       "      <th>458428</th>\n",
       "      <td>удобный, всё работает отлично, звонит, играет,...</td>\n",
       "      <td>5</td>\n",
       "    </tr>\n",
       "    <tr>\n",
       "      <th>458429</th>\n",
       "      <td>прошло больше года, притензий нет, при моей на...</td>\n",
       "      <td>5</td>\n",
       "    </tr>\n",
       "    <tr>\n",
       "      <th>458430</th>\n",
       "      <td>мой первый аппарат на андроиде. На данный моме...</td>\n",
       "      <td>5</td>\n",
       "    </tr>\n",
       "    <tr>\n",
       "      <th>458431</th>\n",
       "      <td>Разбил iphone и не было желания покупать новый...</td>\n",
       "      <td>5</td>\n",
       "    </tr>\n",
       "    <tr>\n",
       "      <th>458432</th>\n",
       "      <td>Очень доволен покупкой и всем советую...</td>\n",
       "      <td>5</td>\n",
       "    </tr>\n",
       "  </tbody>\n",
       "</table>\n",
       "</div>"
      ],
      "text/plain": [
       "                                                   Review  Rating\n",
       "458428  удобный, всё работает отлично, звонит, играет,...       5\n",
       "458429  прошло больше года, притензий нет, при моей на...       5\n",
       "458430  мой первый аппарат на андроиде. На данный моме...       5\n",
       "458431  Разбил iphone и не было желания покупать новый...       5\n",
       "458432           Очень доволен покупкой и всем советую...       5"
      ]
     },
     "execution_count": 9,
     "metadata": {},
     "output_type": "execute_result"
    }
   ],
   "source": [
    "data.tail()"
   ]
  },
  {
   "cell_type": "code",
   "execution_count": 10,
   "metadata": {},
   "outputs": [
    {
     "name": "stdout",
     "output_type": "stream",
     "text": [
      "\u001b[1mИзучим исходные данные\u001b[0m\n",
      "<class 'pandas.core.frame.DataFrame'>\n",
      "RangeIndex: 458433 entries, 0 to 458432\n",
      "Data columns (total 2 columns):\n",
      " #   Column  Non-Null Count   Dtype \n",
      "---  ------  --------------   ----- \n",
      " 0   Review  457837 non-null  object\n",
      " 1   Rating  458433 non-null  int64 \n",
      "dtypes: int64(1), object(1)\n",
      "memory usage: 7.0+ MB\n",
      "None\n",
      "\u001b[1m\n",
      "Вывод первых 5 строк датафрейма:\u001b[0m\n"
     ]
    },
    {
     "data": {
      "text/html": [
       "<div>\n",
       "<style scoped>\n",
       "    .dataframe tbody tr th:only-of-type {\n",
       "        vertical-align: middle;\n",
       "    }\n",
       "\n",
       "    .dataframe tbody tr th {\n",
       "        vertical-align: top;\n",
       "    }\n",
       "\n",
       "    .dataframe thead th {\n",
       "        text-align: right;\n",
       "    }\n",
       "</style>\n",
       "<table border=\"1\" class=\"dataframe\">\n",
       "  <thead>\n",
       "    <tr style=\"text-align: right;\">\n",
       "      <th></th>\n",
       "      <th>Review</th>\n",
       "      <th>Rating</th>\n",
       "    </tr>\n",
       "  </thead>\n",
       "  <tbody>\n",
       "    <tr>\n",
       "      <th>0</th>\n",
       "      <td>3D Touch просто восхитительная вещь! Заряд дер...</td>\n",
       "      <td>5</td>\n",
       "    </tr>\n",
       "    <tr>\n",
       "      <th>1</th>\n",
       "      <td>Отключается при температуре близкой к нулю, не...</td>\n",
       "      <td>4</td>\n",
       "    </tr>\n",
       "    <tr>\n",
       "      <th>2</th>\n",
       "      <td>В Apple окончательно решили не заморачиваться,...</td>\n",
       "      <td>3</td>\n",
       "    </tr>\n",
       "    <tr>\n",
       "      <th>3</th>\n",
       "      <td>Постарался наиболее ёмко и коротко описать все...</td>\n",
       "      <td>4</td>\n",
       "    </tr>\n",
       "    <tr>\n",
       "      <th>4</th>\n",
       "      <td>Достойный телефон. Пользоваться одно удовольст...</td>\n",
       "      <td>5</td>\n",
       "    </tr>\n",
       "  </tbody>\n",
       "</table>\n",
       "</div>"
      ],
      "text/plain": [
       "                                              Review  Rating\n",
       "0  3D Touch просто восхитительная вещь! Заряд дер...       5\n",
       "1  Отключается при температуре близкой к нулю, не...       4\n",
       "2  В Apple окончательно решили не заморачиваться,...       3\n",
       "3  Постарался наиболее ёмко и коротко описать все...       4\n",
       "4  Достойный телефон. Пользоваться одно удовольст...       5"
      ]
     },
     "metadata": {},
     "output_type": "display_data"
    },
    {
     "name": "stdout",
     "output_type": "stream",
     "text": [
      "\u001b[1m\n",
      "Вывод основной информации о датафрейме:\u001b[0m\n",
      "\n",
      "Количество строк:  458433\n",
      "Количество столбцов:  2\n",
      "Количество категориальных признаков:  1\n",
      "Количество числовых признаков:  1\n",
      "\u001b[1m\n",
      "Проверка пропусков\u001b[0m\n",
      "Количество пропусков: 596\n",
      "Доля пропусков: 0.1%\u001b[0m\n",
      "Доля строк содержащих пропуски: 0.1%\n",
      "\u001b[1m\n",
      "Описание количественных данных:\u001b[0m\n"
     ]
    },
    {
     "data": {
      "text/html": [
       "<div>\n",
       "<style scoped>\n",
       "    .dataframe tbody tr th:only-of-type {\n",
       "        vertical-align: middle;\n",
       "    }\n",
       "\n",
       "    .dataframe tbody tr th {\n",
       "        vertical-align: top;\n",
       "    }\n",
       "\n",
       "    .dataframe thead th {\n",
       "        text-align: right;\n",
       "    }\n",
       "</style>\n",
       "<table border=\"1\" class=\"dataframe\">\n",
       "  <thead>\n",
       "    <tr style=\"text-align: right;\">\n",
       "      <th></th>\n",
       "      <th>кол-во пропусков</th>\n",
       "      <th>доля пропусков, %</th>\n",
       "      <th>count</th>\n",
       "      <th>mean</th>\n",
       "      <th>std</th>\n",
       "      <th>min</th>\n",
       "      <th>25%</th>\n",
       "      <th>50%</th>\n",
       "      <th>75%</th>\n",
       "      <th>max</th>\n",
       "    </tr>\n",
       "  </thead>\n",
       "  <tbody>\n",
       "    <tr>\n",
       "      <th>Rating</th>\n",
       "      <td>0.0</td>\n",
       "      <td>0.0</td>\n",
       "      <td>458433.0</td>\n",
       "      <td>4.000853</td>\n",
       "      <td>1.266496</td>\n",
       "      <td>0.0</td>\n",
       "      <td>3.0</td>\n",
       "      <td>4.0</td>\n",
       "      <td>5.0</td>\n",
       "      <td>9.0</td>\n",
       "    </tr>\n",
       "  </tbody>\n",
       "</table>\n",
       "</div>"
      ],
      "text/plain": [
       "        кол-во пропусков  доля пропусков, %     count      mean       std  \\\n",
       "Rating               0.0                0.0  458433.0  4.000853  1.266496   \n",
       "\n",
       "        min  25%  50%  75%  max  \n",
       "Rating  0.0  3.0  4.0  5.0  9.0  "
      ]
     },
     "metadata": {},
     "output_type": "display_data"
    },
    {
     "name": "stdout",
     "output_type": "stream",
     "text": [
      "\u001b[1m\n",
      "Описание категориальных данных:\u001b[0m\n"
     ]
    },
    {
     "data": {
      "text/html": [
       "<div>\n",
       "<style scoped>\n",
       "    .dataframe tbody tr th:only-of-type {\n",
       "        vertical-align: middle;\n",
       "    }\n",
       "\n",
       "    .dataframe tbody tr th {\n",
       "        vertical-align: top;\n",
       "    }\n",
       "\n",
       "    .dataframe thead th {\n",
       "        text-align: right;\n",
       "    }\n",
       "</style>\n",
       "<table border=\"1\" class=\"dataframe\">\n",
       "  <thead>\n",
       "    <tr style=\"text-align: right;\">\n",
       "      <th></th>\n",
       "      <th>кол-во пропусков</th>\n",
       "      <th>доля пропусков, %</th>\n",
       "      <th>count</th>\n",
       "      <th>unique</th>\n",
       "      <th>top</th>\n",
       "      <th>freq</th>\n",
       "    </tr>\n",
       "  </thead>\n",
       "  <tbody>\n",
       "    <tr>\n",
       "      <th>Review</th>\n",
       "      <td>596.0</td>\n",
       "      <td>0.130008</td>\n",
       "      <td>457837</td>\n",
       "      <td>320031</td>\n",
       "      <td>Отличный телефон</td>\n",
       "      <td>114</td>\n",
       "    </tr>\n",
       "  </tbody>\n",
       "</table>\n",
       "</div>"
      ],
      "text/plain": [
       "        кол-во пропусков  доля пропусков, %   count  unique               top  \\\n",
       "Review             596.0           0.130008  457837  320031  Отличный телефон   \n",
       "\n",
       "       freq  \n",
       "Review  114  "
      ]
     },
     "metadata": {},
     "output_type": "display_data"
    },
    {
     "name": "stdout",
     "output_type": "stream",
     "text": [
      "\u001b[1m\n",
      "Проверка на дубликаты\u001b[0m\n",
      "Количество полных дубликатов:  137327\n"
     ]
    }
   ],
   "source": [
    "about_df(data)"
   ]
  },
  {
   "cell_type": "markdown",
   "metadata": {},
   "source": [
    "У нас хорошо заполненный датасет с небольшим количчеством пропусков, тем не менее пропуски есть в текстовой части отзыва и такие отзывы нам не годятся для модели. Дропнем"
   ]
  },
  {
   "cell_type": "code",
   "execution_count": 11,
   "metadata": {},
   "outputs": [],
   "source": [
    "data = data.dropna().reset_index(drop = True)"
   ]
  },
  {
   "cell_type": "markdown",
   "metadata": {},
   "source": [
    "Проверка на дубликаты показала 137327 полных дубликатов. Нужно посмотреть."
   ]
  },
  {
   "cell_type": "code",
   "execution_count": 12,
   "metadata": {
    "scrolled": true
   },
   "outputs": [
    {
     "data": {
      "text/html": [
       "<div>\n",
       "<style scoped>\n",
       "    .dataframe tbody tr th:only-of-type {\n",
       "        vertical-align: middle;\n",
       "    }\n",
       "\n",
       "    .dataframe tbody tr th {\n",
       "        vertical-align: top;\n",
       "    }\n",
       "\n",
       "    .dataframe thead th {\n",
       "        text-align: right;\n",
       "    }\n",
       "</style>\n",
       "<table border=\"1\" class=\"dataframe\">\n",
       "  <thead>\n",
       "    <tr style=\"text-align: right;\">\n",
       "      <th></th>\n",
       "      <th>Review</th>\n",
       "      <th>Rating</th>\n",
       "    </tr>\n",
       "  </thead>\n",
       "  <tbody>\n",
       "    <tr>\n",
       "      <th>343</th>\n",
       "      <td>Покупал 6-ку в интернет магазине, перед этими ...</td>\n",
       "      <td>4</td>\n",
       "    </tr>\n",
       "    <tr>\n",
       "      <th>354</th>\n",
       "      <td>Довольно долго сопротивлялся смартфонам. Да и ...</td>\n",
       "      <td>5</td>\n",
       "    </tr>\n",
       "    <tr>\n",
       "      <th>358</th>\n",
       "      <td>Всем заядлым \"яблочникам\" хочу сказать,что чув...</td>\n",
       "      <td>4</td>\n",
       "    </tr>\n",
       "    <tr>\n",
       "      <th>359</th>\n",
       "      <td>Отличный, как и все айфоны, но цены очень высока.</td>\n",
       "      <td>5</td>\n",
       "    </tr>\n",
       "    <tr>\n",
       "      <th>361</th>\n",
       "      <td>Очень понравился телефон в использовании, мне ...</td>\n",
       "      <td>5</td>\n",
       "    </tr>\n",
       "    <tr>\n",
       "      <th>...</th>\n",
       "      <td>...</td>\n",
       "      <td>...</td>\n",
       "    </tr>\n",
       "    <tr>\n",
       "      <th>457746</th>\n",
       "      <td>Телефон стоит денег, которые я за него заплати...</td>\n",
       "      <td>4</td>\n",
       "    </tr>\n",
       "    <tr>\n",
       "      <th>457747</th>\n",
       "      <td>Телефон стоит денег, которые я за него заплати...</td>\n",
       "      <td>4</td>\n",
       "    </tr>\n",
       "    <tr>\n",
       "      <th>457753</th>\n",
       "      <td>Конечно, это может быть брак конкретно моего т...</td>\n",
       "      <td>4</td>\n",
       "    </tr>\n",
       "    <tr>\n",
       "      <th>457766</th>\n",
       "      <td>не советую брать</td>\n",
       "      <td>1</td>\n",
       "    </tr>\n",
       "    <tr>\n",
       "      <th>457793</th>\n",
       "      <td>Советую</td>\n",
       "      <td>4</td>\n",
       "    </tr>\n",
       "  </tbody>\n",
       "</table>\n",
       "<p>136736 rows × 2 columns</p>\n",
       "</div>"
      ],
      "text/plain": [
       "                                                   Review  Rating\n",
       "343     Покупал 6-ку в интернет магазине, перед этими ...       4\n",
       "354     Довольно долго сопротивлялся смартфонам. Да и ...       5\n",
       "358     Всем заядлым \"яблочникам\" хочу сказать,что чув...       4\n",
       "359     Отличный, как и все айфоны, но цены очень высока.       5\n",
       "361     Очень понравился телефон в использовании, мне ...       5\n",
       "...                                                   ...     ...\n",
       "457746  Телефон стоит денег, которые я за него заплати...       4\n",
       "457747  Телефон стоит денег, которые я за него заплати...       4\n",
       "457753  Конечно, это может быть брак конкретно моего т...       4\n",
       "457766                                   не советую брать       1\n",
       "457793                                            Советую       4\n",
       "\n",
       "[136736 rows x 2 columns]"
      ]
     },
     "execution_count": 12,
     "metadata": {},
     "output_type": "execute_result"
    }
   ],
   "source": [
    "data[data.duplicated()== True]"
   ]
  },
  {
   "cell_type": "code",
   "execution_count": 13,
   "metadata": {},
   "outputs": [
    {
     "data": {
      "text/html": [
       "<div>\n",
       "<style scoped>\n",
       "    .dataframe tbody tr th:only-of-type {\n",
       "        vertical-align: middle;\n",
       "    }\n",
       "\n",
       "    .dataframe tbody tr th {\n",
       "        vertical-align: top;\n",
       "    }\n",
       "\n",
       "    .dataframe thead th {\n",
       "        text-align: right;\n",
       "    }\n",
       "</style>\n",
       "<table border=\"1\" class=\"dataframe\">\n",
       "  <thead>\n",
       "    <tr style=\"text-align: right;\">\n",
       "      <th></th>\n",
       "      <th>Review</th>\n",
       "      <th>Rating</th>\n",
       "    </tr>\n",
       "  </thead>\n",
       "  <tbody>\n",
       "    <tr>\n",
       "      <th>9983</th>\n",
       "      <td>не советую брать</td>\n",
       "      <td>1</td>\n",
       "    </tr>\n",
       "    <tr>\n",
       "      <th>19665</th>\n",
       "      <td>не советую брать</td>\n",
       "      <td>1</td>\n",
       "    </tr>\n",
       "    <tr>\n",
       "      <th>76500</th>\n",
       "      <td>не советую брать</td>\n",
       "      <td>3</td>\n",
       "    </tr>\n",
       "    <tr>\n",
       "      <th>79750</th>\n",
       "      <td>не советую брать</td>\n",
       "      <td>1</td>\n",
       "    </tr>\n",
       "    <tr>\n",
       "      <th>322346</th>\n",
       "      <td>не советую брать</td>\n",
       "      <td>1</td>\n",
       "    </tr>\n",
       "    <tr>\n",
       "      <th>348307</th>\n",
       "      <td>не советую брать</td>\n",
       "      <td>3</td>\n",
       "    </tr>\n",
       "    <tr>\n",
       "      <th>370268</th>\n",
       "      <td>не советую брать</td>\n",
       "      <td>3</td>\n",
       "    </tr>\n",
       "    <tr>\n",
       "      <th>398386</th>\n",
       "      <td>не советую брать</td>\n",
       "      <td>3</td>\n",
       "    </tr>\n",
       "    <tr>\n",
       "      <th>428893</th>\n",
       "      <td>не советую брать</td>\n",
       "      <td>1</td>\n",
       "    </tr>\n",
       "    <tr>\n",
       "      <th>436844</th>\n",
       "      <td>не советую брать</td>\n",
       "      <td>2</td>\n",
       "    </tr>\n",
       "    <tr>\n",
       "      <th>439956</th>\n",
       "      <td>не советую брать</td>\n",
       "      <td>2</td>\n",
       "    </tr>\n",
       "    <tr>\n",
       "      <th>440424</th>\n",
       "      <td>не советую брать</td>\n",
       "      <td>2</td>\n",
       "    </tr>\n",
       "    <tr>\n",
       "      <th>442478</th>\n",
       "      <td>не советую брать</td>\n",
       "      <td>2</td>\n",
       "    </tr>\n",
       "    <tr>\n",
       "      <th>457766</th>\n",
       "      <td>не советую брать</td>\n",
       "      <td>1</td>\n",
       "    </tr>\n",
       "  </tbody>\n",
       "</table>\n",
       "</div>"
      ],
      "text/plain": [
       "                  Review  Rating\n",
       "9983    не советую брать       1\n",
       "19665   не советую брать       1\n",
       "76500   не советую брать       3\n",
       "79750   не советую брать       1\n",
       "322346  не советую брать       1\n",
       "348307  не советую брать       3\n",
       "370268  не советую брать       3\n",
       "398386  не советую брать       3\n",
       "428893  не советую брать       1\n",
       "436844  не советую брать       2\n",
       "439956  не советую брать       2\n",
       "440424  не советую брать       2\n",
       "442478  не советую брать       2\n",
       "457766  не советую брать       1"
      ]
     },
     "execution_count": 13,
     "metadata": {},
     "output_type": "execute_result"
    }
   ],
   "source": [
    "data[data['Review'] == 'не советую брать']"
   ]
  },
  {
   "cell_type": "markdown",
   "metadata": {},
   "source": [
    "Вполне возможно,что это блоки из одинаковых ответов разных пользователей. Пока не удаляем."
   ]
  },
  {
   "cell_type": "code",
   "execution_count": 14,
   "metadata": {},
   "outputs": [],
   "source": [
    "#data = data.drop_duplicates().reset_index(drop = True)"
   ]
  },
  {
   "cell_type": "markdown",
   "metadata": {},
   "source": [
    "Что осталось?"
   ]
  },
  {
   "cell_type": "code",
   "execution_count": 15,
   "metadata": {
    "scrolled": false
   },
   "outputs": [
    {
     "name": "stdout",
     "output_type": "stream",
     "text": [
      "<class 'pandas.core.frame.DataFrame'>\n",
      "RangeIndex: 457837 entries, 0 to 457836\n",
      "Data columns (total 2 columns):\n",
      " #   Column  Non-Null Count   Dtype \n",
      "---  ------  --------------   ----- \n",
      " 0   Review  457837 non-null  object\n",
      " 1   Rating  457837 non-null  int64 \n",
      "dtypes: int64(1), object(1)\n",
      "memory usage: 7.0+ MB\n"
     ]
    }
   ],
   "source": [
    "data.info()"
   ]
  },
  {
   "cell_type": "markdown",
   "metadata": {},
   "source": [
    "Убрав дубликаты мы бы потеряли треть! Ну ничего, спокойно посмотрим дальше."
   ]
  },
  {
   "cell_type": "code",
   "execution_count": 16,
   "metadata": {
    "scrolled": true
   },
   "outputs": [
    {
     "data": {
      "image/png": "[encoded data removed]",
      "text/plain": [
       "<Figure size 1200x1500 with 5 Axes>"
      ]
     },
     "metadata": {},
     "output_type": "display_data"
    }
   ],
   "source": [
    "data.plot(\n",
    "    lw=0, marker=\".\", subplots=True, layout=(-1, 5), figsize=(12, 15), markersize=1\n",
    ");"
   ]
  },
  {
   "cell_type": "markdown",
   "metadata": {},
   "source": [
    "Минуточку, а что это за рейтинг больше 5? Если рейтинг до 9, то у нас тут мешок плохих отзывов, так не бывает. Нет, бывает, но предполагаем. что это не так."
   ]
  },
  {
   "cell_type": "code",
   "execution_count": 17,
   "metadata": {
    "scrolled": true
   },
   "outputs": [
    {
     "name": "stdout",
     "output_type": "stream",
     "text": [
      "                                                  Review  Rating\n",
      "44271  Очень приятный телефон, постоянно хочется его ...       7\n",
      "77154  Искал аппарат с большой батареей (много разгов...       9\n"
     ]
    }
   ],
   "source": [
    "print(data[data['Rating']>5])"
   ]
  },
  {
   "cell_type": "code",
   "execution_count": 18,
   "metadata": {
    "scrolled": true
   },
   "outputs": [
    {
     "data": {
      "text/plain": [
       "'Очень приятный телефон, постоянно хочется его держать в руках, настолько он приятен. В черном цвете выглядит шикарно.\\rSamsung Pay - довольно удобная штука, сразу стала ею пользоваться.\\rСканер отпечатков работает довольно точно и очень быстро - стоит только приложить палец к кнопке (нажимать на нее не нужно) - и он уже разблокирован.\\rНа удивление, очень яркая вспышка, но это мелочь.\\rUSB Type C.. ну, честно говоря, не понимаю, почему всем он так нужен, как по мне - ничего необходимого в нем нет, никогда не было проблем с Micro USB.\\rБатарейку держит нормально - день работы с постоянным ВК, чтением, парой фоток и десятиминутной GPS-навигацией за день - легко, но буду смотреть дальше, т.к. пользуюсь им еще не так долго.\\r\\rВ общем, если вы хотите просто хороший смартфон'"
      ]
     },
     "execution_count": 18,
     "metadata": {},
     "output_type": "execute_result"
    }
   ],
   "source": [
    "data['Review'][44271]   "
   ]
  },
  {
   "cell_type": "code",
   "execution_count": 19,
   "metadata": {},
   "outputs": [
    {
     "data": {
      "text/plain": [
       "'Искал аппарат с большой батареей (много разговариваю, поэтому ёмкость'"
      ]
     },
     "execution_count": 19,
     "metadata": {},
     "output_type": "execute_result"
    }
   ],
   "source": [
    "data['Review'][77154]   "
   ]
  },
  {
   "cell_type": "markdown",
   "metadata": {},
   "source": [
    "Это хороший отзыв и оборванный отзыв, приведем в соответствие"
   ]
  },
  {
   "cell_type": "code",
   "execution_count": 20,
   "metadata": {},
   "outputs": [],
   "source": [
    "data.loc[data['Rating']==7, 'Rating'] = 5\n",
    "data = data[data['Rating']<9]"
   ]
  },
  {
   "cell_type": "code",
   "execution_count": 21,
   "metadata": {},
   "outputs": [
    {
     "data": {
      "text/plain": [
       "Rating\n",
       "5    228087\n",
       "4    106503\n",
       "3     53055\n",
       "2     35705\n",
       "1     34484\n",
       "0         2\n",
       "Name: count, dtype: int64"
      ]
     },
     "execution_count": 21,
     "metadata": {},
     "output_type": "execute_result"
    }
   ],
   "source": [
    "data['Rating'].value_counts()"
   ]
  },
  {
   "cell_type": "code",
   "execution_count": 22,
   "metadata": {},
   "outputs": [
    {
     "data": {
      "text/plain": [
       "69369    Был приверженцем HTC, но что-то тайванские тов...\n",
       "69398    Был приверженцем HTC, но что-то тайванские тов...\n",
       "Name: Review, dtype: object"
      ]
     },
     "execution_count": 22,
     "metadata": {},
     "output_type": "execute_result"
    }
   ],
   "source": [
    "data[data['Rating']==0]['Review']"
   ]
  },
  {
   "cell_type": "code",
   "execution_count": 23,
   "metadata": {
    "scrolled": true
   },
   "outputs": [
    {
     "data": {
      "text/plain": [
       "'Был приверженцем HTC, но что-то тайванские товарищи уже несколько лет не могут родить нормальный флагман, пришлось смотреть хоть какой-то телефон взамен старому. Изначально планировал просто взять какой-нибудь бюджетный аппарат ('"
      ]
     },
     "execution_count": 23,
     "metadata": {},
     "output_type": "execute_result"
    }
   ],
   "source": [
    "data['Review'][69369]   "
   ]
  },
  {
   "cell_type": "markdown",
   "metadata": {},
   "source": [
    "Ещё один оборванный отзыв с непонятной тональностью, обрезаем."
   ]
  },
  {
   "cell_type": "code",
   "execution_count": 24,
   "metadata": {},
   "outputs": [],
   "source": [
    "data = data[data['Rating']>0]"
   ]
  },
  {
   "cell_type": "code",
   "execution_count": 25,
   "metadata": {},
   "outputs": [],
   "source": [
    "data = data.reset_index(drop = True)"
   ]
  },
  {
   "cell_type": "markdown",
   "metadata": {},
   "source": [
    "Посмотрим на распределение таргета:"
   ]
  },
  {
   "cell_type": "code",
   "execution_count": 26,
   "metadata": {},
   "outputs": [
    {
     "data": {
      "image/png": "[encoded data removed]",
      "text/plain": [
       "<Figure size 640x480 with 1 Axes>"
      ]
     },
     "metadata": {},
     "output_type": "display_data"
    }
   ],
   "source": [
    "pd.Series(data['Rating']).hist( bins = 5)\n",
    "plt.title('Распределение таргета оценки в комментариях')\n",
    "plt.show()"
   ]
  },
  {
   "cell_type": "markdown",
   "metadata": {},
   "source": [
    "## Бэйзлайн модель"
   ]
  },
  {
   "cell_type": "markdown",
   "metadata": {},
   "source": [
    "Кэтбуст неплохо переваривает текст, сделаем на его основе базовую модель для последующего сравнения"
   ]
  },
  {
   "cell_type": "code",
   "execution_count": 27,
   "metadata": {},
   "outputs": [],
   "source": [
    "y =target = data['Rating']"
   ]
  },
  {
   "cell_type": "code",
   "execution_count": 28,
   "metadata": {},
   "outputs": [],
   "source": [
    "X = data.drop('Rating', axis = 1)\n"
   ]
  },
  {
   "cell_type": "code",
   "execution_count": 29,
   "metadata": {},
   "outputs": [
    {
     "data": {
      "text/html": [
       "<div>\n",
       "<style scoped>\n",
       "    .dataframe tbody tr th:only-of-type {\n",
       "        vertical-align: middle;\n",
       "    }\n",
       "\n",
       "    .dataframe tbody tr th {\n",
       "        vertical-align: top;\n",
       "    }\n",
       "\n",
       "    .dataframe thead th {\n",
       "        text-align: right;\n",
       "    }\n",
       "</style>\n",
       "<table border=\"1\" class=\"dataframe\">\n",
       "  <thead>\n",
       "    <tr style=\"text-align: right;\">\n",
       "      <th></th>\n",
       "      <th>Review</th>\n",
       "    </tr>\n",
       "  </thead>\n",
       "  <tbody>\n",
       "    <tr>\n",
       "      <th>0</th>\n",
       "      <td>3D Touch просто восхитительная вещь! Заряд дер...</td>\n",
       "    </tr>\n",
       "    <tr>\n",
       "      <th>1</th>\n",
       "      <td>Отключается при температуре близкой к нулю, не...</td>\n",
       "    </tr>\n",
       "    <tr>\n",
       "      <th>2</th>\n",
       "      <td>В Apple окончательно решили не заморачиваться,...</td>\n",
       "    </tr>\n",
       "    <tr>\n",
       "      <th>3</th>\n",
       "      <td>Постарался наиболее ёмко и коротко описать все...</td>\n",
       "    </tr>\n",
       "    <tr>\n",
       "      <th>4</th>\n",
       "      <td>Достойный телефон. Пользоваться одно удовольст...</td>\n",
       "    </tr>\n",
       "  </tbody>\n",
       "</table>\n",
       "</div>"
      ],
      "text/plain": [
       "                                              Review\n",
       "0  3D Touch просто восхитительная вещь! Заряд дер...\n",
       "1  Отключается при температуре близкой к нулю, не...\n",
       "2  В Apple окончательно решили не заморачиваться,...\n",
       "3  Постарался наиболее ёмко и коротко описать все...\n",
       "4  Достойный телефон. Пользоваться одно удовольст..."
      ]
     },
     "execution_count": 29,
     "metadata": {},
     "output_type": "execute_result"
    }
   ],
   "source": [
    "X.head()"
   ]
  },
  {
   "cell_type": "code",
   "execution_count": 30,
   "metadata": {
    "executionInfo": {
     "elapsed": 16,
     "status": "ok",
     "timestamp": 1628179264941,
     "user": {
      "displayName": "Артур Сапрыкин",
      "photoUrl": "",
      "userId": "16185371824692237125"
     },
     "user_tz": -180
    },
    "id": "QAsBAmibC5LU"
   },
   "outputs": [],
   "source": [
    "train_x, test_x, train_y, test_y = train_test_split(X, y,\n",
    "                                                   test_size=TEST_SIZE, random_state=RS,\n",
    "                                                   )"
   ]
  },
  {
   "cell_type": "code",
   "execution_count": 31,
   "metadata": {
    "colab": {
     "base_uri": "https://localhost:8080/"
    },
    "executionInfo": {
     "elapsed": 15,
     "status": "ok",
     "timestamp": 1628179264941,
     "user": {
      "displayName": "Артур Сапрыкин",
      "photoUrl": "",
      "userId": "16185371824692237125"
     },
     "user_tz": -180
    },
    "id": "V1nESq0tC5LU",
    "outputId": "a4d64c9c-b805-4404-8e6b-60881b01a04c"
   },
   "outputs": [
    {
     "name": "stdout",
     "output_type": "stream",
     "text": [
      "(457834, 2)\n",
      "(114459, 1)\n",
      "(114459, 1)\n"
     ]
    }
   ],
   "source": [
    "print(data.shape)\n",
    "print(test_x.shape)\n",
    "print(test_x.shape)"
   ]
  },
  {
   "cell_type": "code",
   "execution_count": 32,
   "metadata": {},
   "outputs": [],
   "source": [
    "text_features = ['Review']"
   ]
  },
  {
   "cell_type": "markdown",
   "metadata": {},
   "source": [
    "def objective(trial):\n",
    "    param = {\n",
    "        \"iterations\": trial.suggest_int(\"iterations\", 200, 2400),\n",
    "        \"depth\": trial.suggest_int(\"depth\", 2, 6),\n",
    "        \"l2_leaf_reg\": trial.suggest_int(\"l2_leaf_reg\", 1, 5),\n",
    "        #\"colsample_bylevel\": trial.suggest_float(\"colsample_bylevel\", 0.08, 0.1),\n",
    "        \"boosting_type\": trial.suggest_categorical(\"boosting_type\", [\"Ordered\", \"Plain\"]),\n",
    "        \"bootstrap_type\": trial.suggest_categorical(\"bootstrap_type\", [\"Bayesian\", \"Bernoulli\"]),# \"MVS\"])\n",
    "         \"task_type\": \"GPU\" \n",
    "    }\n",
    "    train_pool = Pool(train_x,\n",
    "                  label=train_y,\n",
    "                  text_features=text_features\n",
    "                      )\n",
    "    test_pool = Pool(test_x,\n",
    "                  label=test_y,\n",
    "                  text_features=text_features\n",
    "                  )\n",
    "    model_cbc = CatBoostRegressor(**param, \n",
    "                                   loss_function = 'RMSE',\n",
    "                                   eval_metric = 'RMSE',\n",
    "                                   thread_count=-1, \n",
    "                                   random_seed=RANDOM_STATE, \n",
    "                                   verbose=0, \n",
    "                                   text_features=text_features\n",
    "                                 )\n",
    "    predict_cbc = cross_val_predict(model_cbc, train_x, train_y, cv=4)\n",
    "    score_cbc = mean_absolute_error(train_y, predict_cbc)\n",
    "    return score_cbc\n",
    "sampler = optuna.samplers.RandomSampler(seed=RANDOM_STATE)\n",
    "study_cbc = optuna.create_study(sampler=sampler, direction='minimize')\n",
    "study_cbc.optimize(objective, n_trials=10)\n",
    "print('Best hyperparameters Catboost:', study_cbc.best_params)\n",
    "print('Best MAE Catboost:', study_cbc.best_value)\n"
   ]
  },
  {
   "cell_type": "markdown",
   "metadata": {},
   "source": [
    "[I 2024-04-24 16:04:25,471] A new study created in memory with name: no-name-5c4b7593-b45a-46de-9d4c-4655ee6a00b2\n",
    "[I 2024-04-24 16:05:07,159] Trial 0 finished with value: 0.8658033727743734 and parameters: {'iterations': 710, 'depth': 5, 'l2_leaf_reg': 5, 'boosting_type': 'Plain', 'bootstrap_type': 'Bayesian'}. Best is trial 0 with value: 0.8658033727743734.\n",
    "[I 2024-04-24 16:05:52,347] Trial 1 finished with value: 0.9317033865493553 and parameters: {'iterations': 357, 'depth': 2, 'l2_leaf_reg': 5, 'boosting_type': 'Ordered', 'bootstrap_type': 'Bernoulli'}. Best is trial 0 with value: 0.8658033727743734.\n",
    "[I 2024-04-24 16:07:19,876] Trial 2 finished with value: 0.8670913892254375 and parameters: {'iterations': 1196, 'depth': 3, 'l2_leaf_reg': 2, 'boosting_type': 'Ordered', 'bootstrap_type': 'Bernoulli'}. Best is trial 0 with value: 0.8658033727743734.\n",
    "[I 2024-04-24 16:09:38,714] Trial 3 finished with value: 0.8301214122583268 and parameters: {'iterations': 1792, 'depth': 5, 'l2_leaf_reg': 5, 'boosting_type': 'Ordered', 'bootstrap_type': 'Bayesian'}. Best is trial 3 with value: 0.8301214122583268.\n",
    "[I 2024-04-24 16:10:49,655] Trial 4 finished with value: 0.8667665275069081 and parameters: {'iterations': 691, 'depth': 5, 'l2_leaf_reg': 4, 'boosting_type': 'Ordered', 'bootstrap_type': 'Bayesian'}. Best is trial 3 with value: 0.8301214122583268.\n",
    "[I 2024-04-24 16:12:56,459] Trial 5 finished with value: 0.8625203214935213 and parameters: {'iterations': 2161, 'depth': 2, 'l2_leaf_reg': 4, 'boosting_type': 'Ordered', 'bootstrap_type': 'Bernoulli'}. Best is trial 3 with value: 0.8301214122583268.\n",
    "[I 2024-04-24 16:13:32,002] Trial 6 finished with value: 0.9186172185520529 and parameters: {'iterations': 516, 'depth': 2, 'l2_leaf_reg': 1, 'boosting_type': 'Plain', 'bootstrap_type': 'Bayesian'}. Best is trial 3 with value: 0.8301214122583268.\n",
    "[I 2024-04-24 16:15:58,802] Trial 7 finished with value: 0.8334130127253915 and parameters: {'iterations': 2096, 'depth': 4, 'l2_leaf_reg': 5, 'boosting_type': 'Ordered', 'bootstrap_type': 'Bernoulli'}. Best is trial 3 with value: 0.8301214122583268.\n",
    "[I 2024-04-24 16:16:38,867] Trial 8 finished with value: 0.8789070000677444 and parameters: {'iterations': 518, 'depth': 5, 'l2_leaf_reg': 3, 'boosting_type': 'Plain', 'bootstrap_type': 'Bernoulli'}. Best is trial 3 with value: 0.8301214122583268.\n",
    "[I 2024-04-24 16:17:15,156] Trial 9 finished with value: 0.8992702483486947 and parameters: {'iterations': 328, 'depth': 5, 'l2_leaf_reg': 4, 'boosting_type': 'Plain', 'boo"
   ]
  },
  {
   "cell_type": "markdown",
   "metadata": {},
   "source": [
    "Best hyperparameters Catboost: {'iterations': 1792, 'depth': 5, 'l2_leaf_reg': 5, 'boosting_type': 'Ordered', 'bootstrap_type': 'Bayesian'}\n",
    "Best MAE Catboost: 0.8301214122583268\n"
   ]
  },
  {
   "cell_type": "code",
   "execution_count": 33,
   "metadata": {},
   "outputs": [
    {
     "data": {
      "application/vnd.jupyter.widget-view+json": {
       "model_id": "b88172be87d34da8b627648c10c30f2c",
       "version_major": 2,
       "version_minor": 0
      },
      "text/plain": [
       "MetricVisualizer(layout=Layout(align_self='stretch', height='500px'))"
      ]
     },
     "metadata": {},
     "output_type": "display_data"
    }
   ],
   "source": [
    "model_cb = CatBoostRegressor(iterations=1792,\n",
    "                                depth=5,\n",
    "                                #learning_rate=0.001,\n",
    "                                l2_leaf_reg=5,\n",
    "                                boosting_type='Ordered',\n",
    "                                loss_function='RMSE',\n",
    "                                eval_metric = 'RMSE',\n",
    "                                thread_count=-1, \n",
    "                                random_seed=RANDOM_STATE, \n",
    "                                verbose=0, \n",
    "                                text_features=text_features,\n",
    "                                task_type = \"GPU\" \n",
    ")\n",
    "\n",
    "\n",
    "model_cb.fit(train_x, train_y, text_features=text_features, plot= True)\n",
    "y_pred = model_cb.predict(test_x)\n"
   ]
  },
  {
   "cell_type": "code",
   "execution_count": 34,
   "metadata": {
    "scrolled": true
   },
   "outputs": [
    {
     "name": "stdout",
     "output_type": "stream",
     "text": [
      "Root Mean Squared Error на тестовой выборке: 1.0573443187000018\n",
      "Mean Absolute Error на тестовой выборке: 0.8310417344282175\n",
      "R2 на тестовой выборке: 0.3026942533407161\n"
     ]
    }
   ],
   "source": [
    "mse = mean_squared_error(test_y, y_pred)\n",
    "\n",
    "rmse = root_mean_squared_error(test_y, y_pred)\n",
    "mae = mean_absolute_error(test_y, y_pred)\n",
    "print(\"Root Mean Squared Error на тестовой выборке:\", rmse)\n",
    "print(\"Mean Absolute Error на тестовой выборке:\", mae)\n",
    "r2 = r2_score(test_y, y_pred)\n",
    "print(\"R2 на тестовой выборке:\", r2)"
   ]
  },
  {
   "cell_type": "code",
   "execution_count": 35,
   "metadata": {
    "scrolled": true
   },
   "outputs": [
    {
     "data": {
      "text/plain": [
       "array([4.19069358, 3.19785718, 4.176447  , ..., 2.717073  , 4.11856958,\n",
       "       4.17545681])"
      ]
     },
     "execution_count": 35,
     "metadata": {},
     "output_type": "execute_result"
    }
   ],
   "source": [
    "y_pred"
   ]
  },
  {
   "cell_type": "markdown",
   "metadata": {},
   "source": [
    "Хм, так то у нас хорошие целочисленные значения, можно и классификацию замутить"
   ]
  },
  {
   "cell_type": "markdown",
   "metadata": {},
   "source": [
    "def objective(trial):\n",
    "    param = {\n",
    "        \"iterations\": trial.suggest_int(\"iterations\", 200, 2400),\n",
    "        \"depth\": trial.suggest_int(\"depth\", 2, 6),\n",
    "        \"l2_leaf_reg\": trial.suggest_int(\"l2_leaf_reg\", 1, 5),\n",
    "        #\"colsample_bylevel\": trial.suggest_float(\"colsample_bylevel\", 0.08, 0.1),\n",
    "        #\"boosting_type\": trial.suggest_categorical(\"boosting_type\", [\"Ordered\", \"Plain\"]),\n",
    "        \"bootstrap_type\": trial.suggest_categorical(\"bootstrap_type\", [\"Bayesian\", \"Bernoulli\"]),# \"MVS\"])\n",
    "         \"task_type\": \"GPU\" \n",
    "    }\n",
    "    train_pool = Pool(train_x,\n",
    "                  label=train_y,\n",
    "                  text_features=text_features\n",
    "                      )\n",
    "    test_pool = Pool(test_x,\n",
    "                  label=test_y,\n",
    "                  text_features=text_features\n",
    "                  )\n",
    "    model_cbc = CatBoostClassifier(**param, \n",
    "                                   loss_function = 'MultiClass',\n",
    "                                   thread_count=-1, \n",
    "                                   random_seed=RANDOM_STATE, \n",
    "                                   verbose=0, \n",
    "                                   text_features=text_features\n",
    "                                 )\n",
    "    predict_cbc = cross_val_predict(model_cbc, train_x, train_y, cv=4)\n",
    "    score_cbc = mean_absolute_error(train_y, predict_cbc)\n",
    "    return score_cbc\n",
    "sampler = optuna.samplers.RandomSampler(seed=RANDOM_STATE)\n",
    "study_cbc = optuna.create_study(sampler=sampler, direction='minimize')\n",
    "study_cbc.optimize(objective, n_trials=10)\n",
    "print('Best hyperparameters Catboost:', study_cbc.best_params)\n",
    "print('Best MAE Catboost:', study_cbc.best_value)\n",
    "\n"
   ]
  },
  {
   "cell_type": "markdown",
   "metadata": {},
   "source": [
    "[I 2024-04-24 16:25:19,613] A new study created in memory with name: no-name-402793fc-ff45-429b-b9dd-0039ec644fdd\n",
    "[I 2024-04-24 16:26:28,394] Trial 0 finished with value: 0.6077301265654586 and parameters: {'iterations': 710, 'depth': 5, 'l2_leaf_reg': 5, 'bootstrap_type': 'Bernoulli'}. Best is trial 0 with value: 0.6077301265654586.\n",
    "[I 2024-04-24 16:28:02,041] Trial 1 finished with value: 0.6128417433478391 and parameters: {'iterations': 2045, 'depth': 2, 'l2_leaf_reg': 1, 'bootstrap_type': 'Bernoulli'}. Best is trial 0 with value: 0.6077301265654586.\n",
    "[I 2024-04-24 16:29:27,683] Trial 2 finished with value: 0.615333189383118 and parameters: {'iterations': 1709, 'depth': 2, 'l2_leaf_reg': 1, 'bootstrap_type': 'Bernoulli'}. Best is trial 0 with value: 0.6077301265654586.\n",
    "[I 2024-04-24 16:30:36,369] Trial 3 finished with value: 0.6139006079128326 and parameters: {'iterations': 993, 'depth': 3, 'l2_leaf_reg': 3, 'bootstrap_type': 'Bernoulli'}. Best is trial 0 with value: 0.6077301265654586.\n",
    "[I 2024-04-24 16:32:31,767] Trial 4 finished with value: 0.5927980599940206 and parameters: {'iterations': 1914, 'depth': 5, 'l2_leaf_reg': 4, 'bootstrap_type': 'Bayesian'}. Best is trial 4 with value: 0.5927980599940206.\n",
    "[I 2024-04-24 16:33:46,187] Trial 5 finished with value: 0.6042296448858918 and parameters: {'iterations': 865, 'depth': 5, 'l2_leaf_reg': 1, 'bootstrap_type': 'Bernoulli'}. Best is trial 4 with value: 0.5927980599940206.\n",
    "[I 2024-04-24 16:35:47,568] Trial 6 finished with value: 0.5869556190412916 and parameters: {'iterations': 1689, 'depth': 6, 'l2_leaf_reg': 1, 'bootstrap_type': 'Bayesian'}. Best is trial 6 with value: 0.5869556190412916.\n",
    "[I 2024-04-24 16:37:23,516] Trial 7 finished with value: 0.6131780885626017 and parameters: {'iterations': 2161, 'depth': 2, 'l2_leaf_reg': 4, 'bootstrap_type': 'Bayesian'}. Best is trial 6 with value: 0.5869556190412916.\n",
    "[I 2024-04-24 16:38:18,576] Trial 8 finished with value: 0.6206856459489087 and parameters: {'iterations': 520, 'depth': 3, 'l2_leaf_reg': 1, 'bootstrap_type': 'Bayesian'}. Best is trial 6 with value: 0.5869556190412916.\n",
    "[I 2024-04-24 16:39:40,726] Trial 9 finished with value: 0.6059985715709397 and parameters: {'iterations': 1218, 'depth': 4, 'l2_leaf_reg': 3, 'bootstrap_type': 'Bernoulli'}. Best is trial 6 with value: 0.5869556190412916."
   ]
  },
  {
   "cell_type": "markdown",
   "metadata": {},
   "source": [
    "Best hyperparameters Catboost: {'iterations': 1689, 'depth': 6, 'l2_leaf_reg': 1, 'bootstrap_type': 'Bayesian'}\n",
    "Best MAE Catboost: 0.5869556190412916\n"
   ]
  },
  {
   "cell_type": "code",
   "execution_count": 36,
   "metadata": {},
   "outputs": [
    {
     "data": {
      "application/vnd.jupyter.widget-view+json": {
       "model_id": "b82595a07e8e46ec96f5f699b3ac20f2",
       "version_major": 2,
       "version_minor": 0
      },
      "text/plain": [
       "MetricVisualizer(layout=Layout(align_self='stretch', height='500px'))"
      ]
     },
     "metadata": {},
     "output_type": "display_data"
    },
    {
     "data": {
      "text/plain": [
       "<catboost.core.CatBoostClassifier at 0x1a4d028ecd0>"
      ]
     },
     "execution_count": 36,
     "metadata": {},
     "output_type": "execute_result"
    }
   ],
   "source": [
    "model_cb = CatBoostClassifier(iterations=1689,\n",
    "                                depth = 6,\n",
    "                                loss_function='MultiClass',\n",
    "                                thread_count=-1, \n",
    "                                random_seed=RANDOM_STATE, \n",
    "                                verbose=0, \n",
    "                                text_features=text_features,\n",
    "                                task_type = \"GPU\" \n",
    "                                \n",
    ")\n",
    "\n",
    "\n",
    "model_cb.fit(train_x, train_y, text_features=text_features, plot= True)\n"
   ]
  },
  {
   "cell_type": "code",
   "execution_count": 37,
   "metadata": {
    "scrolled": false
   },
   "outputs": [
    {
     "name": "stdout",
     "output_type": "stream",
     "text": [
      "\n",
      "              precision    recall  f1-score   support\n",
      "\n",
      "           1       0.55      0.60      0.57      8652\n",
      "           2       0.55      0.35      0.43      8867\n",
      "           3       0.51      0.39      0.45     13286\n",
      "           4       0.57      0.41      0.48     26766\n",
      "           5       0.72      0.89      0.80     56888\n",
      "\n",
      "    accuracy                           0.66    114459\n",
      "   macro avg       0.58      0.53      0.54    114459\n",
      "weighted avg       0.64      0.66      0.64    114459\n",
      "\n",
      "\n",
      "Confusion Matrix\n",
      "\n",
      "[[ 5160   814   863   367  1448]\n",
      " [ 1842  3120  1406   875  1624]\n",
      " [ 1213   934  5236  2696  3207]\n",
      " [  530   445  1811 10934 13046]\n",
      " [  589   338   926  4323 50712]]\n",
      "AUC ROC train:  0.9132641915497771\n",
      "AUC ROC test:  0.8739398718230651\n",
      "Root Mean Squared Error на тестовой выборке: 1.0037149562846277\n",
      "Mean Absolute Error на тестовой выборке: 0.5124542412566946\n",
      "R2 на тестовой выборке: 0.37163619141479687\n"
     ]
    }
   ],
   "source": [
    "test_pred = model_cb.predict(test_x)\n",
    "proba_test = model_cb.predict_proba(test_x)\n",
    "\n",
    "train_pred = model_cb.predict(train_x)\n",
    "proba_train = model_cb.predict_proba(train_x)\n",
    " \n",
    "test_pred = model_cb.predict(test_x)\n",
    "confusion = confusion_matrix(test_y, test_pred)\n",
    "print(CR + classification_report(test_y,test_pred)) \n",
    "\n",
    "print(CR + 'Confusion Matrix\\n')\n",
    "print(confusion)\n",
    "auc_tr = roc_auc_score(train_y, proba_train, multi_class='ovr')\n",
    "auc_test = roc_auc_score(test_y, proba_test, multi_class='ovr')\n",
    "print('AUC ROC train: ',auc_tr)\n",
    "print('AUC ROC test: ',auc_test)\n",
    "mse = mean_squared_error(test_y, test_pred)\n",
    "rmse = root_mean_squared_error(test_y, test_pred)\n",
    "mae = mean_absolute_error(test_y, test_pred)\n",
    "print(\"Root Mean Squared Error на тестовой выборке:\", rmse)\n",
    "print(\"Mean Absolute Error на тестовой выборке:\", mae)\n",
    "r2 = r2_score(test_y, test_pred)\n",
    "print(\"R2 на тестовой выборке:\", r2)"
   ]
  },
  {
   "cell_type": "markdown",
   "metadata": {},
   "source": [
    "Итак, наша базовая модель показала неплохой результат, по заданию минимальное допустимое значение – МАЕ <= 1.0. У нас уже 0.51. Теперь нужно проверить, что удастся сделать самостоятельно. Поехали"
   ]
  },
  {
   "cell_type": "code",
   "execution_count": 38,
   "metadata": {},
   "outputs": [],
   "source": [
    "text_feature_indices = model_cb.get_feature_importance(Pool(data, label=y, text_features=text_features), \n",
    "                                     type=EFstrType.FeatureImportance, prettified=True)"
   ]
  },
  {
   "cell_type": "code",
   "execution_count": 39,
   "metadata": {},
   "outputs": [
    {
     "data": {
      "text/html": [
       "<div>\n",
       "<style scoped>\n",
       "    .dataframe tbody tr th:only-of-type {\n",
       "        vertical-align: middle;\n",
       "    }\n",
       "\n",
       "    .dataframe tbody tr th {\n",
       "        vertical-align: top;\n",
       "    }\n",
       "\n",
       "    .dataframe thead th {\n",
       "        text-align: right;\n",
       "    }\n",
       "</style>\n",
       "<table border=\"1\" class=\"dataframe\">\n",
       "  <thead>\n",
       "    <tr style=\"text-align: right;\">\n",
       "      <th></th>\n",
       "      <th>Feature Id</th>\n",
       "      <th>Importances</th>\n",
       "    </tr>\n",
       "  </thead>\n",
       "  <tbody>\n",
       "    <tr>\n",
       "      <th>0</th>\n",
       "      <td>Review</td>\n",
       "      <td>100.0</td>\n",
       "    </tr>\n",
       "  </tbody>\n",
       "</table>\n",
       "</div>"
      ],
      "text/plain": [
       "  Feature Id  Importances\n",
       "0     Review        100.0"
      ]
     },
     "execution_count": 39,
     "metadata": {},
     "output_type": "execute_result"
    }
   ],
   "source": [
    "text_feature_indices"
   ]
  },
  {
   "cell_type": "code",
   "execution_count": 40,
   "metadata": {},
   "outputs": [],
   "source": [
    "cat_imp = pd.Series(model_cb.feature_importances_, X.columns)"
   ]
  },
  {
   "cell_type": "code",
   "execution_count": 41,
   "metadata": {
    "scrolled": true
   },
   "outputs": [
    {
     "data": {
      "text/plain": [
       "Text(0.5, 1.0, 'Важность признаков Catboost ')"
      ]
     },
     "execution_count": 41,
     "metadata": {},
     "output_type": "execute_result"
    },
    {
     "data": {
      "image/png": "[encoded data removed]",
      "text/plain": [
       "<Figure size 1600x800 with 1 Axes>"
      ]
     },
     "metadata": {},
     "output_type": "display_data"
    }
   ],
   "source": [
    "cat_imp.plot.bar(figsize=(16,8)).set_title(\"Важность признаков Catboost \")"
   ]
  },
  {
   "cell_type": "markdown",
   "metadata": {},
   "source": [
    "Да, стоит ли удивляться, у нас один, но очень важный признак)))))))))))))"
   ]
  },
  {
   "cell_type": "markdown",
   "metadata": {},
   "source": [
    "А если немного подработать веса? Предположим, нам важнее отрицательные отзывы"
   ]
  },
  {
   "cell_type": "code",
   "execution_count": 42,
   "metadata": {},
   "outputs": [
    {
     "data": {
      "application/vnd.jupyter.widget-view+json": {
       "model_id": "9be43aee838d433e96fcb343cad1c859",
       "version_major": 2,
       "version_minor": 0
      },
      "text/plain": [
       "MetricVisualizer(layout=Layout(align_self='stretch', height='500px'))"
      ]
     },
     "metadata": {},
     "output_type": "display_data"
    },
    {
     "data": {
      "text/plain": [
       "<catboost.core.CatBoostClassifier at 0x1a4b06e8290>"
      ]
     },
     "execution_count": 42,
     "metadata": {},
     "output_type": "execute_result"
    }
   ],
   "source": [
    "model_cb = CatBoostClassifier(iterations=1689,\n",
    "                                depth = 6,\n",
    "                                loss_function='MultiClass',\n",
    "                                thread_count=-1, \n",
    "                                random_seed=RANDOM_STATE, \n",
    "                                verbose=0, \n",
    "                                text_features=text_features,\n",
    "                                task_type = \"GPU\", \n",
    "                                class_weights= {1: 2, 2: 2, 3:1, 4:1, 5:1}\n",
    ")\n",
    "\n",
    "\n",
    "model_cb.fit(train_x, train_y, text_features=text_features, plot= True)\n"
   ]
  },
  {
   "cell_type": "code",
   "execution_count": 43,
   "metadata": {},
   "outputs": [
    {
     "name": "stdout",
     "output_type": "stream",
     "text": [
      "\n",
      "              precision    recall  f1-score   support\n",
      "\n",
      "           1       0.51      0.67      0.58      8652\n",
      "           2       0.42      0.50      0.46      8867\n",
      "           3       0.60      0.28      0.38     13286\n",
      "           4       0.57      0.39      0.46     26766\n",
      "           5       0.73      0.88      0.80     56888\n",
      "\n",
      "    accuracy                           0.65    114459\n",
      "   macro avg       0.57      0.54      0.54    114459\n",
      "weighted avg       0.64      0.65      0.63    114459\n",
      "\n",
      "\n",
      "Confusion Matrix\n",
      "\n",
      "[[ 5838  1285   230   274  1025]\n",
      " [ 2000  4409   532   647  1279]\n",
      " [ 1693  2312  3709  2639  2933]\n",
      " [  894  1419  1173 10363 12917]\n",
      " [ 1039  1006   587  4264 49992]]\n",
      "AUC ROC train:  0.9123216165355782\n",
      "AUC ROC test:  0.8726544141589742\n",
      "Root Mean Squared Error на тестовой выборке: 1.0292764058838815\n",
      "Mean Absolute Error на тестовой выборке: 0.5308014223433719\n",
      "R2 на тестовой выборке: 0.3392237768709564\n"
     ]
    }
   ],
   "source": [
    "test_pred = model_cb.predict(test_x)\n",
    "proba_test = model_cb.predict_proba(test_x)\n",
    "\n",
    "train_pred = model_cb.predict(train_x)\n",
    "proba_train = model_cb.predict_proba(train_x)\n",
    " \n",
    "test_pred = model_cb.predict(test_x)\n",
    "confusion = confusion_matrix(test_y, test_pred)\n",
    "print(CR + classification_report(test_y,test_pred)) \n",
    "\n",
    "print(CR + 'Confusion Matrix\\n')\n",
    "print(confusion)\n",
    "auc_tr = roc_auc_score(train_y, proba_train, multi_class='ovr')\n",
    "auc_test = roc_auc_score(test_y, proba_test, multi_class='ovr')\n",
    "print('AUC ROC train: ',auc_tr)\n",
    "print('AUC ROC test: ',auc_test)\n",
    "mse = mean_squared_error(test_y, test_pred)\n",
    "\n",
    "rmse = root_mean_squared_error(test_y, test_pred)\n",
    "mae = mean_absolute_error(test_y, test_pred)\n",
    "print(\"Root Mean Squared Error на тестовой выборке:\", rmse)\n",
    "print(\"Mean Absolute Error на тестовой выборке:\", mae)\n",
    "r2 = r2_score(test_y, test_pred)\n",
    "print(\"R2 на тестовой выборке:\", r2)"
   ]
  },
  {
   "cell_type": "markdown",
   "metadata": {},
   "source": [
    "Нет, проверила с разными развесовками, всё плохо, лучшей моделью остаётся кэтбуст с ровными весами."
   ]
  },
  {
   "cell_type": "markdown",
   "metadata": {
    "id": "ONHeLq6QC5LV"
   },
   "source": [
    "\n",
    "## Векторизатор"
   ]
  },
  {
   "cell_type": "code",
   "execution_count": 44,
   "metadata": {
    "colab": {
     "base_uri": "https://localhost:8080/"
    },
    "executionInfo": {
     "elapsed": 12,
     "status": "ok",
     "timestamp": 1628179264942,
     "user": {
      "displayName": "Артур Сапрыкин",
      "photoUrl": "",
      "userId": "16185371824692237125"
     },
     "user_tz": -180
    },
    "id": "pQmLGezPC5LV",
    "outputId": "c290ecd8-075a-4f20-80ba-b18f5bc63a6c"
   },
   "outputs": [
    {
     "data": {
      "text/plain": [
       "['3D Touch просто восхитительная вещь! Заряд держит целый день. В розовом цвете смотрится очень необычно. Touch ID очень быстрый и удобный. Всем советую этот телефон!',\n",
       " 'Отключается при температуре близкой к нулю, непонятно ведет себя батарея',\n",
       " 'В Apple окончательно решили не заморачиваться, делая незначительные изменения в телефоне, выдают эти изменения за инновации. На этот раз скопировали не только функционал, но и дизайн. Цена и была неадекватно завышена, а после скачка курса так и говорить об этом не приходится. Многие скажут, что и HD разрешения будет достаточно для такой диагонали, может так оно и есть, но аппарат позиционируется, как топовое решение, а в итоге получаем банальную экономию производителя, ведь что произойдёт с временем работы, если увеличить до FHD?! 1 гб оперативки тоже прошлый век! И не надо рассказывать сказки про великолепную оптимизацию iOS, чудес на свете не бывает, этого мало. Те кто скажет, что их не волнуют технические характеристики смартфона, главное чтоб он хорошо работал, телефон за 5000 будет так же хорошо работать, а отдавая (выбрасывая) 55000 нужно думать головой и понимать, что этих денег данный телефон просто непросто не может стоить! Про удобство использования стоит отметить, что больший по размерам Note 4 гораздо лучше лежит в руке и пользоваться им сподручнее.',\n",
       " 'Постарался наиболее ёмко и коротко описать все основные плюсы и минусы. Большим мне аппарат не показался, размеры - что надо. Внешний вид, как для меня, так 5-ка выглядит интереснее и солиднее.',\n",
       " 'Достойный телефон. Пользоваться одно удовольствие.']"
      ]
     },
     "execution_count": 44,
     "metadata": {},
     "output_type": "execute_result"
    }
   ],
   "source": [
    "data['Review'].head().tolist()"
   ]
  },
  {
   "cell_type": "markdown",
   "metadata": {
    "id": "-BBsTnYJC5LV"
   },
   "source": [
    "Извлечём фичи из текстовых данных векторизатором `TfidfVectorizer`\n"
   ]
  },
  {
   "cell_type": "code",
   "execution_count": 45,
   "metadata": {},
   "outputs": [],
   "source": [
    "text_features = []\n",
    "model_cb = CatBoostClassifier(iterations=1689,\n",
    "                                depth = 6,\n",
    "                                loss_function='MultiClass',\n",
    "                                thread_count=-1, \n",
    "                                random_seed=RANDOM_STATE, \n",
    "                                verbose=0, \n",
    "                                task_type = \"GPU\" \n",
    ")\n"
   ]
  },
  {
   "cell_type": "code",
   "execution_count": 46,
   "metadata": {},
   "outputs": [
    {
     "data": {
      "text/html": [
       "<div>\n",
       "<style scoped>\n",
       "    .dataframe tbody tr th:only-of-type {\n",
       "        vertical-align: middle;\n",
       "    }\n",
       "\n",
       "    .dataframe tbody tr th {\n",
       "        vertical-align: top;\n",
       "    }\n",
       "\n",
       "    .dataframe thead th {\n",
       "        text-align: right;\n",
       "    }\n",
       "</style>\n",
       "<table border=\"1\" class=\"dataframe\">\n",
       "  <thead>\n",
       "    <tr style=\"text-align: right;\">\n",
       "      <th></th>\n",
       "      <th>Review</th>\n",
       "    </tr>\n",
       "  </thead>\n",
       "  <tbody>\n",
       "    <tr>\n",
       "      <th>286602</th>\n",
       "      <td>\"Отличный аппарат\". Ни кому не советую. Так хо...</td>\n",
       "    </tr>\n",
       "    <tr>\n",
       "      <th>315859</th>\n",
       "      <td>Хороший телефон, очень нравится. И может кто-н...</td>\n",
       "    </tr>\n",
       "    <tr>\n",
       "      <th>145621</th>\n",
       "      <td>Очень хороший телефон за эти деньги</td>\n",
       "    </tr>\n",
       "    <tr>\n",
       "      <th>101118</th>\n",
       "      <td>Надоело смотреть комменты про то, как у многих...</td>\n",
       "    </tr>\n",
       "    <tr>\n",
       "      <th>373770</th>\n",
       "      <td>Внешний вид,экран,удобство.</td>\n",
       "    </tr>\n",
       "    <tr>\n",
       "      <th>...</th>\n",
       "      <td>...</td>\n",
       "    </tr>\n",
       "    <tr>\n",
       "      <th>318635</th>\n",
       "      <td>рекомендую. за свои деньги супер.особенно крас...</td>\n",
       "    </tr>\n",
       "    <tr>\n",
       "      <th>332415</th>\n",
       "      <td>Купили недавно, сначало всё было отлично, пото...</td>\n",
       "    </tr>\n",
       "    <tr>\n",
       "      <th>185599</th>\n",
       "      <td>Девайс отличный, хотя по моему мнению мог стои...</td>\n",
       "    </tr>\n",
       "    <tr>\n",
       "      <th>237056</th>\n",
       "      <td>сегодня я купил сей девай и очень рад этому в ...</td>\n",
       "    </tr>\n",
       "    <tr>\n",
       "      <th>259568</th>\n",
       "      <td>Советую всем. Самый удобный телефон для тех лю...</td>\n",
       "    </tr>\n",
       "  </tbody>\n",
       "</table>\n",
       "<p>343375 rows × 1 columns</p>\n",
       "</div>"
      ],
      "text/plain": [
       "                                                   Review\n",
       "286602  \"Отличный аппарат\". Ни кому не советую. Так хо...\n",
       "315859  Хороший телефон, очень нравится. И может кто-н...\n",
       "145621                Очень хороший телефон за эти деньги\n",
       "101118  Надоело смотреть комменты про то, как у многих...\n",
       "373770                        Внешний вид,экран,удобство.\n",
       "...                                                   ...\n",
       "318635  рекомендую. за свои деньги супер.особенно крас...\n",
       "332415  Купили недавно, сначало всё было отлично, пото...\n",
       "185599  Девайс отличный, хотя по моему мнению мог стои...\n",
       "237056  сегодня я купил сей девай и очень рад этому в ...\n",
       "259568  Советую всем. Самый удобный телефон для тех лю...\n",
       "\n",
       "[343375 rows x 1 columns]"
      ]
     },
     "execution_count": 46,
     "metadata": {},
     "output_type": "execute_result"
    }
   ],
   "source": [
    "train_x"
   ]
  },
  {
   "cell_type": "code",
   "execution_count": 47,
   "metadata": {
    "scrolled": true
   },
   "outputs": [],
   "source": [
    "vec_t = TfidfVectorizer(ngram_range=(2, 3), max_df=0.1)\n",
    "bow_t = vec_t.fit_transform(train_x['Review'])\n",
    "\n",
    "vec_tr_2_3 = pd.DataFrame.sparse.from_spmatrix(bow_t, columns=vec_t.get_feature_names_out()\n",
    "                                             )"
   ]
  },
  {
   "cell_type": "markdown",
   "metadata": {},
   "source": [
    "Уплотнить не удалось, сожмём размерность"
   ]
  },
  {
   "cell_type": "code",
   "execution_count": 48,
   "metadata": {},
   "outputs": [],
   "source": [
    "pca = PCA(n_components=100)  # Или любое количество компонентов, которое вам нужно\n"
   ]
  },
  {
   "cell_type": "markdown",
   "metadata": {},
   "source": [
    "Применяем PCA к данным"
   ]
  },
  {
   "cell_type": "code",
   "execution_count": 49,
   "metadata": {},
   "outputs": [],
   "source": [
    "\n",
    "\n",
    "pca_result = pca.fit_transform(vec_tr_2_3)\n"
   ]
  },
  {
   "cell_type": "code",
   "execution_count": 50,
   "metadata": {
    "scrolled": true
   },
   "outputs": [
    {
     "data": {
      "text/plain": [
       "[('отличный аппарат', 6615402),\n",
       " ('аппарат ни', 778103),\n",
       " ('ни кому', 5833735),\n",
       " ('кому не', 4033654),\n",
       " ('не советую', 5544021),\n",
       " ('советую так', 9302586),\n",
       " ('так хотел', 9708077),\n",
       " ('хотел его', 10766694),\n",
       " ('его купить', 2718327),\n",
       " ('купить как', 4268876),\n",
       " ('как только', 3732625),\n",
       " ('только он', 10132934),\n",
       " ('он вышел', 6320592),\n",
       " ('вышел теперь', 1940378),\n",
       " ('теперь никогда', 9977745),\n",
       " ('никогда жизни', 5865138),\n",
       " ('жизни не', 2955241),\n",
       " ('не возьму', 5385942),\n",
       " ('возьму больше', 1542466),\n",
       " ('больше htc', 993585)]"
      ]
     },
     "execution_count": 50,
     "metadata": {},
     "output_type": "execute_result"
    }
   ],
   "source": [
    "list(vec_t.vocabulary_.items())[:20]\n"
   ]
  },
  {
   "cell_type": "markdown",
   "metadata": {},
   "source": [
    "самое первое слово - меня. Что же, отзывы наши, конечно всё меряем от себя"
   ]
  },
  {
   "cell_type": "code",
   "execution_count": 51,
   "metadata": {
    "scrolled": true
   },
   "outputs": [
    {
     "data": {
      "text/html": [
       "<div>\n",
       "<style scoped>\n",
       "    .dataframe tbody tr th:only-of-type {\n",
       "        vertical-align: middle;\n",
       "    }\n",
       "\n",
       "    .dataframe tbody tr th {\n",
       "        vertical-align: top;\n",
       "    }\n",
       "\n",
       "    .dataframe thead th {\n",
       "        text-align: right;\n",
       "    }\n",
       "</style>\n",
       "<table border=\"1\" class=\"dataframe\">\n",
       "  <thead>\n",
       "    <tr style=\"text-align: right;\">\n",
       "      <th></th>\n",
       "      <th>00 00</th>\n",
       "      <th>00 00 00</th>\n",
       "      <th>00 00 40</th>\n",
       "      <th>00 00 активнейшего</th>\n",
       "      <th>00 00 бывало</th>\n",
       "      <th>00 00 включение</th>\n",
       "      <th>00 00 воскресенья</th>\n",
       "      <th>00 00 даже</th>\n",
       "      <th>00 00 до</th>\n",
       "      <th>00 00 если</th>\n",
       "      <th>...</th>\n",
       "      <th>ґаджет для</th>\n",
       "      <th>ґаджет для людей</th>\n",
       "      <th>ґлобалки когда</th>\n",
       "      <th>ґлобалки когда она</th>\n",
       "      <th>ಠ益ಠლ заменили</th>\n",
       "      <th>ಠ益ಠლ заменили кнопки</th>\n",
       "      <th>为您找到相关结 этот</th>\n",
       "      <th>为您找到相关结 этот момент</th>\n",
       "      <th>魅族 через</th>\n",
       "      <th>魅族 через пару</th>\n",
       "    </tr>\n",
       "  </thead>\n",
       "  <tbody>\n",
       "    <tr>\n",
       "      <th>0</th>\n",
       "      <td>0</td>\n",
       "      <td>0</td>\n",
       "      <td>0</td>\n",
       "      <td>0</td>\n",
       "      <td>0</td>\n",
       "      <td>0</td>\n",
       "      <td>0</td>\n",
       "      <td>0</td>\n",
       "      <td>0</td>\n",
       "      <td>0</td>\n",
       "      <td>...</td>\n",
       "      <td>0</td>\n",
       "      <td>0</td>\n",
       "      <td>0</td>\n",
       "      <td>0</td>\n",
       "      <td>0</td>\n",
       "      <td>0</td>\n",
       "      <td>0</td>\n",
       "      <td>0</td>\n",
       "      <td>0</td>\n",
       "      <td>0</td>\n",
       "    </tr>\n",
       "    <tr>\n",
       "      <th>1</th>\n",
       "      <td>0</td>\n",
       "      <td>0</td>\n",
       "      <td>0</td>\n",
       "      <td>0</td>\n",
       "      <td>0</td>\n",
       "      <td>0</td>\n",
       "      <td>0</td>\n",
       "      <td>0</td>\n",
       "      <td>0</td>\n",
       "      <td>0</td>\n",
       "      <td>...</td>\n",
       "      <td>0</td>\n",
       "      <td>0</td>\n",
       "      <td>0</td>\n",
       "      <td>0</td>\n",
       "      <td>0</td>\n",
       "      <td>0</td>\n",
       "      <td>0</td>\n",
       "      <td>0</td>\n",
       "      <td>0</td>\n",
       "      <td>0</td>\n",
       "    </tr>\n",
       "    <tr>\n",
       "      <th>2</th>\n",
       "      <td>0</td>\n",
       "      <td>0</td>\n",
       "      <td>0</td>\n",
       "      <td>0</td>\n",
       "      <td>0</td>\n",
       "      <td>0</td>\n",
       "      <td>0</td>\n",
       "      <td>0</td>\n",
       "      <td>0</td>\n",
       "      <td>0</td>\n",
       "      <td>...</td>\n",
       "      <td>0</td>\n",
       "      <td>0</td>\n",
       "      <td>0</td>\n",
       "      <td>0</td>\n",
       "      <td>0</td>\n",
       "      <td>0</td>\n",
       "      <td>0</td>\n",
       "      <td>0</td>\n",
       "      <td>0</td>\n",
       "      <td>0</td>\n",
       "    </tr>\n",
       "    <tr>\n",
       "      <th>3</th>\n",
       "      <td>0</td>\n",
       "      <td>0</td>\n",
       "      <td>0</td>\n",
       "      <td>0</td>\n",
       "      <td>0</td>\n",
       "      <td>0</td>\n",
       "      <td>0</td>\n",
       "      <td>0</td>\n",
       "      <td>0</td>\n",
       "      <td>0</td>\n",
       "      <td>...</td>\n",
       "      <td>0</td>\n",
       "      <td>0</td>\n",
       "      <td>0</td>\n",
       "      <td>0</td>\n",
       "      <td>0</td>\n",
       "      <td>0</td>\n",
       "      <td>0</td>\n",
       "      <td>0</td>\n",
       "      <td>0</td>\n",
       "      <td>0</td>\n",
       "    </tr>\n",
       "    <tr>\n",
       "      <th>4</th>\n",
       "      <td>0</td>\n",
       "      <td>0</td>\n",
       "      <td>0</td>\n",
       "      <td>0</td>\n",
       "      <td>0</td>\n",
       "      <td>0</td>\n",
       "      <td>0</td>\n",
       "      <td>0</td>\n",
       "      <td>0</td>\n",
       "      <td>0</td>\n",
       "      <td>...</td>\n",
       "      <td>0</td>\n",
       "      <td>0</td>\n",
       "      <td>0</td>\n",
       "      <td>0</td>\n",
       "      <td>0</td>\n",
       "      <td>0</td>\n",
       "      <td>0</td>\n",
       "      <td>0</td>\n",
       "      <td>0</td>\n",
       "      <td>0</td>\n",
       "    </tr>\n",
       "    <tr>\n",
       "      <th>...</th>\n",
       "      <td>...</td>\n",
       "      <td>...</td>\n",
       "      <td>...</td>\n",
       "      <td>...</td>\n",
       "      <td>...</td>\n",
       "      <td>...</td>\n",
       "      <td>...</td>\n",
       "      <td>...</td>\n",
       "      <td>...</td>\n",
       "      <td>...</td>\n",
       "      <td>...</td>\n",
       "      <td>...</td>\n",
       "      <td>...</td>\n",
       "      <td>...</td>\n",
       "      <td>...</td>\n",
       "      <td>...</td>\n",
       "      <td>...</td>\n",
       "      <td>...</td>\n",
       "      <td>...</td>\n",
       "      <td>...</td>\n",
       "      <td>...</td>\n",
       "    </tr>\n",
       "    <tr>\n",
       "      <th>343370</th>\n",
       "      <td>0</td>\n",
       "      <td>0</td>\n",
       "      <td>0</td>\n",
       "      <td>0</td>\n",
       "      <td>0</td>\n",
       "      <td>0</td>\n",
       "      <td>0</td>\n",
       "      <td>0</td>\n",
       "      <td>0</td>\n",
       "      <td>0</td>\n",
       "      <td>...</td>\n",
       "      <td>0</td>\n",
       "      <td>0</td>\n",
       "      <td>0</td>\n",
       "      <td>0</td>\n",
       "      <td>0</td>\n",
       "      <td>0</td>\n",
       "      <td>0</td>\n",
       "      <td>0</td>\n",
       "      <td>0</td>\n",
       "      <td>0</td>\n",
       "    </tr>\n",
       "    <tr>\n",
       "      <th>343371</th>\n",
       "      <td>0</td>\n",
       "      <td>0</td>\n",
       "      <td>0</td>\n",
       "      <td>0</td>\n",
       "      <td>0</td>\n",
       "      <td>0</td>\n",
       "      <td>0</td>\n",
       "      <td>0</td>\n",
       "      <td>0</td>\n",
       "      <td>0</td>\n",
       "      <td>...</td>\n",
       "      <td>0</td>\n",
       "      <td>0</td>\n",
       "      <td>0</td>\n",
       "      <td>0</td>\n",
       "      <td>0</td>\n",
       "      <td>0</td>\n",
       "      <td>0</td>\n",
       "      <td>0</td>\n",
       "      <td>0</td>\n",
       "      <td>0</td>\n",
       "    </tr>\n",
       "    <tr>\n",
       "      <th>343372</th>\n",
       "      <td>0</td>\n",
       "      <td>0</td>\n",
       "      <td>0</td>\n",
       "      <td>0</td>\n",
       "      <td>0</td>\n",
       "      <td>0</td>\n",
       "      <td>0</td>\n",
       "      <td>0</td>\n",
       "      <td>0</td>\n",
       "      <td>0</td>\n",
       "      <td>...</td>\n",
       "      <td>0</td>\n",
       "      <td>0</td>\n",
       "      <td>0</td>\n",
       "      <td>0</td>\n",
       "      <td>0</td>\n",
       "      <td>0</td>\n",
       "      <td>0</td>\n",
       "      <td>0</td>\n",
       "      <td>0</td>\n",
       "      <td>0</td>\n",
       "    </tr>\n",
       "    <tr>\n",
       "      <th>343373</th>\n",
       "      <td>0</td>\n",
       "      <td>0</td>\n",
       "      <td>0</td>\n",
       "      <td>0</td>\n",
       "      <td>0</td>\n",
       "      <td>0</td>\n",
       "      <td>0</td>\n",
       "      <td>0</td>\n",
       "      <td>0</td>\n",
       "      <td>0</td>\n",
       "      <td>...</td>\n",
       "      <td>0</td>\n",
       "      <td>0</td>\n",
       "      <td>0</td>\n",
       "      <td>0</td>\n",
       "      <td>0</td>\n",
       "      <td>0</td>\n",
       "      <td>0</td>\n",
       "      <td>0</td>\n",
       "      <td>0</td>\n",
       "      <td>0</td>\n",
       "    </tr>\n",
       "    <tr>\n",
       "      <th>343374</th>\n",
       "      <td>0</td>\n",
       "      <td>0</td>\n",
       "      <td>0</td>\n",
       "      <td>0</td>\n",
       "      <td>0</td>\n",
       "      <td>0</td>\n",
       "      <td>0</td>\n",
       "      <td>0</td>\n",
       "      <td>0</td>\n",
       "      <td>0</td>\n",
       "      <td>...</td>\n",
       "      <td>0</td>\n",
       "      <td>0</td>\n",
       "      <td>0</td>\n",
       "      <td>0</td>\n",
       "      <td>0</td>\n",
       "      <td>0</td>\n",
       "      <td>0</td>\n",
       "      <td>0</td>\n",
       "      <td>0</td>\n",
       "      <td>0</td>\n",
       "    </tr>\n",
       "  </tbody>\n",
       "</table>\n",
       "<p>343375 rows × 11476953 columns</p>\n",
       "</div>"
      ],
      "text/plain": [
       "        00 00  00 00 00  00 00 40  00 00 активнейшего  00 00 бывало  \\\n",
       "0           0         0         0                   0             0   \n",
       "1           0         0         0                   0             0   \n",
       "2           0         0         0                   0             0   \n",
       "3           0         0         0                   0             0   \n",
       "4           0         0         0                   0             0   \n",
       "...       ...       ...       ...                 ...           ...   \n",
       "343370      0         0         0                   0             0   \n",
       "343371      0         0         0                   0             0   \n",
       "343372      0         0         0                   0             0   \n",
       "343373      0         0         0                   0             0   \n",
       "343374      0         0         0                   0             0   \n",
       "\n",
       "        00 00 включение  00 00 воскресенья  00 00 даже  00 00 до  00 00 если  \\\n",
       "0                     0                  0           0         0           0   \n",
       "1                     0                  0           0         0           0   \n",
       "2                     0                  0           0         0           0   \n",
       "3                     0                  0           0         0           0   \n",
       "4                     0                  0           0         0           0   \n",
       "...                 ...                ...         ...       ...         ...   \n",
       "343370                0                  0           0         0           0   \n",
       "343371                0                  0           0         0           0   \n",
       "343372                0                  0           0         0           0   \n",
       "343373                0                  0           0         0           0   \n",
       "343374                0                  0           0         0           0   \n",
       "\n",
       "        ...  ґаджет для  ґаджет для людей  ґлобалки когда  ґлобалки когда она  \\\n",
       "0       ...           0                 0               0                   0   \n",
       "1       ...           0                 0               0                   0   \n",
       "2       ...           0                 0               0                   0   \n",
       "3       ...           0                 0               0                   0   \n",
       "4       ...           0                 0               0                   0   \n",
       "...     ...         ...               ...             ...                 ...   \n",
       "343370  ...           0                 0               0                   0   \n",
       "343371  ...           0                 0               0                   0   \n",
       "343372  ...           0                 0               0                   0   \n",
       "343373  ...           0                 0               0                   0   \n",
       "343374  ...           0                 0               0                   0   \n",
       "\n",
       "        ಠ益ಠლ заменили  ಠ益ಠლ заменили кнопки  为您找到相关结 этот  \\\n",
       "0                   0                     0             0   \n",
       "1                   0                     0             0   \n",
       "2                   0                     0             0   \n",
       "3                   0                     0             0   \n",
       "4                   0                     0             0   \n",
       "...               ...                   ...           ...   \n",
       "343370              0                     0             0   \n",
       "343371              0                     0             0   \n",
       "343372              0                     0             0   \n",
       "343373              0                     0             0   \n",
       "343374              0                     0             0   \n",
       "\n",
       "        为您找到相关结 этот момент  魅族 через  魅族 через пару  \n",
       "0                         0         0              0  \n",
       "1                         0         0              0  \n",
       "2                         0         0              0  \n",
       "3                         0         0              0  \n",
       "4                         0         0              0  \n",
       "...                     ...       ...            ...  \n",
       "343370                    0         0              0  \n",
       "343371                    0         0              0  \n",
       "343372                    0         0              0  \n",
       "343373                    0         0              0  \n",
       "343374                    0         0              0  \n",
       "\n",
       "[343375 rows x 11476953 columns]"
      ]
     },
     "execution_count": 51,
     "metadata": {},
     "output_type": "execute_result"
    }
   ],
   "source": [
    "vec_tr_2_3\n"
   ]
  },
  {
   "cell_type": "markdown",
   "metadata": {},
   "source": [
    "Ого-го, японские иероглифы???! Ну ладно."
   ]
  },
  {
   "cell_type": "code",
   "execution_count": 52,
   "metadata": {},
   "outputs": [],
   "source": [
    "vec = TfidfVectorizer(ngram_range=(2, 3), max_df=0.1)\n",
    "bow_test = vec.fit_transform(test_x['Review'])\n",
    "\n",
    "vec_test = pd.DataFrame.sparse.from_spmatrix(bow_test, columns=vec.get_feature_names_out())"
   ]
  },
  {
   "cell_type": "code",
   "execution_count": 53,
   "metadata": {},
   "outputs": [
    {
     "data": {
      "text/plain": [
       "[('смартфон целом', 4703715),\n",
       " ('целом хороший', 5569313),\n",
       " ('хороший экран', 5510760),\n",
       " ('экран 08', 5756764),\n",
       " ('08 дюйма', 3473),\n",
       " ('дюйма хотел', 1373212),\n",
       " ('хотел взять', 5519994),\n",
       " ('взять не', 692742),\n",
       " ('не более', 2750981),\n",
       " ('более дюймов', 486890),\n",
       " ('дюймов но', 1373678),\n",
       " ('но общем', 3046980),\n",
       " ('общем удобно', 3186100),\n",
       " ('удобно лежит', 5307359),\n",
       " ('лежит руке', 2208016),\n",
       " ('руке комплекте', 4432254),\n",
       " ('комплекте шла', 2057004),\n",
       " ('шла пленка', 5738328),\n",
       " ('пленка темно', 3587213),\n",
       " ('темно серый', 5112202)]"
      ]
     },
     "execution_count": 53,
     "metadata": {},
     "output_type": "execute_result"
    }
   ],
   "source": [
    "list(vec.vocabulary_.items())[:20]"
   ]
  },
  {
   "cell_type": "code",
   "execution_count": 54,
   "metadata": {},
   "outputs": [
    {
     "data": {
      "text/plain": [
       "(343375, 114459)"
      ]
     },
     "execution_count": 54,
     "metadata": {},
     "output_type": "execute_result"
    }
   ],
   "source": [
    "len(vec_tr_2_3), len(vec_test), "
   ]
  },
  {
   "cell_type": "markdown",
   "metadata": {},
   "source": [
    "На глубине 6 без РСА  умирало ядро. Уменьшаем глубину до 3, количество итераций. Тот же эффект. Наверное, нужно плотный датасет сделать, сейчас. Нет, плотный датасет не помог, оставим последнюю надежду, РСА."
   ]
  },
  {
   "cell_type": "code",
   "execution_count": 55,
   "metadata": {},
   "outputs": [],
   "source": [
    "pca_test = pca.fit_transform(vec_test)"
   ]
  },
  {
   "cell_type": "code",
   "execution_count": 56,
   "metadata": {
    "scrolled": true
   },
   "outputs": [
    {
     "data": {
      "text/html": [
       "<div>\n",
       "<style scoped>\n",
       "    .dataframe tbody tr th:only-of-type {\n",
       "        vertical-align: middle;\n",
       "    }\n",
       "\n",
       "    .dataframe tbody tr th {\n",
       "        vertical-align: top;\n",
       "    }\n",
       "\n",
       "    .dataframe thead th {\n",
       "        text-align: right;\n",
       "    }\n",
       "</style>\n",
       "<table border=\"1\" class=\"dataframe\">\n",
       "  <thead>\n",
       "    <tr style=\"text-align: right;\">\n",
       "      <th></th>\n",
       "      <th>0</th>\n",
       "      <th>1</th>\n",
       "      <th>2</th>\n",
       "      <th>3</th>\n",
       "      <th>4</th>\n",
       "      <th>5</th>\n",
       "      <th>6</th>\n",
       "      <th>7</th>\n",
       "      <th>8</th>\n",
       "      <th>9</th>\n",
       "      <th>...</th>\n",
       "      <th>90</th>\n",
       "      <th>91</th>\n",
       "      <th>92</th>\n",
       "      <th>93</th>\n",
       "      <th>94</th>\n",
       "      <th>95</th>\n",
       "      <th>96</th>\n",
       "      <th>97</th>\n",
       "      <th>98</th>\n",
       "      <th>99</th>\n",
       "    </tr>\n",
       "  </thead>\n",
       "  <tbody>\n",
       "    <tr>\n",
       "      <th>0</th>\n",
       "      <td>-0.004143</td>\n",
       "      <td>-0.002704</td>\n",
       "      <td>-0.000111</td>\n",
       "      <td>0.001850</td>\n",
       "      <td>-0.002944</td>\n",
       "      <td>-0.001413</td>\n",
       "      <td>-0.003117</td>\n",
       "      <td>-0.000655</td>\n",
       "      <td>-0.002177</td>\n",
       "      <td>-0.001900</td>\n",
       "      <td>...</td>\n",
       "      <td>-0.001009</td>\n",
       "      <td>-0.000900</td>\n",
       "      <td>-0.007237</td>\n",
       "      <td>-0.002225</td>\n",
       "      <td>0.000699</td>\n",
       "      <td>0.001558</td>\n",
       "      <td>-0.001281</td>\n",
       "      <td>-0.000713</td>\n",
       "      <td>-0.001335</td>\n",
       "      <td>-0.000445</td>\n",
       "    </tr>\n",
       "    <tr>\n",
       "      <th>1</th>\n",
       "      <td>-0.004503</td>\n",
       "      <td>-0.003644</td>\n",
       "      <td>-0.003227</td>\n",
       "      <td>0.000280</td>\n",
       "      <td>-0.002694</td>\n",
       "      <td>-0.001841</td>\n",
       "      <td>-0.003019</td>\n",
       "      <td>-0.000489</td>\n",
       "      <td>-0.001937</td>\n",
       "      <td>-0.002145</td>\n",
       "      <td>...</td>\n",
       "      <td>0.000031</td>\n",
       "      <td>0.001647</td>\n",
       "      <td>0.001179</td>\n",
       "      <td>-0.002398</td>\n",
       "      <td>-0.002278</td>\n",
       "      <td>0.002260</td>\n",
       "      <td>-0.000210</td>\n",
       "      <td>-0.001403</td>\n",
       "      <td>0.001030</td>\n",
       "      <td>-0.001417</td>\n",
       "    </tr>\n",
       "    <tr>\n",
       "      <th>2</th>\n",
       "      <td>-0.004350</td>\n",
       "      <td>-0.004138</td>\n",
       "      <td>-0.003746</td>\n",
       "      <td>-0.000639</td>\n",
       "      <td>-0.004580</td>\n",
       "      <td>-0.002280</td>\n",
       "      <td>-0.004618</td>\n",
       "      <td>-0.002446</td>\n",
       "      <td>-0.002582</td>\n",
       "      <td>-0.001932</td>\n",
       "      <td>...</td>\n",
       "      <td>0.007906</td>\n",
       "      <td>-0.014207</td>\n",
       "      <td>0.006667</td>\n",
       "      <td>-0.007824</td>\n",
       "      <td>-0.012921</td>\n",
       "      <td>-0.023103</td>\n",
       "      <td>-0.050701</td>\n",
       "      <td>0.014829</td>\n",
       "      <td>0.015782</td>\n",
       "      <td>0.004875</td>\n",
       "    </tr>\n",
       "    <tr>\n",
       "      <th>3</th>\n",
       "      <td>0.013990</td>\n",
       "      <td>0.003255</td>\n",
       "      <td>0.040390</td>\n",
       "      <td>-0.061492</td>\n",
       "      <td>0.004142</td>\n",
       "      <td>0.000916</td>\n",
       "      <td>-0.012187</td>\n",
       "      <td>0.000401</td>\n",
       "      <td>-0.000835</td>\n",
       "      <td>-0.002480</td>\n",
       "      <td>...</td>\n",
       "      <td>0.001199</td>\n",
       "      <td>-0.005552</td>\n",
       "      <td>0.000297</td>\n",
       "      <td>0.002150</td>\n",
       "      <td>-0.000272</td>\n",
       "      <td>-0.008326</td>\n",
       "      <td>0.001933</td>\n",
       "      <td>-0.005807</td>\n",
       "      <td>-0.025237</td>\n",
       "      <td>-0.000646</td>\n",
       "    </tr>\n",
       "    <tr>\n",
       "      <th>4</th>\n",
       "      <td>0.000842</td>\n",
       "      <td>0.037376</td>\n",
       "      <td>0.111126</td>\n",
       "      <td>0.109664</td>\n",
       "      <td>-0.007243</td>\n",
       "      <td>-0.006371</td>\n",
       "      <td>-0.012272</td>\n",
       "      <td>-0.007214</td>\n",
       "      <td>0.019895</td>\n",
       "      <td>-0.004357</td>\n",
       "      <td>...</td>\n",
       "      <td>0.007736</td>\n",
       "      <td>0.002830</td>\n",
       "      <td>0.030095</td>\n",
       "      <td>0.022578</td>\n",
       "      <td>-0.009009</td>\n",
       "      <td>0.000081</td>\n",
       "      <td>0.001153</td>\n",
       "      <td>0.003871</td>\n",
       "      <td>0.000371</td>\n",
       "      <td>0.007131</td>\n",
       "    </tr>\n",
       "  </tbody>\n",
       "</table>\n",
       "<p>5 rows × 100 columns</p>\n",
       "</div>"
      ],
      "text/plain": [
       "         0         1         2         3         4         5         6   \\\n",
       "0 -0.004143 -0.002704 -0.000111  0.001850 -0.002944 -0.001413 -0.003117   \n",
       "1 -0.004503 -0.003644 -0.003227  0.000280 -0.002694 -0.001841 -0.003019   \n",
       "2 -0.004350 -0.004138 -0.003746 -0.000639 -0.004580 -0.002280 -0.004618   \n",
       "3  0.013990  0.003255  0.040390 -0.061492  0.004142  0.000916 -0.012187   \n",
       "4  0.000842  0.037376  0.111126  0.109664 -0.007243 -0.006371 -0.012272   \n",
       "\n",
       "         7         8         9   ...        90        91        92        93  \\\n",
       "0 -0.000655 -0.002177 -0.001900  ... -0.001009 -0.000900 -0.007237 -0.002225   \n",
       "1 -0.000489 -0.001937 -0.002145  ...  0.000031  0.001647  0.001179 -0.002398   \n",
       "2 -0.002446 -0.002582 -0.001932  ...  0.007906 -0.014207  0.006667 -0.007824   \n",
       "3  0.000401 -0.000835 -0.002480  ...  0.001199 -0.005552  0.000297  0.002150   \n",
       "4 -0.007214  0.019895 -0.004357  ...  0.007736  0.002830  0.030095  0.022578   \n",
       "\n",
       "         94        95        96        97        98        99  \n",
       "0  0.000699  0.001558 -0.001281 -0.000713 -0.001335 -0.000445  \n",
       "1 -0.002278  0.002260 -0.000210 -0.001403  0.001030 -0.001417  \n",
       "2 -0.012921 -0.023103 -0.050701  0.014829  0.015782  0.004875  \n",
       "3 -0.000272 -0.008326  0.001933 -0.005807 -0.025237 -0.000646  \n",
       "4 -0.009009  0.000081  0.001153  0.003871  0.000371  0.007131  \n",
       "\n",
       "[5 rows x 100 columns]"
      ]
     },
     "execution_count": 56,
     "metadata": {},
     "output_type": "execute_result"
    }
   ],
   "source": [
    "pd.DataFrame(pca_test).head()"
   ]
  },
  {
   "cell_type": "markdown",
   "metadata": {},
   "source": [
    "Ну вот получилось что-то. Никаких иероглифов и цифр. Но хватит ли этого для хороших метрик?"
   ]
  },
  {
   "cell_type": "code",
   "execution_count": 57,
   "metadata": {
    "colab": {
     "base_uri": "https://localhost:8080/"
    },
    "executionInfo": {
     "elapsed": 19045,
     "status": "ok",
     "timestamp": 1628179349622,
     "user": {
      "displayName": "Артур Сапрыкин",
      "photoUrl": "",
      "userId": "16185371824692237125"
     },
     "user_tz": -180
    },
    "id": "qdOOyOjtC5LY",
    "outputId": "8d2d8d4b-8dd2-4ec5-fe9e-90c3b0903721"
   },
   "outputs": [
    {
     "data": {
      "application/vnd.jupyter.widget-view+json": {
       "model_id": "798033f2ef4f4754a841e5dba6519fd9",
       "version_major": 2,
       "version_minor": 0
      },
      "text/plain": [
       "MetricVisualizer(layout=Layout(align_self='stretch', height='500px'))"
      ]
     },
     "metadata": {},
     "output_type": "display_data"
    }
   ],
   "source": [
    "model_cb.fit(pca_result, train_y, plot= True)\n",
    "pred = model_cb.predict(pca_test)\n"
   ]
  },
  {
   "cell_type": "code",
   "execution_count": 58,
   "metadata": {
    "scrolled": true
   },
   "outputs": [
    {
     "name": "stdout",
     "output_type": "stream",
     "text": [
      "\n",
      "              precision    recall  f1-score   support\n",
      "\n",
      "           1       0.11      0.03      0.04      8652\n",
      "           2       0.11      0.04      0.06      8867\n",
      "           3       0.12      0.04      0.07     13286\n",
      "           4       0.22      0.14      0.17     26766\n",
      "           5       0.50      0.77      0.60     56888\n",
      "\n",
      "    accuracy                           0.42    114459\n",
      "   macro avg       0.21      0.20      0.19    114459\n",
      "weighted avg       0.33      0.42      0.35    114459\n",
      "\n",
      "\n",
      "Confusion Matrix\n",
      "\n",
      "[[  229   335   473  1317  6298]\n",
      " [  193   328   475  1311  6560]\n",
      " [  157   337   592  1773 10427]\n",
      " [  279   485  1050  3656 21296]\n",
      " [ 1173  1369  2339  8241 43766]]\n",
      "AUC ROC train:  0.8902764401835082\n",
      "AUC ROC test:  0.8726544141589742\n"
     ]
    }
   ],
   "source": [
    "test_cat = model_cb.predict(pca_test)\n",
    "proba_cat = model_cb.predict_proba(pca_test)\n",
    "\n",
    "train_pred = model_cb.predict(pca_result)\n",
    "proba_train = model_cb.predict_proba(pca_result)\n",
    " \n",
    "test_pred = model_cb.predict(pca_test)\n",
    "y_pred=test_pred\n",
    "confusion = confusion_matrix(test_y, test_pred)\n",
    "\n",
    "print(CR + classification_report(test_y,test_pred)) \n",
    "\n",
    "print(CR + 'Confusion Matrix\\n')\n",
    "print(confusion)\n",
    "auc_tr = roc_auc_score(train_y, proba_train, multi_class='ovr')\n",
    "auc_test = roc_auc_score(test_y, proba_test, multi_class='ovr')\n",
    "print('AUC ROC train: ',auc_tr)\n",
    "print('AUC ROC test: ',auc_test)"
   ]
  },
  {
   "cell_type": "code",
   "execution_count": 59,
   "metadata": {
    "scrolled": true
   },
   "outputs": [
    {
     "name": "stdout",
     "output_type": "stream",
     "text": [
      "Root Mean Squared Error на тестовой выборке: 1.6182268720701252\n",
      "Mean Absolute Error на тестовой выборке: 1.0706279104308092\n",
      "R2 на тестовой выборке: -0.6333121383340214\n"
     ]
    }
   ],
   "source": [
    "mse = mean_squared_error(test_y, y_pred)\n",
    "\n",
    "rmse = root_mean_squared_error(test_y, y_pred)\n",
    "mae = mean_absolute_error(test_y, y_pred)\n",
    "print(\"Root Mean Squared Error на тестовой выборке:\", rmse)\n",
    "print(\"Mean Absolute Error на тестовой выборке:\", mae)\n",
    "r2 = r2_score(test_y, y_pred)\n",
    "print(\"R2 на тестовой выборке:\", r2)"
   ]
  },
  {
   "cell_type": "markdown",
   "metadata": {},
   "source": [
    "Да, дела (((( Очень плохо получилось. И не разобрать, что тут результат TF-IDF, а что - РСА. А без РСА не считалось."
   ]
  },
  {
   "cell_type": "markdown",
   "metadata": {},
   "source": []
  },
  {
   "cell_type": "markdown",
   "metadata": {
    "id": "-rVchuv-C5LY"
   },
   "source": [
    "## Токенизация\n",
    "\n",
    "Токенизируем наш текст."
   ]
  },
  {
   "cell_type": "code",
   "execution_count": 60,
   "metadata": {
    "colab": {
     "base_uri": "https://localhost:8080/"
    },
    "executionInfo": {
     "elapsed": 34,
     "status": "ok",
     "timestamp": 1628179363352,
     "user": {
      "displayName": "Артур Сапрыкин",
      "photoUrl": "",
      "userId": "16185371824692237125"
     },
     "user_tz": -180
    },
    "id": "giLO_E4gC5LY",
    "outputId": "0830b0c8-8a45-4666-b2c0-b54465fd23f1",
    "scrolled": true
   },
   "outputs": [
    {
     "name": "stdout",
     "output_type": "stream",
     "text": [
      "['3D', 'Touch', 'просто', 'восхитительная', 'вещь!', 'Заряд', 'держит', 'целый', 'день.', 'В', 'розовом', 'цвете', 'смотрится', 'очень', 'необычно.', 'Touch', 'ID', 'очень', 'быстрый', 'и', 'удобный.', 'Всем', 'советую', 'этот', 'телефон!']\n"
     ]
    }
   ],
   "source": [
    "print(data['Review'].iloc[0].split())"
   ]
  },
  {
   "cell_type": "markdown",
   "metadata": {},
   "source": [
    "Так нехорошо, пунктуация остаётся не там"
   ]
  },
  {
   "cell_type": "code",
   "execution_count": 61,
   "metadata": {
    "colab": {
     "base_uri": "https://localhost:8080/"
    },
    "executionInfo": {
     "elapsed": 24,
     "status": "ok",
     "timestamp": 1628179363352,
     "user": {
      "displayName": "Артур Сапрыкин",
      "photoUrl": "",
      "userId": "16185371824692237125"
     },
     "user_tz": -180
    },
    "id": "ZknqHZuGC5LZ",
    "outputId": "1f0033fc-bf04-4265-f457-4457f174a917"
   },
   "outputs": [
    {
     "data": {
      "text/plain": [
       "array(['00 13 сентября', '00 14', '00 14 каким', '00 15', '00 15 00',\n",
       "       '00 16', '00 16 00', '00 17', '00 17 30', '00 20', '00 20 00',\n",
       "       '00 20 00p', '00 20 подробных', '00 20120125',\n",
       "       '00 20120125 телефон', '00 24', '00 24 00', '00 29',\n",
       "       '00 29 вайбер', '00 30'], dtype=object)"
      ]
     },
     "execution_count": 61,
     "metadata": {},
     "output_type": "execute_result"
    }
   ],
   "source": [
    "vec.get_feature_names_out()[20:40]"
   ]
  },
  {
   "cell_type": "markdown",
   "metadata": {
    "id": "mFTfeSiUC5LZ"
   },
   "source": [
    "Попробуем разбивать текст на слова с использованием регулярных выражений."
   ]
  },
  {
   "cell_type": "code",
   "execution_count": 62,
   "metadata": {
    "executionInfo": {
     "elapsed": 7,
     "status": "ok",
     "timestamp": 1628179363352,
     "user": {
      "displayName": "Артур Сапрыкин",
      "photoUrl": "",
      "userId": "16185371824692237125"
     },
     "user_tz": -180
    },
    "id": "VZGPka_6C5LZ"
   },
   "outputs": [],
   "source": [
    "import re\n",
    "regex = re.compile(\"[А-ЯЁа-яё]+\")\n",
    "\n",
    "def words_only(text, regex=regex):\n",
    "    try:\n",
    "        return \" \".join(regex.findall(text))\n",
    "    except:\n",
    "        return \"\"\n"
   ]
  },
  {
   "cell_type": "code",
   "execution_count": 63,
   "metadata": {
    "colab": {
     "base_uri": "https://localhost:8080/",
     "height": 35
    },
    "executionInfo": {
     "elapsed": 6,
     "status": "ok",
     "timestamp": 1628179363352,
     "user": {
      "displayName": "Артур Сапрыкин",
      "photoUrl": "",
      "userId": "16185371824692237125"
     },
     "user_tz": -180
    },
    "id": "OLFhWSwNC5LZ",
    "outputId": "4d907bed-362f-49a8-d981-fc53ae6b8b93"
   },
   "outputs": [
    {
     "data": {
      "text/plain": [
       "'просто восхитительная вещь Заряд держит целый день В розовом цвете смотрится очень необычно очень быстрый и удобный Всем советую этот телефон'"
      ]
     },
     "execution_count": 63,
     "metadata": {},
     "output_type": "execute_result"
    }
   ],
   "source": [
    "words_only(data['Review'].iloc[0])"
   ]
  },
  {
   "cell_type": "markdown",
   "metadata": {
    "colab": {
     "base_uri": "https://localhost:8080/"
    },
    "executionInfo": {
     "elapsed": 3445,
     "status": "ok",
     "timestamp": 1628179729258,
     "user": {
      "displayName": "Артур Сапрыкин",
      "photoUrl": "",
      "userId": "16185371824692237125"
     },
     "user_tz": -180
    },
    "id": "hO7P47oYEtL_",
    "outputId": "ef1988b3-8286-43be-d04a-1f4036b8441e"
   },
   "source": [
    "Неплохо, но воспользуемся штатным токенизатором:"
   ]
  },
  {
   "cell_type": "code",
   "execution_count": 64,
   "metadata": {
    "colab": {
     "base_uri": "https://localhost:8080/"
    },
    "executionInfo": {
     "elapsed": 490,
     "status": "ok",
     "timestamp": 1628179762078,
     "user": {
      "displayName": "Артур Сапрыкин",
      "photoUrl": "",
      "userId": "16185371824692237125"
     },
     "user_tz": -180
    },
    "id": "58z0fFkeC5LZ",
    "outputId": "156e3098-cba0-45ea-9c01-f6baae65b7fa",
    "scrolled": false
   },
   "outputs": [
    {
     "data": {
      "text/plain": [
       "['3D',\n",
       " 'Touch',\n",
       " 'просто',\n",
       " 'восхитительная',\n",
       " 'вещь',\n",
       " '!',\n",
       " 'Заряд',\n",
       " 'держит',\n",
       " 'целый',\n",
       " 'день',\n",
       " '.',\n",
       " 'В',\n",
       " 'розовом',\n",
       " 'цвете',\n",
       " 'смотрится',\n",
       " 'очень',\n",
       " 'необычно',\n",
       " '.',\n",
       " 'Touch',\n",
       " 'ID',\n",
       " 'очень',\n",
       " 'быстрый',\n",
       " 'и',\n",
       " 'удобный',\n",
       " '.',\n",
       " 'Всем',\n",
       " 'советую',\n",
       " 'этот',\n",
       " 'телефон',\n",
       " '!']"
      ]
     },
     "execution_count": 64,
     "metadata": {},
     "output_type": "execute_result"
    }
   ],
   "source": [
    "word_tokenize(data['Review'].iloc[0])\n"
   ]
  },
  {
   "cell_type": "markdown",
   "metadata": {},
   "source": [
    "Идеально, список из всех слов со знаками пунктуации. Обработаем всё:"
   ]
  },
  {
   "cell_type": "code",
   "execution_count": 65,
   "metadata": {},
   "outputs": [],
   "source": [
    "def get_word_tokens(row):\n",
    "    try:\n",
    "        return word_tokenize(row['Review'])\n",
    "    except:\n",
    "        return ''\n",
    "X_tokenized = X.apply(get_word_tokens, axis = 1)"
   ]
  },
  {
   "cell_type": "code",
   "execution_count": 66,
   "metadata": {},
   "outputs": [
    {
     "data": {
      "text/plain": [
       "0    [3D, Touch, просто, восхитительная, вещь, !, З...\n",
       "1    [Отключается, при, температуре, близкой, к, ну...\n",
       "2    [В, Apple, окончательно, решили, не, заморачив...\n",
       "3    [Постарался, наиболее, ёмко, и, коротко, описа...\n",
       "4    [Достойный, телефон, ., Пользоваться, одно, уд...\n",
       "dtype: object"
      ]
     },
     "execution_count": 66,
     "metadata": {},
     "output_type": "execute_result"
    }
   ],
   "source": [
    "X_tokenized.head()"
   ]
  },
  {
   "cell_type": "code",
   "execution_count": null,
   "metadata": {},
   "outputs": [],
   "source": []
  },
  {
   "cell_type": "markdown",
   "metadata": {
    "id": "0NweW6qyC5La"
   },
   "source": [
    "## Самые частотные слова отзывов"
   ]
  },
  {
   "cell_type": "code",
   "execution_count": 67,
   "metadata": {
    "colab": {
     "base_uri": "https://localhost:8080/",
     "height": 35
    },
    "executionInfo": {
     "elapsed": 4,
     "status": "ok",
     "timestamp": 1628179762079,
     "user": {
      "displayName": "Артур Сапрыкин",
      "photoUrl": "",
      "userId": "16185371824692237125"
     },
     "user_tz": -180
    },
    "id": "MCx3hdZxC5La",
    "outputId": "5e1c1703-30eb-46e3-e893-826ddc20aa50"
   },
   "outputs": [
    {
     "data": {
      "text/plain": [
       "'!\"#$%&\\'()*+,-./:;<=>?@[\\\\]^_`{|}~'"
      ]
     },
     "execution_count": 67,
     "metadata": {},
     "output_type": "execute_result"
    }
   ],
   "source": [
    "\n",
    "punctuation"
   ]
  },
  {
   "cell_type": "code",
   "execution_count": 68,
   "metadata": {
    "colab": {
     "base_uri": "https://localhost:8080/"
    },
    "executionInfo": {
     "elapsed": 45228,
     "status": "ok",
     "timestamp": 1628179807304,
     "user": {
      "displayName": "Артур Сапрыкин",
      "photoUrl": "",
      "userId": "16185371824692237125"
     },
     "user_tz": -180
    },
    "id": "usmSsa2oC5Lb",
    "outputId": "0b9583cf-68c3-453e-e211-d6ed3abbcec5"
   },
   "outputs": [
    {
     "name": "stdout",
     "output_type": "stream",
     "text": [
      "26631253\n"
     ]
    },
    {
     "data": {
      "text/plain": [
       "['3D',\n",
       " 'Touch',\n",
       " 'просто',\n",
       " 'восхитительная',\n",
       " 'вещь',\n",
       " 'Заряд',\n",
       " 'держит',\n",
       " 'целый',\n",
       " 'день',\n",
       " 'В']"
      ]
     },
     "execution_count": 68,
     "metadata": {},
     "output_type": "execute_result"
    }
   ],
   "source": [
    "corpus = [token for tweet in X.Review for token in word_tokenize(tweet) if token not in punctuation]\n",
    "print(len(corpus))\n",
    "corpus[:10]"
   ]
  },
  {
   "cell_type": "markdown",
   "metadata": {},
   "source": [
    "Пунктуация тоже важна, так-то... подумаем, что вернуть, но потом."
   ]
  },
  {
   "cell_type": "code",
   "execution_count": 69,
   "metadata": {
    "colab": {
     "base_uri": "https://localhost:8080/"
    },
    "executionInfo": {
     "elapsed": 28,
     "status": "ok",
     "timestamp": 1628179807572,
     "user": {
      "displayName": "Артур Сапрыкин",
      "photoUrl": "",
      "userId": "16185371824692237125"
     },
     "user_tz": -180
    },
    "id": "sBLjzBAgC5Lb",
    "outputId": "72e22d28-faa4-4293-d4f4-349262bd02e7",
    "scrolled": true
   },
   "outputs": [
    {
     "data": {
      "text/plain": [
       "[('и', 809140),\n",
       " ('не', 731171),\n",
       " ('в', 575878),\n",
       " ('на', 468358),\n",
       " ('с', 304402),\n",
       " ('что', 284317),\n",
       " ('телефон', 254452),\n",
       " ('но', 220653),\n",
       " ('за', 156524),\n",
       " ('как', 154638),\n",
       " ('очень', 153080),\n",
       " ('это', 152684),\n",
       " ('для', 148287),\n",
       " ('я', 139635),\n",
       " ('все', 138509),\n",
       " ('по', 136960),\n",
       " ('а', 117748),\n",
       " ('то', 117078),\n",
       " ('у', 115035),\n",
       " ('В', 111070)]"
      ]
     },
     "execution_count": 69,
     "metadata": {},
     "output_type": "execute_result"
    }
   ],
   "source": [
    "freq_dict = Counter(corpus)\n",
    "\n",
    "freq_dict_sorted= sorted(freq_dict.items(), key=lambda x: -x[1])\n",
    "freq_dict.most_common(20)"
   ]
  },
  {
   "cell_type": "markdown",
   "metadata": {},
   "source": [
    "Много стоп-слов и я, и \"в\" и \"В\" считаются отдельно"
   ]
  },
  {
   "cell_type": "markdown",
   "metadata": {
    "id": "1gotNL29C5Lb"
   },
   "source": [
    "Посмотрим на распределение частот слов  по  закону Ципфа. Убедимся, что частотность слов убывает очень быстро."
   ]
  },
  {
   "cell_type": "code",
   "execution_count": 70,
   "metadata": {
    "colab": {
     "base_uri": "https://localhost:8080/",
     "height": 265
    },
    "executionInfo": {
     "elapsed": 288,
     "status": "ok",
     "timestamp": 1628179807845,
     "user": {
      "displayName": "Артур Сапрыкин",
      "photoUrl": "",
      "userId": "16185371824692237125"
     },
     "user_tz": -180
    },
    "id": "OuUYvZWyC5Lb",
    "outputId": "26076cb4-564c-4889-9cf7-bef0fed106d4",
    "scrolled": true
   },
   "outputs": [
    {
     "data": {
      "image/png": "[encoded data removed]",
      "text/plain": [
       "<Figure size 640x480 with 1 Axes>"
      ]
     },
     "metadata": {},
     "output_type": "display_data"
    }
   ],
   "source": [
    "import matplotlib.pyplot as plt\n",
    "%matplotlib inline\n",
    "\n",
    "freqs = list(freq_dict.values())\n",
    "freqs = sorted(freqs, reverse = True)\n",
    "\n",
    "fig, ax = plt.subplots()\n",
    "ax.plot(freqs[:300], range(300))\n",
    "plt.show()"
   ]
  },
  {
   "cell_type": "markdown",
   "metadata": {},
   "source": [
    "Да, убывает стремительно"
   ]
  },
  {
   "cell_type": "markdown",
   "metadata": {
    "id": "aDOVMyYTC5Lb"
   },
   "source": [
    "Ну и на закон Хипса посмотрим по нашему тексту:\n",
    "С увеличением длины текста (количества токенов), количество слов увеличивается в соответствии с законом,чем больше корпус, тем меньше новых слов добавляется с добавлением новых текстов. В какой-то момент корпус насыщается.\n",
    "\n"
   ]
  },
  {
   "cell_type": "markdown",
   "metadata": {
    "colab": {
     "base_uri": "https://localhost:8080/"
    },
    "executionInfo": {
     "elapsed": 650997,
     "status": "ok",
     "timestamp": 1628180458831,
     "user": {
      "displayName": "Артур Сапрыкин",
      "photoUrl": "",
      "userId": "16185371824692237125"
     },
     "user_tz": -180
    },
    "id": "gTv9h2aXC5Lb",
    "outputId": "c4d6362d-aedd-483e-f227-f02197bf2443"
   },
   "source": [
    "from tqdm import tqdm\n",
    "\n",
    "cnt = Counter()\n",
    "n_words = []\n",
    "n_tokens = []\n",
    "tokens = []\n",
    "for index, row in tqdm(data.iterrows(), total = len(data)):\n",
    "    tokens = word_tokenize(row['Review'])\n",
    "    cnt.update([token for token in tokens if token not in punctuation])\n",
    "    n_words.append(len(cnt))\n",
    "    n_tokens.append(sum(cnt.values()))"
   ]
  },
  {
   "cell_type": "markdown",
   "metadata": {
    "colab": {
     "base_uri": "https://localhost:8080/",
     "height": 278
    },
    "executionInfo": {
     "elapsed": 618,
     "status": "ok",
     "timestamp": 1628180459443,
     "user": {
      "displayName": "Артур Сапрыкин",
      "photoUrl": "",
      "userId": "16185371824692237125"
     },
     "user_tz": -180
    },
    "id": "BoRWKuwxC5Lb",
    "outputId": "a22e6d0e-7d9e-4d10-8996-22099e3d98bf"
   },
   "source": [
    "fig, ax = plt.subplots()\n",
    "ax.plot(n_tokens, n_words)\n",
    "plt.title('закон Хипса '+ CR + ' замедление прироста частот слов'+ CR+'при увеличении числа текстов')\n",
    "plt.show()"
   ]
  },
  {
   "attachments": {
    "image.png": {
     "image/png": "[encoded data removed]"
    }
   },
   "cell_type": "markdown",
   "metadata": {},
   "source": [
    "![image.png](attachment:image.png)"
   ]
  },
  {
   "cell_type": "markdown",
   "metadata": {},
   "source": [
    "И с помощью этого (очень долгого, надо сказать) кода мы убедились, что закон Хипса на нашем тексте работает, хотя до сильного замедления мы ещё не дошли, нужно больше текстов, но уже замедлились."
   ]
  },
  {
   "cell_type": "markdown",
   "metadata": {
    "id": "PbjNVj2bC5Lb"
   },
   "source": [
    "## Стоп-слова и пунктуация\n",
    "\n",
    "Стоп-слова: союзы, связки, местоимения - часто встречаются и не привносят ничего специфического. Этошум и мы их уберём, как и пунктуацию, но с пунктуацией ещё, возможно, поработаем позже."
   ]
  },
  {
   "cell_type": "code",
   "execution_count": 71,
   "metadata": {
    "colab": {
     "base_uri": "https://localhost:8080/"
    },
    "executionInfo": {
     "elapsed": 269,
     "status": "ok",
     "timestamp": 1628181728557,
     "user": {
      "displayName": "Артур Сапрыкин",
      "photoUrl": "",
      "userId": "16185371824692237125"
     },
     "user_tz": -180
    },
    "id": "-XXtVpMiC5Lb",
    "outputId": "b5513fd4-d0ca-4b84-ec19-41b3b10a55e5"
   },
   "outputs": [
    {
     "name": "stdout",
     "output_type": "stream",
     "text": [
      "['и', 'в', 'во', 'не', 'что', 'он', 'на', 'я', 'с', 'со', 'как', 'а', 'то', 'все', 'она', 'так', 'его', 'но', 'да', 'ты', 'к', 'у', 'же', 'вы', 'за', 'бы', 'по', 'только', 'ее', 'мне', 'было', 'вот', 'от', 'меня', 'еще', 'нет', 'о', 'из', 'ему', 'теперь', 'когда', 'даже', 'ну', 'вдруг', 'ли', 'если', 'уже', 'или', 'ни', 'быть', 'был', 'него', 'до', 'вас', 'нибудь', 'опять', 'уж', 'вам', 'ведь', 'там', 'потом', 'себя', 'ничего', 'ей', 'может', 'они', 'тут', 'где', 'есть', 'надо', 'ней', 'для', 'мы', 'тебя', 'их', 'чем', 'была', 'сам', 'чтоб', 'без', 'будто', 'чего', 'раз', 'тоже', 'себе', 'под', 'будет', 'ж', 'тогда', 'кто', 'этот', 'того', 'потому', 'этого', 'какой', 'совсем', 'ним', 'здесь', 'этом', 'один', 'почти', 'мой', 'тем', 'чтобы', 'нее', 'сейчас', 'были', 'куда', 'зачем', 'всех', 'никогда', 'можно', 'при', 'наконец', 'два', 'об', 'другой', 'хоть', 'после', 'над', 'больше', 'тот', 'через', 'эти', 'нас', 'про', 'всего', 'них', 'какая', 'много', 'разве', 'три', 'эту', 'моя', 'впрочем', 'хорошо', 'свою', 'этой', 'перед', 'иногда', 'лучше', 'чуть', 'том', 'нельзя', 'такой', 'им', 'более', 'всегда', 'конечно', 'всю', 'между']\n"
     ]
    }
   ],
   "source": [
    "print(stopwords.words('russian'))"
   ]
  },
  {
   "cell_type": "code",
   "execution_count": 72,
   "metadata": {
    "colab": {
     "base_uri": "https://localhost:8080/",
     "height": 35
    },
    "executionInfo": {
     "elapsed": 295,
     "status": "ok",
     "timestamp": 1628181729247,
     "user": {
      "displayName": "Артур Сапрыкин",
      "photoUrl": "",
      "userId": "16185371824692237125"
     },
     "user_tz": -180
    },
    "id": "SHT5W627C5Lc",
    "outputId": "999719aa-3abd-45b4-cd1a-359a081e2b6d"
   },
   "outputs": [
    {
     "data": {
      "text/plain": [
       "'!\"#$%&\\'()*+,-./:;<=>?@[\\\\]^_`{|}~'"
      ]
     },
     "execution_count": 72,
     "metadata": {},
     "output_type": "execute_result"
    }
   ],
   "source": [
    "punctuation"
   ]
  },
  {
   "cell_type": "code",
   "execution_count": 73,
   "metadata": {
    "executionInfo": {
     "elapsed": 9,
     "status": "ok",
     "timestamp": 1628181729248,
     "user": {
      "displayName": "Артур Сапрыкин",
      "photoUrl": "",
      "userId": "16185371824692237125"
     },
     "user_tz": -180
    },
    "id": "fN9wR30lC5Lc"
   },
   "outputs": [
    {
     "data": {
      "text/plain": [
       "188"
      ]
     },
     "execution_count": 73,
     "metadata": {},
     "output_type": "execute_result"
    }
   ],
   "source": [
    "noise = stopwords.words('russian') + list(punctuation)+ ['``', \"''\",'--',\"//\", '/']\n",
    "len(noise)"
   ]
  },
  {
   "cell_type": "code",
   "execution_count": 74,
   "metadata": {},
   "outputs": [],
   "source": [
    "excl_list = ['хорошо', 'не', 'никогда','ничего', \"!\", 'нельзя' ]"
   ]
  },
  {
   "cell_type": "code",
   "execution_count": 75,
   "metadata": {},
   "outputs": [
    {
     "data": {
      "text/plain": [
       "182"
      ]
     },
     "execution_count": 75,
     "metadata": {},
     "output_type": "execute_result"
    }
   ],
   "source": [
    "noise = [x for x in noise if x not in  excl_list]\n",
    "len(noise)"
   ]
  },
  {
   "cell_type": "markdown",
   "metadata": {},
   "source": [
    "Выберем самые частотные н-граммы. Инициализация CountVectorizer параметрами на 2"
   ]
  },
  {
   "cell_type": "code",
   "execution_count": 76,
   "metadata": {},
   "outputs": [
    {
     "name": "stderr",
     "output_type": "stream",
     "text": [
      "C:\\Users\\term\\anaconda3\\envs\\nlpenv\\Lib\\site-packages\\sklearn\\feature_extraction\\text.py:521: UserWarning: The parameter 'token_pattern' will not be used since 'tokenizer' is not None'\n",
      "  warnings.warn(\n"
     ]
    }
   ],
   "source": [
    "vec_cv = CountVectorizer(ngram_range=(2, 3), min_df=0.04, max_df = 0.1, tokenizer=word_tokenize, stop_words=noise)\n",
    "counts_tr = vec_cv.fit_transform(train_x['Review'])\n",
    "\n",
    "# Создание DataFrame для удобства работы\n",
    "df_counts_tr = pd.DataFrame(counts_tr.toarray(), columns=vec_cv.get_feature_names_out())\n",
    "\n",
    "\n"
   ]
  },
  {
   "cell_type": "code",
   "execution_count": 77,
   "metadata": {},
   "outputs": [],
   "source": [
    "# Подсчёт суммы каждого столбца (биграммы)\n",
    "df_counts_tr = pd.DataFrame(counts_tr.toarray(), columns=vec_cv.get_feature_names_out())\n",
    "freq_ngramms = df_counts_tr.sum(axis=0).sort_values(ascending=False)\n"
   ]
  },
  {
   "cell_type": "code",
   "execution_count": 78,
   "metadata": {},
   "outputs": [
    {
     "data": {
      "text/plain": [
       "! !           89214\n",
       "! ! !         53447\n",
       "телефон не    14886\n",
       "dtype: int64"
      ]
     },
     "execution_count": 78,
     "metadata": {},
     "output_type": "execute_result"
    }
   ],
   "source": [
    "freq_ngramms[:25]"
   ]
  },
  {
   "cell_type": "markdown",
   "metadata": {
    "id": "Mihufq8FC5Lc"
   },
   "source": [
    "Добавим исключение стоп-слов в векторизатор, аргумент `stop_words`."
   ]
  },
  {
   "cell_type": "code",
   "execution_count": 79,
   "metadata": {},
   "outputs": [],
   "source": [
    "vec = CountVectorizer(ngram_range=(2, 3), tokenizer=word_tokenize, stop_words=noise)"
   ]
  },
  {
   "cell_type": "code",
   "execution_count": 80,
   "metadata": {
    "scrolled": false
   },
   "outputs": [
    {
     "name": "stderr",
     "output_type": "stream",
     "text": [
      "C:\\Users\\term\\anaconda3\\envs\\nlpenv\\Lib\\site-packages\\sklearn\\feature_extraction\\text.py:521: UserWarning: The parameter 'token_pattern' will not be used since 'tokenizer' is not None'\n",
      "  warnings.warn(\n"
     ]
    }
   ],
   "source": [
    "vec_tr = TfidfVectorizer(ngram_range=(1, 2), max_df=0.4, tokenizer=word_tokenize, stop_words=noise)\n",
    "bow_tr = vec_tr.fit_transform(train_x['Review'])\n",
    "\n",
    "vec_train = pd.DataFrame.sparse.from_spmatrix(bow_tr, columns=vec_tr.get_feature_names_out()\n",
    "                                             )"
   ]
  },
  {
   "cell_type": "code",
   "execution_count": 81,
   "metadata": {
    "scrolled": true
   },
   "outputs": [
    {
     "data": {
      "text/plain": [
       "4389032"
      ]
     },
     "execution_count": 81,
     "metadata": {},
     "output_type": "execute_result"
    }
   ],
   "source": [
    "list_ngramm_imp = vec_train.columns\n",
    "len(list_ngramm_imp)"
   ]
  },
  {
   "cell_type": "code",
   "execution_count": 82,
   "metadata": {},
   "outputs": [],
   "source": [
    "ngramm_imp = vec_train.sum().sort_values(ascending = False)\n"
   ]
  },
  {
   "cell_type": "code",
   "execution_count": 83,
   "metadata": {},
   "outputs": [
    {
     "data": {
      "text/plain": [
       "!             8488.854352\n",
       "! !           4440.754048\n",
       "очень         4261.783304\n",
       "это           3173.267587\n",
       "советую       2297.947597\n",
       "хороший       2260.131937\n",
       "аппарат       2190.844154\n",
       "отличный      2187.494951\n",
       "...           2159.075015\n",
       "доволен       2107.061294\n",
       "деньги        2004.827683\n",
       "просто        1878.714853\n",
       "целом         1838.061739\n",
       "модель         1717.48847\n",
       "года          1650.058915\n",
       "рекомендую    1614.577132\n",
       "смартфон      1590.805953\n",
       "работает       1564.00407\n",
       "купил         1548.021007\n",
       "всем          1538.835357\n",
       "dtype: Sparse[float64, 0]"
      ]
     },
     "execution_count": 83,
     "metadata": {},
     "output_type": "execute_result"
    }
   ],
   "source": [
    "ngramm_imp.head(20)"
   ]
  },
  {
   "cell_type": "code",
   "execution_count": 84,
   "metadata": {},
   "outputs": [
    {
     "data": {
      "text/plain": [
       "array(['!', '! !', \"! 'пентайл\", '! ++++++++++++++++++++++++++++++++++',\n",
       "       '! +-20000', '! +/-', '! +100500', '! +32+38', '! +5', '! +вкл',\n",
       "       '! +живучесть.сколько', '! +и-', '! +интересно', '! +камера',\n",
       "       '! +ко', '! +куча', '! +минусы', '! +обнаружили', '! +от',\n",
       "       '! +потрясающий', '! +прям', '! +умеет', '! +флеха', '! ,тем',\n",
       "       '! -/-/-/перешёл', '! -10', '! -100/10', '! -38', '! -battery',\n",
       "       '! -d', '! -wlan', '! -а', '! -автофокуса', '! -аккума',\n",
       "       '! -аккумулятор', '! -батарея', '! -белая', '! -в', '! -вернулся',\n",
       "       '! -видеоплеер'], dtype=object)"
      ]
     },
     "execution_count": 84,
     "metadata": {},
     "output_type": "execute_result"
    }
   ],
   "source": [
    "vec_tr.get_feature_names_out()[:40]\n"
   ]
  },
  {
   "cell_type": "code",
   "execution_count": 85,
   "metadata": {},
   "outputs": [
    {
     "name": "stderr",
     "output_type": "stream",
     "text": [
      "C:\\Users\\term\\anaconda3\\envs\\nlpenv\\Lib\\site-packages\\sklearn\\feature_extraction\\text.py:521: UserWarning: The parameter 'token_pattern' will not be used since 'tokenizer' is not None'\n",
      "  warnings.warn(\n"
     ]
    }
   ],
   "source": [
    "vec_ts = TfidfVectorizer(ngram_range=(1, 2), max_df=0.4, tokenizer=word_tokenize, stop_words=noise)\n",
    "bow_ts = vec_ts.fit_transform(test_x['Review'])\n",
    "\n",
    "vec_test = pd.DataFrame.sparse.from_spmatrix(bow_ts, columns=vec_ts.get_feature_names_out()\n",
    "                                             )"
   ]
  },
  {
   "cell_type": "code",
   "execution_count": 86,
   "metadata": {
    "scrolled": false
   },
   "outputs": [
    {
     "data": {
      "text/plain": [
       "(343375, 114459)"
      ]
     },
     "execution_count": 86,
     "metadata": {},
     "output_type": "execute_result"
    }
   ],
   "source": [
    "len(vec_train), len(vec_test), "
   ]
  },
  {
   "attachments": {
    "image.png": {
     "image/png": "[encoded data removed]"
    }
   },
   "cell_type": "markdown",
   "metadata": {},
   "source": [
    "![image.png](attachment:image.png)"
   ]
  },
  {
   "cell_type": "markdown",
   "metadata": {},
   "source": [
    "Ядро умирает снова, пойдём через PCA\n"
   ]
  },
  {
   "cell_type": "code",
   "execution_count": 87,
   "metadata": {},
   "outputs": [],
   "source": [
    "pca_train = pca.fit_transform(vec_train)"
   ]
  },
  {
   "cell_type": "code",
   "execution_count": 88,
   "metadata": {},
   "outputs": [
    {
     "data": {
      "text/html": [
       "<div>\n",
       "<style scoped>\n",
       "    .dataframe tbody tr th:only-of-type {\n",
       "        vertical-align: middle;\n",
       "    }\n",
       "\n",
       "    .dataframe tbody tr th {\n",
       "        vertical-align: top;\n",
       "    }\n",
       "\n",
       "    .dataframe thead th {\n",
       "        text-align: right;\n",
       "    }\n",
       "</style>\n",
       "<table border=\"1\" class=\"dataframe\">\n",
       "  <thead>\n",
       "    <tr style=\"text-align: right;\">\n",
       "      <th></th>\n",
       "      <th>0</th>\n",
       "      <th>1</th>\n",
       "      <th>2</th>\n",
       "      <th>3</th>\n",
       "      <th>4</th>\n",
       "      <th>5</th>\n",
       "      <th>6</th>\n",
       "      <th>7</th>\n",
       "      <th>8</th>\n",
       "      <th>9</th>\n",
       "      <th>...</th>\n",
       "      <th>90</th>\n",
       "      <th>91</th>\n",
       "      <th>92</th>\n",
       "      <th>93</th>\n",
       "      <th>94</th>\n",
       "      <th>95</th>\n",
       "      <th>96</th>\n",
       "      <th>97</th>\n",
       "      <th>98</th>\n",
       "      <th>99</th>\n",
       "    </tr>\n",
       "  </thead>\n",
       "  <tbody>\n",
       "    <tr>\n",
       "      <th>0</th>\n",
       "      <td>-0.030902</td>\n",
       "      <td>-0.003461</td>\n",
       "      <td>-0.000297</td>\n",
       "      <td>0.036871</td>\n",
       "      <td>-0.007714</td>\n",
       "      <td>-0.008689</td>\n",
       "      <td>-0.000703</td>\n",
       "      <td>-0.000593</td>\n",
       "      <td>-0.012010</td>\n",
       "      <td>-0.013700</td>\n",
       "      <td>...</td>\n",
       "      <td>-0.030864</td>\n",
       "      <td>-0.042643</td>\n",
       "      <td>-0.059767</td>\n",
       "      <td>-0.041827</td>\n",
       "      <td>0.011724</td>\n",
       "      <td>0.041875</td>\n",
       "      <td>0.004826</td>\n",
       "      <td>0.017294</td>\n",
       "      <td>-0.006215</td>\n",
       "      <td>0.019152</td>\n",
       "    </tr>\n",
       "    <tr>\n",
       "      <th>1</th>\n",
       "      <td>-0.029173</td>\n",
       "      <td>-0.017343</td>\n",
       "      <td>-0.008808</td>\n",
       "      <td>-0.008083</td>\n",
       "      <td>-0.003445</td>\n",
       "      <td>-0.013587</td>\n",
       "      <td>0.005615</td>\n",
       "      <td>-0.007455</td>\n",
       "      <td>-0.003878</td>\n",
       "      <td>-0.003755</td>\n",
       "      <td>...</td>\n",
       "      <td>0.019087</td>\n",
       "      <td>0.024147</td>\n",
       "      <td>0.025053</td>\n",
       "      <td>0.016557</td>\n",
       "      <td>0.004819</td>\n",
       "      <td>-0.009156</td>\n",
       "      <td>0.023297</td>\n",
       "      <td>0.006185</td>\n",
       "      <td>0.020433</td>\n",
       "      <td>0.044990</td>\n",
       "    </tr>\n",
       "    <tr>\n",
       "      <th>2</th>\n",
       "      <td>0.039636</td>\n",
       "      <td>-0.009470</td>\n",
       "      <td>-0.006676</td>\n",
       "      <td>-0.007110</td>\n",
       "      <td>-0.000210</td>\n",
       "      <td>-0.003244</td>\n",
       "      <td>0.002552</td>\n",
       "      <td>-0.006128</td>\n",
       "      <td>-0.009864</td>\n",
       "      <td>0.004825</td>\n",
       "      <td>...</td>\n",
       "      <td>-0.114074</td>\n",
       "      <td>-0.041260</td>\n",
       "      <td>-0.000941</td>\n",
       "      <td>0.052480</td>\n",
       "      <td>-0.058235</td>\n",
       "      <td>0.011109</td>\n",
       "      <td>-0.017860</td>\n",
       "      <td>-0.004060</td>\n",
       "      <td>0.009527</td>\n",
       "      <td>0.025110</td>\n",
       "    </tr>\n",
       "    <tr>\n",
       "      <th>3</th>\n",
       "      <td>-0.028103</td>\n",
       "      <td>0.057876</td>\n",
       "      <td>-0.042493</td>\n",
       "      <td>0.004929</td>\n",
       "      <td>0.010719</td>\n",
       "      <td>-0.028070</td>\n",
       "      <td>0.014853</td>\n",
       "      <td>-0.007752</td>\n",
       "      <td>0.081414</td>\n",
       "      <td>0.001234</td>\n",
       "      <td>...</td>\n",
       "      <td>0.001362</td>\n",
       "      <td>-0.012790</td>\n",
       "      <td>0.009070</td>\n",
       "      <td>-0.008986</td>\n",
       "      <td>-0.005104</td>\n",
       "      <td>-0.005582</td>\n",
       "      <td>-0.003338</td>\n",
       "      <td>0.022097</td>\n",
       "      <td>-0.005499</td>\n",
       "      <td>-0.031724</td>\n",
       "    </tr>\n",
       "    <tr>\n",
       "      <th>4</th>\n",
       "      <td>-0.026610</td>\n",
       "      <td>0.118451</td>\n",
       "      <td>0.122995</td>\n",
       "      <td>0.527926</td>\n",
       "      <td>-0.055524</td>\n",
       "      <td>0.056963</td>\n",
       "      <td>-0.113098</td>\n",
       "      <td>0.023286</td>\n",
       "      <td>-0.153560</td>\n",
       "      <td>0.230815</td>\n",
       "      <td>...</td>\n",
       "      <td>-0.033355</td>\n",
       "      <td>0.023281</td>\n",
       "      <td>-0.102434</td>\n",
       "      <td>0.077453</td>\n",
       "      <td>0.066073</td>\n",
       "      <td>-0.099588</td>\n",
       "      <td>0.167270</td>\n",
       "      <td>-0.083508</td>\n",
       "      <td>0.039237</td>\n",
       "      <td>-0.061914</td>\n",
       "    </tr>\n",
       "  </tbody>\n",
       "</table>\n",
       "<p>5 rows × 100 columns</p>\n",
       "</div>"
      ],
      "text/plain": [
       "         0         1         2         3         4         5         6   \\\n",
       "0 -0.030902 -0.003461 -0.000297  0.036871 -0.007714 -0.008689 -0.000703   \n",
       "1 -0.029173 -0.017343 -0.008808 -0.008083 -0.003445 -0.013587  0.005615   \n",
       "2  0.039636 -0.009470 -0.006676 -0.007110 -0.000210 -0.003244  0.002552   \n",
       "3 -0.028103  0.057876 -0.042493  0.004929  0.010719 -0.028070  0.014853   \n",
       "4 -0.026610  0.118451  0.122995  0.527926 -0.055524  0.056963 -0.113098   \n",
       "\n",
       "         7         8         9   ...        90        91        92        93  \\\n",
       "0 -0.000593 -0.012010 -0.013700  ... -0.030864 -0.042643 -0.059767 -0.041827   \n",
       "1 -0.007455 -0.003878 -0.003755  ...  0.019087  0.024147  0.025053  0.016557   \n",
       "2 -0.006128 -0.009864  0.004825  ... -0.114074 -0.041260 -0.000941  0.052480   \n",
       "3 -0.007752  0.081414  0.001234  ...  0.001362 -0.012790  0.009070 -0.008986   \n",
       "4  0.023286 -0.153560  0.230815  ... -0.033355  0.023281 -0.102434  0.077453   \n",
       "\n",
       "         94        95        96        97        98        99  \n",
       "0  0.011724  0.041875  0.004826  0.017294 -0.006215  0.019152  \n",
       "1  0.004819 -0.009156  0.023297  0.006185  0.020433  0.044990  \n",
       "2 -0.058235  0.011109 -0.017860 -0.004060  0.009527  0.025110  \n",
       "3 -0.005104 -0.005582 -0.003338  0.022097 -0.005499 -0.031724  \n",
       "4  0.066073 -0.099588  0.167270 -0.083508  0.039237 -0.061914  \n",
       "\n",
       "[5 rows x 100 columns]"
      ]
     },
     "execution_count": 88,
     "metadata": {},
     "output_type": "execute_result"
    }
   ],
   "source": [
    "pca_test = pca.fit_transform(vec_test)\n",
    "pd.DataFrame(pca_test).head()"
   ]
  },
  {
   "cell_type": "code",
   "execution_count": null,
   "metadata": {},
   "outputs": [],
   "source": []
  },
  {
   "cell_type": "code",
   "execution_count": 89,
   "metadata": {},
   "outputs": [
    {
     "data": {
      "application/vnd.jupyter.widget-view+json": {
       "model_id": "0e97e18adbf5481c80157cbbaa6551d0",
       "version_major": 2,
       "version_minor": 0
      },
      "text/plain": [
       "MetricVisualizer(layout=Layout(align_self='stretch', height='500px'))"
      ]
     },
     "metadata": {},
     "output_type": "display_data"
    },
    {
     "data": {
      "text/plain": [
       "<catboost.core.CatBoostClassifier at 0x1a4d02336d0>"
      ]
     },
     "execution_count": 89,
     "metadata": {},
     "output_type": "execute_result"
    }
   ],
   "source": [
    "model_cb.fit(pca_train, train_y, plot= True)\n"
   ]
  },
  {
   "cell_type": "code",
   "execution_count": 90,
   "metadata": {
    "colab": {
     "base_uri": "https://localhost:8080/"
    },
    "executionInfo": {
     "elapsed": 62232,
     "status": "ok",
     "timestamp": 1628181791471,
     "user": {
      "displayName": "Артур Сапрыкин",
      "photoUrl": "",
      "userId": "16185371824692237125"
     },
     "user_tz": -180
    },
    "id": "HF9syl3rC5Lc",
    "outputId": "cc61eb80-5761-48dc-c28f-51a78f289a8f"
   },
   "outputs": [
    {
     "name": "stdout",
     "output_type": "stream",
     "text": [
      "\n",
      "              precision    recall  f1-score   support\n",
      "\n",
      "           1       0.25      0.07      0.11      8652\n",
      "           2       0.20      0.05      0.08      8867\n",
      "           3       0.19      0.10      0.13     13286\n",
      "           4       0.30      0.21      0.25     26766\n",
      "           5       0.54      0.80      0.65     56888\n",
      "\n",
      "    accuracy                           0.47    114459\n",
      "   macro avg       0.30      0.25      0.24    114459\n",
      "weighted avg       0.40      0.47      0.41    114459\n",
      "\n",
      "\n",
      "Confusion Matrix\n",
      "\n",
      "[[  607   526   921  1269  5329]\n",
      " [  482   463   967  1520  5435]\n",
      " [  384   390  1369  2621  8522]\n",
      " [  350   341  1651  5754 18670]\n",
      " [  580   562  2350  8000 45396]]\n",
      "AUC train:  0.5116856825738753\n",
      "AUC test:  0.6515550099782226\n"
     ]
    }
   ],
   "source": [
    "train_pred = model_cb.predict(pca_result)\n",
    "proba_train = model_cb.predict_proba(pca_result)\n",
    " \n",
    "test_pred = model_cb.predict(pca_test)\n",
    "proba_test = model_cb.predict_proba(pca_test)\n",
    "\n",
    "confusion = confusion_matrix(test_y, test_pred)\n",
    "\n",
    "print(CR + classification_report(test_y,test_pred)) \n",
    "\n",
    "print(CR + 'Confusion Matrix\\n')\n",
    "print(confusion)\n",
    "auc_tr = roc_auc_score(train_y, proba_train, multi_class='ovr')\n",
    "auc_test = roc_auc_score(test_y,  proba_test, multi_class='ovr')\n",
    "print('AUC train: ', auc_tr)\n",
    "print('AUC test: ', auc_test)"
   ]
  },
  {
   "cell_type": "code",
   "execution_count": 91,
   "metadata": {
    "scrolled": true
   },
   "outputs": [
    {
     "name": "stdout",
     "output_type": "stream",
     "text": [
      "Root Mean Squared Error на тестовой выборке: 1.4854092817256506\n",
      "Mean Absolute Error на тестовой выборке: 0.94240732489363\n",
      "R2 на тестовой выборке: -0.37620343910613285\n"
     ]
    }
   ],
   "source": [
    "mse = mean_squared_error(test_y, test_pred)\n",
    "\n",
    "rmse = root_mean_squared_error(test_y, test_pred)\n",
    "mae = mean_absolute_error(test_y, test_pred)\n",
    "print(\"Root Mean Squared Error на тестовой выборке:\", rmse)\n",
    "print(\"Mean Absolute Error на тестовой выборке:\", mae)\n",
    "r2 = r2_score(test_y, test_pred)\n",
    "print(\"R2 на тестовой выборке:\", r2)"
   ]
  },
  {
   "cell_type": "markdown",
   "metadata": {
    "id": "6defu0nqC5Lc"
   },
   "source": [
    "Лучше? Ну...незначительно. Продолжим изыскания."
   ]
  },
  {
   "cell_type": "code",
   "execution_count": 92,
   "metadata": {
    "scrolled": true
   },
   "outputs": [
    {
     "data": {
      "image/png": "[encoded data removed]",
      "text/plain": [
       "<Figure size 640x480 with 1 Axes>"
      ]
     },
     "metadata": {},
     "output_type": "display_data"
    }
   ],
   "source": [
    "pd.Series(y).hist( bins = 5)\n",
    "plt.title('Распределение таргета оценки в комментариях')\n",
    "plt.show()"
   ]
  },
  {
   "cell_type": "markdown",
   "metadata": {},
   "source": [
    "Так-то распределение в матрице похоже, но мимо - слишком много."
   ]
  },
  {
   "cell_type": "markdown",
   "metadata": {
    "id": "wufTX3MIC5Lc"
   },
   "source": [
    "## Лемматизация\n",
    "\n",
    "Сделаем лемматизацию текстов. Вернем слова к их начальной форме – *лемме*. \n"
   ]
  },
  {
   "cell_type": "code",
   "execution_count": 93,
   "metadata": {
    "colab": {
     "base_uri": "https://localhost:8080/",
     "height": 307
    },
    "executionInfo": {
     "elapsed": 138151,
     "status": "error",
     "timestamp": 1628187009548,
     "user": {
      "displayName": "Артур Сапрыкин",
      "photoUrl": "",
      "userId": "16185371824692237125"
     },
     "user_tz": -180
    },
    "id": "_zZh8pkyC5Lc",
    "outputId": "e36bc88c-e38d-477a-89ca-1534da15e1a4"
   },
   "outputs": [
    {
     "data": {
      "text/plain": [
       "[{'text': '3D'},\n",
       " {'text': ' '},\n",
       " {'analysis': [], 'text': 'Touch'},\n",
       " {'text': ' '},\n",
       " {'analysis': [{'lex': 'просто', 'wt': 0.7704013228, 'gr': 'PART='}],\n",
       "  'text': 'просто'},\n",
       " {'text': ' '},\n",
       " {'analysis': [{'lex': 'восхитительный', 'wt': 1, 'gr': 'A=им,ед,полн,жен'}],\n",
       "  'text': 'восхитительная'},\n",
       " {'text': ' '},\n",
       " {'analysis': [{'lex': 'вещь', 'wt': 1, 'gr': 'S,жен,неод=(вин,ед|им,ед)'}],\n",
       "  'text': 'вещь'},\n",
       " {'text': '! '},\n",
       " {'analysis': [{'lex': 'заряд', 'wt': 1, 'gr': 'S,муж,неод=(вин,ед|им,ед)'}],\n",
       "  'text': 'Заряд'},\n",
       " {'text': ' '},\n",
       " {'analysis': [{'lex': 'держать',\n",
       "    'wt': 1,\n",
       "    'gr': 'V,несов,пе=непрош,ед,изъяв,3-л'}],\n",
       "  'text': 'держит'},\n",
       " {'text': ' '},\n",
       " {'analysis': [{'lex': 'целый',\n",
       "    'wt': 1,\n",
       "    'gr': 'A=(вин,ед,полн,муж,неод|им,ед,полн,муж)'}],\n",
       "  'text': 'целый'},\n",
       " {'text': ' '},\n",
       " {'analysis': [{'lex': 'день',\n",
       "    'wt': 0.999920149,\n",
       "    'gr': 'S,муж,неод=(вин,ед|им,ед)'}],\n",
       "  'text': 'день'},\n",
       " {'text': '. '},\n",
       " {'analysis': [{'lex': 'в', 'wt': 0.9999917878, 'gr': 'PR='}], 'text': 'В'},\n",
       " {'text': ' '},\n",
       " {'analysis': [{'lex': 'розовый',\n",
       "    'wt': 1,\n",
       "    'gr': 'A=(пр,ед,полн,муж|пр,ед,полн,сред)'}],\n",
       "  'text': 'розовом'},\n",
       " {'text': ' '},\n",
       " {'analysis': [{'lex': 'цвет', 'wt': 0.9994299262, 'gr': 'S,муж,неод=пр,ед'}],\n",
       "  'text': 'цвете'},\n",
       " {'text': ' '},\n",
       " {'analysis': [{'lex': 'смотреться',\n",
       "    'wt': 1,\n",
       "    'gr': 'V,несов,нп=непрош,ед,изъяв,3-л'}],\n",
       "  'text': 'смотрится'},\n",
       " {'text': ' '},\n",
       " {'analysis': [{'lex': 'очень', 'wt': 1, 'gr': 'ADV='}], 'text': 'очень'},\n",
       " {'text': ' '},\n",
       " {'analysis': [{'lex': 'необычно', 'wt': 0.6877931861, 'gr': 'ADV='}],\n",
       "  'text': 'необычно'},\n",
       " {'text': '. '},\n",
       " {'analysis': [], 'text': 'Touch'},\n",
       " {'text': ' '},\n",
       " {'analysis': [], 'text': 'ID'},\n",
       " {'text': ' '},\n",
       " {'analysis': [{'lex': 'очень', 'wt': 1, 'gr': 'ADV='}], 'text': 'очень'},\n",
       " {'text': ' '},\n",
       " {'analysis': [{'lex': 'быстрый',\n",
       "    'wt': 1,\n",
       "    'gr': 'A=(вин,ед,полн,муж,неод|им,ед,полн,муж)'}],\n",
       "  'text': 'быстрый'},\n",
       " {'text': ' '},\n",
       " {'analysis': [{'lex': 'и', 'wt': 0.9999770357, 'gr': 'CONJ='}], 'text': 'и'},\n",
       " {'text': ' '},\n",
       " {'analysis': [{'lex': 'удобный',\n",
       "    'wt': 1,\n",
       "    'gr': 'A=(вин,ед,полн,муж,неод|им,ед,полн,муж)'}],\n",
       "  'text': 'удобный'},\n",
       " {'text': '. '},\n",
       " {'analysis': [{'lex': 'все', 'wt': 0.2403292151, 'gr': 'SPRO,мн=дат'}],\n",
       "  'text': 'Всем'},\n",
       " {'text': ' '},\n",
       " {'analysis': [{'lex': 'советовать',\n",
       "    'wt': 1,\n",
       "    'gr': 'V,несов,нп=непрош,ед,изъяв,1-л'}],\n",
       "  'text': 'советую'},\n",
       " {'text': ' '},\n",
       " {'analysis': [{'lex': 'этот',\n",
       "    'wt': 1,\n",
       "    'gr': 'APRO=(вин,ед,муж,неод|им,ед,муж)'}],\n",
       "  'text': 'этот'},\n",
       " {'text': ' '},\n",
       " {'analysis': [{'lex': 'телефон', 'wt': 1, 'gr': 'S,муж,неод=(вин,ед|им,ед)'}],\n",
       "  'text': 'телефон'},\n",
       " {'text': '!'},\n",
       " {'text': '\\n'}]"
      ]
     },
     "execution_count": 93,
     "metadata": {},
     "output_type": "execute_result"
    }
   ],
   "source": [
    "mystem_analyzer.analyze(X['Review'][0])"
   ]
  },
  {
   "cell_type": "markdown",
   "metadata": {
    "id": "GRUbRTxyC5Ld"
   },
   "source": [
    "теперь используем лемматизатор майстема в качестве токенизатора."
   ]
  },
  {
   "cell_type": "code",
   "execution_count": 94,
   "metadata": {
    "executionInfo": {
     "elapsed": 327,
     "status": "aborted",
     "timestamp": 1628186838461,
     "user": {
      "displayName": "Артур Сапрыкин",
      "photoUrl": "",
      "userId": "16185371824692237125"
     },
     "user_tz": -180
    },
    "id": "erUKfI6AC5Ld"
   },
   "outputs": [],
   "source": [
    "def my_preproc(text, stopwords = noise):\n",
    "    text = re.sub('[{}]'.format(punctuation), '', text)\n",
    "    text = mystem_analyzer.lemmatize(text)\n",
    "    return [word for word in text if word not in stopwords]"
   ]
  },
  {
   "cell_type": "markdown",
   "metadata": {},
   "source": [
    "vec_tr = TfidfVectorizer(ngram_range=(1, 1), max_df=0.4, tokenizer=my_preproc)\n",
    "bow_tr = vec_tr.fit_transform(train_x['Review'])\n",
    "\n",
    "vec_train = pd.DataFrame.sparse.from_spmatrix(bow_tr, columns=vec_tr.get_feature_names_out()\n",
    "                                             )\n"
   ]
  },
  {
   "cell_type": "code",
   "execution_count": 95,
   "metadata": {},
   "outputs": [
    {
     "name": "stderr",
     "output_type": "stream",
     "text": [
      "C:\\Users\\term\\anaconda3\\envs\\nlpenv\\Lib\\site-packages\\sklearn\\feature_extraction\\text.py:521: UserWarning: The parameter 'token_pattern' will not be used since 'tokenizer' is not None'\n",
      "  warnings.warn(\n"
     ]
    }
   ],
   "source": [
    "vec_tr = TfidfVectorizer(ngram_range=(1, 1), max_df=0.4, tokenizer=my_preproc)\n",
    "bow_ts = vec_ts.fit_transform(test_x['Review'])\n",
    "\n",
    "vec_test = pd.DataFrame.sparse.from_spmatrix(bow_ts, columns=vec_ts.get_feature_names_out()\n",
    "                                             )"
   ]
  },
  {
   "cell_type": "code",
   "execution_count": 96,
   "metadata": {},
   "outputs": [
    {
     "data": {
      "text/plain": [
       "(343375, 114459)"
      ]
     },
     "execution_count": 96,
     "metadata": {},
     "output_type": "execute_result"
    }
   ],
   "source": [
    "len(vec_train), len(vec_test)"
   ]
  },
  {
   "cell_type": "markdown",
   "metadata": {},
   "source": [
    "Да, опять слишком большие, РСА:"
   ]
  },
  {
   "cell_type": "code",
   "execution_count": 97,
   "metadata": {},
   "outputs": [
    {
     "data": {
      "text/html": [
       "<div>\n",
       "<style scoped>\n",
       "    .dataframe tbody tr th:only-of-type {\n",
       "        vertical-align: middle;\n",
       "    }\n",
       "\n",
       "    .dataframe tbody tr th {\n",
       "        vertical-align: top;\n",
       "    }\n",
       "\n",
       "    .dataframe thead th {\n",
       "        text-align: right;\n",
       "    }\n",
       "</style>\n",
       "<table border=\"1\" class=\"dataframe\">\n",
       "  <thead>\n",
       "    <tr style=\"text-align: right;\">\n",
       "      <th></th>\n",
       "      <th>0</th>\n",
       "      <th>1</th>\n",
       "      <th>2</th>\n",
       "      <th>3</th>\n",
       "      <th>4</th>\n",
       "      <th>5</th>\n",
       "      <th>6</th>\n",
       "      <th>7</th>\n",
       "      <th>8</th>\n",
       "      <th>9</th>\n",
       "      <th>...</th>\n",
       "      <th>90</th>\n",
       "      <th>91</th>\n",
       "      <th>92</th>\n",
       "      <th>93</th>\n",
       "      <th>94</th>\n",
       "      <th>95</th>\n",
       "      <th>96</th>\n",
       "      <th>97</th>\n",
       "      <th>98</th>\n",
       "      <th>99</th>\n",
       "    </tr>\n",
       "  </thead>\n",
       "  <tbody>\n",
       "    <tr>\n",
       "      <th>0</th>\n",
       "      <td>-0.030902</td>\n",
       "      <td>-0.003461</td>\n",
       "      <td>-0.000297</td>\n",
       "      <td>0.036871</td>\n",
       "      <td>-0.007714</td>\n",
       "      <td>-0.008689</td>\n",
       "      <td>-0.000703</td>\n",
       "      <td>-0.000593</td>\n",
       "      <td>-0.012010</td>\n",
       "      <td>-0.013700</td>\n",
       "      <td>...</td>\n",
       "      <td>-0.030864</td>\n",
       "      <td>-0.042643</td>\n",
       "      <td>-0.059767</td>\n",
       "      <td>-0.041827</td>\n",
       "      <td>0.011724</td>\n",
       "      <td>0.041875</td>\n",
       "      <td>0.004826</td>\n",
       "      <td>0.017294</td>\n",
       "      <td>-0.006215</td>\n",
       "      <td>0.019152</td>\n",
       "    </tr>\n",
       "    <tr>\n",
       "      <th>1</th>\n",
       "      <td>-0.029173</td>\n",
       "      <td>-0.017343</td>\n",
       "      <td>-0.008808</td>\n",
       "      <td>-0.008083</td>\n",
       "      <td>-0.003445</td>\n",
       "      <td>-0.013587</td>\n",
       "      <td>0.005615</td>\n",
       "      <td>-0.007455</td>\n",
       "      <td>-0.003878</td>\n",
       "      <td>-0.003755</td>\n",
       "      <td>...</td>\n",
       "      <td>0.019087</td>\n",
       "      <td>0.024147</td>\n",
       "      <td>0.025053</td>\n",
       "      <td>0.016557</td>\n",
       "      <td>0.004819</td>\n",
       "      <td>-0.009156</td>\n",
       "      <td>0.023297</td>\n",
       "      <td>0.006185</td>\n",
       "      <td>0.020433</td>\n",
       "      <td>0.044990</td>\n",
       "    </tr>\n",
       "    <tr>\n",
       "      <th>2</th>\n",
       "      <td>0.039636</td>\n",
       "      <td>-0.009470</td>\n",
       "      <td>-0.006676</td>\n",
       "      <td>-0.007110</td>\n",
       "      <td>-0.000210</td>\n",
       "      <td>-0.003244</td>\n",
       "      <td>0.002552</td>\n",
       "      <td>-0.006128</td>\n",
       "      <td>-0.009864</td>\n",
       "      <td>0.004825</td>\n",
       "      <td>...</td>\n",
       "      <td>-0.114074</td>\n",
       "      <td>-0.041260</td>\n",
       "      <td>-0.000941</td>\n",
       "      <td>0.052480</td>\n",
       "      <td>-0.058235</td>\n",
       "      <td>0.011109</td>\n",
       "      <td>-0.017860</td>\n",
       "      <td>-0.004060</td>\n",
       "      <td>0.009527</td>\n",
       "      <td>0.025110</td>\n",
       "    </tr>\n",
       "    <tr>\n",
       "      <th>3</th>\n",
       "      <td>-0.028103</td>\n",
       "      <td>0.057876</td>\n",
       "      <td>-0.042493</td>\n",
       "      <td>0.004929</td>\n",
       "      <td>0.010719</td>\n",
       "      <td>-0.028070</td>\n",
       "      <td>0.014853</td>\n",
       "      <td>-0.007752</td>\n",
       "      <td>0.081414</td>\n",
       "      <td>0.001234</td>\n",
       "      <td>...</td>\n",
       "      <td>0.001362</td>\n",
       "      <td>-0.012790</td>\n",
       "      <td>0.009070</td>\n",
       "      <td>-0.008986</td>\n",
       "      <td>-0.005104</td>\n",
       "      <td>-0.005582</td>\n",
       "      <td>-0.003338</td>\n",
       "      <td>0.022097</td>\n",
       "      <td>-0.005499</td>\n",
       "      <td>-0.031724</td>\n",
       "    </tr>\n",
       "    <tr>\n",
       "      <th>4</th>\n",
       "      <td>-0.026610</td>\n",
       "      <td>0.118451</td>\n",
       "      <td>0.122995</td>\n",
       "      <td>0.527926</td>\n",
       "      <td>-0.055524</td>\n",
       "      <td>0.056963</td>\n",
       "      <td>-0.113098</td>\n",
       "      <td>0.023286</td>\n",
       "      <td>-0.153560</td>\n",
       "      <td>0.230815</td>\n",
       "      <td>...</td>\n",
       "      <td>-0.033355</td>\n",
       "      <td>0.023281</td>\n",
       "      <td>-0.102434</td>\n",
       "      <td>0.077453</td>\n",
       "      <td>0.066073</td>\n",
       "      <td>-0.099588</td>\n",
       "      <td>0.167270</td>\n",
       "      <td>-0.083508</td>\n",
       "      <td>0.039237</td>\n",
       "      <td>-0.061914</td>\n",
       "    </tr>\n",
       "  </tbody>\n",
       "</table>\n",
       "<p>5 rows × 100 columns</p>\n",
       "</div>"
      ],
      "text/plain": [
       "         0         1         2         3         4         5         6   \\\n",
       "0 -0.030902 -0.003461 -0.000297  0.036871 -0.007714 -0.008689 -0.000703   \n",
       "1 -0.029173 -0.017343 -0.008808 -0.008083 -0.003445 -0.013587  0.005615   \n",
       "2  0.039636 -0.009470 -0.006676 -0.007110 -0.000210 -0.003244  0.002552   \n",
       "3 -0.028103  0.057876 -0.042493  0.004929  0.010719 -0.028070  0.014853   \n",
       "4 -0.026610  0.118451  0.122995  0.527926 -0.055524  0.056963 -0.113098   \n",
       "\n",
       "         7         8         9   ...        90        91        92        93  \\\n",
       "0 -0.000593 -0.012010 -0.013700  ... -0.030864 -0.042643 -0.059767 -0.041827   \n",
       "1 -0.007455 -0.003878 -0.003755  ...  0.019087  0.024147  0.025053  0.016557   \n",
       "2 -0.006128 -0.009864  0.004825  ... -0.114074 -0.041260 -0.000941  0.052480   \n",
       "3 -0.007752  0.081414  0.001234  ...  0.001362 -0.012790  0.009070 -0.008986   \n",
       "4  0.023286 -0.153560  0.230815  ... -0.033355  0.023281 -0.102434  0.077453   \n",
       "\n",
       "         94        95        96        97        98        99  \n",
       "0  0.011724  0.041875  0.004826  0.017294 -0.006215  0.019152  \n",
       "1  0.004819 -0.009156  0.023297  0.006185  0.020433  0.044990  \n",
       "2 -0.058235  0.011109 -0.017860 -0.004060  0.009527  0.025110  \n",
       "3 -0.005104 -0.005582 -0.003338  0.022097 -0.005499 -0.031724  \n",
       "4  0.066073 -0.099588  0.167270 -0.083508  0.039237 -0.061914  \n",
       "\n",
       "[5 rows x 100 columns]"
      ]
     },
     "execution_count": 97,
     "metadata": {},
     "output_type": "execute_result"
    }
   ],
   "source": [
    "pca_train = pca.fit_transform(vec_train)\n",
    "pca_test = pca.fit_transform(vec_test)\n",
    "pd.DataFrame(pca_test).head()"
   ]
  },
  {
   "cell_type": "code",
   "execution_count": 98,
   "metadata": {},
   "outputs": [
    {
     "data": {
      "application/vnd.jupyter.widget-view+json": {
       "model_id": "46a567e60c394669b0b15faa6775d9d3",
       "version_major": 2,
       "version_minor": 0
      },
      "text/plain": [
       "MetricVisualizer(layout=Layout(align_self='stretch', height='500px'))"
      ]
     },
     "metadata": {},
     "output_type": "display_data"
    },
    {
     "data": {
      "text/plain": [
       "<catboost.core.CatBoostClassifier at 0x1a4d02336d0>"
      ]
     },
     "execution_count": 98,
     "metadata": {},
     "output_type": "execute_result"
    }
   ],
   "source": [
    "model_cb.fit(pca_train, train_y, plot= True)"
   ]
  },
  {
   "cell_type": "code",
   "execution_count": 99,
   "metadata": {},
   "outputs": [
    {
     "name": "stdout",
     "output_type": "stream",
     "text": [
      "\n",
      "              precision    recall  f1-score   support\n",
      "\n",
      "           1       0.25      0.07      0.11      8652\n",
      "           2       0.20      0.05      0.08      8867\n",
      "           3       0.19      0.10      0.13     13286\n",
      "           4       0.30      0.21      0.25     26766\n",
      "           5       0.54      0.80      0.65     56888\n",
      "\n",
      "    accuracy                           0.47    114459\n",
      "   macro avg       0.30      0.25      0.24    114459\n",
      "weighted avg       0.40      0.47      0.41    114459\n",
      "\n",
      "\n",
      "Confusion Matrix\n",
      "\n",
      "[[  607   526   921  1269  5329]\n",
      " [  482   463   967  1520  5435]\n",
      " [  384   390  1369  2621  8522]\n",
      " [  350   341  1651  5754 18670]\n",
      " [  580   562  2350  8000 45396]]\n",
      "AUC train:  0.5116856825738753\n",
      "AUC test:  0.6515550099782226\n"
     ]
    }
   ],
   "source": [
    "train_pred = model_cb.predict(pca_result)\n",
    "proba_train = model_cb.predict_proba(pca_result)\n",
    " \n",
    "test_pred = model_cb.predict(pca_test)\n",
    "proba_test = model_cb.predict_proba(pca_test)\n",
    "\n",
    "confusion = confusion_matrix(test_y, test_pred)\n",
    "print(CR + classification_report(test_y,test_pred)) \n",
    "print(CR + 'Confusion Matrix\\n')\n",
    "print(confusion)\n",
    "auc_tr = roc_auc_score(train_y, proba_train, multi_class='ovr')\n",
    "auc_test = roc_auc_score(test_y,  proba_test, multi_class='ovr')\n",
    "print('AUC train: ', auc_tr)\n",
    "print('AUC test: ', auc_test)"
   ]
  },
  {
   "cell_type": "code",
   "execution_count": 100,
   "metadata": {},
   "outputs": [
    {
     "name": "stdout",
     "output_type": "stream",
     "text": [
      "Root Mean Squared Error на тестовой выборке: 1.4854092817256506\n",
      "Mean Absolute Error на тестовой выборке: 0.94240732489363\n",
      "R2 на тестовой выборке: -0.37620343910613285\n"
     ]
    }
   ],
   "source": [
    "mse = mean_squared_error(test_y, test_pred)\n",
    "rmse = root_mean_squared_error(test_y, test_pred)\n",
    "mae = mean_absolute_error(test_y, test_pred)\n",
    "print(\"Root Mean Squared Error на тестовой выборке:\", rmse)\n",
    "print(\"Mean Absolute Error на тестовой выборке:\", mae)\n",
    "r2 = r2_score(test_y, test_pred)\n",
    "print(\"R2 на тестовой выборке:\", r2)"
   ]
  },
  {
   "cell_type": "markdown",
   "metadata": {
    "id": "scTbML3MC5Lf"
   },
   "source": [
    "## Регулярные выражения\n",
    "Попробуем для нашего не поддающегося пока конкретного случая особый способ токенизации - самостоятельно написать регулярку. Или, "
   ]
  },
  {
   "cell_type": "markdown",
   "metadata": {},
   "source": [
    "Создадим отборщики категорий и рег. выражений"
   ]
  },
  {
   "cell_type": "code",
   "execution_count": 101,
   "metadata": {
    "scrolled": false
   },
   "outputs": [
    {
     "name": "stderr",
     "output_type": "stream",
     "text": [
      "C:\\Users\\term\\anaconda3\\envs\\nlpenv\\Lib\\site-packages\\sklearn\\feature_extraction\\text.py:521: UserWarning: The parameter 'token_pattern' will not be used since 'tokenizer' is not None'\n",
      "  warnings.warn(\n"
     ]
    }
   ],
   "source": [
    "vec_tfidf = TfidfVectorizer(ngram_range=(2, 2), max_df=0.4, tokenizer=word_tokenize, stop_words=noise)\n",
    "bow_5 = vec_tfidf.fit_transform(data[data['Rating']>3]['Review'])\n"
   ]
  },
  {
   "cell_type": "code",
   "execution_count": 102,
   "metadata": {},
   "outputs": [],
   "source": [
    "vec_df_5 = pd.DataFrame.sparse.from_spmatrix(bow_5, columns=vec_tfidf.get_feature_names_out())"
   ]
  },
  {
   "cell_type": "code",
   "execution_count": 103,
   "metadata": {},
   "outputs": [
    {
     "name": "stderr",
     "output_type": "stream",
     "text": [
      "C:\\Users\\term\\anaconda3\\envs\\nlpenv\\Lib\\site-packages\\sklearn\\feature_extraction\\text.py:521: UserWarning: The parameter 'token_pattern' will not be used since 'tokenizer' is not None'\n",
      "  warnings.warn(\n"
     ]
    }
   ],
   "source": [
    "bow_2 = vec_tfidf.fit_transform(data[data['Rating']<=3]['Review'])\n",
    "vec_df_2 = pd.DataFrame.sparse.from_spmatrix(bow_2, columns=vec_tfidf.get_feature_names_out())"
   ]
  },
  {
   "cell_type": "code",
   "execution_count": 104,
   "metadata": {},
   "outputs": [],
   "source": [
    "# Подсчёт суммы каждого столбца (биграммы)\n",
    "freq_ngramms_5 = vec_df_5.sum(axis=0).sort_values(ascending=False)\n",
    "freq_ngramms_2 = vec_df_2.sum(axis=0).sort_values(ascending=False)\n"
   ]
  },
  {
   "cell_type": "code",
   "execution_count": 105,
   "metadata": {
    "scrolled": true
   },
   "outputs": [
    {
     "data": {
      "text/plain": [
       "! !                  5120.475814\n",
       "отличный телефон     1756.734865\n",
       "хороший телефон      1499.856758\n",
       "не пожалеете          1207.34929\n",
       "свои деньги          1184.751171\n",
       "очень доволен        1156.871296\n",
       "очень хороший         924.983363\n",
       "берите не              899.75485\n",
       "телефон не            880.940225\n",
       "всем советую          864.264205\n",
       "такие деньги          851.562404\n",
       "телефон очень          829.89759\n",
       "телефон !             813.860308\n",
       "своих денег           753.010027\n",
       "очень довольна        690.465883\n",
       "не жалею              690.245207\n",
       "такую цену            690.170089\n",
       "это не                  652.2861\n",
       "телефон хороший       650.400511\n",
       "разу не               650.077977\n",
       "пока не               608.923866\n",
       "телефон отличный      598.662518\n",
       "ничего не             598.154745\n",
       "отличный аппарат       592.56546\n",
       "целом телефон         582.049864\n",
       "очень нравится        568.474537\n",
       "не очень              564.776884\n",
       "сих пор               553.189877\n",
       "советую всем          526.783565\n",
       "стоит своих           500.305624\n",
       "советую !             494.114394\n",
       "пожалеете !           491.542613\n",
       "телефоном доволен     485.033795\n",
       "отличная модель       482.205479\n",
       "не могу               481.369883\n",
       "не пожалел            479.710454\n",
       "рекомендую !          474.042882\n",
       "покупкой доволен      449.125425\n",
       "телефон свои          446.565662\n",
       "не знаю               439.996664\n",
       "очень понравился      434.902238\n",
       "2 года                 433.43807\n",
       "доволен покупкой       401.82537\n",
       "! не                  398.671879\n",
       "хороший аппарат        393.15517\n",
       "супер !               390.011001\n",
       "отличный смартфон     389.461857\n",
       "телефон просто        371.597688\n",
       "советую брать         369.686887\n",
       "покупайте не          369.502157\n",
       "dtype: Sparse[float64, 0]"
      ]
     },
     "execution_count": 105,
     "metadata": {},
     "output_type": "execute_result"
    }
   ],
   "source": [
    "freq_ngramms_5[:50]"
   ]
  },
  {
   "cell_type": "code",
   "execution_count": 106,
   "metadata": {
    "scrolled": false
   },
   "outputs": [
    {
     "data": {
      "text/plain": [
       "! !                    2183.491186\n",
       "не советую             1100.170943\n",
       "не рекомендую           568.588764\n",
       "телефон не              548.524396\n",
       "не стоит                443.257988\n",
       "                          ...     \n",
       "связь перезагрузки        1.000029\n",
       "привыкну фиг               1.00002\n",
       "4000рублей максимум       1.000013\n",
       "стоит 4000рублей          1.000013\n",
       "максимум 500              1.000013\n",
       "Length: 85184, dtype: Sparse[float64, 0]"
      ]
     },
     "execution_count": 106,
     "metadata": {},
     "output_type": "execute_result"
    }
   ],
   "source": [
    "freq_ngramms_2[freq_ngramms_2>1]"
   ]
  },
  {
   "cell_type": "code",
   "execution_count": 107,
   "metadata": {},
   "outputs": [
    {
     "data": {
      "text/html": [
       "<div>\n",
       "<style scoped>\n",
       "    .dataframe tbody tr th:only-of-type {\n",
       "        vertical-align: middle;\n",
       "    }\n",
       "\n",
       "    .dataframe tbody tr th {\n",
       "        vertical-align: top;\n",
       "    }\n",
       "\n",
       "    .dataframe thead th {\n",
       "        text-align: right;\n",
       "    }\n",
       "</style>\n",
       "<table border=\"1\" class=\"dataframe\">\n",
       "  <thead>\n",
       "    <tr style=\"text-align: right;\">\n",
       "      <th></th>\n",
       "      <th>index</th>\n",
       "      <th>0</th>\n",
       "    </tr>\n",
       "  </thead>\n",
       "  <tbody>\n",
       "    <tr>\n",
       "      <th>0</th>\n",
       "      <td>! !</td>\n",
       "      <td>2183.491186</td>\n",
       "    </tr>\n",
       "    <tr>\n",
       "      <th>1</th>\n",
       "      <td>не советую</td>\n",
       "      <td>1100.170943</td>\n",
       "    </tr>\n",
       "    <tr>\n",
       "      <th>2</th>\n",
       "      <td>не рекомендую</td>\n",
       "      <td>568.588764</td>\n",
       "    </tr>\n",
       "    <tr>\n",
       "      <th>3</th>\n",
       "      <td>телефон не</td>\n",
       "      <td>548.524396</td>\n",
       "    </tr>\n",
       "    <tr>\n",
       "      <th>4</th>\n",
       "      <td>не стоит</td>\n",
       "      <td>443.257988</td>\n",
       "    </tr>\n",
       "    <tr>\n",
       "      <th>...</th>\n",
       "      <td>...</td>\n",
       "      <td>...</td>\n",
       "    </tr>\n",
       "    <tr>\n",
       "      <th>1450099</th>\n",
       "      <td>сим мин</td>\n",
       "      <td>0.024786</td>\n",
       "    </tr>\n",
       "    <tr>\n",
       "      <th>1450100</th>\n",
       "      <td>радиостанций новом</td>\n",
       "      <td>0.024786</td>\n",
       "    </tr>\n",
       "    <tr>\n",
       "      <th>1450101</th>\n",
       "      <td>нашел шумный</td>\n",
       "      <td>0.024786</td>\n",
       "    </tr>\n",
       "    <tr>\n",
       "      <th>1450102</th>\n",
       "      <td>обзора хорошая</td>\n",
       "      <td>0.024786</td>\n",
       "    </tr>\n",
       "    <tr>\n",
       "      <th>1450103</th>\n",
       "      <td>неделю забываешь</td>\n",
       "      <td>0.024786</td>\n",
       "    </tr>\n",
       "  </tbody>\n",
       "</table>\n",
       "<p>1450104 rows × 2 columns</p>\n",
       "</div>"
      ],
      "text/plain": [
       "                      index            0\n",
       "0                       ! !  2183.491186\n",
       "1                не советую  1100.170943\n",
       "2             не рекомендую   568.588764\n",
       "3                телефон не   548.524396\n",
       "4                  не стоит   443.257988\n",
       "...                     ...          ...\n",
       "1450099             сим мин     0.024786\n",
       "1450100  радиостанций новом     0.024786\n",
       "1450101        нашел шумный     0.024786\n",
       "1450102      обзора хорошая     0.024786\n",
       "1450103    неделю забываешь     0.024786\n",
       "\n",
       "[1450104 rows x 2 columns]"
      ]
     },
     "execution_count": 107,
     "metadata": {},
     "output_type": "execute_result"
    }
   ],
   "source": [
    "freq_ngramms_2 = freq_ngramms_2.reset_index()\n",
    "freq_ngramms_2"
   ]
  },
  {
   "cell_type": "code",
   "execution_count": 108,
   "metadata": {
    "scrolled": true
   },
   "outputs": [
    {
     "data": {
      "text/plain": [
       "85184"
      ]
     },
     "execution_count": 108,
     "metadata": {},
     "output_type": "execute_result"
    }
   ],
   "source": [
    "list_freq_2gramm = set(list(freq_ngramms_2[freq_ngramms_2[0]>1]['index']))\n",
    "len(list_freq_2gramm)"
   ]
  },
  {
   "cell_type": "code",
   "execution_count": 109,
   "metadata": {
    "scrolled": true
   },
   "outputs": [
    {
     "data": {
      "text/html": [
       "<div>\n",
       "<style scoped>\n",
       "    .dataframe tbody tr th:only-of-type {\n",
       "        vertical-align: middle;\n",
       "    }\n",
       "\n",
       "    .dataframe tbody tr th {\n",
       "        vertical-align: top;\n",
       "    }\n",
       "\n",
       "    .dataframe thead th {\n",
       "        text-align: right;\n",
       "    }\n",
       "</style>\n",
       "<table border=\"1\" class=\"dataframe\">\n",
       "  <thead>\n",
       "    <tr style=\"text-align: right;\">\n",
       "      <th></th>\n",
       "      <th>index</th>\n",
       "      <th>0</th>\n",
       "    </tr>\n",
       "  </thead>\n",
       "  <tbody>\n",
       "    <tr>\n",
       "      <th>0</th>\n",
       "      <td>! !</td>\n",
       "      <td>5120.475814</td>\n",
       "    </tr>\n",
       "    <tr>\n",
       "      <th>1</th>\n",
       "      <td>отличный телефон</td>\n",
       "      <td>1756.734865</td>\n",
       "    </tr>\n",
       "    <tr>\n",
       "      <th>2</th>\n",
       "      <td>хороший телефон</td>\n",
       "      <td>1499.856758</td>\n",
       "    </tr>\n",
       "    <tr>\n",
       "      <th>3</th>\n",
       "      <td>не пожалеете</td>\n",
       "      <td>1207.34929</td>\n",
       "    </tr>\n",
       "    <tr>\n",
       "      <th>4</th>\n",
       "      <td>свои деньги</td>\n",
       "      <td>1184.751171</td>\n",
       "    </tr>\n",
       "    <tr>\n",
       "      <th>...</th>\n",
       "      <td>...</td>\n",
       "      <td>...</td>\n",
       "    </tr>\n",
       "    <tr>\n",
       "      <th>3426023</th>\n",
       "      <td>заново запускает</td>\n",
       "      <td>0.019956</td>\n",
       "    </tr>\n",
       "    <tr>\n",
       "      <th>3426024</th>\n",
       "      <td>несмотря зарядку</td>\n",
       "      <td>0.019956</td>\n",
       "    </tr>\n",
       "    <tr>\n",
       "      <th>3426025</th>\n",
       "      <td>заново грузит</td>\n",
       "      <td>0.019956</td>\n",
       "    </tr>\n",
       "    <tr>\n",
       "      <th>3426026</th>\n",
       "      <td>видео дороговато</td>\n",
       "      <td>0.019956</td>\n",
       "    </tr>\n",
       "    <tr>\n",
       "      <th>3426027</th>\n",
       "      <td>стабильное 5</td>\n",
       "      <td>0.019956</td>\n",
       "    </tr>\n",
       "  </tbody>\n",
       "</table>\n",
       "<p>3426028 rows × 2 columns</p>\n",
       "</div>"
      ],
      "text/plain": [
       "                    index            0\n",
       "0                     ! !  5120.475814\n",
       "1        отличный телефон  1756.734865\n",
       "2         хороший телефон  1499.856758\n",
       "3            не пожалеете   1207.34929\n",
       "4             свои деньги  1184.751171\n",
       "...                   ...          ...\n",
       "3426023  заново запускает     0.019956\n",
       "3426024  несмотря зарядку     0.019956\n",
       "3426025     заново грузит     0.019956\n",
       "3426026  видео дороговато     0.019956\n",
       "3426027      стабильное 5     0.019956\n",
       "\n",
       "[3426028 rows x 2 columns]"
      ]
     },
     "execution_count": 109,
     "metadata": {},
     "output_type": "execute_result"
    }
   ],
   "source": [
    "freq_ngramms_5 = freq_ngramms_5.reset_index()\n",
    "freq_ngramms_5"
   ]
  },
  {
   "cell_type": "code",
   "execution_count": 110,
   "metadata": {},
   "outputs": [
    {
     "data": {
      "text/plain": [
       "3426028"
      ]
     },
     "execution_count": 110,
     "metadata": {},
     "output_type": "execute_result"
    }
   ],
   "source": [
    "list_freq_ngramm_5 = set(list(freq_ngramms_5[freq_ngramms_5[0]>0]['index']))\n",
    "len(list_freq_ngramm_5)"
   ]
  },
  {
   "cell_type": "code",
   "execution_count": 111,
   "metadata": {
    "scrolled": true
   },
   "outputs": [
    {
     "data": {
      "text/plain": [
       "16619"
      ]
     },
     "execution_count": 111,
     "metadata": {},
     "output_type": "execute_result"
    }
   ],
   "source": [
    "\n",
    "list_only_2_ng = [x for x in list_freq_2gramm if x not in list_freq_ngramm_5]\n",
    "len(list_only_2_ng)"
   ]
  },
  {
   "cell_type": "code",
   "execution_count": 112,
   "metadata": {},
   "outputs": [
    {
     "data": {
      "text/plain": [
       "180451"
      ]
     },
     "execution_count": 112,
     "metadata": {},
     "output_type": "execute_result"
    }
   ],
   "source": [
    "list_freq_ngramm_5 = set(list(freq_ngramms_5[freq_ngramms_5[0]>1.2]['index']))\n",
    "len(list_freq_ngramm_5)"
   ]
  },
  {
   "cell_type": "code",
   "execution_count": 113,
   "metadata": {},
   "outputs": [
    {
     "data": {
      "text/plain": [
       "1450104"
      ]
     },
     "execution_count": 113,
     "metadata": {},
     "output_type": "execute_result"
    }
   ],
   "source": [
    "list_freq_2gramm = set(list(freq_ngramms_2['index']))\n",
    "len(list_freq_2gramm)"
   ]
  },
  {
   "cell_type": "code",
   "execution_count": 114,
   "metadata": {
    "scrolled": true
   },
   "outputs": [
    {
     "data": {
      "text/plain": [
       "62326"
      ]
     },
     "execution_count": 114,
     "metadata": {},
     "output_type": "execute_result"
    }
   ],
   "source": [
    "list_only_5_ng = [x for x in list_freq_ngramm_5 if x not in list_freq_2gramm]\n",
    "len(list_only_5_ng)"
   ]
  },
  {
   "cell_type": "markdown",
   "metadata": {},
   "source": [
    "И мы получили 2 списка н-грамм, характерных каждый для своей категории отзывов, исключив общее. Объединим их:"
   ]
  },
  {
   "cell_type": "code",
   "execution_count": 115,
   "metadata": {
    "scrolled": true
   },
   "outputs": [
    {
     "data": {
      "text/plain": [
       "78945"
      ]
     },
     "execution_count": 115,
     "metadata": {},
     "output_type": "execute_result"
    }
   ],
   "source": [
    "list_columns_to_check = set(list_only_2_ng+list_only_5_ng)\n",
    "len(list_columns_to_check)"
   ]
  },
  {
   "cell_type": "markdown",
   "metadata": {},
   "source": [
    "Теперь снова получаем списки 2-мерных н-грамм трэйна и теста"
   ]
  },
  {
   "cell_type": "code",
   "execution_count": 116,
   "metadata": {},
   "outputs": [],
   "source": [
    "X= data.drop('Rating',axis = 1)\n",
    "train_x, test_x, train_y, test_y = train_test_split(X, y,\n",
    "                                                   test_size=TEST_SIZE, random_state=RS,\n",
    "                                                   )"
   ]
  },
  {
   "cell_type": "code",
   "execution_count": 117,
   "metadata": {},
   "outputs": [
    {
     "name": "stderr",
     "output_type": "stream",
     "text": [
      "C:\\Users\\term\\anaconda3\\envs\\nlpenv\\Lib\\site-packages\\sklearn\\feature_extraction\\text.py:521: UserWarning: The parameter 'token_pattern' will not be used since 'tokenizer' is not None'\n",
      "  warnings.warn(\n"
     ]
    }
   ],
   "source": [
    "vec_tr = TfidfVectorizer(ngram_range=(2, 2), max_df=0.4,  tokenizer=word_tokenize, stop_words=noise)\n",
    "bow_tr = vec_tr.fit_transform(train_x['Review'])\n",
    "\n",
    "vec_train = pd.DataFrame.sparse.from_spmatrix(bow_tr, columns=vec_tr.get_feature_names_out()\n",
    "                                             )\n"
   ]
  },
  {
   "cell_type": "code",
   "execution_count": 118,
   "metadata": {},
   "outputs": [
    {
     "name": "stderr",
     "output_type": "stream",
     "text": [
      "C:\\Users\\term\\anaconda3\\envs\\nlpenv\\Lib\\site-packages\\sklearn\\feature_extraction\\text.py:521: UserWarning: The parameter 'token_pattern' will not be used since 'tokenizer' is not None'\n",
      "  warnings.warn(\n"
     ]
    }
   ],
   "source": [
    "vec_ts = TfidfVectorizer(ngram_range=(2, 2), max_df=0.4, tokenizer=word_tokenize, stop_words=noise)\n",
    "bow_ts = vec_ts.fit_transform(test_x['Review'])\n",
    "\n",
    "vec_test = pd.DataFrame.sparse.from_spmatrix(bow_ts, columns=vec_ts.get_feature_names_out()\n",
    "                                             )"
   ]
  },
  {
   "cell_type": "markdown",
   "metadata": {},
   "source": [
    "Оставляем только те, которые входят в наш дифференциационный лист"
   ]
  },
  {
   "cell_type": "code",
   "execution_count": 119,
   "metadata": {},
   "outputs": [],
   "source": [
    "list_columns_train_all = set(vec_train.columns)\n",
    "list_columns_train_left = [x for x in list_columns_to_check if x in list_columns_train_all]\n",
    "\n",
    "vec_train= vec_train[list_columns_train_left]"
   ]
  },
  {
   "cell_type": "code",
   "execution_count": 120,
   "metadata": {},
   "outputs": [],
   "source": [
    "list_columns_test_all = set(vec_test.columns)\n",
    "list_columns_test_left = [x for x in list_columns_train_left if x in list_columns_test_all]\n",
    "\n",
    "\n",
    "vec_test= vec_test[list_columns_test_left]"
   ]
  },
  {
   "cell_type": "code",
   "execution_count": 121,
   "metadata": {},
   "outputs": [
    {
     "data": {
      "text/plain": [
       "13860"
      ]
     },
     "execution_count": 121,
     "metadata": {},
     "output_type": "execute_result"
    }
   ],
   "source": [
    "list_columns_train_left = set(list_columns_train_left)\n",
    "list_columns_test_left = set(list_columns_test_left)\n",
    "list_columns_train_drop = [x for x in list_columns_train_left if x not in list_columns_test_left]\n",
    "len(list_columns_train_drop)\n"
   ]
  },
  {
   "cell_type": "markdown",
   "metadata": {},
   "source": [
    "Наоборот не должно было остаться, но проверим"
   ]
  },
  {
   "cell_type": "code",
   "execution_count": 122,
   "metadata": {
    "scrolled": true
   },
   "outputs": [
    {
     "data": {
      "text/plain": [
       "0"
      ]
     },
     "execution_count": 122,
     "metadata": {},
     "output_type": "execute_result"
    }
   ],
   "source": [
    "list_columns_test_drop = [x for x in list_columns_test_left if x not in list_columns_train_left]\n",
    "len(list_columns_test_drop)"
   ]
  },
  {
   "cell_type": "code",
   "execution_count": 123,
   "metadata": {},
   "outputs": [],
   "source": [
    "vec_train= vec_train.drop(list_columns_train_drop, axis = 1)\n"
   ]
  },
  {
   "cell_type": "code",
   "execution_count": 124,
   "metadata": {},
   "outputs": [
    {
     "data": {
      "text/plain": [
       "array([ True,  True,  True, ...,  True,  True,  True])"
      ]
     },
     "execution_count": 124,
     "metadata": {},
     "output_type": "execute_result"
    }
   ],
   "source": [
    "vec_train.columns == vec_test.columns "
   ]
  },
  {
   "cell_type": "code",
   "execution_count": 125,
   "metadata": {},
   "outputs": [
    {
     "data": {
      "text/plain": [
       "good_cat\n",
       "0.0    354338\n",
       "1.0    103496\n",
       "Name: count, dtype: int64"
      ]
     },
     "execution_count": 125,
     "metadata": {},
     "output_type": "execute_result"
    }
   ],
   "source": [
    "def check_cat_good(row):\n",
    "    try:\n",
    "        for sub_string in strings:\n",
    "            pattern = re.compile(r'\\b{}\\b'.format(sub_string+'*'))\n",
    "            result = pattern.search(row['Review'])\n",
    "            if result:\n",
    "                return 1 \n",
    "    except:\n",
    "        return 0\n",
    "\n",
    "strings = [ 'отличный','отличное','отличная','отлично','отличные',\n",
    "           'доволен','довольна',\n",
    "           'прекрасный','прекрасно','прекрасные','прекрасное','прекрасная',\n",
    "\n",
    "           \n",
    "          ]\n",
    "\n",
    "X['good_cat'] = X.apply(check_cat_good, axis = 1)\n",
    "X['good_cat'] = X['good_cat'].fillna(0)\n",
    "X['good_cat'].value_counts()"
   ]
  },
  {
   "cell_type": "code",
   "execution_count": 126,
   "metadata": {
    "scrolled": true
   },
   "outputs": [
    {
     "data": {
      "text/plain": [
       "bad_cat\n",
       "1.0    30782\n",
       "Name: count, dtype: int64"
      ]
     },
     "execution_count": 126,
     "metadata": {},
     "output_type": "execute_result"
    }
   ],
   "source": [
    "def check_cat_bad(row):\n",
    "    try:\n",
    "        for sub_string in strings:\n",
    "            pattern = re.compile(r'\\b{}\\b'.format(sub_string+'*'))\n",
    "            result = pattern.search(row['Review'])\n",
    "            if result:\n",
    "                return 1 \n",
    "    except:\n",
    "        return 0\n",
    "\n",
    "strings = [ 'плохо','плох','не совет', 'не рекоменд','не стоит', 'разочарован', 'не берит',\n",
    "           'отвратительно','отвратительн','сломал', 'обратно в магазин',\n",
    "           'ужасн', 'пожалел','не покуп', 'перестал работать','ни в коем'\n",
    "           'жале', 'деньги на ветер'\n",
    "           \n",
    "          ]\n",
    "\n",
    "X['bad_cat'] = X.apply(check_cat_bad, axis = 1)\n",
    "X['bad_cat'].value_counts()"
   ]
  },
  {
   "cell_type": "code",
   "execution_count": 127,
   "metadata": {},
   "outputs": [],
   "source": [
    "X['bad_cat'] = X['bad_cat'].fillna(0)\n"
   ]
  },
  {
   "cell_type": "code",
   "execution_count": 128,
   "metadata": {},
   "outputs": [],
   "source": [
    "strings = ['((']# этих нет'(((', ':(((',':(',]"
   ]
  },
  {
   "cell_type": "code",
   "execution_count": 129,
   "metadata": {
    "scrolled": true
   },
   "outputs": [
    {
     "data": {
      "text/plain": [
       "bad_smile_cat\n",
       "0    457834\n",
       "Name: count, dtype: int64"
      ]
     },
     "execution_count": 129,
     "metadata": {},
     "output_type": "execute_result"
    }
   ],
   "source": [
    "X['bad_smile_cat'] = X.apply(check_cat_bad, axis = 1)\n",
    "X['bad_smile_cat'].value_counts()"
   ]
  },
  {
   "cell_type": "code",
   "execution_count": 130,
   "metadata": {},
   "outputs": [],
   "source": [
    "strings = [ ')))'] #И этих нет -'🤣', '❤️','😍','😊'] # этих нет ':)))', ':)', ')))']"
   ]
  },
  {
   "cell_type": "code",
   "execution_count": 131,
   "metadata": {},
   "outputs": [
    {
     "data": {
      "text/plain": [
       "good_smile_cat\n",
       "0    457834\n",
       "Name: count, dtype: int64"
      ]
     },
     "execution_count": 131,
     "metadata": {},
     "output_type": "execute_result"
    }
   ],
   "source": [
    "X['good_smile_cat'] = X.apply(check_cat_good, axis = 1)\n",
    "X['good_smile_cat'].value_counts()"
   ]
  },
  {
   "cell_type": "markdown",
   "metadata": {},
   "source": [
    "Смайлов не нашли. А жаль, могло бы помочь. Но это были очень серьёзные пользователи"
   ]
  },
  {
   "cell_type": "code",
   "execution_count": 132,
   "metadata": {
    "scrolled": true
   },
   "outputs": [
    {
     "data": {
      "text/html": [
       "<style type=\"text/css\">\n",
       "#T_53fa9_row0_col0, #T_53fa9_row0_col1, #T_53fa9_row0_col2, #T_53fa9_row0_col3, #T_53fa9_row0_col4 {\n",
       "  background-color: #008066;\n",
       "  color: #f1f1f1;\n",
       "}\n",
       "#T_53fa9_row1_col0, #T_53fa9_row1_col1, #T_53fa9_row1_col2, #T_53fa9_row1_col3, #T_53fa9_row1_col4 {\n",
       "  background-color: #ffff66;\n",
       "  color: #000000;\n",
       "}\n",
       "</style>\n",
       "<table id=\"T_53fa9\">\n",
       "  <thead>\n",
       "    <tr>\n",
       "      <th class=\"index_name level0\" >Rating</th>\n",
       "      <th id=\"T_53fa9_level0_col0\" class=\"col_heading level0 col0\" >1</th>\n",
       "      <th id=\"T_53fa9_level0_col1\" class=\"col_heading level0 col1\" >2</th>\n",
       "      <th id=\"T_53fa9_level0_col2\" class=\"col_heading level0 col2\" >3</th>\n",
       "      <th id=\"T_53fa9_level0_col3\" class=\"col_heading level0 col3\" >4</th>\n",
       "      <th id=\"T_53fa9_level0_col4\" class=\"col_heading level0 col4\" >5</th>\n",
       "    </tr>\n",
       "    <tr>\n",
       "      <th class=\"index_name level0\" >bad_cat</th>\n",
       "      <th class=\"blank col0\" >&nbsp;</th>\n",
       "      <th class=\"blank col1\" >&nbsp;</th>\n",
       "      <th class=\"blank col2\" >&nbsp;</th>\n",
       "      <th class=\"blank col3\" >&nbsp;</th>\n",
       "      <th class=\"blank col4\" >&nbsp;</th>\n",
       "    </tr>\n",
       "  </thead>\n",
       "  <tbody>\n",
       "    <tr>\n",
       "      <th id=\"T_53fa9_level0_row0\" class=\"row_heading level0 row0\" >0.000000</th>\n",
       "      <td id=\"T_53fa9_row0_col0\" class=\"data row0 col0\" >30355</td>\n",
       "      <td id=\"T_53fa9_row0_col1\" class=\"data row0 col1\" >31152</td>\n",
       "      <td id=\"T_53fa9_row0_col2\" class=\"data row0 col2\" >47743</td>\n",
       "      <td id=\"T_53fa9_row0_col3\" class=\"data row0 col3\" >100249</td>\n",
       "      <td id=\"T_53fa9_row0_col4\" class=\"data row0 col4\" >217553</td>\n",
       "    </tr>\n",
       "    <tr>\n",
       "      <th id=\"T_53fa9_level0_row1\" class=\"row_heading level0 row1\" >1.000000</th>\n",
       "      <td id=\"T_53fa9_row1_col0\" class=\"data row1 col0\" >4129</td>\n",
       "      <td id=\"T_53fa9_row1_col1\" class=\"data row1 col1\" >4553</td>\n",
       "      <td id=\"T_53fa9_row1_col2\" class=\"data row1 col2\" >5312</td>\n",
       "      <td id=\"T_53fa9_row1_col3\" class=\"data row1 col3\" >6254</td>\n",
       "      <td id=\"T_53fa9_row1_col4\" class=\"data row1 col4\" >10534</td>\n",
       "    </tr>\n",
       "  </tbody>\n",
       "</table>\n"
      ],
      "text/plain": [
       "<pandas.io.formats.style.Styler at 0x1b9105d4ed0>"
      ]
     },
     "execution_count": 132,
     "metadata": {},
     "output_type": "execute_result"
    }
   ],
   "source": [
    "pd.crosstab(X['bad_cat'], y).style.background_gradient(cmap='summer_r')"
   ]
  },
  {
   "cell_type": "markdown",
   "metadata": {},
   "source": [
    "Однозначно тут мы не слишком много поймали. Но тем не менее, в 1-2 соотношение 20/3 (около 6), а в 5 152/8(около 19), что говорит о том, что зерно здесь есть.\n",
    "Кто все эти люди, которые пишут о плохом, но ставят оценку 5??? Хотя плохой может быть и в составе \"неплохой\". То есть я, конечно, беру от начала слова. Но не все идеально грамотны, кто-то скажет не плохой, с пробелом."
   ]
  },
  {
   "cell_type": "code",
   "execution_count": 133,
   "metadata": {
    "scrolled": true
   },
   "outputs": [
    {
     "data": {
      "text/html": [
       "<style type=\"text/css\">\n",
       "#T_b87db_row0_col0, #T_b87db_row0_col1, #T_b87db_row0_col2, #T_b87db_row0_col3, #T_b87db_row0_col4 {\n",
       "  background-color: #008066;\n",
       "  color: #f1f1f1;\n",
       "}\n",
       "#T_b87db_row1_col0, #T_b87db_row1_col1, #T_b87db_row1_col2, #T_b87db_row1_col3, #T_b87db_row1_col4 {\n",
       "  background-color: #ffff66;\n",
       "  color: #000000;\n",
       "}\n",
       "</style>\n",
       "<table id=\"T_b87db\">\n",
       "  <thead>\n",
       "    <tr>\n",
       "      <th class=\"index_name level0\" >Rating</th>\n",
       "      <th id=\"T_b87db_level0_col0\" class=\"col_heading level0 col0\" >1</th>\n",
       "      <th id=\"T_b87db_level0_col1\" class=\"col_heading level0 col1\" >2</th>\n",
       "      <th id=\"T_b87db_level0_col2\" class=\"col_heading level0 col2\" >3</th>\n",
       "      <th id=\"T_b87db_level0_col3\" class=\"col_heading level0 col3\" >4</th>\n",
       "      <th id=\"T_b87db_level0_col4\" class=\"col_heading level0 col4\" >5</th>\n",
       "    </tr>\n",
       "    <tr>\n",
       "      <th class=\"index_name level0\" >good_cat</th>\n",
       "      <th class=\"blank col0\" >&nbsp;</th>\n",
       "      <th class=\"blank col1\" >&nbsp;</th>\n",
       "      <th class=\"blank col2\" >&nbsp;</th>\n",
       "      <th class=\"blank col3\" >&nbsp;</th>\n",
       "      <th class=\"blank col4\" >&nbsp;</th>\n",
       "    </tr>\n",
       "  </thead>\n",
       "  <tbody>\n",
       "    <tr>\n",
       "      <th id=\"T_b87db_level0_row0\" class=\"row_heading level0 row0\" >0.000000</th>\n",
       "      <td id=\"T_b87db_row0_col0\" class=\"data row0 col0\" >32748</td>\n",
       "      <td id=\"T_b87db_row0_col1\" class=\"data row0 col1\" >33035</td>\n",
       "      <td id=\"T_b87db_row0_col2\" class=\"data row0 col2\" >47780</td>\n",
       "      <td id=\"T_b87db_row0_col3\" class=\"data row0 col3\" >81522</td>\n",
       "      <td id=\"T_b87db_row0_col4\" class=\"data row0 col4\" >159253</td>\n",
       "    </tr>\n",
       "    <tr>\n",
       "      <th id=\"T_b87db_level0_row1\" class=\"row_heading level0 row1\" >1.000000</th>\n",
       "      <td id=\"T_b87db_row1_col0\" class=\"data row1 col0\" >1736</td>\n",
       "      <td id=\"T_b87db_row1_col1\" class=\"data row1 col1\" >2670</td>\n",
       "      <td id=\"T_b87db_row1_col2\" class=\"data row1 col2\" >5275</td>\n",
       "      <td id=\"T_b87db_row1_col3\" class=\"data row1 col3\" >24981</td>\n",
       "      <td id=\"T_b87db_row1_col4\" class=\"data row1 col4\" >68834</td>\n",
       "    </tr>\n",
       "  </tbody>\n",
       "</table>\n"
      ],
      "text/plain": [
       "<pandas.io.formats.style.Styler at 0x1a4d02227d0>"
      ]
     },
     "execution_count": 133,
     "metadata": {},
     "output_type": "execute_result"
    }
   ],
   "source": [
    "pd.crosstab(X['good_cat'], y).style.background_gradient(cmap='summer_r')"
   ]
  },
  {
   "cell_type": "markdown",
   "metadata": {},
   "source": [
    "И наоборот, эта категория показывает соотношение 40/3 в 1-2, и 1/2 в 5. Конечно, хорошо бы ещё поработать, но у меня кончились идеи."
   ]
  },
  {
   "cell_type": "code",
   "execution_count": 134,
   "metadata": {},
   "outputs": [],
   "source": [
    "X = X.drop(['good_smile_cat','bad_smile_cat'], axis = 1)"
   ]
  },
  {
   "cell_type": "code",
   "execution_count": 135,
   "metadata": {},
   "outputs": [],
   "source": [
    "train_x, test_x, train_y, test_y = train_test_split(X, y,\n",
    "                                                   test_size=TEST_SIZE, random_state=RS,\n",
    "                                                   )"
   ]
  },
  {
   "cell_type": "code",
   "execution_count": 136,
   "metadata": {},
   "outputs": [
    {
     "data": {
      "application/vnd.jupyter.widget-view+json": {
       "model_id": "dfc5d78547fc4d92a6345a076b92e58e",
       "version_major": 2,
       "version_minor": 0
      },
      "text/plain": [
       "MetricVisualizer(layout=Layout(align_self='stretch', height='500px'))"
      ]
     },
     "metadata": {},
     "output_type": "display_data"
    },
    {
     "data": {
      "text/plain": [
       "<catboost.core.CatBoostClassifier at 0x1ba0b004910>"
      ]
     },
     "execution_count": 136,
     "metadata": {},
     "output_type": "execute_result"
    }
   ],
   "source": [
    "model_cb = CatBoostClassifier(iterations=1689,\n",
    "                                depth = 6,\n",
    "                                loss_function='MultiClass',\n",
    "                                thread_count=-1, \n",
    "                                random_seed=RANDOM_STATE, \n",
    "                                verbose=0, \n",
    "                                text_features=['Review'],\n",
    "                                task_type = \"GPU\" \n",
    "                                \n",
    ")\n",
    "\n",
    "\n",
    "model_cb.fit(train_x, train_y, text_features=['Review'], plot= True)\n",
    "\n"
   ]
  },
  {
   "cell_type": "code",
   "execution_count": 137,
   "metadata": {},
   "outputs": [
    {
     "name": "stdout",
     "output_type": "stream",
     "text": [
      "\n",
      "              precision    recall  f1-score   support\n",
      "\n",
      "           1       0.56      0.60      0.58      8652\n",
      "           2       0.55      0.35      0.43      8867\n",
      "           3       0.51      0.40      0.45     13286\n",
      "           4       0.57      0.41      0.48     26766\n",
      "           5       0.72      0.89      0.80     56888\n",
      "\n",
      "    accuracy                           0.66    114459\n",
      "   macro avg       0.58      0.53      0.55    114459\n",
      "weighted avg       0.64      0.66      0.64    114459\n",
      "\n",
      "\n",
      "Confusion Matrix\n",
      "\n",
      "[[ 5177   847   820   383  1425]\n",
      " [ 1851  3117  1406   858  1635]\n",
      " [ 1201   929  5284  2702  3170]\n",
      " [  519   459  1821 10954 13013]\n",
      " [  566   329   960  4362 50671]]\n",
      "AUC ROC train:  0.9136585502688526\n",
      "AUC ROC test:  0.8746069116782159\n"
     ]
    }
   ],
   "source": [
    "test_pred = model_cb.predict(test_x)\n",
    "proba_test = model_cb.predict_proba(test_x)\n",
    "\n",
    "train_pred = model_cb.predict(train_x)\n",
    "proba_train = model_cb.predict_proba(train_x)\n",
    " \n",
    "test_pred = model_cb.predict(test_x)\n",
    "confusion = confusion_matrix(test_y, test_pred)\n",
    "print(CR + classification_report(test_y,test_pred)) \n",
    "\n",
    "print(CR + 'Confusion Matrix\\n')\n",
    "print(confusion)\n",
    "auc_tr = roc_auc_score(train_y, proba_train, multi_class='ovr')\n",
    "auc_test = roc_auc_score(test_y, proba_test, multi_class='ovr')\n",
    "print('AUC ROC train: ',auc_tr)\n",
    "print('AUC ROC test: ',auc_test)"
   ]
  },
  {
   "cell_type": "code",
   "execution_count": 138,
   "metadata": {
    "executionInfo": {
     "elapsed": 7,
     "status": "ok",
     "timestamp": 1628187304819,
     "user": {
      "displayName": "Артур Сапрыкин",
      "photoUrl": "",
      "userId": "16185371824692237125"
     },
     "user_tz": -180
    },
    "id": "qV2IdEaiC5Lh"
   },
   "outputs": [
    {
     "name": "stdout",
     "output_type": "stream",
     "text": [
      "Root Mean Squared Error на тестовой выборке: 0.9999737893978069\n",
      "Mean Absolute Error на тестовой выборке: 0.5104797351016521\n",
      "R2 на тестовой выборке: 0.37631168766204226\n"
     ]
    }
   ],
   "source": [
    "mse = mean_squared_error(test_y, test_pred)\n",
    "\n",
    "rmse = root_mean_squared_error(test_y, test_pred)\n",
    "mae = mean_absolute_error(test_y, test_pred)\n",
    "print(\"Root Mean Squared Error на тестовой выборке:\", rmse)\n",
    "print(\"Mean Absolute Error на тестовой выборке:\", mae)\n",
    "r2 = r2_score(test_y, test_pred)\n",
    "print(\"R2 на тестовой выборке:\", r2)"
   ]
  },
  {
   "cell_type": "markdown",
   "metadata": {},
   "source": [
    "А было в бэйзлайне:\n",
    "```\n",
    "Root Mean Squared Error на тестовой выборке: 1.042193025946871\n",
    "Mean Absolute Error на тестовой выборке: 0.5508564310183743\n",
    "R2 на тестовой выборке: 0.31602184690234403\n",
    "```\n",
    "И вот у нас побит бэйзлайновый кэтбуст!"
   ]
  },
  {
   "cell_type": "markdown",
   "metadata": {},
   "source": [
    "Но почему не идеально получилось? отвечу:  получилось потому, что даже по кросстабу хорошей и плохой категории видно - слова встречаются и там и там. А это значит, что нам нужно растащить наши слова на полюса оценок, создав признаки, принадлежащие только своей подгруппе. С одной стороны, это приведёт к переобучению конкретно на этом массиве, потому что язык сложнее, чем биграммы. А с другой стороны - надо попробовать."
   ]
  },
  {
   "cell_type": "markdown",
   "metadata": {},
   "source": [
    "# Итоговая модель"
   ]
  },
  {
   "cell_type": "code",
   "execution_count": 139,
   "metadata": {},
   "outputs": [
    {
     "data": {
      "application/vnd.jupyter.widget-view+json": {
       "model_id": "0393e8ee531b415daefe349d5647a9c5",
       "version_major": 2,
       "version_minor": 0
      },
      "text/plain": [
       "MetricVisualizer(layout=Layout(align_self='stretch', height='500px'))"
      ]
     },
     "metadata": {},
     "output_type": "display_data"
    },
    {
     "data": {
      "text/plain": [
       "<catboost.core.CatBoostClassifier at 0x1b912f2ec50>"
      ]
     },
     "execution_count": 139,
     "metadata": {},
     "output_type": "execute_result"
    }
   ],
   "source": [
    "model_cb = CatBoostClassifier(iterations=600,\n",
    "                                depth = 3,\n",
    "                                loss_function='MultiClass',\n",
    "                                thread_count=-1, \n",
    "                                random_seed=RANDOM_STATE, \n",
    "                                verbose=0, \n",
    "                                colsample_bylevel = .3\n",
    "                                #text_features=['Review'],\n",
    "                                #task_type = \"GPU\" \n",
    "                                \n",
    ")\n",
    "\n",
    "\n",
    "model_cb.fit(vec_train, train_y, #text_features=['Review'], \n",
    "             plot= True)\n",
    "\n"
   ]
  },
  {
   "cell_type": "code",
   "execution_count": 140,
   "metadata": {
    "scrolled": true
   },
   "outputs": [],
   "source": [
    "test_pred = model_cb.predict(vec_test)\n",
    "proba_test = model_cb.predict_proba(vec_test)\n",
    "\n",
    "train_pred = model_cb.predict(vec_train)\n",
    "proba_train = model_cb.predict_proba(vec_train)\n",
    " \n"
   ]
  },
  {
   "cell_type": "code",
   "execution_count": 141,
   "metadata": {},
   "outputs": [
    {
     "name": "stdout",
     "output_type": "stream",
     "text": [
      "\n",
      "              precision    recall  f1-score   support\n",
      "\n",
      "           1       0.79      0.02      0.03      8652\n",
      "           2       0.92      0.00      0.01      8867\n",
      "           3       0.98      0.00      0.01     13286\n",
      "           4       0.97      0.01      0.01     26766\n",
      "           5       0.50      1.00      0.67     56888\n",
      "\n",
      "    accuracy                           0.50    114459\n",
      "   macro avg       0.83      0.21      0.14    114459\n",
      "weighted avg       0.72      0.50      0.34    114459\n",
      "\n",
      "\n",
      "Confusion Matrix\n",
      "\n",
      "[[  139     1     0     0  8512]\n",
      " [   29    24     1     0  8813]\n",
      " [    7     1    46     0 13232]\n",
      " [    0     0     0   144 26622]\n",
      " [    0     0     0     5 56883]]\n",
      "AUC ROC train:  0.5451287563881462\n",
      "AUC ROC test:  0.5372674403591315\n"
     ]
    }
   ],
   "source": [
    "confusion = confusion_matrix(test_y, test_pred)\n",
    "print(CR + classification_report(test_y,test_pred)) \n",
    "\n",
    "print(CR + 'Confusion Matrix\\n')\n",
    "print(confusion)\n",
    "auc_tr = roc_auc_score(train_y, proba_train, multi_class='ovr')\n",
    "auc_test = roc_auc_score(test_y, proba_test, multi_class='ovr')\n",
    "print('AUC ROC train: ',auc_tr)\n",
    "print('AUC ROC test: ',auc_test)"
   ]
  },
  {
   "cell_type": "code",
   "execution_count": 142,
   "metadata": {},
   "outputs": [
    {
     "data": {
      "text/html": [
       "<div>\n",
       "<style scoped>\n",
       "    .dataframe tbody tr th:only-of-type {\n",
       "        vertical-align: middle;\n",
       "    }\n",
       "\n",
       "    .dataframe tbody tr th {\n",
       "        vertical-align: top;\n",
       "    }\n",
       "\n",
       "    .dataframe thead th {\n",
       "        text-align: right;\n",
       "    }\n",
       "</style>\n",
       "<table border=\"1\" class=\"dataframe\">\n",
       "  <thead>\n",
       "    <tr style=\"text-align: right;\">\n",
       "      <th></th>\n",
       "      <th>телефона твердую</th>\n",
       "      <th>удобно располагается</th>\n",
       "      <th>никапли не</th>\n",
       "      <th>быстр очень</th>\n",
       "      <th>сказать gps</th>\n",
       "      <th>большего глупо</th>\n",
       "      <th>прошивке нареканий</th>\n",
       "      <th>обновить возможности</th>\n",
       "      <th>гладкой задней</th>\n",
       "      <th>купить нужен</th>\n",
       "      <th>...</th>\n",
       "      <th>камера подпортила</th>\n",
       "      <th>люди никого</th>\n",
       "      <th>везучий либо</th>\n",
       "      <th>кажется супер</th>\n",
       "      <th>разу батарея</th>\n",
       "      <th>opera icq</th>\n",
       "      <th>внимание конкурентов</th>\n",
       "      <th>купила осталась</th>\n",
       "      <th>слушать ещё</th>\n",
       "      <th>связи работают</th>\n",
       "    </tr>\n",
       "  </thead>\n",
       "  <tbody>\n",
       "    <tr>\n",
       "      <th>0</th>\n",
       "      <td>0</td>\n",
       "      <td>0</td>\n",
       "      <td>0</td>\n",
       "      <td>0</td>\n",
       "      <td>0</td>\n",
       "      <td>0</td>\n",
       "      <td>0</td>\n",
       "      <td>0</td>\n",
       "      <td>0</td>\n",
       "      <td>0</td>\n",
       "      <td>...</td>\n",
       "      <td>0</td>\n",
       "      <td>0</td>\n",
       "      <td>0</td>\n",
       "      <td>0</td>\n",
       "      <td>0</td>\n",
       "      <td>0</td>\n",
       "      <td>0</td>\n",
       "      <td>0</td>\n",
       "      <td>0</td>\n",
       "      <td>0</td>\n",
       "    </tr>\n",
       "    <tr>\n",
       "      <th>1</th>\n",
       "      <td>0</td>\n",
       "      <td>0</td>\n",
       "      <td>0</td>\n",
       "      <td>0</td>\n",
       "      <td>0</td>\n",
       "      <td>0</td>\n",
       "      <td>0</td>\n",
       "      <td>0</td>\n",
       "      <td>0</td>\n",
       "      <td>0</td>\n",
       "      <td>...</td>\n",
       "      <td>0</td>\n",
       "      <td>0</td>\n",
       "      <td>0</td>\n",
       "      <td>0</td>\n",
       "      <td>0</td>\n",
       "      <td>0</td>\n",
       "      <td>0</td>\n",
       "      <td>0</td>\n",
       "      <td>0</td>\n",
       "      <td>0</td>\n",
       "    </tr>\n",
       "    <tr>\n",
       "      <th>2</th>\n",
       "      <td>0</td>\n",
       "      <td>0</td>\n",
       "      <td>0</td>\n",
       "      <td>0</td>\n",
       "      <td>0</td>\n",
       "      <td>0</td>\n",
       "      <td>0</td>\n",
       "      <td>0</td>\n",
       "      <td>0</td>\n",
       "      <td>0</td>\n",
       "      <td>...</td>\n",
       "      <td>0</td>\n",
       "      <td>0</td>\n",
       "      <td>0</td>\n",
       "      <td>0</td>\n",
       "      <td>0</td>\n",
       "      <td>0</td>\n",
       "      <td>0</td>\n",
       "      <td>0</td>\n",
       "      <td>0</td>\n",
       "      <td>0</td>\n",
       "    </tr>\n",
       "    <tr>\n",
       "      <th>3</th>\n",
       "      <td>0</td>\n",
       "      <td>0</td>\n",
       "      <td>0</td>\n",
       "      <td>0</td>\n",
       "      <td>0</td>\n",
       "      <td>0</td>\n",
       "      <td>0</td>\n",
       "      <td>0</td>\n",
       "      <td>0</td>\n",
       "      <td>0</td>\n",
       "      <td>...</td>\n",
       "      <td>0</td>\n",
       "      <td>0</td>\n",
       "      <td>0</td>\n",
       "      <td>0</td>\n",
       "      <td>0</td>\n",
       "      <td>0</td>\n",
       "      <td>0</td>\n",
       "      <td>0</td>\n",
       "      <td>0</td>\n",
       "      <td>0</td>\n",
       "    </tr>\n",
       "    <tr>\n",
       "      <th>4</th>\n",
       "      <td>0</td>\n",
       "      <td>0</td>\n",
       "      <td>0</td>\n",
       "      <td>0</td>\n",
       "      <td>0</td>\n",
       "      <td>0</td>\n",
       "      <td>0</td>\n",
       "      <td>0</td>\n",
       "      <td>0</td>\n",
       "      <td>0</td>\n",
       "      <td>...</td>\n",
       "      <td>0</td>\n",
       "      <td>0</td>\n",
       "      <td>0</td>\n",
       "      <td>0</td>\n",
       "      <td>0</td>\n",
       "      <td>0</td>\n",
       "      <td>0</td>\n",
       "      <td>0</td>\n",
       "      <td>0</td>\n",
       "      <td>0</td>\n",
       "    </tr>\n",
       "  </tbody>\n",
       "</table>\n",
       "<p>5 rows × 64620 columns</p>\n",
       "</div>"
      ],
      "text/plain": [
       "   телефона твердую  удобно располагается  никапли не  быстр очень  \\\n",
       "0                 0                     0           0            0   \n",
       "1                 0                     0           0            0   \n",
       "2                 0                     0           0            0   \n",
       "3                 0                     0           0            0   \n",
       "4                 0                     0           0            0   \n",
       "\n",
       "   сказать gps  большего глупо  прошивке нареканий  обновить возможности  \\\n",
       "0            0               0                   0                     0   \n",
       "1            0               0                   0                     0   \n",
       "2            0               0                   0                     0   \n",
       "3            0               0                   0                     0   \n",
       "4            0               0                   0                     0   \n",
       "\n",
       "   гладкой задней  купить нужен  ...  камера подпортила  люди никого  \\\n",
       "0               0             0  ...                  0            0   \n",
       "1               0             0  ...                  0            0   \n",
       "2               0             0  ...                  0            0   \n",
       "3               0             0  ...                  0            0   \n",
       "4               0             0  ...                  0            0   \n",
       "\n",
       "   везучий либо  кажется супер  разу батарея  opera icq  внимание конкурентов  \\\n",
       "0             0              0             0          0                     0   \n",
       "1             0              0             0          0                     0   \n",
       "2             0              0             0          0                     0   \n",
       "3             0              0             0          0                     0   \n",
       "4             0              0             0          0                     0   \n",
       "\n",
       "   купила осталась  слушать ещё  связи работают  \n",
       "0                0            0               0  \n",
       "1                0            0               0  \n",
       "2                0            0               0  \n",
       "3                0            0               0  \n",
       "4                0            0               0  \n",
       "\n",
       "[5 rows x 64620 columns]"
      ]
     },
     "execution_count": 142,
     "metadata": {},
     "output_type": "execute_result"
    }
   ],
   "source": [
    "vec_train.head()"
   ]
  },
  {
   "cell_type": "code",
   "execution_count": 143,
   "metadata": {},
   "outputs": [
    {
     "name": "stdout",
     "output_type": "stream",
     "text": [
      "Root Mean Squared Error на тестовой выборке: 1.6057476334694214\n",
      "Mean Absolute Error на тестовой выборке: 0.9927048113298211\n",
      "R2 на тестовой выборке: -0.6082181287552746\n"
     ]
    }
   ],
   "source": [
    "mse = mean_squared_error(test_y, test_pred)\n",
    "\n",
    "rmse = root_mean_squared_error(test_y, test_pred)\n",
    "mae = mean_absolute_error(test_y, test_pred)\n",
    "print(\"Root Mean Squared Error на тестовой выборке:\", rmse)\n",
    "print(\"Mean Absolute Error на тестовой выборке:\", mae)\n",
    "r2 = r2_score(test_y, test_pred)\n",
    "print(\"R2 на тестовой выборке:\", r2)"
   ]
  },
  {
   "cell_type": "markdown",
   "metadata": {},
   "source": [
    "И мы видим, что наш метод действительно растащил к полюсам оценки, правда, на южный полюс положительных оценок забрал куда больше. Но впрервые в этом сезоне модель преодолела отметку 1 по MSE:\n",
    "Root Mean Squared Error на тестовой выборке: 1.6029325352461365\n",
    "Mean Absolute Error на тестовой выборке: 0.9936343818125195\n",
    "R2 на тестовой выборке: -0.617992085301591\n",
    "Не думаю, что это очень честная оценка, учитывая дисбаланс классов. Да, и получается, что я выкинула биграммы троечников. Пересчитаем ещё раз, на этот раз с тройками:"
   ]
  },
  {
   "cell_type": "code",
   "execution_count": 144,
   "metadata": {},
   "outputs": [
    {
     "name": "stderr",
     "output_type": "stream",
     "text": [
      "C:\\Users\\term\\anaconda3\\envs\\nlpenv\\Lib\\site-packages\\sklearn\\feature_extraction\\text.py:521: UserWarning: The parameter 'token_pattern' will not be used since 'tokenizer' is not None'\n",
      "  warnings.warn(\n"
     ]
    }
   ],
   "source": [
    "vec_tfidf = TfidfVectorizer(ngram_range=(1, 2), max_df=0.4, tokenizer=word_tokenize, stop_words=noise)\n",
    "bow_5 = vec_tfidf.fit_transform(data[data['Rating']>3]['Review'])\n"
   ]
  },
  {
   "cell_type": "code",
   "execution_count": 145,
   "metadata": {},
   "outputs": [],
   "source": [
    "vec_df_5 = pd.DataFrame.sparse.from_spmatrix(bow_5, columns=vec_tfidf.get_feature_names_out())"
   ]
  },
  {
   "cell_type": "code",
   "execution_count": 146,
   "metadata": {},
   "outputs": [
    {
     "name": "stderr",
     "output_type": "stream",
     "text": [
      "C:\\Users\\term\\anaconda3\\envs\\nlpenv\\Lib\\site-packages\\sklearn\\feature_extraction\\text.py:521: UserWarning: The parameter 'token_pattern' will not be used since 'tokenizer' is not None'\n",
      "  warnings.warn(\n"
     ]
    }
   ],
   "source": [
    "bow_2 = vec_tfidf.fit_transform(data[data['Rating']<=3]['Review'])\n",
    "vec_df_2 = pd.DataFrame.sparse.from_spmatrix(bow_2, columns=vec_tfidf.get_feature_names_out())"
   ]
  },
  {
   "cell_type": "code",
   "execution_count": 147,
   "metadata": {},
   "outputs": [
    {
     "name": "stderr",
     "output_type": "stream",
     "text": [
      "C:\\Users\\term\\anaconda3\\envs\\nlpenv\\Lib\\site-packages\\sklearn\\feature_extraction\\text.py:521: UserWarning: The parameter 'token_pattern' will not be used since 'tokenizer' is not None'\n",
      "  warnings.warn(\n"
     ]
    }
   ],
   "source": [
    "bow_3 = vec_tfidf.fit_transform(data[data['Rating']==3]['Review'])\n",
    "vec_df_3 = pd.DataFrame.sparse.from_spmatrix(bow_3, columns=vec_tfidf.get_feature_names_out())"
   ]
  },
  {
   "cell_type": "code",
   "execution_count": 148,
   "metadata": {},
   "outputs": [],
   "source": [
    "# Подсчёт суммы каждого столбца (биграммы)\n",
    "freq_ngramms_5 = vec_df_5.sum(axis=0).sort_values(ascending=False)\n",
    "freq_ngramms_3 = vec_df_3.sum(axis=0).sort_values(ascending=False)\n",
    "freq_ngramms_2 = vec_df_2.sum(axis=0).sort_values(ascending=False)\n"
   ]
  },
  {
   "cell_type": "code",
   "execution_count": 149,
   "metadata": {},
   "outputs": [
    {
     "data": {
      "text/plain": [
       "!                    8479.51802\n",
       "очень                4539.71393\n",
       "! !                 4263.714313\n",
       "это                 3076.552287\n",
       "отличный            2670.258768\n",
       "хороший             2609.287677\n",
       "доволен             2492.933622\n",
       "аппарат             2330.656651\n",
       "советую             2175.514331\n",
       "деньги              2043.363818\n",
       "целом               2028.467875\n",
       "просто              1859.630641\n",
       "...                 1855.434195\n",
       "всем                1821.493182\n",
       "смартфон             1727.71704\n",
       "рекомендую          1707.144609\n",
       "работает             1676.34307\n",
       "пользуюсь           1669.041708\n",
       "модель              1644.386176\n",
       "года                 1636.04618\n",
       "камера              1519.589716\n",
       "экран               1503.282205\n",
       "купил               1486.828016\n",
       "отличный телефон    1484.684679\n",
       "всё                 1480.326478\n",
       "2                   1479.894099\n",
       "телефоном           1448.410871\n",
       "телефона             1374.43281\n",
       "цену                1347.749057\n",
       "пока                1339.879952\n",
       "стоит               1283.491273\n",
       "хороший телефон     1275.868165\n",
       "супер               1257.650866\n",
       "нравится            1241.437997\n",
       "берите              1233.238043\n",
       "довольна            1222.386281\n",
       "свои                1204.092092\n",
       "общем                1182.57625\n",
       "день                1108.222271\n",
       "цена                1094.714024\n",
       "хорошо              1091.375591\n",
       "хватает              1085.10196\n",
       "покупкой            1077.986428\n",
       "брать               1063.929658\n",
       "время               1058.193095\n",
       "пожалеете           1026.689768\n",
       "не пожалеете        1007.340962\n",
       "вообще              1005.051589\n",
       "свои деньги         1004.429224\n",
       "отлично              997.407023\n",
       "dtype: Sparse[float64, 0]"
      ]
     },
     "execution_count": 149,
     "metadata": {},
     "output_type": "execute_result"
    }
   ],
   "source": [
    "freq_ngramms_5[:50]"
   ]
  },
  {
   "cell_type": "code",
   "execution_count": 150,
   "metadata": {},
   "outputs": [
    {
     "data": {
      "text/plain": [
       "!                963.577758\n",
       "очень            539.996463\n",
       "это              526.136294\n",
       "! !              476.715927\n",
       "...               460.75569\n",
       "аппарат          306.687627\n",
       "года             303.138786\n",
       "целом            286.246774\n",
       "деньги           284.891247\n",
       "просто           281.364001\n",
       "модель           278.554724\n",
       "советую          274.944884\n",
       "телефона         271.400263\n",
       "экран            262.355519\n",
       "2                251.694084\n",
       "купил            246.368102\n",
       "хороший          244.435642\n",
       "стоит            242.116128\n",
       "камера            241.46076\n",
       "общем            231.242912\n",
       "брать            226.642537\n",
       "не советую       222.247902\n",
       "покупать         218.333927\n",
       "3                215.756534\n",
       "смартфон         213.394685\n",
       "всё               204.76469\n",
       "работает           204.0844\n",
       "телефон не       200.567677\n",
       "пользуюсь        194.529175\n",
       "время            191.409594\n",
       "хотя             191.229818\n",
       "год              187.733057\n",
       "пока             186.777395\n",
       "вообще           186.188068\n",
       "использования    183.206539\n",
       "ничего           176.346314\n",
       "телефоном        173.939724\n",
       "купить           173.756006\n",
       "нормальный       171.053486\n",
       "цену             169.215475\n",
       "день              169.12417\n",
       "цена             168.350558\n",
       "..               161.886614\n",
       "качество         161.273849\n",
       "денег            160.587995\n",
       "батарея          160.499725\n",
       "памяти           158.232596\n",
       "из-за            158.187712\n",
       "буду             157.441792\n",
       "рекомендую       152.891691\n",
       "dtype: Sparse[float64, 0]"
      ]
     },
     "execution_count": 150,
     "metadata": {},
     "output_type": "execute_result"
    }
   ],
   "source": [
    "freq_ngramms_3[:50]"
   ]
  },
  {
   "cell_type": "code",
   "execution_count": 151,
   "metadata": {},
   "outputs": [
    {
     "data": {
      "text/plain": [
       "!                3089.484495\n",
       "! !              1789.103092\n",
       "это              1238.052982\n",
       "очень            1184.432542\n",
       "...              1056.061358\n",
       "советую           987.153554\n",
       "не советую        904.922095\n",
       "модель            697.334768\n",
       "деньги            695.191285\n",
       "просто            688.156066\n",
       "покупать          683.660645\n",
       "аппарат           642.553385\n",
       "телефона          623.456128\n",
       "купил             620.302885\n",
       "года               612.26585\n",
       "брать             600.653402\n",
       "2                 572.216549\n",
       "экран             556.649365\n",
       "стоит             548.039617\n",
       "рекомендую         504.81562\n",
       "телефон не        462.896051\n",
       "не рекомендую     461.851162\n",
       "вообще            455.466972\n",
       "общем             451.652518\n",
       "камера            449.761063\n",
       "3                  436.65174\n",
       "смартфон          431.956107\n",
       "время             429.334324\n",
       "работает          428.568337\n",
       "купить            427.882166\n",
       "целом             422.679063\n",
       "денег             419.328119\n",
       "всё               414.703171\n",
       "год               409.186807\n",
       "день              398.875383\n",
       "использования     395.541645\n",
       "берите            394.382331\n",
       "покупайте         392.485455\n",
       "хотя              392.179061\n",
       "хороший           383.481244\n",
       "телефоном         383.292102\n",
       "буду              382.428093\n",
       "..                372.687384\n",
       "не стоит          372.669623\n",
       "ничего            371.756451\n",
       "месяца            370.515602\n",
       "пока              366.545518\n",
       "пользуюсь         355.781672\n",
       "nokia             350.273552\n",
       "цена              349.795094\n",
       "dtype: Sparse[float64, 0]"
      ]
     },
     "execution_count": 151,
     "metadata": {},
     "output_type": "execute_result"
    }
   ],
   "source": [
    "freq_ngramms_2[:50]"
   ]
  },
  {
   "cell_type": "code",
   "execution_count": 152,
   "metadata": {},
   "outputs": [
    {
     "data": {
      "text/html": [
       "<div>\n",
       "<style scoped>\n",
       "    .dataframe tbody tr th:only-of-type {\n",
       "        vertical-align: middle;\n",
       "    }\n",
       "\n",
       "    .dataframe tbody tr th {\n",
       "        vertical-align: top;\n",
       "    }\n",
       "\n",
       "    .dataframe thead th {\n",
       "        text-align: right;\n",
       "    }\n",
       "</style>\n",
       "<table border=\"1\" class=\"dataframe\">\n",
       "  <thead>\n",
       "    <tr style=\"text-align: right;\">\n",
       "      <th></th>\n",
       "      <th>index</th>\n",
       "      <th>0</th>\n",
       "    </tr>\n",
       "  </thead>\n",
       "  <tbody>\n",
       "    <tr>\n",
       "      <th>0</th>\n",
       "      <td>!</td>\n",
       "      <td>3089.484495</td>\n",
       "    </tr>\n",
       "    <tr>\n",
       "      <th>1</th>\n",
       "      <td>! !</td>\n",
       "      <td>1789.103092</td>\n",
       "    </tr>\n",
       "    <tr>\n",
       "      <th>2</th>\n",
       "      <td>это</td>\n",
       "      <td>1238.052982</td>\n",
       "    </tr>\n",
       "    <tr>\n",
       "      <th>3</th>\n",
       "      <td>очень</td>\n",
       "      <td>1184.432542</td>\n",
       "    </tr>\n",
       "    <tr>\n",
       "      <th>4</th>\n",
       "      <td>...</td>\n",
       "      <td>1056.061358</td>\n",
       "    </tr>\n",
       "    <tr>\n",
       "      <th>...</th>\n",
       "      <td>...</td>\n",
       "      <td>...</td>\n",
       "    </tr>\n",
       "    <tr>\n",
       "      <th>1616430</th>\n",
       "      <td>зарядку usb</td>\n",
       "      <td>0.018096</td>\n",
       "    </tr>\n",
       "    <tr>\n",
       "      <th>1616431</th>\n",
       "      <td>зарядку комментарий</td>\n",
       "      <td>0.018096</td>\n",
       "    </tr>\n",
       "    <tr>\n",
       "      <th>1616432</th>\n",
       "      <td>фонарь камера</td>\n",
       "      <td>0.018096</td>\n",
       "    </tr>\n",
       "    <tr>\n",
       "      <th>1616433</th>\n",
       "      <td>фонаря долго</td>\n",
       "      <td>0.018096</td>\n",
       "    </tr>\n",
       "    <tr>\n",
       "      <th>1616434</th>\n",
       "      <td>предвестники-иногда появляются</td>\n",
       "      <td>0.018096</td>\n",
       "    </tr>\n",
       "  </tbody>\n",
       "</table>\n",
       "<p>1616435 rows × 2 columns</p>\n",
       "</div>"
      ],
      "text/plain": [
       "                                  index            0\n",
       "0                                     !  3089.484495\n",
       "1                                   ! !  1789.103092\n",
       "2                                   это  1238.052982\n",
       "3                                 очень  1184.432542\n",
       "4                                   ...  1056.061358\n",
       "...                                 ...          ...\n",
       "1616430                     зарядку usb     0.018096\n",
       "1616431             зарядку комментарий     0.018096\n",
       "1616432                   фонарь камера     0.018096\n",
       "1616433                    фонаря долго     0.018096\n",
       "1616434  предвестники-иногда появляются     0.018096\n",
       "\n",
       "[1616435 rows x 2 columns]"
      ]
     },
     "execution_count": 152,
     "metadata": {},
     "output_type": "execute_result"
    }
   ],
   "source": [
    "freq_ngramms_2 = freq_ngramms_2.reset_index()\n",
    "freq_ngramms_2"
   ]
  },
  {
   "cell_type": "code",
   "execution_count": 153,
   "metadata": {},
   "outputs": [
    {
     "data": {
      "text/plain": [
       "93823"
      ]
     },
     "execution_count": 153,
     "metadata": {},
     "output_type": "execute_result"
    }
   ],
   "source": [
    "list_freq_ngramms_2 = set(list(freq_ngramms_2[freq_ngramms_2[0]>1]['index']))\n",
    "len(list_freq_ngramms_2)"
   ]
  },
  {
   "cell_type": "code",
   "execution_count": 154,
   "metadata": {},
   "outputs": [
    {
     "data": {
      "text/html": [
       "<div>\n",
       "<style scoped>\n",
       "    .dataframe tbody tr th:only-of-type {\n",
       "        vertical-align: middle;\n",
       "    }\n",
       "\n",
       "    .dataframe tbody tr th {\n",
       "        vertical-align: top;\n",
       "    }\n",
       "\n",
       "    .dataframe thead th {\n",
       "        text-align: right;\n",
       "    }\n",
       "</style>\n",
       "<table border=\"1\" class=\"dataframe\">\n",
       "  <thead>\n",
       "    <tr style=\"text-align: right;\">\n",
       "      <th></th>\n",
       "      <th>index</th>\n",
       "      <th>0</th>\n",
       "    </tr>\n",
       "  </thead>\n",
       "  <tbody>\n",
       "    <tr>\n",
       "      <th>0</th>\n",
       "      <td>!</td>\n",
       "      <td>963.577758</td>\n",
       "    </tr>\n",
       "    <tr>\n",
       "      <th>1</th>\n",
       "      <td>очень</td>\n",
       "      <td>539.996463</td>\n",
       "    </tr>\n",
       "    <tr>\n",
       "      <th>2</th>\n",
       "      <td>это</td>\n",
       "      <td>526.136294</td>\n",
       "    </tr>\n",
       "    <tr>\n",
       "      <th>3</th>\n",
       "      <td>! !</td>\n",
       "      <td>476.715927</td>\n",
       "    </tr>\n",
       "    <tr>\n",
       "      <th>4</th>\n",
       "      <td>...</td>\n",
       "      <td>460.75569</td>\n",
       "    </tr>\n",
       "    <tr>\n",
       "      <th>...</th>\n",
       "      <td>...</td>\n",
       "      <td>...</td>\n",
       "    </tr>\n",
       "    <tr>\n",
       "      <th>835125</th>\n",
       "      <td>кнопку поиска</td>\n",
       "      <td>0.017442</td>\n",
       "    </tr>\n",
       "    <tr>\n",
       "      <th>835126</th>\n",
       "      <td>звук обычном</td>\n",
       "      <td>0.017442</td>\n",
       "    </tr>\n",
       "    <tr>\n",
       "      <th>835127</th>\n",
       "      <td>около дела</td>\n",
       "      <td>0.017442</td>\n",
       "    </tr>\n",
       "    <tr>\n",
       "      <th>835128</th>\n",
       "      <td>звук нельзя</td>\n",
       "      <td>0.017442</td>\n",
       "    </tr>\n",
       "    <tr>\n",
       "      <th>835129</th>\n",
       "      <td>сливает настройки</td>\n",
       "      <td>0.017442</td>\n",
       "    </tr>\n",
       "  </tbody>\n",
       "</table>\n",
       "<p>835130 rows × 2 columns</p>\n",
       "</div>"
      ],
      "text/plain": [
       "                    index           0\n",
       "0                       !  963.577758\n",
       "1                   очень  539.996463\n",
       "2                     это  526.136294\n",
       "3                     ! !  476.715927\n",
       "4                     ...   460.75569\n",
       "...                   ...         ...\n",
       "835125      кнопку поиска    0.017442\n",
       "835126       звук обычном    0.017442\n",
       "835127         около дела    0.017442\n",
       "835128        звук нельзя    0.017442\n",
       "835129  сливает настройки    0.017442\n",
       "\n",
       "[835130 rows x 2 columns]"
      ]
     },
     "execution_count": 154,
     "metadata": {},
     "output_type": "execute_result"
    }
   ],
   "source": [
    "freq_ngramms_3 = freq_ngramms_3.reset_index()\n",
    "freq_ngramms_3"
   ]
  },
  {
   "cell_type": "code",
   "execution_count": 155,
   "metadata": {},
   "outputs": [
    {
     "data": {
      "text/plain": [
       "42360"
      ]
     },
     "execution_count": 155,
     "metadata": {},
     "output_type": "execute_result"
    }
   ],
   "source": [
    "list_freq_ngramms_3 = set(list(freq_ngramms_3[freq_ngramms_3[0]>1]['index']))\n",
    "len(list_freq_ngramms_3)"
   ]
  },
  {
   "cell_type": "code",
   "execution_count": 156,
   "metadata": {},
   "outputs": [
    {
     "data": {
      "text/html": [
       "<div>\n",
       "<style scoped>\n",
       "    .dataframe tbody tr th:only-of-type {\n",
       "        vertical-align: middle;\n",
       "    }\n",
       "\n",
       "    .dataframe tbody tr th {\n",
       "        vertical-align: top;\n",
       "    }\n",
       "\n",
       "    .dataframe thead th {\n",
       "        text-align: right;\n",
       "    }\n",
       "</style>\n",
       "<table border=\"1\" class=\"dataframe\">\n",
       "  <thead>\n",
       "    <tr style=\"text-align: right;\">\n",
       "      <th></th>\n",
       "      <th>index</th>\n",
       "      <th>0</th>\n",
       "    </tr>\n",
       "  </thead>\n",
       "  <tbody>\n",
       "    <tr>\n",
       "      <th>0</th>\n",
       "      <td>!</td>\n",
       "      <td>8479.51802</td>\n",
       "    </tr>\n",
       "    <tr>\n",
       "      <th>1</th>\n",
       "      <td>очень</td>\n",
       "      <td>4539.71393</td>\n",
       "    </tr>\n",
       "    <tr>\n",
       "      <th>2</th>\n",
       "      <td>! !</td>\n",
       "      <td>4263.714313</td>\n",
       "    </tr>\n",
       "    <tr>\n",
       "      <th>3</th>\n",
       "      <td>это</td>\n",
       "      <td>3076.552287</td>\n",
       "    </tr>\n",
       "    <tr>\n",
       "      <th>4</th>\n",
       "      <td>отличный</td>\n",
       "      <td>2670.258768</td>\n",
       "    </tr>\n",
       "    <tr>\n",
       "      <th>...</th>\n",
       "      <td>...</td>\n",
       "      <td>...</td>\n",
       "    </tr>\n",
       "    <tr>\n",
       "      <th>3751693</th>\n",
       "      <td>перенасыщает цвет</td>\n",
       "      <td>0.014758</td>\n",
       "    </tr>\n",
       "    <tr>\n",
       "      <th>3751694</th>\n",
       "      <td>перенасыщение</td>\n",
       "      <td>0.014758</td>\n",
       "    </tr>\n",
       "    <tr>\n",
       "      <th>3751695</th>\n",
       "      <td>смарта портреты</td>\n",
       "      <td>0.014758</td>\n",
       "    </tr>\n",
       "    <tr>\n",
       "      <th>3751696</th>\n",
       "      <td>какие-то части</td>\n",
       "      <td>0.014758</td>\n",
       "    </tr>\n",
       "    <tr>\n",
       "      <th>3751697</th>\n",
       "      <td>переключились апофеозом</td>\n",
       "      <td>0.014758</td>\n",
       "    </tr>\n",
       "  </tbody>\n",
       "</table>\n",
       "<p>3751698 rows × 2 columns</p>\n",
       "</div>"
      ],
      "text/plain": [
       "                           index            0\n",
       "0                              !   8479.51802\n",
       "1                          очень   4539.71393\n",
       "2                            ! !  4263.714313\n",
       "3                            это  3076.552287\n",
       "4                       отличный  2670.258768\n",
       "...                          ...          ...\n",
       "3751693        перенасыщает цвет     0.014758\n",
       "3751694            перенасыщение     0.014758\n",
       "3751695          смарта портреты     0.014758\n",
       "3751696           какие-то части     0.014758\n",
       "3751697  переключились апофеозом     0.014758\n",
       "\n",
       "[3751698 rows x 2 columns]"
      ]
     },
     "execution_count": 156,
     "metadata": {},
     "output_type": "execute_result"
    }
   ],
   "source": [
    "freq_ngramms_5 = freq_ngramms_5.reset_index()\n",
    "freq_ngramms_5"
   ]
  },
  {
   "cell_type": "code",
   "execution_count": 157,
   "metadata": {},
   "outputs": [
    {
     "data": {
      "text/plain": [
       "3751698"
      ]
     },
     "execution_count": 157,
     "metadata": {},
     "output_type": "execute_result"
    }
   ],
   "source": [
    "list_freq_ngramm_5 = set(list(freq_ngramms_5[freq_ngramms_5[0]>0]['index']))\n",
    "len(list_freq_ngramm_5)"
   ]
  },
  {
   "cell_type": "code",
   "execution_count": 158,
   "metadata": {},
   "outputs": [
    {
     "data": {
      "text/plain": [
       "9618"
      ]
     },
     "execution_count": 158,
     "metadata": {},
     "output_type": "execute_result"
    }
   ],
   "source": [
    "\n",
    "list_only_2_ng = [x for x in list_freq_ngramms_2 if x not in list_freq_ngramm_5]\n",
    "len(list_only_2_ng)"
   ]
  },
  {
   "cell_type": "code",
   "execution_count": 159,
   "metadata": {},
   "outputs": [
    {
     "data": {
      "text/plain": [
       "2468"
      ]
     },
     "execution_count": 159,
     "metadata": {},
     "output_type": "execute_result"
    }
   ],
   "source": [
    "\n",
    "list_only_3_ng = [x for x in list_freq_ngramms_3 if x not in list_freq_ngramm_5]\n",
    "len(list_only_3_ng)"
   ]
  },
  {
   "cell_type": "code",
   "execution_count": 160,
   "metadata": {},
   "outputs": [
    {
     "data": {
      "text/plain": [
       "190938"
      ]
     },
     "execution_count": 160,
     "metadata": {},
     "output_type": "execute_result"
    }
   ],
   "source": [
    "list_freq_ngramm_5 = set(list(freq_ngramms_5[freq_ngramms_5[0]>1.2]['index']))\n",
    "len(list_freq_ngramm_5)"
   ]
  },
  {
   "cell_type": "code",
   "execution_count": 161,
   "metadata": {},
   "outputs": [
    {
     "data": {
      "text/plain": [
       "1616435"
      ]
     },
     "execution_count": 161,
     "metadata": {},
     "output_type": "execute_result"
    }
   ],
   "source": [
    "list_freq_ngramms_2 = set(list(freq_ngramms_2['index']))\n",
    "len(list_freq_ngramms_2)"
   ]
  },
  {
   "cell_type": "code",
   "execution_count": 162,
   "metadata": {},
   "outputs": [
    {
     "data": {
      "text/plain": [
       "45704"
      ]
     },
     "execution_count": 162,
     "metadata": {},
     "output_type": "execute_result"
    }
   ],
   "source": [
    "list_only_5_ng = [x for x in list_freq_ngramm_5 if x not in list_freq_ngramms_2]\n",
    "len(list_only_5_ng)"
   ]
  },
  {
   "cell_type": "code",
   "execution_count": 163,
   "metadata": {},
   "outputs": [
    {
     "data": {
      "text/plain": [
       "154894"
      ]
     },
     "execution_count": 163,
     "metadata": {},
     "output_type": "execute_result"
    }
   ],
   "source": [
    "list_only_5_ng = [x for x in list_freq_ngramm_5 if x not in list_freq_ngramms_3]\n",
    "len(list_only_5_ng)"
   ]
  },
  {
   "cell_type": "markdown",
   "metadata": {},
   "source": [
    "И мы получили 2 списка н-грамм, характерных каждый для своей категории отзывов, исключив общее. Объединим их:"
   ]
  },
  {
   "cell_type": "code",
   "execution_count": 164,
   "metadata": {
    "scrolled": true
   },
   "outputs": [
    {
     "data": {
      "text/plain": [
       "164512"
      ]
     },
     "execution_count": 164,
     "metadata": {},
     "output_type": "execute_result"
    }
   ],
   "source": [
    "list_columns_to_check = set(list_only_2_ng + list_only_3_ng + list_only_5_ng)\n",
    "len(list_columns_to_check)"
   ]
  },
  {
   "cell_type": "code",
   "execution_count": 165,
   "metadata": {},
   "outputs": [
    {
     "name": "stderr",
     "output_type": "stream",
     "text": [
      "C:\\Users\\term\\anaconda3\\envs\\nlpenv\\Lib\\site-packages\\sklearn\\feature_extraction\\text.py:521: UserWarning: The parameter 'token_pattern' will not be used since 'tokenizer' is not None'\n",
      "  warnings.warn(\n"
     ]
    }
   ],
   "source": [
    "vec_tr = TfidfVectorizer(ngram_range=(1, 2), max_df=0.4, tokenizer=word_tokenize, stop_words=noise)\n",
    "bow_tr = vec_tr.fit_transform(train_x['Review'])\n",
    "\n",
    "vec_train = pd.DataFrame.sparse.from_spmatrix(bow_tr, columns=vec_tr.get_feature_names_out()\n",
    "                                             )"
   ]
  },
  {
   "cell_type": "code",
   "execution_count": 166,
   "metadata": {},
   "outputs": [
    {
     "name": "stderr",
     "output_type": "stream",
     "text": [
      "C:\\Users\\term\\anaconda3\\envs\\nlpenv\\Lib\\site-packages\\sklearn\\feature_extraction\\text.py:521: UserWarning: The parameter 'token_pattern' will not be used since 'tokenizer' is not None'\n",
      "  warnings.warn(\n"
     ]
    }
   ],
   "source": [
    "vec_ts = TfidfVectorizer(ngram_range=(1, 2), max_df=0.4, tokenizer=word_tokenize, stop_words=noise)\n",
    "bow_ts = vec_ts.fit_transform(test_x['Review'])\n",
    "\n",
    "vec_test = pd.DataFrame.sparse.from_spmatrix(bow_ts, columns=vec_ts.get_feature_names_out()\n",
    "                                             )"
   ]
  },
  {
   "cell_type": "code",
   "execution_count": 167,
   "metadata": {},
   "outputs": [],
   "source": [
    "list_columns_train_all = set(vec_train.columns)\n",
    "list_columns_train_left = [x for x in list_columns_to_check if x in list_columns_train_all]\n",
    "\n",
    "vec_train= vec_train[list_columns_train_left]"
   ]
  },
  {
   "cell_type": "code",
   "execution_count": 168,
   "metadata": {},
   "outputs": [],
   "source": [
    "list_columns_test_all = set(vec_test.columns)\n",
    "list_columns_test_left = [x for x in list_columns_train_left if x in list_columns_test_all]\n",
    "vec_test= vec_test[list_columns_test_left]"
   ]
  },
  {
   "cell_type": "code",
   "execution_count": 169,
   "metadata": {},
   "outputs": [
    {
     "data": {
      "text/plain": [
       "8256"
      ]
     },
     "execution_count": 169,
     "metadata": {},
     "output_type": "execute_result"
    }
   ],
   "source": [
    "list_columns_train_left = set(list_columns_train_left)\n",
    "list_columns_test_left = set(list_columns_test_left)\n",
    "list_columns_train_drop = [x for x in list_columns_train_left if x not in list_columns_test_left]\n",
    "len(list_columns_train_drop)\n"
   ]
  },
  {
   "cell_type": "code",
   "execution_count": 170,
   "metadata": {},
   "outputs": [
    {
     "data": {
      "text/plain": [
       "0"
      ]
     },
     "execution_count": 170,
     "metadata": {},
     "output_type": "execute_result"
    }
   ],
   "source": [
    "list_columns_test_drop = [x for x in list_columns_test_left if x not in list_columns_train_left]\n",
    "len(list_columns_test_drop)"
   ]
  },
  {
   "cell_type": "code",
   "execution_count": 171,
   "metadata": {},
   "outputs": [],
   "source": [
    "vec_train= vec_train.drop(list_columns_train_drop, axis = 1)"
   ]
  },
  {
   "cell_type": "code",
   "execution_count": 172,
   "metadata": {},
   "outputs": [
    {
     "data": {
      "text/plain": [
       "array([ True,  True,  True, ...,  True,  True,  True])"
      ]
     },
     "execution_count": 172,
     "metadata": {},
     "output_type": "execute_result"
    }
   ],
   "source": [
    "vec_train.columns == vec_test.columns "
   ]
  },
  {
   "cell_type": "code",
   "execution_count": 173,
   "metadata": {},
   "outputs": [],
   "source": [
    "def convert_floats(x):\n",
    "    if x.dtype in [np.float32, np.float64]:\n",
    "        return x.astype(np.float16)\n",
    "    else:\n",
    "        return x"
   ]
  },
  {
   "cell_type": "code",
   "execution_count": 174,
   "metadata": {},
   "outputs": [],
   "source": [
    "vec_train = vec_train.apply(convert_floats)\n"
   ]
  },
  {
   "cell_type": "code",
   "execution_count": 175,
   "metadata": {},
   "outputs": [],
   "source": [
    "vec_test = vec_test.apply(convert_floats)"
   ]
  },
  {
   "cell_type": "code",
   "execution_count": 176,
   "metadata": {},
   "outputs": [
    {
     "data": {
      "application/vnd.jupyter.widget-view+json": {
       "model_id": "94370052ef15442bad990a84f95397a8",
       "version_major": 2,
       "version_minor": 0
      },
      "text/plain": [
       "MetricVisualizer(layout=Layout(align_self='stretch', height='500px'))"
      ]
     },
     "metadata": {},
     "output_type": "display_data"
    },
    {
     "data": {
      "text/plain": [
       "<catboost.core.CatBoostClassifier at 0x1b60d9048d0>"
      ]
     },
     "execution_count": 176,
     "metadata": {},
     "output_type": "execute_result"
    }
   ],
   "source": [
    "model_cb = CatBoostClassifier(iterations=600,\n",
    "                                depth = 3,\n",
    "                                loss_function='MultiClass',\n",
    "                                thread_count=-1, \n",
    "                                random_seed=RANDOM_STATE, \n",
    "                                verbose=0, \n",
    "                                colsample_bylevel = .3,\n",
    "                                #text_features=['Review'],\n",
    "                                class_weights= {1: 2, 2: 2, 3:2, 4:2, 5:1}\n",
    "                                #task_type = \"GPU\" \n",
    "                                \n",
    ")\n",
    "\n",
    "\n",
    "model_cb.fit(vec_train, train_y, #text_features=['Review'], \n",
    "             plot= True)\n",
    "\n"
   ]
  },
  {
   "cell_type": "code",
   "execution_count": 177,
   "metadata": {},
   "outputs": [],
   "source": [
    "test_pred = model_cb.predict(vec_test)\n",
    "proba_test = model_cb.predict_proba(vec_test)\n",
    "\n",
    "train_pred = model_cb.predict(vec_train)\n",
    "proba_train = model_cb.predict_proba(vec_train)\n",
    " \n"
   ]
  },
  {
   "cell_type": "code",
   "execution_count": 178,
   "metadata": {},
   "outputs": [
    {
     "name": "stdout",
     "output_type": "stream",
     "text": [
      "\n",
      "              precision    recall  f1-score   support\n",
      "\n",
      "           1       0.68      0.05      0.09      8652\n",
      "           2       0.52      0.01      0.02      8867\n",
      "           3       0.75      0.00      0.01     13286\n",
      "           4       0.47      0.07      0.12     26766\n",
      "           5       0.51      0.98      0.67     56888\n",
      "\n",
      "    accuracy                           0.51    114459\n",
      "   macro avg       0.59      0.22      0.18    114459\n",
      "weighted avg       0.54      0.51      0.37    114459\n",
      "\n",
      "\n",
      "Confusion Matrix\n",
      "\n",
      "[[  401    40    11   293  7907]\n",
      " [  104    75     5   325  8358]\n",
      " [   22    11    49   264 12940]\n",
      " [   30     7     0  1850 24879]\n",
      " [   32    10     0  1207 55639]]\n",
      "AUC ROC train:  0.6097406189618593\n",
      "AUC ROC test:  0.5938968545351602\n"
     ]
    }
   ],
   "source": [
    "confusion = confusion_matrix(test_y, test_pred)\n",
    "print(CR + classification_report(test_y,test_pred)) \n",
    "\n",
    "print(CR + 'Confusion Matrix\\n')\n",
    "print(confusion)\n",
    "auc_tr = roc_auc_score(train_y, proba_train, multi_class='ovr')\n",
    "auc_test = roc_auc_score(test_y, proba_test, multi_class='ovr')\n",
    "print('AUC ROC train: ',auc_tr)\n",
    "print('AUC ROC test: ',auc_test)"
   ]
  },
  {
   "cell_type": "code",
   "execution_count": 179,
   "metadata": {
    "scrolled": true
   },
   "outputs": [
    {
     "name": "stdout",
     "output_type": "stream",
     "text": [
      "Root Mean Squared Error на тестовой выборке: 1.577890580401825\n",
      "Mean Absolute Error на тестовой выборке: 0.9693339973265536\n",
      "R2 на тестовой выборке: -0.5529023217555227\n"
     ]
    }
   ],
   "source": [
    "mse = mean_squared_error(test_y, test_pred)\n",
    "\n",
    "rmse = root_mean_squared_error(test_y, test_pred)\n",
    "mae = mean_absolute_error(test_y, test_pred)\n",
    "print(\"Root Mean Squared Error на тестовой выборке:\", rmse)\n",
    "print(\"Mean Absolute Error на тестовой выборке:\", mae)\n",
    "r2 = r2_score(test_y, test_pred)\n",
    "print(\"R2 на тестовой выборке:\", r2)"
   ]
  },
  {
   "cell_type": "markdown",
   "metadata": {},
   "source": [
    "Разнести встречающиеся биграммы на большее число групп привела к крошечному улучшению метрики. Вообще идея моей модели понятна, вали всё в больший класс - и будет хорошо. Конечно это значит, что мы так и не нашли \"железные\" биграммы, способные чисто разделить овец от козлищ. Попробуем ещё раз с увеличенными весами классов низких оценок.\n",
    "В самостоятельном разделении при равных весах классов модель показала следующие результаты:\n",
    "Root Mean Squared Error на тестовой выборке: 1.59498200972175\n",
    "Mean Absolute Error на тестовой выборке: 0.9858735596387418\n",
    "R2 на тестовой выборке: -0.6019814488845767"
   ]
  },
  {
   "cell_type": "markdown",
   "metadata": {},
   "source": [
    "```\n",
    "model_cb = CatBoostClassifier(iterations=600,\n",
    "                                depth = 3,\n",
    "                                loss_function='MultiClass',\n",
    "                                thread_count=-1, \n",
    "                                random_seed=RANDOM_STATE, \n",
    "                                verbose=0, \n",
    "                                colsample_bylevel = .3,\n",
    "                                class_weights= {1: 2, 2: 2, 3:2, 4:2, 5:1}\n",
    "Confusion Matrix\n",
    "\n",
    "[[  284    10     0   350  5305]\n",
    " [   96    25     0   364  5695]\n",
    " [   33     2    14   337  9049]\n",
    " [   27     4     0  1544 17354]\n",
    " [   35     4     0  1229 38514]]\n",
    "AUC ROC train:  0.6240450534544799\n",
    "AUC ROC test:  0.5973885745549339\n",
    "Root Mean Squared Error на тестовой выборке: 1.5663544330398076\n",
    "Mean Absolute Error на тестовой выборке: 0.9656306446589847\n",
    "R2 на тестовой выборке: -0.5449911139656107\n",
    "```"
   ]
  },
  {
   "cell_type": "markdown",
   "metadata": {},
   "source": [
    "Пока лучшая модель - CatBoostClassifier с включенной обработкой текстовых признаков и равными весами классов:\n",
    "```\n",
    "CatBoostClassifier(iterations=1689,\n",
    "                                depth = 6,\n",
    "                                loss_function='MultiClass',\n",
    "                                thread_count=-1, \n",
    "                                random_seed=RANDOM_STATE, \n",
    "                                verbose=0, \n",
    "                                text_features=text_features,\n",
    "                                task_type = \"GPU\n",
    "```"
   ]
  },
  {
   "cell_type": "markdown",
   "metadata": {},
   "source": [
    "```\n",
    "[[ 3488   579   604   251  1027]\n",
    " [ 1673  1706  1045   593  1163]\n",
    " [ 1079   630  3307  2045  2374]\n",
    " [  445   307  1362  7167  9648]\n",
    " [  554   245   731  3226 35026]]\n",
    "AUC ROC train:  0.9089367980310478\n",
    "AUC ROC test:  0.8557928304391602\n",
    "Root Mean Squared Error на тестовой выборке: 1.042193025946871\n",
    "Mean Absolute Error на тестовой выборке: 0.5508564310183743\n",
    "R2 на тестовой выборке: 0.31602184690234403 \n",
    "```"
   ]
  },
  {
   "cell_type": "markdown",
   "metadata": {},
   "source": [
    "Добиться такого самостоятельно не удалось даже в первом приближении. Продолжаем учиться"
   ]
  },
  {
   "cell_type": "code",
   "execution_count": 180,
   "metadata": {
    "scrolled": false
   },
   "outputs": [
    {
     "data": {
      "text/html": [
       "<div>\n",
       "<style scoped>\n",
       "    .dataframe tbody tr th:only-of-type {\n",
       "        vertical-align: middle;\n",
       "    }\n",
       "\n",
       "    .dataframe tbody tr th {\n",
       "        vertical-align: top;\n",
       "    }\n",
       "\n",
       "    .dataframe thead th {\n",
       "        text-align: right;\n",
       "    }\n",
       "</style>\n",
       "<table border=\"1\" class=\"dataframe\">\n",
       "  <thead>\n",
       "    <tr style=\"text-align: right;\">\n",
       "      <th></th>\n",
       "      <th>Review</th>\n",
       "      <th>Rating</th>\n",
       "    </tr>\n",
       "  </thead>\n",
       "  <tbody>\n",
       "    <tr>\n",
       "      <th>0</th>\n",
       "      <td>3D Touch просто восхитительная вещь! Заряд дер...</td>\n",
       "      <td>5</td>\n",
       "    </tr>\n",
       "    <tr>\n",
       "      <th>1</th>\n",
       "      <td>Отключается при температуре близкой к нулю, не...</td>\n",
       "      <td>4</td>\n",
       "    </tr>\n",
       "    <tr>\n",
       "      <th>2</th>\n",
       "      <td>В Apple окончательно решили не заморачиваться,...</td>\n",
       "      <td>3</td>\n",
       "    </tr>\n",
       "    <tr>\n",
       "      <th>3</th>\n",
       "      <td>Постарался наиболее ёмко и коротко описать все...</td>\n",
       "      <td>4</td>\n",
       "    </tr>\n",
       "    <tr>\n",
       "      <th>4</th>\n",
       "      <td>Достойный телефон. Пользоваться одно удовольст...</td>\n",
       "      <td>5</td>\n",
       "    </tr>\n",
       "  </tbody>\n",
       "</table>\n",
       "</div>"
      ],
      "text/plain": [
       "                                              Review  Rating\n",
       "0  3D Touch просто восхитительная вещь! Заряд дер...       5\n",
       "1  Отключается при температуре близкой к нулю, не...       4\n",
       "2  В Apple окончательно решили не заморачиваться,...       3\n",
       "3  Постарался наиболее ёмко и коротко описать все...       4\n",
       "4  Достойный телефон. Пользоваться одно удовольст...       5"
      ]
     },
     "execution_count": 180,
     "metadata": {},
     "output_type": "execute_result"
    }
   ],
   "source": [
    "data.head()"
   ]
  },
  {
   "cell_type": "markdown",
   "metadata": {},
   "source": [
    "Оставим только русские слова\n"
   ]
  },
  {
   "cell_type": "code",
   "execution_count": 181,
   "metadata": {},
   "outputs": [],
   "source": [
    "regex = re.compile(\"[А-ЯЁа-яёA-Za-z!\\d]+\")\n",
    "\n",
    "def get_rus_words_only(row, regex=regex):\n",
    "    try:\n",
    "        return \" \".join(regex.findall(row['Review']))\n",
    "    except:\n",
    "        return \"\"\n",
    "data['only_text'] = data.apply(get_rus_words_only, axis = 1)"
   ]
  },
  {
   "cell_type": "code",
   "execution_count": 182,
   "metadata": {
    "scrolled": true
   },
   "outputs": [
    {
     "data": {
      "text/plain": [
       "0    3D Touch просто восхитительная вещь! Заряд дер...\n",
       "1    Отключается при температуре близкой к нулю неп...\n",
       "2    В Apple окончательно решили не заморачиваться ...\n",
       "3    Постарался наиболее ёмко и коротко описать все...\n",
       "4     Достойный телефон Пользоваться одно удовольствие\n",
       "Name: only_text, dtype: object"
      ]
     },
     "execution_count": 182,
     "metadata": {},
     "output_type": "execute_result"
    }
   ],
   "source": [
    "data['only_text'].head()"
   ]
  },
  {
   "cell_type": "markdown",
   "metadata": {},
   "source": [
    "Теперь hugging face против опечаток"
   ]
  },
  {
   "cell_type": "markdown",
   "metadata": {
    "scrolled": false
   },
   "source": [
    "from transformers import T5ForConditionalGeneration, T5Tokenizer\n",
    "\n",
    "def correct_text(text):\n",
    "    model_name = 't5-base'  # или любая другая модель T5\n",
    "    model = T5ForConditionalGeneration.from_pretrained(model_name)\n",
    "    tokenizer = T5Tokenizer.from_pretrained(model_name)\n",
    "\n",
    "    inputs = tokenizer.encode( text, return_tensors=\"pt\",)# max_length=2048)\n",
    "    outputs = model.generate(inputs, max_length=100, num_return_sequences=1, num_beams=10)\n",
    "\n",
    "    corrected_text = tokenizer.decode(outputs[0]).replace('<pad>', '').strip()\n",
    "    return corrected_text\n",
    "\n",
    "corrected_text = data['only_text'].head(50).apply(correct_text)\n",
    "corrected_text"
   ]
  },
  {
   "cell_type": "markdown",
   "metadata": {},
   "source": [
    "Что-то я явно не умею готовить этих кошек, ерунда получилась. Использовать не буду, лучше уж опечатки, чем это"
   ]
  },
  {
   "cell_type": "markdown",
   "metadata": {},
   "source": [
    "Создадим дополнительный признак длина отзыва"
   ]
  },
  {
   "cell_type": "code",
   "execution_count": 187,
   "metadata": {
    "scrolled": true
   },
   "outputs": [
    {
     "data": {
      "text/plain": [
       "count    457834.000000\n",
       "mean         58.782801\n",
       "std          65.744656\n",
       "min           0.000000\n",
       "25%          15.000000\n",
       "50%          36.000000\n",
       "75%          76.000000\n",
       "max        4334.000000\n",
       "Name: len_review, dtype: float64"
      ]
     },
     "execution_count": 187,
     "metadata": {},
     "output_type": "execute_result"
    }
   ],
   "source": [
    "def get_len_review(row):\n",
    "    len_r = len(row['only_text'].split())\n",
    "    return  len_r\n",
    "data['len_review'] = data.apply(get_len_review, axis = 1)\n",
    "data['len_review'].describe()"
   ]
  },
  {
   "cell_type": "code",
   "execution_count": 188,
   "metadata": {
    "scrolled": true
   },
   "outputs": [
    {
     "data": {
      "text/plain": [
       "<Axes: >"
      ]
     },
     "execution_count": 188,
     "metadata": {},
     "output_type": "execute_result"
    },
    {
     "data": {
      "image/png": "[encoded data removed]",
      "text/plain": [
       "<Figure size 640x480 with 1 Axes>"
      ]
     },
     "metadata": {},
     "output_type": "display_data"
    }
   ],
   "source": [
    "data['len_review'].hist(bins=100)"
   ]
  },
  {
   "cell_type": "code",
   "execution_count": 189,
   "metadata": {
    "scrolled": false
   },
   "outputs": [
    {
     "data": {
      "text/plain": [
       "Rating\n",
       "5    8\n",
       "4    7\n",
       "3    2\n",
       "2    1\n",
       "Name: count, dtype: int64"
      ]
     },
     "execution_count": 189,
     "metadata": {},
     "output_type": "execute_result"
    }
   ],
   "source": [
    "data[data['len_review']> 500]['Rating'].value_counts()"
   ]
  },
  {
   "cell_type": "markdown",
   "metadata": {},
   "source": [
    "Какие многословные положительные отзывы! Удивительно."
   ]
  },
  {
   "cell_type": "code",
   "execution_count": 190,
   "metadata": {},
   "outputs": [
    {
     "data": {
      "text/html": [
       "<div>\n",
       "<style scoped>\n",
       "    .dataframe tbody tr th:only-of-type {\n",
       "        vertical-align: middle;\n",
       "    }\n",
       "\n",
       "    .dataframe tbody tr th {\n",
       "        vertical-align: top;\n",
       "    }\n",
       "\n",
       "    .dataframe thead th {\n",
       "        text-align: right;\n",
       "    }\n",
       "</style>\n",
       "<table border=\"1\" class=\"dataframe\">\n",
       "  <thead>\n",
       "    <tr style=\"text-align: right;\">\n",
       "      <th></th>\n",
       "      <th>Review</th>\n",
       "      <th>Rating</th>\n",
       "      <th>only_text</th>\n",
       "      <th>len_review</th>\n",
       "    </tr>\n",
       "  </thead>\n",
       "  <tbody>\n",
       "    <tr>\n",
       "      <th>83917</th>\n",
       "      <td>Для начала хочу предупредить, что данный отзыв...</td>\n",
       "      <td>3</td>\n",
       "      <td>Для начала хочу предупредить что данный отзыв ...</td>\n",
       "      <td>1141</td>\n",
       "    </tr>\n",
       "    <tr>\n",
       "      <th>114136</th>\n",
       "      <td>Теперь подробнее. Был куплен еще в 2009м! Рабо...</td>\n",
       "      <td>4</td>\n",
       "      <td>Теперь подробнее Был куплен еще в 2009м! Работ...</td>\n",
       "      <td>571</td>\n",
       "    </tr>\n",
       "    <tr>\n",
       "      <th>119589</th>\n",
       "      <td>Теперь подробнее. Был куплен еще в 2009м! Рабо...</td>\n",
       "      <td>4</td>\n",
       "      <td>Теперь подробнее Был куплен еще в 2009м! Работ...</td>\n",
       "      <td>571</td>\n",
       "    </tr>\n",
       "    <tr>\n",
       "      <th>125911</th>\n",
       "      <td>Купил смарт 3 дня назад, пока очень доволен. Г...</td>\n",
       "      <td>5</td>\n",
       "      <td>Купил смарт 3 дня назад пока очень доволен Гла...</td>\n",
       "      <td>3072</td>\n",
       "    </tr>\n",
       "    <tr>\n",
       "      <th>135727</th>\n",
       "      <td>ВНИМАНИЕ все, кто пользуется или пользовался S...</td>\n",
       "      <td>4</td>\n",
       "      <td>ВНИМАНИЕ все кто пользуется или пользовался So...</td>\n",
       "      <td>1617</td>\n",
       "    </tr>\n",
       "  </tbody>\n",
       "</table>\n",
       "</div>"
      ],
      "text/plain": [
       "                                                   Review  Rating  \\\n",
       "83917   Для начала хочу предупредить, что данный отзыв...       3   \n",
       "114136  Теперь подробнее. Был куплен еще в 2009м! Рабо...       4   \n",
       "119589  Теперь подробнее. Был куплен еще в 2009м! Рабо...       4   \n",
       "125911  Купил смарт 3 дня назад, пока очень доволен. Г...       5   \n",
       "135727  ВНИМАНИЕ все, кто пользуется или пользовался S...       4   \n",
       "\n",
       "                                                only_text  len_review  \n",
       "83917   Для начала хочу предупредить что данный отзыв ...        1141  \n",
       "114136  Теперь подробнее Был куплен еще в 2009м! Работ...         571  \n",
       "119589  Теперь подробнее Был куплен еще в 2009м! Работ...         571  \n",
       "125911  Купил смарт 3 дня назад пока очень доволен Гла...        3072  \n",
       "135727  ВНИМАНИЕ все кто пользуется или пользовался So...        1617  "
      ]
     },
     "execution_count": 190,
     "metadata": {},
     "output_type": "execute_result"
    }
   ],
   "source": [
    "data[data['len_review']> 500].head()"
   ]
  },
  {
   "cell_type": "code",
   "execution_count": 191,
   "metadata": {
    "scrolled": false
   },
   "outputs": [
    {
     "data": {
      "text/plain": [
       "Rating\n",
       "5    88\n",
       "4    41\n",
       "1    24\n",
       "3    19\n",
       "2    10\n",
       "Name: count, dtype: int64"
      ]
     },
     "execution_count": 191,
     "metadata": {},
     "output_type": "execute_result"
    }
   ],
   "source": [
    "data[data['len_review']== 0]['Rating'].value_counts()"
   ]
  },
  {
   "cell_type": "code",
   "execution_count": 192,
   "metadata": {
    "scrolled": true
   },
   "outputs": [
    {
     "data": {
      "text/plain": [
       "Rating\n",
       "5    1407\n",
       "4     288\n",
       "1     237\n",
       "3     163\n",
       "2     147\n",
       "Name: count, dtype: int64"
      ]
     },
     "execution_count": 192,
     "metadata": {},
     "output_type": "execute_result"
    }
   ],
   "source": [
    "data[data['len_review']== 1]['Rating'].value_counts()"
   ]
  },
  {
   "cell_type": "code",
   "execution_count": 193,
   "metadata": {},
   "outputs": [
    {
     "data": {
      "text/html": [
       "<div>\n",
       "<style scoped>\n",
       "    .dataframe tbody tr th:only-of-type {\n",
       "        vertical-align: middle;\n",
       "    }\n",
       "\n",
       "    .dataframe tbody tr th {\n",
       "        vertical-align: top;\n",
       "    }\n",
       "\n",
       "    .dataframe thead th {\n",
       "        text-align: right;\n",
       "    }\n",
       "</style>\n",
       "<table border=\"1\" class=\"dataframe\">\n",
       "  <thead>\n",
       "    <tr style=\"text-align: right;\">\n",
       "      <th></th>\n",
       "      <th>Review</th>\n",
       "      <th>Rating</th>\n",
       "      <th>only_text</th>\n",
       "      <th>len_review</th>\n",
       "    </tr>\n",
       "  </thead>\n",
       "  <tbody>\n",
       "    <tr>\n",
       "      <th>172</th>\n",
       "      <td>Доволен</td>\n",
       "      <td>3</td>\n",
       "      <td>Доволен</td>\n",
       "      <td>1</td>\n",
       "    </tr>\n",
       "    <tr>\n",
       "      <th>174</th>\n",
       "      <td>Недорогой</td>\n",
       "      <td>5</td>\n",
       "      <td>Недорогой</td>\n",
       "      <td>1</td>\n",
       "    </tr>\n",
       "    <tr>\n",
       "      <th>467</th>\n",
       "      <td>Рекомендую</td>\n",
       "      <td>5</td>\n",
       "      <td>Рекомендую</td>\n",
       "      <td>1</td>\n",
       "    </tr>\n",
       "    <tr>\n",
       "      <th>631</th>\n",
       "      <td>Рекомендую.</td>\n",
       "      <td>5</td>\n",
       "      <td>Рекомендую</td>\n",
       "      <td>1</td>\n",
       "    </tr>\n",
       "    <tr>\n",
       "      <th>1148</th>\n",
       "      <td>Норм</td>\n",
       "      <td>3</td>\n",
       "      <td>Норм</td>\n",
       "      <td>1</td>\n",
       "    </tr>\n",
       "    <tr>\n",
       "      <th>1805</th>\n",
       "      <td>советую!!!</td>\n",
       "      <td>5</td>\n",
       "      <td>советую!!!</td>\n",
       "      <td>1</td>\n",
       "    </tr>\n",
       "    <tr>\n",
       "      <th>2323</th>\n",
       "      <td>Хорошее</td>\n",
       "      <td>4</td>\n",
       "      <td>Хорошее</td>\n",
       "      <td>1</td>\n",
       "    </tr>\n",
       "    <tr>\n",
       "      <th>2472</th>\n",
       "      <td>продам</td>\n",
       "      <td>3</td>\n",
       "      <td>продам</td>\n",
       "      <td>1</td>\n",
       "    </tr>\n",
       "    <tr>\n",
       "      <th>2645</th>\n",
       "      <td>Ужас</td>\n",
       "      <td>1</td>\n",
       "      <td>Ужас</td>\n",
       "      <td>1</td>\n",
       "    </tr>\n",
       "    <tr>\n",
       "      <th>2721</th>\n",
       "      <td>супер</td>\n",
       "      <td>5</td>\n",
       "      <td>супер</td>\n",
       "      <td>1</td>\n",
       "    </tr>\n",
       "    <tr>\n",
       "      <th>2978</th>\n",
       "      <td>Понравился</td>\n",
       "      <td>4</td>\n",
       "      <td>Понравился</td>\n",
       "      <td>1</td>\n",
       "    </tr>\n",
       "    <tr>\n",
       "      <th>3032</th>\n",
       "      <td>Стильный)))</td>\n",
       "      <td>5</td>\n",
       "      <td>Стильный</td>\n",
       "      <td>1</td>\n",
       "    </tr>\n",
       "    <tr>\n",
       "      <th>3067</th>\n",
       "      <td>супеееер</td>\n",
       "      <td>5</td>\n",
       "      <td>супеееер</td>\n",
       "      <td>1</td>\n",
       "    </tr>\n",
       "    <tr>\n",
       "      <th>3752</th>\n",
       "      <td>шлак</td>\n",
       "      <td>1</td>\n",
       "      <td>шлак</td>\n",
       "      <td>1</td>\n",
       "    </tr>\n",
       "    <tr>\n",
       "      <th>3797</th>\n",
       "      <td>Ужас</td>\n",
       "      <td>1</td>\n",
       "      <td>Ужас</td>\n",
       "      <td>1</td>\n",
       "    </tr>\n",
       "    <tr>\n",
       "      <th>4101</th>\n",
       "      <td>хорошо</td>\n",
       "      <td>4</td>\n",
       "      <td>хорошо</td>\n",
       "      <td>1</td>\n",
       "    </tr>\n",
       "    <tr>\n",
       "      <th>4732</th>\n",
       "      <td>Доволен</td>\n",
       "      <td>5</td>\n",
       "      <td>Доволен</td>\n",
       "      <td>1</td>\n",
       "    </tr>\n",
       "    <tr>\n",
       "      <th>4977</th>\n",
       "      <td>Рекомендую!!!</td>\n",
       "      <td>4</td>\n",
       "      <td>Рекомендую!!!</td>\n",
       "      <td>1</td>\n",
       "    </tr>\n",
       "    <tr>\n",
       "      <th>5146</th>\n",
       "      <td>Суперр!!!</td>\n",
       "      <td>5</td>\n",
       "      <td>Суперр!!!</td>\n",
       "      <td>1</td>\n",
       "    </tr>\n",
       "    <tr>\n",
       "      <th>5156</th>\n",
       "      <td>Класс</td>\n",
       "      <td>5</td>\n",
       "      <td>Класс</td>\n",
       "      <td>1</td>\n",
       "    </tr>\n",
       "    <tr>\n",
       "      <th>5595</th>\n",
       "      <td>четко</td>\n",
       "      <td>5</td>\n",
       "      <td>четко</td>\n",
       "      <td>1</td>\n",
       "    </tr>\n",
       "    <tr>\n",
       "      <th>6332</th>\n",
       "      <td>нет</td>\n",
       "      <td>3</td>\n",
       "      <td>нет</td>\n",
       "      <td>1</td>\n",
       "    </tr>\n",
       "    <tr>\n",
       "      <th>6351</th>\n",
       "      <td>хдлблдыщ</td>\n",
       "      <td>5</td>\n",
       "      <td>хдлблдыщ</td>\n",
       "      <td>1</td>\n",
       "    </tr>\n",
       "    <tr>\n",
       "      <th>6504</th>\n",
       "      <td>доволен</td>\n",
       "      <td>5</td>\n",
       "      <td>доволен</td>\n",
       "      <td>1</td>\n",
       "    </tr>\n",
       "    <tr>\n",
       "      <th>6542</th>\n",
       "      <td>Разочарован</td>\n",
       "      <td>3</td>\n",
       "      <td>Разочарован</td>\n",
       "      <td>1</td>\n",
       "    </tr>\n",
       "    <tr>\n",
       "      <th>6885</th>\n",
       "      <td>Ничто.</td>\n",
       "      <td>2</td>\n",
       "      <td>Ничто</td>\n",
       "      <td>1</td>\n",
       "    </tr>\n",
       "    <tr>\n",
       "      <th>6924</th>\n",
       "      <td>Приятный.</td>\n",
       "      <td>5</td>\n",
       "      <td>Приятный</td>\n",
       "      <td>1</td>\n",
       "    </tr>\n",
       "    <tr>\n",
       "      <th>7024</th>\n",
       "      <td>удобен</td>\n",
       "      <td>4</td>\n",
       "      <td>удобен</td>\n",
       "      <td>1</td>\n",
       "    </tr>\n",
       "    <tr>\n",
       "      <th>7175</th>\n",
       "      <td>удобен</td>\n",
       "      <td>4</td>\n",
       "      <td>удобен</td>\n",
       "      <td>1</td>\n",
       "    </tr>\n",
       "    <tr>\n",
       "      <th>7240</th>\n",
       "      <td>Ужас</td>\n",
       "      <td>1</td>\n",
       "      <td>Ужас</td>\n",
       "      <td>1</td>\n",
       "    </tr>\n",
       "  </tbody>\n",
       "</table>\n",
       "</div>"
      ],
      "text/plain": [
       "             Review  Rating      only_text  len_review\n",
       "172         Доволен       3        Доволен           1\n",
       "174       Недорогой       5      Недорогой           1\n",
       "467      Рекомендую       5     Рекомендую           1\n",
       "631     Рекомендую.       5     Рекомендую           1\n",
       "1148           Норм       3           Норм           1\n",
       "1805     советую!!!       5     советую!!!           1\n",
       "2323        Хорошее       4        Хорошее           1\n",
       "2472         продам       3         продам           1\n",
       "2645           Ужас       1           Ужас           1\n",
       "2721          супер       5          супер           1\n",
       "2978     Понравился       4     Понравился           1\n",
       "3032    Стильный)))       5       Стильный           1\n",
       "3067       супеееер       5       супеееер           1\n",
       "3752           шлак       1           шлак           1\n",
       "3797           Ужас       1           Ужас           1\n",
       "4101         хорошо       4         хорошо           1\n",
       "4732        Доволен       5        Доволен           1\n",
       "4977  Рекомендую!!!       4  Рекомендую!!!           1\n",
       "5146      Суперр!!!       5      Суперр!!!           1\n",
       "5156          Класс       5          Класс           1\n",
       "5595          четко       5          четко           1\n",
       "6332            нет       3            нет           1\n",
       "6351       хдлблдыщ       5       хдлблдыщ           1\n",
       "6504        доволен       5        доволен           1\n",
       "6542    Разочарован       3    Разочарован           1\n",
       "6885         Ничто.       2          Ничто           1\n",
       "6924      Приятный.       5       Приятный           1\n",
       "7024         удобен       4         удобен           1\n",
       "7175         удобен       4         удобен           1\n",
       "7240           Ужас       1           Ужас           1"
      ]
     },
     "execution_count": 193,
     "metadata": {},
     "output_type": "execute_result"
    }
   ],
   "source": [
    "data[data['len_review']== 1].head(30)"
   ]
  },
  {
   "cell_type": "code",
   "execution_count": 194,
   "metadata": {
    "scrolled": false
   },
   "outputs": [
    {
     "data": {
      "text/plain": [
       "Rating\n",
       "5    4329\n",
       "4    1053\n",
       "1     770\n",
       "3     535\n",
       "2     499\n",
       "Name: count, dtype: int64"
      ]
     },
     "execution_count": 194,
     "metadata": {},
     "output_type": "execute_result"
    }
   ],
   "source": [
    "data[data['len_review']== 2]['Rating'].value_counts()"
   ]
  },
  {
   "cell_type": "code",
   "execution_count": 195,
   "metadata": {},
   "outputs": [
    {
     "data": {
      "text/html": [
       "<div>\n",
       "<style scoped>\n",
       "    .dataframe tbody tr th:only-of-type {\n",
       "        vertical-align: middle;\n",
       "    }\n",
       "\n",
       "    .dataframe tbody tr th {\n",
       "        vertical-align: top;\n",
       "    }\n",
       "\n",
       "    .dataframe thead th {\n",
       "        text-align: right;\n",
       "    }\n",
       "</style>\n",
       "<table border=\"1\" class=\"dataframe\">\n",
       "  <thead>\n",
       "    <tr style=\"text-align: right;\">\n",
       "      <th></th>\n",
       "      <th>Review</th>\n",
       "      <th>Rating</th>\n",
       "      <th>only_text</th>\n",
       "      <th>len_review</th>\n",
       "    </tr>\n",
       "  </thead>\n",
       "  <tbody>\n",
       "    <tr>\n",
       "      <th>134</th>\n",
       "      <td>Отличный смарт .</td>\n",
       "      <td>4</td>\n",
       "      <td>Отличный смарт</td>\n",
       "      <td>2</td>\n",
       "    </tr>\n",
       "    <tr>\n",
       "      <th>183</th>\n",
       "      <td>Телефон хороший</td>\n",
       "      <td>5</td>\n",
       "      <td>Телефон хороший</td>\n",
       "      <td>2</td>\n",
       "    </tr>\n",
       "    <tr>\n",
       "      <th>518</th>\n",
       "      <td>Очень доволен</td>\n",
       "      <td>5</td>\n",
       "      <td>Очень доволен</td>\n",
       "      <td>2</td>\n",
       "    </tr>\n",
       "    <tr>\n",
       "      <th>676</th>\n",
       "      <td>Очень довольна!!</td>\n",
       "      <td>5</td>\n",
       "      <td>Очень довольна!!</td>\n",
       "      <td>2</td>\n",
       "    </tr>\n",
       "    <tr>\n",
       "      <th>932</th>\n",
       "      <td>На троечку.</td>\n",
       "      <td>3</td>\n",
       "      <td>На троечку</td>\n",
       "      <td>2</td>\n",
       "    </tr>\n",
       "    <tr>\n",
       "      <th>1145</th>\n",
       "      <td>Отличный аппарат!</td>\n",
       "      <td>5</td>\n",
       "      <td>Отличный аппарат!</td>\n",
       "      <td>2</td>\n",
       "    </tr>\n",
       "    <tr>\n",
       "      <th>1153</th>\n",
       "      <td>Телефон супер!</td>\n",
       "      <td>5</td>\n",
       "      <td>Телефон супер!</td>\n",
       "      <td>2</td>\n",
       "    </tr>\n",
       "    <tr>\n",
       "      <th>1260</th>\n",
       "      <td>ЛюбЛюбля его...</td>\n",
       "      <td>5</td>\n",
       "      <td>ЛюбЛюбля его</td>\n",
       "      <td>2</td>\n",
       "    </tr>\n",
       "    <tr>\n",
       "      <th>1262</th>\n",
       "      <td>ЛюбЛюбля его...</td>\n",
       "      <td>5</td>\n",
       "      <td>ЛюбЛюбля его</td>\n",
       "      <td>2</td>\n",
       "    </tr>\n",
       "    <tr>\n",
       "      <th>1321</th>\n",
       "      <td>Классный телефончик</td>\n",
       "      <td>5</td>\n",
       "      <td>Классный телефончик</td>\n",
       "      <td>2</td>\n",
       "    </tr>\n",
       "    <tr>\n",
       "      <th>1373</th>\n",
       "      <td>Неубиваемый смартфон</td>\n",
       "      <td>5</td>\n",
       "      <td>Неубиваемый смартфон</td>\n",
       "      <td>2</td>\n",
       "    </tr>\n",
       "    <tr>\n",
       "      <th>1487</th>\n",
       "      <td>Отличный телефон</td>\n",
       "      <td>5</td>\n",
       "      <td>Отличный телефон</td>\n",
       "      <td>2</td>\n",
       "    </tr>\n",
       "    <tr>\n",
       "      <th>1497</th>\n",
       "      <td>Отличный телефон</td>\n",
       "      <td>5</td>\n",
       "      <td>Отличный телефон</td>\n",
       "      <td>2</td>\n",
       "    </tr>\n",
       "    <tr>\n",
       "      <th>1516</th>\n",
       "      <td>Смартфоном доволен.</td>\n",
       "      <td>5</td>\n",
       "      <td>Смартфоном доволен</td>\n",
       "      <td>2</td>\n",
       "    </tr>\n",
       "    <tr>\n",
       "      <th>1530</th>\n",
       "      <td>Не рекомендую.</td>\n",
       "      <td>1</td>\n",
       "      <td>Не рекомендую</td>\n",
       "      <td>2</td>\n",
       "    </tr>\n",
       "    <tr>\n",
       "      <th>1569</th>\n",
       "      <td>хороший смартфон</td>\n",
       "      <td>5</td>\n",
       "      <td>хороший смартфон</td>\n",
       "      <td>2</td>\n",
       "    </tr>\n",
       "    <tr>\n",
       "      <th>1599</th>\n",
       "      <td>Мой выбор</td>\n",
       "      <td>5</td>\n",
       "      <td>Мой выбор</td>\n",
       "      <td>2</td>\n",
       "    </tr>\n",
       "    <tr>\n",
       "      <th>1651</th>\n",
       "      <td>Супер телефон.</td>\n",
       "      <td>5</td>\n",
       "      <td>Супер телефон</td>\n",
       "      <td>2</td>\n",
       "    </tr>\n",
       "    <tr>\n",
       "      <th>1727</th>\n",
       "      <td>Советую покупать.</td>\n",
       "      <td>5</td>\n",
       "      <td>Советую покупать</td>\n",
       "      <td>2</td>\n",
       "    </tr>\n",
       "    <tr>\n",
       "      <th>1774</th>\n",
       "      <td>Отличный смартфон!!!</td>\n",
       "      <td>5</td>\n",
       "      <td>Отличный смартфон!!!</td>\n",
       "      <td>2</td>\n",
       "    </tr>\n",
       "  </tbody>\n",
       "</table>\n",
       "</div>"
      ],
      "text/plain": [
       "                    Review  Rating             only_text  len_review\n",
       "134       Отличный смарт .       4        Отличный смарт           2\n",
       "183        Телефон хороший       5       Телефон хороший           2\n",
       "518          Очень доволен       5         Очень доволен           2\n",
       "676       Очень довольна!!       5      Очень довольна!!           2\n",
       "932            На троечку.       3            На троечку           2\n",
       "1145     Отличный аппарат!       5     Отличный аппарат!           2\n",
       "1153        Телефон супер!       5        Телефон супер!           2\n",
       "1260       ЛюбЛюбля его...       5          ЛюбЛюбля его           2\n",
       "1262       ЛюбЛюбля его...       5          ЛюбЛюбля его           2\n",
       "1321   Классный телефончик       5   Классный телефончик           2\n",
       "1373  Неубиваемый смартфон       5  Неубиваемый смартфон           2\n",
       "1487      Отличный телефон       5      Отличный телефон           2\n",
       "1497      Отличный телефон       5      Отличный телефон           2\n",
       "1516   Смартфоном доволен.       5    Смартфоном доволен           2\n",
       "1530        Не рекомендую.       1         Не рекомендую           2\n",
       "1569      хороший смартфон       5      хороший смартфон           2\n",
       "1599             Мой выбор       5             Мой выбор           2\n",
       "1651        Супер телефон.       5         Супер телефон           2\n",
       "1727     Советую покупать.       5      Советую покупать           2\n",
       "1774  Отличный смартфон!!!       5  Отличный смартфон!!!           2"
      ]
     },
     "execution_count": 195,
     "metadata": {},
     "output_type": "execute_result"
    }
   ],
   "source": [
    "data[data['len_review']== 2].head(20)"
   ]
  },
  {
   "cell_type": "code",
   "execution_count": 196,
   "metadata": {
    "scrolled": true
   },
   "outputs": [
    {
     "data": {
      "text/html": [
       "<div>\n",
       "<style scoped>\n",
       "    .dataframe tbody tr th:only-of-type {\n",
       "        vertical-align: middle;\n",
       "    }\n",
       "\n",
       "    .dataframe tbody tr th {\n",
       "        vertical-align: top;\n",
       "    }\n",
       "\n",
       "    .dataframe thead th {\n",
       "        text-align: right;\n",
       "    }\n",
       "</style>\n",
       "<table border=\"1\" class=\"dataframe\">\n",
       "  <thead>\n",
       "    <tr style=\"text-align: right;\">\n",
       "      <th></th>\n",
       "      <th>Review</th>\n",
       "      <th>Rating</th>\n",
       "      <th>only_text</th>\n",
       "      <th>len_review</th>\n",
       "    </tr>\n",
       "  </thead>\n",
       "  <tbody>\n",
       "    <tr>\n",
       "      <th>5</th>\n",
       "      <td>6s gold 64gb</td>\n",
       "      <td>5</td>\n",
       "      <td>6s gold 64gb</td>\n",
       "      <td>3</td>\n",
       "    </tr>\n",
       "    <tr>\n",
       "      <th>51</th>\n",
       "      <td>Дизайн , конечно, хорош.</td>\n",
       "      <td>1</td>\n",
       "      <td>Дизайн конечно хорош</td>\n",
       "      <td>3</td>\n",
       "    </tr>\n",
       "    <tr>\n",
       "      <th>81</th>\n",
       "      <td>покупать не рекомендую</td>\n",
       "      <td>3</td>\n",
       "      <td>покупать не рекомендую</td>\n",
       "      <td>3</td>\n",
       "    </tr>\n",
       "    <tr>\n",
       "      <th>177</th>\n",
       "      <td>Цена слишком завышена!</td>\n",
       "      <td>3</td>\n",
       "      <td>Цена слишком завышена!</td>\n",
       "      <td>3</td>\n",
       "    </tr>\n",
       "    <tr>\n",
       "      <th>517</th>\n",
       "      <td>Всё написал выше)</td>\n",
       "      <td>5</td>\n",
       "      <td>Всё написал выше</td>\n",
       "      <td>3</td>\n",
       "    </tr>\n",
       "    <tr>\n",
       "      <th>542</th>\n",
       "      <td>Он реально лучший:)</td>\n",
       "      <td>5</td>\n",
       "      <td>Он реально лучший</td>\n",
       "      <td>3</td>\n",
       "    </tr>\n",
       "    <tr>\n",
       "      <th>1030</th>\n",
       "      <td>пользуюсь с удовольствием)</td>\n",
       "      <td>5</td>\n",
       "      <td>пользуюсь с удовольствием</td>\n",
       "      <td>3</td>\n",
       "    </tr>\n",
       "    <tr>\n",
       "      <th>1093</th>\n",
       "      <td>Пока доволен им....</td>\n",
       "      <td>4</td>\n",
       "      <td>Пока доволен им</td>\n",
       "      <td>3</td>\n",
       "    </tr>\n",
       "    <tr>\n",
       "      <th>1130</th>\n",
       "      <td>Супер телефон. 25746692</td>\n",
       "      <td>5</td>\n",
       "      <td>Супер телефон 25746692</td>\n",
       "      <td>3</td>\n",
       "    </tr>\n",
       "    <tr>\n",
       "      <th>1374</th>\n",
       "      <td>Что делать подскажите</td>\n",
       "      <td>3</td>\n",
       "      <td>Что делать подскажите</td>\n",
       "      <td>3</td>\n",
       "    </tr>\n",
       "    <tr>\n",
       "      <th>1402</th>\n",
       "      <td>Не советую брать.</td>\n",
       "      <td>3</td>\n",
       "      <td>Не советую брать</td>\n",
       "      <td>3</td>\n",
       "    </tr>\n",
       "    <tr>\n",
       "      <th>1459</th>\n",
       "      <td>Дорого для неё.</td>\n",
       "      <td>2</td>\n",
       "      <td>Дорого для неё</td>\n",
       "      <td>3</td>\n",
       "    </tr>\n",
       "    <tr>\n",
       "      <th>1550</th>\n",
       "      <td>не советовал бы.</td>\n",
       "      <td>2</td>\n",
       "      <td>не советовал бы</td>\n",
       "      <td>3</td>\n",
       "    </tr>\n",
       "    <tr>\n",
       "      <th>1579</th>\n",
       "      <td>Мой хороший телефон!</td>\n",
       "      <td>4</td>\n",
       "      <td>Мой хороший телефон!</td>\n",
       "      <td>3</td>\n",
       "    </tr>\n",
       "    <tr>\n",
       "      <th>1617</th>\n",
       "      <td>Выкинутые деньги!Не советую!</td>\n",
       "      <td>1</td>\n",
       "      <td>Выкинутые деньги!Не советую!</td>\n",
       "      <td>3</td>\n",
       "    </tr>\n",
       "    <tr>\n",
       "      <th>1625</th>\n",
       "      <td>в принципе рекомендую</td>\n",
       "      <td>4</td>\n",
       "      <td>в принципе рекомендую</td>\n",
       "      <td>3</td>\n",
       "    </tr>\n",
       "    <tr>\n",
       "      <th>1660</th>\n",
       "      <td>Тормоз, который жив.</td>\n",
       "      <td>3</td>\n",
       "      <td>Тормоз который жив</td>\n",
       "      <td>3</td>\n",
       "    </tr>\n",
       "    <tr>\n",
       "      <th>1711</th>\n",
       "      <td>Позор марки HTC.</td>\n",
       "      <td>3</td>\n",
       "      <td>Позор марки HTC</td>\n",
       "      <td>3</td>\n",
       "    </tr>\n",
       "    <tr>\n",
       "      <th>1718</th>\n",
       "      <td>Пожалел, что взял.</td>\n",
       "      <td>1</td>\n",
       "      <td>Пожалел что взял</td>\n",
       "      <td>3</td>\n",
       "    </tr>\n",
       "    <tr>\n",
       "      <th>1903</th>\n",
       "      <td>телефон просто супер</td>\n",
       "      <td>5</td>\n",
       "      <td>телефон просто супер</td>\n",
       "      <td>3</td>\n",
       "    </tr>\n",
       "  </tbody>\n",
       "</table>\n",
       "</div>"
      ],
      "text/plain": [
       "                            Review  Rating                     only_text  \\\n",
       "5                     6s gold 64gb       5                  6s gold 64gb   \n",
       "51        Дизайн , конечно, хорош.       1          Дизайн конечно хорош   \n",
       "81          покупать не рекомендую       3        покупать не рекомендую   \n",
       "177         Цена слишком завышена!       3        Цена слишком завышена!   \n",
       "517              Всё написал выше)       5              Всё написал выше   \n",
       "542            Он реально лучший:)       5             Он реально лучший   \n",
       "1030    пользуюсь с удовольствием)       5     пользуюсь с удовольствием   \n",
       "1093           Пока доволен им....       4               Пока доволен им   \n",
       "1130       Супер телефон. 25746692       5        Супер телефон 25746692   \n",
       "1374         Что делать подскажите       3         Что делать подскажите   \n",
       "1402             Не советую брать.       3              Не советую брать   \n",
       "1459               Дорого для неё.       2                Дорого для неё   \n",
       "1550              не советовал бы.       2               не советовал бы   \n",
       "1579          Мой хороший телефон!       4          Мой хороший телефон!   \n",
       "1617  Выкинутые деньги!Не советую!       1  Выкинутые деньги!Не советую!   \n",
       "1625         в принципе рекомендую       4         в принципе рекомендую   \n",
       "1660          Тормоз, который жив.       3            Тормоз который жив   \n",
       "1711              Позор марки HTC.       3               Позор марки HTC   \n",
       "1718            Пожалел, что взял.       1              Пожалел что взял   \n",
       "1903          телефон просто супер       5          телефон просто супер   \n",
       "\n",
       "      len_review  \n",
       "5              3  \n",
       "51             3  \n",
       "81             3  \n",
       "177            3  \n",
       "517            3  \n",
       "542            3  \n",
       "1030           3  \n",
       "1093           3  \n",
       "1130           3  \n",
       "1374           3  \n",
       "1402           3  \n",
       "1459           3  \n",
       "1550           3  \n",
       "1579           3  \n",
       "1617           3  \n",
       "1625           3  \n",
       "1660           3  \n",
       "1711           3  \n",
       "1718           3  \n",
       "1903           3  "
      ]
     },
     "execution_count": 196,
     "metadata": {},
     "output_type": "execute_result"
    }
   ],
   "source": [
    "data[data['len_review']== 3].head(20)"
   ]
  },
  {
   "cell_type": "code",
   "execution_count": 197,
   "metadata": {
    "scrolled": false
   },
   "outputs": [
    {
     "data": {
      "text/plain": [
       "count    457834.000000\n",
       "mean          0.741282\n",
       "std           2.432597\n",
       "min           0.000000\n",
       "25%           0.000000\n",
       "50%           0.000000\n",
       "75%           1.000000\n",
       "max         251.000000\n",
       "Name: num_exclamation_marks, dtype: float64"
      ]
     },
     "execution_count": 197,
     "metadata": {},
     "output_type": "execute_result"
    }
   ],
   "source": [
    "def get_num_exclamation_marks(row):\n",
    "    num_exclamation_marks = row['only_text'].count('!')\n",
    "    return  num_exclamation_marks\n",
    "data['num_exclamation_marks'] = data.apply(get_num_exclamation_marks, axis = 1)\n",
    "data['num_exclamation_marks'].describe()"
   ]
  },
  {
   "cell_type": "code",
   "execution_count": 198,
   "metadata": {},
   "outputs": [],
   "source": [
    "data.loc[data['num_exclamation_marks']>50,'num_exclamation_marks'] = 50"
   ]
  },
  {
   "cell_type": "code",
   "execution_count": 199,
   "metadata": {
    "scrolled": true
   },
   "outputs": [
    {
     "data": {
      "text/plain": [
       "num_exclamation_marks\n",
       "0     339396\n",
       "1      55446\n",
       "2      18586\n",
       "3      17755\n",
       "4       8793\n",
       "5       4448\n",
       "6       3763\n",
       "7       2341\n",
       "8       1493\n",
       "9       1244\n",
       "10       886\n",
       "11       726\n",
       "12       582\n",
       "13       436\n",
       "14       299\n",
       "15       268\n",
       "16       213\n",
       "17       150\n",
       "18       127\n",
       "19        98\n",
       "20        88\n",
       "21        86\n",
       "50        82\n",
       "23        65\n",
       "24        52\n",
       "26        46\n",
       "27        40\n",
       "22        37\n",
       "25        36\n",
       "30        30\n",
       "29        22\n",
       "32        22\n",
       "28        21\n",
       "36        19\n",
       "39        18\n",
       "31        18\n",
       "33        17\n",
       "34        13\n",
       "35        11\n",
       "48         9\n",
       "40         8\n",
       "42         7\n",
       "46         6\n",
       "41         6\n",
       "43         5\n",
       "47         5\n",
       "44         4\n",
       "37         4\n",
       "45         4\n",
       "38         2\n",
       "49         1\n",
       "Name: count, dtype: int64"
      ]
     },
     "execution_count": 199,
     "metadata": {},
     "output_type": "execute_result"
    }
   ],
   "source": [
    "data['num_exclamation_marks'].value_counts()"
   ]
  },
  {
   "cell_type": "code",
   "execution_count": 200,
   "metadata": {
    "scrolled": false
   },
   "outputs": [
    {
     "data": {
      "text/plain": [
       "<Axes: >"
      ]
     },
     "execution_count": 200,
     "metadata": {},
     "output_type": "execute_result"
    },
    {
     "data": {
      "image/png": "[encoded data removed]",
      "text/plain": [
       "<Figure size 640x480 with 1 Axes>"
      ]
     },
     "metadata": {},
     "output_type": "display_data"
    }
   ],
   "source": [
    "data['num_exclamation_marks'].hist(bins=100)"
   ]
  },
  {
   "cell_type": "code",
   "execution_count": 201,
   "metadata": {},
   "outputs": [
    {
     "data": {
      "text/plain": [
       "Index(['Review', 'Rating', 'only_text', 'len_review', 'num_exclamation_marks'], dtype='object')"
      ]
     },
     "execution_count": 201,
     "metadata": {},
     "output_type": "execute_result"
    }
   ],
   "source": [
    "data.columns"
   ]
  },
  {
   "cell_type": "code",
   "execution_count": 202,
   "metadata": {},
   "outputs": [],
   "source": [
    "X = data.drop(['Review','Rating', ], axis = 1)"
   ]
  },
  {
   "cell_type": "code",
   "execution_count": 203,
   "metadata": {},
   "outputs": [],
   "source": [
    "y =target = data['Rating']"
   ]
  },
  {
   "cell_type": "code",
   "execution_count": 204,
   "metadata": {},
   "outputs": [],
   "source": [
    "train_x, test_x, train_y, test_y = train_test_split(X, y,\n",
    "                                                   test_size=TEST_SIZE, random_state=RS,\n",
    "                                                   )"
   ]
  },
  {
   "cell_type": "code",
   "execution_count": 205,
   "metadata": {
    "scrolled": true
   },
   "outputs": [
    {
     "data": {
      "text/plain": [
       "['only_text']"
      ]
     },
     "execution_count": 205,
     "metadata": {},
     "output_type": "execute_result"
    }
   ],
   "source": [
    "text_features = X.select_dtypes(include='object').columns.tolist()\n",
    "text_features"
   ]
  },
  {
   "cell_type": "markdown",
   "metadata": {},
   "source": [
    "## Действительно лучшая модель"
   ]
  },
  {
   "cell_type": "code",
   "execution_count": 206,
   "metadata": {
    "scrolled": true
   },
   "outputs": [
    {
     "data": {
      "application/vnd.jupyter.widget-view+json": {
       "model_id": "065315230754400d840a94f1e754c24d",
       "version_major": 2,
       "version_minor": 0
      },
      "text/plain": [
       "MetricVisualizer(layout=Layout(align_self='stretch', height='500px'))"
      ]
     },
     "metadata": {},
     "output_type": "display_data"
    },
    {
     "data": {
      "text/plain": [
       "<catboost.core.CatBoostClassifier at 0x1b60ed11a50>"
      ]
     },
     "execution_count": 206,
     "metadata": {},
     "output_type": "execute_result"
    }
   ],
   "source": [
    "model_cb = CatBoostClassifier(iterations=1689,\n",
    "                                depth = 6,\n",
    "                                loss_function='MultiClass',\n",
    "                                thread_count=-1, \n",
    "                                random_seed=RANDOM_STATE, \n",
    "                                verbose=0, \n",
    "                                text_features=text_features,\n",
    "                                task_type = \"GPU\" \n",
    "                                \n",
    ")\n",
    "\n",
    "model_cb.fit(train_x, train_y, text_features=text_features, plot= True)\n"
   ]
  },
  {
   "cell_type": "code",
   "execution_count": 207,
   "metadata": {
    "scrolled": false
   },
   "outputs": [
    {
     "name": "stdout",
     "output_type": "stream",
     "text": [
      "\n",
      "              precision    recall  f1-score   support\n",
      "\n",
      "           1       0.58      0.62      0.60      8652\n",
      "           2       0.56      0.37      0.45      8867\n",
      "           3       0.52      0.43      0.47     13286\n",
      "           4       0.58      0.42      0.49     26766\n",
      "           5       0.74      0.89      0.81     56888\n",
      "\n",
      "    accuracy                           0.67    114459\n",
      "   macro avg       0.60      0.55      0.56    114459\n",
      "weighted avg       0.65      0.67      0.65    114459\n",
      "\n",
      "\n",
      "Confusion Matrix\n",
      "\n",
      "[[ 5371   845   876   380  1180]\n",
      " [ 1842  3294  1503   829  1399]\n",
      " [ 1127   967  5647  2739  2806]\n",
      " [  438   481  1876 11371 12600]\n",
      " [  493   304   906  4383 50802]]\n",
      "AUC ROC train:  0.9201284539975175\n",
      "AUC ROC test:  0.8829963829187928\n",
      "Root Mean Squared Error на тестовой выборке: 0.9546455721050378\n",
      "Mean Absolute Error на тестовой выборке: 0.48104561458688266\n",
      "R2 на тестовой выборке: 0.4315730016985395\n"
     ]
    }
   ],
   "source": [
    "test_pred = model_cb.predict(test_x)\n",
    "proba_test = model_cb.predict_proba(test_x)\n",
    "\n",
    "train_pred = model_cb.predict(train_x)\n",
    "proba_train = model_cb.predict_proba(train_x)\n",
    " \n",
    "test_pred = model_cb.predict(test_x)\n",
    "confusion = confusion_matrix(test_y, test_pred)\n",
    "print(CR + classification_report(test_y,test_pred)) \n",
    "\n",
    "print(CR + 'Confusion Matrix\\n')\n",
    "print(confusion)\n",
    "auc_tr = roc_auc_score(train_y, proba_train, multi_class='ovr')\n",
    "auc_test = roc_auc_score(test_y, proba_test, multi_class='ovr')\n",
    "print('AUC ROC train: ',auc_tr)\n",
    "print('AUC ROC test: ',auc_test)\n",
    "mse = mean_squared_error(test_y, test_pred)\n",
    "rmse = root_mean_squared_error(test_y, test_pred)\n",
    "mae = mean_absolute_error(test_y, test_pred)\n",
    "print(\"Root Mean Squared Error на тестовой выборке:\", rmse)\n",
    "print(\"Mean Absolute Error на тестовой выборке:\", mae)\n",
    "r2 = r2_score(test_y, test_pred)\n",
    "print(\"R2 на тестовой выборке:\", r2)"
   ]
  },
  {
   "cell_type": "code",
   "execution_count": 209,
   "metadata": {},
   "outputs": [],
   "source": [
    "with open(LOCAL_PATH + 'model_cb.pkl', 'wb') as f:\n",
    "    pickle.dump(model_cb, f)"
   ]
  },
  {
   "cell_type": "code",
   "execution_count": 210,
   "metadata": {
    "scrolled": false
   },
   "outputs": [
    {
     "data": {
      "text/plain": [
       "Text(0.5, 1.0, 'Важность признаков Catboost ')"
      ]
     },
     "execution_count": 210,
     "metadata": {},
     "output_type": "execute_result"
    },
    {
     "data": {
      "image/png": "[encoded data removed]",
      "text/plain": [
       "<Figure size 1600x800 with 1 Axes>"
      ]
     },
     "metadata": {},
     "output_type": "display_data"
    }
   ],
   "source": [
    "cat_imp = pd.Series(model_cb.feature_importances_, X.columns)\n",
    "cat_imp.plot.bar(figsize=(16,8)).set_title(\"Важность признаков Catboost \")"
   ]
  },
  {
   "cell_type": "code",
   "execution_count": 211,
   "metadata": {
    "scrolled": true
   },
   "outputs": [
    {
     "data": {
      "text/plain": [
       "0         3D Touch просто восхитительная вещь! Заряд дер...\n",
       "1         Отключается при температуре близкой к нулю неп...\n",
       "2         В Apple окончательно решили не заморачиваться ...\n",
       "3         Постарался наиболее ёмко и коротко описать все...\n",
       "4          Достойный телефон Пользоваться одно удовольствие\n",
       "                                ...                        \n",
       "457829    удобный всё работает отлично звонит играет сни...\n",
       "457830    прошло больше года притензий нет при моей нагр...\n",
       "457831    мой первый аппарат на андроиде На данный момен...\n",
       "457832    Разбил iphone и не было желания покупать новый...\n",
       "457833                Очень доволен покупкой и всем советую\n",
       "Name: only_text, Length: 457834, dtype: object"
      ]
     },
     "execution_count": 211,
     "metadata": {},
     "output_type": "execute_result"
    }
   ],
   "source": [
    "data['only_text']"
   ]
  },
  {
   "cell_type": "code",
   "execution_count": 212,
   "metadata": {},
   "outputs": [
    {
     "data": {
      "text/plain": [
       "0    [3D, Touch, просто, восхитительная, вещь, !, З...\n",
       "1    [Отключается, при, температуре, близкой, к, ну...\n",
       "2    [В, Apple, окончательно, решили, не, заморачив...\n",
       "3    [Постарался, наиболее, ёмко, и, коротко, описа...\n",
       "4    [Достойный, телефон, Пользоваться, одно, удово...\n",
       "Name: tokens_from_review, dtype: object"
      ]
     },
     "execution_count": 212,
     "metadata": {},
     "output_type": "execute_result"
    }
   ],
   "source": [
    "def get_word_tokens(row):\n",
    "    try:\n",
    "        return word_tokenize(row['only_text'])\n",
    "    except:\n",
    "        return ''\n",
    "data['tokens_from_review'] = data.apply(get_word_tokens, axis = 1)\n",
    "data['tokens_from_review'].head()"
   ]
  },
  {
   "cell_type": "code",
   "execution_count": 213,
   "metadata": {},
   "outputs": [
    {
     "data": {
      "text/plain": [
       "0    3d touch просто восхитительный вещь ! заряд де...\n",
       "1    отключаться при температура близкий к нуль неп...\n",
       "2    в apple окончательно решить не заморачиваться ...\n",
       "3    постараться наиболее ёмко и коротко описать вс...\n",
       "4     достойный телефон пользоваться один удовольствие\n",
       "Name: lemmas_from_review, dtype: object"
      ]
     },
     "execution_count": 213,
     "metadata": {},
     "output_type": "execute_result"
    }
   ],
   "source": [
    "tqdm.pandas()\n",
    "morph = MorphAnalyzer()\n",
    "def lemmatize_it(row):\n",
    "    lemmas = [morph.parse(word)[0].normal_form for word in row['tokens_from_review']]\n",
    "    lemmatized_text = ' '.join(lemmas)\n",
    "    return  lemmatized_text\n",
    "\n",
    "data['lemmas_from_review'] = data.apply(lemmatize_it, axis = 1)\n",
    "data['lemmas_from_review'].head()"
   ]
  },
  {
   "cell_type": "markdown",
   "metadata": {},
   "source": [
    "и оно даже строчное сразу, отлично. Теперь векторизация"
   ]
  },
  {
   "cell_type": "code",
   "execution_count": 214,
   "metadata": {},
   "outputs": [
    {
     "data": {
      "text/plain": [
       "Index(['Review', 'Rating', 'only_text', 'len_review', 'num_exclamation_marks',\n",
       "       'tokens_from_review', 'lemmas_from_review'],\n",
       "      dtype='object')"
      ]
     },
     "execution_count": 214,
     "metadata": {},
     "output_type": "execute_result"
    }
   ],
   "source": [
    "data.columns"
   ]
  },
  {
   "cell_type": "code",
   "execution_count": 215,
   "metadata": {},
   "outputs": [],
   "source": [
    "X= data.drop(['Review', 'Rating', 'only_text','tokens_from_review', ],axis = 1)\n",
    "\n",
    "train_x, test_x, train_y, test_y = train_test_split(X, y,\n",
    "                                                   test_size=TEST_SIZE, random_state=RS,\n",
    "                                                   )"
   ]
  },
  {
   "cell_type": "code",
   "execution_count": 216,
   "metadata": {},
   "outputs": [
    {
     "name": "stderr",
     "output_type": "stream",
     "text": [
      "C:\\Users\\term\\anaconda3\\envs\\nlpenv\\Lib\\site-packages\\sklearn\\feature_extraction\\text.py:521: UserWarning: The parameter 'token_pattern' will not be used since 'tokenizer' is not None'\n",
      "  warnings.warn(\n"
     ]
    }
   ],
   "source": [
    "vec_tr = TfidfVectorizer(ngram_range=(1, 2), max_df=0.4, tokenizer=word_tokenize, stop_words=noise)\n",
    "bow_tr = vec_tr.fit_transform(train_x['lemmas_from_review'])\n",
    "\n",
    "vec_train = pd.DataFrame.sparse.from_spmatrix(bow_tr, columns=vec_tr.get_feature_names_out()\n",
    "                                             )"
   ]
  },
  {
   "cell_type": "code",
   "execution_count": 217,
   "metadata": {},
   "outputs": [
    {
     "data": {
      "text/plain": [
       "2665037"
      ]
     },
     "execution_count": 217,
     "metadata": {},
     "output_type": "execute_result"
    }
   ],
   "source": [
    "list_ngramm_imp = vec_train.columns\n",
    "len(list_ngramm_imp)"
   ]
  },
  {
   "cell_type": "markdown",
   "metadata": {},
   "source": [
    "При таком же режиме до чистки размер был 4221365, а теперь вот 2509712. Круто же!"
   ]
  },
  {
   "cell_type": "code",
   "execution_count": 218,
   "metadata": {},
   "outputs": [
    {
     "data": {
      "text/plain": [
       "!               9298.263368\n",
       "хороший         5114.720905\n",
       "очень           4805.788099\n",
       "! !             4802.657744\n",
       "это             4709.598412\n",
       "всё             4340.027599\n",
       "купить          3100.196805\n",
       "довольный       3083.344867\n",
       "цена            3077.819871\n",
       "аппарат         3072.911716\n",
       "отличный        3055.742767\n",
       "год             2969.335737\n",
       "деньга          2864.064331\n",
       "брать           2862.926953\n",
       "свой             2844.95451\n",
       "весь            2736.838795\n",
       "советовать      2637.801856\n",
       "модель          2583.355431\n",
       "экран           2543.420915\n",
       "пользоваться    2529.956316\n",
       "dtype: Sparse[float64, 0]"
      ]
     },
     "execution_count": 218,
     "metadata": {},
     "output_type": "execute_result"
    }
   ],
   "source": [
    "ngramm_imp = vec_train.sum().sort_values(ascending = False)\n",
    "ngramm_imp.head(20)"
   ]
  },
  {
   "cell_type": "code",
   "execution_count": 219,
   "metadata": {},
   "outputs": [
    {
     "data": {
      "text/plain": [
       "array(['!', '! !', '! 0', '! 00', '! 01', '! 011273', '! 015271', '! 02',\n",
       "       '! 04', '! 040272', '! 05', '! 1', '! 10', '! 100', '! 1000',\n",
       "       '! 10000', '! 1000р', '! 100500', '! 100грамм', '! 100раз',\n",
       "       '! 10500', '! 108', '! 10990', '! 10к', '! 10т', '! 10тр', '! 10х',\n",
       "       '! 11', '! 111', '! 11200', '! 113', '! 11500', '! 12', '! 1200',\n",
       "       '! 12400521', '! 12500р', '! 128', '! 12990', '! 12гб', '! 13'],\n",
       "      dtype=object)"
      ]
     },
     "execution_count": 219,
     "metadata": {},
     "output_type": "execute_result"
    }
   ],
   "source": [
    "vec_tr.get_feature_names_out()[:40]"
   ]
  },
  {
   "cell_type": "code",
   "execution_count": 220,
   "metadata": {},
   "outputs": [
    {
     "name": "stderr",
     "output_type": "stream",
     "text": [
      "C:\\Users\\term\\anaconda3\\envs\\nlpenv\\Lib\\site-packages\\sklearn\\feature_extraction\\text.py:521: UserWarning: The parameter 'token_pattern' will not be used since 'tokenizer' is not None'\n",
      "  warnings.warn(\n"
     ]
    }
   ],
   "source": [
    "vec_ts = TfidfVectorizer(ngram_range=(1, 2), max_df=0.4, tokenizer=word_tokenize, stop_words=noise)\n",
    "bow_ts = vec_ts.fit_transform(test_x['lemmas_from_review'])\n",
    "\n",
    "vec_test = pd.DataFrame.sparse.from_spmatrix(bow_ts, columns=vec_ts.get_feature_names_out()\n",
    "                                             )"
   ]
  },
  {
   "cell_type": "code",
   "execution_count": 221,
   "metadata": {
    "scrolled": true
   },
   "outputs": [
    {
     "data": {
      "text/plain": [
       "!               3191.496925\n",
       "хороший          1727.23985\n",
       "! !             1657.085598\n",
       "очень           1624.158412\n",
       "это             1611.610231\n",
       "всё             1474.916089\n",
       "купить          1059.151309\n",
       "аппарат         1058.025522\n",
       "отличный        1053.181302\n",
       "цена            1043.237135\n",
       "довольный       1041.732814\n",
       "год              1017.75187\n",
       "деньга           973.988599\n",
       "свой             966.977554\n",
       "брать            962.940891\n",
       "весь             940.854394\n",
       "советовать       896.534215\n",
       "модель           883.233059\n",
       "экран             875.08706\n",
       "пользоваться     850.052807\n",
       "dtype: Sparse[float64, 0]"
      ]
     },
     "execution_count": 221,
     "metadata": {},
     "output_type": "execute_result"
    }
   ],
   "source": [
    "ngramm_imp_ts = vec_test.sum().sort_values(ascending = False)\n",
    "ngramm_imp_ts.head(20)"
   ]
  },
  {
   "cell_type": "code",
   "execution_count": 222,
   "metadata": {},
   "outputs": [
    {
     "data": {
      "text/plain": [
       "1515887"
      ]
     },
     "execution_count": 222,
     "metadata": {},
     "output_type": "execute_result"
    }
   ],
   "source": [
    "len(ngramm_imp_ts)"
   ]
  },
  {
   "cell_type": "code",
   "execution_count": 223,
   "metadata": {},
   "outputs": [],
   "source": [
    "columns_test = set(list(vec_test.columns))\n",
    "columns_train = set(list(vec_train.columns))"
   ]
  },
  {
   "cell_type": "code",
   "execution_count": 224,
   "metadata": {},
   "outputs": [
    {
     "data": {
      "text/plain": [
       "228235"
      ]
     },
     "execution_count": 224,
     "metadata": {},
     "output_type": "execute_result"
    }
   ],
   "source": [
    "add_list_test = [x for x in columns_test if x not in columns_train]\n",
    "len(add_list_test)"
   ]
  },
  {
   "cell_type": "code",
   "execution_count": 225,
   "metadata": {},
   "outputs": [
    {
     "data": {
      "text/plain": [
       "['ничего бред',\n",
       " 'стабильный гибкий',\n",
       " '299 !',\n",
       " 'молодец действительно',\n",
       " '5990 объём',\n",
       " 'пять бывать',\n",
       " 'выложилсить плохо',\n",
       " 'мапёс режим',\n",
       " 'всякий кредит',\n",
       " 'коммуникация gps',\n",
       " 'обрезать производительный',\n",
       " 'ругаться самс',\n",
       " 'превращаться невыполнимый',\n",
       " '2123 ха',\n",
       " 'навигатор 1200мгц',\n",
       " 'текст p',\n",
       " 'нагреться место',\n",
       " 'трей набор',\n",
       " 'сантиметр туда',\n",
       " 'продавец спроить',\n",
       " 'поэтому регулироваться',\n",
       " '16000 плюс',\n",
       " 'несколько переход',\n",
       " 'разблокировка задрать',\n",
       " 'узнать разрешение',\n",
       " '24 мтс',\n",
       " 'лёт игра',\n",
       " 'готовиться короткий',\n",
       " 'пятно возле',\n",
       " 'значительно низкий',\n",
       " 'сектор меню',\n",
       " 'некуда поставить',\n",
       " 'каприз очень',\n",
       " 'серьёзный последствие',\n",
       " 'впечатление недельный',\n",
       " 'фликра общий',\n",
       " 'перезагрузка традиционно',\n",
       " 'гарантия включеный',\n",
       " 'поскольку крутой',\n",
       " 'обзор счёт',\n",
       " 'всё го',\n",
       " 'необычный разнообразие',\n",
       " 'качественный детализация',\n",
       " 'рассрочка оплачивать',\n",
       " 'кадр нельзя',\n",
       " 'телефон раздутый',\n",
       " 'пофоткать че',\n",
       " 'готовый ярость',\n",
       " 's6с',\n",
       " 'потребление сутки',\n",
       " 'пофоткаться d',\n",
       " 'поиск критерий',\n",
       " 'брать накопать',\n",
       " 'режим полагать',\n",
       " 'необходимо заходить',\n",
       " 'стрессануть',\n",
       " 'всё красить',\n",
       " 'скачивать опасно',\n",
       " '9800 который',\n",
       " 'повозиться дабы',\n",
       " 'нндель всё',\n",
       " 'неподвижно видео',\n",
       " 'htc огонёк',\n",
       " 'связать выезд',\n",
       " 'прогресс страна',\n",
       " 'прочий ит',\n",
       " 'салон неадекватный',\n",
       " 'деспетчер звонок',\n",
       " 'кой сказаться',\n",
       " 'отсутствуюттелефон',\n",
       " 'взять спокойно',\n",
       " 'тп комментарий',\n",
       " 'айклауд казаться',\n",
       " 'обработка косания',\n",
       " 'рубль качественный',\n",
       " 'сэрик улыбка',\n",
       " 'стильно любоваться',\n",
       " 'аккумулятор http',\n",
       " 'пасьянс очередь',\n",
       " 'замечание легко',\n",
       " 'nfs вроде',\n",
       " 'понт остаться',\n",
       " 'многие родный',\n",
       " 'пробовать платёж',\n",
       " 'совковый подъезд',\n",
       " 'хвастаться пока',\n",
       " 'краска протереть',\n",
       " 'наличие характеристика',\n",
       " 'рука wave',\n",
       " 'значит жить',\n",
       " '105 выйграло',\n",
       " 'нужда пара',\n",
       " 'gtr понравиться',\n",
       " 'несколько честно',\n",
       " 'айпад айоса',\n",
       " 'кафель стиральный',\n",
       " 'впополам',\n",
       " 'графит больно',\n",
       " 'экран подвисаетдаба',\n",
       " 'адаптер asus',\n",
       " 'шум wi',\n",
       " '10 переправлять',\n",
       " 'гудков !',\n",
       " 'перезагрузить цикл',\n",
       " 'z1 приятный',\n",
       " 'полететь навстречу',\n",
       " 'коммент обзор',\n",
       " 'плэймаркет общий',\n",
       " 'остальной доработать',\n",
       " 'сочетание комфорт',\n",
       " 'весёлый громкий',\n",
       " 'мириться а51',\n",
       " 'слышать около',\n",
       " 'единственный заводский',\n",
       " 'возможность сравнительно',\n",
       " 'du cleaner',\n",
       " 'смотреть 35',\n",
       " 'средство помимо',\n",
       " 'дешевизна громкий',\n",
       " 'iphone предлагать',\n",
       " 'symbian wp',\n",
       " 'свалка думать',\n",
       " 'западло покупать',\n",
       " 'потрескать защитный',\n",
       " 'андроид неузнаваемость',\n",
       " 'слегка приглушить',\n",
       " 'который 2720',\n",
       " 'не дорисовать',\n",
       " 'smartphone edition',\n",
       " 'сильно лицо',\n",
       " 'фототехник вместо',\n",
       " 'монетизация',\n",
       " 'кнопка 789',\n",
       " 'сильно напрячь',\n",
       " 'чип мнение',\n",
       " 'черта филлипёс',\n",
       " 'пробовать обмениваться',\n",
       " 'внизу едва',\n",
       " 'толя короче',\n",
       " 'планшет предыдущий',\n",
       " 'щебёнка падать',\n",
       " 'прерыв связь',\n",
       " 'одежда улица',\n",
       " 'перманентно помогать',\n",
       " 'прогибаться общий',\n",
       " 'apple отслужить',\n",
       " 'светло наверно',\n",
       " 'андройда отсутствовать',\n",
       " 'mp3 находиться',\n",
       " 'непомерно накрутить',\n",
       " 'однако снимок',\n",
       " 'мочь потрясный',\n",
       " 'поддержание функционал',\n",
       " 'конец выбирать',\n",
       " 'усилиться !',\n",
       " 'приоходитсязаряжать',\n",
       " 'gps ребята',\n",
       " '4pda зайти',\n",
       " 'трубка 25',\n",
       " 'актуальный долго',\n",
       " 'роутер сегодня',\n",
       " 'дляменить это',\n",
       " 'раэболтать ремонт',\n",
       " 'устанавливаться саморучный',\n",
       " 'кнопка расширение',\n",
       " 'лицо год',\n",
       " 'кефир телефон',\n",
       " 'отсутствовать 2д',\n",
       " 'понестись игра',\n",
       " 'план активировать',\n",
       " 'осиотр сравнение',\n",
       " 'вместе устройство',\n",
       " 'разбираться полный',\n",
       " 'умирающий монстр',\n",
       " 'вздуться плюс',\n",
       " 'активный исполдьзование',\n",
       " 'здорово чертовски',\n",
       " 'мысль довольно',\n",
       " 'клавиатура зря',\n",
       " 'музыка гарантированно',\n",
       " 'колхозить бутерброд',\n",
       " 'портить ужасно',\n",
       " 'гарантия скорее',\n",
       " '1 сказаться',\n",
       " 'отличный прошить',\n",
       " 'знать симферополь',\n",
       " 'камера таааааак',\n",
       " 'час заходить',\n",
       " 'чёткий яркийдизайн',\n",
       " 'москва неисправность',\n",
       " 'получить повестись',\n",
       " 'фуфло оказаться',\n",
       " 'перчатка люмия',\n",
       " 'площадка припой',\n",
       " 'разрешительный',\n",
       " 'соединяться гарнитура',\n",
       " 'движение кортана',\n",
       " 'выбрада 5230',\n",
       " 'рубль вокруг',\n",
       " 'важно достать',\n",
       " 'самсунг связываться',\n",
       " 'скачать использовать',\n",
       " 'длительный разъезд',\n",
       " '2ую sim',\n",
       " 'тыс 64gb',\n",
       " 'момент поспрашивать',\n",
       " 'дело занятой',\n",
       " 'заподлицо смутить',\n",
       " 'ибо понятно',\n",
       " 'узкость красивый',\n",
       " 'осенний период',\n",
       " 'попробовать p30',\n",
       " 'материал премиум',\n",
       " 'советовать насильно',\n",
       " 'слик наворотить',\n",
       " 'стилус пересилить',\n",
       " 'поступить удобно',\n",
       " 'продаваться реально',\n",
       " '4pda оказываться',\n",
       " 'оптимальный раздражать',\n",
       " 'facebook rss',\n",
       " 'link2you ru',\n",
       " 'понедельник заряд',\n",
       " 'форум тянуть',\n",
       " 'кликнуть контакт',\n",
       " 'форма бровь',\n",
       " 'плеер 506ий',\n",
       " 'двнный момент',\n",
       " 'ночью автомобиль',\n",
       " '2014 хотеть',\n",
       " 'заряд наоборот',\n",
       " '6753 !',\n",
       " 'карман роняния',\n",
       " 'брат грубо',\n",
       " 'минута логика',\n",
       " 'знать здорово',\n",
       " 'леново правильно',\n",
       " '421 iphone',\n",
       " 'опсосова фирменный',\n",
       " 'некоторый заступник',\n",
       " 'омнить 2',\n",
       " 'средний излишество',\n",
       " 'вечно нужно',\n",
       " 'чебоксары первый',\n",
       " 'фирменный powerbank',\n",
       " 'стерео лично',\n",
       " 'аккуратный упаковка',\n",
       " 'помогать учить',\n",
       " 'начать ощущение',\n",
       " 'ацкай китайский',\n",
       " 'круглогубцы сидеть',\n",
       " 'неплохой стремиться',\n",
       " 'небольшой толпа',\n",
       " 'фитнесяк хорошо',\n",
       " 'достойнство lg',\n",
       " 'некритичный сей',\n",
       " 'желтеть прямой',\n",
       " 'лёгкий металический',\n",
       " 'аудио видеофайл',\n",
       " 'писать отходить',\n",
       " 'xperia третий',\n",
       " 'решитьапдейт',\n",
       " 'squpn фотка',\n",
       " 'помнить 3d',\n",
       " 'прошивка утечка',\n",
       " 'смартфон вьетнамский',\n",
       " 'перенасытить яркость',\n",
       " 'евро чехол',\n",
       " 'bluethooth подключить',\n",
       " 'увеличение основной',\n",
       " 'прилагать хороший',\n",
       " '50 акб',\n",
       " 'пятидюймовик дорогой',\n",
       " 'андройда мысленно',\n",
       " 'авто изнашиваться',\n",
       " 'телефон обклеить',\n",
       " '14990р это',\n",
       " 'просмотр рольковы',\n",
       " 'работать гул',\n",
       " 'помоему н82',\n",
       " 'понравиться тубик',\n",
       " 'наглядный время',\n",
       " 'писать вменяемый',\n",
       " 'продавец хитрить',\n",
       " 'восьмиядерный хватать',\n",
       " 'маленький кампактный',\n",
       " 'тяжёлый сильный',\n",
       " 'класс оппонент',\n",
       " 'bluetooth сажать',\n",
       " 'это bolt',\n",
       " 'тяжёлый часть',\n",
       " 'ждать подводный',\n",
       " 'место горизонталь',\n",
       " 'мастер возможность',\n",
       " 'уронить равный',\n",
       " 'дневный туристический',\n",
       " 'помеха небольшой',\n",
       " 'аппаратура столько',\n",
       " 'пятидюймовый телефон',\n",
       " 'графика вернуть',\n",
       " 'иметься максимум',\n",
       " '64gb class10',\n",
       " 'класный миньон',\n",
       " 'горбух просто',\n",
       " 'инет подсоединить',\n",
       " 'компас заблудиться',\n",
       " 'u8860 быстрый',\n",
       " 'выпадать клавиатура',\n",
       " 'ободок плёнка',\n",
       " 'править яркость',\n",
       " 'появление реклама',\n",
       " 'тыс корпус',\n",
       " 'запретить продавать',\n",
       " '4м горилаз',\n",
       " 'стандартно выбираться',\n",
       " '55гб доступно',\n",
       " 'фиша',\n",
       " 'каждый существенный',\n",
       " 'гб количество',\n",
       " '5a положительный',\n",
       " '4240руб',\n",
       " 'притормаживать серьёзный',\n",
       " 'kies купить',\n",
       " 'престиж общественный',\n",
       " 'стать яндекс',\n",
       " 'умный бытовой',\n",
       " 'highscreen консультант',\n",
       " 'ёж данный',\n",
       " 'поглотиться',\n",
       " 'ос автоматически',\n",
       " 'кореец дать',\n",
       " 'айфоноподобный оболочка',\n",
       " 'успокоить чудо',\n",
       " 'позиция курсор',\n",
       " 'просто фантик',\n",
       " 'отметить процессор',\n",
       " 'сожаление разъём',\n",
       " 'пол давненько',\n",
       " 'исчезать садиться',\n",
       " 'выкачивать гуглкнига',\n",
       " 'разблокировка логичный',\n",
       " 'прочить 20',\n",
       " 'балл нокиа',\n",
       " 'дело хз',\n",
       " 'настройка попеременный',\n",
       " 'камера джи4',\n",
       " 'счастие минусовать',\n",
       " 'быстро тлефон',\n",
       " '2007г н',\n",
       " 'гиг вывод',\n",
       " 'материнка дешёвый',\n",
       " 'обзор регулировка',\n",
       " 'понятный скачать',\n",
       " 'торт купить',\n",
       " 'следующий осень',\n",
       " 'аврил',\n",
       " 'раздербанить умерший',\n",
       " 'гражданский применение',\n",
       " 'уведомление цифра',\n",
       " 'рынок укомплектовать',\n",
       " 'качество2 закрыть',\n",
       " 'надеяться прежний',\n",
       " 'низовой сегмент',\n",
       " 'ностальгия прежний',\n",
       " 'натуральный ровный',\n",
       " 'запросто выйти',\n",
       " 'hdsony большой',\n",
       " 'срочно взамен',\n",
       " 'самовключаться задать',\n",
       " 'сделать пройтись',\n",
       " 'выкрутасы обратить',\n",
       " 'rapdialer',\n",
       " 'контакт instagram',\n",
       " 'однако блютуфф',\n",
       " 'люмиа прочий',\n",
       " 'стильный ежедневный',\n",
       " 'переходить шестёрка',\n",
       " 's10e слот',\n",
       " 'сменить возврат',\n",
       " 'всё тяжеловесный',\n",
       " 'клей беда',\n",
       " 'р напрямую',\n",
       " 'ютуба вотсап',\n",
       " 'практически грань',\n",
       " 'держаться многофункциональный',\n",
       " 'ос bluetooth',\n",
       " 'ровно редкий',\n",
       " 'молиться здоровье',\n",
       " 'давать разочароваться',\n",
       " 'высокий пригодный',\n",
       " 'fi ос',\n",
       " 'круто наступать',\n",
       " 'экономить дополнительный',\n",
       " 'улудшение',\n",
       " 'любопытство содрать',\n",
       " 'единственный андроидофон',\n",
       " '400р взять',\n",
       " 'против канечный',\n",
       " 'dolby система',\n",
       " 'сообщение неокоторое',\n",
       " 'мп сфоткать',\n",
       " 'запускать желательно',\n",
       " 'неоднократно нечаянно',\n",
       " 'розстро весь',\n",
       " 'исполнение отсюда',\n",
       " 'застенок самый',\n",
       " 'speech изменить',\n",
       " 'прекратить блокировать',\n",
       " 'слушать режим',\n",
       " 'качество упаковывать',\n",
       " 'comodo batteryэкран',\n",
       " 'отметить e61i',\n",
       " 'покупка мучиться',\n",
       " 'занизить клиренс',\n",
       " 'пора благодарить',\n",
       " 'годиться 3',\n",
       " 'массивный хотя',\n",
       " '! распознавание',\n",
       " 'хорошо ошибаться',\n",
       " 'район 38000',\n",
       " 'нерационально испытывать',\n",
       " 'простой забить',\n",
       " 'поменять существующий',\n",
       " 'метр цвета',\n",
       " 'год ностальгия',\n",
       " 'несмотря сохраниться',\n",
       " 'хны менять',\n",
       " 'верить чепуха',\n",
       " 'менее перегрузка',\n",
       " 'сервисмен сказать',\n",
       " '6s 16гб',\n",
       " 'amway всё',\n",
       " 'поступить званый',\n",
       " 'всё заворожить',\n",
       " 'сторонний планшет',\n",
       " 'собираться комплектующие',\n",
       " 'бренд заключение',\n",
       " 'видно вибро',\n",
       " 'вина перестать',\n",
       " 'неудобство бок',\n",
       " 'офис современный',\n",
       " 'срочно аппарат',\n",
       " 'год w800i',\n",
       " 'fly приходиться',\n",
       " 'завезти делать',\n",
       " 'всё пиксиль',\n",
       " 'возиться запуститься',\n",
       " 'брать 5320',\n",
       " 'почему маркетолог',\n",
       " 'blade vita',\n",
       " 'прикосновение итог',\n",
       " 'провал случай',\n",
       " 'позвонить лёжа',\n",
       " 'java улучшение',\n",
       " 'влезть урааппарат',\n",
       " 'перенести левый',\n",
       " 'спинка рубить',\n",
       " 'huawei gaga',\n",
       " 'свой сломать',\n",
       " 'жутко подвести',\n",
       " 'получить тикать',\n",
       " 'explorera',\n",
       " 'звонилка принималка',\n",
       " 'утвердительный сразу',\n",
       " 'отправлять появление',\n",
       " 'помочь вечером',\n",
       " 'зверь самсунг',\n",
       " 'начинка потрясный',\n",
       " 'звук своевременно',\n",
       " 'разбудить связь',\n",
       " 'сестра огромный',\n",
       " 'отвечать манипуляция',\n",
       " '5т наушник',\n",
       " 'аж защитный',\n",
       " 'респект полностью',\n",
       " 'сравнение начальный',\n",
       " 'интернет требование',\n",
       " 'дом2',\n",
       " 'издавать сильный',\n",
       " 'тонкость наличие',\n",
       " 'гаджет поездка',\n",
       " 'например непонятный',\n",
       " 'яблоко сумерки',\n",
       " 'это косаться',\n",
       " 'максимально выполнять',\n",
       " 'придумать сразу',\n",
       " '900 доставка',\n",
       " 'strike не',\n",
       " 'акк хватить',\n",
       " 'продавец хам',\n",
       " '5499р это',\n",
       " '17 390',\n",
       " 'частенько гаснуть',\n",
       " 'маршрут просто',\n",
       " 'зимой сенсорика',\n",
       " 'июль поставить',\n",
       " 'хорошо утром',\n",
       " 'захват свет',\n",
       " 'програм приложение',\n",
       " 'поддерживать низкий',\n",
       " 'свой бесполезность',\n",
       " 'прорезь обложка',\n",
       " 'размер 1520',\n",
       " '10 сдаваться',\n",
       " 'многое 1',\n",
       " 'залить деньга',\n",
       " 'стоять крутой',\n",
       " 'не деланый',\n",
       " 'попадать реально',\n",
       " 'скайп фунционировать',\n",
       " 'вечером вскрытие',\n",
       " 'телефон тиждеть',\n",
       " 'сониэрик с905',\n",
       " 'английски неделя',\n",
       " 'инструкция сходу',\n",
       " 'место операционный',\n",
       " 'пятихатка огрызок',\n",
       " 'смс угнетать',\n",
       " 'перебор загнутый',\n",
       " 'отучить тыкать',\n",
       " 'телефон навик',\n",
       " 'далее options',\n",
       " 'sgh i740',\n",
       " 'итог недолгий',\n",
       " 'highscreen 6000',\n",
       " 'ютюб новость',\n",
       " 'действительно устареть',\n",
       " 'микро новый',\n",
       " 'достоинство день',\n",
       " 'копаться незачем',\n",
       " 'стандартный веник',\n",
       " '640 асус',\n",
       " 'совать палец',\n",
       " 'благодаря экономичный',\n",
       " '13к доставка',\n",
       " 'машина ловить',\n",
       " 'подарить redmi',\n",
       " 'поидея 13',\n",
       " 'креатив именно',\n",
       " 'симка уровень',\n",
       " 'тормоз заметно',\n",
       " 'настроика это',\n",
       " 'замыкание чистить',\n",
       " 'потерпевший несколько',\n",
       " 'companion желаемый',\n",
       " 'поиграть разговаривать',\n",
       " 'молчать включение',\n",
       " 'тяжёлый брутальный',\n",
       " 'чудо андроидовский',\n",
       " 'купить 11390',\n",
       " 'побаиваться специально',\n",
       " 'ar игрушка',\n",
       " 'сказать провести',\n",
       " 'мочить неоднократно',\n",
       " 'пожить хотя',\n",
       " 'заскрепеть',\n",
       " 'р30 большой',\n",
       " 'ссылка зависнуть',\n",
       " 'страйк селфи',\n",
       " 'оформление начаться',\n",
       " 'hd отсутствие',\n",
       " 'отпечаток основный',\n",
       " 'дорогой китайка',\n",
       " 'маркость камера',\n",
       " 'динамика найти',\n",
       " 'разшерение',\n",
       " 'фоткаета включать',\n",
       " 'редмик старый',\n",
       " 'прожить квадрокамера',\n",
       " 'поисковый спасательный',\n",
       " 'сюда буква',\n",
       " 'muzon который',\n",
       " 'плавно регулироваться',\n",
       " 'телефон накша',\n",
       " 'нормальныйть акумма',\n",
       " 'индия тьфу',\n",
       " 'никакий глюк',\n",
       " 'ночь невыполнимый',\n",
       " 'подтверждать заявить',\n",
       " 'основной обьект',\n",
       " 'корректировка год',\n",
       " 'нокиа запретить',\n",
       " 'игрушка присмотреться',\n",
       " 'набор сервисный',\n",
       " 'включаться нарастать',\n",
       " 'перезагружать крайне',\n",
       " 'наш железо',\n",
       " 'купистить больший',\n",
       " 'довольный умеренный',\n",
       " 'симпатичный весить',\n",
       " 'страшшный неудобно',\n",
       " 'куча мобилка',\n",
       " 'перепрошить перестать',\n",
       " 'остальной печалька',\n",
       " 'вит отдыхать',\n",
       " 'подключение планшет',\n",
       " '10 уменить',\n",
       " 'потребление место',\n",
       " 'доверять локализовать',\n",
       " 'бежать паника',\n",
       " 'свой 2006',\n",
       " 'селфи апертура',\n",
       " 'получать виртуальный',\n",
       " '625 понравиться',\n",
       " 'уметь хд',\n",
       " 'газ тормоз',\n",
       " 'прочее блютулзти',\n",
       " 'технология аккума',\n",
       " 'влазить верхний',\n",
       " '925 g2',\n",
       " 'расхваливаться',\n",
       " 'меню поворачиваться',\n",
       " 'джи специально',\n",
       " 'вновь прочный',\n",
       " 'ужасный баг',\n",
       " 'провод быстрый',\n",
       " 'звук обстоять',\n",
       " 'зеркало влюбить',\n",
       " 'говорить вслух',\n",
       " 'переходить выбор',\n",
       " 'результат высокий',\n",
       " 'суть эффективно',\n",
       " 'рессурс работоспособность',\n",
       " 'philipsx513',\n",
       " 'вишмастер',\n",
       " 'конфкола приходиться',\n",
       " 'выглядеть новогодний',\n",
       " 'шаг поверьте',\n",
       " 'чувствительность карточка',\n",
       " 'съёмка исключение',\n",
       " 'аккуратный обмылок',\n",
       " 'разный отправитель',\n",
       " 'enough to',\n",
       " 'полностью наклеиться',\n",
       " 'обнова ощущение',\n",
       " 'чувствительность верх',\n",
       " '925 скорость',\n",
       " 'деталь модуль',\n",
       " 'ядерный cpu',\n",
       " 'задумываться переехать',\n",
       " 'вопрос ось',\n",
       " 'win8 прочять',\n",
       " 'experience вообще',\n",
       " 'падение битьё',\n",
       " 'обещать регулярный',\n",
       " 'sms открывать',\n",
       " 'сравнить a9',\n",
       " 'аккаунт игра',\n",
       " 'а7 пользоваться',\n",
       " 'агрессивный маркетинговый',\n",
       " '91c',\n",
       " 'отдавать второй',\n",
       " 'говорить эхкспертиза',\n",
       " 'тубик не',\n",
       " 'm7 продать',\n",
       " 'царапинка сравнить',\n",
       " 'короче прошивка',\n",
       " 'вибирало среди',\n",
       " 'сильно обожать',\n",
       " 'прогул работа',\n",
       " 'позетить',\n",
       " 'вид диск',\n",
       " 'обеспечить также',\n",
       " 'жора аккума',\n",
       " 'плохой положительный',\n",
       " 'выдающийся нечего',\n",
       " 'понравилсятелефон',\n",
       " 'получать шедевральный',\n",
       " 'программа продавать',\n",
       " 'противоречивый набор',\n",
       " 'california',\n",
       " 'хейтеры яблоко',\n",
       " 'прошить видео',\n",
       " 'целое амперчас',\n",
       " 'подержать оставаться',\n",
       " 'iahioj резиновый',\n",
       " '5130 остаться',\n",
       " 'дешмане sony',\n",
       " 'озеро глубина',\n",
       " '! стыть',\n",
       " 'неоднозначный ось',\n",
       " 'потечь телефон',\n",
       " 'кабель выходить',\n",
       " 'понимать сравниваться',\n",
       " 'задерживаться рука',\n",
       " '170к тенг',\n",
       " 'вайфай привет',\n",
       " '3310 жаль',\n",
       " 'затем слот',\n",
       " 'убрать корман',\n",
       " 'позволять бесконтактный',\n",
       " 'тёмкий телефон',\n",
       " 'закон уложиться',\n",
       " 'отлететь подойти',\n",
       " 'новый g',\n",
       " 'звук прилагаться',\n",
       " 'корпус фигня',\n",
       " 'g6 любимец',\n",
       " 'процессор запись',\n",
       " 'телефон смущённый',\n",
       " 'учёба 14',\n",
       " 'программный кой',\n",
       " 'записывать пожалуйста',\n",
       " 'приятный заметно',\n",
       " 'наказать не',\n",
       " 'лишний справляться',\n",
       " 'приблуд боковой',\n",
       " 'путный очень',\n",
       " 'синхронизация посмотреть',\n",
       " 'готовиться сеть',\n",
       " 'характеристика расписать',\n",
       " 'сборка ввод',\n",
       " 'прокомментировать пока',\n",
       " 'gps ангри',\n",
       " 'главное впринцип',\n",
       " 'доступный тёща',\n",
       " 'отсутствовать нужно',\n",
       " 'f район',\n",
       " '30 объект',\n",
       " 'бояться промокнуть',\n",
       " 'ибо смочь',\n",
       " 'просто гениальность',\n",
       " 'быстро подумывать',\n",
       " 'метталик расстроить',\n",
       " 'нужный смочь',\n",
       " 'турбы2 это',\n",
       " 'хрипнуть балалайка',\n",
       " 'ненадолго отображаться',\n",
       " 'писать 732',\n",
       " '715 хороший',\n",
       " 'злоупотреблять прочность',\n",
       " 'ибо разрядиться',\n",
       " 'pubg низкий',\n",
       " 'дестикратное',\n",
       " 'оссыпаться',\n",
       " 'смотреть кинотеатр',\n",
       " 'недоставать самсунговский',\n",
       " 'немного доверять',\n",
       " 'количество предустановка',\n",
       " 'предмет переживание',\n",
       " 'телефон осномном',\n",
       " '3980 город',\n",
       " 'аббревиатура meg7',\n",
       " 'каратнтина деньга',\n",
       " 'скачивать любитель',\n",
       " 'плохой барахлить',\n",
       " 'ч редактировать',\n",
       " 'эксплуатация интересно',\n",
       " 'класс функциональность',\n",
       " 'проца отличный',\n",
       " 'запас основный',\n",
       " 'нальчик делать',\n",
       " 'нащупать очень',\n",
       " 'club24292992',\n",
       " 'влюбиться рассматривать',\n",
       " 'логин отличный',\n",
       " 'похожий редактор',\n",
       " 'смертельно опыт',\n",
       " 'центр отсутствовать',\n",
       " 'устанавливать искусственный',\n",
       " 'монстр неделя',\n",
       " 'влево столько',\n",
       " 'природа пофоткать',\n",
       " 'сканер левый',\n",
       " 'выглядеть ос',\n",
       " 'брат несколько',\n",
       " 'акумолятор хватать',\n",
       " 'мощность карман',\n",
       " 'поменяться е75',\n",
       " 'фоткать пример',\n",
       " 's30 mini',\n",
       " 'уставать кортинк',\n",
       " '17 фоновый',\n",
       " 'сказать наклейка',\n",
       " 'счастие перейти',\n",
       " 'поставить подсказать',\n",
       " 'отличие айпада',\n",
       " 'пиратствовать',\n",
       " 'камера прослужить',\n",
       " 'ultra a6',\n",
       " 'погонять косынка',\n",
       " 'заказик',\n",
       " 'помочь покупатель',\n",
       " 'интерфейс форма',\n",
       " 'недоработка совет',\n",
       " 'доставать неделя',\n",
       " 'семь fiy',\n",
       " 'функционально широкий',\n",
       " 'логотип цена',\n",
       " 'надеяться администрация',\n",
       " 'режий блок',\n",
       " 'фот появиться',\n",
       " 'платформа называть',\n",
       " 'игра аккамулятор',\n",
       " 'относительно android',\n",
       " 'позор заблокировать',\n",
       " 'сеть лого',\n",
       " 'пространство iphone',\n",
       " 'расставаться качество',\n",
       " 'аппарат растроить',\n",
       " 'идти потухший',\n",
       " 'стоить 2011',\n",
       " 'ихний дизайн',\n",
       " 'поездка трата',\n",
       " 'сказать кастомный',\n",
       " 'допилить лично',\n",
       " 'обед стараться',\n",
       " 'команда 5',\n",
       " 'повод ведроид',\n",
       " 'выкидывать минь',\n",
       " 'засыпать ничего',\n",
       " 'тишь благодать',\n",
       " 'дописывать год',\n",
       " 'visionox',\n",
       " 'сожалеть поломка',\n",
       " 'сходный цифра',\n",
       " 'вроде синемаграфия',\n",
       " '25т не',\n",
       " '6300 неубивать',\n",
       " 'проштудировать инструкция',\n",
       " 'магнитола 9',\n",
       " 'изображение комнатный',\n",
       " 'дёрганый стать',\n",
       " 'прога запускаться',\n",
       " 'брендовый работать',\n",
       " 'рука кинестетика',\n",
       " 'почка продавать',\n",
       " 'emotion пара',\n",
       " 'большой wp7',\n",
       " 'давность oneplus',\n",
       " 'теряется7 звук',\n",
       " 'ручной искать',\n",
       " 'поставка зарядный',\n",
       " 'дешёвый неофициальный',\n",
       " 'телефон раздолбай',\n",
       " 'получить кукиш',\n",
       " 'сравнение эппл',\n",
       " 'привносить ежедневный',\n",
       " 'подвох смартбраслет',\n",
       " '11 начало',\n",
       " 'наверно связать',\n",
       " 'usb штекер',\n",
       " 'продолжать будить',\n",
       " 'искать неоригинал',\n",
       " 'переносить календарь',\n",
       " 'планшет 11к',\n",
       " 'поверх обычный',\n",
       " 'нюанс 16',\n",
       " 'экриксонна j10',\n",
       " '200 данный',\n",
       " 'нибыть запустить',\n",
       " 'двоякий !',\n",
       " 'конец 2028',\n",
       " 'обыденный свернуть',\n",
       " 'впечатление сравинвать',\n",
       " 'x5 свой',\n",
       " 'е71 финский',\n",
       " 'отличный выезжать',\n",
       " 'отдать лишь',\n",
       " 'подготовка сд',\n",
       " 'надпись разблокировать',\n",
       " 'близость чревовещатель',\n",
       " 'вообще sg',\n",
       " 'самсунг контраст',\n",
       " 'причендал результат',\n",
       " 'buds качество',\n",
       " 'жучков',\n",
       " 'не покочевряжться',\n",
       " 'интенсивный звонковый',\n",
       " 'положение 2гис',\n",
       " 'приобретать вышеупомянутый',\n",
       " 'телефон пощёлкать',\n",
       " 'зеркалка ничего',\n",
       " '5 размывать',\n",
       " 'мессенджер либо',\n",
       " 'форматнуть wipe',\n",
       " 'проминаться нажатие',\n",
       " 'рекомендовать банкир',\n",
       " 'покупка 18к',\n",
       " 'сразу срывать',\n",
       " 'задник баллистический',\n",
       " 'вздох !',\n",
       " 'исключение материал',\n",
       " 'совсунг',\n",
       " 'ребро спасать',\n",
       " 'набор хватать',\n",
       " 'микрофон активный',\n",
       " 'сопровождаться ожидание',\n",
       " 'volume key',\n",
       " 'кпк желать',\n",
       " 'восьмиядерный mtk6592m',\n",
       " 'm600i зверькутеперить',\n",
       " 'приоритет очень',\n",
       " 'объединение основной',\n",
       " 'размер фсе',\n",
       " 'зум довольно',\n",
       " 'использоваться передача',\n",
       " 'смс нажмимаю',\n",
       " 'кастомный eu',\n",
       " 'нуждаться неискушённый',\n",
       " 'забор мочь',\n",
       " 'разваливаться пиксель',\n",
       " '28000 trad',\n",
       " 'большой тестить',\n",
       " 'мелочь всякиепервый',\n",
       " 'отр нарекание',\n",
       " '2гиговчерез полтора',\n",
       " 'опера игра',\n",
       " 'пустой нехватать',\n",
       " 'большинство совремёный',\n",
       " 'день ярковато',\n",
       " 'столетие вперёд',\n",
       " 'плохой обновлять',\n",
       " 'поезд идти',\n",
       " 'предоставить облачить',\n",
       " 'система вечный',\n",
       " 'балл оригинальный',\n",
       " 'jpg второе',\n",
       " 'понимать посадить',\n",
       " 'qq перестать',\n",
       " 'аналогично скачать',\n",
       " 'флагман бедный',\n",
       " '17к али',\n",
       " 'покупка код',\n",
       " 'расширить 1',\n",
       " 'стоить конски',\n",
       " 'умирающий мобилка',\n",
       " 'прикосновение попросить',\n",
       " '5150 р',\n",
       " 'звонилка одноразовый',\n",
       " 'море поделать',\n",
       " 'огорчить честно',\n",
       " 'дырка изображение',\n",
       " 'трубка уметь',\n",
       " 'истаграм п',\n",
       " 'компактность проблема',\n",
       " 'мобильный изделие',\n",
       " 'утро тихонько',\n",
       " 'суть современный',\n",
       " '2016 2300',\n",
       " 'перезагружаться плавать',\n",
       " 'шустрый паренёк',\n",
       " 'сеть офигенно',\n",
       " 'летать запинка',\n",
       " 'сентябрь достоинство',\n",
       " 'сказать оптика',\n",
       " 'обсуждение рекомендация',\n",
       " 'забивать стекло',\n",
       " 'плата удаться',\n",
       " 'матч стадион',\n",
       " 'а9 s8',\n",
       " 'горизонталь обычный',\n",
       " 'объективный razr',\n",
       " 'отработать таки',\n",
       " 'старик свой',\n",
       " 'принцип неимение',\n",
       " 'шик радовать',\n",
       " 'уродски зато',\n",
       " '6000руб купить',\n",
       " 'таковой оплатить',\n",
       " 'джинсы 3',\n",
       " 'переносить подобный',\n",
       " '! сэнсор',\n",
       " 'обновление миу',\n",
       " 'ксиомь аналог',\n",
       " 'голосовой экран',\n",
       " 'треснуть вывод',\n",
       " 'пока пожаловаться',\n",
       " 'засвечивать минус',\n",
       " 'разрядиться двое',\n",
       " 'загрузиться тормозить',\n",
       " 'этакий смышлёный',\n",
       " 'обмежить втручанний',\n",
       " 'освещённость включать',\n",
       " 'отрабатывать подходить',\n",
       " 'забыть присмотреть',\n",
       " 'почистить потёртость',\n",
       " 'благодаря превосходный',\n",
       " 'полка взамен',\n",
       " 'устаревший браузер',\n",
       " 'активировать случай',\n",
       " 'nck',\n",
       " 'функцкция',\n",
       " 'покрываться многочисленный',\n",
       " 'самостоятельно смарт',\n",
       " 'ура троекратный',\n",
       " 'блокироваться батарея',\n",
       " 'tx купить',\n",
       " 'инет играться',\n",
       " 'гнать полный',\n",
       " '6700classic не',\n",
       " 'режим беспрерывный',\n",
       " 'глючил видеозапись',\n",
       " 'балласа',\n",
       " 'занять батарейка',\n",
       " 'сообщение грузить',\n",
       " 'сугубо специальный',\n",
       " '1280 бросаться',\n",
       " 'gsm вуаля',\n",
       " 'приклеять толстенький',\n",
       " ...]"
      ]
     },
     "execution_count": 225,
     "metadata": {},
     "output_type": "execute_result"
    }
   ],
   "source": [
    "add_list_test"
   ]
  },
  {
   "cell_type": "code",
   "execution_count": 226,
   "metadata": {},
   "outputs": [
    {
     "data": {
      "text/plain": [
       "1377385"
      ]
     },
     "execution_count": 226,
     "metadata": {},
     "output_type": "execute_result"
    }
   ],
   "source": [
    "add_list_train = [x for x in columns_train if x not in columns_test]\n",
    "len(add_list_train)"
   ]
  },
  {
   "cell_type": "markdown",
   "metadata": {},
   "source": [
    "И у наших фич есть расхождения, связанные с тем, что мы их тренировали отдельно.\n",
    "Ну сперва добавлять не будем, удалим. Будем считать, что это малоупотребимые фичи."
   ]
  },
  {
   "cell_type": "code",
   "execution_count": 227,
   "metadata": {
    "scrolled": true
   },
   "outputs": [],
   "source": [
    "vec_train_drop = vec_train.drop(add_list_train, axis = 1)\n",
    "vec_test_drop = vec_test.drop(add_list_test, axis = 1)"
   ]
  },
  {
   "cell_type": "code",
   "execution_count": 228,
   "metadata": {},
   "outputs": [],
   "source": [
    "vec_test_drop = vec_test_drop[vec_train_drop.columns]"
   ]
  },
  {
   "cell_type": "code",
   "execution_count": 229,
   "metadata": {},
   "outputs": [
    {
     "data": {
      "application/vnd.jupyter.widget-view+json": {
       "model_id": "82954e874ca04d69b54a1f806193f278",
       "version_major": 2,
       "version_minor": 0
      },
      "text/plain": [
       "MetricVisualizer(layout=Layout(align_self='stretch', height='500px'))"
      ]
     },
     "metadata": {},
     "output_type": "display_data"
    },
    {
     "data": {
      "text/plain": [
       "<catboost.core.CatBoostClassifier at 0x1b3a50a8f10>"
      ]
     },
     "execution_count": 229,
     "metadata": {},
     "output_type": "execute_result"
    }
   ],
   "source": [
    "model_cb = CatBoostClassifier(iterations=1200,\n",
    "                                depth = 3,\n",
    "                                loss_function='MultiClass',\n",
    "                                thread_count=-1, \n",
    "                                random_seed=RANDOM_STATE, \n",
    "                                verbose=0, \n",
    "                                #text_features=text_features,\n",
    "                                #task_type = \"GPU\" \n",
    "                                \n",
    ")\n",
    "\n",
    "model_cb.fit(vec_train_drop, train_y, plot= True)"
   ]
  },
  {
   "cell_type": "code",
   "execution_count": 230,
   "metadata": {},
   "outputs": [
    {
     "name": "stdout",
     "output_type": "stream",
     "text": [
      "\n",
      "              precision    recall  f1-score   support\n",
      "\n",
      "           1       0.51      0.40      0.45      8652\n",
      "           2       0.40      0.13      0.20      8867\n",
      "           3       0.41      0.16      0.23     13286\n",
      "           4       0.51      0.22      0.31     26766\n",
      "           5       0.61      0.94      0.74     56888\n",
      "\n",
      "    accuracy                           0.58    114459\n",
      "   macro avg       0.49      0.37      0.38    114459\n",
      "weighted avg       0.54      0.58      0.52    114459\n",
      "\n",
      "\n",
      "Confusion Matrix\n",
      "\n",
      "[[ 3467   767   725   273  3420]\n",
      " [ 1866  1155  1157   613  4076]\n",
      " [  963   638  2122  2246  7317]\n",
      " [  288   207   899  5848 19524]\n",
      " [  258   108   282  2495 53745]]\n",
      "AUC train:  0.8251728626520357\n",
      "AUC test:  0.8188417409823364\n",
      "Root Mean Squared Error на тестовой выборке: 1.2243328407913563\n",
      "Mean Absolute Error на тестовой выборке: 0.688045501009095\n",
      "R2 на тестовой выборке: 0.06504788155172492\n"
     ]
    }
   ],
   "source": [
    "train_pred = model_cb.predict(vec_train_drop)\n",
    "proba_train = model_cb.predict_proba(vec_train_drop)\n",
    " \n",
    "test_pred = model_cb.predict(vec_test_drop)\n",
    "proba_test = model_cb.predict_proba(vec_test_drop)\n",
    "\n",
    "confusion = confusion_matrix(test_y, test_pred)\n",
    "\n",
    "print(CR + classification_report(test_y,test_pred)) \n",
    "\n",
    "print(CR + 'Confusion Matrix\\n')\n",
    "print(confusion)\n",
    "auc_tr = roc_auc_score(train_y, proba_train, multi_class='ovr')\n",
    "auc_test = roc_auc_score(test_y,  proba_test, multi_class='ovr')\n",
    "print('AUC train: ', auc_tr)\n",
    "print('AUC test: ', auc_test)\n",
    "mse = mean_squared_error(test_y, test_pred)\n",
    "\n",
    "rmse = root_mean_squared_error(test_y, test_pred)\n",
    "mae = mean_absolute_error(test_y, test_pred)\n",
    "print(\"Root Mean Squared Error на тестовой выборке:\", rmse)\n",
    "print(\"Mean Absolute Error на тестовой выборке:\", mae)\n",
    "r2 = r2_score(test_y, test_pred)\n",
    "print(\"R2 на тестовой выборке:\", r2)"
   ]
  },
  {
   "cell_type": "code",
   "execution_count": 231,
   "metadata": {},
   "outputs": [
    {
     "data": {
      "text/plain": [
       "1287652"
      ]
     },
     "execution_count": 231,
     "metadata": {},
     "output_type": "execute_result"
    }
   ],
   "source": [
    "cat_imp = pd.DataFrame(model_cb.feature_importances_, vec_train_drop.columns)\n",
    "cat_imp.columns = ['imp']\n",
    "cat_imp = cat_imp.sort_values(by = 'imp', ascending = False)\n",
    "cat_imp.shape[0]"
   ]
  },
  {
   "cell_type": "code",
   "execution_count": 232,
   "metadata": {
    "scrolled": true
   },
   "outputs": [
    {
     "data": {
      "text/html": [
       "<div>\n",
       "<style scoped>\n",
       "    .dataframe tbody tr th:only-of-type {\n",
       "        vertical-align: middle;\n",
       "    }\n",
       "\n",
       "    .dataframe tbody tr th {\n",
       "        vertical-align: top;\n",
       "    }\n",
       "\n",
       "    .dataframe thead th {\n",
       "        text-align: right;\n",
       "    }\n",
       "</style>\n",
       "<table border=\"1\" class=\"dataframe\">\n",
       "  <thead>\n",
       "    <tr style=\"text-align: right;\">\n",
       "      <th></th>\n",
       "      <th>imp</th>\n",
       "    </tr>\n",
       "  </thead>\n",
       "  <tbody>\n",
       "    <tr>\n",
       "      <th>отличный</th>\n",
       "      <td>5.749550</td>\n",
       "    </tr>\n",
       "    <tr>\n",
       "      <th>не советовать</th>\n",
       "      <td>4.694014</td>\n",
       "    </tr>\n",
       "    <tr>\n",
       "      <th>довольный</th>\n",
       "      <td>4.256917</td>\n",
       "    </tr>\n",
       "    <tr>\n",
       "      <th>целое</th>\n",
       "      <td>3.034626</td>\n",
       "    </tr>\n",
       "    <tr>\n",
       "      <th>не рекомендовать</th>\n",
       "      <td>2.682494</td>\n",
       "    </tr>\n",
       "    <tr>\n",
       "      <th>не пожалеть</th>\n",
       "      <td>2.498604</td>\n",
       "    </tr>\n",
       "    <tr>\n",
       "      <th>не покупать</th>\n",
       "      <td>1.630699</td>\n",
       "    </tr>\n",
       "    <tr>\n",
       "      <th>рекомендовать</th>\n",
       "      <td>1.482180</td>\n",
       "    </tr>\n",
       "    <tr>\n",
       "      <th>!</th>\n",
       "      <td>1.423014</td>\n",
       "    </tr>\n",
       "    <tr>\n",
       "      <th>разочаровать</th>\n",
       "      <td>1.374756</td>\n",
       "    </tr>\n",
       "    <tr>\n",
       "      <th>хороший</th>\n",
       "      <td>1.361820</td>\n",
       "    </tr>\n",
       "    <tr>\n",
       "      <th>ужасный</th>\n",
       "      <td>1.243502</td>\n",
       "    </tr>\n",
       "    <tr>\n",
       "      <th>не брать</th>\n",
       "      <td>1.148951</td>\n",
       "    </tr>\n",
       "    <tr>\n",
       "      <th>не жалеть</th>\n",
       "      <td>1.038279</td>\n",
       "    </tr>\n",
       "    <tr>\n",
       "      <th>отлично</th>\n",
       "      <td>1.032607</td>\n",
       "    </tr>\n",
       "    <tr>\n",
       "      <th>вполне</th>\n",
       "      <td>1.025501</td>\n",
       "    </tr>\n",
       "    <tr>\n",
       "      <th>неплохой</th>\n",
       "      <td>0.977237</td>\n",
       "    </tr>\n",
       "    <tr>\n",
       "      <th>супер</th>\n",
       "      <td>0.962935</td>\n",
       "    </tr>\n",
       "    <tr>\n",
       "      <th>советовать</th>\n",
       "      <td>0.950034</td>\n",
       "    </tr>\n",
       "    <tr>\n",
       "      <th>не стоить</th>\n",
       "      <td>0.891594</td>\n",
       "    </tr>\n",
       "    <tr>\n",
       "      <th>очень довольный</th>\n",
       "      <td>0.890437</td>\n",
       "    </tr>\n",
       "    <tr>\n",
       "      <th>очень</th>\n",
       "      <td>0.888380</td>\n",
       "    </tr>\n",
       "    <tr>\n",
       "      <th>сдать</th>\n",
       "      <td>0.855604</td>\n",
       "    </tr>\n",
       "    <tr>\n",
       "      <th>ремонт</th>\n",
       "      <td>0.844403</td>\n",
       "    </tr>\n",
       "    <tr>\n",
       "      <th>удобный</th>\n",
       "      <td>0.821590</td>\n",
       "    </tr>\n",
       "    <tr>\n",
       "      <th>вернуть</th>\n",
       "      <td>0.751911</td>\n",
       "    </tr>\n",
       "    <tr>\n",
       "      <th>нравиться</th>\n",
       "      <td>0.737670</td>\n",
       "    </tr>\n",
       "    <tr>\n",
       "      <th>всё</th>\n",
       "      <td>0.720792</td>\n",
       "    </tr>\n",
       "    <tr>\n",
       "      <th>разочарование</th>\n",
       "      <td>0.669935</td>\n",
       "    </tr>\n",
       "    <tr>\n",
       "      <th>отвратительный</th>\n",
       "      <td>0.643927</td>\n",
       "    </tr>\n",
       "    <tr>\n",
       "      <th>не довольный</th>\n",
       "      <td>0.631496</td>\n",
       "    </tr>\n",
       "    <tr>\n",
       "      <th>месяц</th>\n",
       "      <td>0.603217</td>\n",
       "    </tr>\n",
       "    <tr>\n",
       "      <th>не купить</th>\n",
       "      <td>0.600465</td>\n",
       "    </tr>\n",
       "    <tr>\n",
       "      <th>рука</th>\n",
       "      <td>0.598891</td>\n",
       "    </tr>\n",
       "    <tr>\n",
       "      <th>хватать</th>\n",
       "      <td>0.594146</td>\n",
       "    </tr>\n",
       "    <tr>\n",
       "      <th>невозможно</th>\n",
       "      <td>0.581079</td>\n",
       "    </tr>\n",
       "    <tr>\n",
       "      <th>очень хороший</th>\n",
       "      <td>0.554470</td>\n",
       "    </tr>\n",
       "    <tr>\n",
       "      <th>свой деньга</th>\n",
       "      <td>0.543401</td>\n",
       "    </tr>\n",
       "    <tr>\n",
       "      <th>нерв</th>\n",
       "      <td>0.539748</td>\n",
       "    </tr>\n",
       "    <tr>\n",
       "      <th>чехол</th>\n",
       "      <td>0.517288</td>\n",
       "    </tr>\n",
       "  </tbody>\n",
       "</table>\n",
       "</div>"
      ],
      "text/plain": [
       "                       imp\n",
       "отличный          5.749550\n",
       "не советовать     4.694014\n",
       "довольный         4.256917\n",
       "целое             3.034626\n",
       "не рекомендовать  2.682494\n",
       "не пожалеть       2.498604\n",
       "не покупать       1.630699\n",
       "рекомендовать     1.482180\n",
       "!                 1.423014\n",
       "разочаровать      1.374756\n",
       "хороший           1.361820\n",
       "ужасный           1.243502\n",
       "не брать          1.148951\n",
       "не жалеть         1.038279\n",
       "отлично           1.032607\n",
       "вполне            1.025501\n",
       "неплохой          0.977237\n",
       "супер             0.962935\n",
       "советовать        0.950034\n",
       "не стоить         0.891594\n",
       "очень довольный   0.890437\n",
       "очень             0.888380\n",
       "сдать             0.855604\n",
       "ремонт            0.844403\n",
       "удобный           0.821590\n",
       "вернуть           0.751911\n",
       "нравиться         0.737670\n",
       "всё               0.720792\n",
       "разочарование     0.669935\n",
       "отвратительный    0.643927\n",
       "не довольный      0.631496\n",
       "месяц             0.603217\n",
       "не купить         0.600465\n",
       "рука              0.598891\n",
       "хватать           0.594146\n",
       "невозможно        0.581079\n",
       "очень хороший     0.554470\n",
       "свой деньга       0.543401\n",
       "нерв              0.539748\n",
       "чехол             0.517288"
      ]
     },
     "execution_count": 232,
     "metadata": {},
     "output_type": "execute_result"
    }
   ],
   "source": [
    "cat_imp[cat_imp['imp']> 0.1].head(40)"
   ]
  },
  {
   "cell_type": "markdown",
   "metadata": {},
   "source": [
    "Сколько у нас признаков с важностью > 0.1? 180 0.01? -607 0.001? 871 0.0001? -896 0.00001? 898. Больше 0.000000000001 - опять 898. В принципе больше нуля кэтбуст счёл только 898 признаков. Интересно. Это какое облегчение модели будет!!! Проверим только эти 898"
   ]
  },
  {
   "cell_type": "code",
   "execution_count": 233,
   "metadata": {
    "scrolled": true
   },
   "outputs": [
    {
     "data": {
      "text/plain": [
       "893"
      ]
     },
     "execution_count": 233,
     "metadata": {},
     "output_type": "execute_result"
    }
   ],
   "source": [
    "cat_imp[cat_imp['imp']> 0].shape[0]"
   ]
  },
  {
   "cell_type": "code",
   "execution_count": 234,
   "metadata": {},
   "outputs": [
    {
     "data": {
      "text/plain": [
       "Text(0.5, 1.0, 'Важность признаков Catboost ')"
      ]
     },
     "execution_count": 234,
     "metadata": {},
     "output_type": "execute_result"
    },
    {
     "data": {
      "image/png": "[encoded data removed]",
      "text/plain": [
       "<Figure size 1600x800 with 1 Axes>"
      ]
     },
     "metadata": {},
     "output_type": "display_data"
    }
   ],
   "source": [
    "\n",
    "cat_imp[cat_imp['imp']> 0.3].plot.bar(figsize=(16,8)).set_title(\"Важность признаков Catboost \")"
   ]
  },
  {
   "cell_type": "code",
   "execution_count": 235,
   "metadata": {},
   "outputs": [
    {
     "data": {
      "text/html": [
       "<div>\n",
       "<style scoped>\n",
       "    .dataframe tbody tr th:only-of-type {\n",
       "        vertical-align: middle;\n",
       "    }\n",
       "\n",
       "    .dataframe tbody tr th {\n",
       "        vertical-align: top;\n",
       "    }\n",
       "\n",
       "    .dataframe thead th {\n",
       "        text-align: right;\n",
       "    }\n",
       "</style>\n",
       "<table border=\"1\" class=\"dataframe\">\n",
       "  <thead>\n",
       "    <tr style=\"text-align: right;\">\n",
       "      <th></th>\n",
       "      <th>index</th>\n",
       "      <th>imp</th>\n",
       "    </tr>\n",
       "  </thead>\n",
       "  <tbody>\n",
       "    <tr>\n",
       "      <th>0</th>\n",
       "      <td>отличный</td>\n",
       "      <td>5.749550</td>\n",
       "    </tr>\n",
       "    <tr>\n",
       "      <th>1</th>\n",
       "      <td>не советовать</td>\n",
       "      <td>4.694014</td>\n",
       "    </tr>\n",
       "    <tr>\n",
       "      <th>2</th>\n",
       "      <td>довольный</td>\n",
       "      <td>4.256917</td>\n",
       "    </tr>\n",
       "    <tr>\n",
       "      <th>3</th>\n",
       "      <td>целое</td>\n",
       "      <td>3.034626</td>\n",
       "    </tr>\n",
       "    <tr>\n",
       "      <th>4</th>\n",
       "      <td>не рекомендовать</td>\n",
       "      <td>2.682494</td>\n",
       "    </tr>\n",
       "    <tr>\n",
       "      <th>...</th>\n",
       "      <td>...</td>\n",
       "      <td>...</td>\n",
       "    </tr>\n",
       "    <tr>\n",
       "      <th>1287647</th>\n",
       "      <td>именно писать</td>\n",
       "      <td>0.000000</td>\n",
       "    </tr>\n",
       "    <tr>\n",
       "      <th>1287648</th>\n",
       "      <td>именно пи</td>\n",
       "      <td>0.000000</td>\n",
       "    </tr>\n",
       "    <tr>\n",
       "      <th>1287649</th>\n",
       "      <td>именно периодический</td>\n",
       "      <td>0.000000</td>\n",
       "    </tr>\n",
       "    <tr>\n",
       "      <th>1287650</th>\n",
       "      <td>именно периодически</td>\n",
       "      <td>0.000000</td>\n",
       "    </tr>\n",
       "    <tr>\n",
       "      <th>1287651</th>\n",
       "      <td>ёё мамаша</td>\n",
       "      <td>0.000000</td>\n",
       "    </tr>\n",
       "  </tbody>\n",
       "</table>\n",
       "<p>1287652 rows × 2 columns</p>\n",
       "</div>"
      ],
      "text/plain": [
       "                        index       imp\n",
       "0                    отличный  5.749550\n",
       "1               не советовать  4.694014\n",
       "2                   довольный  4.256917\n",
       "3                       целое  3.034626\n",
       "4            не рекомендовать  2.682494\n",
       "...                       ...       ...\n",
       "1287647         именно писать  0.000000\n",
       "1287648             именно пи  0.000000\n",
       "1287649  именно периодический  0.000000\n",
       "1287650   именно периодически  0.000000\n",
       "1287651             ёё мамаша  0.000000\n",
       "\n",
       "[1287652 rows x 2 columns]"
      ]
     },
     "execution_count": 235,
     "metadata": {},
     "output_type": "execute_result"
    }
   ],
   "source": [
    "cat_imp = cat_imp.reset_index()\n",
    "cat_imp"
   ]
  },
  {
   "cell_type": "code",
   "execution_count": 236,
   "metadata": {},
   "outputs": [
    {
     "data": {
      "text/plain": [
       "893"
      ]
     },
     "execution_count": 236,
     "metadata": {},
     "output_type": "execute_result"
    }
   ],
   "source": [
    "cat_imp_list = set(cat_imp[cat_imp['imp']> 0]['index'].tolist())\n",
    "len(cat_imp_list)"
   ]
  },
  {
   "cell_type": "code",
   "execution_count": 237,
   "metadata": {
    "scrolled": true
   },
   "outputs": [
    {
     "data": {
      "text/plain": [
       "{'!',\n",
       " '100',\n",
       " '128',\n",
       " '2 балл',\n",
       " '2 год',\n",
       " '2 звезда',\n",
       " '2010 год',\n",
       " '3 балл',\n",
       " '3 звезда',\n",
       " '3000',\n",
       " '32',\n",
       " '4',\n",
       " '4 балл',\n",
       " '4 год',\n",
       " '4 звезда',\n",
       " '4 поставить',\n",
       " '4g',\n",
       " '4ку',\n",
       " '5',\n",
       " '5 5',\n",
       " '6 год',\n",
       " 'android',\n",
       " 'galaxy',\n",
       " 'gps',\n",
       " 'hd',\n",
       " 'huawei',\n",
       " 'iphone',\n",
       " 'lte',\n",
       " 'mi',\n",
       " 'nfc',\n",
       " 'nokia',\n",
       " 'pro',\n",
       " 'ru',\n",
       " 'shell',\n",
       " 'sms',\n",
       " 'windows !',\n",
       " 'абсолютно',\n",
       " 'айфон',\n",
       " 'аккуратный использование',\n",
       " 'али',\n",
       " 'аналог',\n",
       " 'аппарат 4',\n",
       " 'аппарат неплохой',\n",
       " 'аппарат около',\n",
       " 'аппарат хороший',\n",
       " 'аська',\n",
       " 'б',\n",
       " 'б не',\n",
       " 'барахло',\n",
       " 'батарея',\n",
       " 'батарея садиться',\n",
       " 'беда',\n",
       " 'безумно',\n",
       " 'бесить',\n",
       " 'бесплатный',\n",
       " 'бесполезный',\n",
       " 'блокировка',\n",
       " 'больший',\n",
       " 'большой не',\n",
       " 'большой никакой',\n",
       " 'большой никогда',\n",
       " 'бомба',\n",
       " 'бояться',\n",
       " 'брак',\n",
       " 'браковать',\n",
       " 'брать !',\n",
       " 'брать не',\n",
       " 'быстро',\n",
       " 'быстрый',\n",
       " 'бюджетный модель',\n",
       " 'вариант',\n",
       " 'великолепный',\n",
       " 'вера правда',\n",
       " 'вернуть',\n",
       " 'версия',\n",
       " 'весь',\n",
       " 'весь рекомендовать',\n",
       " 'весь советовать',\n",
       " 'ветер',\n",
       " 'взгляд',\n",
       " 'вздумать',\n",
       " 'вздумать покупать',\n",
       " 'взять',\n",
       " 'взять рука',\n",
       " 'взять хороший',\n",
       " 'видимо',\n",
       " 'включаться',\n",
       " 'включиться',\n",
       " 'вкус',\n",
       " 'влюбиться',\n",
       " 'вода',\n",
       " 'возврат',\n",
       " 'возвращать',\n",
       " 'воздержаться',\n",
       " 'возможно',\n",
       " 'вообще покупать',\n",
       " 'вообще свой',\n",
       " 'вообщий',\n",
       " 'восторг',\n",
       " 'восторг !',\n",
       " 'впечатление',\n",
       " 'вполне',\n",
       " 'вполне довольный',\n",
       " 'впринцип',\n",
       " 'враг',\n",
       " 'время !',\n",
       " 'время использование',\n",
       " 'вроде',\n",
       " 'всякий',\n",
       " 'всё',\n",
       " 'всё 100',\n",
       " 'всё впечатление',\n",
       " 'всё достоинство',\n",
       " 'всё ничего',\n",
       " 'всё нужно',\n",
       " 'всё ожидание',\n",
       " 'всё очень',\n",
       " 'всё положительный',\n",
       " 'всё портить',\n",
       " 'всё работать',\n",
       " 'всё равно',\n",
       " 'всё таки',\n",
       " 'всё чётко',\n",
       " 'вцелое',\n",
       " 'выбирать',\n",
       " 'выбор',\n",
       " 'выбросить',\n",
       " 'вывод',\n",
       " 'выглядеть достойно',\n",
       " 'вызов',\n",
       " 'выкинуть',\n",
       " 'выключаться',\n",
       " 'выключиться',\n",
       " 'вылетать',\n",
       " 'выпускать',\n",
       " 'высота',\n",
       " 'г',\n",
       " 'гаджет',\n",
       " 'гарантийный',\n",
       " 'гарантия',\n",
       " 'главное',\n",
       " 'главный недостаток',\n",
       " 'глюк',\n",
       " 'глючить',\n",
       " 'глючный',\n",
       " 'год сначала',\n",
       " 'год целое',\n",
       " 'годиться',\n",
       " 'громкий',\n",
       " 'громкость',\n",
       " 'давно',\n",
       " 'давность',\n",
       " 'дама',\n",
       " 'данный момент',\n",
       " 'дважды',\n",
       " 'двойка',\n",
       " 'двоякий',\n",
       " 'двоякий впечатление',\n",
       " 'действительно',\n",
       " 'день',\n",
       " 'деньга',\n",
       " 'деньга купить',\n",
       " 'деньга очень',\n",
       " 'держать',\n",
       " 'держать аж',\n",
       " 'держать аккума',\n",
       " 'держать телефон',\n",
       " 'дешёвый',\n",
       " 'динамик',\n",
       " 'динамика',\n",
       " 'добротный',\n",
       " 'довольно крепкий',\n",
       " 'довольный',\n",
       " 'довольный всё',\n",
       " 'дозвониться',\n",
       " 'долго',\n",
       " 'долго выбирать',\n",
       " 'должный',\n",
       " 'доплатить',\n",
       " 'доработать',\n",
       " 'доработка',\n",
       " 'досадный',\n",
       " 'доставка',\n",
       " 'достойно',\n",
       " 'достойный',\n",
       " 'друг',\n",
       " 'дрянь',\n",
       " 'дюйм',\n",
       " 'единственный',\n",
       " 'единственный плюс',\n",
       " 'единственный расстраивать',\n",
       " 'еле',\n",
       " 'ещё',\n",
       " 'жалеть',\n",
       " 'жаловаться',\n",
       " 'ждать',\n",
       " 'желать хороший',\n",
       " 'живой',\n",
       " 'жить свой',\n",
       " 'жуткий',\n",
       " 'жутко',\n",
       " 'зависать',\n",
       " 'завтра',\n",
       " 'завысить',\n",
       " 'задний',\n",
       " 'задумка',\n",
       " 'заказ',\n",
       " 'заказать',\n",
       " 'заказывать',\n",
       " 'закрыть',\n",
       " 'замена',\n",
       " 'замечательный',\n",
       " 'запас',\n",
       " 'заряжаться аппарат',\n",
       " 'заявить',\n",
       " 'звезда',\n",
       " 'звонилка',\n",
       " 'звонить',\n",
       " 'звонок',\n",
       " 'зеркалка',\n",
       " 'знать',\n",
       " 'зря',\n",
       " 'игра',\n",
       " 'идеально',\n",
       " 'идеальный',\n",
       " 'избавиться',\n",
       " 'избавляться',\n",
       " 'интересный меню',\n",
       " 'исключение',\n",
       " 'использование',\n",
       " 'испортить',\n",
       " 'исправить',\n",
       " 'итог',\n",
       " 'кактус',\n",
       " 'камера',\n",
       " 'категорически не',\n",
       " 'категория',\n",
       " 'качественно',\n",
       " 'качественный',\n",
       " 'клавиша',\n",
       " 'классный',\n",
       " 'кнопка',\n",
       " 'кнопка хоум',\n",
       " 'кой случай',\n",
       " 'компания',\n",
       " 'комплект',\n",
       " 'конкурент',\n",
       " 'конкуренция',\n",
       " 'контакт',\n",
       " 'конь зуб',\n",
       " 'косяк',\n",
       " 'который постоянно',\n",
       " 'кошмар',\n",
       " 'кошмарный',\n",
       " 'крайне',\n",
       " 'красивый виджет',\n",
       " 'красный цена',\n",
       " 'крепкий',\n",
       " 'кроме',\n",
       " 'крутой',\n",
       " 'крышка',\n",
       " 'купить',\n",
       " 'купить нормальный',\n",
       " 'купить хороший',\n",
       " 'купиться',\n",
       " 'кусок',\n",
       " 'ладный',\n",
       " 'легко',\n",
       " 'летать',\n",
       " 'лихва',\n",
       " 'лопнуть',\n",
       " 'любитель',\n",
       " 'любой',\n",
       " 'максимум',\n",
       " 'мало',\n",
       " 'мало память',\n",
       " 'малость',\n",
       " 'марка',\n",
       " 'массовый',\n",
       " 'мелкий недочёт',\n",
       " 'мелочь',\n",
       " 'менее',\n",
       " 'меню',\n",
       " 'менять не',\n",
       " 'месяц',\n",
       " 'микроцарапинка',\n",
       " 'минус',\n",
       " 'мириться',\n",
       " 'многие',\n",
       " 'модель',\n",
       " 'модель интересный',\n",
       " 'модель пока',\n",
       " 'молодец',\n",
       " 'мочь',\n",
       " 'мощный',\n",
       " 'музыка',\n",
       " 'мучение',\n",
       " 'наверное',\n",
       " 'навигатор 2',\n",
       " 'надежда',\n",
       " 'надеяться',\n",
       " 'надёжный',\n",
       " 'нажатие',\n",
       " 'нажимать',\n",
       " 'найти',\n",
       " 'найти модель',\n",
       " 'например',\n",
       " 'напрягать',\n",
       " 'нарадоваться',\n",
       " 'нарекание',\n",
       " 'наслаждаться',\n",
       " 'настоящий',\n",
       " 'настроить',\n",
       " 'наступление',\n",
       " 'наткнуться',\n",
       " 'наушник',\n",
       " 'начать',\n",
       " 'начаться',\n",
       " 'начинать',\n",
       " 'не актуальный',\n",
       " 'не батарея',\n",
       " 'не брать',\n",
       " 'не важный',\n",
       " 'не вестись',\n",
       " 'не взять',\n",
       " 'не включиться',\n",
       " 'не возможно',\n",
       " 'не восторг',\n",
       " 'не выбирать',\n",
       " 'не выполнять',\n",
       " 'не глючить',\n",
       " 'не держать',\n",
       " 'не довольный',\n",
       " 'не жалеть',\n",
       " 'не зависать',\n",
       " 'не задумываться',\n",
       " 'не заметить',\n",
       " 'не камера',\n",
       " 'не купить',\n",
       " 'не надёжный',\n",
       " 'не найти',\n",
       " 'не нарадоваться',\n",
       " 'не нужно',\n",
       " 'не обнаружить',\n",
       " 'не оправдать',\n",
       " 'не оправдывать',\n",
       " 'не отличный',\n",
       " 'не очень',\n",
       " 'не плохой',\n",
       " 'не повезти',\n",
       " 'не подвести',\n",
       " 'не подводить',\n",
       " 'не подходить',\n",
       " 'не пожалеть',\n",
       " 'не пожелеть',\n",
       " 'не покупать',\n",
       " 'не получиться',\n",
       " 'не помогать',\n",
       " 'не помочь',\n",
       " 'не понравиться',\n",
       " 'не понятно',\n",
       " 'не посоветовать',\n",
       " 'не проблема',\n",
       " 'не прогадать',\n",
       " 'не работать',\n",
       " 'не разобраться',\n",
       " 'не разочаровать',\n",
       " 'не разочароваться',\n",
       " 'не реагировать',\n",
       " 'не рекомендовать',\n",
       " 'не ронять',\n",
       " 'не самый',\n",
       " 'не слушайте',\n",
       " 'не слышный',\n",
       " 'не собираться',\n",
       " 'не советовать',\n",
       " 'не соответствовать',\n",
       " 'не стать',\n",
       " 'не стоить',\n",
       " 'не телефон',\n",
       " 'не тормозить',\n",
       " 'не тратить',\n",
       " 'не требовать',\n",
       " 'не тупить',\n",
       " 'не тянуть',\n",
       " 'не удачный',\n",
       " 'не удобно',\n",
       " 'не удобный',\n",
       " 'не уступать',\n",
       " 'не хватать',\n",
       " 'не хороший',\n",
       " 'невозможно',\n",
       " 'недавно',\n",
       " 'недовольный',\n",
       " 'недоработать',\n",
       " 'недоработка',\n",
       " 'недоразумение',\n",
       " 'недорогой телефон',\n",
       " 'недостаток',\n",
       " 'недостаток телефон',\n",
       " 'недостаток это',\n",
       " 'незначительный',\n",
       " 'некоторый',\n",
       " 'нельзя',\n",
       " 'немного',\n",
       " 'ненадёжный',\n",
       " 'неоднозначный',\n",
       " 'неплохо',\n",
       " 'неплохой',\n",
       " 'неплохой камера',\n",
       " 'неплохой телефон',\n",
       " 'непонятно',\n",
       " 'неприятно',\n",
       " 'неприятный',\n",
       " 'нерв',\n",
       " 'несмотря',\n",
       " 'несмотря всё',\n",
       " 'несмотря недостаток',\n",
       " 'нести',\n",
       " 'неудачный',\n",
       " 'неудачный модель',\n",
       " 'неудобно',\n",
       " 'неудобный',\n",
       " 'неужели',\n",
       " 'нибыть',\n",
       " 'нижний',\n",
       " 'низкий качество',\n",
       " 'никакой',\n",
       " 'никакой глюк',\n",
       " 'никакой проблема',\n",
       " 'никогда',\n",
       " 'никогда большой',\n",
       " 'никто',\n",
       " 'никто не',\n",
       " 'ничего выдающийся',\n",
       " 'ничего особенный',\n",
       " 'нокиа',\n",
       " 'нокия',\n",
       " 'норма',\n",
       " 'норма !',\n",
       " 'нормально',\n",
       " 'нормальный',\n",
       " 'нормальный аппарат',\n",
       " 'нормальный телефон',\n",
       " 'нравиться',\n",
       " 'нужный',\n",
       " 'обзор',\n",
       " 'обидно',\n",
       " 'обменять',\n",
       " 'обновление',\n",
       " 'обожать',\n",
       " 'обратно',\n",
       " 'общий',\n",
       " 'общий не',\n",
       " 'общий свой',\n",
       " 'обычный',\n",
       " 'обычный модель',\n",
       " 'обычный телефон',\n",
       " 'огонь',\n",
       " 'огорчать',\n",
       " 'огорчить',\n",
       " 'огрех',\n",
       " 'однако',\n",
       " 'однозначно',\n",
       " 'одноразовый',\n",
       " 'ожидать',\n",
       " 'ожидать больший',\n",
       " 'ожидать хороший',\n",
       " 'опера',\n",
       " 'описать минус',\n",
       " 'оправдать',\n",
       " 'оптимальный',\n",
       " 'основное',\n",
       " 'основной',\n",
       " 'особенный',\n",
       " 'особо',\n",
       " 'особый претензия',\n",
       " 'остальной',\n",
       " 'остальной всё',\n",
       " 'остальной отличный',\n",
       " 'отвратительный',\n",
       " 'отвратительный модель',\n",
       " 'отвратительный телефон',\n",
       " 'отдать',\n",
       " 'отдельный минус',\n",
       " 'отзыв',\n",
       " 'отказать',\n",
       " 'отказаться',\n",
       " 'отключаться',\n",
       " 'отлично',\n",
       " 'отличный',\n",
       " 'отличный выбор',\n",
       " 'отличный звук',\n",
       " 'отличный телефон',\n",
       " 'отменный',\n",
       " 'отметить',\n",
       " 'отстой',\n",
       " 'офигенный',\n",
       " 'оценка 1',\n",
       " 'оценка 2',\n",
       " 'оценка 3',\n",
       " 'оценка 4',\n",
       " 'оценка 5',\n",
       " 'оценка хорошо',\n",
       " 'очень',\n",
       " 'очень довольный',\n",
       " 'очень жалеть',\n",
       " 'очень жаль',\n",
       " 'очень мало',\n",
       " 'очень не',\n",
       " 'очень неплохо',\n",
       " 'очень ничего',\n",
       " 'очень нравиться',\n",
       " 'очень плохой',\n",
       " 'очень пожалеть',\n",
       " 'очень понравиться',\n",
       " 'очень разочаровать',\n",
       " 'очень расстроить',\n",
       " 'очень сильно',\n",
       " 'очень слабый',\n",
       " 'очень тихий',\n",
       " 'очень трудно',\n",
       " 'очень удобный',\n",
       " 'очень хороший',\n",
       " 'очень хрупкий',\n",
       " 'ошибка',\n",
       " 'падать',\n",
       " 'память',\n",
       " 'первый возможность',\n",
       " 'первый год',\n",
       " 'первый месяц',\n",
       " 'первый полгода',\n",
       " 'первый последний',\n",
       " 'перезагружать',\n",
       " 'перезагружаться',\n",
       " 'перезагрузка',\n",
       " 'переплачивать',\n",
       " 'перестать',\n",
       " 'перечёркивать',\n",
       " 'периодически',\n",
       " 'писать',\n",
       " 'писать плохой',\n",
       " 'платить дважды',\n",
       " 'плеер',\n",
       " 'плохо',\n",
       " 'плохой',\n",
       " 'плохой телефон',\n",
       " 'плёнка экран',\n",
       " 'повезти',\n",
       " 'повестись',\n",
       " 'повод',\n",
       " 'подарок',\n",
       " 'подкопить',\n",
       " 'подойти',\n",
       " 'подсказать',\n",
       " 'подстава',\n",
       " 'подтормаживать это',\n",
       " 'подумать',\n",
       " 'подходить',\n",
       " 'пожалеть',\n",
       " 'позвонить',\n",
       " 'позор',\n",
       " 'поискать',\n",
       " 'пойти',\n",
       " 'пока',\n",
       " 'пока довольный',\n",
       " 'пока устраивать',\n",
       " 'покупать чехол',\n",
       " 'покупка довольный',\n",
       " 'покупка не',\n",
       " 'полностью',\n",
       " 'полностью оправдать',\n",
       " 'полный',\n",
       " 'полный г',\n",
       " 'положительный',\n",
       " 'положительный отзыв',\n",
       " 'положительный эмоция',\n",
       " 'поломка',\n",
       " 'полоса',\n",
       " 'пользоваться',\n",
       " 'полёт',\n",
       " 'полёт нормальный',\n",
       " 'поменять',\n",
       " 'поменять samsung',\n",
       " 'помойка',\n",
       " 'поначалу',\n",
       " 'понести',\n",
       " 'понравиться',\n",
       " 'попасться',\n",
       " 'попытка',\n",
       " 'пора',\n",
       " 'порадовать',\n",
       " 'поразить',\n",
       " 'портить',\n",
       " 'портить всё',\n",
       " 'послушать',\n",
       " 'посредственный',\n",
       " 'поставить',\n",
       " 'поставить 3',\n",
       " 'поставить 4',\n",
       " 'поставить 5',\n",
       " 'постоянно',\n",
       " 'потратить',\n",
       " 'потратить деньга',\n",
       " 'потрясать',\n",
       " 'похвала',\n",
       " 'почему',\n",
       " 'поэтому 4',\n",
       " 'правда',\n",
       " 'правильный',\n",
       " 'превзойти',\n",
       " 'превосходный',\n",
       " 'превратиться',\n",
       " 'прекрасно',\n",
       " 'прекрасный',\n",
       " 'прекрасный день',\n",
       " 'привыкать',\n",
       " 'привыкнуть',\n",
       " 'придирка',\n",
       " 'прийтись',\n",
       " 'приложение',\n",
       " 'принцип',\n",
       " 'принцип довольный',\n",
       " 'приходиться',\n",
       " 'причина',\n",
       " 'причём',\n",
       " 'приятно',\n",
       " 'приятный',\n",
       " 'проблема',\n",
       " 'провал',\n",
       " 'продавать',\n",
       " 'продать',\n",
       " 'продукция',\n",
       " 'прожить',\n",
       " 'производитель',\n",
       " 'производительность',\n",
       " 'пропадать',\n",
       " 'просто',\n",
       " 'просто чудо',\n",
       " 'противоречивый',\n",
       " 'пятёрка',\n",
       " 'работать',\n",
       " 'рабочий',\n",
       " 'рабочий лошадка',\n",
       " 'равно',\n",
       " 'равно довольный',\n",
       " 'рад',\n",
       " 'рада',\n",
       " 'радио',\n",
       " 'радовать',\n",
       " 'разбить стена',\n",
       " 'разговор',\n",
       " 'раздражать',\n",
       " 'раздумывать',\n",
       " 'размер',\n",
       " 'разница',\n",
       " 'разобраться',\n",
       " 'разочарование',\n",
       " 'разочаровать',\n",
       " 'разочароваться',\n",
       " 'разочаровывать',\n",
       " 'разочаровываться',\n",
       " 'расстраивать',\n",
       " 'расстроить',\n",
       " 'расстройство',\n",
       " 'реально',\n",
       " 'редко',\n",
       " 'редкостный',\n",
       " 'реклама',\n",
       " 'рекомендовать',\n",
       " 'ремонт',\n",
       " 'родный',\n",
       " 'россия',\n",
       " 'ростест',\n",
       " 'рст',\n",
       " 'рука',\n",
       " 'рука отличный',\n",
       " 'рулетка',\n",
       " 'русский',\n",
       " 'рынок',\n",
       " 'самсунг',\n",
       " 'самый хороший',\n",
       " 'сбалансированный',\n",
       " 'сброс',\n",
       " 'сводить',\n",
       " 'свой',\n",
       " 'свой деньга',\n",
       " 'свой цена',\n",
       " 'связаться',\n",
       " 'связываться',\n",
       " 'связь',\n",
       " 'сдавать',\n",
       " 'сдать',\n",
       " 'сдохнуть',\n",
       " 'сегодняшний день',\n",
       " 'сей',\n",
       " 'сей пора',\n",
       " 'сенсор',\n",
       " 'сервис',\n",
       " 'сервисный',\n",
       " 'сервисный центр',\n",
       " 'сеть очень',\n",
       " 'сжечь',\n",
       " 'сигнал',\n",
       " 'сильно',\n",
       " 'симка',\n",
       " 'симочный',\n",
       " 'сканер',\n",
       " 'скорее',\n",
       " 'скорость',\n",
       " 'скупой',\n",
       " 'слабоватый',\n",
       " 'слабый',\n",
       " 'слишком',\n",
       " 'сломаться',\n",
       " 'слон',\n",
       " 'служба поддержка',\n",
       " 'смазать',\n",
       " 'смарт',\n",
       " 'смартфон',\n",
       " 'смартфон нужный',\n",
       " 'смешанный',\n",
       " 'смириться',\n",
       " 'смотреться',\n",
       " 'смс',\n",
       " 'сначала всё',\n",
       " 'снизить',\n",
       " 'советовать',\n",
       " 'советовать весь',\n",
       " 'современный',\n",
       " 'современный функция',\n",
       " 'сожаление',\n",
       " 'сойти',\n",
       " 'сомневаться',\n",
       " 'соня',\n",
       " 'сообщение',\n",
       " 'соотношение',\n",
       " 'соц',\n",
       " 'соц сеть',\n",
       " 'спасибо',\n",
       " 'сплошной',\n",
       " 'спокойно',\n",
       " 'сравнивать',\n",
       " 'среди',\n",
       " 'средненький',\n",
       " 'средний',\n",
       " 'средний телефон',\n",
       " 'ставить 2',\n",
       " 'ставить 3',\n",
       " 'ставить 4',\n",
       " 'ставить 5',\n",
       " 'ставить тройка',\n",
       " 'стать',\n",
       " 'стена',\n",
       " 'стоять',\n",
       " 'странный',\n",
       " 'супер',\n",
       " 'супер наворотить',\n",
       " 'суперский',\n",
       " 'сц',\n",
       " 'счастие',\n",
       " 'сыроватый',\n",
       " 'сырой',\n",
       " 'таки',\n",
       " 'тачскрин',\n",
       " 'твёрдый 3',\n",
       " 'твёрдый 4',\n",
       " 'твёрдый 5',\n",
       " 'твёрдый тройка',\n",
       " 'твёрдый четвёрка',\n",
       " 'телефон !',\n",
       " 'телефон вполне',\n",
       " 'телефон довольный',\n",
       " 'телефон который',\n",
       " 'телефон крепкий',\n",
       " 'телефон не',\n",
       " 'телефон неплохой',\n",
       " 'телефон нормальный',\n",
       " 'телефон нравиться',\n",
       " 'телефон понравиться',\n",
       " 'телефон просто',\n",
       " 'телефон устраивать',\n",
       " 'телефон хороший',\n",
       " 'телефончик',\n",
       " 'терпение',\n",
       " 'терпимо',\n",
       " 'терять',\n",
       " 'техподдержка',\n",
       " 'типичный',\n",
       " 'толк',\n",
       " 'топ',\n",
       " 'топка',\n",
       " 'топовый',\n",
       " 'тормозить',\n",
       " 'точно не',\n",
       " 'трата деньга',\n",
       " 'требовать',\n",
       " 'трещина',\n",
       " 'троечка',\n",
       " 'тройка',\n",
       " 'тупить',\n",
       " 'тупой',\n",
       " 'тёмный',\n",
       " 'убогий',\n",
       " 'убожество',\n",
       " 'убрать',\n",
       " 'увидеть',\n",
       " 'увы',\n",
       " 'удалить',\n",
       " 'удачный',\n",
       " 'удивить',\n",
       " 'удивление',\n",
       " 'удивлённый',\n",
       " 'удобно',\n",
       " 'удобный',\n",
       " 'удобный продумать',\n",
       " 'удовольствие',\n",
       " 'ужас',\n",
       " 'ужасно',\n",
       " 'ужасный',\n",
       " 'ужасный модель',\n",
       " 'ужасный телефон',\n",
       " 'умереть',\n",
       " 'уметь',\n",
       " 'упасти',\n",
       " 'ура',\n",
       " 'устраивать',\n",
       " 'утиль',\n",
       " 'фигня',\n",
       " 'филипс',\n",
       " 'фильм',\n",
       " 'финансовый',\n",
       " 'фирма',\n",
       " 'фишка',\n",
       " 'флагман',\n",
       " 'фуфло',\n",
       " 'характеристика',\n",
       " 'хвалёный',\n",
       " 'хватать',\n",
       " 'хватить',\n",
       " 'хлам',\n",
       " 'хороший',\n",
       " 'хороший аппарат',\n",
       " 'хороший взять',\n",
       " 'хороший добавить',\n",
       " 'хороший доплатить',\n",
       " 'хороший купить',\n",
       " 'хороший модель',\n",
       " 'хороший смартфон',\n",
       " 'хороший телефон',\n",
       " 'хорошо',\n",
       " 'хотеться больший',\n",
       " 'хотеться разбить',\n",
       " 'хотя',\n",
       " 'хрень',\n",
       " 'хрупкий',\n",
       " 'цвет',\n",
       " 'целое',\n",
       " 'целое довольный',\n",
       " 'целое не',\n",
       " 'целое хороший',\n",
       " 'цена',\n",
       " 'цена качество',\n",
       " 'цена купить',\n",
       " 'цена телефон',\n",
       " 'центр',\n",
       " 'часто',\n",
       " 'четвёрка',\n",
       " 'четвёрочка',\n",
       " 'четыре звезда',\n",
       " 'чехол',\n",
       " 'чисто',\n",
       " 'читать',\n",
       " 'чувство',\n",
       " 'чёткий',\n",
       " 'чётко',\n",
       " 'шибко шустрый',\n",
       " 'шикарный',\n",
       " 'шлак',\n",
       " 'шустро',\n",
       " 'шустрый',\n",
       " 'экран',\n",
       " 'экспертиза',\n",
       " 'это',\n",
       " 'это время',\n",
       " 'это г',\n",
       " 'это последний',\n",
       " 'это хороший',\n",
       " 'это чудо',\n",
       " 'яблоко',\n",
       " 'явно',\n",
       " 'явно не',\n",
       " 'яркий'}"
      ]
     },
     "execution_count": 237,
     "metadata": {},
     "output_type": "execute_result"
    }
   ],
   "source": [
    "cat_imp_list"
   ]
  },
  {
   "cell_type": "markdown",
   "metadata": {},
   "source": [
    "Список готов, поехали:"
   ]
  },
  {
   "cell_type": "code",
   "execution_count": 238,
   "metadata": {},
   "outputs": [],
   "source": [
    "vec_train_short = vec_train_drop[list(cat_imp_list)]\n",
    " \n",
    "vec_test_short = vec_test_drop[list(cat_imp_list)]"
   ]
  },
  {
   "cell_type": "code",
   "execution_count": 239,
   "metadata": {},
   "outputs": [
    {
     "data": {
      "application/vnd.jupyter.widget-view+json": {
       "model_id": "512f0639e5d5407d9d148a1dfdcbb391",
       "version_major": 2,
       "version_minor": 0
      },
      "text/plain": [
       "MetricVisualizer(layout=Layout(align_self='stretch', height='500px'))"
      ]
     },
     "metadata": {},
     "output_type": "display_data"
    },
    {
     "data": {
      "text/plain": [
       "<catboost.core.CatBoostClassifier at 0x1b061acba90>"
      ]
     },
     "execution_count": 239,
     "metadata": {},
     "output_type": "execute_result"
    }
   ],
   "source": [
    "model_cb = CatBoostClassifier(iterations=1500,\n",
    "                                depth = 5,\n",
    "                                loss_function='MultiClass',\n",
    "                                thread_count=-1, \n",
    "                                random_seed=RANDOM_STATE, \n",
    "                                verbose=0, \n",
    "                                #text_features=text_features,\n",
    "                                #task_type = \"GPU\" \n",
    "                                \n",
    ")\n",
    "\n",
    "#model_cb.fit(vec_train_drop, train_y, plot= True)\n",
    "model_cb.fit(vec_train_short, train_y, plot= True)"
   ]
  },
  {
   "cell_type": "code",
   "execution_count": 240,
   "metadata": {},
   "outputs": [
    {
     "name": "stdout",
     "output_type": "stream",
     "text": [
      "\n",
      "              precision    recall  f1-score   support\n",
      "\n",
      "           1       0.52      0.44      0.47      8652\n",
      "           2       0.41      0.16      0.23      8867\n",
      "           3       0.42      0.21      0.28     13286\n",
      "           4       0.52      0.26      0.34     26766\n",
      "           5       0.63      0.93      0.75     56888\n",
      "\n",
      "    accuracy                           0.59    114459\n",
      "   macro avg       0.50      0.40      0.42    114459\n",
      "weighted avg       0.55      0.59      0.54    114459\n",
      "\n",
      "\n",
      "Confusion Matrix\n",
      "\n",
      "[[ 3787   890   857   318  2800]\n",
      " [ 1926  1414  1402   711  3414]\n",
      " [ 1021   737  2731  2505  6292]\n",
      " [  314   244  1139  6900 18169]\n",
      " [  288   135   418  2957 53090]]\n",
      "AUC train:  0.8394018316791092\n",
      "AUC test:  0.8290292544471052\n",
      "Root Mean Squared Error на тестовой выборке: 1.163451792539536\n",
      "Mean Absolute Error на тестовой выборке: 0.6439511091307805\n",
      "R2 на тестовой выборке: 0.15571872311106616\n"
     ]
    }
   ],
   "source": [
    "train_pred = model_cb.predict(vec_train_short)\n",
    "proba_train = model_cb.predict_proba(vec_train_short)\n",
    " \n",
    "test_pred = model_cb.predict(vec_test_short)\n",
    "proba_test = model_cb.predict_proba(vec_test_short)\n",
    "\n",
    "confusion = confusion_matrix(test_y, test_pred)\n",
    "\n",
    "print(CR + classification_report(test_y,test_pred)) \n",
    "\n",
    "print(CR + 'Confusion Matrix\\n')\n",
    "print(confusion)\n",
    "auc_tr = roc_auc_score(train_y, proba_train, multi_class='ovr')\n",
    "auc_test = roc_auc_score(test_y,  proba_test, multi_class='ovr')\n",
    "print('AUC train: ', auc_tr)\n",
    "print('AUC test: ', auc_test)\n",
    "mse = mean_squared_error(test_y, test_pred)\n",
    "\n",
    "rmse = root_mean_squared_error(test_y, test_pred)\n",
    "mae = mean_absolute_error(test_y, test_pred)\n",
    "print(\"Root Mean Squared Error на тестовой выборке:\", rmse)\n",
    "print(\"Mean Absolute Error на тестовой выборке:\", mae)\n",
    "r2 = r2_score(test_y, test_pred)\n",
    "print(\"R2 на тестовой выборке:\", r2)"
   ]
  },
  {
   "cell_type": "code",
   "execution_count": 241,
   "metadata": {},
   "outputs": [],
   "source": [
    "vec_train_short = vec_train_short.merge(X[['len_review', 'num_exclamation_marks']], how='left', left_index=True, right_index=True)\n",
    "vec_test_short = vec_test_short.merge(X[['len_review', 'num_exclamation_marks']], how='left', left_index=True, right_index=True)"
   ]
  },
  {
   "cell_type": "code",
   "execution_count": 242,
   "metadata": {},
   "outputs": [
    {
     "data": {
      "application/vnd.jupyter.widget-view+json": {
       "model_id": "7bacb61ded5b4649b9c5b65167821277",
       "version_major": 2,
       "version_minor": 0
      },
      "text/plain": [
       "MetricVisualizer(layout=Layout(align_self='stretch', height='500px'))"
      ]
     },
     "metadata": {},
     "output_type": "display_data"
    },
    {
     "data": {
      "text/plain": [
       "<catboost.core.CatBoostClassifier at 0x1b061acba90>"
      ]
     },
     "execution_count": 242,
     "metadata": {},
     "output_type": "execute_result"
    }
   ],
   "source": [
    "model_cb.fit(vec_train_short, train_y, plot= True)"
   ]
  },
  {
   "cell_type": "code",
   "execution_count": 243,
   "metadata": {},
   "outputs": [
    {
     "name": "stdout",
     "output_type": "stream",
     "text": [
      "\n",
      "              precision    recall  f1-score   support\n",
      "\n",
      "           1       0.51      0.43      0.47      8652\n",
      "           2       0.41      0.16      0.23      8867\n",
      "           3       0.42      0.21      0.28     13286\n",
      "           4       0.51      0.26      0.34     26766\n",
      "           5       0.63      0.93      0.75     56888\n",
      "\n",
      "    accuracy                           0.59    114459\n",
      "   macro avg       0.50      0.40      0.41    114459\n",
      "weighted avg       0.55      0.59      0.54    114459\n",
      "\n",
      "\n",
      "Confusion Matrix\n",
      "\n",
      "[[ 3745   886   898   314  2809]\n",
      " [ 1941  1387  1419   724  3396]\n",
      " [ 1006   742  2764  2480  6294]\n",
      " [  309   243  1136  6878 18200]\n",
      " [  307   111   423  2980 53067]]\n",
      "AUC train:  0.8394218861037354\n",
      "AUC test:  0.8289047579610592\n",
      "Root Mean Squared Error на тестовой выборке: 1.164307542371988\n",
      "Mean Absolute Error на тестовой выборке: 0.6448946784438095\n",
      "R2 на тестовой выборке: 0.154476283548861\n"
     ]
    }
   ],
   "source": [
    "train_pred = model_cb.predict(vec_train_short)\n",
    "proba_train = model_cb.predict_proba(vec_train_short)\n",
    " \n",
    "test_pred = model_cb.predict(vec_test_short)\n",
    "proba_test = model_cb.predict_proba(vec_test_short)\n",
    "\n",
    "confusion = confusion_matrix(test_y, test_pred)\n",
    "\n",
    "print(CR + classification_report(test_y,test_pred)) \n",
    "\n",
    "print(CR + 'Confusion Matrix\\n')\n",
    "print(confusion)\n",
    "auc_tr = roc_auc_score(train_y, proba_train, multi_class='ovr')\n",
    "auc_test = roc_auc_score(test_y,  proba_test, multi_class='ovr')\n",
    "print('AUC train: ', auc_tr)\n",
    "print('AUC test: ', auc_test)\n",
    "mse = mean_squared_error(test_y, test_pred)\n",
    "\n",
    "rmse = root_mean_squared_error(test_y, test_pred)\n",
    "mae = mean_absolute_error(test_y, test_pred)\n",
    "print(\"Root Mean Squared Error на тестовой выборке:\", rmse)\n",
    "print(\"Mean Absolute Error на тестовой выборке:\", mae)\n",
    "r2 = r2_score(test_y, test_pred)\n",
    "print(\"R2 на тестовой выборке:\", r2)"
   ]
  },
  {
   "cell_type": "code",
   "execution_count": 244,
   "metadata": {},
   "outputs": [
    {
     "data": {
      "image/png": "[encoded data removed]",
      "text/plain": [
       "<Figure size 1600x800 with 1 Axes>"
      ]
     },
     "metadata": {},
     "output_type": "display_data"
    }
   ],
   "source": [
    "cat_imp = pd.DataFrame(model_cb.feature_importances_, vec_train_short.columns)\n",
    "cat_imp.columns = ['imp']\n",
    "cat_imp = cat_imp.sort_values(by = 'imp', ascending = False)\n",
    "cat_imp.shape[0]\n",
    "cat_imp[cat_imp['imp']> 0.4].plot.bar(figsize=(16,8)).set_title(\"Важность признаков Catboost \")\n",
    "#plt.xticks(rotation = 45)\n",
    "plt.show()"
   ]
  },
  {
   "cell_type": "markdown",
   "metadata": {},
   "source": [
    "Лучший скор получен с моделью\n",
    "```\n",
    "CatBoostClassifier\n",
    "    (iterations=1689,\n",
    "    depth = 6,                                \n",
    "    loss_function='MultiClass',\n",
    "    thread_count=-1, \n",
    "    random_seed=RANDOM_STATE, \n",
    "    verbose=0, \n",
    "    text_features=text_features,\n",
    "    task_type = \"GPU\" \n",
    "                                \n",
    ")\n",
    "Метрики и матрица:\n",
    "\n",
    "              precision    recall  f1-score   support\n",
    "\n",
    "           1       0.58      0.62      0.60      8652\n",
    "           2       0.56      0.37      0.45      8867\n",
    "           3       0.52      0.43      0.47     13286\n",
    "           4       0.58      0.42      0.49     26766\n",
    "           5       0.74      0.89      0.81     56888\n",
    "\n",
    "    accuracy                           0.67    114459\n",
    "   macro avg       0.60      0.55      0.56    114459\n",
    "weighted avg       0.65      0.67      0.65    114459\n",
    "\n",
    "\n",
    "Confusion Matrix\n",
    "\n",
    "[[ 5371   845   876   380  1180]\n",
    " [ 1842  3294  1503   829  1399]\n",
    " [ 1127   967  5647  2739  2806]\n",
    " [  438   481  1876 11371 12600]\n",
    " [  493   304   906  4383 50802]]\n",
    " \n",
    "AUC ROC train:  0.9201284539975175\n",
    "AUC ROC test:  0.8829963829187928\n",
    "\n",
    "Root Mean Squared Error на тестовой выборке: 0.9546455721050378\n",
    "Mean Absolute Error на тестовой выборке: 0.48104561458688266\n",
    "R2 на тестовой выборке: 0.4315730016985395\n",
    "```\n",
    "Метрики получены на тексте, токенизированном и лемматизированном пайморфом. Это лучший вариант, в том числе в сравнении с векторизацией.\n",
    "\n",
    "Конец первой части, во второй части - подборка нейронных сетей."
   ]
  }
 ],
 "metadata": {
  "celltoolbar": "Slideshow",
  "colab": {
   "name": "nlp_intro_1.ipynb",
   "provenance": []
  },
  "kernelspec": {
   "display_name": "Python 3 (ipykernel)",
   "language": "python",
   "name": "python3"
  },
  "language_info": {
   "codemirror_mode": {
    "name": "ipython",
    "version": 3
   },
   "file_extension": ".py",
   "mimetype": "text/x-python",
   "name": "python",
   "nbconvert_exporter": "python",
   "pygments_lexer": "ipython3",
   "version": "3.11.9"
  },
  "toc": {
   "base_numbering": 1,
   "nav_menu": {
    "height": "482px",
    "width": "399.205px"
   },
   "number_sections": true,
   "sideBar": true,
   "skip_h1_title": false,
   "title_cell": "Table of Contents",
   "title_sidebar": "Contents",
   "toc_cell": false,
   "toc_position": {},
   "toc_section_display": true,
   "toc_window_display": false
  }
 },
 "nbformat": 4,
 "nbformat_minor": 4
}
