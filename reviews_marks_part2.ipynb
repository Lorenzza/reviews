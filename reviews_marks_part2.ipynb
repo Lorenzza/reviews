{
 "cells": [
  {
   "cell_type": "markdown",
   "metadata": {
    "id": "EixpmwQ5C5LL"
   },
   "source": [
    "# Обработка отзывов о мобильных телефонах - ч.2"
   ]
  },
  {
   "cell_type": "markdown",
   "metadata": {
    "id": "Aor7-W-9C5LQ"
   },
   "source": [
    "Дано: датасет с русскоязычными отзывами о мобильных телефонах с выставленным рейтингом от 1 до 5.\n",
    "В настоящем ноутбуке представлено решение задачи мультиклассовой классификации отзывов при помощи нейросетей.\n",
    "Метрика: МАЕ <= 1.0"
   ]
  },
  {
   "cell_type": "markdown",
   "metadata": {
    "id": "vNRlBYD7C5LR"
   },
   "source": [
    "# Предварительная обработка текстов"
   ]
  },
  {
   "cell_type": "markdown",
   "metadata": {},
   "source": [
    "## Установка библиотек"
   ]
  },
  {
   "cell_type": "code",
   "execution_count": 4,
   "metadata": {
    "scrolled": true
   },
   "outputs": [
    {
     "name": "stderr",
     "output_type": "stream",
     "text": [
      "[nltk_data] Downloading package punkt to\n",
      "[nltk_data]     C:\\Users\\term\\AppData\\Roaming\\nltk_data...\n",
      "[nltk_data]   Package punkt is already up-to-date!\n",
      "[nltk_data] Downloading package stopwords to\n",
      "[nltk_data]     C:\\Users\\term\\AppData\\Roaming\\nltk_data...\n",
      "[nltk_data]   Package stopwords is already up-to-date!\n",
      "[nltk_data] Downloading package wordnet to\n",
      "[nltk_data]     C:\\Users\\term\\AppData\\Roaming\\nltk_data...\n",
      "[nltk_data]   Package wordnet is already up-to-date!\n"
     ]
    }
   ],
   "source": [
    "import pandas as pd\n",
    "import numpy as np\n",
    "from sklearn.metrics import *\n",
    "from sklearn.model_selection import train_test_split\n",
    "from sklearn.dummy import DummyClassifier\n",
    "from catboost import CatBoostRegressor, CatBoostClassifier, Pool\n",
    "from catboost import EFstrType\n",
    "from sklearn.pipeline import Pipeline\n",
    "from sklearn.ensemble import RandomForestRegressor\n",
    "from sklearn.compose import make_column_transformer\n",
    "from sklearn.metrics import mean_squared_error, mean_absolute_error, r2_score, root_mean_squared_error\n",
    "from math import sqrt\n",
    "from sklearn.model_selection import cross_val_predict, cross_val_score, train_test_split\n",
    "from sklearn.pipeline import make_pipeline\n",
    "from sklearn.preprocessing import OneHotEncoder\n",
    "import warnings\n",
    "import matplotlib.pyplot as plt\n",
    "from sklearn.feature_extraction.text import CountVectorizer\n",
    "from nltk import ngrams\n",
    "from sklearn.feature_extraction.text import TfidfVectorizer\n",
    "from sklearn.decomposition import PCA\n",
    "import nltk\n",
    "nltk.download('punkt')\n",
    "from nltk import tokenize\n",
    "from nltk.tokenize import word_tokenize\n",
    "nltk.download('stopwords')\n",
    "nltk.download('wordnet')\n",
    "\n",
    "from nltk.stem.wordnet import WordNetLemmatizer\n",
    "from nltk.corpus import stopwords\n",
    "from pymystem3 import Mystem\n",
    "mystem_analyzer = Mystem()\n",
    "import re\n",
    "from tqdm import tqdm\n",
    "from pymorphy3 import MorphAnalyzer\n",
    "tqdm.pandas()\n",
    "morph = MorphAnalyzer()\n",
    "warnings.filterwarnings('ignore')"
   ]
  },
  {
   "cell_type": "code",
   "execution_count": 5,
   "metadata": {},
   "outputs": [],
   "source": [
    "from string import punctuation\n",
    "from collections import Counter\n",
    "\n",
    "from fastai.text.all import *\n",
    "from fastai.callback.tracker import SaveModelCallback\n",
    "from fastai.callback.tracker import EarlyStoppingCallback\n"
   ]
  },
  {
   "cell_type": "code",
   "execution_count": 6,
   "metadata": {},
   "outputs": [],
   "source": [
    "import torch\n",
    "from torch import nn\n",
    "import torch.nn.functional as F\n",
    "import torch.nn as nn\n",
    "import torch.optim as optim\n",
    "from torch.optim import Adam\n",
    "from torch.utils.data import TensorDataset, DataLoader"
   ]
  },
  {
   "cell_type": "code",
   "execution_count": 7,
   "metadata": {},
   "outputs": [
    {
     "name": "stdout",
     "output_type": "stream",
     "text": [
      "Torch version: 2.3.0+cpu\n",
      "CUDA available: False\n",
      "CUDA version: None\n",
      "Number of CUDA devices: 0\n"
     ]
    }
   ],
   "source": [
    "print(\"Torch version:\", torch.__version__)\n",
    "print(\"CUDA available:\", torch.cuda.is_available())\n",
    "print(\"CUDA version:\", torch.version.cuda)\n",
    "print(\"Number of CUDA devices:\", torch.cuda.device_count())\n"
   ]
  },
  {
   "cell_type": "markdown",
   "metadata": {},
   "source": [
    "## Константы"
   ]
  },
  {
   "cell_type": "code",
   "execution_count": 8,
   "metadata": {},
   "outputs": [],
   "source": [
    "LOCAL_PATH = 'D:/_DS/Edu/NLP_1_flow/Homework_1/'\n",
    "RANDOM_STATE = RS = 654321\n",
    "TEST_SIZE = .25\n",
    "# выделение в тексте\n",
    "BOLD = \"\\033[1m\"\n",
    "ITALIC = \"\\033[3m\"\n",
    "END = \"\\033[0m\"\n",
    "CR = '\\n'"
   ]
  },
  {
   "cell_type": "markdown",
   "metadata": {},
   "source": [
    "## Вспомогательные функции"
   ]
  },
  {
   "cell_type": "code",
   "execution_count": 9,
   "metadata": {},
   "outputs": [],
   "source": [
    "# Функция, выводящая основную информацию о датафрейме\n",
    "def about_df(data, size=5):\n",
    "    print (BOLD + 'Изучим исходные данные' + END)\n",
    "    print(data.info())\n",
    "    print(BOLD + CR + f'Вывод первых {size} строк датафрейма:' + END)\n",
    "    display(data.head(size))\n",
    "    print(BOLD + CR + 'Вывод основной информации о датафрейме:' + END)\n",
    "    print(CR + 'Количество строк: ', data.shape[0])\n",
    "    print('Количество столбцов: ', data.shape[1])\n",
    "    categ_col = data.columns[data.dtypes == 'object']\n",
    "    num_col = data.columns[data.dtypes != 'object']\n",
    "    print('Количество категориальных признаков: ', len(categ_col))\n",
    "    print('Количество числовых признаков: ', len(num_col))\n",
    "    missed_cells = data.isna().sum().sum()/(data.shape[0]*(data.shape[1]-1))\n",
    "    missed_rows = sum(data.isna().sum(axis = 1)>0)/data.shape[0]\n",
    "    print (BOLD + CR + 'Проверка пропусков'+ END)\n",
    "    print ('Количество пропусков: {:.0f}'.format(data.isnull().sum().sum()))\n",
    "    print ('Доля пропусков: {:.1%}'.format(missed_cells)+ END)\n",
    "    print ('Доля строк содержащих пропуски: {:.1%}'.format(missed_rows))\n",
    "    print(BOLD +  CR + 'Описание количественных данных:'+ END)\n",
    "    display(pd.concat([pd.DataFrame(np.array([data[num_col].isna().sum(), data[num_col].isna().mean()*100]).T,\n",
    "                                columns=['кол-во пропусков', 'доля пропусков, %'], index=data[num_col].columns), data.describe().T], axis=1))\n",
    "    print(BOLD + CR + 'Описание категориальных данных:'+ '\\033[0m')\n",
    "    display(pd.concat([pd.DataFrame(np.array([data[categ_col].isna().sum(), data[categ_col].isna().mean()*100]).T,\n",
    "                                columns=['кол-во пропусков', 'доля пропусков, %'], index=data[categ_col].columns), data.describe(include='object').T], axis=1))\n",
    "    ## Проверим дубликаты\n",
    "    print (BOLD +  CR + 'Проверка на дубликаты'+ END)\n",
    "    print('Количество полных дубликатов: ', data.duplicated().sum())\n",
    "        "
   ]
  },
  {
   "cell_type": "markdown",
   "metadata": {},
   "source": [
    "## Чтение данных"
   ]
  },
  {
   "cell_type": "markdown",
   "metadata": {},
   "source": [
    "Наши данные выгружены в текстовом виде. Посмотрим на них:"
   ]
  },
  {
   "cell_type": "code",
   "execution_count": 10,
   "metadata": {
    "scrolled": true
   },
   "outputs": [
    {
     "data": {
      "text/plain": [
       "'processed,Rating\\nd touch просто восхитительный вещь ! заряд держать целый день в розовый цвет смотреться очень необычно touch id очень быстрый удобный весь советовать телефон !,5\\nотключаться температура близкий нуль непонятно вести батарея,4\\nв apple окончательно решить не заморачиваться делать незначительный изменение телефон выдавать изменение инновация на скопировать не функционал дизайн цена неадекватно завысить скачок курс говорить не приходиться многие сказать hd разрешение достаточно диагональ оно аппарат позиционироваться топовый решение итог получать банальный экономия производитель произойти время работа увеличить fhd ! гб оперативка прошлый век ! и не рассказывать сказка великолепный оптимизация ios чудо свет не бывать мало тот сказать не волновать технический характеристика смартфон главное хорошо работать телефон хорошо работать отдавать выбрасывать нужно думать голова понимать этот деньга данный телефон просто непросто не стоить ! про удобство использование стоить отметить больший размер note гораздо лежать рука пользоваться сподручный,3\\nпостараться наиболее ёмко коротко описать основной плюс минус больший аппарат не показаться размер внешний вид ка выглядеть интересный солидный,4\\nдостойный телефон пользоваться один удовольствие,5\\ns gold gb,5\\nмой первый айфон сказать честно эппл ранее никогда рука не держать хотеться попробовать новый андроид слишком приесться первый порадовать это дизайн качество сборка тут высота постоянно любоваться телефон чехол скользкий дис'"
      ]
     },
     "execution_count": 10,
     "metadata": {},
     "output_type": "execute_result"
    }
   ],
   "source": [
    "with open(LOCAL_PATH + 'data_processed.csv', 'r', encoding='utf-8')as f:\n",
    "    comments_text = f.read()\n",
    "comments_text[:1500]"
   ]
  },
  {
   "cell_type": "markdown",
   "metadata": {},
   "source": [
    "Обработанный датасет выглядит прекрасно - леммы, всё строчными, готов к работе. Код ниже - как его получали."
   ]
  },
  {
   "cell_type": "code",
   "execution_count": 11,
   "metadata": {
    "scrolled": true
   },
   "outputs": [
    {
     "data": {
      "text/plain": [
       "'Review,Rating\\n3D Touch просто восхитительная вещь! Заряд держит целый день. В розовом цвете смотрится очень необычно. Touch ID очень быстрый и удобный. Всем советую этот телефон!,5\\n\"Отключается при температуре близкой к нулю, непонятно ведет себя батарея\",4\\n\"В Apple окончательно решили не заморачиваться, делая незначительные изменения в телефоне, выдают эти изменения за инновации. На этот раз скопировали не только функционал, но и дизайн. Цена и была неадекватно завышена, а после скачка курса так и говорить об этом не приходится. Многие скажут, что и HD разрешения будет достаточно для такой диагонали, может так оно и есть, но аппарат позиционируется, как топовое решение, а в итоге получаем банальную экономию производителя, ведь что произойдёт с временем работы, если увеличить до FHD?! 1 гб оперативки тоже прошлый век! И не надо рассказывать сказки про великолепную оптимизацию iOS, чудес на свете не бывает, этого мало. Те кто скажет, что их не волнуют технические характеристики смартфона, главное чтоб он хорошо работал, телефон за 5000 будет так же хорошо работать, а отдавая (выбрасывая) 55000 нужно думать головой и понимать, что этих денег данный телефон просто непросто не может стоить! Про удобство использования стоит отметить, что больший по размерам Note 4 гораздо лучше лежит в руке и пользоваться им сподручнее.\",3\\n\"Постарался наиболее ёмко и коротко описать все основные плюсы и минусы. Большим мне аппарат не показался, размеры - что надо. Внешний вид, как для меня, так 5-'"
      ]
     },
     "execution_count": 11,
     "metadata": {},
     "output_type": "execute_result"
    }
   ],
   "source": [
    "with open(LOCAL_PATH + 'data.csv', 'r', encoding='utf-8')as f:\n",
    "    comments_text = f.read()\n",
    "comments_text[:1500]"
   ]
  },
  {
   "cell_type": "markdown",
   "metadata": {},
   "source": [
    "Так, разделитель - запятая, 2 колонки, отзыв и рейтинг. Анализ сделан в части один, здесь просто подготовим датасет. Подготовка разными способами для двух нейросетей."
   ]
  },
  {
   "cell_type": "markdown",
   "metadata": {},
   "source": [
    "Подготовка данных стандартная:"
   ]
  },
  {
   "cell_type": "code",
   "execution_count": 12,
   "metadata": {},
   "outputs": [],
   "source": [
    "data = pd.read_csv(LOCAL_PATH + 'data.csv', sep=',')"
   ]
  },
  {
   "cell_type": "code",
   "execution_count": 13,
   "metadata": {},
   "outputs": [],
   "source": [
    "data_processed = pd.read_csv(LOCAL_PATH + 'data_processed.csv', sep=',')"
   ]
  },
  {
   "cell_type": "code",
   "execution_count": 14,
   "metadata": {},
   "outputs": [],
   "source": [
    "#Если что-то пошло не так\n",
    "#data = data_processed"
   ]
  },
  {
   "cell_type": "code",
   "execution_count": 15,
   "metadata": {},
   "outputs": [
    {
     "data": {
      "text/plain": [
       "Series([], Name: count, dtype: int64)"
      ]
     },
     "execution_count": 15,
     "metadata": {},
     "output_type": "execute_result"
    }
   ],
   "source": [
    "data_processed[data_processed.isna()]['Rating'].value_counts()"
   ]
  },
  {
   "cell_type": "code",
   "execution_count": 16,
   "metadata": {},
   "outputs": [],
   "source": [
    "data_processed = data_processed.dropna().reset_index(drop = True)"
   ]
  },
  {
   "cell_type": "code",
   "execution_count": 17,
   "metadata": {},
   "outputs": [
    {
     "data": {
      "image/png": "[encoded data removed]",
      "text/plain": [
       "<Figure size 640x480 with 1 Axes>"
      ]
     },
     "metadata": {},
     "output_type": "display_data"
    }
   ],
   "source": [
    "data = data.dropna().reset_index(drop = True)\n",
    "data = data.drop_duplicates()\n",
    "data.loc[data['Rating']==7, 'Rating'] = 5\n",
    "data = data[data['Rating']<9]\n",
    "data = data[data['Rating']>0]\n",
    "pd.Series(data['Rating']).hist( bins = 5)\n",
    "plt.title('Распределение таргета оценки в комментариях')\n",
    "plt.show()"
   ]
  },
  {
   "cell_type": "code",
   "execution_count": 18,
   "metadata": {},
   "outputs": [
    {
     "name": "stdout",
     "output_type": "stream",
     "text": [
      "Due to IPython and Windows limitation, python multiprocessing isn't available now.\n",
      "So `n_workers` has to be changed to 0 to avoid getting stuck\n"
     ]
    }
   ],
   "source": [
    "dls = TextDataLoaders.from_df(data_processed, text_col='processed', \n",
    "                               label_col='Rating', valid_pct=0.2)\n"
   ]
  },
  {
   "cell_type": "markdown",
   "metadata": {},
   "source": [
    "## Создание модели на RNN AWD_LSTM"
   ]
  },
  {
   "cell_type": "markdown",
   "metadata": {},
   "source": [
    "Воспользуемся fastai, чтобы получить готовое решение из коробки для бэйзлайна."
   ]
  },
  {
   "cell_type": "code",
   "execution_count": 103,
   "metadata": {},
   "outputs": [],
   "source": [
    "learn = text_classifier_learner(dls, AWD_LSTM, drop_mult=0.5,metrics=[accuracy, Precision(average='weighted'), \n",
    "                                                                      Recall(average='weighted'), F1Score(average='weighted')])"
   ]
  },
  {
   "cell_type": "markdown",
   "metadata": {},
   "source": [
    "\n",
    "AWD-LSTM - это тип рекуррентной нейронной сети (RNN), которую разработали Мерити и соавторы. Название \"AWD-LSTM\" происходит от \"ASGD Weight-Dropped LSTM\", где ASGD обозначает Average Stochastic Gradient Descent, а \"Weight-Dropped\" относится к специальной технике регуляризации, используемой в этой модели.\n",
    "\n",
    "drop_mult - это коэффициент, контролирующий уровень dropout, применяемый к различным слоям сети. Dropout - техника регуляризации, при которой во время обучения случайным образом \"выключаются\" или \"отбрасываются\" некоторые нейроны, чтобы предотвратить переобучение. Коэффициент drop_mult применяется к базовым ставкам dropout, определенным в модели. Значение drop_mult=0.5 означает, что ставки dropout будут в половину базовых ставок.\n",
    "\n",
    "Изменение значения drop_mult может влиять на производительность модели. Более высокие значения (ближе к 1 или больше) увеличивают уровень dropout и могут помочь предотвратить переобучение, но также могут привести к недообучению. Более низкие значения (ближе к 0) уменьшают уровень dropout, позволяя модели выучивать более сложные шаблоны в данных, но увеличивая риск переобучения."
   ]
  },
  {
   "cell_type": "code",
   "execution_count": 104,
   "metadata": {},
   "outputs": [
    {
     "data": {
      "text/html": [
       "\n",
       "<style>\n",
       "    /* Turns off some styling */\n",
       "    progress {\n",
       "        /* gets rid of default border in Firefox and Opera. */\n",
       "        border: none;\n",
       "        /* Needs to be in here for Safari polyfill so background images work as expected. */\n",
       "        background-size: auto;\n",
       "    }\n",
       "    progress:not([value]), progress:not([value])::-webkit-progress-bar {\n",
       "        background: repeating-linear-gradient(45deg, #7e7e7e, #7e7e7e 10px, #5c5c5c 10px, #5c5c5c 20px);\n",
       "    }\n",
       "    .progress-bar-interrupted, .progress-bar-interrupted::-webkit-progress-bar {\n",
       "        background: #F44336;\n",
       "    }\n",
       "</style>\n"
      ],
      "text/plain": [
       "<IPython.core.display.HTML object>"
      ]
     },
     "metadata": {},
     "output_type": "display_data"
    },
    {
     "data": {
      "text/html": [
       "<table border=\"1\" class=\"dataframe\">\n",
       "  <thead>\n",
       "    <tr style=\"text-align: left;\">\n",
       "      <th>epoch</th>\n",
       "      <th>train_loss</th>\n",
       "      <th>valid_loss</th>\n",
       "      <th>accuracy</th>\n",
       "      <th>precision_score</th>\n",
       "      <th>recall_score</th>\n",
       "      <th>f1_score</th>\n",
       "      <th>time</th>\n",
       "    </tr>\n",
       "  </thead>\n",
       "  <tbody>\n",
       "    <tr>\n",
       "      <td>0</td>\n",
       "      <td>1.321225</td>\n",
       "      <td>1.324547</td>\n",
       "      <td>0.497033</td>\n",
       "      <td>0.247041</td>\n",
       "      <td>0.497033</td>\n",
       "      <td>0.330041</td>\n",
       "      <td>43:01</td>\n",
       "    </tr>\n",
       "  </tbody>\n",
       "</table>"
      ],
      "text/plain": [
       "<IPython.core.display.HTML object>"
      ]
     },
     "metadata": {},
     "output_type": "display_data"
    },
    {
     "data": {
      "text/html": [
       "\n",
       "<style>\n",
       "    /* Turns off some styling */\n",
       "    progress {\n",
       "        /* gets rid of default border in Firefox and Opera. */\n",
       "        border: none;\n",
       "        /* Needs to be in here for Safari polyfill so background images work as expected. */\n",
       "        background-size: auto;\n",
       "    }\n",
       "    progress:not([value]), progress:not([value])::-webkit-progress-bar {\n",
       "        background: repeating-linear-gradient(45deg, #7e7e7e, #7e7e7e 10px, #5c5c5c 10px, #5c5c5c 20px);\n",
       "    }\n",
       "    .progress-bar-interrupted, .progress-bar-interrupted::-webkit-progress-bar {\n",
       "        background: #F44336;\n",
       "    }\n",
       "</style>\n"
      ],
      "text/plain": [
       "<IPython.core.display.HTML object>"
      ]
     },
     "metadata": {},
     "output_type": "display_data"
    },
    {
     "data": {
      "text/html": [
       "<table border=\"1\" class=\"dataframe\">\n",
       "  <thead>\n",
       "    <tr style=\"text-align: left;\">\n",
       "      <th>epoch</th>\n",
       "      <th>train_loss</th>\n",
       "      <th>valid_loss</th>\n",
       "      <th>accuracy</th>\n",
       "      <th>precision_score</th>\n",
       "      <th>recall_score</th>\n",
       "      <th>f1_score</th>\n",
       "      <th>time</th>\n",
       "    </tr>\n",
       "  </thead>\n",
       "  <tbody>\n",
       "    <tr>\n",
       "      <td>0</td>\n",
       "      <td>1.305269</td>\n",
       "      <td>1.307089</td>\n",
       "      <td>0.496497</td>\n",
       "      <td>0.262135</td>\n",
       "      <td>0.496497</td>\n",
       "      <td>0.330613</td>\n",
       "      <td>1:55:57</td>\n",
       "    </tr>\n",
       "    <tr>\n",
       "      <td>1</td>\n",
       "      <td>1.112469</td>\n",
       "      <td>1.094227</td>\n",
       "      <td>0.532893</td>\n",
       "      <td>0.440918</td>\n",
       "      <td>0.532893</td>\n",
       "      <td>0.439892</td>\n",
       "      <td>2:11:53</td>\n",
       "    </tr>\n",
       "    <tr>\n",
       "      <td>2</td>\n",
       "      <td>1.049840</td>\n",
       "      <td>1.017239</td>\n",
       "      <td>0.560644</td>\n",
       "      <td>0.498184</td>\n",
       "      <td>0.560644</td>\n",
       "      <td>0.508265</td>\n",
       "      <td>2:12:11</td>\n",
       "    </tr>\n",
       "    <tr>\n",
       "      <td>3</td>\n",
       "      <td>1.024973</td>\n",
       "      <td>0.999439</td>\n",
       "      <td>0.568962</td>\n",
       "      <td>0.510093</td>\n",
       "      <td>0.568962</td>\n",
       "      <td>0.518988</td>\n",
       "      <td>2:12:07</td>\n",
       "    </tr>\n",
       "    <tr>\n",
       "      <td>4</td>\n",
       "      <td>1.016919</td>\n",
       "      <td>0.997303</td>\n",
       "      <td>0.570678</td>\n",
       "      <td>0.515172</td>\n",
       "      <td>0.570678</td>\n",
       "      <td>0.524028</td>\n",
       "      <td>1:53:06</td>\n",
       "    </tr>\n",
       "  </tbody>\n",
       "</table>"
      ],
      "text/plain": [
       "<IPython.core.display.HTML object>"
      ]
     },
     "metadata": {},
     "output_type": "display_data"
    }
   ],
   "source": [
    "learn.fine_tune(5)"
   ]
  },
  {
   "cell_type": "markdown",
   "metadata": {},
   "source": [
    "Дообучаем модель с помощью метода fine_tune на 5 эпох. В методе fine_tune, сначала обучается только голова модели (новый слой, добавленный в конец предварительно обученной модели) на одну эпоху, а затем весь остальной корпус модели на количество эпох, указанных в аргументе (в данном случае - 5)."
   ]
  },
  {
   "cell_type": "markdown",
   "metadata": {},
   "source": [
    "```\n",
    "epoch\ttrain_loss\tvalid_loss\ttime\n",
    "0\t1.341249\t1.305920\t1:57:10\n",
    "1\t1.126364\t1.085239\t1:55:28\n",
    "2\t1.063351\t1.027579\t1:56:03\n",
    "3\t1.026945\t1.006191\t1:58:54\n",
    "```"
   ]
  },
  {
   "cell_type": "markdown",
   "metadata": {},
   "source": [
    "По итогам четвёртой эпохи лосс и трэйн и валидационный всё ещё хорошо сокращаются. Жду пятую."
   ]
  },
  {
   "cell_type": "markdown",
   "metadata": {},
   "source": [
    "Строим графики потерь при обучении и валидации"
   ]
  },
  {
   "cell_type": "code",
   "execution_count": 21,
   "metadata": {},
   "outputs": [
    {
     "data": {
      "text/plain": [
       "<Axes: title={'center': 'learning curve'}, xlabel='steps', ylabel='loss'>"
      ]
     },
     "execution_count": 21,
     "metadata": {},
     "output_type": "execute_result"
    },
    {
     "data": {
      "image/png": "[encoded data removed]",
      "text/plain": [
       "<Figure size 640x480 with 1 Axes>"
      ]
     },
     "metadata": {},
     "output_type": "display_data"
    }
   ],
   "source": [
    "learn.recorder.plot_loss()"
   ]
  },
  {
   "cell_type": "markdown",
   "metadata": {},
   "source": [
    "Строим графики для расписаний скорости обучения и импульса процесса обучения"
   ]
  },
  {
   "cell_type": "code",
   "execution_count": 22,
   "metadata": {},
   "outputs": [
    {
     "data": {
      "image/png": "[encoded data removed]",
      "text/plain": [
       "<Figure size 1200x400 with 2 Axes>"
      ]
     },
     "metadata": {},
     "output_type": "display_data"
    }
   ],
   "source": [
    "learn.recorder.plot_sched()"
   ]
  },
  {
   "cell_type": "markdown",
   "metadata": {},
   "source": [
    "Создадим объект ClassificationInterpretation, который можно использовать для интерпретации результатов классификационной модели"
   ]
  },
  {
   "cell_type": "code",
   "execution_count": 23,
   "metadata": {},
   "outputs": [
    {
     "data": {
      "text/html": [
       "\n",
       "<style>\n",
       "    /* Turns off some styling */\n",
       "    progress {\n",
       "        /* gets rid of default border in Firefox and Opera. */\n",
       "        border: none;\n",
       "        /* Needs to be in here for Safari polyfill so background images work as expected. */\n",
       "        background-size: auto;\n",
       "    }\n",
       "    progress:not([value]), progress:not([value])::-webkit-progress-bar {\n",
       "        background: repeating-linear-gradient(45deg, #7e7e7e, #7e7e7e 10px, #5c5c5c 10px, #5c5c5c 20px);\n",
       "    }\n",
       "    .progress-bar-interrupted, .progress-bar-interrupted::-webkit-progress-bar {\n",
       "        background: #F44336;\n",
       "    }\n",
       "</style>\n"
      ],
      "text/plain": [
       "<IPython.core.display.HTML object>"
      ]
     },
     "metadata": {},
     "output_type": "display_data"
    },
    {
     "data": {
      "text/html": [],
      "text/plain": [
       "<IPython.core.display.HTML object>"
      ]
     },
     "metadata": {},
     "output_type": "display_data"
    },
    {
     "data": {
      "text/html": [
       "\n",
       "<style>\n",
       "    /* Turns off some styling */\n",
       "    progress {\n",
       "        /* gets rid of default border in Firefox and Opera. */\n",
       "        border: none;\n",
       "        /* Needs to be in here for Safari polyfill so background images work as expected. */\n",
       "        background-size: auto;\n",
       "    }\n",
       "    progress:not([value]), progress:not([value])::-webkit-progress-bar {\n",
       "        background: repeating-linear-gradient(45deg, #7e7e7e, #7e7e7e 10px, #5c5c5c 10px, #5c5c5c 20px);\n",
       "    }\n",
       "    .progress-bar-interrupted, .progress-bar-interrupted::-webkit-progress-bar {\n",
       "        background: #F44336;\n",
       "    }\n",
       "</style>\n"
      ],
      "text/plain": [
       "<IPython.core.display.HTML object>"
      ]
     },
     "metadata": {},
     "output_type": "display_data"
    },
    {
     "data": {
      "text/html": [],
      "text/plain": [
       "<IPython.core.display.HTML object>"
      ]
     },
     "metadata": {},
     "output_type": "display_data"
    },
    {
     "data": {
      "image/png": "[encoded data removed]",
      "text/plain": [
       "<Figure size 640x480 with 1 Axes>"
      ]
     },
     "metadata": {},
     "output_type": "display_data"
    }
   ],
   "source": [
    "interp = ClassificationInterpretation.from_learner(learn)\n",
    "interp.plot_confusion_matrix()"
   ]
  },
  {
   "cell_type": "markdown",
   "metadata": {},
   "source": [
    "Посмотрим на некорректные прогнозы вместе с их предсказанными и фактическими метками."
   ]
  },
  {
   "cell_type": "code",
   "execution_count": 24,
   "metadata": {},
   "outputs": [
    {
     "data": {
      "text/html": [
       "\n",
       "<style>\n",
       "    /* Turns off some styling */\n",
       "    progress {\n",
       "        /* gets rid of default border in Firefox and Opera. */\n",
       "        border: none;\n",
       "        /* Needs to be in here for Safari polyfill so background images work as expected. */\n",
       "        background-size: auto;\n",
       "    }\n",
       "    progress:not([value]), progress:not([value])::-webkit-progress-bar {\n",
       "        background: repeating-linear-gradient(45deg, #7e7e7e, #7e7e7e 10px, #5c5c5c 10px, #5c5c5c 20px);\n",
       "    }\n",
       "    .progress-bar-interrupted, .progress-bar-interrupted::-webkit-progress-bar {\n",
       "        background: #F44336;\n",
       "    }\n",
       "</style>\n"
      ],
      "text/plain": [
       "<IPython.core.display.HTML object>"
      ]
     },
     "metadata": {},
     "output_type": "display_data"
    },
    {
     "data": {
      "text/html": [],
      "text/plain": [
       "<IPython.core.display.HTML object>"
      ]
     },
     "metadata": {},
     "output_type": "display_data"
    },
    {
     "data": {
      "text/html": [
       "<table border=\"1\" class=\"dataframe\">\n",
       "  <thead>\n",
       "    <tr style=\"text-align: right;\">\n",
       "      <th></th>\n",
       "      <th>text</th>\n",
       "      <th>category</th>\n",
       "      <th>category_</th>\n",
       "    </tr>\n",
       "  </thead>\n",
       "  <tbody>\n",
       "    <tr>\n",
       "      <th>0</th>\n",
       "      <td>xxbos отличный смартфон повседневный использование оглядка розетка ! поверьте нужно очень сильно постараться разрядить день если нужный хороший смартфон способный справляться весь задача не лихорадить вид каждый розетка телефон однозначно ваш выбор ! но gps прийтись допиливать сам после два неделя использование отправить обратно магазин экспертиза сила терпеть ужасный поведение gps ! ! ! быть менять тот пора пока не попасться правильный телефон ! другой модель не хотеть просто предел мечтание автономность ! совет весь присматриваться дать модель обязательно проверять работа gps этот функция не нужный смело брать телефон наслаждаться общение игра воистину хороший батарея время автономный работа сегодняшний день среди смартфон ! ! !</td>\n",
       "      <td>4</td>\n",
       "      <td>5</td>\n",
       "    </tr>\n",
       "    <tr>\n",
       "      <th>1</th>\n",
       "      <td>xxbos покупать думать очередной ширпотреб нокия вполне приличный телефон именно телефон не компьютер карман очень удобный не смотреть пластмассовость держание рука создавать впечатление хороший качественный вещь ничего не скрипеть не люфтит батарея держать день примерно час звонок около смс немного пользование всякий аська ватсап мр плеер отсутствие юсб компенсироваться возможность синхронизация блютуз контакт так п быстро перекидываться музыка другой объёмный файл долгий телефон сравнивать предыдущий гаджет нокл как кирпич сравнивать xxunk айфон не понимать у разный назначение нокия связь современный телефон розетка считать модель свой деньга стоить покупать доставка</td>\n",
       "      <td>4</td>\n",
       "      <td>5</td>\n",
       "    </tr>\n",
       "    <tr>\n",
       "      <th>2</th>\n",
       "      <td>xxbos это первый телефон lenovo по очень удобный продумать пользоваться один удовольствие ни какой сравнение мой бывший филипс w не идти взять телефон р это дорогой заказывать китай зато проблема гарантийный ремонт не чехол магнитная разблокировка телефон быть брать китай р стоить р дурд</td>\n",
       "      <td>4</td>\n",
       "      <td>4</td>\n",
       "    </tr>\n",
       "    <tr>\n",
       "      <th>3</th>\n",
       "      <td>xxbos у чёрный выглядеть строго стильно в рука лежать удобно звук достаточно громкий экран высота по периметр лицевой панель резиновый рамочка предохранять царапина можно смело положить стол лицо вниз провезти корпус сделать солидно пластик хороший не скрипеть вообще впечатление надёжный аппарат случай жизнь</td>\n",
       "      <td>5</td>\n",
       "      <td>5</td>\n",
       "    </tr>\n",
       "    <tr>\n",
       "      <th>4</th>\n",
       "      <td>xxbos телефон жить свой жизнь делать всё независимо ваш желание качать приложение менять заставка перезагружаться в итог постоянно виснуть кушать батарейка полдень врежим ожидание уже искать поменять</td>\n",
       "      <td>2</td>\n",
       "      <td>4</td>\n",
       "    </tr>\n",
       "    <tr>\n",
       "      <th>5</th>\n",
       "      <td>xxbos долго решать телефон купить до пользователь айфон не думать понравиться либо телефон андройда ни сколько не пожалеть выбрать именно я свой выбор довольный</td>\n",
       "      <td>5</td>\n",
       "      <td>5</td>\n",
       "    </tr>\n",
       "    <tr>\n",
       "      <th>6</th>\n",
       "      <td>xxbos купить декабрь хотеться именно андроид айфон слишком экран маленький цена айфон загнать небо девайс просто супер не пожелела секунда приобрести</td>\n",
       "      <td>5</td>\n",
       "      <td>5</td>\n",
       "    </tr>\n",
       "    <tr>\n",
       "      <th>7</th>\n",
       "      <td>xxbos если не хотеть неделя копаться инет исправлять заводский косяк телефон не советовать покупать</td>\n",
       "      <td>3</td>\n",
       "      <td>1</td>\n",
       "    </tr>\n",
       "    <tr>\n",
       "      <th>8</th>\n",
       "      <td>xxbos телефон отличный живучий удобный расставаться не хотеться ! ! ! !</td>\n",
       "      <td>5</td>\n",
       "      <td>5</td>\n",
       "    </tr>\n",
       "    <tr>\n",
       "      <th>9</th>\n",
       "      <td>xxbos год самсунг не знать далёкий не возникать желание приобретать телефон</td>\n",
       "      <td>3</td>\n",
       "      <td>5</td>\n",
       "    </tr>\n",
       "  </tbody>\n",
       "</table>"
      ],
      "text/plain": [
       "<IPython.core.display.HTML object>"
      ]
     },
     "metadata": {},
     "output_type": "display_data"
    }
   ],
   "source": [
    "interp.show_results(idxs=[0,1,2,3,4,5,6,7,8,9])\n"
   ]
  },
  {
   "cell_type": "markdown",
   "metadata": {},
   "source": [
    "Посмотрим на комменты с наибольшими потерями (наиболее некорректные прогнозы)."
   ]
  },
  {
   "cell_type": "code",
   "execution_count": 25,
   "metadata": {},
   "outputs": [
    {
     "data": {
      "text/html": [
       "\n",
       "<style>\n",
       "    /* Turns off some styling */\n",
       "    progress {\n",
       "        /* gets rid of default border in Firefox and Opera. */\n",
       "        border: none;\n",
       "        /* Needs to be in here for Safari polyfill so background images work as expected. */\n",
       "        background-size: auto;\n",
       "    }\n",
       "    progress:not([value]), progress:not([value])::-webkit-progress-bar {\n",
       "        background: repeating-linear-gradient(45deg, #7e7e7e, #7e7e7e 10px, #5c5c5c 10px, #5c5c5c 20px);\n",
       "    }\n",
       "    .progress-bar-interrupted, .progress-bar-interrupted::-webkit-progress-bar {\n",
       "        background: #F44336;\n",
       "    }\n",
       "</style>\n"
      ],
      "text/plain": [
       "<IPython.core.display.HTML object>"
      ]
     },
     "metadata": {},
     "output_type": "display_data"
    },
    {
     "data": {
      "text/html": [],
      "text/plain": [
       "<IPython.core.display.HTML object>"
      ]
     },
     "metadata": {},
     "output_type": "display_data"
    },
    {
     "data": {
      "text/html": [
       "<table border=\"1\" class=\"dataframe\">\n",
       "  <thead>\n",
       "    <tr style=\"text-align: right;\">\n",
       "      <th></th>\n",
       "      <th>input</th>\n",
       "      <th>target</th>\n",
       "      <th>predicted</th>\n",
       "      <th>probability</th>\n",
       "      <th>loss</th>\n",
       "    </tr>\n",
       "  </thead>\n",
       "  <tbody>\n",
       "    <tr>\n",
       "      <th>0</th>\n",
       "      <td>xxbos приобрести сегодня данный тело всё ещё не успеть оценить сдохнуть батарея но всё выглядеть очень достойно качество сборка отличный ни скрип люфт всё заявить функция работать исправно верный успеть проверить поставить пара игрушка вроде не тормозить работать это первый андроид кароч весь довольный правда многое не привычно время привыкнуть скайп ещё не ставить отзыв работать всё нормально</td>\n",
       "      <td>1</td>\n",
       "      <td>5</td>\n",
       "      <td>0.8359876871109009</td>\n",
       "      <td>11.011944770812988</td>\n",
       "    </tr>\n",
       "    <tr>\n",
       "      <th>1</th>\n",
       "      <td>xxbos недостаток не заморачиваться телефон падать лужа асфальт последок утопить вода минута просушить фен подержать денёк батарея включить работать никакой нарекание ходить неделя телефон офигенный весь советовать</td>\n",
       "      <td>1</td>\n",
       "      <td>5</td>\n",
       "      <td>0.8900154829025269</td>\n",
       "      <td>9.845934867858887</td>\n",
       "    </tr>\n",
       "    <tr>\n",
       "      <th>2</th>\n",
       "      <td>xxbos а основное довольный данные аппарат быстрый удобный практичный ! советовать брать ! ! !</td>\n",
       "      <td>1</td>\n",
       "      <td>5</td>\n",
       "      <td>0.8769104480743408</td>\n",
       "      <td>9.379329681396484</td>\n",
       "    </tr>\n",
       "    <tr>\n",
       "      <th>3</th>\n",
       "      <td>xxbos в целое свой цена телефон хороший оправдывать соотношение цена качество высота</td>\n",
       "      <td>1</td>\n",
       "      <td>5</td>\n",
       "      <td>0.6013829708099365</td>\n",
       "      <td>9.363227844238281</td>\n",
       "    </tr>\n",
       "    <tr>\n",
       "      <th>4</th>\n",
       "      <td>xxbos в целое свой цена телефон хороший оправдывать соотношение цена качество высота</td>\n",
       "      <td>1</td>\n",
       "      <td>5</td>\n",
       "      <td>0.6013829708099365</td>\n",
       "      <td>9.041954040527344</td>\n",
       "    </tr>\n",
       "    <tr>\n",
       "      <th>5</th>\n",
       "      <td>xxbos отличный телефон звук камера замечательный очень рада покупка весь советовать</td>\n",
       "      <td>3</td>\n",
       "      <td>5</td>\n",
       "      <td>0.9593111276626587</td>\n",
       "      <td>9.018621444702148</td>\n",
       "    </tr>\n",
       "    <tr>\n",
       "      <th>6</th>\n",
       "      <td>xxbos в целое хороший смартфон цена рубль очень довольный !</td>\n",
       "      <td>1</td>\n",
       "      <td>5</td>\n",
       "      <td>0.7492207884788513</td>\n",
       "      <td>8.765374183654785</td>\n",
       "    </tr>\n",
       "    <tr>\n",
       "      <th>7</th>\n",
       "      <td>xxbos в общий телефон отличный брать не пожалеть !</td>\n",
       "      <td>1</td>\n",
       "      <td>5</td>\n",
       "      <td>0.9016063809394836</td>\n",
       "      <td>8.585967063903809</td>\n",
       "    </tr>\n",
       "    <tr>\n",
       "      <th>8</th>\n",
       "      <td>xxbos очень приятно держать рука изумительный фото</td>\n",
       "      <td>2</td>\n",
       "      <td>5</td>\n",
       "      <td>0.9303763508796692</td>\n",
       "      <td>8.463388442993164</td>\n",
       "    </tr>\n",
       "    <tr>\n",
       "      <th>9</th>\n",
       "      <td>xxbos нарекание прошивка цена довольно высокий</td>\n",
       "      <td>1</td>\n",
       "      <td>5</td>\n",
       "      <td>0.854708194732666</td>\n",
       "      <td>8.412015914916992</td>\n",
       "    </tr>\n",
       "    <tr>\n",
       "      <th>10</th>\n",
       "      <td>xxbos да нормальный нравиться рекомендовать</td>\n",
       "      <td>2</td>\n",
       "      <td>5</td>\n",
       "      <td>0.8884097933769226</td>\n",
       "      <td>8.346551895141602</td>\n",
       "    </tr>\n",
       "    <tr>\n",
       "      <th>11</th>\n",
       "      <td>xxbos отличный альтернатива huawei p</td>\n",
       "      <td>2</td>\n",
       "      <td>5</td>\n",
       "      <td>0.9370294213294983</td>\n",
       "      <td>8.250248908996582</td>\n",
       "    </tr>\n",
       "    <tr>\n",
       "      <th>12</th>\n",
       "      <td>xxbos самый хороший свой размер</td>\n",
       "      <td>2</td>\n",
       "      <td>5</td>\n",
       "      <td>0.8644146919250488</td>\n",
       "      <td>7.995995044708252</td>\n",
       "    </tr>\n",
       "    <tr>\n",
       "      <th>13</th>\n",
       "      <td>xxbos отличный планшет встроить фотоаппарат</td>\n",
       "      <td>3</td>\n",
       "      <td>5</td>\n",
       "      <td>0.9569244384765625</td>\n",
       "      <td>7.995995044708252</td>\n",
       "    </tr>\n",
       "    <tr>\n",
       "      <th>14</th>\n",
       "      <td>xxbos классный телефон !</td>\n",
       "      <td>1</td>\n",
       "      <td>5</td>\n",
       "      <td>0.9691115021705627</td>\n",
       "      <td>7.97243070602417</td>\n",
       "    </tr>\n",
       "    <tr>\n",
       "      <th>15</th>\n",
       "      <td>xxbos отличный телефон перепрошить</td>\n",
       "      <td>2</td>\n",
       "      <td>5</td>\n",
       "      <td>0.9543629884719849</td>\n",
       "      <td>7.923281669616699</td>\n",
       "    </tr>\n",
       "    <tr>\n",
       "      <th>16</th>\n",
       "      <td>xxbos отличный звучание наушник</td>\n",
       "      <td>3</td>\n",
       "      <td>5</td>\n",
       "      <td>0.9622267484664917</td>\n",
       "      <td>7.849803447723389</td>\n",
       "    </tr>\n",
       "    <tr>\n",
       "      <th>17</th>\n",
       "      <td>xxbos груда отличный железо</td>\n",
       "      <td>1</td>\n",
       "      <td>5</td>\n",
       "      <td>0.8801153302192688</td>\n",
       "      <td>7.745935916900635</td>\n",
       "    </tr>\n",
       "    <tr>\n",
       "      <th>18</th>\n",
       "      <td>xxbos компактный размер</td>\n",
       "      <td>2</td>\n",
       "      <td>5</td>\n",
       "      <td>0.9308985471725464</td>\n",
       "      <td>7.687656879425049</td>\n",
       "    </tr>\n",
       "    <tr>\n",
       "      <th>19</th>\n",
       "      <td>xxbos отличный телефон</td>\n",
       "      <td>3</td>\n",
       "      <td>5</td>\n",
       "      <td>0.9735366702079773</td>\n",
       "      <td>7.670158863067627</td>\n",
       "    </tr>\n",
       "  </tbody>\n",
       "</table>"
      ],
      "text/plain": [
       "<IPython.core.display.HTML object>"
      ]
     },
     "metadata": {},
     "output_type": "display_data"
    }
   ],
   "source": [
    "interp.plot_top_losses(k=20)"
   ]
  },
  {
   "cell_type": "markdown",
   "metadata": {},
   "source": [
    "Отобразим список кортежей, содержащих наиболее смутные категории."
   ]
  },
  {
   "cell_type": "code",
   "execution_count": 26,
   "metadata": {},
   "outputs": [
    {
     "data": {
      "text/html": [
       "\n",
       "<style>\n",
       "    /* Turns off some styling */\n",
       "    progress {\n",
       "        /* gets rid of default border in Firefox and Opera. */\n",
       "        border: none;\n",
       "        /* Needs to be in here for Safari polyfill so background images work as expected. */\n",
       "        background-size: auto;\n",
       "    }\n",
       "    progress:not([value]), progress:not([value])::-webkit-progress-bar {\n",
       "        background: repeating-linear-gradient(45deg, #7e7e7e, #7e7e7e 10px, #5c5c5c 10px, #5c5c5c 20px);\n",
       "    }\n",
       "    .progress-bar-interrupted, .progress-bar-interrupted::-webkit-progress-bar {\n",
       "        background: #F44336;\n",
       "    }\n",
       "</style>\n"
      ],
      "text/plain": [
       "<IPython.core.display.HTML object>"
      ]
     },
     "metadata": {},
     "output_type": "display_data"
    },
    {
     "data": {
      "text/html": [],
      "text/plain": [
       "<IPython.core.display.HTML object>"
      ]
     },
     "metadata": {},
     "output_type": "display_data"
    },
    {
     "data": {
      "text/plain": [
       "[(4, 5, 15903),\n",
       " (3, 5, 3928),\n",
       " (3, 4, 2500),\n",
       " (5, 4, 2223),\n",
       " (2, 1, 1954),\n",
       " (2, 3, 1830),\n",
       " (2, 5, 1487),\n",
       " (4, 3, 1431),\n",
       " (1, 3, 1424),\n",
       " (3, 1, 1306),\n",
       " (2, 4, 1104),\n",
       " (1, 5, 932),\n",
       " (5, 3, 786),\n",
       " (1, 2, 712),\n",
       " (1, 4, 635),\n",
       " (3, 2, 547),\n",
       " (4, 1, 380),\n",
       " (5, 1, 289),\n",
       " (4, 2, 146),\n",
       " (5, 2, 54)]"
      ]
     },
     "execution_count": 26,
     "metadata": {},
     "output_type": "execute_result"
    }
   ],
   "source": [
    "interp.most_confused()"
   ]
  },
  {
   "cell_type": "markdown",
   "metadata": {},
   "source": [
    "Это, конечно, и на матрице видно. Но тут отсортированный список, если что-то пропустили взглядом."
   ]
  },
  {
   "cell_type": "code",
   "execution_count": 27,
   "metadata": {},
   "outputs": [
    {
     "data": {
      "text/html": [
       "\n",
       "<style>\n",
       "    /* Turns off some styling */\n",
       "    progress {\n",
       "        /* gets rid of default border in Firefox and Opera. */\n",
       "        border: none;\n",
       "        /* Needs to be in here for Safari polyfill so background images work as expected. */\n",
       "        background-size: auto;\n",
       "    }\n",
       "    progress:not([value]), progress:not([value])::-webkit-progress-bar {\n",
       "        background: repeating-linear-gradient(45deg, #7e7e7e, #7e7e7e 10px, #5c5c5c 10px, #5c5c5c 20px);\n",
       "    }\n",
       "    .progress-bar-interrupted, .progress-bar-interrupted::-webkit-progress-bar {\n",
       "        background: #F44336;\n",
       "    }\n",
       "</style>\n"
      ],
      "text/plain": [
       "<IPython.core.display.HTML object>"
      ]
     },
     "metadata": {},
     "output_type": "display_data"
    },
    {
     "data": {
      "text/html": [],
      "text/plain": [
       "<IPython.core.display.HTML object>"
      ]
     },
     "metadata": {},
     "output_type": "display_data"
    }
   ],
   "source": [
    "preds, targets, losses = learn.get_preds(with_loss=True)"
   ]
  },
  {
   "cell_type": "markdown",
   "metadata": {},
   "source": [
    "classification_report из sklearn, нужно преобразовать предсказания модели в метки классов. В настоящее время preds представляет собой вероятности классов, поэтому нужно выбрать класс с наибольшей вероятностью для каждого примера.\n",
    "\n",
    "Выполним преобразование:"
   ]
  },
  {
   "cell_type": "code",
   "execution_count": 28,
   "metadata": {},
   "outputs": [],
   "source": [
    "preds_class = preds.argmax(dim=1)"
   ]
  },
  {
   "cell_type": "code",
   "execution_count": 29,
   "metadata": {},
   "outputs": [
    {
     "name": "stdout",
     "output_type": "stream",
     "text": [
      "              precision    recall  f1-score   support\n",
      "\n",
      "           0       0.43      0.45      0.44      6708\n",
      "           1       0.34      0.10      0.16      7114\n",
      "           2       0.31      0.23      0.26     10721\n",
      "           3       0.36      0.17      0.23     21475\n",
      "           4       0.65      0.93      0.77     45475\n",
      "\n",
      "    accuracy                           0.57     91493\n",
      "   macro avg       0.42      0.37      0.37     91493\n",
      "weighted avg       0.50      0.57      0.51     91493\n",
      "\n"
     ]
    }
   ],
   "source": [
    "print(classification_report(targets, preds_class)) "
   ]
  },
  {
   "cell_type": "code",
   "execution_count": 30,
   "metadata": {},
   "outputs": [
    {
     "name": "stdout",
     "output_type": "stream",
     "text": [
      "AUC ROC тест NN:  0.8151265659048175\n"
     ]
    }
   ],
   "source": [
    "auc_test = roc_auc_score(targets, preds, multi_class='ovr')\n",
    "print('AUC ROC тест NN: ',auc_test)"
   ]
  },
  {
   "cell_type": "code",
   "execution_count": 31,
   "metadata": {
    "scrolled": true
   },
   "outputs": [
    {
     "name": "stdout",
     "output_type": "stream",
     "text": [
      "mae тест NN:  0.6234356726744122\n"
     ]
    }
   ],
   "source": [
    "mae = mean_absolute_error(targets, preds_class)\n",
    "print('mae тест NN: ',mae)"
   ]
  },
  {
   "cell_type": "markdown",
   "metadata": {},
   "source": [
    "Ну... не впечатляет, с картинками результат был лучше. Но бэйзлайн создан, да, кстати, а как выглядит финальная сборка? Посмотрим:"
   ]
  },
  {
   "cell_type": "code",
   "execution_count": 32,
   "metadata": {},
   "outputs": [
    {
     "data": {
      "text/html": [
       "\n",
       "<style>\n",
       "    /* Turns off some styling */\n",
       "    progress {\n",
       "        /* gets rid of default border in Firefox and Opera. */\n",
       "        border: none;\n",
       "        /* Needs to be in here for Safari polyfill so background images work as expected. */\n",
       "        background-size: auto;\n",
       "    }\n",
       "    progress:not([value]), progress:not([value])::-webkit-progress-bar {\n",
       "        background: repeating-linear-gradient(45deg, #7e7e7e, #7e7e7e 10px, #5c5c5c 10px, #5c5c5c 20px);\n",
       "    }\n",
       "    .progress-bar-interrupted, .progress-bar-interrupted::-webkit-progress-bar {\n",
       "        background: #F44336;\n",
       "    }\n",
       "</style>\n"
      ],
      "text/plain": [
       "<IPython.core.display.HTML object>"
      ]
     },
     "metadata": {},
     "output_type": "display_data"
    },
    {
     "data": {
      "text/html": [],
      "text/plain": [
       "<IPython.core.display.HTML object>"
      ]
     },
     "metadata": {},
     "output_type": "display_data"
    },
    {
     "data": {
      "text/plain": [
       "SequentialRNN (Input shape: 64 x 2869)\n",
       "============================================================================\n",
       "Layer (type)         Output Shape         Param #    Trainable \n",
       "============================================================================\n",
       "                     64 x 61 x 1152      \n",
       "LSTM                                                           \n",
       "LSTM                                                           \n",
       "____________________________________________________________________________\n",
       "                     64 x 61 x 400       \n",
       "LSTM                                                           \n",
       "RNNDropout                                                     \n",
       "RNNDropout                                                     \n",
       "RNNDropout                                                     \n",
       "BatchNorm1d                               2400       True      \n",
       "Dropout                                                        \n",
       "____________________________________________________________________________\n",
       "                     64 x 50             \n",
       "Linear                                    60000      True      \n",
       "ReLU                                                           \n",
       "BatchNorm1d                               100        True      \n",
       "Dropout                                                        \n",
       "____________________________________________________________________________\n",
       "                     64 x 5              \n",
       "Linear                                    250        True      \n",
       "____________________________________________________________________________\n",
       "\n",
       "Total params: 62,750\n",
       "Total trainable params: 62,750\n",
       "Total non-trainable params: 0\n",
       "\n",
       "Optimizer used: <function Adam at 0x000002961E9B98A0>\n",
       "Loss function: FlattenedLoss of CrossEntropyLoss()\n",
       "\n",
       "Model unfrozen\n",
       "\n",
       "Callbacks:\n",
       "  - TrainEvalCallback\n",
       "  - ModelResetter\n",
       "  - RNNCallback\n",
       "  - CastToTensor\n",
       "  - Recorder\n",
       "  - ProgressCallback"
      ]
     },
     "execution_count": 32,
     "metadata": {},
     "output_type": "execute_result"
    }
   ],
   "source": [
    "learn.summary()"
   ]
  },
  {
   "cell_type": "markdown",
   "metadata": {},
   "source": [
    "Найдём оптимальный коэффициент обучения, обучая модель в течение нескольких итераций и строя график потерь по отношению к коэффициентам обучения."
   ]
  },
  {
   "cell_type": "code",
   "execution_count": 33,
   "metadata": {},
   "outputs": [
    {
     "data": {
      "text/html": [
       "\n",
       "<style>\n",
       "    /* Turns off some styling */\n",
       "    progress {\n",
       "        /* gets rid of default border in Firefox and Opera. */\n",
       "        border: none;\n",
       "        /* Needs to be in here for Safari polyfill so background images work as expected. */\n",
       "        background-size: auto;\n",
       "    }\n",
       "    progress:not([value]), progress:not([value])::-webkit-progress-bar {\n",
       "        background: repeating-linear-gradient(45deg, #7e7e7e, #7e7e7e 10px, #5c5c5c 10px, #5c5c5c 20px);\n",
       "    }\n",
       "    .progress-bar-interrupted, .progress-bar-interrupted::-webkit-progress-bar {\n",
       "        background: #F44336;\n",
       "    }\n",
       "</style>\n"
      ],
      "text/plain": [
       "<IPython.core.display.HTML object>"
      ]
     },
     "metadata": {},
     "output_type": "display_data"
    },
    {
     "data": {
      "text/html": [],
      "text/plain": [
       "<IPython.core.display.HTML object>"
      ]
     },
     "metadata": {},
     "output_type": "display_data"
    },
    {
     "name": "stdout",
     "output_type": "stream",
     "text": [
      "Minimum lr: SuggestedLRs(valley=0.0002290867705596611)\n"
     ]
    },
    {
     "data": {
      "image/png": "[encoded data removed]",
      "text/plain": [
       "<Figure size 640x480 with 1 Axes>"
      ]
     },
     "metadata": {},
     "output_type": "display_data"
    }
   ],
   "source": [
    "lr_min = learn.lr_find()\n",
    "print(\"Minimum lr: \" + str(lr_min))"
   ]
  },
  {
   "cell_type": "markdown",
   "metadata": {},
   "source": [
    "## Шаг 2 подготовка датасета"
   ]
  },
  {
   "cell_type": "markdown",
   "metadata": {},
   "source": [
    "Нам нужно преобразовать наш текст в векторные представления (эмбеддинги). И для этого нам нужно создать словарь, который сопоставляет каждый токен с идентификаторами.\n"
   ]
  },
  {
   "cell_type": "markdown",
   "metadata": {},
   "source": [
    "0. Очистим текст"
   ]
  },
  {
   "cell_type": "markdown",
   "metadata": {},
   "source": [
    "Проведём удаление: \n",
    "ссылок, \n",
    "знаков препинания (исключая точку (.), запятую (,), дефис (-), восклицательный знак (!) и вопросительный знак (?))\n",
    "Удаление HTML-тегов\n",
    "Пробел между знаками препинания, потому что мы хотим рассматривать некоторые исключенные знаки препинания как отдельные токены.\n",
    "Удаление номера\n",
    "Удаление лишних пробелы\n",
    "Удаление символов nonascii\n",
    "Удаление смайликов"
   ]
  },
  {
   "cell_type": "code",
   "execution_count": 34,
   "metadata": {},
   "outputs": [
    {
     "data": {
      "text/html": [
       "<div>\n",
       "<style scoped>\n",
       "    .dataframe tbody tr th:only-of-type {\n",
       "        vertical-align: middle;\n",
       "    }\n",
       "\n",
       "    .dataframe tbody tr th {\n",
       "        vertical-align: top;\n",
       "    }\n",
       "\n",
       "    .dataframe thead th {\n",
       "        text-align: right;\n",
       "    }\n",
       "</style>\n",
       "<table border=\"1\" class=\"dataframe\">\n",
       "  <thead>\n",
       "    <tr style=\"text-align: right;\">\n",
       "      <th></th>\n",
       "      <th>Review</th>\n",
       "      <th>Rating</th>\n",
       "    </tr>\n",
       "  </thead>\n",
       "  <tbody>\n",
       "    <tr>\n",
       "      <th>0</th>\n",
       "      <td>3D Touch просто восхитительная вещь! Заряд держит целый день. В розовом цвете смотрится очень необычно. Touch ID очень быстрый и удобный. Всем советую этот телефон!</td>\n",
       "      <td>5</td>\n",
       "    </tr>\n",
       "    <tr>\n",
       "      <th>1</th>\n",
       "      <td>Отключается при температуре близкой к нулю, непонятно ведет себя батарея</td>\n",
       "      <td>4</td>\n",
       "    </tr>\n",
       "    <tr>\n",
       "      <th>2</th>\n",
       "      <td>В Apple окончательно решили не заморачиваться, делая незначительные изменения в телефоне, выдают эти изменения за инновации. На этот раз скопировали не только функционал, но и дизайн. Цена и была неадекватно завышена, а после скачка курса так и говорить об этом не приходится. Многие скажут, что и HD разрешения будет достаточно для такой диагонали, может так оно и есть, но аппарат позиционируется, как топовое решение, а в итоге получаем банальную экономию производителя, ведь что произойдёт с временем работы, если увеличить до FHD?! 1 гб оперативки тоже прошлый век! И не надо рассказывать ск...</td>\n",
       "      <td>3</td>\n",
       "    </tr>\n",
       "    <tr>\n",
       "      <th>3</th>\n",
       "      <td>Постарался наиболее ёмко и коротко описать все основные плюсы и минусы. Большим мне аппарат не показался, размеры - что надо. Внешний вид, как для меня, так 5-ка выглядит интереснее и солиднее.</td>\n",
       "      <td>4</td>\n",
       "    </tr>\n",
       "    <tr>\n",
       "      <th>4</th>\n",
       "      <td>Достойный телефон. Пользоваться одно удовольствие.</td>\n",
       "      <td>5</td>\n",
       "    </tr>\n",
       "  </tbody>\n",
       "</table>\n",
       "</div>"
      ],
      "text/plain": [
       "                                                                                                                                                                                                                                                                                                                                                                                                                                                                                                                                                                                                                    Review  \\\n",
       "0                                                                                                                                                                                                                                                                                                                                                                                                                                                     3D Touch просто восхитительная вещь! Заряд держит целый день. В розовом цвете смотрится очень необычно. Touch ID очень быстрый и удобный. Всем советую этот телефон!   \n",
       "1                                                                                                                                                                                                                                                                                                                                                                                                                                                                                                                                                 Отключается при температуре близкой к нулю, непонятно ведет себя батарея   \n",
       "2  В Apple окончательно решили не заморачиваться, делая незначительные изменения в телефоне, выдают эти изменения за инновации. На этот раз скопировали не только функционал, но и дизайн. Цена и была неадекватно завышена, а после скачка курса так и говорить об этом не приходится. Многие скажут, что и HD разрешения будет достаточно для такой диагонали, может так оно и есть, но аппарат позиционируется, как топовое решение, а в итоге получаем банальную экономию производителя, ведь что произойдёт с временем работы, если увеличить до FHD?! 1 гб оперативки тоже прошлый век! И не надо рассказывать ск...   \n",
       "3                                                                                                                                                                                                                                                                                                                                                                                                                        Постарался наиболее ёмко и коротко описать все основные плюсы и минусы. Большим мне аппарат не показался, размеры - что надо. Внешний вид, как для меня, так 5-ка выглядит интереснее и солиднее.   \n",
       "4                                                                                                                                                                                                                                                                                                                                                                                                                                                                                                                                                                       Достойный телефон. Пользоваться одно удовольствие.   \n",
       "\n",
       "   Rating  \n",
       "0       5  \n",
       "1       4  \n",
       "2       3  \n",
       "3       4  \n",
       "4       5  "
      ]
     },
     "execution_count": 34,
     "metadata": {},
     "output_type": "execute_result"
    }
   ],
   "source": [
    "data.head()"
   ]
  },
  {
   "cell_type": "code",
   "execution_count": 35,
   "metadata": {},
   "outputs": [
    {
     "name": "stderr",
     "output_type": "stream",
     "text": [
      "100%|███████████████████████████████████████████████████████████████████████| 321099/321099 [00:04<00:00, 72968.21it/s]\n"
     ]
    }
   ],
   "source": [
    "def rm_link(text):\n",
    "    return re.sub(r'https?://\\S+|www\\.\\S+', '', text)\n",
    "\n",
    "def rm_punct2(text):\n",
    "    return re.sub(r'[\\\"\\#\\$\\%\\&\\'\\(\\)\\*\\+\\/\\:\\;\\<\\=\\>\\@\\[\\\\\\]\\^\\_\\`\\{\\|\\}\\~]', ' ', text)\n",
    "\n",
    "def rm_html(text):\n",
    "    return re.sub(r'<[^>]+>', '', text)\n",
    "\n",
    "regex = re.compile(\"[А-ЯЁа-яёA-Za-z?!]+\")\n",
    "def get_words_only(text, regex=regex):\n",
    "    return \" \".join(regex.findall(text))\n",
    "\n",
    "def rm_nonascii(text):\n",
    "    return re.sub(r'[^\\x00-\\x7f]', r'', text)\n",
    "\n",
    "def rm_emoji(text):\n",
    "    emojis = re.compile(\n",
    "        '['\n",
    "        u'\\U0001F600-\\U0001F64F'\n",
    "        u'\\U0001F300-\\U0001F5FF'\n",
    "        u'\\U0001F680-\\U0001F6FF'\n",
    "        u'\\U0001F1E0-\\U0001F1FF'\n",
    "        u'\\U00002702-\\U000027B0'\n",
    "        u'\\U000024C2-\\U0001F251'\n",
    "        ']+',\n",
    "        flags=re.UNICODE\n",
    "    )\n",
    "    return emojis.sub(r'', text)\n",
    "\n",
    "#def spell_correction(text):\n",
    "#    return re.sub(r'(.)\\1+', r'\\1\\1', text)\n",
    "\n",
    "def clean_pipeline(text):    \n",
    "    no_link = rm_link(text)\n",
    "#    no_html = rm_html(no_link)\n",
    "#    space_punct = space_bt_punct(no_html)\n",
    "#    no_punct = rm_punct2(no_html)\n",
    "#    no_number = rm_number(no_punct)\n",
    "#    no_whitespaces = rm_whitespaces(no_number)\n",
    "#    no_nonasci = rm_nonascii(no_punct)\n",
    "#    no_emoji = rm_emoji(no_nonasci)\n",
    "    words_only = get_words_only(no_link)\n",
    "    return words_only\n",
    "\n",
    "data['clean'] = data['Review'].progress_apply(clean_pipeline)"
   ]
  },
  {
   "cell_type": "code",
   "execution_count": 36,
   "metadata": {},
   "outputs": [
    {
     "data": {
      "text/plain": [
       "0                                                                                                                                                                                                                                                                                                                                                                                                                                                           D Touch просто восхитительная вещь! Заряд держит целый день В розовом цвете смотрится очень необычно Touch ID очень быстрый и удобный Всем советую этот телефон!\n",
       "1                                                                                                                                                                                                                                                                                                                                                                                                                                                                                                                                                    Отключается при температуре близкой к нулю непонятно ведет себя батарея\n",
       "2    В Apple окончательно решили не заморачиваться делая незначительные изменения в телефоне выдают эти изменения за инновации На этот раз скопировали не только функционал но и дизайн Цена и была неадекватно завышена а после скачка курса так и говорить об этом не приходится Многие скажут что и HD разрешения будет достаточно для такой диагонали может так оно и есть но аппарат позиционируется как топовое решение а в итоге получаем банальную экономию производителя ведь что произойдёт с временем работы если увеличить до FHD?! гб оперативки тоже прошлый век! И не надо рассказывать сказки про великол...\n",
       "3                                                                                                                                                                                                                                                                                                                                                                                                                                    Постарался наиболее ёмко и коротко описать все основные плюсы и минусы Большим мне аппарат не показался размеры что надо Внешний вид как для меня так ка выглядит интереснее и солиднее\n",
       "4                                                                                                                                                                                                                                                                                                                                                                                                                                                                                                                                                                           Достойный телефон Пользоваться одно удовольствие\n",
       "Name: clean, dtype: object"
      ]
     },
     "execution_count": 36,
     "metadata": {},
     "output_type": "execute_result"
    }
   ],
   "source": [
    "data['clean'].head()"
   ]
  },
  {
   "cell_type": "markdown",
   "metadata": {},
   "source": [
    "Очистив текст, перейдем к предварительной обработке:\n",
    "\n",
    "Токенизация, где мы разбиваем текст по словам с помощью пакета nltk. \n",
    "Удаляем стоп-слова. Здесь мы будем использовать стоп-слова, предоставленные nltk. \n",
    "Лемматизация, когда мы преобразуем слова в их первоначальную форму, удаляя их суффикс."
   ]
  },
  {
   "cell_type": "code",
   "execution_count": 37,
   "metadata": {},
   "outputs": [
    {
     "data": {
      "text/plain": [
       "182"
      ]
     },
     "execution_count": 37,
     "metadata": {},
     "output_type": "execute_result"
    }
   ],
   "source": [
    "noise = stopwords.words('russian') + list(punctuation)+ ['``', \"''\",'--',\"//\", '/']\n",
    "len(noise)\n",
    "excl_list = ['хорошо', 'не', 'никогда','ничего', \"!\", 'нельзя' ]\n",
    "noise = [x for x in noise if x not in  excl_list]\n",
    "len(noise)"
   ]
  },
  {
   "cell_type": "code",
   "execution_count": 38,
   "metadata": {},
   "outputs": [
    {
     "name": "stderr",
     "output_type": "stream",
     "text": [
      "100%|█████████████████████████████████████████████████████████████████████████| 321099/321099 [19:28<00:00, 274.70it/s]\n"
     ]
    }
   ],
   "source": [
    "def tokenize(text):\n",
    "    return word_tokenize(text)\n",
    "\n",
    "def rm_stopwords(text):\n",
    "    return [i for i in text if i not in noise]\n",
    "\n",
    "\n",
    "def lemmatize_it(text):\n",
    "    lemmas = [morph.parse(word)[0].normal_form for word in text]\n",
    "    lemmatized_text = ' '.join(lemmas)\n",
    "    return  lemmatized_text\n",
    "\n",
    "#def lemmatize(text):\n",
    "#    lemmatizer = WordNetLemmatizer()    \n",
    "#    lemmas = [lemmatizer.lemmatize(t) for t in text]\n",
    "    # make sure lemmas does not contains sotpwords\n",
    "#    return rm_stopwords(lemmas)\n",
    "\n",
    "def preprocess_pipeline(text):\n",
    "    tokens = tokenize(text)\n",
    "    no_stopwords = rm_stopwords(tokens)\n",
    "    lemmas = lemmatize_it(no_stopwords)\n",
    "    return lemmas\n",
    "\n",
    "\n",
    "data['processed'] = data['clean'].progress_apply(preprocess_pipeline)"
   ]
  },
  {
   "cell_type": "code",
   "execution_count": 39,
   "metadata": {},
   "outputs": [
    {
     "data": {
      "text/plain": [
       "0                                                                                                                                                                                                                                                                                                                                                                                                                                                            d touch просто восхитительный вещь ! заряд держать целый день в розовый цвет смотреться очень необычно touch id очень быстрый удобный весь советовать телефон !\n",
       "1                                                                                                                                                                                                                                                                                                                                                                                                                                                                                                                                                               отключаться температура близкий нуль непонятно вести батарея\n",
       "2    в apple окончательно решить не заморачиваться делать незначительный изменение телефон выдавать изменение инновация на скопировать не функционал дизайн цена неадекватно завысить скачок курс говорить не приходиться многие сказать hd разрешение достаточно диагональ оно аппарат позиционироваться топовый решение итог получать банальный экономия производитель произойти время работа увеличить fhd ! гб оперативка прошлый век ! и не рассказывать сказка великолепный оптимизация ios чудо свет не бывать мало тот сказать не волновать технический характеристика смартфон главное хорошо работать телефон х...\n",
       "3                                                                                                                                                                                                                                                                                                                                                                                                                                                                            постараться наиболее ёмко коротко описать основной плюс минус больший аппарат не показаться размер внешний вид ка выглядеть интересный солидный\n",
       "4                                                                                                                                                                                                                                                                                                                                                                                                                                                                                                                                                                           достойный телефон пользоваться один удовольствие\n",
       "Name: processed, dtype: object"
      ]
     },
     "execution_count": 39,
     "metadata": {},
     "output_type": "execute_result"
    }
   ],
   "source": [
    "data['processed'].head()"
   ]
  },
  {
   "cell_type": "markdown",
   "metadata": {},
   "source": [
    "сохраняем предобработанный набор данных в новый CSV-файл для дальнейшего использования."
   ]
  },
  {
   "cell_type": "code",
   "execution_count": 40,
   "metadata": {},
   "outputs": [],
   "source": [
    "data[['processed', 'Rating']].to_csv(LOCAL_PATH +'data_processed.csv', index=False, header=True)"
   ]
  },
  {
   "cell_type": "code",
   "execution_count": 41,
   "metadata": {},
   "outputs": [
    {
     "data": {
      "text/html": [
       "<div>\n",
       "<style scoped>\n",
       "    .dataframe tbody tr th:only-of-type {\n",
       "        vertical-align: middle;\n",
       "    }\n",
       "\n",
       "    .dataframe tbody tr th {\n",
       "        vertical-align: top;\n",
       "    }\n",
       "\n",
       "    .dataframe thead th {\n",
       "        text-align: right;\n",
       "    }\n",
       "</style>\n",
       "<table border=\"1\" class=\"dataframe\">\n",
       "  <thead>\n",
       "    <tr style=\"text-align: right;\">\n",
       "      <th></th>\n",
       "      <th>Review</th>\n",
       "      <th>Rating</th>\n",
       "      <th>clean</th>\n",
       "      <th>processed</th>\n",
       "    </tr>\n",
       "  </thead>\n",
       "  <tbody>\n",
       "    <tr>\n",
       "      <th>0</th>\n",
       "      <td>3D Touch просто восхитительная вещь! Заряд держит целый день. В розовом цвете смотрится очень необычно. Touch ID очень быстрый и удобный. Всем советую этот телефон!</td>\n",
       "      <td>5</td>\n",
       "      <td>D Touch просто восхитительная вещь! Заряд держит целый день В розовом цвете смотрится очень необычно Touch ID очень быстрый и удобный Всем советую этот телефон!</td>\n",
       "      <td>d touch просто восхитительный вещь ! заряд держать целый день в розовый цвет смотреться очень необычно touch id очень быстрый удобный весь советовать телефон !</td>\n",
       "    </tr>\n",
       "    <tr>\n",
       "      <th>1</th>\n",
       "      <td>Отключается при температуре близкой к нулю, непонятно ведет себя батарея</td>\n",
       "      <td>4</td>\n",
       "      <td>Отключается при температуре близкой к нулю непонятно ведет себя батарея</td>\n",
       "      <td>отключаться температура близкий нуль непонятно вести батарея</td>\n",
       "    </tr>\n",
       "    <tr>\n",
       "      <th>2</th>\n",
       "      <td>В Apple окончательно решили не заморачиваться, делая незначительные изменения в телефоне, выдают эти изменения за инновации. На этот раз скопировали не только функционал, но и дизайн. Цена и была неадекватно завышена, а после скачка курса так и говорить об этом не приходится. Многие скажут, что и HD разрешения будет достаточно для такой диагонали, может так оно и есть, но аппарат позиционируется, как топовое решение, а в итоге получаем банальную экономию производителя, ведь что произойдёт с временем работы, если увеличить до FHD?! 1 гб оперативки тоже прошлый век! И не надо рассказывать ск...</td>\n",
       "      <td>3</td>\n",
       "      <td>В Apple окончательно решили не заморачиваться делая незначительные изменения в телефоне выдают эти изменения за инновации На этот раз скопировали не только функционал но и дизайн Цена и была неадекватно завышена а после скачка курса так и говорить об этом не приходится Многие скажут что и HD разрешения будет достаточно для такой диагонали может так оно и есть но аппарат позиционируется как топовое решение а в итоге получаем банальную экономию производителя ведь что произойдёт с временем работы если увеличить до FHD?! гб оперативки тоже прошлый век! И не надо рассказывать сказки про великол...</td>\n",
       "      <td>в apple окончательно решить не заморачиваться делать незначительный изменение телефон выдавать изменение инновация на скопировать не функционал дизайн цена неадекватно завысить скачок курс говорить не приходиться многие сказать hd разрешение достаточно диагональ оно аппарат позиционироваться топовый решение итог получать банальный экономия производитель произойти время работа увеличить fhd ! гб оперативка прошлый век ! и не рассказывать сказка великолепный оптимизация ios чудо свет не бывать мало тот сказать не волновать технический характеристика смартфон главное хорошо работать телефон х...</td>\n",
       "    </tr>\n",
       "    <tr>\n",
       "      <th>3</th>\n",
       "      <td>Постарался наиболее ёмко и коротко описать все основные плюсы и минусы. Большим мне аппарат не показался, размеры - что надо. Внешний вид, как для меня, так 5-ка выглядит интереснее и солиднее.</td>\n",
       "      <td>4</td>\n",
       "      <td>Постарался наиболее ёмко и коротко описать все основные плюсы и минусы Большим мне аппарат не показался размеры что надо Внешний вид как для меня так ка выглядит интереснее и солиднее</td>\n",
       "      <td>постараться наиболее ёмко коротко описать основной плюс минус больший аппарат не показаться размер внешний вид ка выглядеть интересный солидный</td>\n",
       "    </tr>\n",
       "    <tr>\n",
       "      <th>4</th>\n",
       "      <td>Достойный телефон. Пользоваться одно удовольствие.</td>\n",
       "      <td>5</td>\n",
       "      <td>Достойный телефон Пользоваться одно удовольствие</td>\n",
       "      <td>достойный телефон пользоваться один удовольствие</td>\n",
       "    </tr>\n",
       "  </tbody>\n",
       "</table>\n",
       "</div>"
      ],
      "text/plain": [
       "                                                                                                                                                                                                                                                                                                                                                                                                                                                                                                                                                                                                                    Review  \\\n",
       "0                                                                                                                                                                                                                                                                                                                                                                                                                                                     3D Touch просто восхитительная вещь! Заряд держит целый день. В розовом цвете смотрится очень необычно. Touch ID очень быстрый и удобный. Всем советую этот телефон!   \n",
       "1                                                                                                                                                                                                                                                                                                                                                                                                                                                                                                                                                 Отключается при температуре близкой к нулю, непонятно ведет себя батарея   \n",
       "2  В Apple окончательно решили не заморачиваться, делая незначительные изменения в телефоне, выдают эти изменения за инновации. На этот раз скопировали не только функционал, но и дизайн. Цена и была неадекватно завышена, а после скачка курса так и говорить об этом не приходится. Многие скажут, что и HD разрешения будет достаточно для такой диагонали, может так оно и есть, но аппарат позиционируется, как топовое решение, а в итоге получаем банальную экономию производителя, ведь что произойдёт с временем работы, если увеличить до FHD?! 1 гб оперативки тоже прошлый век! И не надо рассказывать ск...   \n",
       "3                                                                                                                                                                                                                                                                                                                                                                                                                        Постарался наиболее ёмко и коротко описать все основные плюсы и минусы. Большим мне аппарат не показался, размеры - что надо. Внешний вид, как для меня, так 5-ка выглядит интереснее и солиднее.   \n",
       "4                                                                                                                                                                                                                                                                                                                                                                                                                                                                                                                                                                       Достойный телефон. Пользоваться одно удовольствие.   \n",
       "\n",
       "   Rating  \\\n",
       "0       5   \n",
       "1       4   \n",
       "2       3   \n",
       "3       4   \n",
       "4       5   \n",
       "\n",
       "                                                                                                                                                                                                                                                                                                                                                                                                                                                                                                                                                                                                                     clean  \\\n",
       "0                                                                                                                                                                                                                                                                                                                                                                                                                                                         D Touch просто восхитительная вещь! Заряд держит целый день В розовом цвете смотрится очень необычно Touch ID очень быстрый и удобный Всем советую этот телефон!   \n",
       "1                                                                                                                                                                                                                                                                                                                                                                                                                                                                                                                                                  Отключается при температуре близкой к нулю непонятно ведет себя батарея   \n",
       "2  В Apple окончательно решили не заморачиваться делая незначительные изменения в телефоне выдают эти изменения за инновации На этот раз скопировали не только функционал но и дизайн Цена и была неадекватно завышена а после скачка курса так и говорить об этом не приходится Многие скажут что и HD разрешения будет достаточно для такой диагонали может так оно и есть но аппарат позиционируется как топовое решение а в итоге получаем банальную экономию производителя ведь что произойдёт с временем работы если увеличить до FHD?! гб оперативки тоже прошлый век! И не надо рассказывать сказки про великол...   \n",
       "3                                                                                                                                                                                                                                                                                                                                                                                                                                  Постарался наиболее ёмко и коротко описать все основные плюсы и минусы Большим мне аппарат не показался размеры что надо Внешний вид как для меня так ка выглядит интереснее и солиднее   \n",
       "4                                                                                                                                                                                                                                                                                                                                                                                                                                                                                                                                                                         Достойный телефон Пользоваться одно удовольствие   \n",
       "\n",
       "                                                                                                                                                                                                                                                                                                                                                                                                                                                                                                                                                                                                                 processed  \n",
       "0                                                                                                                                                                                                                                                                                                                                                                                                                                                          d touch просто восхитительный вещь ! заряд держать целый день в розовый цвет смотреться очень необычно touch id очень быстрый удобный весь советовать телефон !  \n",
       "1                                                                                                                                                                                                                                                                                                                                                                                                                                                                                                                                                             отключаться температура близкий нуль непонятно вести батарея  \n",
       "2  в apple окончательно решить не заморачиваться делать незначительный изменение телефон выдавать изменение инновация на скопировать не функционал дизайн цена неадекватно завысить скачок курс говорить не приходиться многие сказать hd разрешение достаточно диагональ оно аппарат позиционироваться топовый решение итог получать банальный экономия производитель произойти время работа увеличить fhd ! гб оперативка прошлый век ! и не рассказывать сказка великолепный оптимизация ios чудо свет не бывать мало тот сказать не волновать технический характеристика смартфон главное хорошо работать телефон х...  \n",
       "3                                                                                                                                                                                                                                                                                                                                                                                                                                                                          постараться наиболее ёмко коротко описать основной плюс минус больший аппарат не показаться размер внешний вид ка выглядеть интересный солидный  \n",
       "4                                                                                                                                                                                                                                                                                                                                                                                                                                                                                                                                                                         достойный телефон пользоваться один удовольствие  "
      ]
     },
     "execution_count": 41,
     "metadata": {},
     "output_type": "execute_result"
    }
   ],
   "source": [
    "#data = pd.read_csv(LOCAL_PATH +'data_processed.csv')\n",
    "data.head()"
   ]
  },
  {
   "cell_type": "markdown",
   "metadata": {},
   "source": [
    "## Очистка текста"
   ]
  },
  {
   "cell_type": "markdown",
   "metadata": {},
   "source": [
    "1. Создадим словарь"
   ]
  },
  {
   "cell_type": "code",
   "execution_count": 42,
   "metadata": {},
   "outputs": [
    {
     "data": {
      "text/plain": [
       "['d',\n",
       " 'touch',\n",
       " 'просто',\n",
       " 'восхитительный',\n",
       " 'вещь',\n",
       " '!',\n",
       " 'заряд',\n",
       " 'держать',\n",
       " 'целый',\n",
       " 'день']"
      ]
     },
     "execution_count": 42,
     "metadata": {},
     "output_type": "execute_result"
    }
   ],
   "source": [
    "reviews = data.processed.values\n",
    "words = ' '.join(reviews)\n",
    "words = words.split()\n",
    "\n",
    "words[:10]"
   ]
  },
  {
   "cell_type": "markdown",
   "metadata": {},
   "source": [
    "используем встроенную библиотеку python Counter, чтобы получить и подсчитать количество уникальных слов в отзывах. Затем индексируем наши уникальные слова с 1, потому что мы будем использовать индекс 0 для заполнения токена \\<PAD>"
   ]
  },
  {
   "cell_type": "code",
   "execution_count": 43,
   "metadata": {},
   "outputs": [],
   "source": [
    "counter = Counter(words)\n",
    "vocab = sorted(counter, key=counter.get, reverse=True)\n",
    "int2word = dict(enumerate(vocab, 1))\n",
    "int2word[0] = '<PAD>'\n",
    "word2int = {word: id for id, word in int2word.items()}"
   ]
  },
  {
   "cell_type": "markdown",
   "metadata": {},
   "source": [
    "2. Закодируем отзывы"
   ]
  },
  {
   "cell_type": "markdown",
   "metadata": {},
   "source": [
    "Закодируем отзывы, преобразовав каждый токен в соответствующий индекс в словаре, который мы только что создали."
   ]
  },
  {
   "cell_type": "code",
   "execution_count": 44,
   "metadata": {},
   "outputs": [
    {
     "name": "stderr",
     "output_type": "stream",
     "text": [
      "100%|███████████████████████████████████████████████████████████████████████| 321099/321099 [00:03<00:00, 99418.04it/s]"
     ]
    },
    {
     "name": "stdout",
     "output_type": "stream",
     "text": [
      "[672, 1647, 18, 5545, 420]\n",
      "[1049, 2263, 863, 2523, 1387]\n",
      "[7, 625, 1973, 156, 1]\n",
      "[1818, 2873, 20607, 4339, 829]\n",
      "[263, 2, 15, 43, 679]\n",
      "[48, 5211, 768]\n",
      "[50, 44, 118, 65, 568]\n",
      "[36, 5, 124, 103, 25]\n",
      "[375, 34, 15, 172, 48]\n",
      "[395, 181, 345, 4270, 4986]\n"
     ]
    },
    {
     "name": "stderr",
     "output_type": "stream",
     "text": [
      "\n"
     ]
    }
   ],
   "source": [
    "reviews_enc = [[word2int[word] for word in review.split()] for review in tqdm(reviews)]\n",
    "\n",
    "for i in range(10):\n",
    "    print(reviews_enc[i][:5])"
   ]
  },
  {
   "cell_type": "markdown",
   "metadata": {},
   "source": [
    "3. Дополним короткие обзоры и обрежем длинные отзывы\n"
   ]
  },
  {
   "cell_type": "markdown",
   "metadata": {},
   "source": [
    "мы успешно преобразовали токены в соответствующие идентификаторы.\n",
    "Но есть другая проблема: длина обзора иногда бывает разной. Нужно определить максимальную длину последовательности. Затем для каждого обзора, длина которого меньше предопределенной длины последовательности, мы добавим токен padding. В противном случае мы будем обрезать (trim) отзывы."
   ]
  },
  {
   "cell_type": "code",
   "execution_count": 45,
   "metadata": {
    "scrolled": true
   },
   "outputs": [
    {
     "data": {
      "text/plain": [
       "array([[  672,  1647,    18,  5545,   420,     3,   148,    63,   667,\n",
       "           13],\n",
       "       [ 1049,  2263,   863,  2523,  1387,  1390,    26,     0,     0,\n",
       "            0],\n",
       "       [    7,   625,  1973,   156,     1,  2146,   123,  1996,  1747,\n",
       "            2],\n",
       "       [ 1818,  2873, 20607,  4339,   829,   637,   130,   129,   154,\n",
       "           10],\n",
       "       [  263,     2,    15,    43,   679,     0,     0,     0,     0,\n",
       "            0],\n",
       "       [   48,  5211,   768,     0,     0,     0,     0,     0,     0,\n",
       "            0],\n",
       "       [   50,    44,   118,    65,   568,  2797,  1208,   377,    39,\n",
       "            1],\n",
       "       [   36,     5,   124,   103,    25,     3,     7,    44,   533,\n",
       "          159],\n",
       "       [  375,    34,    15,   172,    48,   768,   134,   215,   163,\n",
       "         5320],\n",
       "       [  395,   181,   345,  4270,  4986,   115,  2208,   768,    11,\n",
       "          172]])"
      ]
     },
     "execution_count": 45,
     "metadata": {},
     "output_type": "execute_result"
    }
   ],
   "source": [
    "def pad_features(reviews, pad_id, seq_length=128):\n",
    "    features = np.full((len(reviews), seq_length), pad_id, dtype=int)\n",
    "\n",
    "    for i, row in enumerate(reviews):\n",
    "        features[i, :len(row)] = np.array(row)[:seq_length]\n",
    "\n",
    "    return features\n",
    "\n",
    "seq_length = 256\n",
    "features = pad_features(reviews_enc, pad_id=word2int['<PAD>'], seq_length=seq_length)\n",
    "\n",
    "assert len(features) == len(reviews_enc)\n",
    "assert len(features[0]) == seq_length\n",
    "\n",
    "features[:10, :10]"
   ]
  },
  {
   "cell_type": "markdown",
   "metadata": {},
   "source": [
    "И даже здесь видно, как наш короткий отзыв дополнился нулями."
   ]
  },
  {
   "cell_type": "markdown",
   "metadata": {},
   "source": [
    "4. Разделим значения выборки на обучение/тест\n"
   ]
  },
  {
   "cell_type": "code",
   "execution_count": 46,
   "metadata": {},
   "outputs": [
    {
     "data": {
      "text/plain": [
       "array([4, 3, 2, ..., 4, 4, 4], dtype=int64)"
      ]
     },
     "execution_count": 46,
     "metadata": {},
     "output_type": "execute_result"
    }
   ],
   "source": [
    "labels = data.Rating.to_numpy()\n",
    "labels = labels - 1\n",
    "labels"
   ]
  },
  {
   "cell_type": "markdown",
   "metadata": {},
   "source": [
    "Делаем наборы train, validation и test!"
   ]
  },
  {
   "cell_type": "code",
   "execution_count": 47,
   "metadata": {},
   "outputs": [
    {
     "name": "stdout",
     "output_type": "stream",
     "text": [
      "Feature Shapes:\n",
      "===============\n",
      "Train set: (192659, 256)\n",
      "Validation set: (64220, 256)\n",
      "Test set: (64220, 256)\n"
     ]
    }
   ],
   "source": [
    "train_size = .6\n",
    "val_size = .5     \n",
    "\n",
    "split_id = int(len(features) * train_size)\n",
    "train_x, remain_x = features[:split_id], features[split_id:]\n",
    "train_y, remain_y = labels[:split_id], labels[split_id:]\n",
    "\n",
    "split_val_id = int(len(remain_x) * val_size)\n",
    "val_x, test_x = remain_x[:split_val_id], remain_x[split_val_id:]\n",
    "val_y, test_y = remain_y[:split_val_id], remain_y[split_val_id:]\n",
    "\n",
    "print('Feature Shapes:')\n",
    "print('===============')\n",
    "print('Train set: {}'.format(train_x.shape))\n",
    "print('Validation set: {}'.format(val_x.shape))\n",
    "print('Test set: {}'.format(test_x.shape))"
   ]
  },
  {
   "cell_type": "code",
   "execution_count": 48,
   "metadata": {
    "scrolled": true
   },
   "outputs": [
    {
     "name": "stdout",
     "output_type": "stream",
     "text": [
      "14550 22017 43764 98545 0\n",
      "4989 7549 15642 31368 0\n",
      "5172 7631 15832 30250 0\n"
     ]
    }
   ],
   "source": [
    "print(len(train_y[train_y == 1]), len(train_y[train_y == 2]), len(train_y[train_y == 3]), len(train_y[train_y == 4]), len(train_y[train_y == 5]))\n",
    "print( len(val_y[val_y == 1]), len(val_y[val_y == 2]), len(val_y[val_y == 3]), len(val_y[val_y == 4]), len(val_y[val_y == 5]))\n",
    "print(len(test_y[test_y == 1]), len(test_y[test_y == 2]), len(test_y[test_y == 3]), len(test_y[test_y == 4]), len(test_y[test_y == 5]))"
   ]
  },
  {
   "cell_type": "markdown",
   "metadata": {},
   "source": [
    "Соотношения разбились не идеально, но близко"
   ]
  },
  {
   "cell_type": "markdown",
   "metadata": {},
   "source": [
    "5. Подготовим загрузчик данных и пакеты"
   ]
  },
  {
   "cell_type": "markdown",
   "metadata": {},
   "source": [
    "передадим наш набор данных в TensorDataset, а затем в DataLoader."
   ]
  },
  {
   "cell_type": "code",
   "execution_count": 49,
   "metadata": {},
   "outputs": [],
   "source": [
    "batch_size = 256\n",
    "\n",
    "trainset = TensorDataset(torch.from_numpy(train_x), torch.from_numpy(train_y))\n",
    "validset = TensorDataset(torch.from_numpy(val_x), torch.from_numpy(val_y))\n",
    "testset = TensorDataset(torch.from_numpy(test_x), torch.from_numpy(test_y))\n",
    "\n",
    "trainloader = DataLoader(trainset, shuffle=True, batch_size=batch_size)\n",
    "valloader = DataLoader(validset, shuffle=True, batch_size=batch_size)\n",
    "testloader = DataLoader(testset, shuffle=True, batch_size=batch_size)\n"
   ]
  },
  {
   "cell_type": "markdown",
   "metadata": {},
   "source": [
    "Давайте посмотрим на наш только что созданный загрузчик.\n",
    "Здесь мы ожидаем, что размер X будет (batch_size, sequence_length), а размер Y будет (batch_size)"
   ]
  },
  {
   "cell_type": "code",
   "execution_count": 50,
   "metadata": {},
   "outputs": [
    {
     "name": "stdout",
     "output_type": "stream",
     "text": [
      "Sample batch size:  torch.Size([256, 256])\n",
      "Sample batch input: \n",
      " tensor([[  347,    40,   193,  ...,     0,     0,     0],\n",
      "        [    2,    30,   110,  ...,     0,     0,     0],\n",
      "        [   37,    30,   177,  ...,     0,     0,     0],\n",
      "        ...,\n",
      "        [    5,   112,   251,  ...,     0,     0,     0],\n",
      "        [    9,   998,   680,  ...,     0,     0,     0],\n",
      "        [   19, 13115,   245,  ...,     0,     0,     0]], dtype=torch.int32)\n",
      "\n",
      "Sample label size:  torch.Size([256])\n",
      "Sample label input: \n",
      " tensor([4, 4, 4, 3, 4, 3, 4, 4, 2, 4, 3, 3, 2, 4, 2, 4, 4, 4, 4, 4, 4, 4, 3, 4,\n",
      "        3, 2, 3, 4, 4, 3, 4, 3, 4, 4, 3, 3, 3, 0, 3, 4, 2, 3, 0, 1, 4, 4, 4, 4,\n",
      "        0, 2, 1, 1, 4, 2, 4, 4, 0, 4, 0, 4, 4, 3, 3, 4, 4, 4, 4, 3, 1, 4, 4, 3,\n",
      "        4, 3, 3, 4, 4, 2, 4, 4, 4, 4, 2, 4, 2, 3, 4, 4, 2, 4, 4, 4, 2, 4, 4, 4,\n",
      "        3, 0, 4, 4, 4, 4, 0, 4, 1, 0, 3, 2, 2, 4, 4, 4, 4, 4, 3, 2, 4, 3, 3, 0,\n",
      "        4, 4, 4, 2, 4, 3, 1, 2, 2, 3, 4, 4, 3, 4, 1, 4, 1, 2, 4, 4, 4, 4, 2, 2,\n",
      "        4, 3, 0, 1, 4, 3, 0, 4, 4, 3, 4, 3, 4, 4, 3, 4, 4, 3, 3, 3, 4, 4, 4, 2,\n",
      "        4, 4, 4, 1, 0, 4, 3, 3, 3, 2, 4, 4, 2, 4, 4, 0, 4, 1, 4, 4, 4, 4, 4, 4,\n",
      "        4, 4, 3, 4, 4, 4, 3, 3, 3, 2, 0, 4, 4, 4, 4, 0, 0, 4, 4, 4, 3, 2, 2, 3,\n",
      "        4, 2, 3, 3, 4, 3, 3, 1, 3, 2, 1, 4, 0, 0, 4, 4, 3, 4, 4, 4, 3, 4, 3, 4,\n",
      "        4, 4, 3, 1, 3, 4, 4, 3, 3, 4, 1, 3, 4, 3, 3, 1])\n"
     ]
    }
   ],
   "source": [
    "dataiter = iter(trainloader)\n",
    "x, y = next(dataiter)\n",
    "\n",
    "print('Sample batch size: ', x.size()) \n",
    "print('Sample batch input: \\n', x)\n",
    "print()\n",
    "print('Sample label size: ', y.size())\n",
    "print('Sample label input: \\n', y)"
   ]
  },
  {
   "cell_type": "markdown",
   "metadata": {},
   "source": [
    "## True CNN"
   ]
  },
  {
   "cell_type": "markdown",
   "metadata": {},
   "source": [
    "Будем использовать модель на основе CNN. EDA мы делали в прошлой части, есть дубликаты. Но в остальном наш датасет подготовлен"
   ]
  },
  {
   "cell_type": "markdown",
   "metadata": {},
   "source": [
    "Попробуем обучить простую CNN на векторах слов. С учётом того, что в коллекции 100К уникальных слов, и векторы получатся достаточно громоздкие, урежем коллекцию до 25К слов, для всех прочих заведя токен unk (unknown). Oбучающий сет у нас уже подготовлен и разбит.\n",
    "Опишем функцию подсчёта accuracy, а также функции обучения и применения сети:"
   ]
  },
  {
   "cell_type": "code",
   "execution_count": 62,
   "metadata": {},
   "outputs": [
    {
     "data": {
      "text/plain": [
       "['d',\n",
       " 'touch',\n",
       " 'просто',\n",
       " 'восхитительный',\n",
       " 'вещь',\n",
       " '!',\n",
       " 'заряд',\n",
       " 'держать',\n",
       " 'целый',\n",
       " 'день']"
      ]
     },
     "execution_count": 62,
     "metadata": {},
     "output_type": "execute_result"
    }
   ],
   "source": [
    "reviews = data.processed.values\n",
    "words = ' '.join(reviews)\n",
    "words = words.split()\n",
    "\n",
    "words[:10]"
   ]
  },
  {
   "cell_type": "code",
   "execution_count": 63,
   "metadata": {},
   "outputs": [],
   "source": [
    "counter = Counter(words)\n",
    "vocab = sorted(counter, key=counter.get, reverse=True)\n",
    "int2word = dict(enumerate(vocab, 1))\n",
    "int2word[0] = '<PAD>'\n",
    "word2int = {word: id for id, word in int2word.items()}"
   ]
  },
  {
   "cell_type": "code",
   "execution_count": 64,
   "metadata": {},
   "outputs": [],
   "source": [
    "# Кодируем отзывы на основе полученного словаря"
   ]
  },
  {
   "cell_type": "code",
   "execution_count": 65,
   "metadata": {},
   "outputs": [
    {
     "name": "stderr",
     "output_type": "stream",
     "text": [
      "100%|███████████████████████████████████████████████████████████████████████| 321099/321099 [00:03<00:00, 92785.35it/s]"
     ]
    },
    {
     "name": "stdout",
     "output_type": "stream",
     "text": [
      "[672, 1647, 18, 5545, 420]\n",
      "[1049, 2263, 863, 2523, 1387]\n",
      "[7, 625, 1973, 156, 1]\n",
      "[1818, 2873, 20607, 4339, 829]\n",
      "[263, 2, 15, 43, 679]\n"
     ]
    },
    {
     "name": "stderr",
     "output_type": "stream",
     "text": [
      "\n"
     ]
    }
   ],
   "source": [
    "reviews_enc = [[word2int[word] for word in review.split()] for review in tqdm(reviews)]\n",
    "\n",
    "for i in range(5):\n",
    "    print(reviews_enc[i][:5])"
   ]
  },
  {
   "cell_type": "code",
   "execution_count": 66,
   "metadata": {},
   "outputs": [
    {
     "data": {
      "text/plain": [
       "array([[  672,  1647,    18,  5545,   420,     3,   148,    63,   667,\n",
       "           13],\n",
       "       [ 1049,  2263,   863,  2523,  1387,  1390,    26,     0,     0,\n",
       "            0],\n",
       "       [    7,   625,  1973,   156,     1,  2146,   123,  1996,  1747,\n",
       "            2],\n",
       "       [ 1818,  2873, 20607,  4339,   829,   637,   130,   129,   154,\n",
       "           10],\n",
       "       [  263,     2,    15,    43,   679,     0,     0,     0,     0,\n",
       "            0],\n",
       "       [   48,  5211,   768,     0,     0,     0,     0,     0,     0,\n",
       "            0],\n",
       "       [   50,    44,   118,    65,   568,  2797,  1208,   377,    39,\n",
       "            1],\n",
       "       [   36,     5,   124,   103,    25,     3,     7,    44,   533,\n",
       "          159],\n",
       "       [  375,    34,    15,   172,    48,   768,   134,   215,   163,\n",
       "         5320],\n",
       "       [  395,   181,   345,  4270,  4986,   115,  2208,   768,    11,\n",
       "          172]])"
      ]
     },
     "execution_count": 66,
     "metadata": {},
     "output_type": "execute_result"
    }
   ],
   "source": [
    "def pad_features(reviews, pad_id, seq_length=128):\n",
    "    features = np.full((len(reviews), \n",
    "                        seq_length), \n",
    "                       pad_id, \n",
    "                       dtype=int)\n",
    "\n",
    "    for i, row in enumerate(reviews):\n",
    "        features[i, :len(row)] = np.array(row)[:seq_length]\n",
    "\n",
    "    return features\n",
    "\n",
    "seq_length = 256\n",
    "features = pad_features(reviews_enc, \n",
    "                        pad_id=word2int['<PAD>'], \n",
    "                        seq_length=seq_length)\n",
    "\n",
    "assert len(features) == len(reviews_enc)\n",
    "assert len(features[0]) == seq_length\n",
    "\n",
    "features[:10, :10]"
   ]
  },
  {
   "cell_type": "code",
   "execution_count": 67,
   "metadata": {},
   "outputs": [
    {
     "data": {
      "text/plain": [
       "array([5, 4, 3, ..., 5, 5, 5], dtype=int64)"
      ]
     },
     "execution_count": 67,
     "metadata": {},
     "output_type": "execute_result"
    }
   ],
   "source": [
    "labels = data.Rating.to_numpy()\n",
    "labels"
   ]
  },
  {
   "cell_type": "code",
   "execution_count": 68,
   "metadata": {},
   "outputs": [
    {
     "name": "stdout",
     "output_type": "stream",
     "text": [
      "[[0. 0. 0. 0. 1.]\n",
      " [0. 0. 0. 1. 0.]\n",
      " [0. 0. 1. 0. 0.]\n",
      " ...\n",
      " [0. 0. 0. 0. 1.]\n",
      " [0. 0. 0. 0. 1.]\n",
      " [0. 0. 0. 0. 1.]]\n"
     ]
    }
   ],
   "source": [
    "#from sklearn.preprocessing import OneHotEncoder\n",
    "\n",
    "# Создаем объект OneHotEncoder\n",
    "encoder = OneHotEncoder()\n",
    "\n",
    "# Применяем OneHotEncoder к вектору\n",
    "labels_onehot = encoder.fit_transform(labels.reshape(-1, 1)).toarray()\n",
    " \n",
    "print(labels_onehot)\n"
   ]
  },
  {
   "cell_type": "markdown",
   "metadata": {},
   "source": [
    "Попробуем обучить простую CNN на векторах слов. С учётом того, что в коллекции 100К уникальных слов, и векторы получатся достаточно громоздкие, урежем коллекцию до 25К слов, для всех прочих заведя токен unk (unknown). Кроме того, разобьём обучающий сет на обучение и валидацию для настройки параметров."
   ]
  },
  {
   "cell_type": "code",
   "execution_count": 69,
   "metadata": {},
   "outputs": [
    {
     "name": "stdout",
     "output_type": "stream",
     "text": [
      "Feature Shapes:\n",
      "===============\n",
      "Train set: (256879, 256)\n",
      "Validation set: (12844, 256)\n",
      "Test set: (51376, 256)\n"
     ]
    }
   ],
   "source": [
    "train_size = .8\n",
    "val_size = .2\n",
    "\n",
    "split_id = int(len(features) * train_size)\n",
    "train_x, remain_x = features[:split_id], features[split_id:]\n",
    "#train_y, remain_y = labels_onehot[:split_id], labels_onehot[split_id:]\n",
    "train_y, remain_y = labels[:split_id], labels[split_id:]\n",
    "split_val_id = int(len(remain_x) * val_size)\n",
    "val_x, test_x = remain_x[:split_val_id], remain_x[split_val_id:]\n",
    "val_y, test_y = remain_y[:split_val_id], remain_y[split_val_id:]\n",
    "\n",
    "print('Feature Shapes:')\n",
    "print('===============')\n",
    "print('Train set: {}'.format(train_x.shape))\n",
    "print('Validation set: {}'.format(val_x.shape))\n",
    "print('Test set: {}'.format(test_x.shape))"
   ]
  },
  {
   "cell_type": "code",
   "execution_count": 70,
   "metadata": {},
   "outputs": [
    {
     "name": "stdout",
     "output_type": "stream",
     "text": [
      "256879\n",
      "12844\n",
      "51376\n"
     ]
    }
   ],
   "source": [
    "print(len(train_y))\n",
    "print( len(val_y))\n",
    "print(len(test_y))"
   ]
  },
  {
   "cell_type": "markdown",
   "metadata": {},
   "source": [
    "Опишем функцию подсчёта mae, а также функции обучения и применения сети:"
   ]
  },
  {
   "cell_type": "code",
   "execution_count": 71,
   "metadata": {},
   "outputs": [],
   "source": [
    "def calc_mae(preds, y):\n",
    "    rounded_preds = torch.round(preds)\n",
    "    mae = torch.mean(torch.abs(rounded_preds - y).float())\n",
    "    return mae"
   ]
  },
  {
   "cell_type": "code",
   "execution_count": 80,
   "metadata": {},
   "outputs": [],
   "source": [
    "def train_func(model, iterator, optimizer, criterion):\n",
    "    epoch_loss = 0\n",
    "    epoch_mae  = 0\n",
    "\n",
    "    model.train()\n",
    "\n",
    "    for batch in iterator:\n",
    "        optimizer.zero_grad()\n",
    "\n",
    "        # predictions = model(batch[0].T.cuda()).squeeze(1)\n",
    "        predictions = model(batch[0].T).squeeze(1)\n",
    "\n",
    "        # loss = criterion(predictions.float(), \n",
    "        #                  batch[1].float().cuda())\n",
    "        loss = criterion(predictions.float(), \n",
    "                         batch[1].float())\n",
    "        \n",
    "        # acc = binary_accuracy(predictions.float(), \n",
    "        #                       batch[1].float().cuda())\n",
    "        mae = calc_mae(predictions.float(), batch[1].float())\n",
    "        \n",
    "        loss.backward()\n",
    "        optimizer.step()\n",
    "\n",
    "        epoch_loss += loss\n",
    "        epoch_mae += mae\n",
    "\n",
    "    return epoch_loss / len(iterator), epoch_mae / len(iterator)\n"
   ]
  },
  {
   "cell_type": "code",
   "execution_count": 82,
   "metadata": {},
   "outputs": [],
   "source": [
    "def evaluate_func(model, iterator, criterion):\n",
    "    epoch_loss = 0\n",
    "    epoch_mae = 0\n",
    "\n",
    "    model.eval()\n",
    "\n",
    "    with torch.no_grad():\n",
    "        for batch in iterator:\n",
    "            # predictions = model(batch[0].T.cuda()).squeeze(1)\n",
    "            predictions = model(batch[0].T).squeeze(1)\n",
    "\n",
    "            # loss = criterion(predictions.float(), \n",
    "            #                  batch[1].float().cuda())\n",
    "            loss = criterion(predictions.float(), \n",
    "                             batch[1].float())\n",
    "            \n",
    "            # acc = binary_accuracy(predictions.float(), \n",
    "            #                       batch[1].float().cuda())\n",
    "            mae = calc_mae(predictions.float(), batch[1].float())\n",
    "            \n",
    "            epoch_loss += loss\n",
    "            epoch_mae += mae\n",
    "\n",
    "    return epoch_loss / len(iterator), epoch_mae / len(iterator)\n"
   ]
  },
  {
   "cell_type": "markdown",
   "metadata": {},
   "source": [
    "Мы должны определить какая у нас «самая важная» n-грамма в каждом обзоре.Изначально нам это неизвестно. Посредством обратного распространения ошибки веса фильтров изменяются так, что всякий раз, когда наблюдаются определенные n-граммы, которые очень показательны для оценки тональности, выходной сигнал фильтра имеет «высокое» значение. Это «высокое» значение затем проходит через максимальный уровень пула, если оно является максимальным значением на выходе.\n",
    "\n",
    "Поскольку наша модель имеет 100 фильтров трех разных размеров, это означает, что у нас есть 300 различных n-грамм, которые модель считает важными. Мы объединяем их в один вектор и пропускаем через линейный слой, чтобы предсказать настроение. Мы можем думать о весах этого линейного слоя как о «взвешивании доказательств» каждого из 300 n-грамм и принятии окончательного решения.\n",
    "\n",
    "Для создания свёрточного слоя воспользуемся nn.Conv2d, in_channels в нашем случае один (текст), out_channels -- это число число фильтров и размер ядер всех фильтров. Каждый фильтр будет иметь размерность [n x размерность эмбеддинга], где n - размер обрабатываемой n-граммы.\n",
    "\n",
    "Важно, что предложения имели длину не меньше размера самого большого из используемых фильтров, для этого и добавили пэддинги в самое начало"
   ]
  },
  {
   "cell_type": "code",
   "execution_count": 74,
   "metadata": {},
   "outputs": [],
   "source": [
    "import torch\n",
    "import torch.nn as nn\n",
    "import torch.nn.functional as F\n",
    "\n",
    "class CNN(nn.Module):\n",
    "    def __init__(self, \n",
    "                 vocab_size,\n",
    "                 embedding_dim, \n",
    "                 n_filters, \n",
    "                 filter_sizes, \n",
    "                 output_dim, \n",
    "                 dropout):\n",
    "        \n",
    "        super().__init__()\n",
    "\n",
    "        self.embedding = nn.Embedding(vocab_size, \n",
    "                                      embedding_dim)\n",
    "        \n",
    "        self.conv_0 = nn.Conv2d(in_channels=1, \n",
    "                                out_channels=n_filters, \n",
    "                                kernel_size=(filter_sizes[0], \n",
    "                                             embedding_dim))\n",
    "        \n",
    "        self.conv_1 = nn.Conv2d(in_channels=1, \n",
    "                                out_channels=n_filters, \n",
    "                                kernel_size=(filter_sizes[1], \n",
    "                                             embedding_dim))\n",
    "        \n",
    "        self.conv_2 = nn.Conv2d(in_channels=1, \n",
    "                                out_channels=n_filters, \n",
    "                                kernel_size=(filter_sizes[2], \n",
    "                                             embedding_dim))\n",
    "        \n",
    "        self.fc = nn.Linear(len(filter_sizes) * n_filters, \n",
    "                            output_dim)\n",
    "        \n",
    "        self.dropout = nn.Dropout(dropout)\n",
    "\n",
    "    def forward(self, x):\n",
    "        #x = [sent len, batch size]\n",
    "        x = x.permute(1, 0)\n",
    "\n",
    "        #x = [batch size, sent len]\n",
    "        embedded = self.embedding(x)\n",
    "\n",
    "        #embedded = [batch size, sent len, emb dim]\n",
    "        embedded = embedded.unsqueeze(1)\n",
    "\n",
    "        #embedded = [batch size, 1, sent len, emb dim]\n",
    "        conved_0 = F.relu(self.conv_0(embedded).squeeze(3))\n",
    "        conved_1 = F.relu(self.conv_1(embedded).squeeze(3))\n",
    "        conved_2 = F.relu(self.conv_2(embedded).squeeze(3))\n",
    "\n",
    "        #conv_n = [batch size, n_filters, sent len - filter_sizes[n]]\n",
    "        pooled_0 = F.max_pool1d(conved_0, conved_0.shape[2]).squeeze(2)\n",
    "        pooled_1 = F.max_pool1d(conved_1, conved_1.shape[2]).squeeze(2)\n",
    "        pooled_2 = F.max_pool1d(conved_2, conved_2.shape[2]).squeeze(2)\n",
    "\n",
    "        #pooled_n = [batch size, n_filters]\n",
    "        cat = self.dropout(torch.cat((pooled_0, pooled_1, pooled_2), dim=1))\n",
    "\n",
    "        #cat = [batch size, n_filters * len(filter_sizes)]\n",
    "        return self.fc(cat)\n",
    "    \n",
    "    "
   ]
  },
  {
   "cell_type": "markdown",
   "metadata": {},
   "source": [
    "Сейчас мы  используем три фильтра.\n",
    "Построим словарь и загрузим предобученные эмбеддинги:"
   ]
  },
  {
   "cell_type": "code",
   "execution_count": 75,
   "metadata": {},
   "outputs": [],
   "source": [
    "\n",
    "batch_size  = 256\n",
    "\n",
    "trainset = TensorDataset(torch.from_numpy(train_x), \n",
    "                         torch.from_numpy(train_y))\n",
    "\n",
    "validset = TensorDataset(torch.from_numpy(val_x), \n",
    "                         torch.from_numpy(val_y))\n",
    "\n",
    "testset = TensorDataset(torch.from_numpy(test_x), \n",
    "                        torch.from_numpy(test_y))\n",
    "\n",
    "train_iterator = DataLoader(trainset, \n",
    "                            shuffle=True, \n",
    "                            batch_size=batch_size)\n",
    "\n",
    "valid_iterator = DataLoader(validset, \n",
    "                            shuffle=True, \n",
    "                            batch_size=batch_size)\n",
    "\n",
    "test_iterator = DataLoader(testset, \n",
    "                           shuffle=True, \n",
    "                           batch_size=batch_size)\n"
   ]
  },
  {
   "cell_type": "code",
   "execution_count": null,
   "metadata": {},
   "outputs": [],
   "source": []
  },
  {
   "cell_type": "code",
   "execution_count": 76,
   "metadata": {},
   "outputs": [],
   "source": [
    "\n",
    "INPUT_DIM = len(word2int)\n",
    "EMBEDDING_DIM = 100\n",
    "N_FILTERS = 100\n",
    "FILTER_SIZES = [3,4,5]\n",
    "OUTPUT_DIM = 1\n",
    "DROPOUT = 0.5\n",
    "\n",
    "model = CNN(INPUT_DIM, \n",
    "            EMBEDDING_DIM, \n",
    "            N_FILTERS, \n",
    "            FILTER_SIZES, \n",
    "            OUTPUT_DIM, \n",
    "            DROPOUT)\n"
   ]
  },
  {
   "cell_type": "code",
   "execution_count": 77,
   "metadata": {},
   "outputs": [
    {
     "data": {
      "text/plain": [
       "CNN(\n",
       "  (embedding): Embedding(112799, 100)\n",
       "  (conv_0): Conv2d(1, 100, kernel_size=(3, 100), stride=(1, 1))\n",
       "  (conv_1): Conv2d(1, 100, kernel_size=(4, 100), stride=(1, 1))\n",
       "  (conv_2): Conv2d(1, 100, kernel_size=(5, 100), stride=(1, 1))\n",
       "  (fc): Linear(in_features=300, out_features=1, bias=True)\n",
       "  (dropout): Dropout(p=0.5, inplace=False)\n",
       ")"
      ]
     },
     "execution_count": 77,
     "metadata": {},
     "output_type": "execute_result"
    }
   ],
   "source": [
    "optimizer = torch.optim.Adam(model.parameters(), lr=0.001, betas=(0.8, 0.9), eps=1e-7)\n",
    "criterion = torch.nn.MSELoss()\n",
    "\n",
    "#model = model.cuda()\n",
    "#model = model.to('mps')\n",
    "model"
   ]
  },
  {
   "cell_type": "code",
   "execution_count": 84,
   "metadata": {},
   "outputs": [
    {
     "name": "stdout",
     "output_type": "stream",
     "text": [
      "Epoch: 01, Train Loss: 0.900, Train Mae: 70.05%, Val. Loss: 0.899, Val. Mae: 74.32%\n",
      "Epoch: 02, Train Loss: 0.849, Train Mae: 67.40%, Val. Loss: 0.829, Val. Mae: 64.68%\n",
      "Epoch: 03, Train Loss: 0.808, Train Mae: 65.24%, Val. Loss: 0.816, Val. Mae: 66.33%\n",
      "Epoch: 04, Train Loss: 0.767, Train Mae: 63.09%, Val. Loss: 0.802, Val. Mae: 64.02%\n",
      "Epoch: 05, Train Loss: 0.732, Train Mae: 61.09%, Val. Loss: 0.806, Val. Mae: 63.52%\n",
      "Epoch: 06, Train Loss: 0.700, Train Mae: 59.31%, Val. Loss: 0.792, Val. Mae: 62.64%\n",
      "Epoch: 07, Train Loss: 0.672, Train Mae: 57.64%, Val. Loss: 0.795, Val. Mae: 62.70%\n",
      "Epoch: 08, Train Loss: 0.649, Train Mae: 56.23%, Val. Loss: 0.799, Val. Mae: 64.07%\n",
      "Epoch: 09, Train Loss: 0.632, Train Mae: 55.23%, Val. Loss: 0.791, Val. Mae: 61.60%\n",
      "Epoch: 10, Train Loss: 0.615, Train Mae: 54.36%, Val. Loss: 0.795, Val. Mae: 61.73%\n"
     ]
    }
   ],
   "source": [
    "\n",
    "N_EPOCHS = 10\n",
    "\n",
    "for epoch in range(N_EPOCHS):\n",
    "    train_loss, train_mae = train_func(model, \n",
    "                                       train_iterator, \n",
    "                                       optimizer, \n",
    "                                       criterion)\n",
    "    \n",
    "    valid_loss, valid_mae = evaluate_func(model, \n",
    "                                          valid_iterator, \n",
    "                                          criterion)\n",
    "    \n",
    "    train_msg = f'Epoch: {epoch+1:02}, '\n",
    "    train_msg += f'Train Loss: {train_loss:.3f}, '\n",
    "    train_msg += f'Train Mae: {train_mae*100:.2f}%, '\n",
    "    train_msg += f'Val. Loss: {valid_loss:.3f}, '\n",
    "    train_msg += f'Val. Mae: {valid_mae*100:.2f}%'\n",
    "    \n",
    "    print(train_msg)\n",
    "    "
   ]
  },
  {
   "cell_type": "markdown",
   "metadata": {},
   "source": [
    "И получилась какая-то ерунда,  я не смогла настроить мультиклассовый вывод корректно ни в rnn, ни в cnn. Но всё относительно, с другой стороны - метрика растёт, лосс падает ))))))))))))) - учится модель... чему-то.\n",
    "\n",
    "С третьей эпохи и этому перестала учиться."
   ]
  },
  {
   "cell_type": "code",
   "execution_count": 85,
   "metadata": {},
   "outputs": [
    {
     "name": "stdout",
     "output_type": "stream",
     "text": [
      "Test Loss: 0.825, Test Acc: 11823.44%\n"
     ]
    }
   ],
   "source": [
    "\n",
    "test_loss , test_mae = evaluate_func(model, \n",
    "                                     test_iterator, \n",
    "                                     criterion)\n",
    "\n",
    "print(f'Test Loss: {test_loss:.3f}, Test Acc: {test_acc*100:.2f}%')\n"
   ]
  },
  {
   "cell_type": "markdown",
   "metadata": {},
   "source": [
    "## Общий вывод"
   ]
  },
  {
   "cell_type": "markdown",
   "metadata": {},
   "source": [
    "По итогу настроен мультиклассовый вывод в rnn и в cnn. \n",
    "Для CNN использовался пэддинг с заполнением 0 до нужного размера вектора.\n",
    "Лучшей моделью в разделе нейросетей стала модель на RNN AWD_LSTM, настроенная fastai. mae тест NN:  0.6234"
   ]
  },
  {
   "attachments": {
    "image.png": {
     "image/png": "[encoded data removed]"
    }
   },
   "cell_type": "markdown",
   "metadata": {},
   "source": [
    "Модель дообучена с помощью метода fine_tune на 5 эпохах. В методе fine_tune, сначала обучается только голова модели (новый слой, добавленный в конец предварительно обученной модели) на одну эпоху, а затем весь остальной корпус модели на количество эпох, указанных в аргументе (в данном случае - 5).\n",
    "\n",
    "```\n",
    "epoch\ttrain_loss\tvalid_loss\ttime\n",
    "0\t1.339209\t1.325577\t39:45\n",
    "epoch\ttrain_loss\tvalid_loss\ttime\n",
    "0\t1.341249\t1.305920\t1:57:10\n",
    "1\t1.126364\t1.085239\t1:55:28\n",
    "2\t1.063351\t1.027579\t1:56:03\n",
    "3\t1.026945\t1.006191\t1:58:54\n",
    "4\t1.017280\t1.000489\t1:56:25\n",
    "```\n",
    "Ранее модель обучалась на 8 эпохах, но начиная с пятой не показывала улучшения.\n",
    "\n",
    "Матрица ошибок:\n",
    "![image.png](attachment:image.png)"
   ]
  },
  {
   "cell_type": "markdown",
   "metadata": {},
   "source": [
    "И мы видим, что пятый таргет, которого преизрядно больше, растаскивает всех. Это хорошо видно как на матрице, так и в списке кортежей, содержащих наиболее смутные категории.\n",
    "```\n",
    "[(4, 5, 15241),\n",
    " (3, 5, 3674),\n",
    " (5, 4, 2861),\n",
    " (3, 4, 2441),\n",
    " (2, 3, 1981),\n",
    " (2, 1, 1790),\n",
    " (4, 3, 1517),\n",
    " (1, 3, 1483),\n",
    " (2, 5, 1361),\n",
    " (3, 1, 1057),\n",
    " (1, 5, 953),\n",
    " (2, 4, 943),\n",
    " (5, 3, 914),\n",
    " (1, 2, 871),\n",
    " (3, 2, 781),\n",
    " (1, 4, 552),\n",
    " (4, 1, 274),\n",
    " (5, 1, 237),\n",
    " (4, 2, 220),\n",
    " (5, 2, 90)]\n",
    " ```\n",
    " Сильнее всего перепутаны 4 > 5, 3 > 5 и 5> 4.\n",
    " \n",
    " Меньше всего уходов из 5 и 4 во 2 и из 5 и 4 в первую группы.\n",
    " **mae тест NN:  0.6270206463882483**\n",
    " \n",
    "**Summary NN**\n",
    "\n",
    "\n",
    "```\n",
    "SequentialRNN (Input shape: 64 x 3046)\n",
    "============================================================================\n",
    "Layer (type)         Output Shape         Param #    Trainable \n",
    "============================================================================\n",
    "                     64 x 22 x 1152      \n",
    "LSTM                                                           \n",
    "LSTM                                                           \n",
    "____________________________________________________________________________\n",
    "                     64 x 22 x 400       \n",
    "LSTM                                                           \n",
    "RNNDropout                                                     \n",
    "RNNDropout                                                     \n",
    "RNNDropout                                                     \n",
    "BatchNorm1d                               2400       True      \n",
    "Dropout                                                        \n",
    "____________________________________________________________________________\n",
    "                     64 x 50             \n",
    "Linear                                    60000      True      \n",
    "ReLU                                                           \n",
    "BatchNorm1d                               100        True      \n",
    "Dropout                                                        \n",
    "____________________________________________________________________________\n",
    "                     64 x 5              \n",
    "Linear                                    250        True      \n",
    "____________________________________________________________________________\n",
    "\n",
    "Total params: 62,750\n",
    "Total trainable params: 62,750\n",
    "Total non-trainable params: 0\n",
    "\n",
    "Optimizer used: <function Adam at 0x0000021A730E3060>\n",
    "Loss function: FlattenedLoss of CrossEntropyLoss()\n",
    "\n",
    "Model unfrozen\n",
    "\n",
    "Callbacks:\n",
    "  - TrainEvalCallback\n",
    "  - ModelResetter\n",
    "  - RNNCallback\n",
    "  - CastToTensor\n",
    "  - Recorder\n",
    "  - ProgressCallback\n",
    "  ```\n",
    " И напомню, что нейронки не побили рекорд кэтбуста:\n",
    " \n",
    " ```\n",
    "              precision    recall  f1-score   support\n",
    "\n",
    "           1       0.58      0.62      0.60      8652\n",
    "           2       0.56      0.37      0.45      8867\n",
    "           3       0.52      0.43      0.47     13286\n",
    "           4       0.58      0.42      0.49     26766\n",
    "           5       0.74      0.89      0.81     56888\n",
    "\n",
    "    accuracy                           0.67    114459\n",
    "   macro avg       0.60      0.55      0.56    114459\n",
    "weighted avg       0.65      0.67      0.65    114459\n",
    "\n",
    "\n",
    "Confusion Matrix\n",
    "\n",
    "[[ 5324   884   875   373  1196]\n",
    " [ 1819  3276  1526   850  1396]\n",
    " [ 1103   941  5700  2760  2782]\n",
    " [  439   455  1925 11335 12612]\n",
    " [  489   278   919  4371 50831]]\n",
    "AUC ROC train:  0.9192170869853197\n",
    "AUC ROC test:  0.8824268248228012\n",
    "Root Mean Squared Error на тестовой выборке: 0.9537116287161846\n",
    "Mean Absolute Error на тестовой выборке: 0.48055635642457123\n",
    "R2 на тестовой выборке: 0.43268465814893353\n",
    "```\n",
    "Кэтбуст становится победителем и выгружается для создания приложения на streamlit для получения цифровой оценки отзыва"
   ]
  }
 ],
 "metadata": {
  "celltoolbar": "Slideshow",
  "colab": {
   "name": "nlp_intro_1.ipynb",
   "provenance": []
  },
  "kernelspec": {
   "display_name": "Python (nlpenv)",
   "language": "python",
   "name": "nlpenv"
  },
  "language_info": {
   "codemirror_mode": {
    "name": "ipython",
    "version": 3
   },
   "file_extension": ".py",
   "mimetype": "text/x-python",
   "name": "python",
   "nbconvert_exporter": "python",
   "pygments_lexer": "ipython3",
   "version": "3.11.9"
  },
  "toc": {
   "base_numbering": 1,
   "nav_menu": {
    "height": "482px",
    "width": "399.205px"
   },
   "number_sections": true,
   "sideBar": true,
   "skip_h1_title": false,
   "title_cell": "Table of Contents",
   "title_sidebar": "Contents",
   "toc_cell": false,
   "toc_position": {},
   "toc_section_display": true,
   "toc_window_display": false
  }
 },
 "nbformat": 4,
 "nbformat_minor": 4
}
